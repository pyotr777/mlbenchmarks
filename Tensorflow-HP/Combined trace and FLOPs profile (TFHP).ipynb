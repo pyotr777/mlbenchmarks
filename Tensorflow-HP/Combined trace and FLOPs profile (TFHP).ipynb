{
 "cells": [
  {
   "cell_type": "markdown",
   "metadata": {},
   "source": [
    "# Tensorflow HP benchmark\n",
    "## flop_sp_efficiency profile and combined trace"
   ]
  },
  {
   "cell_type": "markdown",
   "metadata": {},
   "source": [
    "## flop_sp_efficiency"
   ]
  },
  {
   "cell_type": "markdown",
   "metadata": {},
   "source": [
    "Profiled on g3.4xlarge (M60), CUDA9.0\n",
    "```\n",
    "$ nvprof --csv --log-file cifar_M60_flops.csv --metrics flop_dp_efficiency,flop_sp_efficiency python benchmarks/scripts/tf_cnn_benchmarks/tf_cnn_benchmarks.py --num_gpus=1 --batch_size=32 --model=resnet50 --num_batches=1\n",
    "```"
   ]
  },
  {
   "cell_type": "code",
   "execution_count": 2,
   "metadata": {},
   "outputs": [],
   "source": [
    "%matplotlib inline\n",
    "import re\n",
    "import numpy as np\n",
    "import matplotlib\n",
    "#matplotlib.use(\"Agg\")\n",
    "import matplotlib.pyplot as plt\n",
    "import os.path\n",
    "import datetime\n",
    "from cycler import cycler\n",
    "import pandas as pd"
   ]
  },
  {
   "cell_type": "code",
   "execution_count": null,
   "metadata": {},
   "outputs": [],
   "source": [
    "filename_nvprof_flops_chainer = \"cifar_M60_flops.csv\"\n",
    "\n",
    "maxrows = None\n"
   ]
  },
  {
   "cell_type": "code",
   "execution_count": null,
   "metadata": {},
   "outputs": [],
   "source": [
    "file1 = filename_nvprof_flops_chainer\n",
    "print \"Reading\",file1\n",
    "\n",
    "# columns = [time_field_index, duration_field_index,size_field_index, throughput_field_index,\n",
    "#            src_field_index, dst_field_index,\n",
    "#            context_index, stream_index,\n",
    "#            name_field_index]\n"
   ]
  },
  {
   "cell_type": "code",
   "execution_count": null,
   "metadata": {},
   "outputs": [],
   "source": [
    "print file1\n",
    "df = pd.read_csv(file1, header = 0, skiprows=[0,1], nrows = maxrows)\n",
    "print df.shape"
   ]
  },
  {
   "cell_type": "code",
   "execution_count": null,
   "metadata": {},
   "outputs": [],
   "source": [
    "df.iloc[:3]"
   ]
  },
  {
   "cell_type": "markdown",
   "metadata": {},
   "source": [
    "#### Parse data to float"
   ]
  },
  {
   "cell_type": "code",
   "execution_count": null,
   "metadata": {},
   "outputs": [],
   "source": [
    "pat = re.compile(\"[0-9\\.]+\")\n",
    "# Extract float number from a string\n",
    "def parseFloat(s):\n",
    "    global pat\n",
    "    if type(s) is not str:\n",
    "        return s\n",
    "    f = pat.search(s)\n",
    "    if f is not None:\n",
    "        d = float(f.group())\n",
    "        return d\n",
    "    return None"
   ]
  },
  {
   "cell_type": "code",
   "execution_count": null,
   "metadata": {},
   "outputs": [],
   "source": [
    "df[['Min','Max','Avg']] = df[['Min','Max','Avg']].applymap(parseFloat)"
   ]
  },
  {
   "cell_type": "code",
   "execution_count": null,
   "metadata": {},
   "outputs": [],
   "source": [
    "df.iloc[:3]"
   ]
  },
  {
   "cell_type": "markdown",
   "metadata": {},
   "source": [
    "### Aggregate values for min, max and avg for all kernels\n",
    "\n",
    "#### Remove unused columns"
   ]
  },
  {
   "cell_type": "code",
   "execution_count": null,
   "metadata": {},
   "outputs": [],
   "source": [
    "df_parts = df.drop(columns = ['Device', 'Kernel', 'Invocations', 'Metric Description']).fillna(0)\n",
    "df_parts.iloc[:3]"
   ]
  },
  {
   "cell_type": "markdown",
   "metadata": {},
   "source": [
    "#### Remove >100 values\n",
    "\n",
    "\"--replay-mode application\" option produces invalid values for some kernels"
   ]
  },
  {
   "cell_type": "code",
   "execution_count": null,
   "metadata": {},
   "outputs": [],
   "source": [
    "df_valid = df_parts[(df_parts['Max'] <= 100) & (df_parts['Avg'] <= 100) & (df_parts['Min'] <= 100)]\n",
    "df_valid.iloc[:3]"
   ]
  },
  {
   "cell_type": "markdown",
   "metadata": {},
   "source": [
    "#### Remove all-zero rows"
   ]
  },
  {
   "cell_type": "code",
   "execution_count": null,
   "metadata": {},
   "outputs": [],
   "source": [
    "df_nonzero = df_valid[(df_valid['Max'] != 0) & (df_valid['Avg'] != 0) & (df_valid['Min'] != 0)]"
   ]
  },
  {
   "cell_type": "code",
   "execution_count": null,
   "metadata": {},
   "outputs": [],
   "source": [
    "df_nonzero.iloc[:3]"
   ]
  },
  {
   "cell_type": "markdown",
   "metadata": {},
   "source": [
    "### Plot distribution"
   ]
  },
  {
   "cell_type": "code",
   "execution_count": null,
   "metadata": {},
   "outputs": [],
   "source": [
    "df_nonzero.hist(layout=(3,1),sharex=True)"
   ]
  },
  {
   "cell_type": "code",
   "execution_count": null,
   "metadata": {},
   "outputs": [],
   "source": []
  },
  {
   "cell_type": "markdown",
   "metadata": {},
   "source": [
    "### Aggregate values for Min, Max and Avg"
   ]
  },
  {
   "cell_type": "code",
   "execution_count": null,
   "metadata": {},
   "outputs": [],
   "source": [
    "df_piv = pd.pivot_table(df_nonzero, values=['Min','Max','Avg'], index='Metric Name',\n",
    "                        aggfunc={'Min':np.min, 'Max':np.max, 'Avg':np.mean})\n",
    "df_piv"
   ]
  },
  {
   "cell_type": "code",
   "execution_count": null,
   "metadata": {},
   "outputs": [],
   "source": [
    "df_piv_mean = pd.pivot_table(df_nonzero, values=['Min','Max','Avg'], index='Metric Name',\n",
    "                        aggfunc={'Min':np.mean, 'Max':np.mean, 'Avg':np.mean})\n",
    "df_piv_mean"
   ]
  },
  {
   "cell_type": "markdown",
   "metadata": {},
   "source": [
    "\n",
    "<div style=\"display:block;margin:50px;font-size:200%;line-height:200%;\">\n",
    "    Maximum SP efficiency for Cifar100 sample is 82%.<br>\n",
    "    Average: ≈16%.\n",
    "</div>"
   ]
  },
  {
   "cell_type": "code",
   "execution_count": null,
   "metadata": {},
   "outputs": [],
   "source": []
  },
  {
   "cell_type": "markdown",
   "metadata": {},
   "source": [
    "# Plot combined profiling"
   ]
  },
  {
   "cell_type": "code",
   "execution_count": 69,
   "metadata": {},
   "outputs": [],
   "source": [
    "time_field_index = 0\n",
    "duration_field_index = 1\n",
    "SSMem_field_index = 9\n",
    "DSMem_field_index = 10\n",
    "size_field_index = 11\n",
    "throughput_field_index = 12\n",
    "src_field_index = 13\n",
    "dst_field_index = 14\n",
    "context_index = 16\n",
    "stream_index = 17\n",
    "name_field_index = 18\n",
    "\n",
    "title_pattern = re.compile(\"^(Start|s).*\")\n",
    "cuda_pattern = re.compile(\"\\[CUDA .*\\]\")\n",
    "\n",
    "columns = [time_field_index, duration_field_index,\n",
    "           size_field_index, throughput_field_index,\n",
    "           src_field_index, dst_field_index,\n",
    "           context_index, stream_index,\n",
    "           name_field_index]\n",
    "\n",
    "maxrows = None"
   ]
  },
  {
   "cell_type": "code",
   "execution_count": 70,
   "metadata": {},
   "outputs": [
    {
     "data": {
      "text/html": [
       "<div>\n",
       "<style scoped>\n",
       "    .dataframe tbody tr th:only-of-type {\n",
       "        vertical-align: middle;\n",
       "    }\n",
       "\n",
       "    .dataframe tbody tr th {\n",
       "        vertical-align: top;\n",
       "    }\n",
       "\n",
       "    .dataframe thead th {\n",
       "        text-align: right;\n",
       "    }\n",
       "</style>\n",
       "<table border=\"1\" class=\"dataframe\">\n",
       "  <thead>\n",
       "    <tr style=\"text-align: right;\">\n",
       "      <th></th>\n",
       "      <th>Start</th>\n",
       "      <th>Duration</th>\n",
       "      <th>Size</th>\n",
       "      <th>Throughput</th>\n",
       "      <th>SrcMemType</th>\n",
       "      <th>DstMemType</th>\n",
       "      <th>Context</th>\n",
       "      <th>Stream</th>\n",
       "      <th>Name</th>\n",
       "    </tr>\n",
       "  </thead>\n",
       "  <tbody>\n",
       "    <tr>\n",
       "      <th>10036</th>\n",
       "      <td>8.945366</td>\n",
       "      <td>0.001632</td>\n",
       "      <td>NaN</td>\n",
       "      <td>NaN</td>\n",
       "      <td>NaN</td>\n",
       "      <td>NaN</td>\n",
       "      <td>1</td>\n",
       "      <td>14</td>\n",
       "      <td>void Eigen::internal::EigenMetaKernel&lt;Eigen::T...</td>\n",
       "    </tr>\n",
       "    <tr>\n",
       "      <th>10037</th>\n",
       "      <td>8.945370</td>\n",
       "      <td>0.002688</td>\n",
       "      <td>NaN</td>\n",
       "      <td>NaN</td>\n",
       "      <td>NaN</td>\n",
       "      <td>NaN</td>\n",
       "      <td>1</td>\n",
       "      <td>14</td>\n",
       "      <td>void Eigen::internal::EigenMetaKernel&lt;Eigen::T...</td>\n",
       "    </tr>\n",
       "    <tr>\n",
       "      <th>10038</th>\n",
       "      <td>8.945375</td>\n",
       "      <td>0.002016</td>\n",
       "      <td>NaN</td>\n",
       "      <td>NaN</td>\n",
       "      <td>NaN</td>\n",
       "      <td>NaN</td>\n",
       "      <td>1</td>\n",
       "      <td>14</td>\n",
       "      <td>_ZN5Eigen8internal15EigenMetaKernelINS_15Tenso...</td>\n",
       "    </tr>\n",
       "    <tr>\n",
       "      <th>10039</th>\n",
       "      <td>8.945379</td>\n",
       "      <td>0.001632</td>\n",
       "      <td>NaN</td>\n",
       "      <td>NaN</td>\n",
       "      <td>NaN</td>\n",
       "      <td>NaN</td>\n",
       "      <td>1</td>\n",
       "      <td>14</td>\n",
       "      <td>_ZN5Eigen8internal15EigenMetaKernelINS_15Tenso...</td>\n",
       "    </tr>\n",
       "    <tr>\n",
       "      <th>10040</th>\n",
       "      <td>8.945383</td>\n",
       "      <td>0.002720</td>\n",
       "      <td>NaN</td>\n",
       "      <td>NaN</td>\n",
       "      <td>NaN</td>\n",
       "      <td>NaN</td>\n",
       "      <td>1</td>\n",
       "      <td>14</td>\n",
       "      <td>_ZN5Eigen8internal15EigenMetaKernelINS_15Tenso...</td>\n",
       "    </tr>\n",
       "  </tbody>\n",
       "</table>\n",
       "</div>"
      ],
      "text/plain": [
       "          Start  Duration  Size  Throughput SrcMemType DstMemType  Context  \\\n",
       "10036  8.945366  0.001632   NaN         NaN        NaN        NaN        1   \n",
       "10037  8.945370  0.002688   NaN         NaN        NaN        NaN        1   \n",
       "10038  8.945375  0.002016   NaN         NaN        NaN        NaN        1   \n",
       "10039  8.945379  0.001632   NaN         NaN        NaN        NaN        1   \n",
       "10040  8.945383  0.002720   NaN         NaN        NaN        NaN        1   \n",
       "\n",
       "       Stream                                               Name  \n",
       "10036      14  void Eigen::internal::EigenMetaKernel<Eigen::T...  \n",
       "10037      14  void Eigen::internal::EigenMetaKernel<Eigen::T...  \n",
       "10038      14  _ZN5Eigen8internal15EigenMetaKernelINS_15Tenso...  \n",
       "10039      14  _ZN5Eigen8internal15EigenMetaKernelINS_15Tenso...  \n",
       "10040      14  _ZN5Eigen8internal15EigenMetaKernelINS_15Tenso...  "
      ]
     },
     "execution_count": 70,
     "metadata": {},
     "output_type": "execute_result"
    }
   ],
   "source": [
    "filename_nvsmi_tf = \"nvidia-smi-tfhp_combined.csv\"\n",
    "filename_nvprof_tf = \"nvprof-trace-tfhp_combined-38751.csv\"\n",
    "\n",
    "df_nvprof = pd.read_csv(filename_nvprof_tf,header = 0, usecols = columns, skiprows=[0,1,2,4], nrows = maxrows)\n",
    "df_nvprof.iloc[-5:]"
   ]
  },
  {
   "cell_type": "code",
   "execution_count": null,
   "metadata": {},
   "outputs": [],
   "source": []
  },
  {
   "cell_type": "markdown",
   "metadata": {
    "collapsed": true
   },
   "source": [
    "# Remove rows with no Throughput"
   ]
  },
  {
   "cell_type": "code",
   "execution_count": 5,
   "metadata": {},
   "outputs": [
    {
     "data": {
      "text/html": [
       "<div>\n",
       "<style scoped>\n",
       "    .dataframe tbody tr th:only-of-type {\n",
       "        vertical-align: middle;\n",
       "    }\n",
       "\n",
       "    .dataframe tbody tr th {\n",
       "        vertical-align: top;\n",
       "    }\n",
       "\n",
       "    .dataframe thead th {\n",
       "        text-align: right;\n",
       "    }\n",
       "</style>\n",
       "<table border=\"1\" class=\"dataframe\">\n",
       "  <thead>\n",
       "    <tr style=\"text-align: right;\">\n",
       "      <th></th>\n",
       "      <th>Start</th>\n",
       "      <th>Duration</th>\n",
       "      <th>Size</th>\n",
       "      <th>Throughput</th>\n",
       "      <th>SrcMemType</th>\n",
       "      <th>DstMemType</th>\n",
       "      <th>Context</th>\n",
       "      <th>Stream</th>\n",
       "      <th>Name</th>\n",
       "    </tr>\n",
       "  </thead>\n",
       "  <tbody>\n",
       "    <tr>\n",
       "      <th>106</th>\n",
       "      <td>1.397863</td>\n",
       "      <td>0.001152</td>\n",
       "      <td>0.000244</td>\n",
       "      <td>0.206961</td>\n",
       "      <td>Device</td>\n",
       "      <td>Device</td>\n",
       "      <td>1</td>\n",
       "      <td>14</td>\n",
       "      <td>[CUDA memcpy DtoD]</td>\n",
       "    </tr>\n",
       "    <tr>\n",
       "      <th>108</th>\n",
       "      <td>1.397892</td>\n",
       "      <td>0.001312</td>\n",
       "      <td>0.000977</td>\n",
       "      <td>0.726886</td>\n",
       "      <td>Device</td>\n",
       "      <td>Device</td>\n",
       "      <td>1</td>\n",
       "      <td>14</td>\n",
       "      <td>[CUDA memcpy DtoD]</td>\n",
       "    </tr>\n",
       "    <tr>\n",
       "      <th>109</th>\n",
       "      <td>1.397906</td>\n",
       "      <td>0.001184</td>\n",
       "      <td>0.000977</td>\n",
       "      <td>0.805468</td>\n",
       "      <td>Device</td>\n",
       "      <td>Device</td>\n",
       "      <td>1</td>\n",
       "      <td>14</td>\n",
       "      <td>[CUDA memcpy DtoD]</td>\n",
       "    </tr>\n",
       "    <tr>\n",
       "      <th>110</th>\n",
       "      <td>1.397921</td>\n",
       "      <td>0.001184</td>\n",
       "      <td>0.000977</td>\n",
       "      <td>0.805468</td>\n",
       "      <td>Device</td>\n",
       "      <td>Device</td>\n",
       "      <td>1</td>\n",
       "      <td>14</td>\n",
       "      <td>[CUDA memcpy DtoD]</td>\n",
       "    </tr>\n",
       "    <tr>\n",
       "      <th>111</th>\n",
       "      <td>1.397935</td>\n",
       "      <td>0.001184</td>\n",
       "      <td>0.000977</td>\n",
       "      <td>0.805468</td>\n",
       "      <td>Device</td>\n",
       "      <td>Device</td>\n",
       "      <td>1</td>\n",
       "      <td>14</td>\n",
       "      <td>[CUDA memcpy DtoD]</td>\n",
       "    </tr>\n",
       "  </tbody>\n",
       "</table>\n",
       "</div>"
      ],
      "text/plain": [
       "        Start  Duration      Size  Throughput SrcMemType DstMemType  Context  \\\n",
       "106  1.397863  0.001152  0.000244    0.206961     Device     Device        1   \n",
       "108  1.397892  0.001312  0.000977    0.726886     Device     Device        1   \n",
       "109  1.397906  0.001184  0.000977    0.805468     Device     Device        1   \n",
       "110  1.397921  0.001184  0.000977    0.805468     Device     Device        1   \n",
       "111  1.397935  0.001184  0.000977    0.805468     Device     Device        1   \n",
       "\n",
       "     Stream                Name  \n",
       "106      14  [CUDA memcpy DtoD]  \n",
       "108      14  [CUDA memcpy DtoD]  \n",
       "109      14  [CUDA memcpy DtoD]  \n",
       "110      14  [CUDA memcpy DtoD]  \n",
       "111      14  [CUDA memcpy DtoD]  "
      ]
     },
     "execution_count": 5,
     "metadata": {},
     "output_type": "execute_result"
    }
   ],
   "source": [
    "df_nvprof = df_nvprof.loc[df_nvprof[\"Throughput\"].notnull()]\n",
    "df_nvprof.iloc[100:105]"
   ]
  },
  {
   "cell_type": "code",
   "execution_count": 6,
   "metadata": {},
   "outputs": [
    {
     "name": "stdout",
     "output_type": "stream",
     "text": [
      "['[CUDA memset]' '[CUDA memcpy HtoD]' '[CUDA memcpy DtoD]'\n",
      " '[CUDA memcpy DtoH]']\n"
     ]
    }
   ],
   "source": [
    "print df_nvprof.Name.unique()"
   ]
  },
  {
   "cell_type": "code",
   "execution_count": 7,
   "metadata": {},
   "outputs": [],
   "source": [
    "df_nomemset = df_nvprof.loc[~df_nvprof[\"Name\"].str.contains(\"memset\")]"
   ]
  },
  {
   "cell_type": "code",
   "execution_count": 8,
   "metadata": {},
   "outputs": [
    {
     "name": "stdout",
     "output_type": "stream",
     "text": [
      "['[CUDA memcpy HtoD]' '[CUDA memcpy DtoD]' '[CUDA memcpy DtoH]']\n"
     ]
    }
   ],
   "source": [
    "print df_nomemset.Name.unique()"
   ]
  },
  {
   "cell_type": "code",
   "execution_count": 10,
   "metadata": {},
   "outputs": [
    {
     "data": {
      "text/html": [
       "<div>\n",
       "<style scoped>\n",
       "    .dataframe tbody tr th:only-of-type {\n",
       "        vertical-align: middle;\n",
       "    }\n",
       "\n",
       "    .dataframe tbody tr th {\n",
       "        vertical-align: top;\n",
       "    }\n",
       "\n",
       "    .dataframe thead th {\n",
       "        text-align: right;\n",
       "    }\n",
       "</style>\n",
       "<table border=\"1\" class=\"dataframe\">\n",
       "  <thead>\n",
       "    <tr style=\"text-align: right;\">\n",
       "      <th></th>\n",
       "      <th>Start</th>\n",
       "      <th>Duration</th>\n",
       "      <th>Size</th>\n",
       "      <th>Throughput</th>\n",
       "      <th>SrcMemType</th>\n",
       "      <th>DstMemType</th>\n",
       "      <th>Context</th>\n",
       "      <th>Stream</th>\n",
       "      <th>Name</th>\n",
       "    </tr>\n",
       "  </thead>\n",
       "  <tbody>\n",
       "    <tr>\n",
       "      <th>84</th>\n",
       "      <td>1.397543</td>\n",
       "      <td>0.001760</td>\n",
       "      <td>0.000244</td>\n",
       "      <td>0.135465</td>\n",
       "      <td>Device</td>\n",
       "      <td>Device</td>\n",
       "      <td>1</td>\n",
       "      <td>14</td>\n",
       "      <td>[CUDA memcpy DtoD]</td>\n",
       "    </tr>\n",
       "    <tr>\n",
       "      <th>85</th>\n",
       "      <td>1.397561</td>\n",
       "      <td>0.001152</td>\n",
       "      <td>0.000244</td>\n",
       "      <td>0.206961</td>\n",
       "      <td>Device</td>\n",
       "      <td>Device</td>\n",
       "      <td>1</td>\n",
       "      <td>14</td>\n",
       "      <td>[CUDA memcpy DtoD]</td>\n",
       "    </tr>\n",
       "    <tr>\n",
       "      <th>86</th>\n",
       "      <td>1.397576</td>\n",
       "      <td>0.001184</td>\n",
       "      <td>0.000244</td>\n",
       "      <td>0.201367</td>\n",
       "      <td>Device</td>\n",
       "      <td>Device</td>\n",
       "      <td>1</td>\n",
       "      <td>14</td>\n",
       "      <td>[CUDA memcpy DtoD]</td>\n",
       "    </tr>\n",
       "  </tbody>\n",
       "</table>\n",
       "</div>"
      ],
      "text/plain": [
       "       Start  Duration      Size  Throughput SrcMemType DstMemType  Context  \\\n",
       "84  1.397543  0.001760  0.000244    0.135465     Device     Device        1   \n",
       "85  1.397561  0.001152  0.000244    0.206961     Device     Device        1   \n",
       "86  1.397576  0.001184  0.000244    0.201367     Device     Device        1   \n",
       "\n",
       "    Stream                Name  \n",
       "84      14  [CUDA memcpy DtoD]  \n",
       "85      14  [CUDA memcpy DtoD]  \n",
       "86      14  [CUDA memcpy DtoD]  "
      ]
     },
     "execution_count": 10,
     "metadata": {},
     "output_type": "execute_result"
    }
   ],
   "source": [
    "dd = df_nomemset.loc[df_nomemset[\"Name\"].str.contains(\"DtoD\")]\n",
    "dd.iloc[:3]"
   ]
  },
  {
   "cell_type": "code",
   "execution_count": 11,
   "metadata": {},
   "outputs": [
    {
     "data": {
      "text/html": [
       "<div>\n",
       "<style scoped>\n",
       "    .dataframe tbody tr th:only-of-type {\n",
       "        vertical-align: middle;\n",
       "    }\n",
       "\n",
       "    .dataframe tbody tr th {\n",
       "        vertical-align: top;\n",
       "    }\n",
       "\n",
       "    .dataframe thead th {\n",
       "        text-align: right;\n",
       "    }\n",
       "</style>\n",
       "<table border=\"1\" class=\"dataframe\">\n",
       "  <thead>\n",
       "    <tr style=\"text-align: right;\">\n",
       "      <th></th>\n",
       "      <th>Start</th>\n",
       "      <th>Duration</th>\n",
       "      <th>Size</th>\n",
       "      <th>Throughput</th>\n",
       "      <th>SrcMemType</th>\n",
       "      <th>DstMemType</th>\n",
       "      <th>Context</th>\n",
       "      <th>Stream</th>\n",
       "      <th>Name</th>\n",
       "    </tr>\n",
       "  </thead>\n",
       "  <tbody>\n",
       "    <tr>\n",
       "      <th>1</th>\n",
       "      <td>1.381351</td>\n",
       "      <td>0.00128</td>\n",
       "      <td>0.000004</td>\n",
       "      <td>0.002910</td>\n",
       "      <td>Pinned</td>\n",
       "      <td>Device</td>\n",
       "      <td>1</td>\n",
       "      <td>15</td>\n",
       "      <td>[CUDA memcpy HtoD]</td>\n",
       "    </tr>\n",
       "    <tr>\n",
       "      <th>2</th>\n",
       "      <td>1.381518</td>\n",
       "      <td>0.00096</td>\n",
       "      <td>0.000004</td>\n",
       "      <td>0.003881</td>\n",
       "      <td>Pinned</td>\n",
       "      <td>Device</td>\n",
       "      <td>1</td>\n",
       "      <td>15</td>\n",
       "      <td>[CUDA memcpy HtoD]</td>\n",
       "    </tr>\n",
       "    <tr>\n",
       "      <th>3</th>\n",
       "      <td>1.381649</td>\n",
       "      <td>0.00096</td>\n",
       "      <td>0.000244</td>\n",
       "      <td>0.248353</td>\n",
       "      <td>Pinned</td>\n",
       "      <td>Device</td>\n",
       "      <td>1</td>\n",
       "      <td>15</td>\n",
       "      <td>[CUDA memcpy HtoD]</td>\n",
       "    </tr>\n",
       "  </tbody>\n",
       "</table>\n",
       "</div>"
      ],
      "text/plain": [
       "      Start  Duration      Size  Throughput SrcMemType DstMemType  Context  \\\n",
       "1  1.381351   0.00128  0.000004    0.002910     Pinned     Device        1   \n",
       "2  1.381518   0.00096  0.000004    0.003881     Pinned     Device        1   \n",
       "3  1.381649   0.00096  0.000244    0.248353     Pinned     Device        1   \n",
       "\n",
       "   Stream                Name  \n",
       "1      15  [CUDA memcpy HtoD]  \n",
       "2      15  [CUDA memcpy HtoD]  \n",
       "3      15  [CUDA memcpy HtoD]  "
      ]
     },
     "execution_count": 11,
     "metadata": {},
     "output_type": "execute_result"
    }
   ],
   "source": [
    "dh = df_nomemset.loc[~df_nomemset[\"Name\"].str.contains(\"DtoD\")]\n",
    "dh.iloc[:3]"
   ]
  },
  {
   "cell_type": "code",
   "execution_count": 12,
   "metadata": {},
   "outputs": [
    {
     "data": {
      "text/plain": [
       "<matplotlib.axes._subplots.AxesSubplot at 0x10e5497d0>"
      ]
     },
     "execution_count": 12,
     "metadata": {},
     "output_type": "execute_result"
    },
    {
     "data": {
      "image/png": "[encoded data removed]",
      "text/plain": [
       "<matplotlib.figure.Figure at 0x10e4dcb90>"
      ]
     },
     "metadata": {},
     "output_type": "display_data"
    }
   ],
   "source": [
    "plt.rcParams['figure.figsize'] = 12,8\n",
    "fig, axarr = plt.subplots(1,2)\n",
    "dd.boxplot(column=\"Throughput\",by=\"Name\",ax=axarr[0])\n",
    "dh.boxplot(column=\"Throughput\",by=\"Name\",ax=axarr[1])\n",
    "#ax = plt.gca()\n",
    "#ax.set_ylabel('Throughput (GB/s)')"
   ]
  },
  {
   "cell_type": "code",
   "execution_count": 13,
   "metadata": {},
   "outputs": [
    {
     "name": "stdout",
     "output_type": "stream",
     "text": [
      "Index([u'Start', u'Duration', u'Size', u'Throughput', u'SrcMemType',\n",
      "       u'DstMemType', u'Context', u'Stream', u'Name'],\n",
      "      dtype='object')\n"
     ]
    },
    {
     "data": {
      "text/html": [
       "<div>\n",
       "<style scoped>\n",
       "    .dataframe tbody tr th:only-of-type {\n",
       "        vertical-align: middle;\n",
       "    }\n",
       "\n",
       "    .dataframe tbody tr th {\n",
       "        vertical-align: top;\n",
       "    }\n",
       "\n",
       "    .dataframe thead th {\n",
       "        text-align: right;\n",
       "    }\n",
       "</style>\n",
       "<table border=\"1\" class=\"dataframe\">\n",
       "  <thead>\n",
       "    <tr style=\"text-align: right;\">\n",
       "      <th></th>\n",
       "      <th>Start</th>\n",
       "      <th>Duration</th>\n",
       "      <th>Size</th>\n",
       "      <th>Throughput</th>\n",
       "      <th>SrcMemType</th>\n",
       "      <th>DstMemType</th>\n",
       "      <th>Context</th>\n",
       "      <th>Stream</th>\n",
       "      <th>Name</th>\n",
       "    </tr>\n",
       "  </thead>\n",
       "  <tbody>\n",
       "    <tr>\n",
       "      <th>93</th>\n",
       "      <td>1.397713</td>\n",
       "      <td>0.001184</td>\n",
       "      <td>0.000977</td>\n",
       "      <td>0.805468</td>\n",
       "      <td>Device</td>\n",
       "      <td>Device</td>\n",
       "      <td>1</td>\n",
       "      <td>14</td>\n",
       "      <td>[CUDA memcpy DtoD]</td>\n",
       "    </tr>\n",
       "    <tr>\n",
       "      <th>94</th>\n",
       "      <td>1.397717</td>\n",
       "      <td>0.001184</td>\n",
       "      <td>0.000977</td>\n",
       "      <td>0.805468</td>\n",
       "      <td>Device</td>\n",
       "      <td>Device</td>\n",
       "      <td>1</td>\n",
       "      <td>14</td>\n",
       "      <td>[CUDA memcpy DtoD]</td>\n",
       "    </tr>\n",
       "    <tr>\n",
       "      <th>95</th>\n",
       "      <td>1.397720</td>\n",
       "      <td>0.001184</td>\n",
       "      <td>0.000977</td>\n",
       "      <td>0.805468</td>\n",
       "      <td>Device</td>\n",
       "      <td>Device</td>\n",
       "      <td>1</td>\n",
       "      <td>14</td>\n",
       "      <td>[CUDA memcpy DtoD]</td>\n",
       "    </tr>\n",
       "    <tr>\n",
       "      <th>97</th>\n",
       "      <td>1.397740</td>\n",
       "      <td>0.001312</td>\n",
       "      <td>0.000244</td>\n",
       "      <td>0.181721</td>\n",
       "      <td>Device</td>\n",
       "      <td>Device</td>\n",
       "      <td>1</td>\n",
       "      <td>14</td>\n",
       "      <td>[CUDA memcpy DtoD]</td>\n",
       "    </tr>\n",
       "    <tr>\n",
       "      <th>98</th>\n",
       "      <td>1.397754</td>\n",
       "      <td>0.001344</td>\n",
       "      <td>0.000244</td>\n",
       "      <td>0.177395</td>\n",
       "      <td>Device</td>\n",
       "      <td>Device</td>\n",
       "      <td>1</td>\n",
       "      <td>14</td>\n",
       "      <td>[CUDA memcpy DtoD]</td>\n",
       "    </tr>\n",
       "  </tbody>\n",
       "</table>\n",
       "</div>"
      ],
      "text/plain": [
       "       Start  Duration      Size  Throughput SrcMemType DstMemType  Context  \\\n",
       "93  1.397713  0.001184  0.000977    0.805468     Device     Device        1   \n",
       "94  1.397717  0.001184  0.000977    0.805468     Device     Device        1   \n",
       "95  1.397720  0.001184  0.000977    0.805468     Device     Device        1   \n",
       "97  1.397740  0.001312  0.000244    0.181721     Device     Device        1   \n",
       "98  1.397754  0.001344  0.000244    0.177395     Device     Device        1   \n",
       "\n",
       "    Stream                Name  \n",
       "93      14  [CUDA memcpy DtoD]  \n",
       "94      14  [CUDA memcpy DtoD]  \n",
       "95      14  [CUDA memcpy DtoD]  \n",
       "97      14  [CUDA memcpy DtoD]  \n",
       "98      14  [CUDA memcpy DtoD]  "
      ]
     },
     "execution_count": 13,
     "metadata": {},
     "output_type": "execute_result"
    }
   ],
   "source": [
    "print df_nvprof.columns\n",
    "df_nvprof.iloc[90:95]"
   ]
  },
  {
   "cell_type": "code",
   "execution_count": 14,
   "metadata": {},
   "outputs": [],
   "source": [
    "df_nvprof['FullName']  = df_nvprof.loc[:,'Name'] + \" \" + df_nvprof.loc[:,'SrcMemType']+ df_nvprof.loc[:,'DstMemType'].fillna(\"\")"
   ]
  },
  {
   "cell_type": "code",
   "execution_count": 15,
   "metadata": {},
   "outputs": [
    {
     "data": {
      "text/html": [
       "<div>\n",
       "<style scoped>\n",
       "    .dataframe tbody tr th:only-of-type {\n",
       "        vertical-align: middle;\n",
       "    }\n",
       "\n",
       "    .dataframe tbody tr th {\n",
       "        vertical-align: top;\n",
       "    }\n",
       "\n",
       "    .dataframe thead th {\n",
       "        text-align: right;\n",
       "    }\n",
       "</style>\n",
       "<table border=\"1\" class=\"dataframe\">\n",
       "  <thead>\n",
       "    <tr style=\"text-align: right;\">\n",
       "      <th></th>\n",
       "      <th>Start</th>\n",
       "      <th>Duration</th>\n",
       "      <th>Size</th>\n",
       "      <th>Throughput</th>\n",
       "      <th>SrcMemType</th>\n",
       "      <th>DstMemType</th>\n",
       "      <th>Context</th>\n",
       "      <th>Stream</th>\n",
       "      <th>Name</th>\n",
       "      <th>FullName</th>\n",
       "    </tr>\n",
       "  </thead>\n",
       "  <tbody>\n",
       "  </tbody>\n",
       "</table>\n",
       "</div>"
      ],
      "text/plain": [
       "Empty DataFrame\n",
       "Columns: [Start, Duration, Size, Throughput, SrcMemType, DstMemType, Context, Stream, Name, FullName]\n",
       "Index: []"
      ]
     },
     "execution_count": 15,
     "metadata": {},
     "output_type": "execute_result"
    }
   ],
   "source": [
    "df_nvprof[pd.isnull(df_nvprof[\"FullName\"])]"
   ]
  },
  {
   "cell_type": "code",
   "execution_count": 16,
   "metadata": {},
   "outputs": [],
   "source": [
    "# Convert unique values in column \"FullName\" to new columns\n",
    "def mergeColumnNames(df_org):\n",
    "    df = df_org.pivot(index=\"Start\", columns=\"FullName\", values = 'Throughput')\n",
    "    df = df.fillna(0)  # Fill empty cells with 0-s\n",
    "    return df"
   ]
  },
  {
   "cell_type": "code",
   "execution_count": 17,
   "metadata": {},
   "outputs": [],
   "source": [
    "df_throughput = mergeColumnNames(df_nvprof)"
   ]
  },
  {
   "cell_type": "code",
   "execution_count": 18,
   "metadata": {},
   "outputs": [
    {
     "data": {
      "text/html": [
       "<div>\n",
       "<style scoped>\n",
       "    .dataframe tbody tr th:only-of-type {\n",
       "        vertical-align: middle;\n",
       "    }\n",
       "\n",
       "    .dataframe tbody tr th {\n",
       "        vertical-align: top;\n",
       "    }\n",
       "\n",
       "    .dataframe thead th {\n",
       "        text-align: right;\n",
       "    }\n",
       "</style>\n",
       "<table border=\"1\" class=\"dataframe\">\n",
       "  <thead>\n",
       "    <tr style=\"text-align: right;\">\n",
       "      <th>FullName</th>\n",
       "      <th>[CUDA memcpy DtoD] DeviceDevice</th>\n",
       "      <th>[CUDA memcpy DtoH] DevicePinned</th>\n",
       "      <th>[CUDA memcpy HtoD] PageableDevice</th>\n",
       "      <th>[CUDA memcpy HtoD] PinnedDevice</th>\n",
       "      <th>[CUDA memset] Device</th>\n",
       "    </tr>\n",
       "    <tr>\n",
       "      <th>Start</th>\n",
       "      <th></th>\n",
       "      <th></th>\n",
       "      <th></th>\n",
       "      <th></th>\n",
       "      <th></th>\n",
       "    </tr>\n",
       "  </thead>\n",
       "  <tbody>\n",
       "    <tr>\n",
       "      <th>0.904099</th>\n",
       "      <td>0.0</td>\n",
       "      <td>0.0</td>\n",
       "      <td>0.0</td>\n",
       "      <td>0.000000</td>\n",
       "      <td>0.311654</td>\n",
       "    </tr>\n",
       "    <tr>\n",
       "      <th>1.381351</th>\n",
       "      <td>0.0</td>\n",
       "      <td>0.0</td>\n",
       "      <td>0.0</td>\n",
       "      <td>0.002910</td>\n",
       "      <td>0.000000</td>\n",
       "    </tr>\n",
       "    <tr>\n",
       "      <th>1.381518</th>\n",
       "      <td>0.0</td>\n",
       "      <td>0.0</td>\n",
       "      <td>0.0</td>\n",
       "      <td>0.003881</td>\n",
       "      <td>0.000000</td>\n",
       "    </tr>\n",
       "  </tbody>\n",
       "</table>\n",
       "</div>"
      ],
      "text/plain": [
       "FullName  [CUDA memcpy DtoD] DeviceDevice  [CUDA memcpy DtoH] DevicePinned  \\\n",
       "Start                                                                        \n",
       "0.904099                              0.0                              0.0   \n",
       "1.381351                              0.0                              0.0   \n",
       "1.381518                              0.0                              0.0   \n",
       "\n",
       "FullName  [CUDA memcpy HtoD] PageableDevice  [CUDA memcpy HtoD] PinnedDevice  \\\n",
       "Start                                                                          \n",
       "0.904099                                0.0                         0.000000   \n",
       "1.381351                                0.0                         0.002910   \n",
       "1.381518                                0.0                         0.003881   \n",
       "\n",
       "FullName  [CUDA memset] Device  \n",
       "Start                           \n",
       "0.904099              0.311654  \n",
       "1.381351              0.000000  \n",
       "1.381518              0.000000  "
      ]
     },
     "execution_count": 18,
     "metadata": {},
     "output_type": "execute_result"
    }
   ],
   "source": [
    "df_throughput.iloc[:3]"
   ]
  },
  {
   "cell_type": "code",
   "execution_count": 25,
   "metadata": {},
   "outputs": [
    {
     "data": {
      "text/html": [
       "<div>\n",
       "<style scoped>\n",
       "    .dataframe tbody tr th:only-of-type {\n",
       "        vertical-align: middle;\n",
       "    }\n",
       "\n",
       "    .dataframe tbody tr th {\n",
       "        vertical-align: top;\n",
       "    }\n",
       "\n",
       "    .dataframe thead th {\n",
       "        text-align: right;\n",
       "    }\n",
       "</style>\n",
       "<table border=\"1\" class=\"dataframe\">\n",
       "  <thead>\n",
       "    <tr style=\"text-align: right;\">\n",
       "      <th>FullName</th>\n",
       "      <th>[CUDA memcpy DtoD] DeviceDevice</th>\n",
       "      <th>[CUDA memcpy DtoH] DevicePinned</th>\n",
       "      <th>[CUDA memcpy HtoD] PageableDevice</th>\n",
       "      <th>[CUDA memcpy HtoD] PinnedDevice</th>\n",
       "    </tr>\n",
       "    <tr>\n",
       "      <th>Start</th>\n",
       "      <th></th>\n",
       "      <th></th>\n",
       "      <th></th>\n",
       "      <th></th>\n",
       "    </tr>\n",
       "  </thead>\n",
       "  <tbody>\n",
       "    <tr>\n",
       "      <th>0.904099</th>\n",
       "      <td>0.0</td>\n",
       "      <td>0.0</td>\n",
       "      <td>0.0</td>\n",
       "      <td>0.000000</td>\n",
       "    </tr>\n",
       "    <tr>\n",
       "      <th>1.381351</th>\n",
       "      <td>0.0</td>\n",
       "      <td>0.0</td>\n",
       "      <td>0.0</td>\n",
       "      <td>0.002910</td>\n",
       "    </tr>\n",
       "    <tr>\n",
       "      <th>1.381518</th>\n",
       "      <td>0.0</td>\n",
       "      <td>0.0</td>\n",
       "      <td>0.0</td>\n",
       "      <td>0.003881</td>\n",
       "    </tr>\n",
       "  </tbody>\n",
       "</table>\n",
       "</div>"
      ],
      "text/plain": [
       "FullName  [CUDA memcpy DtoD] DeviceDevice  [CUDA memcpy DtoH] DevicePinned  \\\n",
       "Start                                                                        \n",
       "0.904099                              0.0                              0.0   \n",
       "1.381351                              0.0                              0.0   \n",
       "1.381518                              0.0                              0.0   \n",
       "\n",
       "FullName  [CUDA memcpy HtoD] PageableDevice  [CUDA memcpy HtoD] PinnedDevice  \n",
       "Start                                                                         \n",
       "0.904099                                0.0                         0.000000  \n",
       "1.381351                                0.0                         0.002910  \n",
       "1.381518                                0.0                         0.003881  "
      ]
     },
     "execution_count": 25,
     "metadata": {},
     "output_type": "execute_result"
    }
   ],
   "source": [
    "df_memcpy = df_throughput.filter(regex=(\"^((?!memset).)*$\"))\n",
    "df_memcpy.iloc[:3]"
   ]
  },
  {
   "cell_type": "code",
   "execution_count": 26,
   "metadata": {},
   "outputs": [],
   "source": [
    "def appendMaxValues2ColumnNames(df,series):\n",
    "    cols = len(df.columns)\n",
    "    col_names = []\n",
    "    for i in range(0,cols):\n",
    "        name = df.columns[i].replace(\"[CUDA memcpy \",\"\")\n",
    "        name = name.replace(\"]\",\"\")\n",
    "        col_names.append(series+name+\" \" +'{:.3f}'.format(df.iloc[:,i].max()))\n",
    "    df.columns = col_names\n",
    "    return df"
   ]
  },
  {
   "cell_type": "code",
   "execution_count": 27,
   "metadata": {},
   "outputs": [],
   "source": [
    "df_memcpy = appendMaxValues2ColumnNames(df_memcpy,\"\")"
   ]
  },
  {
   "cell_type": "code",
   "execution_count": 28,
   "metadata": {},
   "outputs": [
    {
     "data": {
      "text/plain": [
       "Index([u'DtoD DeviceDevice 70.066', u'DtoH DevicePinned 0.006',\n",
       "       u'HtoD PageableDevice 0.074', u'HtoD PinnedDevice 3.974'],\n",
       "      dtype='object')"
      ]
     },
     "execution_count": 28,
     "metadata": {},
     "output_type": "execute_result"
    }
   ],
   "source": [
    "df_memcpy.columns"
   ]
  },
  {
   "cell_type": "code",
   "execution_count": 35,
   "metadata": {},
   "outputs": [
    {
     "data": {
      "text/html": [
       "<div>\n",
       "<style scoped>\n",
       "    .dataframe tbody tr th:only-of-type {\n",
       "        vertical-align: middle;\n",
       "    }\n",
       "\n",
       "    .dataframe tbody tr th {\n",
       "        vertical-align: top;\n",
       "    }\n",
       "\n",
       "    .dataframe thead th {\n",
       "        text-align: right;\n",
       "    }\n",
       "</style>\n",
       "<table border=\"1\" class=\"dataframe\">\n",
       "  <thead>\n",
       "    <tr style=\"text-align: right;\">\n",
       "      <th></th>\n",
       "      <th>DtoD DeviceDevice 70.066</th>\n",
       "    </tr>\n",
       "    <tr>\n",
       "      <th>Start</th>\n",
       "      <th></th>\n",
       "    </tr>\n",
       "  </thead>\n",
       "  <tbody>\n",
       "    <tr>\n",
       "      <th>0.904099</th>\n",
       "      <td>0.0</td>\n",
       "    </tr>\n",
       "    <tr>\n",
       "      <th>1.381351</th>\n",
       "      <td>0.0</td>\n",
       "    </tr>\n",
       "    <tr>\n",
       "      <th>1.381518</th>\n",
       "      <td>0.0</td>\n",
       "    </tr>\n",
       "  </tbody>\n",
       "</table>\n",
       "</div>"
      ],
      "text/plain": [
       "          DtoD DeviceDevice 70.066\n",
       "Start                             \n",
       "0.904099                       0.0\n",
       "1.381351                       0.0\n",
       "1.381518                       0.0"
      ]
     },
     "execution_count": 35,
     "metadata": {},
     "output_type": "execute_result"
    }
   ],
   "source": [
    "dd = df_memcpy.filter(regex=(\".*DtoD.+\"))\n",
    "dd.iloc[:3]"
   ]
  },
  {
   "cell_type": "code",
   "execution_count": 36,
   "metadata": {},
   "outputs": [
    {
     "data": {
      "text/html": [
       "<div>\n",
       "<style scoped>\n",
       "    .dataframe tbody tr th:only-of-type {\n",
       "        vertical-align: middle;\n",
       "    }\n",
       "\n",
       "    .dataframe tbody tr th {\n",
       "        vertical-align: top;\n",
       "    }\n",
       "\n",
       "    .dataframe thead th {\n",
       "        text-align: right;\n",
       "    }\n",
       "</style>\n",
       "<table border=\"1\" class=\"dataframe\">\n",
       "  <thead>\n",
       "    <tr style=\"text-align: right;\">\n",
       "      <th></th>\n",
       "      <th>DtoH DevicePinned 0.006</th>\n",
       "      <th>HtoD PageableDevice 0.074</th>\n",
       "      <th>HtoD PinnedDevice 3.974</th>\n",
       "    </tr>\n",
       "    <tr>\n",
       "      <th>Start</th>\n",
       "      <th></th>\n",
       "      <th></th>\n",
       "      <th></th>\n",
       "    </tr>\n",
       "  </thead>\n",
       "  <tbody>\n",
       "    <tr>\n",
       "      <th>0.904099</th>\n",
       "      <td>0.0</td>\n",
       "      <td>0.0</td>\n",
       "      <td>0.000000</td>\n",
       "    </tr>\n",
       "    <tr>\n",
       "      <th>1.381351</th>\n",
       "      <td>0.0</td>\n",
       "      <td>0.0</td>\n",
       "      <td>0.002910</td>\n",
       "    </tr>\n",
       "    <tr>\n",
       "      <th>1.381518</th>\n",
       "      <td>0.0</td>\n",
       "      <td>0.0</td>\n",
       "      <td>0.003881</td>\n",
       "    </tr>\n",
       "  </tbody>\n",
       "</table>\n",
       "</div>"
      ],
      "text/plain": [
       "          DtoH DevicePinned 0.006  HtoD PageableDevice 0.074  \\\n",
       "Start                                                          \n",
       "0.904099                      0.0                        0.0   \n",
       "1.381351                      0.0                        0.0   \n",
       "1.381518                      0.0                        0.0   \n",
       "\n",
       "          HtoD PinnedDevice 3.974  \n",
       "Start                              \n",
       "0.904099                 0.000000  \n",
       "1.381351                 0.002910  \n",
       "1.381518                 0.003881  "
      ]
     },
     "execution_count": 36,
     "metadata": {},
     "output_type": "execute_result"
    }
   ],
   "source": [
    "dh = df_memcpy.filter(regex=(\".*(HtoD|DtoH).*\"))\n",
    "dh.iloc[:3]"
   ]
  },
  {
   "cell_type": "code",
   "execution_count": 63,
   "metadata": {},
   "outputs": [
    {
     "data": {
      "image/png": "[encoded data removed]",
      "text/plain": [
       "<matplotlib.figure.Figure at 0x11129d550>"
      ]
     },
     "metadata": {},
     "output_type": "display_data"
    }
   ],
   "source": [
    "plt.rcParams['figure.figsize'] = 12,6\n",
    "fig, axarr = plt.subplots(2)\n",
    "dd.plot(linewidth=0.6,alpha=0.9,ax = axarr[0])\n",
    "dh.plot(linewidth=0.6,alpha=0.9,ax = axarr[1])\n",
    "for ax in axarr:\n",
    "    ax.xaxis.grid(color=\"#e0e0e0\", linestyle=\":\",linewidth=0.5)\n",
    "    ax.yaxis.grid(color=\"#e0e0e0\", linestyle=\":\",linewidth=0.5)\n",
    "    ax.set_ylabel('Throughput (GB/s)')"
   ]
  },
  {
   "cell_type": "code",
   "execution_count": 49,
   "metadata": {},
   "outputs": [],
   "source": [
    "# PCI express x3 bandwidth\n",
    "PCI3_band = 16 # GB/s"
   ]
  },
  {
   "cell_type": "code",
   "execution_count": 50,
   "metadata": {},
   "outputs": [
    {
     "name": "stdout",
     "output_type": "stream",
     "text": [
      "160.0\n"
     ]
    }
   ],
   "source": [
    "# Device DRAM bandwidth\n",
    "# Memory clock rate\n",
    "GHz=5\n",
    "# Interface width\n",
    "bit=256\n",
    "\n",
    "DRAM_GBs=(GHz * 1e9 * (bit/8)) / 1e9\n",
    "print DRAM_GBs"
   ]
  },
  {
   "cell_type": "markdown",
   "metadata": {},
   "source": [
    "#### Normalize H<->D throughput"
   ]
  },
  {
   "cell_type": "code",
   "execution_count": 51,
   "metadata": {},
   "outputs": [
    {
     "name": "stdout",
     "output_type": "stream",
     "text": [
      "<class 'pandas.core.frame.DataFrame'> (1, 4)\n",
      "<class 'pandas.core.frame.DataFrame'> (1, 4)\n"
     ]
    },
    {
     "data": {
      "text/html": [
       "<div>\n",
       "<style scoped>\n",
       "    .dataframe tbody tr th:only-of-type {\n",
       "        vertical-align: middle;\n",
       "    }\n",
       "\n",
       "    .dataframe tbody tr th {\n",
       "        vertical-align: top;\n",
       "    }\n",
       "\n",
       "    .dataframe thead th {\n",
       "        text-align: right;\n",
       "    }\n",
       "</style>\n",
       "<table border=\"1\" class=\"dataframe\">\n",
       "  <thead>\n",
       "    <tr style=\"text-align: right;\">\n",
       "      <th></th>\n",
       "      <th>DtoD DeviceDevice 70.066</th>\n",
       "      <th>DtoH DevicePinned 0.006</th>\n",
       "      <th>HtoD PageableDevice 0.074</th>\n",
       "      <th>HtoD PinnedDevice 3.974</th>\n",
       "    </tr>\n",
       "    <tr>\n",
       "      <th>Start</th>\n",
       "      <th></th>\n",
       "      <th></th>\n",
       "      <th></th>\n",
       "      <th></th>\n",
       "    </tr>\n",
       "  </thead>\n",
       "  <tbody>\n",
       "    <tr>\n",
       "      <th>0.904099</th>\n",
       "      <td>0.0</td>\n",
       "      <td>0.0</td>\n",
       "      <td>0.0</td>\n",
       "      <td>0.000000</td>\n",
       "    </tr>\n",
       "    <tr>\n",
       "      <th>1.381351</th>\n",
       "      <td>0.0</td>\n",
       "      <td>0.0</td>\n",
       "      <td>0.0</td>\n",
       "      <td>0.002910</td>\n",
       "    </tr>\n",
       "    <tr>\n",
       "      <th>1.381518</th>\n",
       "      <td>0.0</td>\n",
       "      <td>0.0</td>\n",
       "      <td>0.0</td>\n",
       "      <td>0.003881</td>\n",
       "    </tr>\n",
       "    <tr>\n",
       "      <th>1.381649</th>\n",
       "      <td>0.0</td>\n",
       "      <td>0.0</td>\n",
       "      <td>0.0</td>\n",
       "      <td>0.248353</td>\n",
       "    </tr>\n",
       "    <tr>\n",
       "      <th>1.381752</th>\n",
       "      <td>0.0</td>\n",
       "      <td>0.0</td>\n",
       "      <td>0.0</td>\n",
       "      <td>0.240341</td>\n",
       "    </tr>\n",
       "    <tr>\n",
       "      <th>1.381944</th>\n",
       "      <td>0.0</td>\n",
       "      <td>0.0</td>\n",
       "      <td>0.0</td>\n",
       "      <td>0.003881</td>\n",
       "    </tr>\n",
       "    <tr>\n",
       "      <th>1.382036</th>\n",
       "      <td>0.0</td>\n",
       "      <td>0.0</td>\n",
       "      <td>0.0</td>\n",
       "      <td>0.003881</td>\n",
       "    </tr>\n",
       "  </tbody>\n",
       "</table>\n",
       "</div>"
      ],
      "text/plain": [
       "          DtoD DeviceDevice 70.066  DtoH DevicePinned 0.006  \\\n",
       "Start                                                         \n",
       "0.904099                       0.0                      0.0   \n",
       "1.381351                       0.0                      0.0   \n",
       "1.381518                       0.0                      0.0   \n",
       "1.381649                       0.0                      0.0   \n",
       "1.381752                       0.0                      0.0   \n",
       "1.381944                       0.0                      0.0   \n",
       "1.382036                       0.0                      0.0   \n",
       "\n",
       "          HtoD PageableDevice 0.074  HtoD PinnedDevice 3.974  \n",
       "Start                                                         \n",
       "0.904099                        0.0                 0.000000  \n",
       "1.381351                        0.0                 0.002910  \n",
       "1.381518                        0.0                 0.003881  \n",
       "1.381649                        0.0                 0.248353  \n",
       "1.381752                        0.0                 0.240341  \n",
       "1.381944                        0.0                 0.003881  \n",
       "1.382036                        0.0                 0.003881  "
      ]
     },
     "execution_count": 51,
     "metadata": {},
     "output_type": "execute_result"
    }
   ],
   "source": [
    "norm = df_memcpy.copy()\n",
    "print type(df_memcpy),df_memcpy[:1].shape\n",
    "print type(norm),norm[:1].shape\n",
    "norm.iloc[:7]"
   ]
  },
  {
   "cell_type": "code",
   "execution_count": 57,
   "metadata": {},
   "outputs": [
    {
     "data": {
      "text/html": [
       "<div>\n",
       "<style scoped>\n",
       "    .dataframe tbody tr th:only-of-type {\n",
       "        vertical-align: middle;\n",
       "    }\n",
       "\n",
       "    .dataframe tbody tr th {\n",
       "        vertical-align: top;\n",
       "    }\n",
       "\n",
       "    .dataframe thead th {\n",
       "        text-align: right;\n",
       "    }\n",
       "</style>\n",
       "<table border=\"1\" class=\"dataframe\">\n",
       "  <thead>\n",
       "    <tr style=\"text-align: right;\">\n",
       "      <th></th>\n",
       "      <th>DtoD DeviceDevice 70.066</th>\n",
       "      <th>DtoH DevicePinned 0.006</th>\n",
       "      <th>HtoD PageableDevice 0.074</th>\n",
       "      <th>HtoD PinnedDevice 3.974</th>\n",
       "    </tr>\n",
       "    <tr>\n",
       "      <th>Start</th>\n",
       "      <th></th>\n",
       "      <th></th>\n",
       "      <th></th>\n",
       "      <th></th>\n",
       "    </tr>\n",
       "  </thead>\n",
       "  <tbody>\n",
       "    <tr>\n",
       "      <th>1.406253</th>\n",
       "      <td>63.844306</td>\n",
       "      <td>0.0</td>\n",
       "      <td>0.0</td>\n",
       "      <td>0.0</td>\n",
       "    </tr>\n",
       "    <tr>\n",
       "      <th>1.406306</th>\n",
       "      <td>66.535417</td>\n",
       "      <td>0.0</td>\n",
       "      <td>0.0</td>\n",
       "      <td>0.0</td>\n",
       "    </tr>\n",
       "    <tr>\n",
       "      <th>1.406329</th>\n",
       "      <td>67.583219</td>\n",
       "      <td>0.0</td>\n",
       "      <td>0.0</td>\n",
       "      <td>0.0</td>\n",
       "    </tr>\n",
       "    <tr>\n",
       "      <th>1.406514</th>\n",
       "      <td>65.519610</td>\n",
       "      <td>0.0</td>\n",
       "      <td>0.0</td>\n",
       "      <td>0.0</td>\n",
       "    </tr>\n",
       "    <tr>\n",
       "      <th>1.406610</th>\n",
       "      <td>70.065868</td>\n",
       "      <td>0.0</td>\n",
       "      <td>0.0</td>\n",
       "      <td>0.0</td>\n",
       "    </tr>\n",
       "    <tr>\n",
       "      <th>1.406740</th>\n",
       "      <td>68.733284</td>\n",
       "      <td>0.0</td>\n",
       "      <td>0.0</td>\n",
       "      <td>0.0</td>\n",
       "    </tr>\n",
       "    <tr>\n",
       "      <th>1.407341</th>\n",
       "      <td>60.070277</td>\n",
       "      <td>0.0</td>\n",
       "      <td>0.0</td>\n",
       "      <td>0.0</td>\n",
       "    </tr>\n",
       "  </tbody>\n",
       "</table>\n",
       "</div>"
      ],
      "text/plain": [
       "          DtoD DeviceDevice 70.066  DtoH DevicePinned 0.006  \\\n",
       "Start                                                         \n",
       "1.406253                 63.844306                      0.0   \n",
       "1.406306                 66.535417                      0.0   \n",
       "1.406329                 67.583219                      0.0   \n",
       "1.406514                 65.519610                      0.0   \n",
       "1.406610                 70.065868                      0.0   \n",
       "1.406740                 68.733284                      0.0   \n",
       "1.407341                 60.070277                      0.0   \n",
       "\n",
       "          HtoD PageableDevice 0.074  HtoD PinnedDevice 3.974  \n",
       "Start                                                         \n",
       "1.406253                        0.0                      0.0  \n",
       "1.406306                        0.0                      0.0  \n",
       "1.406329                        0.0                      0.0  \n",
       "1.406514                        0.0                      0.0  \n",
       "1.406610                        0.0                      0.0  \n",
       "1.406740                        0.0                      0.0  \n",
       "1.407341                        0.0                      0.0  "
      ]
     },
     "execution_count": 57,
     "metadata": {},
     "output_type": "execute_result"
    }
   ],
   "source": [
    "df_memcpy[df_memcpy.iloc[:,0] > 60]"
   ]
  },
  {
   "cell_type": "code",
   "execution_count": 58,
   "metadata": {},
   "outputs": [
    {
     "data": {
      "text/html": [
       "<div>\n",
       "<style scoped>\n",
       "    .dataframe tbody tr th:only-of-type {\n",
       "        vertical-align: middle;\n",
       "    }\n",
       "\n",
       "    .dataframe tbody tr th {\n",
       "        vertical-align: top;\n",
       "    }\n",
       "\n",
       "    .dataframe thead th {\n",
       "        text-align: right;\n",
       "    }\n",
       "</style>\n",
       "<table border=\"1\" class=\"dataframe\">\n",
       "  <thead>\n",
       "    <tr style=\"text-align: right;\">\n",
       "      <th></th>\n",
       "      <th>DtoD DeviceDevice 70.066</th>\n",
       "      <th>DtoH DevicePinned 0.006</th>\n",
       "      <th>HtoD PageableDevice 0.074</th>\n",
       "      <th>HtoD PinnedDevice 3.974</th>\n",
       "    </tr>\n",
       "    <tr>\n",
       "      <th>Start</th>\n",
       "      <th></th>\n",
       "      <th></th>\n",
       "      <th></th>\n",
       "      <th></th>\n",
       "    </tr>\n",
       "  </thead>\n",
       "  <tbody>\n",
       "    <tr>\n",
       "      <th>1.406253</th>\n",
       "      <td>39.902691</td>\n",
       "      <td>0.0</td>\n",
       "      <td>0.0</td>\n",
       "      <td>0.0</td>\n",
       "    </tr>\n",
       "    <tr>\n",
       "      <th>1.406306</th>\n",
       "      <td>41.584636</td>\n",
       "      <td>0.0</td>\n",
       "      <td>0.0</td>\n",
       "      <td>0.0</td>\n",
       "    </tr>\n",
       "    <tr>\n",
       "      <th>1.406329</th>\n",
       "      <td>42.239512</td>\n",
       "      <td>0.0</td>\n",
       "      <td>0.0</td>\n",
       "      <td>0.0</td>\n",
       "    </tr>\n",
       "    <tr>\n",
       "      <th>1.406514</th>\n",
       "      <td>40.949756</td>\n",
       "      <td>0.0</td>\n",
       "      <td>0.0</td>\n",
       "      <td>0.0</td>\n",
       "    </tr>\n",
       "    <tr>\n",
       "      <th>1.406610</th>\n",
       "      <td>43.791168</td>\n",
       "      <td>0.0</td>\n",
       "      <td>0.0</td>\n",
       "      <td>0.0</td>\n",
       "    </tr>\n",
       "    <tr>\n",
       "      <th>1.406740</th>\n",
       "      <td>42.958303</td>\n",
       "      <td>0.0</td>\n",
       "      <td>0.0</td>\n",
       "      <td>0.0</td>\n",
       "    </tr>\n",
       "    <tr>\n",
       "      <th>1.407341</th>\n",
       "      <td>37.543923</td>\n",
       "      <td>0.0</td>\n",
       "      <td>0.0</td>\n",
       "      <td>0.0</td>\n",
       "    </tr>\n",
       "  </tbody>\n",
       "</table>\n",
       "</div>"
      ],
      "text/plain": [
       "          DtoD DeviceDevice 70.066  DtoH DevicePinned 0.006  \\\n",
       "Start                                                         \n",
       "1.406253                 39.902691                      0.0   \n",
       "1.406306                 41.584636                      0.0   \n",
       "1.406329                 42.239512                      0.0   \n",
       "1.406514                 40.949756                      0.0   \n",
       "1.406610                 43.791168                      0.0   \n",
       "1.406740                 42.958303                      0.0   \n",
       "1.407341                 37.543923                      0.0   \n",
       "\n",
       "          HtoD PageableDevice 0.074  HtoD PinnedDevice 3.974  \n",
       "Start                                                         \n",
       "1.406253                        0.0                      0.0  \n",
       "1.406306                        0.0                      0.0  \n",
       "1.406329                        0.0                      0.0  \n",
       "1.406514                        0.0                      0.0  \n",
       "1.406610                        0.0                      0.0  \n",
       "1.406740                        0.0                      0.0  \n",
       "1.407341                        0.0                      0.0  "
      ]
     },
     "execution_count": 58,
     "metadata": {},
     "output_type": "execute_result"
    }
   ],
   "source": [
    "def normalize(x,max = 16):\n",
    "    #print \"max=\",max \n",
    "    if isinstance(x,int) or isinstance(x,float):\n",
    "        if x == 0:\n",
    "            return 0\n",
    "        else:\n",
    "            x_ = float(x)\n",
    "            max_ = float(max)\n",
    "            norm = (x_/max_)*100\n",
    "            #print x_,norm\n",
    "            return norm\n",
    "    elif x is None:\n",
    "        return x\n",
    "    else:\n",
    "        print \"Wrong parameter type:\",type(x)\n",
    "\n",
    "def normalize_df(x,max = 16):\n",
    "    #print type(x)\n",
    "    if isinstance(x,int) or isinstance(x,float):\n",
    "        return normalize(x,max)\n",
    "    else:\n",
    "        #print x.values\n",
    "        x = x.apply(normalize,max=max)\n",
    "        #print \"Returned:\",type(x)\n",
    "        #print x.values\n",
    "        return x\n",
    "    \n",
    "       \n",
    "norm.iloc[:,2:] = norm.iloc[:,2:].apply(normalize_df, max = PCI3_band)\n",
    "norm.iloc[:,0] = norm.iloc[:,0].apply(normalize_df, max = DRAM_GBs)\n",
    "norm[df_memcpy.iloc[:,0] > 60]"
   ]
  },
  {
   "cell_type": "code",
   "execution_count": 86,
   "metadata": {},
   "outputs": [
    {
     "data": {
      "image/png": "[encoded data removed]",
      "text/plain": [
       "<matplotlib.figure.Figure at 0x10f673f90>"
      ]
     },
     "metadata": {},
     "output_type": "display_data"
    }
   ],
   "source": [
    "plt.rcParams['figure.figsize'] = 12,8\n",
    "norm.plot(linewidth=0.9,alpha=0.8)\n",
    "ax = plt.gca()\n",
    "ax.xaxis.grid(color=\"#e0e0e0\", linestyle=\":\",linewidth=0.5,alpha=0.7)\n",
    "ax.yaxis.grid(color=\"#e0e0e0\", linestyle=\":\",linewidth=0.5,alpha=0.7)\n",
    "#ax.xaxis.set_major_locator(plt.MaxNLocator(24))\n",
    "ax.set_xlabel('Start (s)')\n",
    "ax.set_ylabel('Throughput (%)')\n",
    "plt.show()"
   ]
  },
  {
   "cell_type": "markdown",
   "metadata": {},
   "source": [
    "## Plot smi data"
   ]
  },
  {
   "cell_type": "code",
   "execution_count": 74,
   "metadata": {},
   "outputs": [
    {
     "name": "stdout",
     "output_type": "stream",
     "text": [
      "Reading nvidia-smi-tfhp_combined.csv\n"
     ]
    }
   ],
   "source": [
    "filename = filename_nvsmi_tf\n",
    "print \"Reading\",filename\n",
    "\n",
    "smi_data = pd.read_csv(filename)\n",
    "smi_data.iloc[:3]\n",
    "start = 0"
   ]
  },
  {
   "cell_type": "code",
   "execution_count": 75,
   "metadata": {},
   "outputs": [],
   "source": [
    "# Parse date from readable format to seconds\n",
    "def parseTime(date_time):\n",
    "    global start\n",
    "    dt_obj = datetime.datetime.strptime(date_time, \"%Y/%m/%d %H:%M:%S.%f\")\n",
    "    seconds = 0\n",
    "    if start == 0:\n",
    "        start = dt_obj\n",
    "    else:\n",
    "        seconds = (dt_obj - start).total_seconds()\n",
    "    return seconds"
   ]
  },
  {
   "cell_type": "code",
   "execution_count": 76,
   "metadata": {},
   "outputs": [
    {
     "data": {
      "text/html": [
       "<div>\n",
       "<style scoped>\n",
       "    .dataframe tbody tr th:only-of-type {\n",
       "        vertical-align: middle;\n",
       "    }\n",
       "\n",
       "    .dataframe tbody tr th {\n",
       "        vertical-align: top;\n",
       "    }\n",
       "\n",
       "    .dataframe thead th {\n",
       "        text-align: right;\n",
       "    }\n",
       "</style>\n",
       "<table border=\"1\" class=\"dataframe\">\n",
       "  <thead>\n",
       "    <tr style=\"text-align: right;\">\n",
       "      <th></th>\n",
       "      <th>timestamp</th>\n",
       "      <th>name</th>\n",
       "      <th>memory.total [MiB]</th>\n",
       "      <th>memory.used [MiB]</th>\n",
       "      <th>utilization.gpu [%]</th>\n",
       "      <th>utilization.memory [%]</th>\n",
       "      <th>sec</th>\n",
       "    </tr>\n",
       "  </thead>\n",
       "  <tbody>\n",
       "    <tr>\n",
       "      <th>0</th>\n",
       "      <td>2018/01/24 08:53:30.947</td>\n",
       "      <td>Tesla M60</td>\n",
       "      <td>7613 MiB</td>\n",
       "      <td>0 MiB</td>\n",
       "      <td>96 %</td>\n",
       "      <td>7 %</td>\n",
       "      <td>0.000</td>\n",
       "    </tr>\n",
       "    <tr>\n",
       "      <th>1</th>\n",
       "      <td>2018/01/24 08:53:31.166</td>\n",
       "      <td>Tesla M60</td>\n",
       "      <td>7613 MiB</td>\n",
       "      <td>0 MiB</td>\n",
       "      <td>99 %</td>\n",
       "      <td>8 %</td>\n",
       "      <td>0.219</td>\n",
       "    </tr>\n",
       "    <tr>\n",
       "      <th>2</th>\n",
       "      <td>2018/01/24 08:53:31.307</td>\n",
       "      <td>Tesla M60</td>\n",
       "      <td>7613 MiB</td>\n",
       "      <td>0 MiB</td>\n",
       "      <td>98 %</td>\n",
       "      <td>8 %</td>\n",
       "      <td>0.360</td>\n",
       "    </tr>\n",
       "  </tbody>\n",
       "</table>\n",
       "</div>"
      ],
      "text/plain": [
       "                 timestamp        name  memory.total [MiB]  memory.used [MiB]  \\\n",
       "0  2018/01/24 08:53:30.947   Tesla M60            7613 MiB              0 MiB   \n",
       "1  2018/01/24 08:53:31.166   Tesla M60            7613 MiB              0 MiB   \n",
       "2  2018/01/24 08:53:31.307   Tesla M60            7613 MiB              0 MiB   \n",
       "\n",
       "   utilization.gpu [%]  utilization.memory [%]    sec  \n",
       "0                 96 %                     7 %  0.000  \n",
       "1                 99 %                     8 %  0.219  \n",
       "2                 98 %                     8 %  0.360  "
      ]
     },
     "execution_count": 76,
     "metadata": {},
     "output_type": "execute_result"
    }
   ],
   "source": [
    "smi_data[\"sec\"] = smi_data[\"timestamp\"].apply(parseTime)\n",
    "smi_data.iloc[:3]"
   ]
  },
  {
   "cell_type": "code",
   "execution_count": 77,
   "metadata": {},
   "outputs": [
    {
     "data": {
      "text/html": [
       "<div>\n",
       "<style scoped>\n",
       "    .dataframe tbody tr th:only-of-type {\n",
       "        vertical-align: middle;\n",
       "    }\n",
       "\n",
       "    .dataframe tbody tr th {\n",
       "        vertical-align: top;\n",
       "    }\n",
       "\n",
       "    .dataframe thead th {\n",
       "        text-align: right;\n",
       "    }\n",
       "</style>\n",
       "<table border=\"1\" class=\"dataframe\">\n",
       "  <thead>\n",
       "    <tr style=\"text-align: right;\">\n",
       "      <th></th>\n",
       "      <th>timestamp</th>\n",
       "      <th>name</th>\n",
       "      <th>memory.total [MiB]</th>\n",
       "      <th>memory.used [MiB]</th>\n",
       "      <th>utilization.gpu [%]</th>\n",
       "      <th>utilization.memory [%]</th>\n",
       "    </tr>\n",
       "    <tr>\n",
       "      <th>sec</th>\n",
       "      <th></th>\n",
       "      <th></th>\n",
       "      <th></th>\n",
       "      <th></th>\n",
       "      <th></th>\n",
       "      <th></th>\n",
       "    </tr>\n",
       "  </thead>\n",
       "  <tbody>\n",
       "    <tr>\n",
       "      <th>0.000</th>\n",
       "      <td>2018/01/24 08:53:30.947</td>\n",
       "      <td>Tesla M60</td>\n",
       "      <td>7613 MiB</td>\n",
       "      <td>0 MiB</td>\n",
       "      <td>96 %</td>\n",
       "      <td>7 %</td>\n",
       "    </tr>\n",
       "    <tr>\n",
       "      <th>0.219</th>\n",
       "      <td>2018/01/24 08:53:31.166</td>\n",
       "      <td>Tesla M60</td>\n",
       "      <td>7613 MiB</td>\n",
       "      <td>0 MiB</td>\n",
       "      <td>99 %</td>\n",
       "      <td>8 %</td>\n",
       "    </tr>\n",
       "    <tr>\n",
       "      <th>0.360</th>\n",
       "      <td>2018/01/24 08:53:31.307</td>\n",
       "      <td>Tesla M60</td>\n",
       "      <td>7613 MiB</td>\n",
       "      <td>0 MiB</td>\n",
       "      <td>98 %</td>\n",
       "      <td>8 %</td>\n",
       "    </tr>\n",
       "  </tbody>\n",
       "</table>\n",
       "</div>"
      ],
      "text/plain": [
       "                     timestamp        name  memory.total [MiB]  \\\n",
       "sec                                                              \n",
       "0.000  2018/01/24 08:53:30.947   Tesla M60            7613 MiB   \n",
       "0.219  2018/01/24 08:53:31.166   Tesla M60            7613 MiB   \n",
       "0.360  2018/01/24 08:53:31.307   Tesla M60            7613 MiB   \n",
       "\n",
       "       memory.used [MiB]  utilization.gpu [%]  utilization.memory [%]  \n",
       "sec                                                                    \n",
       "0.000              0 MiB                 96 %                     7 %  \n",
       "0.219              0 MiB                 99 %                     8 %  \n",
       "0.360              0 MiB                 98 %                     8 %  "
      ]
     },
     "execution_count": 77,
     "metadata": {},
     "output_type": "execute_result"
    }
   ],
   "source": [
    "smi_data.set_index(\"sec\", drop=True, inplace=True)\n",
    "smi_data.iloc[:3]"
   ]
  },
  {
   "cell_type": "code",
   "execution_count": 78,
   "metadata": {},
   "outputs": [],
   "source": [
    "smi_data = smi_data.drop(columns = ['timestamp', ' name'])"
   ]
  },
  {
   "cell_type": "code",
   "execution_count": 79,
   "metadata": {},
   "outputs": [],
   "source": [
    "pat = re.compile(\"[0-9\\.]+\")\n",
    "# Extract float number from a string\n",
    "def parseFloat(str):\n",
    "    global pat\n",
    "    f = pat.search(str)\n",
    "    if f is not None:\n",
    "        d = float(f.group())\n",
    "        return d\n",
    "    return None"
   ]
  },
  {
   "cell_type": "code",
   "execution_count": 80,
   "metadata": {},
   "outputs": [
    {
     "data": {
      "text/html": [
       "<div>\n",
       "<style scoped>\n",
       "    .dataframe tbody tr th:only-of-type {\n",
       "        vertical-align: middle;\n",
       "    }\n",
       "\n",
       "    .dataframe tbody tr th {\n",
       "        vertical-align: top;\n",
       "    }\n",
       "\n",
       "    .dataframe thead th {\n",
       "        text-align: right;\n",
       "    }\n",
       "</style>\n",
       "<table border=\"1\" class=\"dataframe\">\n",
       "  <thead>\n",
       "    <tr style=\"text-align: right;\">\n",
       "      <th></th>\n",
       "      <th>memory.total [MiB]</th>\n",
       "      <th>memory.used [MiB]</th>\n",
       "      <th>utilization.gpu [%]</th>\n",
       "      <th>utilization.memory [%]</th>\n",
       "    </tr>\n",
       "    <tr>\n",
       "      <th>sec</th>\n",
       "      <th></th>\n",
       "      <th></th>\n",
       "      <th></th>\n",
       "      <th></th>\n",
       "    </tr>\n",
       "  </thead>\n",
       "  <tbody>\n",
       "    <tr>\n",
       "      <th>0.000</th>\n",
       "      <td>7613.0</td>\n",
       "      <td>0.0</td>\n",
       "      <td>96.0</td>\n",
       "      <td>7.0</td>\n",
       "    </tr>\n",
       "    <tr>\n",
       "      <th>0.219</th>\n",
       "      <td>7613.0</td>\n",
       "      <td>0.0</td>\n",
       "      <td>99.0</td>\n",
       "      <td>8.0</td>\n",
       "    </tr>\n",
       "    <tr>\n",
       "      <th>0.360</th>\n",
       "      <td>7613.0</td>\n",
       "      <td>0.0</td>\n",
       "      <td>98.0</td>\n",
       "      <td>8.0</td>\n",
       "    </tr>\n",
       "  </tbody>\n",
       "</table>\n",
       "</div>"
      ],
      "text/plain": [
       "        memory.total [MiB]   memory.used [MiB]   utilization.gpu [%]  \\\n",
       "sec                                                                    \n",
       "0.000               7613.0                 0.0                  96.0   \n",
       "0.219               7613.0                 0.0                  99.0   \n",
       "0.360               7613.0                 0.0                  98.0   \n",
       "\n",
       "        utilization.memory [%]  \n",
       "sec                             \n",
       "0.000                      7.0  \n",
       "0.219                      8.0  \n",
       "0.360                      8.0  "
      ]
     },
     "execution_count": 80,
     "metadata": {},
     "output_type": "execute_result"
    }
   ],
   "source": [
    "smi_data = smi_data.applymap(parseFloat)\n",
    "smi_data.iloc[:3]"
   ]
  },
  {
   "cell_type": "code",
   "execution_count": null,
   "metadata": {},
   "outputs": [],
   "source": []
  },
  {
   "cell_type": "code",
   "execution_count": 82,
   "metadata": {},
   "outputs": [
    {
     "data": {
      "text/html": [
       "<div>\n",
       "<style scoped>\n",
       "    .dataframe tbody tr th:only-of-type {\n",
       "        vertical-align: middle;\n",
       "    }\n",
       "\n",
       "    .dataframe tbody tr th {\n",
       "        vertical-align: top;\n",
       "    }\n",
       "\n",
       "    .dataframe thead th {\n",
       "        text-align: right;\n",
       "    }\n",
       "</style>\n",
       "<table border=\"1\" class=\"dataframe\">\n",
       "  <thead>\n",
       "    <tr style=\"text-align: right;\">\n",
       "      <th></th>\n",
       "      <th>utilization.gpu [%]</th>\n",
       "      <th>utilization.memory [%]</th>\n",
       "    </tr>\n",
       "    <tr>\n",
       "      <th>sec</th>\n",
       "      <th></th>\n",
       "      <th></th>\n",
       "    </tr>\n",
       "  </thead>\n",
       "  <tbody>\n",
       "    <tr>\n",
       "      <th>11.925</th>\n",
       "      <td>100.0</td>\n",
       "      <td>88.0</td>\n",
       "    </tr>\n",
       "    <tr>\n",
       "      <th>12.026</th>\n",
       "      <td>100.0</td>\n",
       "      <td>88.0</td>\n",
       "    </tr>\n",
       "    <tr>\n",
       "      <th>12.126</th>\n",
       "      <td>64.0</td>\n",
       "      <td>58.0</td>\n",
       "    </tr>\n",
       "    <tr>\n",
       "      <th>12.227</th>\n",
       "      <td>0.0</td>\n",
       "      <td>0.0</td>\n",
       "    </tr>\n",
       "    <tr>\n",
       "      <th>12.327</th>\n",
       "      <td>0.0</td>\n",
       "      <td>0.0</td>\n",
       "    </tr>\n",
       "  </tbody>\n",
       "</table>\n",
       "</div>"
      ],
      "text/plain": [
       "         utilization.gpu [%]   utilization.memory [%]\n",
       "sec                                                  \n",
       "11.925                 100.0                     88.0\n",
       "12.026                 100.0                     88.0\n",
       "12.126                  64.0                     58.0\n",
       "12.227                   0.0                      0.0\n",
       "12.327                   0.0                      0.0"
      ]
     },
     "execution_count": 82,
     "metadata": {},
     "output_type": "execute_result"
    }
   ],
   "source": [
    "smi_MB = smi_data.filter(regex=(\".*\\[MiB.*\"))\n",
    "smi_pr = smi_data.filter(regex=(\".*\\[\\%.*\"))\n",
    "smi_pr.iloc[-5:]"
   ]
  },
  {
   "cell_type": "code",
   "execution_count": null,
   "metadata": {},
   "outputs": [],
   "source": []
  },
  {
   "cell_type": "code",
   "execution_count": 85,
   "metadata": {},
   "outputs": [
    {
     "data": {
      "image/png": "[encoded data removed]",
      "text/plain": [
       "<matplotlib.figure.Figure at 0x10df708d0>"
      ]
     },
     "metadata": {},
     "output_type": "display_data"
    }
   ],
   "source": [
    "plt.rcParams['figure.figsize'] = 12,8\n",
    "fig, axarr = plt.subplots(2)\n",
    "smi_MB.plot(linewidth=1,alpha=0.9,ax = axarr[0])\n",
    "smi_pr.plot(linewidth=1,alpha=0.9,ax = axarr[1])\n",
    "axarr[0].set_ylabel('Memory [MiB]')\n",
    "axarr[1].set_ylabel('utilization (%)')\n",
    "for axis in axarr:\n",
    "    axis.legend()\n",
    "    axis.xaxis.grid(color=\"#e0e0e0\", linestyle=\":\",linewidth=0.5)\n",
    "    axis.xaxis.set_major_locator(plt.MaxNLocator(24))\n",
    "    #axis.xaxis.set_major_locator(dates.SecondLocator(bysecond = range(120), interval = 10))\n",
    "    #axis.xaxis.set_minor_locator(dates.MicrosecondLocator(interval = 1000))\n",
    "    #axis.xaxis.set_major_formatter(dates.DateFormatter('%S:%f'))\n",
    "plt.show()"
   ]
  },
  {
   "cell_type": "code",
   "execution_count": null,
   "metadata": {},
   "outputs": [],
   "source": []
  }
 ],
 "metadata": {
  "kernelspec": {
   "display_name": "Python 2",
   "language": "python",
   "name": "python2"
  },
  "language_info": {
   "codemirror_mode": {
    "name": "ipython",
    "version": 2
   },
   "file_extension": ".py",
   "mimetype": "text/x-python",
   "name": "python",
   "nbconvert_exporter": "python",
   "pygments_lexer": "ipython2",
   "version": "2.7.11"
  }
 },
 "nbformat": 4,
 "nbformat_minor": 1
}

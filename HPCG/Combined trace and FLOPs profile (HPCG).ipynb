{
 "cells": [
  {
   "cell_type": "markdown",
   "metadata": {},
   "source": [
    "# HPCG\n",
    "## flop_sp_efficiency profile and combined trace"
   ]
  },
  {
   "cell_type": "markdown",
   "metadata": {},
   "source": [
    "## flop_sp_efficiency"
   ]
  },
  {
   "cell_type": "markdown",
   "metadata": {},
   "source": [
    "Profiled on g3.4xlarge (M60), CUDA9.0\n",
    "```\n",
    "$ nvprof --csv --log-file HPCG_M60_flops.csv --metrics flop_dp_efficiency,flop_sp_efficiency hpcg3.1/xhpcg-3.1_gcc_485_cuda90176_ompi_1_10_2_sm_35_sm_50_sm_60_sm_70_ver_10_8_17\n",
    "```"
   ]
  },
  {
   "cell_type": "code",
   "execution_count": 3,
   "metadata": {},
   "outputs": [],
   "source": [
    "%matplotlib inline\n",
    "import re\n",
    "import numpy as np\n",
    "import matplotlib\n",
    "#matplotlib.use(\"Agg\")\n",
    "import matplotlib.pyplot as plt\n",
    "import os.path\n",
    "import datetime\n",
    "from cycler import cycler\n",
    "import pandas as pd"
   ]
  },
  {
   "cell_type": "code",
   "execution_count": 22,
   "metadata": {},
   "outputs": [],
   "source": [
    "filename_nvprof_flops_chainer = \"HPCG_M60_flops.csv\"\n",
    "\n",
    "maxrows = None\n"
   ]
  },
  {
   "cell_type": "code",
   "execution_count": 24,
   "metadata": {},
   "outputs": [
    {
     "name": "stdout",
     "output_type": "stream",
     "text": [
      "Reading HPCG_M60_flops.csv\n"
     ]
    }
   ],
   "source": [
    "file1 = filename_nvprof_flops_chainer\n",
    "print \"Reading\",file1"
   ]
  },
  {
   "cell_type": "code",
   "execution_count": 79,
   "metadata": {},
   "outputs": [
    {
     "name": "stdout",
     "output_type": "stream",
     "text": [
      "HPCG_M60_flops.csv\n",
      "(96, 8)\n"
     ]
    }
   ],
   "source": [
    "print file1\n",
    "df = pd.read_csv(file1, header = 0, skiprows=[0,1,2,3,4], nrows = maxrows)\n",
    "print df.shape"
   ]
  },
  {
   "cell_type": "code",
   "execution_count": 80,
   "metadata": {},
   "outputs": [
    {
     "data": {
      "text/html": [
       "<div>\n",
       "<style scoped>\n",
       "    .dataframe tbody tr th:only-of-type {\n",
       "        vertical-align: middle;\n",
       "    }\n",
       "\n",
       "    .dataframe tbody tr th {\n",
       "        vertical-align: top;\n",
       "    }\n",
       "\n",
       "    .dataframe thead th {\n",
       "        text-align: right;\n",
       "    }\n",
       "</style>\n",
       "<table border=\"1\" class=\"dataframe\">\n",
       "  <thead>\n",
       "    <tr style=\"text-align: right;\">\n",
       "      <th></th>\n",
       "      <th>Device</th>\n",
       "      <th>Kernel</th>\n",
       "      <th>Invocations</th>\n",
       "      <th>Metric Name</th>\n",
       "      <th>Metric Description</th>\n",
       "      <th>Min</th>\n",
       "      <th>Max</th>\n",
       "      <th>Avg</th>\n",
       "    </tr>\n",
       "  </thead>\n",
       "  <tbody>\n",
       "    <tr>\n",
       "      <th>0</th>\n",
       "      <td>Tesla M60 (0)</td>\n",
       "      <td>sort_matrix_kernel(double*, int*, int)</td>\n",
       "      <td>4</td>\n",
       "      <td>flop_dp_efficiency</td>\n",
       "      <td>FLOP Efficiency(Peak Double)</td>\n",
       "      <td>0.000000%</td>\n",
       "      <td>0.000000%</td>\n",
       "      <td>0.000000%</td>\n",
       "    </tr>\n",
       "    <tr>\n",
       "      <th>1</th>\n",
       "      <td>Tesla M60 (0)</td>\n",
       "      <td>sort_matrix_kernel(double*, int*, int)</td>\n",
       "      <td>4</td>\n",
       "      <td>flop_sp_efficiency</td>\n",
       "      <td>FLOP Efficiency(Peak Single)</td>\n",
       "      <td>0.000000%</td>\n",
       "      <td>0.000000%</td>\n",
       "      <td>0.000000%</td>\n",
       "    </tr>\n",
       "    <tr>\n",
       "      <th>2</th>\n",
       "      <td>Tesla M60 (0)</td>\n",
       "      <td>void dot_kernel&lt;double, double, double, int=12...</td>\n",
       "      <td>367</td>\n",
       "      <td>flop_dp_efficiency</td>\n",
       "      <td>FLOP Efficiency(Peak Double)</td>\n",
       "      <td>1.393133%</td>\n",
       "      <td>1.598564%</td>\n",
       "      <td>1.540048%</td>\n",
       "    </tr>\n",
       "  </tbody>\n",
       "</table>\n",
       "</div>"
      ],
      "text/plain": [
       "          Device                                             Kernel  \\\n",
       "0  Tesla M60 (0)             sort_matrix_kernel(double*, int*, int)   \n",
       "1  Tesla M60 (0)             sort_matrix_kernel(double*, int*, int)   \n",
       "2  Tesla M60 (0)  void dot_kernel<double, double, double, int=12...   \n",
       "\n",
       "   Invocations         Metric Name            Metric Description        Min  \\\n",
       "0            4  flop_dp_efficiency  FLOP Efficiency(Peak Double)  0.000000%   \n",
       "1            4  flop_sp_efficiency  FLOP Efficiency(Peak Single)  0.000000%   \n",
       "2          367  flop_dp_efficiency  FLOP Efficiency(Peak Double)  1.393133%   \n",
       "\n",
       "         Max        Avg  \n",
       "0  0.000000%  0.000000%  \n",
       "1  0.000000%  0.000000%  \n",
       "2  1.598564%  1.540048%  "
      ]
     },
     "execution_count": 80,
     "metadata": {},
     "output_type": "execute_result"
    }
   ],
   "source": [
    "df.iloc[:3]"
   ]
  },
  {
   "cell_type": "markdown",
   "metadata": {},
   "source": [
    "#### Parse data to float"
   ]
  },
  {
   "cell_type": "code",
   "execution_count": 81,
   "metadata": {},
   "outputs": [],
   "source": [
    "pat = re.compile(\"[0-9\\.]+\")\n",
    "# Extract float number from a string\n",
    "def parseFloat(s):\n",
    "    global pat\n",
    "    if type(s) is not str:\n",
    "        return s\n",
    "    f = pat.search(s)\n",
    "    if f is not None:\n",
    "        d = float(f.group())\n",
    "        return d\n",
    "    return None"
   ]
  },
  {
   "cell_type": "code",
   "execution_count": 82,
   "metadata": {},
   "outputs": [],
   "source": [
    "df[['Min','Max','Avg']] = df[['Min','Max','Avg']].applymap(parseFloat)"
   ]
  },
  {
   "cell_type": "code",
   "execution_count": 83,
   "metadata": {},
   "outputs": [
    {
     "data": {
      "text/html": [
       "<div>\n",
       "<style scoped>\n",
       "    .dataframe tbody tr th:only-of-type {\n",
       "        vertical-align: middle;\n",
       "    }\n",
       "\n",
       "    .dataframe tbody tr th {\n",
       "        vertical-align: top;\n",
       "    }\n",
       "\n",
       "    .dataframe thead th {\n",
       "        text-align: right;\n",
       "    }\n",
       "</style>\n",
       "<table border=\"1\" class=\"dataframe\">\n",
       "  <thead>\n",
       "    <tr style=\"text-align: right;\">\n",
       "      <th></th>\n",
       "      <th>Device</th>\n",
       "      <th>Kernel</th>\n",
       "      <th>Invocations</th>\n",
       "      <th>Metric Name</th>\n",
       "      <th>Metric Description</th>\n",
       "      <th>Min</th>\n",
       "      <th>Max</th>\n",
       "      <th>Avg</th>\n",
       "    </tr>\n",
       "  </thead>\n",
       "  <tbody>\n",
       "    <tr>\n",
       "      <th>0</th>\n",
       "      <td>Tesla M60 (0)</td>\n",
       "      <td>sort_matrix_kernel(double*, int*, int)</td>\n",
       "      <td>4</td>\n",
       "      <td>flop_dp_efficiency</td>\n",
       "      <td>FLOP Efficiency(Peak Double)</td>\n",
       "      <td>0.000000</td>\n",
       "      <td>0.000000</td>\n",
       "      <td>0.000000</td>\n",
       "    </tr>\n",
       "    <tr>\n",
       "      <th>1</th>\n",
       "      <td>Tesla M60 (0)</td>\n",
       "      <td>sort_matrix_kernel(double*, int*, int)</td>\n",
       "      <td>4</td>\n",
       "      <td>flop_sp_efficiency</td>\n",
       "      <td>FLOP Efficiency(Peak Single)</td>\n",
       "      <td>0.000000</td>\n",
       "      <td>0.000000</td>\n",
       "      <td>0.000000</td>\n",
       "    </tr>\n",
       "    <tr>\n",
       "      <th>2</th>\n",
       "      <td>Tesla M60 (0)</td>\n",
       "      <td>void dot_kernel&lt;double, double, double, int=12...</td>\n",
       "      <td>367</td>\n",
       "      <td>flop_dp_efficiency</td>\n",
       "      <td>FLOP Efficiency(Peak Double)</td>\n",
       "      <td>1.393133</td>\n",
       "      <td>1.598564</td>\n",
       "      <td>1.540048</td>\n",
       "    </tr>\n",
       "  </tbody>\n",
       "</table>\n",
       "</div>"
      ],
      "text/plain": [
       "          Device                                             Kernel  \\\n",
       "0  Tesla M60 (0)             sort_matrix_kernel(double*, int*, int)   \n",
       "1  Tesla M60 (0)             sort_matrix_kernel(double*, int*, int)   \n",
       "2  Tesla M60 (0)  void dot_kernel<double, double, double, int=12...   \n",
       "\n",
       "   Invocations         Metric Name            Metric Description       Min  \\\n",
       "0            4  flop_dp_efficiency  FLOP Efficiency(Peak Double)  0.000000   \n",
       "1            4  flop_sp_efficiency  FLOP Efficiency(Peak Single)  0.000000   \n",
       "2          367  flop_dp_efficiency  FLOP Efficiency(Peak Double)  1.393133   \n",
       "\n",
       "        Max       Avg  \n",
       "0  0.000000  0.000000  \n",
       "1  0.000000  0.000000  \n",
       "2  1.598564  1.540048  "
      ]
     },
     "execution_count": 83,
     "metadata": {},
     "output_type": "execute_result"
    }
   ],
   "source": [
    "df.iloc[:3]"
   ]
  },
  {
   "cell_type": "markdown",
   "metadata": {},
   "source": [
    "### Aggregate values for min, max and avg for all kernels\n",
    "\n",
    "#### Remove unused columns"
   ]
  },
  {
   "cell_type": "code",
   "execution_count": 84,
   "metadata": {},
   "outputs": [
    {
     "data": {
      "text/html": [
       "<div>\n",
       "<style scoped>\n",
       "    .dataframe tbody tr th:only-of-type {\n",
       "        vertical-align: middle;\n",
       "    }\n",
       "\n",
       "    .dataframe tbody tr th {\n",
       "        vertical-align: top;\n",
       "    }\n",
       "\n",
       "    .dataframe thead th {\n",
       "        text-align: right;\n",
       "    }\n",
       "</style>\n",
       "<table border=\"1\" class=\"dataframe\">\n",
       "  <thead>\n",
       "    <tr style=\"text-align: right;\">\n",
       "      <th></th>\n",
       "      <th>Metric Name</th>\n",
       "      <th>Min</th>\n",
       "      <th>Max</th>\n",
       "      <th>Avg</th>\n",
       "    </tr>\n",
       "  </thead>\n",
       "  <tbody>\n",
       "    <tr>\n",
       "      <th>0</th>\n",
       "      <td>flop_dp_efficiency</td>\n",
       "      <td>0.000000</td>\n",
       "      <td>0.000000</td>\n",
       "      <td>0.000000</td>\n",
       "    </tr>\n",
       "    <tr>\n",
       "      <th>1</th>\n",
       "      <td>flop_sp_efficiency</td>\n",
       "      <td>0.000000</td>\n",
       "      <td>0.000000</td>\n",
       "      <td>0.000000</td>\n",
       "    </tr>\n",
       "    <tr>\n",
       "      <th>2</th>\n",
       "      <td>flop_dp_efficiency</td>\n",
       "      <td>1.393133</td>\n",
       "      <td>1.598564</td>\n",
       "      <td>1.540048</td>\n",
       "    </tr>\n",
       "  </tbody>\n",
       "</table>\n",
       "</div>"
      ],
      "text/plain": [
       "          Metric Name       Min       Max       Avg\n",
       "0  flop_dp_efficiency  0.000000  0.000000  0.000000\n",
       "1  flop_sp_efficiency  0.000000  0.000000  0.000000\n",
       "2  flop_dp_efficiency  1.393133  1.598564  1.540048"
      ]
     },
     "execution_count": 84,
     "metadata": {},
     "output_type": "execute_result"
    }
   ],
   "source": [
    "df_parts = df.drop(columns = ['Device', 'Kernel', 'Invocations', 'Metric Description']).fillna(0)\n",
    "df_parts.iloc[:3]"
   ]
  },
  {
   "cell_type": "code",
   "execution_count": 85,
   "metadata": {},
   "outputs": [
    {
     "data": {
      "text/html": [
       "<div>\n",
       "<style scoped>\n",
       "    .dataframe tbody tr th:only-of-type {\n",
       "        vertical-align: middle;\n",
       "    }\n",
       "\n",
       "    .dataframe tbody tr th {\n",
       "        vertical-align: top;\n",
       "    }\n",
       "\n",
       "    .dataframe thead th {\n",
       "        text-align: right;\n",
       "    }\n",
       "</style>\n",
       "<table border=\"1\" class=\"dataframe\">\n",
       "  <thead>\n",
       "    <tr style=\"text-align: right;\">\n",
       "      <th></th>\n",
       "      <th>Metric Name</th>\n",
       "      <th>Min</th>\n",
       "      <th>Max</th>\n",
       "      <th>Avg</th>\n",
       "    </tr>\n",
       "  </thead>\n",
       "  <tbody>\n",
       "  </tbody>\n",
       "</table>\n",
       "</div>"
      ],
      "text/plain": [
       "Empty DataFrame\n",
       "Columns: [Metric Name, Min, Max, Avg]\n",
       "Index: []"
      ]
     },
     "execution_count": 85,
     "metadata": {},
     "output_type": "execute_result"
    }
   ],
   "source": [
    "# Check invalid data: nvprof --replace-mode application can produce invalid values\n",
    "df_invalid = df_parts[(df_parts['Max'] > 100)]\n",
    "df_invalid"
   ]
  },
  {
   "cell_type": "markdown",
   "metadata": {},
   "source": [
    "#### Remove all-zero rows"
   ]
  },
  {
   "cell_type": "code",
   "execution_count": 86,
   "metadata": {},
   "outputs": [],
   "source": [
    "df_nonzero = df_parts[(df_parts['Max'] != 0) & (df_parts['Avg'] != 0) & (df_parts['Min'] != 0)]"
   ]
  },
  {
   "cell_type": "code",
   "execution_count": 87,
   "metadata": {},
   "outputs": [
    {
     "data": {
      "text/html": [
       "<div>\n",
       "<style scoped>\n",
       "    .dataframe tbody tr th:only-of-type {\n",
       "        vertical-align: middle;\n",
       "    }\n",
       "\n",
       "    .dataframe tbody tr th {\n",
       "        vertical-align: top;\n",
       "    }\n",
       "\n",
       "    .dataframe thead th {\n",
       "        text-align: right;\n",
       "    }\n",
       "</style>\n",
       "<table border=\"1\" class=\"dataframe\">\n",
       "  <thead>\n",
       "    <tr style=\"text-align: right;\">\n",
       "      <th></th>\n",
       "      <th>Metric Name</th>\n",
       "      <th>Min</th>\n",
       "      <th>Max</th>\n",
       "      <th>Avg</th>\n",
       "    </tr>\n",
       "  </thead>\n",
       "  <tbody>\n",
       "    <tr>\n",
       "      <th>2</th>\n",
       "      <td>flop_dp_efficiency</td>\n",
       "      <td>1.393133</td>\n",
       "      <td>1.598564</td>\n",
       "      <td>1.540048</td>\n",
       "    </tr>\n",
       "    <tr>\n",
       "      <th>6</th>\n",
       "      <td>flop_dp_efficiency</td>\n",
       "      <td>0.003966</td>\n",
       "      <td>0.004798</td>\n",
       "      <td>0.004492</td>\n",
       "    </tr>\n",
       "    <tr>\n",
       "      <th>12</th>\n",
       "      <td>flop_dp_efficiency</td>\n",
       "      <td>0.041848</td>\n",
       "      <td>7.494099</td>\n",
       "      <td>2.171702</td>\n",
       "    </tr>\n",
       "  </tbody>\n",
       "</table>\n",
       "</div>"
      ],
      "text/plain": [
       "           Metric Name       Min       Max       Avg\n",
       "2   flop_dp_efficiency  1.393133  1.598564  1.540048\n",
       "6   flop_dp_efficiency  0.003966  0.004798  0.004492\n",
       "12  flop_dp_efficiency  0.041848  7.494099  2.171702"
      ]
     },
     "execution_count": 87,
     "metadata": {},
     "output_type": "execute_result"
    }
   ],
   "source": [
    "df_nonzero.iloc[:3]"
   ]
  },
  {
   "cell_type": "code",
   "execution_count": 88,
   "metadata": {},
   "outputs": [
    {
     "data": {
      "text/html": [
       "<div>\n",
       "<style scoped>\n",
       "    .dataframe tbody tr th:only-of-type {\n",
       "        vertical-align: middle;\n",
       "    }\n",
       "\n",
       "    .dataframe tbody tr th {\n",
       "        vertical-align: top;\n",
       "    }\n",
       "\n",
       "    .dataframe thead th {\n",
       "        text-align: right;\n",
       "    }\n",
       "</style>\n",
       "<table border=\"1\" class=\"dataframe\">\n",
       "  <thead>\n",
       "    <tr style=\"text-align: right;\">\n",
       "      <th></th>\n",
       "      <th>Metric Name</th>\n",
       "      <th>Min</th>\n",
       "      <th>Max</th>\n",
       "      <th>Avg</th>\n",
       "    </tr>\n",
       "  </thead>\n",
       "  <tbody>\n",
       "  </tbody>\n",
       "</table>\n",
       "</div>"
      ],
      "text/plain": [
       "Empty DataFrame\n",
       "Columns: [Metric Name, Min, Max, Avg]\n",
       "Index: []"
      ]
     },
     "execution_count": 88,
     "metadata": {},
     "output_type": "execute_result"
    }
   ],
   "source": [
    "# Check if we have nonzero SP effeciency\n",
    "sp = df_nonzero[df_nonzero[\"Metric Name\"] == \"flop_sp_efficiency\"]\n",
    "sp"
   ]
  },
  {
   "cell_type": "code",
   "execution_count": 89,
   "metadata": {},
   "outputs": [
    {
     "data": {
      "text/plain": [
       "(28, 4)"
      ]
     },
     "execution_count": 89,
     "metadata": {},
     "output_type": "execute_result"
    }
   ],
   "source": [
    "# Check if we have nonzero DP effeciency\n",
    "dp = df_nonzero[df_nonzero[\"Metric Name\"] == \"flop_dp_efficiency\"]\n",
    "dp.shape"
   ]
  },
  {
   "cell_type": "markdown",
   "metadata": {},
   "source": [
    "### Plot distribution"
   ]
  },
  {
   "cell_type": "code",
   "execution_count": 90,
   "metadata": {},
   "outputs": [
    {
     "data": {
      "text/plain": [
       "array([[<matplotlib.axes._subplots.AxesSubplot object at 0x115984810>],\n",
       "       [<matplotlib.axes._subplots.AxesSubplot object at 0x1159b18d0>],\n",
       "       [<matplotlib.axes._subplots.AxesSubplot object at 0x1159cde50>]], dtype=object)"
      ]
     },
     "execution_count": 90,
     "metadata": {},
     "output_type": "execute_result"
    },
    {
     "data": {
      "image/png": "[encoded data removed]",
      "text/plain": [
       "<matplotlib.figure.Figure at 0x1159854d0>"
      ]
     },
     "metadata": {},
     "output_type": "display_data"
    }
   ],
   "source": [
    "df_nonzero.hist(layout=(3,1),sharex=True)"
   ]
  },
  {
   "cell_type": "code",
   "execution_count": null,
   "metadata": {},
   "outputs": [],
   "source": []
  },
  {
   "cell_type": "markdown",
   "metadata": {},
   "source": [
    "### Aggregate values for Min, Max and Avg"
   ]
  },
  {
   "cell_type": "code",
   "execution_count": 44,
   "metadata": {},
   "outputs": [
    {
     "data": {
      "text/html": [
       "<div>\n",
       "<style scoped>\n",
       "    .dataframe tbody tr th:only-of-type {\n",
       "        vertical-align: middle;\n",
       "    }\n",
       "\n",
       "    .dataframe tbody tr th {\n",
       "        vertical-align: top;\n",
       "    }\n",
       "\n",
       "    .dataframe thead th {\n",
       "        text-align: right;\n",
       "    }\n",
       "</style>\n",
       "<table border=\"1\" class=\"dataframe\">\n",
       "  <thead>\n",
       "    <tr style=\"text-align: right;\">\n",
       "      <th></th>\n",
       "      <th>Avg</th>\n",
       "      <th>Max</th>\n",
       "      <th>Min</th>\n",
       "    </tr>\n",
       "    <tr>\n",
       "      <th>Metric Name</th>\n",
       "      <th></th>\n",
       "      <th></th>\n",
       "      <th></th>\n",
       "    </tr>\n",
       "  </thead>\n",
       "  <tbody>\n",
       "    <tr>\n",
       "      <th>flop_dp_efficiency</th>\n",
       "      <td>1.082184</td>\n",
       "      <td>9.072376</td>\n",
       "      <td>0.000156</td>\n",
       "    </tr>\n",
       "  </tbody>\n",
       "</table>\n",
       "</div>"
      ],
      "text/plain": [
       "                         Avg       Max       Min\n",
       "Metric Name                                     \n",
       "flop_dp_efficiency  1.082184  9.072376  0.000156"
      ]
     },
     "execution_count": 44,
     "metadata": {},
     "output_type": "execute_result"
    }
   ],
   "source": [
    "df_piv = pd.pivot_table(df_nonzero, values=['Min','Max','Avg'], index='Metric Name',\n",
    "                        aggfunc={'Min':np.min, 'Max':np.max, 'Avg':np.mean})\n",
    "df_piv"
   ]
  },
  {
   "cell_type": "code",
   "execution_count": 45,
   "metadata": {},
   "outputs": [
    {
     "data": {
      "text/html": [
       "<div>\n",
       "<style scoped>\n",
       "    .dataframe tbody tr th:only-of-type {\n",
       "        vertical-align: middle;\n",
       "    }\n",
       "\n",
       "    .dataframe tbody tr th {\n",
       "        vertical-align: top;\n",
       "    }\n",
       "\n",
       "    .dataframe thead th {\n",
       "        text-align: right;\n",
       "    }\n",
       "</style>\n",
       "<table border=\"1\" class=\"dataframe\">\n",
       "  <thead>\n",
       "    <tr style=\"text-align: right;\">\n",
       "      <th></th>\n",
       "      <th>Avg</th>\n",
       "      <th>Max</th>\n",
       "      <th>Min</th>\n",
       "    </tr>\n",
       "    <tr>\n",
       "      <th>Metric Name</th>\n",
       "      <th></th>\n",
       "      <th></th>\n",
       "      <th></th>\n",
       "    </tr>\n",
       "  </thead>\n",
       "  <tbody>\n",
       "    <tr>\n",
       "      <th>flop_dp_efficiency</th>\n",
       "      <td>1.082184</td>\n",
       "      <td>2.429819</td>\n",
       "      <td>0.534466</td>\n",
       "    </tr>\n",
       "  </tbody>\n",
       "</table>\n",
       "</div>"
      ],
      "text/plain": [
       "                         Avg       Max       Min\n",
       "Metric Name                                     \n",
       "flop_dp_efficiency  1.082184  2.429819  0.534466"
      ]
     },
     "execution_count": 45,
     "metadata": {},
     "output_type": "execute_result"
    }
   ],
   "source": [
    "df_piv_mean = pd.pivot_table(df_nonzero, values=['Min','Max','Avg'], index='Metric Name',\n",
    "                        aggfunc={'Min':np.mean, 'Max':np.mean, 'Avg':np.mean})\n",
    "df_piv_mean"
   ]
  },
  {
   "cell_type": "markdown",
   "metadata": {},
   "source": [
    "\n",
    "<div style=\"display:block;margin:50px;font-size:200%;line-height:200%;\">\n",
    "    Maximum DP efficiency for HPCG is ≈9%.<br>\n",
    "    Average: ≈1%.\n",
    "</div>"
   ]
  },
  {
   "cell_type": "code",
   "execution_count": null,
   "metadata": {},
   "outputs": [],
   "source": []
  },
  {
   "cell_type": "markdown",
   "metadata": {},
   "source": [
    "# Plot combined profiling"
   ]
  },
  {
   "cell_type": "code",
   "execution_count": 5,
   "metadata": {},
   "outputs": [],
   "source": [
    "time_field_index = 0\n",
    "duration_field_index = 1\n",
    "SSMem_field_index = 9\n",
    "DSMem_field_index = 10\n",
    "size_field_index = 11\n",
    "throughput_field_index = 12\n",
    "src_field_index = 13\n",
    "dst_field_index = 14\n",
    "context_index = 16\n",
    "stream_index = 17\n",
    "name_field_index = 18\n",
    "\n",
    "title_pattern = re.compile(\"^(Start|s).*\")\n",
    "cuda_pattern = re.compile(\"\\[CUDA .*\\]\")\n",
    "\n",
    "columns = [time_field_index, duration_field_index,\n",
    "           size_field_index, throughput_field_index,\n",
    "           src_field_index, dst_field_index,\n",
    "           context_index, stream_index,\n",
    "           name_field_index]\n",
    "\n",
    "maxrows = None"
   ]
  },
  {
   "cell_type": "code",
   "execution_count": 6,
   "metadata": {},
   "outputs": [
    {
     "data": {
      "text/html": [
       "<div>\n",
       "<style scoped>\n",
       "    .dataframe tbody tr th:only-of-type {\n",
       "        vertical-align: middle;\n",
       "    }\n",
       "\n",
       "    .dataframe tbody tr th {\n",
       "        vertical-align: top;\n",
       "    }\n",
       "\n",
       "    .dataframe thead th {\n",
       "        text-align: right;\n",
       "    }\n",
       "</style>\n",
       "<table border=\"1\" class=\"dataframe\">\n",
       "  <thead>\n",
       "    <tr style=\"text-align: right;\">\n",
       "      <th></th>\n",
       "      <th>Start</th>\n",
       "      <th>Duration</th>\n",
       "      <th>Size</th>\n",
       "      <th>Throughput</th>\n",
       "      <th>SrcMemType</th>\n",
       "      <th>DstMemType</th>\n",
       "      <th>Context</th>\n",
       "      <th>Stream</th>\n",
       "      <th>Name</th>\n",
       "    </tr>\n",
       "  </thead>\n",
       "  <tbody>\n",
       "    <tr>\n",
       "      <th>4660354</th>\n",
       "      <td>62.206826</td>\n",
       "      <td>2.208</td>\n",
       "      <td>0.007812</td>\n",
       "      <td>0.003374</td>\n",
       "      <td>Device</td>\n",
       "      <td>Pageable</td>\n",
       "      <td>1</td>\n",
       "      <td>7</td>\n",
       "      <td>[CUDA memcpy DtoH]</td>\n",
       "    </tr>\n",
       "    <tr>\n",
       "      <th>4660355</th>\n",
       "      <td>62.206850</td>\n",
       "      <td>1.344</td>\n",
       "      <td>NaN</td>\n",
       "      <td>NaN</td>\n",
       "      <td>NaN</td>\n",
       "      <td>NaN</td>\n",
       "      <td>1</td>\n",
       "      <td>7</td>\n",
       "      <td>WAXPBY_kernel(double*, double, double*, double...</td>\n",
       "    </tr>\n",
       "    <tr>\n",
       "      <th>4660356</th>\n",
       "      <td>62.206977</td>\n",
       "      <td>1.280</td>\n",
       "      <td>32.000000</td>\n",
       "      <td>23.841858</td>\n",
       "      <td>Device</td>\n",
       "      <td>Device</td>\n",
       "      <td>1</td>\n",
       "      <td>7</td>\n",
       "      <td>[CUDA memcpy DtoD]</td>\n",
       "    </tr>\n",
       "    <tr>\n",
       "      <th>4660357</th>\n",
       "      <td>62.206992</td>\n",
       "      <td>1.824</td>\n",
       "      <td>NaN</td>\n",
       "      <td>NaN</td>\n",
       "      <td>NaN</td>\n",
       "      <td>NaN</td>\n",
       "      <td>1</td>\n",
       "      <td>7</td>\n",
       "      <td>perm_kernel(double*, double*, int*, int) [4377...</td>\n",
       "    </tr>\n",
       "    <tr>\n",
       "      <th>4660358</th>\n",
       "      <td>62.207000</td>\n",
       "      <td>5.088</td>\n",
       "      <td>32.000000</td>\n",
       "      <td>5.997952</td>\n",
       "      <td>Device</td>\n",
       "      <td>Pinned</td>\n",
       "      <td>1</td>\n",
       "      <td>7</td>\n",
       "      <td>[CUDA memcpy DtoH]</td>\n",
       "    </tr>\n",
       "  </tbody>\n",
       "</table>\n",
       "</div>"
      ],
      "text/plain": [
       "             Start  Duration       Size  Throughput SrcMemType DstMemType  \\\n",
       "4660354  62.206826     2.208   0.007812    0.003374     Device   Pageable   \n",
       "4660355  62.206850     1.344        NaN         NaN        NaN        NaN   \n",
       "4660356  62.206977     1.280  32.000000   23.841858     Device     Device   \n",
       "4660357  62.206992     1.824        NaN         NaN        NaN        NaN   \n",
       "4660358  62.207000     5.088  32.000000    5.997952     Device     Pinned   \n",
       "\n",
       "         Context  Stream                                               Name  \n",
       "4660354        1       7                                 [CUDA memcpy DtoH]  \n",
       "4660355        1       7  WAXPBY_kernel(double*, double, double*, double...  \n",
       "4660356        1       7                                 [CUDA memcpy DtoD]  \n",
       "4660357        1       7  perm_kernel(double*, double*, int*, int) [4377...  \n",
       "4660358        1       7                                 [CUDA memcpy DtoH]  "
      ]
     },
     "execution_count": 6,
     "metadata": {},
     "output_type": "execute_result"
    }
   ],
   "source": [
    "filename_nvsmi_hpcg = \"nvidia-smi-hpcg_comb.csv\"\n",
    "filename_nvprof_hpcg = \"nvprof-trace-hpcg_comb-44387.csv\"\n",
    "\n",
    "df_nvprof = pd.read_csv(filename_nvprof_hpcg,header = 0, usecols = columns, skiprows=[0,1,2,4], nrows = maxrows)\n",
    "df_nvprof.iloc[-5:]"
   ]
  },
  {
   "cell_type": "code",
   "execution_count": null,
   "metadata": {},
   "outputs": [],
   "source": []
  },
  {
   "cell_type": "markdown",
   "metadata": {
    "collapsed": true
   },
   "source": [
    "# Remove rows with no Throughput"
   ]
  },
  {
   "cell_type": "code",
   "execution_count": 8,
   "metadata": {},
   "outputs": [
    {
     "data": {
      "text/html": [
       "<div>\n",
       "<style scoped>\n",
       "    .dataframe tbody tr th:only-of-type {\n",
       "        vertical-align: middle;\n",
       "    }\n",
       "\n",
       "    .dataframe tbody tr th {\n",
       "        vertical-align: top;\n",
       "    }\n",
       "\n",
       "    .dataframe thead th {\n",
       "        text-align: right;\n",
       "    }\n",
       "</style>\n",
       "<table border=\"1\" class=\"dataframe\">\n",
       "  <thead>\n",
       "    <tr style=\"text-align: right;\">\n",
       "      <th></th>\n",
       "      <th>Start</th>\n",
       "      <th>Duration</th>\n",
       "      <th>Size</th>\n",
       "      <th>Throughput</th>\n",
       "      <th>SrcMemType</th>\n",
       "      <th>DstMemType</th>\n",
       "      <th>Context</th>\n",
       "      <th>Stream</th>\n",
       "      <th>Name</th>\n",
       "    </tr>\n",
       "  </thead>\n",
       "  <tbody>\n",
       "    <tr>\n",
       "      <th>4660346</th>\n",
       "      <td>62.206661</td>\n",
       "      <td>2.112</td>\n",
       "      <td>0.007812</td>\n",
       "      <td>0.003528</td>\n",
       "      <td>Device</td>\n",
       "      <td>Pageable</td>\n",
       "      <td>1</td>\n",
       "      <td>7</td>\n",
       "      <td>[CUDA memcpy DtoH]</td>\n",
       "    </tr>\n",
       "    <tr>\n",
       "      <th>4660351</th>\n",
       "      <td>62.206780</td>\n",
       "      <td>2.112</td>\n",
       "      <td>0.007812</td>\n",
       "      <td>0.003528</td>\n",
       "      <td>Device</td>\n",
       "      <td>Pageable</td>\n",
       "      <td>1</td>\n",
       "      <td>7</td>\n",
       "      <td>[CUDA memcpy DtoH]</td>\n",
       "    </tr>\n",
       "    <tr>\n",
       "      <th>4660354</th>\n",
       "      <td>62.206826</td>\n",
       "      <td>2.208</td>\n",
       "      <td>0.007812</td>\n",
       "      <td>0.003374</td>\n",
       "      <td>Device</td>\n",
       "      <td>Pageable</td>\n",
       "      <td>1</td>\n",
       "      <td>7</td>\n",
       "      <td>[CUDA memcpy DtoH]</td>\n",
       "    </tr>\n",
       "    <tr>\n",
       "      <th>4660356</th>\n",
       "      <td>62.206977</td>\n",
       "      <td>1.280</td>\n",
       "      <td>32.000000</td>\n",
       "      <td>23.841858</td>\n",
       "      <td>Device</td>\n",
       "      <td>Device</td>\n",
       "      <td>1</td>\n",
       "      <td>7</td>\n",
       "      <td>[CUDA memcpy DtoD]</td>\n",
       "    </tr>\n",
       "    <tr>\n",
       "      <th>4660358</th>\n",
       "      <td>62.207000</td>\n",
       "      <td>5.088</td>\n",
       "      <td>32.000000</td>\n",
       "      <td>5.997952</td>\n",
       "      <td>Device</td>\n",
       "      <td>Pinned</td>\n",
       "      <td>1</td>\n",
       "      <td>7</td>\n",
       "      <td>[CUDA memcpy DtoH]</td>\n",
       "    </tr>\n",
       "  </tbody>\n",
       "</table>\n",
       "</div>"
      ],
      "text/plain": [
       "             Start  Duration       Size  Throughput SrcMemType DstMemType  \\\n",
       "4660346  62.206661     2.112   0.007812    0.003528     Device   Pageable   \n",
       "4660351  62.206780     2.112   0.007812    0.003528     Device   Pageable   \n",
       "4660354  62.206826     2.208   0.007812    0.003374     Device   Pageable   \n",
       "4660356  62.206977     1.280  32.000000   23.841858     Device     Device   \n",
       "4660358  62.207000     5.088  32.000000    5.997952     Device     Pinned   \n",
       "\n",
       "         Context  Stream                Name  \n",
       "4660346        1       7  [CUDA memcpy DtoH]  \n",
       "4660351        1       7  [CUDA memcpy DtoH]  \n",
       "4660354        1       7  [CUDA memcpy DtoH]  \n",
       "4660356        1       7  [CUDA memcpy DtoD]  \n",
       "4660358        1       7  [CUDA memcpy DtoH]  "
      ]
     },
     "execution_count": 8,
     "metadata": {},
     "output_type": "execute_result"
    }
   ],
   "source": [
    "df_nvprof = df_nvprof.loc[df_nvprof[\"Throughput\"].notnull()]\n",
    "df_nvprof.iloc[-5:]"
   ]
  },
  {
   "cell_type": "code",
   "execution_count": 9,
   "metadata": {},
   "outputs": [
    {
     "name": "stdout",
     "output_type": "stream",
     "text": [
      "['[CUDA memcpy HtoD]' '[CUDA memset]' '[CUDA memcpy DtoH]'\n",
      " '[CUDA memcpy DtoD]']\n"
     ]
    }
   ],
   "source": [
    "print df_nvprof.Name.unique()"
   ]
  },
  {
   "cell_type": "code",
   "execution_count": 10,
   "metadata": {},
   "outputs": [],
   "source": [
    "df_nomemset = df_nvprof.loc[~df_nvprof[\"Name\"].str.contains(\"memset\")]"
   ]
  },
  {
   "cell_type": "code",
   "execution_count": 11,
   "metadata": {},
   "outputs": [
    {
     "name": "stdout",
     "output_type": "stream",
     "text": [
      "['[CUDA memcpy HtoD]' '[CUDA memcpy DtoH]' '[CUDA memcpy DtoD]']\n"
     ]
    }
   ],
   "source": [
    "print df_nomemset.Name.unique()"
   ]
  },
  {
   "cell_type": "code",
   "execution_count": 12,
   "metadata": {},
   "outputs": [
    {
     "data": {
      "text/html": [
       "<div>\n",
       "<style scoped>\n",
       "    .dataframe tbody tr th:only-of-type {\n",
       "        vertical-align: middle;\n",
       "    }\n",
       "\n",
       "    .dataframe tbody tr th {\n",
       "        vertical-align: top;\n",
       "    }\n",
       "\n",
       "    .dataframe thead th {\n",
       "        text-align: right;\n",
       "    }\n",
       "</style>\n",
       "<table border=\"1\" class=\"dataframe\">\n",
       "  <thead>\n",
       "    <tr style=\"text-align: right;\">\n",
       "      <th></th>\n",
       "      <th>Start</th>\n",
       "      <th>Duration</th>\n",
       "      <th>Size</th>\n",
       "      <th>Throughput</th>\n",
       "      <th>SrcMemType</th>\n",
       "      <th>DstMemType</th>\n",
       "      <th>Context</th>\n",
       "      <th>Stream</th>\n",
       "      <th>Name</th>\n",
       "    </tr>\n",
       "  </thead>\n",
       "  <tbody>\n",
       "    <tr>\n",
       "      <th>137</th>\n",
       "      <td>0.805688</td>\n",
       "      <td>1.856</td>\n",
       "      <td>32.0</td>\n",
       "      <td>16.442661</td>\n",
       "      <td>Device</td>\n",
       "      <td>Device</td>\n",
       "      <td>1</td>\n",
       "      <td>7</td>\n",
       "      <td>[CUDA memcpy DtoD]</td>\n",
       "    </tr>\n",
       "    <tr>\n",
       "      <th>139</th>\n",
       "      <td>0.805721</td>\n",
       "      <td>1.472</td>\n",
       "      <td>32.0</td>\n",
       "      <td>20.732050</td>\n",
       "      <td>Device</td>\n",
       "      <td>Device</td>\n",
       "      <td>1</td>\n",
       "      <td>7</td>\n",
       "      <td>[CUDA memcpy DtoD]</td>\n",
       "    </tr>\n",
       "    <tr>\n",
       "      <th>141</th>\n",
       "      <td>0.805750</td>\n",
       "      <td>1.632</td>\n",
       "      <td>32.0</td>\n",
       "      <td>18.699496</td>\n",
       "      <td>Device</td>\n",
       "      <td>Device</td>\n",
       "      <td>1</td>\n",
       "      <td>7</td>\n",
       "      <td>[CUDA memcpy DtoD]</td>\n",
       "    </tr>\n",
       "  </tbody>\n",
       "</table>\n",
       "</div>"
      ],
      "text/plain": [
       "        Start  Duration  Size  Throughput SrcMemType DstMemType  Context  \\\n",
       "137  0.805688     1.856  32.0   16.442661     Device     Device        1   \n",
       "139  0.805721     1.472  32.0   20.732050     Device     Device        1   \n",
       "141  0.805750     1.632  32.0   18.699496     Device     Device        1   \n",
       "\n",
       "     Stream                Name  \n",
       "137       7  [CUDA memcpy DtoD]  \n",
       "139       7  [CUDA memcpy DtoD]  \n",
       "141       7  [CUDA memcpy DtoD]  "
      ]
     },
     "execution_count": 12,
     "metadata": {},
     "output_type": "execute_result"
    }
   ],
   "source": [
    "dd = df_nomemset.loc[df_nomemset[\"Name\"].str.contains(\"DtoD\")]\n",
    "dd.iloc[:3]"
   ]
  },
  {
   "cell_type": "code",
   "execution_count": 13,
   "metadata": {},
   "outputs": [
    {
     "data": {
      "text/html": [
       "<div>\n",
       "<style scoped>\n",
       "    .dataframe tbody tr th:only-of-type {\n",
       "        vertical-align: middle;\n",
       "    }\n",
       "\n",
       "    .dataframe tbody tr th {\n",
       "        vertical-align: top;\n",
       "    }\n",
       "\n",
       "    .dataframe thead th {\n",
       "        text-align: right;\n",
       "    }\n",
       "</style>\n",
       "<table border=\"1\" class=\"dataframe\">\n",
       "  <thead>\n",
       "    <tr style=\"text-align: right;\">\n",
       "      <th></th>\n",
       "      <th>Start</th>\n",
       "      <th>Duration</th>\n",
       "      <th>Size</th>\n",
       "      <th>Throughput</th>\n",
       "      <th>SrcMemType</th>\n",
       "      <th>DstMemType</th>\n",
       "      <th>Context</th>\n",
       "      <th>Stream</th>\n",
       "      <th>Name</th>\n",
       "    </tr>\n",
       "  </thead>\n",
       "  <tbody>\n",
       "    <tr>\n",
       "      <th>0</th>\n",
       "      <td>0.573196</td>\n",
       "      <td>1.472</td>\n",
       "      <td>0.109375</td>\n",
       "      <td>0.070861</td>\n",
       "      <td>Pageable</td>\n",
       "      <td>Device</td>\n",
       "      <td>1</td>\n",
       "      <td>7</td>\n",
       "      <td>[CUDA memcpy HtoD]</td>\n",
       "    </tr>\n",
       "    <tr>\n",
       "      <th>3</th>\n",
       "      <td>0.601854</td>\n",
       "      <td>2.432</td>\n",
       "      <td>0.003906</td>\n",
       "      <td>0.001532</td>\n",
       "      <td>Device</td>\n",
       "      <td>Pageable</td>\n",
       "      <td>1</td>\n",
       "      <td>7</td>\n",
       "      <td>[CUDA memcpy DtoH]</td>\n",
       "    </tr>\n",
       "    <tr>\n",
       "      <th>9</th>\n",
       "      <td>0.605561</td>\n",
       "      <td>2.752</td>\n",
       "      <td>0.105469</td>\n",
       "      <td>0.036549</td>\n",
       "      <td>Device</td>\n",
       "      <td>Pageable</td>\n",
       "      <td>1</td>\n",
       "      <td>7</td>\n",
       "      <td>[CUDA memcpy DtoH]</td>\n",
       "    </tr>\n",
       "  </tbody>\n",
       "</table>\n",
       "</div>"
      ],
      "text/plain": [
       "      Start  Duration      Size  Throughput SrcMemType DstMemType  Context  \\\n",
       "0  0.573196     1.472  0.109375    0.070861   Pageable     Device        1   \n",
       "3  0.601854     2.432  0.003906    0.001532     Device   Pageable        1   \n",
       "9  0.605561     2.752  0.105469    0.036549     Device   Pageable        1   \n",
       "\n",
       "   Stream                Name  \n",
       "0       7  [CUDA memcpy HtoD]  \n",
       "3       7  [CUDA memcpy DtoH]  \n",
       "9       7  [CUDA memcpy DtoH]  "
      ]
     },
     "execution_count": 13,
     "metadata": {},
     "output_type": "execute_result"
    }
   ],
   "source": [
    "dh = df_nomemset.loc[~df_nomemset[\"Name\"].str.contains(\"DtoD\")]\n",
    "dh.iloc[:3]"
   ]
  },
  {
   "cell_type": "code",
   "execution_count": 15,
   "metadata": {},
   "outputs": [
    {
     "data": {
      "text/plain": [
       "Text(0,0.5,u'Throughput (GB/s)')"
      ]
     },
     "execution_count": 15,
     "metadata": {},
     "output_type": "execute_result"
    },
    {
     "data": {
      "image/png": "[encoded data removed]",
      "text/plain": [
       "<matplotlib.figure.Figure at 0x109ca7050>"
      ]
     },
     "metadata": {},
     "output_type": "display_data"
    }
   ],
   "source": [
    "plt.rcParams['figure.figsize'] = 12,8\n",
    "fig, axarr = plt.subplots(1,2)\n",
    "dd.boxplot(column=\"Throughput\",by=\"Name\",ax=axarr[0])\n",
    "dh.boxplot(column=\"Throughput\",by=\"Name\",ax=axarr[1])\n",
    "axarr[0].set_ylabel('Throughput (GB/s)')\n",
    "#ax = plt.gca()\n",
    "#ax.set_ylabel('Throughput (GB/s)')"
   ]
  },
  {
   "cell_type": "code",
   "execution_count": 16,
   "metadata": {},
   "outputs": [
    {
     "name": "stdout",
     "output_type": "stream",
     "text": [
      "Index([u'Start', u'Duration', u'Size', u'Throughput', u'SrcMemType',\n",
      "       u'DstMemType', u'Context', u'Stream', u'Name'],\n",
      "      dtype='object')\n"
     ]
    },
    {
     "data": {
      "text/html": [
       "<div>\n",
       "<style scoped>\n",
       "    .dataframe tbody tr th:only-of-type {\n",
       "        vertical-align: middle;\n",
       "    }\n",
       "\n",
       "    .dataframe tbody tr th {\n",
       "        vertical-align: top;\n",
       "    }\n",
       "\n",
       "    .dataframe thead th {\n",
       "        text-align: right;\n",
       "    }\n",
       "</style>\n",
       "<table border=\"1\" class=\"dataframe\">\n",
       "  <thead>\n",
       "    <tr style=\"text-align: right;\">\n",
       "      <th></th>\n",
       "      <th>Start</th>\n",
       "      <th>Duration</th>\n",
       "      <th>Size</th>\n",
       "      <th>Throughput</th>\n",
       "      <th>SrcMemType</th>\n",
       "      <th>DstMemType</th>\n",
       "      <th>Context</th>\n",
       "      <th>Stream</th>\n",
       "      <th>Name</th>\n",
       "    </tr>\n",
       "  </thead>\n",
       "  <tbody>\n",
       "    <tr>\n",
       "      <th>0</th>\n",
       "      <td>0.573196</td>\n",
       "      <td>1.472</td>\n",
       "      <td>0.109375</td>\n",
       "      <td>0.070861</td>\n",
       "      <td>Pageable</td>\n",
       "      <td>Device</td>\n",
       "      <td>1</td>\n",
       "      <td>7</td>\n",
       "      <td>[CUDA memcpy HtoD]</td>\n",
       "    </tr>\n",
       "    <tr>\n",
       "      <th>1</th>\n",
       "      <td>0.601747</td>\n",
       "      <td>2.624</td>\n",
       "      <td>0.003906</td>\n",
       "      <td>0.001420</td>\n",
       "      <td>Device</td>\n",
       "      <td>NaN</td>\n",
       "      <td>1</td>\n",
       "      <td>7</td>\n",
       "      <td>[CUDA memset]</td>\n",
       "    </tr>\n",
       "    <tr>\n",
       "      <th>3</th>\n",
       "      <td>0.601854</td>\n",
       "      <td>2.432</td>\n",
       "      <td>0.003906</td>\n",
       "      <td>0.001532</td>\n",
       "      <td>Device</td>\n",
       "      <td>Pageable</td>\n",
       "      <td>1</td>\n",
       "      <td>7</td>\n",
       "      <td>[CUDA memcpy DtoH]</td>\n",
       "    </tr>\n",
       "  </tbody>\n",
       "</table>\n",
       "</div>"
      ],
      "text/plain": [
       "      Start  Duration      Size  Throughput SrcMemType DstMemType  Context  \\\n",
       "0  0.573196     1.472  0.109375    0.070861   Pageable     Device        1   \n",
       "1  0.601747     2.624  0.003906    0.001420     Device        NaN        1   \n",
       "3  0.601854     2.432  0.003906    0.001532     Device   Pageable        1   \n",
       "\n",
       "   Stream                Name  \n",
       "0       7  [CUDA memcpy HtoD]  \n",
       "1       7       [CUDA memset]  \n",
       "3       7  [CUDA memcpy DtoH]  "
      ]
     },
     "execution_count": 16,
     "metadata": {},
     "output_type": "execute_result"
    }
   ],
   "source": [
    "print df_nvprof.columns\n",
    "df_nvprof.iloc[:3]"
   ]
  },
  {
   "cell_type": "code",
   "execution_count": 17,
   "metadata": {},
   "outputs": [],
   "source": [
    "df_nvprof['FullName']  = df_nvprof.loc[:,'Name'] + \" \" + df_nvprof.loc[:,'SrcMemType']+ df_nvprof.loc[:,'DstMemType'].fillna(\"\")"
   ]
  },
  {
   "cell_type": "code",
   "execution_count": 18,
   "metadata": {},
   "outputs": [
    {
     "data": {
      "text/html": [
       "<div>\n",
       "<style scoped>\n",
       "    .dataframe tbody tr th:only-of-type {\n",
       "        vertical-align: middle;\n",
       "    }\n",
       "\n",
       "    .dataframe tbody tr th {\n",
       "        vertical-align: top;\n",
       "    }\n",
       "\n",
       "    .dataframe thead th {\n",
       "        text-align: right;\n",
       "    }\n",
       "</style>\n",
       "<table border=\"1\" class=\"dataframe\">\n",
       "  <thead>\n",
       "    <tr style=\"text-align: right;\">\n",
       "      <th></th>\n",
       "      <th>Start</th>\n",
       "      <th>Duration</th>\n",
       "      <th>Size</th>\n",
       "      <th>Throughput</th>\n",
       "      <th>SrcMemType</th>\n",
       "      <th>DstMemType</th>\n",
       "      <th>Context</th>\n",
       "      <th>Stream</th>\n",
       "      <th>Name</th>\n",
       "      <th>FullName</th>\n",
       "    </tr>\n",
       "  </thead>\n",
       "  <tbody>\n",
       "  </tbody>\n",
       "</table>\n",
       "</div>"
      ],
      "text/plain": [
       "Empty DataFrame\n",
       "Columns: [Start, Duration, Size, Throughput, SrcMemType, DstMemType, Context, Stream, Name, FullName]\n",
       "Index: []"
      ]
     },
     "execution_count": 18,
     "metadata": {},
     "output_type": "execute_result"
    }
   ],
   "source": [
    "df_nvprof[pd.isnull(df_nvprof[\"FullName\"])]"
   ]
  },
  {
   "cell_type": "code",
   "execution_count": 19,
   "metadata": {},
   "outputs": [],
   "source": [
    "# Convert unique values in column \"FullName\" to new columns\n",
    "def mergeColumnNames(df_org):\n",
    "    df = df_org.pivot(index=\"Start\", columns=\"FullName\", values = 'Throughput')\n",
    "    df = df.fillna(0)  # Fill empty cells with 0-s\n",
    "    return df"
   ]
  },
  {
   "cell_type": "code",
   "execution_count": 20,
   "metadata": {},
   "outputs": [],
   "source": [
    "df_throughput = mergeColumnNames(df_nvprof)"
   ]
  },
  {
   "cell_type": "code",
   "execution_count": 21,
   "metadata": {},
   "outputs": [
    {
     "data": {
      "text/html": [
       "<div>\n",
       "<style scoped>\n",
       "    .dataframe tbody tr th:only-of-type {\n",
       "        vertical-align: middle;\n",
       "    }\n",
       "\n",
       "    .dataframe tbody tr th {\n",
       "        vertical-align: top;\n",
       "    }\n",
       "\n",
       "    .dataframe thead th {\n",
       "        text-align: right;\n",
       "    }\n",
       "</style>\n",
       "<table border=\"1\" class=\"dataframe\">\n",
       "  <thead>\n",
       "    <tr style=\"text-align: right;\">\n",
       "      <th>FullName</th>\n",
       "      <th>[CUDA memcpy DtoD] DeviceDevice</th>\n",
       "      <th>[CUDA memcpy DtoH] DevicePageable</th>\n",
       "      <th>[CUDA memcpy DtoH] DevicePinned</th>\n",
       "      <th>[CUDA memcpy HtoD] PageableDevice</th>\n",
       "      <th>[CUDA memcpy HtoD] PinnedDevice</th>\n",
       "      <th>[CUDA memset] Device</th>\n",
       "    </tr>\n",
       "    <tr>\n",
       "      <th>Start</th>\n",
       "      <th></th>\n",
       "      <th></th>\n",
       "      <th></th>\n",
       "      <th></th>\n",
       "      <th></th>\n",
       "      <th></th>\n",
       "    </tr>\n",
       "  </thead>\n",
       "  <tbody>\n",
       "    <tr>\n",
       "      <th>0.573196</th>\n",
       "      <td>0.0</td>\n",
       "      <td>0.000000</td>\n",
       "      <td>0.0</td>\n",
       "      <td>0.070861</td>\n",
       "      <td>0.0</td>\n",
       "      <td>0.00000</td>\n",
       "    </tr>\n",
       "    <tr>\n",
       "      <th>0.601747</th>\n",
       "      <td>0.0</td>\n",
       "      <td>0.000000</td>\n",
       "      <td>0.0</td>\n",
       "      <td>0.000000</td>\n",
       "      <td>0.0</td>\n",
       "      <td>0.00142</td>\n",
       "    </tr>\n",
       "    <tr>\n",
       "      <th>0.601854</th>\n",
       "      <td>0.0</td>\n",
       "      <td>0.001532</td>\n",
       "      <td>0.0</td>\n",
       "      <td>0.000000</td>\n",
       "      <td>0.0</td>\n",
       "      <td>0.00000</td>\n",
       "    </tr>\n",
       "  </tbody>\n",
       "</table>\n",
       "</div>"
      ],
      "text/plain": [
       "FullName  [CUDA memcpy DtoD] DeviceDevice  [CUDA memcpy DtoH] DevicePageable  \\\n",
       "Start                                                                          \n",
       "0.573196                              0.0                           0.000000   \n",
       "0.601747                              0.0                           0.000000   \n",
       "0.601854                              0.0                           0.001532   \n",
       "\n",
       "FullName  [CUDA memcpy DtoH] DevicePinned  [CUDA memcpy HtoD] PageableDevice  \\\n",
       "Start                                                                          \n",
       "0.573196                              0.0                           0.070861   \n",
       "0.601747                              0.0                           0.000000   \n",
       "0.601854                              0.0                           0.000000   \n",
       "\n",
       "FullName  [CUDA memcpy HtoD] PinnedDevice  [CUDA memset] Device  \n",
       "Start                                                            \n",
       "0.573196                              0.0               0.00000  \n",
       "0.601747                              0.0               0.00142  \n",
       "0.601854                              0.0               0.00000  "
      ]
     },
     "execution_count": 21,
     "metadata": {},
     "output_type": "execute_result"
    }
   ],
   "source": [
    "df_throughput.iloc[:3]"
   ]
  },
  {
   "cell_type": "code",
   "execution_count": 46,
   "metadata": {},
   "outputs": [
    {
     "data": {
      "text/html": [
       "<div>\n",
       "<style scoped>\n",
       "    .dataframe tbody tr th:only-of-type {\n",
       "        vertical-align: middle;\n",
       "    }\n",
       "\n",
       "    .dataframe tbody tr th {\n",
       "        vertical-align: top;\n",
       "    }\n",
       "\n",
       "    .dataframe thead th {\n",
       "        text-align: right;\n",
       "    }\n",
       "</style>\n",
       "<table border=\"1\" class=\"dataframe\">\n",
       "  <thead>\n",
       "    <tr style=\"text-align: right;\">\n",
       "      <th>FullName</th>\n",
       "      <th>[CUDA memcpy DtoD] DeviceDevice</th>\n",
       "      <th>[CUDA memcpy DtoH] DevicePageable</th>\n",
       "      <th>[CUDA memcpy DtoH] DevicePinned</th>\n",
       "      <th>[CUDA memcpy HtoD] PageableDevice</th>\n",
       "      <th>[CUDA memcpy HtoD] PinnedDevice</th>\n",
       "    </tr>\n",
       "    <tr>\n",
       "      <th>Start</th>\n",
       "      <th></th>\n",
       "      <th></th>\n",
       "      <th></th>\n",
       "      <th></th>\n",
       "      <th></th>\n",
       "    </tr>\n",
       "  </thead>\n",
       "  <tbody>\n",
       "    <tr>\n",
       "      <th>0.573196</th>\n",
       "      <td>0.0</td>\n",
       "      <td>0.000000</td>\n",
       "      <td>0.0</td>\n",
       "      <td>0.070861</td>\n",
       "      <td>0.0</td>\n",
       "    </tr>\n",
       "    <tr>\n",
       "      <th>0.601747</th>\n",
       "      <td>0.0</td>\n",
       "      <td>0.000000</td>\n",
       "      <td>0.0</td>\n",
       "      <td>0.000000</td>\n",
       "      <td>0.0</td>\n",
       "    </tr>\n",
       "    <tr>\n",
       "      <th>0.601854</th>\n",
       "      <td>0.0</td>\n",
       "      <td>0.001532</td>\n",
       "      <td>0.0</td>\n",
       "      <td>0.000000</td>\n",
       "      <td>0.0</td>\n",
       "    </tr>\n",
       "  </tbody>\n",
       "</table>\n",
       "</div>"
      ],
      "text/plain": [
       "FullName  [CUDA memcpy DtoD] DeviceDevice  [CUDA memcpy DtoH] DevicePageable  \\\n",
       "Start                                                                          \n",
       "0.573196                              0.0                           0.000000   \n",
       "0.601747                              0.0                           0.000000   \n",
       "0.601854                              0.0                           0.001532   \n",
       "\n",
       "FullName  [CUDA memcpy DtoH] DevicePinned  [CUDA memcpy HtoD] PageableDevice  \\\n",
       "Start                                                                          \n",
       "0.573196                              0.0                           0.070861   \n",
       "0.601747                              0.0                           0.000000   \n",
       "0.601854                              0.0                           0.000000   \n",
       "\n",
       "FullName  [CUDA memcpy HtoD] PinnedDevice  \n",
       "Start                                      \n",
       "0.573196                              0.0  \n",
       "0.601747                              0.0  \n",
       "0.601854                              0.0  "
      ]
     },
     "execution_count": 46,
     "metadata": {},
     "output_type": "execute_result"
    }
   ],
   "source": [
    "df_memcpy = df_throughput.filter(regex=(\"^((?!memset).)*$\"))\n",
    "df_memcpy.iloc[:3]"
   ]
  },
  {
   "cell_type": "code",
   "execution_count": 47,
   "metadata": {},
   "outputs": [],
   "source": [
    "def appendMaxValues2ColumnNames(df,series):\n",
    "    cols = len(df.columns)\n",
    "    col_names = []\n",
    "    for i in range(0,cols):\n",
    "        name = df.columns[i].replace(\"[CUDA memcpy \",\"\")\n",
    "        name = name.replace(\"]\",\"\")\n",
    "        col_names.append(series+name+\" \" +'{:.3f}'.format(df.iloc[:,i].max()))\n",
    "    df.columns = col_names\n",
    "    return df"
   ]
  },
  {
   "cell_type": "code",
   "execution_count": 48,
   "metadata": {},
   "outputs": [],
   "source": [
    "df_memcpy = appendMaxValues2ColumnNames(df_memcpy,\"\")"
   ]
  },
  {
   "cell_type": "code",
   "execution_count": 49,
   "metadata": {},
   "outputs": [
    {
     "data": {
      "text/plain": [
       "Index([u'DtoD DeviceDevice 25.775', u'DtoH DevicePageable 11.806',\n",
       "       u'DtoH DevicePinned 6.623', u'HtoD PageableDevice 1.355',\n",
       "       u'HtoD PinnedDevice 5.481'],\n",
       "      dtype='object')"
      ]
     },
     "execution_count": 49,
     "metadata": {},
     "output_type": "execute_result"
    }
   ],
   "source": [
    "df_memcpy.columns"
   ]
  },
  {
   "cell_type": "code",
   "execution_count": 50,
   "metadata": {},
   "outputs": [
    {
     "data": {
      "text/html": [
       "<div>\n",
       "<style scoped>\n",
       "    .dataframe tbody tr th:only-of-type {\n",
       "        vertical-align: middle;\n",
       "    }\n",
       "\n",
       "    .dataframe tbody tr th {\n",
       "        vertical-align: top;\n",
       "    }\n",
       "\n",
       "    .dataframe thead th {\n",
       "        text-align: right;\n",
       "    }\n",
       "</style>\n",
       "<table border=\"1\" class=\"dataframe\">\n",
       "  <thead>\n",
       "    <tr style=\"text-align: right;\">\n",
       "      <th></th>\n",
       "      <th>DtoD DeviceDevice 25.775</th>\n",
       "    </tr>\n",
       "    <tr>\n",
       "      <th>Start</th>\n",
       "      <th></th>\n",
       "    </tr>\n",
       "  </thead>\n",
       "  <tbody>\n",
       "    <tr>\n",
       "      <th>0.573196</th>\n",
       "      <td>0.0</td>\n",
       "    </tr>\n",
       "    <tr>\n",
       "      <th>0.601747</th>\n",
       "      <td>0.0</td>\n",
       "    </tr>\n",
       "    <tr>\n",
       "      <th>0.601854</th>\n",
       "      <td>0.0</td>\n",
       "    </tr>\n",
       "  </tbody>\n",
       "</table>\n",
       "</div>"
      ],
      "text/plain": [
       "          DtoD DeviceDevice 25.775\n",
       "Start                             \n",
       "0.573196                       0.0\n",
       "0.601747                       0.0\n",
       "0.601854                       0.0"
      ]
     },
     "execution_count": 50,
     "metadata": {},
     "output_type": "execute_result"
    }
   ],
   "source": [
    "dd = df_memcpy.filter(regex=(\".*DtoD.+\"))\n",
    "dd.iloc[:3]"
   ]
  },
  {
   "cell_type": "code",
   "execution_count": 51,
   "metadata": {},
   "outputs": [
    {
     "data": {
      "text/html": [
       "<div>\n",
       "<style scoped>\n",
       "    .dataframe tbody tr th:only-of-type {\n",
       "        vertical-align: middle;\n",
       "    }\n",
       "\n",
       "    .dataframe tbody tr th {\n",
       "        vertical-align: top;\n",
       "    }\n",
       "\n",
       "    .dataframe thead th {\n",
       "        text-align: right;\n",
       "    }\n",
       "</style>\n",
       "<table border=\"1\" class=\"dataframe\">\n",
       "  <thead>\n",
       "    <tr style=\"text-align: right;\">\n",
       "      <th></th>\n",
       "      <th>DtoH DevicePageable 11.806</th>\n",
       "      <th>DtoH DevicePinned 6.623</th>\n",
       "      <th>HtoD PageableDevice 1.355</th>\n",
       "      <th>HtoD PinnedDevice 5.481</th>\n",
       "    </tr>\n",
       "    <tr>\n",
       "      <th>Start</th>\n",
       "      <th></th>\n",
       "      <th></th>\n",
       "      <th></th>\n",
       "      <th></th>\n",
       "    </tr>\n",
       "  </thead>\n",
       "  <tbody>\n",
       "    <tr>\n",
       "      <th>0.573196</th>\n",
       "      <td>0.000000</td>\n",
       "      <td>0.0</td>\n",
       "      <td>0.070861</td>\n",
       "      <td>0.0</td>\n",
       "    </tr>\n",
       "    <tr>\n",
       "      <th>0.601747</th>\n",
       "      <td>0.000000</td>\n",
       "      <td>0.0</td>\n",
       "      <td>0.000000</td>\n",
       "      <td>0.0</td>\n",
       "    </tr>\n",
       "    <tr>\n",
       "      <th>0.601854</th>\n",
       "      <td>0.001532</td>\n",
       "      <td>0.0</td>\n",
       "      <td>0.000000</td>\n",
       "      <td>0.0</td>\n",
       "    </tr>\n",
       "  </tbody>\n",
       "</table>\n",
       "</div>"
      ],
      "text/plain": [
       "          DtoH DevicePageable 11.806  DtoH DevicePinned 6.623  \\\n",
       "Start                                                           \n",
       "0.573196                    0.000000                      0.0   \n",
       "0.601747                    0.000000                      0.0   \n",
       "0.601854                    0.001532                      0.0   \n",
       "\n",
       "          HtoD PageableDevice 1.355  HtoD PinnedDevice 5.481  \n",
       "Start                                                         \n",
       "0.573196                   0.070861                      0.0  \n",
       "0.601747                   0.000000                      0.0  \n",
       "0.601854                   0.000000                      0.0  "
      ]
     },
     "execution_count": 51,
     "metadata": {},
     "output_type": "execute_result"
    }
   ],
   "source": [
    "dh = df_memcpy.filter(regex=(\".*(HtoD|DtoH).*\"))\n",
    "dh.iloc[:3]"
   ]
  },
  {
   "cell_type": "code",
   "execution_count": 52,
   "metadata": {},
   "outputs": [
    {
     "data": {
      "image/png": "[encoded data removed]",
      "text/plain": [
       "<matplotlib.figure.Figure at 0x1159faad0>"
      ]
     },
     "metadata": {},
     "output_type": "display_data"
    }
   ],
   "source": [
    "plt.rcParams['figure.figsize'] = 12,6\n",
    "fig, axarr = plt.subplots(2)\n",
    "dd.plot(linewidth=0.6,alpha=0.9,ax = axarr[0])\n",
    "dh.plot(linewidth=0.6,alpha=0.9,ax = axarr[1])\n",
    "for ax in axarr:\n",
    "    ax.xaxis.grid(color=\"#e0e0e0\", linestyle=\":\",linewidth=0.5)\n",
    "    ax.yaxis.grid(color=\"#e0e0e0\", linestyle=\":\",linewidth=0.5)\n",
    "    ax.set_ylabel('Throughput (GB/s)')"
   ]
  },
  {
   "cell_type": "code",
   "execution_count": 53,
   "metadata": {},
   "outputs": [],
   "source": [
    "# PCI express x3 bandwidth\n",
    "PCI3_band = 16 # GB/s"
   ]
  },
  {
   "cell_type": "code",
   "execution_count": 54,
   "metadata": {},
   "outputs": [
    {
     "name": "stdout",
     "output_type": "stream",
     "text": [
      "160.0\n"
     ]
    }
   ],
   "source": [
    "# Device DRAM bandwidth\n",
    "# Memory clock rate\n",
    "GHz=5\n",
    "# Interface width\n",
    "bit=256\n",
    "\n",
    "DRAM_GBs=(GHz * 1e9 * (bit/8)) / 1e9\n",
    "print DRAM_GBs"
   ]
  },
  {
   "cell_type": "markdown",
   "metadata": {},
   "source": [
    "#### Normalize H<->D throughput"
   ]
  },
  {
   "cell_type": "code",
   "execution_count": 62,
   "metadata": {},
   "outputs": [
    {
     "name": "stdout",
     "output_type": "stream",
     "text": [
      "<class 'pandas.core.frame.DataFrame'> (1420, 5)\n",
      "<class 'pandas.core.frame.DataFrame'> (1420, 5)\n"
     ]
    },
    {
     "data": {
      "text/html": [
       "<div>\n",
       "<style scoped>\n",
       "    .dataframe tbody tr th:only-of-type {\n",
       "        vertical-align: middle;\n",
       "    }\n",
       "\n",
       "    .dataframe tbody tr th {\n",
       "        vertical-align: top;\n",
       "    }\n",
       "\n",
       "    .dataframe thead th {\n",
       "        text-align: right;\n",
       "    }\n",
       "</style>\n",
       "<table border=\"1\" class=\"dataframe\">\n",
       "  <thead>\n",
       "    <tr style=\"text-align: right;\">\n",
       "      <th></th>\n",
       "      <th>DtoD DeviceDevice 25.775</th>\n",
       "      <th>DtoH DevicePageable 11.806</th>\n",
       "      <th>DtoH DevicePinned 6.623</th>\n",
       "      <th>HtoD PageableDevice 1.355</th>\n",
       "      <th>HtoD PinnedDevice 5.481</th>\n",
       "    </tr>\n",
       "    <tr>\n",
       "      <th>Start</th>\n",
       "      <th></th>\n",
       "      <th></th>\n",
       "      <th></th>\n",
       "      <th></th>\n",
       "      <th></th>\n",
       "    </tr>\n",
       "  </thead>\n",
       "  <tbody>\n",
       "    <tr>\n",
       "      <th>0.573196</th>\n",
       "      <td>0.0</td>\n",
       "      <td>0.000000</td>\n",
       "      <td>0.0</td>\n",
       "      <td>0.070861</td>\n",
       "      <td>0.0</td>\n",
       "    </tr>\n",
       "    <tr>\n",
       "      <th>0.601747</th>\n",
       "      <td>0.0</td>\n",
       "      <td>0.000000</td>\n",
       "      <td>0.0</td>\n",
       "      <td>0.000000</td>\n",
       "      <td>0.0</td>\n",
       "    </tr>\n",
       "    <tr>\n",
       "      <th>0.601854</th>\n",
       "      <td>0.0</td>\n",
       "      <td>0.001532</td>\n",
       "      <td>0.0</td>\n",
       "      <td>0.000000</td>\n",
       "      <td>0.0</td>\n",
       "    </tr>\n",
       "    <tr>\n",
       "      <th>0.605447</th>\n",
       "      <td>0.0</td>\n",
       "      <td>0.000000</td>\n",
       "      <td>0.0</td>\n",
       "      <td>0.000000</td>\n",
       "      <td>0.0</td>\n",
       "    </tr>\n",
       "    <tr>\n",
       "      <th>0.605454</th>\n",
       "      <td>0.0</td>\n",
       "      <td>0.000000</td>\n",
       "      <td>0.0</td>\n",
       "      <td>0.000000</td>\n",
       "      <td>0.0</td>\n",
       "    </tr>\n",
       "    <tr>\n",
       "      <th>0.605460</th>\n",
       "      <td>0.0</td>\n",
       "      <td>0.000000</td>\n",
       "      <td>0.0</td>\n",
       "      <td>0.000000</td>\n",
       "      <td>0.0</td>\n",
       "    </tr>\n",
       "    <tr>\n",
       "      <th>0.605465</th>\n",
       "      <td>0.0</td>\n",
       "      <td>0.000000</td>\n",
       "      <td>0.0</td>\n",
       "      <td>0.000000</td>\n",
       "      <td>0.0</td>\n",
       "    </tr>\n",
       "  </tbody>\n",
       "</table>\n",
       "</div>"
      ],
      "text/plain": [
       "          DtoD DeviceDevice 25.775  DtoH DevicePageable 11.806  \\\n",
       "Start                                                            \n",
       "0.573196                       0.0                    0.000000   \n",
       "0.601747                       0.0                    0.000000   \n",
       "0.601854                       0.0                    0.001532   \n",
       "0.605447                       0.0                    0.000000   \n",
       "0.605454                       0.0                    0.000000   \n",
       "0.605460                       0.0                    0.000000   \n",
       "0.605465                       0.0                    0.000000   \n",
       "\n",
       "          DtoH DevicePinned 6.623  HtoD PageableDevice 1.355  \\\n",
       "Start                                                          \n",
       "0.573196                      0.0                   0.070861   \n",
       "0.601747                      0.0                   0.000000   \n",
       "0.601854                      0.0                   0.000000   \n",
       "0.605447                      0.0                   0.000000   \n",
       "0.605454                      0.0                   0.000000   \n",
       "0.605460                      0.0                   0.000000   \n",
       "0.605465                      0.0                   0.000000   \n",
       "\n",
       "          HtoD PinnedDevice 5.481  \n",
       "Start                              \n",
       "0.573196                      0.0  \n",
       "0.601747                      0.0  \n",
       "0.601854                      0.0  \n",
       "0.605447                      0.0  \n",
       "0.605454                      0.0  \n",
       "0.605460                      0.0  \n",
       "0.605465                      0.0  "
      ]
     },
     "execution_count": 62,
     "metadata": {},
     "output_type": "execute_result"
    }
   ],
   "source": [
    "norm = df_memcpy.copy()\n",
    "print type(df_memcpy),df_memcpy[:1].shape\n",
    "print type(norm),norm[:1].shape\n",
    "norm.iloc[:7]"
   ]
  },
  {
   "cell_type": "code",
   "execution_count": 63,
   "metadata": {},
   "outputs": [
    {
     "data": {
      "text/html": [
       "<div>\n",
       "<style scoped>\n",
       "    .dataframe tbody tr th:only-of-type {\n",
       "        vertical-align: middle;\n",
       "    }\n",
       "\n",
       "    .dataframe tbody tr th {\n",
       "        vertical-align: top;\n",
       "    }\n",
       "\n",
       "    .dataframe thead th {\n",
       "        text-align: right;\n",
       "    }\n",
       "</style>\n",
       "<table border=\"1\" class=\"dataframe\">\n",
       "  <thead>\n",
       "    <tr style=\"text-align: right;\">\n",
       "      <th></th>\n",
       "      <th>DtoD DeviceDevice 25.775</th>\n",
       "      <th>DtoH DevicePageable 11.806</th>\n",
       "      <th>DtoH DevicePinned 6.623</th>\n",
       "      <th>HtoD PageableDevice 1.355</th>\n",
       "      <th>HtoD PinnedDevice 5.481</th>\n",
       "    </tr>\n",
       "    <tr>\n",
       "      <th>Start</th>\n",
       "      <th></th>\n",
       "      <th></th>\n",
       "      <th></th>\n",
       "      <th></th>\n",
       "      <th></th>\n",
       "    </tr>\n",
       "  </thead>\n",
       "  <tbody>\n",
       "    <tr>\n",
       "      <th>21.278029</th>\n",
       "      <td>25.774982</td>\n",
       "      <td>0.0</td>\n",
       "      <td>0.0</td>\n",
       "      <td>0.0</td>\n",
       "      <td>0.0</td>\n",
       "    </tr>\n",
       "  </tbody>\n",
       "</table>\n",
       "</div>"
      ],
      "text/plain": [
       "           DtoD DeviceDevice 25.775  DtoH DevicePageable 11.806  \\\n",
       "Start                                                             \n",
       "21.278029                 25.774982                         0.0   \n",
       "\n",
       "           DtoH DevicePinned 6.623  HtoD PageableDevice 1.355  \\\n",
       "Start                                                           \n",
       "21.278029                      0.0                        0.0   \n",
       "\n",
       "           HtoD PinnedDevice 5.481  \n",
       "Start                               \n",
       "21.278029                      0.0  "
      ]
     },
     "execution_count": 63,
     "metadata": {},
     "output_type": "execute_result"
    }
   ],
   "source": [
    "df_memcpy[df_memcpy.iloc[:,0] > 25]"
   ]
  },
  {
   "cell_type": "code",
   "execution_count": 64,
   "metadata": {},
   "outputs": [
    {
     "data": {
      "text/plain": [
       "160.0"
      ]
     },
     "execution_count": 64,
     "metadata": {},
     "output_type": "execute_result"
    }
   ],
   "source": [
    "DRAM_GBs"
   ]
  },
  {
   "cell_type": "code",
   "execution_count": 65,
   "metadata": {},
   "outputs": [
    {
     "data": {
      "text/html": [
       "<div>\n",
       "<style scoped>\n",
       "    .dataframe tbody tr th:only-of-type {\n",
       "        vertical-align: middle;\n",
       "    }\n",
       "\n",
       "    .dataframe tbody tr th {\n",
       "        vertical-align: top;\n",
       "    }\n",
       "\n",
       "    .dataframe thead th {\n",
       "        text-align: right;\n",
       "    }\n",
       "</style>\n",
       "<table border=\"1\" class=\"dataframe\">\n",
       "  <thead>\n",
       "    <tr style=\"text-align: right;\">\n",
       "      <th></th>\n",
       "      <th>DtoD DeviceDevice 25.775</th>\n",
       "      <th>DtoH DevicePageable 11.806</th>\n",
       "      <th>DtoH DevicePinned 6.623</th>\n",
       "      <th>HtoD PageableDevice 1.355</th>\n",
       "      <th>HtoD PinnedDevice 5.481</th>\n",
       "    </tr>\n",
       "    <tr>\n",
       "      <th>Start</th>\n",
       "      <th></th>\n",
       "      <th></th>\n",
       "      <th></th>\n",
       "      <th></th>\n",
       "      <th></th>\n",
       "    </tr>\n",
       "  </thead>\n",
       "  <tbody>\n",
       "    <tr>\n",
       "      <th>21.278029</th>\n",
       "      <td>16.109364</td>\n",
       "      <td>0.0</td>\n",
       "      <td>0.0</td>\n",
       "      <td>0.0</td>\n",
       "      <td>0.0</td>\n",
       "    </tr>\n",
       "  </tbody>\n",
       "</table>\n",
       "</div>"
      ],
      "text/plain": [
       "           DtoD DeviceDevice 25.775  DtoH DevicePageable 11.806  \\\n",
       "Start                                                             \n",
       "21.278029                 16.109364                         0.0   \n",
       "\n",
       "           DtoH DevicePinned 6.623  HtoD PageableDevice 1.355  \\\n",
       "Start                                                           \n",
       "21.278029                      0.0                        0.0   \n",
       "\n",
       "           HtoD PinnedDevice 5.481  \n",
       "Start                               \n",
       "21.278029                      0.0  "
      ]
     },
     "execution_count": 65,
     "metadata": {},
     "output_type": "execute_result"
    }
   ],
   "source": [
    "def normalize(x,max = 16):\n",
    "    #print \"max=\",max \n",
    "    if isinstance(x,int) or isinstance(x,float):\n",
    "        if x == 0:\n",
    "            return 0\n",
    "        else:\n",
    "            x_ = float(x)\n",
    "            max_ = float(max)\n",
    "            norm = (x_/max_)*100\n",
    "            #print x_,norm\n",
    "            return norm\n",
    "    elif x is None:\n",
    "        return x\n",
    "    else:\n",
    "        print \"Wrong parameter type:\",type(x)\n",
    "\n",
    "def normalize_df(x,max = 16):\n",
    "    #print type(x)\n",
    "    if isinstance(x,int) or isinstance(x,float):\n",
    "        return normalize(x,max)\n",
    "    else:\n",
    "        #print x.values\n",
    "        x = x.apply(normalize,max=max)\n",
    "        #print \"Returned:\",type(x)\n",
    "        #print x.values\n",
    "        return x\n",
    "    \n",
    "       \n",
    "norm.iloc[:,2:] = norm.iloc[:,2:].apply(normalize_df, max = PCI3_band)\n",
    "norm.iloc[:,0] = norm.iloc[:,0].apply(normalize_df, max = DRAM_GBs)\n",
    "norm[df_memcpy.iloc[:,0] > 25]"
   ]
  },
  {
   "cell_type": "code",
   "execution_count": 78,
   "metadata": {},
   "outputs": [
    {
     "data": {
      "image/png": "[encoded data removed]",
      "text/plain": [
       "<matplotlib.figure.Figure at 0x1159b3c50>"
      ]
     },
     "metadata": {},
     "output_type": "display_data"
    }
   ],
   "source": [
    "plt.rcParams['figure.figsize'] = 12,8\n",
    "norm.plot(linewidth=0.9,alpha=0.8)\n",
    "ax = plt.gca()\n",
    "ax.xaxis.grid(color=\"#e0e0e0\", linestyle=\":\",linewidth=0.5,alpha=0.7)\n",
    "ax.yaxis.grid(color=\"#e0e0e0\", linestyle=\":\",linewidth=0.5,alpha=0.7)\n",
    "#ax.xaxis.set_major_locator(plt.MaxNLocator(24))\n",
    "ax.set_xlabel('Start (s)')\n",
    "ax.set_ylabel('Throughput (%)')\n",
    "plt.show()"
   ]
  },
  {
   "cell_type": "markdown",
   "metadata": {},
   "source": [
    "## Plot smi data"
   ]
  },
  {
   "cell_type": "code",
   "execution_count": 68,
   "metadata": {},
   "outputs": [
    {
     "name": "stdout",
     "output_type": "stream",
     "text": [
      "Reading nvidia-smi-hpcg_comb.csv\n"
     ]
    }
   ],
   "source": [
    "filename = filename_nvsmi_hpcg\n",
    "print \"Reading\",filename\n",
    "\n",
    "smi_data = pd.read_csv(filename)\n",
    "smi_data.iloc[:3]\n",
    "start = 0"
   ]
  },
  {
   "cell_type": "code",
   "execution_count": 69,
   "metadata": {},
   "outputs": [],
   "source": [
    "# Parse date from readable format to seconds\n",
    "def parseTime(date_time):\n",
    "    global start\n",
    "    dt_obj = datetime.datetime.strptime(date_time, \"%Y/%m/%d %H:%M:%S.%f\")\n",
    "    seconds = 0\n",
    "    if start == 0:\n",
    "        start = dt_obj\n",
    "    else:\n",
    "        seconds = (dt_obj - start).total_seconds()\n",
    "    return seconds"
   ]
  },
  {
   "cell_type": "code",
   "execution_count": 70,
   "metadata": {},
   "outputs": [
    {
     "data": {
      "text/html": [
       "<div>\n",
       "<style scoped>\n",
       "    .dataframe tbody tr th:only-of-type {\n",
       "        vertical-align: middle;\n",
       "    }\n",
       "\n",
       "    .dataframe tbody tr th {\n",
       "        vertical-align: top;\n",
       "    }\n",
       "\n",
       "    .dataframe thead th {\n",
       "        text-align: right;\n",
       "    }\n",
       "</style>\n",
       "<table border=\"1\" class=\"dataframe\">\n",
       "  <thead>\n",
       "    <tr style=\"text-align: right;\">\n",
       "      <th></th>\n",
       "      <th>timestamp</th>\n",
       "      <th>name</th>\n",
       "      <th>memory.total [MiB]</th>\n",
       "      <th>memory.used [MiB]</th>\n",
       "      <th>utilization.gpu [%]</th>\n",
       "      <th>utilization.memory [%]</th>\n",
       "      <th>sec</th>\n",
       "    </tr>\n",
       "  </thead>\n",
       "  <tbody>\n",
       "    <tr>\n",
       "      <th>0</th>\n",
       "      <td>2018/01/24 09:41:04.519</td>\n",
       "      <td>Tesla M60</td>\n",
       "      <td>7613 MiB</td>\n",
       "      <td>0 MiB</td>\n",
       "      <td>98 %</td>\n",
       "      <td>8 %</td>\n",
       "      <td>0.000</td>\n",
       "    </tr>\n",
       "    <tr>\n",
       "      <th>1</th>\n",
       "      <td>2018/01/24 09:41:04.834</td>\n",
       "      <td>Tesla M60</td>\n",
       "      <td>7613 MiB</td>\n",
       "      <td>0 MiB</td>\n",
       "      <td>100 %</td>\n",
       "      <td>9 %</td>\n",
       "      <td>0.315</td>\n",
       "    </tr>\n",
       "    <tr>\n",
       "      <th>2</th>\n",
       "      <td>2018/01/24 09:41:05.046</td>\n",
       "      <td>Tesla M60</td>\n",
       "      <td>7613 MiB</td>\n",
       "      <td>0 MiB</td>\n",
       "      <td>97 %</td>\n",
       "      <td>10 %</td>\n",
       "      <td>0.527</td>\n",
       "    </tr>\n",
       "  </tbody>\n",
       "</table>\n",
       "</div>"
      ],
      "text/plain": [
       "                 timestamp        name  memory.total [MiB]  memory.used [MiB]  \\\n",
       "0  2018/01/24 09:41:04.519   Tesla M60            7613 MiB              0 MiB   \n",
       "1  2018/01/24 09:41:04.834   Tesla M60            7613 MiB              0 MiB   \n",
       "2  2018/01/24 09:41:05.046   Tesla M60            7613 MiB              0 MiB   \n",
       "\n",
       "   utilization.gpu [%]  utilization.memory [%]    sec  \n",
       "0                 98 %                     8 %  0.000  \n",
       "1                100 %                     9 %  0.315  \n",
       "2                 97 %                    10 %  0.527  "
      ]
     },
     "execution_count": 70,
     "metadata": {},
     "output_type": "execute_result"
    }
   ],
   "source": [
    "smi_data[\"sec\"] = smi_data[\"timestamp\"].apply(parseTime)\n",
    "smi_data.iloc[:3]"
   ]
  },
  {
   "cell_type": "code",
   "execution_count": 71,
   "metadata": {},
   "outputs": [
    {
     "data": {
      "text/html": [
       "<div>\n",
       "<style scoped>\n",
       "    .dataframe tbody tr th:only-of-type {\n",
       "        vertical-align: middle;\n",
       "    }\n",
       "\n",
       "    .dataframe tbody tr th {\n",
       "        vertical-align: top;\n",
       "    }\n",
       "\n",
       "    .dataframe thead th {\n",
       "        text-align: right;\n",
       "    }\n",
       "</style>\n",
       "<table border=\"1\" class=\"dataframe\">\n",
       "  <thead>\n",
       "    <tr style=\"text-align: right;\">\n",
       "      <th></th>\n",
       "      <th>timestamp</th>\n",
       "      <th>name</th>\n",
       "      <th>memory.total [MiB]</th>\n",
       "      <th>memory.used [MiB]</th>\n",
       "      <th>utilization.gpu [%]</th>\n",
       "      <th>utilization.memory [%]</th>\n",
       "    </tr>\n",
       "    <tr>\n",
       "      <th>sec</th>\n",
       "      <th></th>\n",
       "      <th></th>\n",
       "      <th></th>\n",
       "      <th></th>\n",
       "      <th></th>\n",
       "      <th></th>\n",
       "    </tr>\n",
       "  </thead>\n",
       "  <tbody>\n",
       "    <tr>\n",
       "      <th>0.000</th>\n",
       "      <td>2018/01/24 09:41:04.519</td>\n",
       "      <td>Tesla M60</td>\n",
       "      <td>7613 MiB</td>\n",
       "      <td>0 MiB</td>\n",
       "      <td>98 %</td>\n",
       "      <td>8 %</td>\n",
       "    </tr>\n",
       "    <tr>\n",
       "      <th>0.315</th>\n",
       "      <td>2018/01/24 09:41:04.834</td>\n",
       "      <td>Tesla M60</td>\n",
       "      <td>7613 MiB</td>\n",
       "      <td>0 MiB</td>\n",
       "      <td>100 %</td>\n",
       "      <td>9 %</td>\n",
       "    </tr>\n",
       "    <tr>\n",
       "      <th>0.527</th>\n",
       "      <td>2018/01/24 09:41:05.046</td>\n",
       "      <td>Tesla M60</td>\n",
       "      <td>7613 MiB</td>\n",
       "      <td>0 MiB</td>\n",
       "      <td>97 %</td>\n",
       "      <td>10 %</td>\n",
       "    </tr>\n",
       "  </tbody>\n",
       "</table>\n",
       "</div>"
      ],
      "text/plain": [
       "                     timestamp        name  memory.total [MiB]  \\\n",
       "sec                                                              \n",
       "0.000  2018/01/24 09:41:04.519   Tesla M60            7613 MiB   \n",
       "0.315  2018/01/24 09:41:04.834   Tesla M60            7613 MiB   \n",
       "0.527  2018/01/24 09:41:05.046   Tesla M60            7613 MiB   \n",
       "\n",
       "       memory.used [MiB]  utilization.gpu [%]  utilization.memory [%]  \n",
       "sec                                                                    \n",
       "0.000              0 MiB                 98 %                     8 %  \n",
       "0.315              0 MiB                100 %                     9 %  \n",
       "0.527              0 MiB                 97 %                    10 %  "
      ]
     },
     "execution_count": 71,
     "metadata": {},
     "output_type": "execute_result"
    }
   ],
   "source": [
    "smi_data.set_index(\"sec\", drop=True, inplace=True)\n",
    "smi_data.iloc[:3]"
   ]
  },
  {
   "cell_type": "code",
   "execution_count": 72,
   "metadata": {},
   "outputs": [],
   "source": [
    "smi_data = smi_data.drop(columns = ['timestamp', ' name'])"
   ]
  },
  {
   "cell_type": "code",
   "execution_count": 73,
   "metadata": {},
   "outputs": [],
   "source": [
    "pat = re.compile(\"[0-9\\.]+\")\n",
    "# Extract float number from a string\n",
    "def parseFloat(str):\n",
    "    global pat\n",
    "    f = pat.search(str)\n",
    "    if f is not None:\n",
    "        d = float(f.group())\n",
    "        return d\n",
    "    return None"
   ]
  },
  {
   "cell_type": "code",
   "execution_count": 74,
   "metadata": {},
   "outputs": [
    {
     "data": {
      "text/html": [
       "<div>\n",
       "<style scoped>\n",
       "    .dataframe tbody tr th:only-of-type {\n",
       "        vertical-align: middle;\n",
       "    }\n",
       "\n",
       "    .dataframe tbody tr th {\n",
       "        vertical-align: top;\n",
       "    }\n",
       "\n",
       "    .dataframe thead th {\n",
       "        text-align: right;\n",
       "    }\n",
       "</style>\n",
       "<table border=\"1\" class=\"dataframe\">\n",
       "  <thead>\n",
       "    <tr style=\"text-align: right;\">\n",
       "      <th></th>\n",
       "      <th>memory.total [MiB]</th>\n",
       "      <th>memory.used [MiB]</th>\n",
       "      <th>utilization.gpu [%]</th>\n",
       "      <th>utilization.memory [%]</th>\n",
       "    </tr>\n",
       "    <tr>\n",
       "      <th>sec</th>\n",
       "      <th></th>\n",
       "      <th></th>\n",
       "      <th></th>\n",
       "      <th></th>\n",
       "    </tr>\n",
       "  </thead>\n",
       "  <tbody>\n",
       "    <tr>\n",
       "      <th>0.000</th>\n",
       "      <td>7613.0</td>\n",
       "      <td>0.0</td>\n",
       "      <td>98.0</td>\n",
       "      <td>8.0</td>\n",
       "    </tr>\n",
       "    <tr>\n",
       "      <th>0.315</th>\n",
       "      <td>7613.0</td>\n",
       "      <td>0.0</td>\n",
       "      <td>100.0</td>\n",
       "      <td>9.0</td>\n",
       "    </tr>\n",
       "    <tr>\n",
       "      <th>0.527</th>\n",
       "      <td>7613.0</td>\n",
       "      <td>0.0</td>\n",
       "      <td>97.0</td>\n",
       "      <td>10.0</td>\n",
       "    </tr>\n",
       "  </tbody>\n",
       "</table>\n",
       "</div>"
      ],
      "text/plain": [
       "        memory.total [MiB]   memory.used [MiB]   utilization.gpu [%]  \\\n",
       "sec                                                                    \n",
       "0.000               7613.0                 0.0                  98.0   \n",
       "0.315               7613.0                 0.0                 100.0   \n",
       "0.527               7613.0                 0.0                  97.0   \n",
       "\n",
       "        utilization.memory [%]  \n",
       "sec                             \n",
       "0.000                      8.0  \n",
       "0.315                      9.0  \n",
       "0.527                     10.0  "
      ]
     },
     "execution_count": 74,
     "metadata": {},
     "output_type": "execute_result"
    }
   ],
   "source": [
    "smi_data = smi_data.applymap(parseFloat)\n",
    "smi_data.iloc[:3]"
   ]
  },
  {
   "cell_type": "code",
   "execution_count": null,
   "metadata": {},
   "outputs": [],
   "source": []
  },
  {
   "cell_type": "code",
   "execution_count": 75,
   "metadata": {},
   "outputs": [
    {
     "data": {
      "text/html": [
       "<div>\n",
       "<style scoped>\n",
       "    .dataframe tbody tr th:only-of-type {\n",
       "        vertical-align: middle;\n",
       "    }\n",
       "\n",
       "    .dataframe tbody tr th {\n",
       "        vertical-align: top;\n",
       "    }\n",
       "\n",
       "    .dataframe thead th {\n",
       "        text-align: right;\n",
       "    }\n",
       "</style>\n",
       "<table border=\"1\" class=\"dataframe\">\n",
       "  <thead>\n",
       "    <tr style=\"text-align: right;\">\n",
       "      <th></th>\n",
       "      <th>utilization.gpu [%]</th>\n",
       "      <th>utilization.memory [%]</th>\n",
       "    </tr>\n",
       "    <tr>\n",
       "      <th>sec</th>\n",
       "      <th></th>\n",
       "      <th></th>\n",
       "    </tr>\n",
       "  </thead>\n",
       "  <tbody>\n",
       "    <tr>\n",
       "      <th>60.798</th>\n",
       "      <td>84.0</td>\n",
       "      <td>4.0</td>\n",
       "    </tr>\n",
       "    <tr>\n",
       "      <th>60.899</th>\n",
       "      <td>84.0</td>\n",
       "      <td>4.0</td>\n",
       "    </tr>\n",
       "    <tr>\n",
       "      <th>60.999</th>\n",
       "      <td>84.0</td>\n",
       "      <td>3.0</td>\n",
       "    </tr>\n",
       "    <tr>\n",
       "      <th>61.099</th>\n",
       "      <td>84.0</td>\n",
       "      <td>3.0</td>\n",
       "    </tr>\n",
       "    <tr>\n",
       "      <th>61.200</th>\n",
       "      <td>84.0</td>\n",
       "      <td>3.0</td>\n",
       "    </tr>\n",
       "  </tbody>\n",
       "</table>\n",
       "</div>"
      ],
      "text/plain": [
       "         utilization.gpu [%]   utilization.memory [%]\n",
       "sec                                                  \n",
       "60.798                  84.0                      4.0\n",
       "60.899                  84.0                      4.0\n",
       "60.999                  84.0                      3.0\n",
       "61.099                  84.0                      3.0\n",
       "61.200                  84.0                      3.0"
      ]
     },
     "execution_count": 75,
     "metadata": {},
     "output_type": "execute_result"
    }
   ],
   "source": [
    "smi_MB = smi_data.filter(regex=(\".*\\[MiB.*\"))\n",
    "smi_pr = smi_data.filter(regex=(\".*\\[\\%.*\"))\n",
    "smi_pr.iloc[-5:]"
   ]
  },
  {
   "cell_type": "code",
   "execution_count": null,
   "metadata": {},
   "outputs": [],
   "source": []
  },
  {
   "cell_type": "code",
   "execution_count": 76,
   "metadata": {},
   "outputs": [
    {
     "data": {
      "image/png": "[encoded data removed]",
      "text/plain": [
       "<matplotlib.figure.Figure at 0x115983710>"
      ]
     },
     "metadata": {},
     "output_type": "display_data"
    }
   ],
   "source": [
    "plt.rcParams['figure.figsize'] = 12,8\n",
    "fig, axarr = plt.subplots(2)\n",
    "smi_MB.plot(linewidth=1,alpha=0.9,ax = axarr[0])\n",
    "smi_pr.plot(linewidth=1,alpha=0.9,ax = axarr[1])\n",
    "axarr[0].set_ylabel('Memory [MiB]')\n",
    "axarr[1].set_ylabel('utilization (%)')\n",
    "for axis in axarr:\n",
    "    axis.legend()\n",
    "    axis.xaxis.grid(color=\"#e0e0e0\", linestyle=\":\",linewidth=0.5)\n",
    "    axis.xaxis.set_major_locator(plt.MaxNLocator(24))\n",
    "    #axis.xaxis.set_major_locator(dates.SecondLocator(bysecond = range(120), interval = 10))\n",
    "    #axis.xaxis.set_minor_locator(dates.MicrosecondLocator(interval = 1000))\n",
    "    #axis.xaxis.set_major_formatter(dates.DateFormatter('%S:%f'))\n",
    "plt.show()"
   ]
  },
  {
   "cell_type": "code",
   "execution_count": null,
   "metadata": {},
   "outputs": [],
   "source": []
  }
 ],
 "metadata": {
  "kernelspec": {
   "display_name": "Python 2",
   "language": "python",
   "name": "python2"
  },
  "language_info": {
   "codemirror_mode": {
    "name": "ipython",
    "version": 2
   },
   "file_extension": ".py",
   "mimetype": "text/x-python",
   "name": "python",
   "nbconvert_exporter": "python",
   "pygments_lexer": "ipython2",
   "version": "2.7.11"
  }
 },
 "nbformat": 4,
 "nbformat_minor": 1
}

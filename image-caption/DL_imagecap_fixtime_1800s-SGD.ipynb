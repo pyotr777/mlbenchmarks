{
 "cells": [
  {
   "cell_type": "markdown",
   "metadata": {},
   "source": [
    "# Image caption runs with various hyperparameters\n",
    "# SGD optimization\n",
    "# Run for 1800 s"
   ]
  },
  {
   "cell_type": "markdown",
   "metadata": {},
   "source": [
    "## Read data"
   ]
  },
  {
   "cell_type": "code",
   "execution_count": 1,
   "metadata": {},
   "outputs": [],
   "source": [
    "%matplotlib inline\n",
    "import re\n",
    "import numpy as np\n",
    "import matplotlib\n",
    "import matplotlib.pyplot as plt\n",
    "from matplotlib import cm\n",
    "import pandas as pd\n",
    "import subprocess\n",
    "import os\n",
    "import seaborn as sns\n",
    "import lib"
   ]
  },
  {
   "cell_type": "code",
   "execution_count": 2,
   "metadata": {},
   "outputs": [
    {
     "name": "stdout",
     "output_type": "stream",
     "text": [
      "\u001b[1m\u001b[36mBSLRchange_time_limit3000s\u001b[m\u001b[m  \u001b[1m\u001b[36mWDchange_time_limit1200s\u001b[m\u001b[m\r\n",
      "\u001b[1m\u001b[36mLRWDchange_time_limit3600s\u001b[m\u001b[m  \u001b[1m\u001b[36mtime_limit120s\u001b[m\u001b[m\r\n",
      "\u001b[1m\u001b[36mSSS25_SG0.5_time_limit1800s\u001b[m\u001b[m \u001b[1m\u001b[36mtime_limit1800s\u001b[m\u001b[m\r\n"
     ]
    }
   ],
   "source": [
    "!ls logs/fixtime/SGD/"
   ]
  },
  {
   "cell_type": "code",
   "execution_count": 3,
   "metadata": {},
   "outputs": [],
   "source": [
    "logdir = \"logs/fixtime/SGD/BSLRchange_time_limit3000s\""
   ]
  },
  {
   "cell_type": "code",
   "execution_count": 40,
   "metadata": {},
   "outputs": [
    {
     "name": "stdout",
     "output_type": "stream",
     "text": [
      "16\n",
      "imagecaption_b100_l0.8_wd1e-05_smp1000_00.log\n",
      "\n",
      "b100 l0.8\n",
      "GPU: GeForce GTX TITAN X, 12207 MiB\n",
      "\n",
      "NV_GPU=5\n",
      "Runnning command nvidia-docker run -t --rm --shm-size 8G -v /data1/peter/image-caption-applications:/workspace/image_caption -v /data1/peter/image-caption-applications/.torch:/root/.torch -w /workspace/image_caption image-caption /workspace/image_caption/init_container.sh python train_gen_fixtime_SGD.py --early_stopping -v --scheduler_step_size 200 --scheduler_gamma 0.7 --batch_size 100 -l 0.8 --weight_decay 1e-05 --model resnet50 --use_samples 1000 --time_limit 3000\n",
      "In container\r\n",
      "Running python train_gen_fixtime_SGD.py --early_stopping -v --scheduler_step_size 200 --scheduler_gamma 0.7 --batch_size 100 -l 0.8 --weight_decay 1e-05 --model resnet50 --use_samples 1000 --time_limit 3000\r\n",
      "Namespace(batch_size=100, beam_size=5, config_file='./config/model_gen.json', cuda=True, disable_cuda=False, disable_shuffle=False, early_stopping=True, first_save=5, image_dir='./data/mscoco', learning_rate=0.8, logger_comment='_gen', loss_target=None, max_epoch=10000, max_length=40, metric_base='CIDEr', model='resnet50', model_dir='./model/gen', model_file='model', num_workers=8, output_dir='./result/gen', save_step=5000, scheduler_gamma=0.7, scheduler_step_size=200, shuffle=True, time_limit=3000, train_file='./data/train.enc.json', use_samples=1000, val_file='./data/val.enc.json', verbosity=1, weight_decay=1e-05)\r\n",
      "{'img_dim': 2048, 'hidden_dim': 512, 'embed_dim': 512, 'vocab_size': 8000, 'num_layers': 3, 'learning_rate': 0.0002, 'weight_decay': 0.0001, 'max_norm': 5, 'batch_size': 32, 'scheduler_step_size': 25, 'scheduler_gamma': 0.5}\r\n",
      "Logdir: runs/Apr14_11-54-44_c485b18ed9e7_gen\r\n",
      "Hyper-parameters:\r\n",
      "BS=100 LR=0.8 WD=1e-05\r\n"
     ]
    }
   ],
   "source": [
    "filename_pattern=re.compile(r\"imagecaption_.*\\.log\")\n",
    "files=[]\n",
    "comm = \"ls -1 \"+logdir\n",
    "proc = subprocess.Popen(comm.split(\" \"),\n",
    "                     stdout=subprocess.PIPE,stderr=subprocess.STDOUT)\n",
    "for line in iter(proc.stdout.readline,b''):\n",
    "    m = filename_pattern.match(line)\n",
    "    if m:\n",
    "        files.append(os.path.abspath(os.path.join(logdir,line)))\n",
    "print len(files)\n",
    "f = open(files[0].strip(\" \\n\"))\n",
    "print os.path.basename(files[0])\n",
    "for i in range(0,12):    \n",
    "    print f.readline(),\n",
    "f.close()"
   ]
  },
  {
   "cell_type": "code",
   "execution_count": 41,
   "metadata": {},
   "outputs": [],
   "source": [
    "batch_learn_pattern = re.compile(r\"_b(\\d+)_l([0-9\\.]+)_wd([0-9\\.e\\-]+)_smp\\d+_(\\d+)\") # Match against file name\n",
    "output_pattern = re.compile(r\"^(\\d+),\\s*([0-9\\.]+),\\s*([0-9\\.]+)\")\n",
    "validation_pattern = re.compile(r\"^{'Bleu_1':\\s*([0-9e\\-\\.]+),\\s*'Bleu_2':\\s*([0-9e\\-\\.]+),\\s*'Bleu_3':\\s*([0-9e\\-\\.]+),\\s*'Bleu_4':\\s*([0-9e\\-\\.]+),\\s*'ROUGE_L':\\s*([0-9e\\-\\.]+),\\s*'CIDEr':\\s*([0-9e\\-\\.]+)}\")\n",
    "\n",
    "# Read minibatch size and 1st epoch time from files.\n",
    "# Store in a DataFrame.\n",
    "def fileToDF(logfile, debug=False):\n",
    "    global output_pattern, batch_learn_pattern, validation_pattern\n",
    "    \n",
    "    logfile = logfile.strip(\" \\n\")\n",
    "    filename = os.path.basename(logfile)\n",
    "    if debug: print \"FILE\",filename\n",
    "    batch = 0\n",
    "    learn = 0\n",
    "    wd = 0\n",
    "    run = 0\n",
    "    m = batch_learn_pattern.search(filename)\n",
    "    if m:\n",
    "        batch = int(m.group(1))\n",
    "        learn = float(m.group(2))\n",
    "        wd = float(m.group(3))\n",
    "        run = int(m.group(4))\n",
    "        if debug: print \"BS,LR,WR,run:\",batch,learn,wd,run\n",
    "    \n",
    "    with open(logfile,\"r\") as f:\n",
    "        lines = f.readlines()\n",
    "        time = 0\n",
    "        epoch = 0\n",
    "        ind = 0\n",
    "        ind_v = 0 # DataFrame row number (index) for df_validation\n",
    "        df_epochtime = pd.DataFrame(data=None,columns=[\"batch\",\"lr\",\"run\",\"wd\",\n",
    "                                                       \"epoch\",\"time\",\"loss\"])\n",
    "        df_validation = pd.DataFrame(data=None,columns=[\"batch\",\"lr\",\"run\",\"wd\",\n",
    "                                                        \"bleu1\",\"bleu2\",\"bleu3\",\"bleu4\",\n",
    "                                                        \"rouge\",\"cider\"])\n",
    "        for line in lines:\n",
    "            s = line.strip(' \\n')            \n",
    "            m2 = output_pattern.match(s)\n",
    "            if m2:\n",
    "                # Use only last line from file (with max epoch counter)\n",
    "                if debug: print line,                    \n",
    "                epoch = int(m2.group(1))\n",
    "                time += float(m2.group(2))  # Time per epoch must be summed\n",
    "                loss = float(m2.group(3))\n",
    "                if debug: print \"BS,LR,WD,run,epoch,time,loss:\",batch,learn,wd,run,epoch,time,loss\n",
    "                df_epochtime.loc[ind] = [batch,learn,run,wd,epoch,time,loss]\n",
    "                ind += 1\n",
    "            else:\n",
    "                m3 = validation_pattern.match(s)\n",
    "                if m3:\n",
    "                    if debug: print line,\n",
    "                    bl1 = float(m3.group(1))\n",
    "                    bl2 = float(m3.group(2))\n",
    "                    bl3 = float(m3.group(3))\n",
    "                    bl4 = float(m3.group(4))\n",
    "                    rouge = float(m3.group(5))\n",
    "                    cider = float(m3.group(6))\n",
    "                    if debug: print \"Bleu, Rouge, CIDEr:\",bl1,bl2,bl3,bl4,rouge,cider\n",
    "                    df_validation.loc[ind_v] = [batch,learn,run,wd,\n",
    "                                                bl1,bl2,bl3,bl4,\n",
    "                                                rouge, cider]\n",
    "                    ind_v += 1\n",
    "\n",
    "    return (df_epochtime, df_validation)"
   ]
  },
  {
   "cell_type": "code",
   "execution_count": 42,
   "metadata": {},
   "outputs": [],
   "source": [
    "def readLogs(logdir, debug=False, maxfiles=10000000):\n",
    "    global filename_pattern\n",
    "    files=[]\n",
    "    comm = \"ls -1 \"+logdir\n",
    "    proc = subprocess.Popen(comm.split(\" \"),\n",
    "                         stdout=subprocess.PIPE,stderr=subprocess.STDOUT)\n",
    "    for line in iter(proc.stdout.readline,b''):\n",
    "        m = filename_pattern.match(line)\n",
    "        if m:\n",
    "            files.append(os.path.abspath(os.path.join(logdir,line)))\n",
    "            \n",
    "    #if debug: print \"files:\",files\n",
    "    df_epochtime = pd.DataFrame(data=None,columns=[\"batch\",\"lr\",\"run\",\"wd\",\"epoch\",\"time\",\"loss\"])\n",
    "    df_validation = pd.DataFrame(data=None,columns=[\"batch\",\"lr\",\"run\",\"wd\",\n",
    "                                                        \"bleu1\",\"bleu2\",\"bleu3\",\"bleu4\",\n",
    "                                                        \"rouge\",\"cider\"])\n",
    "    filecounter=0\n",
    "    for file in files:\n",
    "        if debug: print file\n",
    "        df_e1,df_v1 = fileToDF(file,debug)\n",
    "        if len(df_e1) > 0:\n",
    "            df_epochtime = pd.concat([df_epochtime,df_e1],ignore_index=True)\n",
    "        if len(df_v1) > 0:\n",
    "            df_validation = pd.concat([df_validation,df_v1],ignore_index=True)\n",
    "        filecounter +=1\n",
    "        if filecounter>=maxfiles:\n",
    "            return df\n",
    "    return (df_epochtime, df_validation)"
   ]
  },
  {
   "cell_type": "code",
   "execution_count": 43,
   "metadata": {},
   "outputs": [
    {
     "name": "stdout",
     "output_type": "stream",
     "text": [
      "logs/fixtime/SGD/BSLRchange_time_limit3000s\n",
      "(8, 10) (4161, 7)\n"
     ]
    }
   ],
   "source": [
    "print logdir\n",
    "df_epochtime,df_validation = readLogs(logdir)\n",
    "print df_validation.shape, df_epochtime.shape"
   ]
  },
  {
   "cell_type": "code",
   "execution_count": 35,
   "metadata": {},
   "outputs": [
    {
     "data": {
      "text/html": [
       "<div>\n",
       "<style scoped>\n",
       "    .dataframe tbody tr th:only-of-type {\n",
       "        vertical-align: middle;\n",
       "    }\n",
       "\n",
       "    .dataframe tbody tr th {\n",
       "        vertical-align: top;\n",
       "    }\n",
       "\n",
       "    .dataframe thead th {\n",
       "        text-align: right;\n",
       "    }\n",
       "</style>\n",
       "<table border=\"1\" class=\"dataframe\">\n",
       "  <thead>\n",
       "    <tr style=\"text-align: right;\">\n",
       "      <th></th>\n",
       "      <th>batch</th>\n",
       "      <th>lr</th>\n",
       "      <th>run</th>\n",
       "      <th>wd</th>\n",
       "      <th>bleu1</th>\n",
       "      <th>bleu2</th>\n",
       "      <th>bleu3</th>\n",
       "      <th>bleu4</th>\n",
       "      <th>rouge</th>\n",
       "      <th>cider</th>\n",
       "    </tr>\n",
       "  </thead>\n",
       "  <tbody>\n",
       "    <tr>\n",
       "      <th>0</th>\n",
       "      <td>40</td>\n",
       "      <td>0.8</td>\n",
       "      <td>0</td>\n",
       "      <td>0.00001</td>\n",
       "      <td>1.707581e-20</td>\n",
       "      <td>9.811255e-21</td>\n",
       "      <td>6.889619e-21</td>\n",
       "      <td>4.868999e-21</td>\n",
       "      <td>0.005760</td>\n",
       "      <td>1.294875e-16</td>\n",
       "    </tr>\n",
       "    <tr>\n",
       "      <th>1</th>\n",
       "      <td>40</td>\n",
       "      <td>0.9</td>\n",
       "      <td>0</td>\n",
       "      <td>0.00001</td>\n",
       "      <td>0.000000e+00</td>\n",
       "      <td>0.000000e+00</td>\n",
       "      <td>0.000000e+00</td>\n",
       "      <td>0.000000e+00</td>\n",
       "      <td>0.005394</td>\n",
       "      <td>0.000000e+00</td>\n",
       "    </tr>\n",
       "    <tr>\n",
       "      <th>2</th>\n",
       "      <td>40</td>\n",
       "      <td>1.1</td>\n",
       "      <td>0</td>\n",
       "      <td>0.00001</td>\n",
       "      <td>0.000000e+00</td>\n",
       "      <td>0.000000e+00</td>\n",
       "      <td>0.000000e+00</td>\n",
       "      <td>0.000000e+00</td>\n",
       "      <td>0.005394</td>\n",
       "      <td>0.000000e+00</td>\n",
       "    </tr>\n",
       "    <tr>\n",
       "      <th>3</th>\n",
       "      <td>40</td>\n",
       "      <td>1.0</td>\n",
       "      <td>0</td>\n",
       "      <td>0.00001</td>\n",
       "      <td>0.000000e+00</td>\n",
       "      <td>0.000000e+00</td>\n",
       "      <td>0.000000e+00</td>\n",
       "      <td>0.000000e+00</td>\n",
       "      <td>0.005394</td>\n",
       "      <td>0.000000e+00</td>\n",
       "    </tr>\n",
       "    <tr>\n",
       "      <th>4</th>\n",
       "      <td>60</td>\n",
       "      <td>0.8</td>\n",
       "      <td>0</td>\n",
       "      <td>0.00001</td>\n",
       "      <td>1.373617e-01</td>\n",
       "      <td>8.186996e-02</td>\n",
       "      <td>5.678562e-02</td>\n",
       "      <td>3.908008e-02</td>\n",
       "      <td>0.154679</td>\n",
       "      <td>4.503352e-07</td>\n",
       "    </tr>\n",
       "    <tr>\n",
       "      <th>5</th>\n",
       "      <td>60</td>\n",
       "      <td>0.9</td>\n",
       "      <td>0</td>\n",
       "      <td>0.00001</td>\n",
       "      <td>1.376676e-01</td>\n",
       "      <td>8.176796e-02</td>\n",
       "      <td>5.674565e-02</td>\n",
       "      <td>3.912152e-02</td>\n",
       "      <td>0.100762</td>\n",
       "      <td>2.425308e-06</td>\n",
       "    </tr>\n",
       "  </tbody>\n",
       "</table>\n",
       "</div>"
      ],
      "text/plain": [
       "   batch   lr  run       wd         bleu1         bleu2         bleu3  \\\n",
       "0     40  0.8    0  0.00001  1.707581e-20  9.811255e-21  6.889619e-21   \n",
       "1     40  0.9    0  0.00001  0.000000e+00  0.000000e+00  0.000000e+00   \n",
       "2     40  1.1    0  0.00001  0.000000e+00  0.000000e+00  0.000000e+00   \n",
       "3     40  1.0    0  0.00001  0.000000e+00  0.000000e+00  0.000000e+00   \n",
       "4     60  0.8    0  0.00001  1.373617e-01  8.186996e-02  5.678562e-02   \n",
       "5     60  0.9    0  0.00001  1.376676e-01  8.176796e-02  5.674565e-02   \n",
       "\n",
       "          bleu4     rouge         cider  \n",
       "0  4.868999e-21  0.005760  1.294875e-16  \n",
       "1  0.000000e+00  0.005394  0.000000e+00  \n",
       "2  0.000000e+00  0.005394  0.000000e+00  \n",
       "3  0.000000e+00  0.005394  0.000000e+00  \n",
       "4  3.908008e-02  0.154679  4.503352e-07  \n",
       "5  3.912152e-02  0.100762  2.425308e-06  "
      ]
     },
     "execution_count": 35,
     "metadata": {},
     "output_type": "execute_result"
    }
   ],
   "source": [
    "df_validation[[\"batch\",\"run\"]] = df_validation[[\"batch\",\"run\"]].astype(int)\n",
    "df_epochtime[[\"batch\",\"run\"]] = df_epochtime[[\"batch\",\"run\"]].astype(int)\n",
    "df_validation.head(6)"
   ]
  },
  {
   "cell_type": "markdown",
   "metadata": {},
   "source": [
    "## Validation score"
   ]
  },
  {
   "cell_type": "code",
   "execution_count": 36,
   "metadata": {},
   "outputs": [
    {
     "name": "stdout",
     "output_type": "stream",
     "text": [
      "(8, 10)\n",
      "batch sizes: [40 60]\n"
     ]
    },
    {
     "data": {
      "text/html": [
       "<div>\n",
       "<style scoped>\n",
       "    .dataframe tbody tr th:only-of-type {\n",
       "        vertical-align: middle;\n",
       "    }\n",
       "\n",
       "    .dataframe tbody tr th {\n",
       "        vertical-align: top;\n",
       "    }\n",
       "\n",
       "    .dataframe thead th {\n",
       "        text-align: right;\n",
       "    }\n",
       "</style>\n",
       "<table border=\"1\" class=\"dataframe\">\n",
       "  <thead>\n",
       "    <tr style=\"text-align: right;\">\n",
       "      <th></th>\n",
       "      <th>batch</th>\n",
       "      <th>lr</th>\n",
       "      <th>run</th>\n",
       "      <th>wd</th>\n",
       "      <th>bleu1</th>\n",
       "      <th>bleu2</th>\n",
       "      <th>bleu3</th>\n",
       "      <th>bleu4</th>\n",
       "      <th>rouge</th>\n",
       "      <th>cider</th>\n",
       "    </tr>\n",
       "  </thead>\n",
       "  <tbody>\n",
       "    <tr>\n",
       "      <th>0</th>\n",
       "      <td>40</td>\n",
       "      <td>0.8</td>\n",
       "      <td>0</td>\n",
       "      <td>0.00001</td>\n",
       "      <td>1.707581e-20</td>\n",
       "      <td>9.811255e-21</td>\n",
       "      <td>6.889619e-21</td>\n",
       "      <td>4.868999e-21</td>\n",
       "      <td>0.005760</td>\n",
       "      <td>1.294875e-16</td>\n",
       "    </tr>\n",
       "    <tr>\n",
       "      <th>1</th>\n",
       "      <td>40</td>\n",
       "      <td>0.9</td>\n",
       "      <td>0</td>\n",
       "      <td>0.00001</td>\n",
       "      <td>0.000000e+00</td>\n",
       "      <td>0.000000e+00</td>\n",
       "      <td>0.000000e+00</td>\n",
       "      <td>0.000000e+00</td>\n",
       "      <td>0.005394</td>\n",
       "      <td>0.000000e+00</td>\n",
       "    </tr>\n",
       "    <tr>\n",
       "      <th>2</th>\n",
       "      <td>40</td>\n",
       "      <td>1.1</td>\n",
       "      <td>0</td>\n",
       "      <td>0.00001</td>\n",
       "      <td>0.000000e+00</td>\n",
       "      <td>0.000000e+00</td>\n",
       "      <td>0.000000e+00</td>\n",
       "      <td>0.000000e+00</td>\n",
       "      <td>0.005394</td>\n",
       "      <td>0.000000e+00</td>\n",
       "    </tr>\n",
       "    <tr>\n",
       "      <th>3</th>\n",
       "      <td>40</td>\n",
       "      <td>1.0</td>\n",
       "      <td>0</td>\n",
       "      <td>0.00001</td>\n",
       "      <td>0.000000e+00</td>\n",
       "      <td>0.000000e+00</td>\n",
       "      <td>0.000000e+00</td>\n",
       "      <td>0.000000e+00</td>\n",
       "      <td>0.005394</td>\n",
       "      <td>0.000000e+00</td>\n",
       "    </tr>\n",
       "    <tr>\n",
       "      <th>4</th>\n",
       "      <td>60</td>\n",
       "      <td>0.8</td>\n",
       "      <td>0</td>\n",
       "      <td>0.00001</td>\n",
       "      <td>1.373617e-01</td>\n",
       "      <td>8.186996e-02</td>\n",
       "      <td>5.678562e-02</td>\n",
       "      <td>3.908008e-02</td>\n",
       "      <td>0.154679</td>\n",
       "      <td>4.503352e-07</td>\n",
       "    </tr>\n",
       "  </tbody>\n",
       "</table>\n",
       "</div>"
      ],
      "text/plain": [
       "   batch   lr  run       wd         bleu1         bleu2         bleu3  \\\n",
       "0     40  0.8    0  0.00001  1.707581e-20  9.811255e-21  6.889619e-21   \n",
       "1     40  0.9    0  0.00001  0.000000e+00  0.000000e+00  0.000000e+00   \n",
       "2     40  1.1    0  0.00001  0.000000e+00  0.000000e+00  0.000000e+00   \n",
       "3     40  1.0    0  0.00001  0.000000e+00  0.000000e+00  0.000000e+00   \n",
       "4     60  0.8    0  0.00001  1.373617e-01  8.186996e-02  5.678562e-02   \n",
       "\n",
       "          bleu4     rouge         cider  \n",
       "0  4.868999e-21  0.005760  1.294875e-16  \n",
       "1  0.000000e+00  0.005394  0.000000e+00  \n",
       "2  0.000000e+00  0.005394  0.000000e+00  \n",
       "3  0.000000e+00  0.005394  0.000000e+00  \n",
       "4  3.908008e-02  0.154679  4.503352e-07  "
      ]
     },
     "execution_count": 36,
     "metadata": {},
     "output_type": "execute_result"
    }
   ],
   "source": [
    "print df_validation.shape\n",
    "print \"batch sizes:\",df_validation[\"batch\"].unique()\n",
    "df_validation.head()"
   ]
  },
  {
   "cell_type": "markdown",
   "metadata": {},
   "source": [
    "### Count runs for each BS x WD x LR combination"
   ]
  },
  {
   "cell_type": "code",
   "execution_count": 37,
   "metadata": {},
   "outputs": [
    {
     "data": {
      "text/html": [
       "<div>\n",
       "<style scoped>\n",
       "    .dataframe tbody tr th:only-of-type {\n",
       "        vertical-align: middle;\n",
       "    }\n",
       "\n",
       "    .dataframe tbody tr th {\n",
       "        vertical-align: top;\n",
       "    }\n",
       "\n",
       "    .dataframe thead th {\n",
       "        text-align: right;\n",
       "    }\n",
       "</style>\n",
       "<table border=\"1\" class=\"dataframe\">\n",
       "  <thead>\n",
       "    <tr style=\"text-align: right;\">\n",
       "      <th></th>\n",
       "      <th>batch</th>\n",
       "      <th>lr</th>\n",
       "      <th>wd</th>\n",
       "      <th>count</th>\n",
       "    </tr>\n",
       "  </thead>\n",
       "  <tbody>\n",
       "    <tr>\n",
       "      <th>0</th>\n",
       "      <td>40</td>\n",
       "      <td>0.8</td>\n",
       "      <td>0.00001</td>\n",
       "      <td>1</td>\n",
       "    </tr>\n",
       "    <tr>\n",
       "      <th>1</th>\n",
       "      <td>40</td>\n",
       "      <td>0.9</td>\n",
       "      <td>0.00001</td>\n",
       "      <td>1</td>\n",
       "    </tr>\n",
       "    <tr>\n",
       "      <th>2</th>\n",
       "      <td>40</td>\n",
       "      <td>1.1</td>\n",
       "      <td>0.00001</td>\n",
       "      <td>1</td>\n",
       "    </tr>\n",
       "    <tr>\n",
       "      <th>3</th>\n",
       "      <td>40</td>\n",
       "      <td>1.0</td>\n",
       "      <td>0.00001</td>\n",
       "      <td>1</td>\n",
       "    </tr>\n",
       "    <tr>\n",
       "      <th>4</th>\n",
       "      <td>60</td>\n",
       "      <td>0.8</td>\n",
       "      <td>0.00001</td>\n",
       "      <td>1</td>\n",
       "    </tr>\n",
       "  </tbody>\n",
       "</table>\n",
       "</div>"
      ],
      "text/plain": [
       "   batch   lr       wd  count\n",
       "0     40  0.8  0.00001      1\n",
       "1     40  0.9  0.00001      1\n",
       "2     40  1.1  0.00001      1\n",
       "3     40  1.0  0.00001      1\n",
       "4     60  0.8  0.00001      1"
      ]
     },
     "execution_count": 37,
     "metadata": {},
     "output_type": "execute_result"
    }
   ],
   "source": [
    "count_df = df_validation.copy()\n",
    "count_df = count_df[[\"batch\",\"lr\",\"wd\",\"run\"]]\n",
    "count_df[\"count\"] =  count_df.groupby([\"batch\",\"lr\",\"wd\"])[\"run\"].transform(len)\n",
    "count_df.drop([\"run\"],axis=1,inplace=True)\n",
    "count_df.head()"
   ]
  },
  {
   "cell_type": "code",
   "execution_count": 38,
   "metadata": {},
   "outputs": [],
   "source": [
    "df_count = count_df.pivot_table(index=\"batch\",columns=\"lr\",values=\"count\")"
   ]
  },
  {
   "cell_type": "code",
   "execution_count": 39,
   "metadata": {},
   "outputs": [
    {
     "data": {
      "image/png": "[encoded data removed]",
      "text/plain": [
       "<matplotlib.figure.Figure at 0x111b7ed10>"
      ]
     },
     "metadata": {},
     "output_type": "display_data"
    }
   ],
   "source": [
    "plt.rcParams['figure.figsize'] = 5,4\n",
    "fig, ax = plt.subplots()\n",
    "lib.plotHeatMap(df_count,\"Runs\",\"Blues\",ax=ax,format=\"d\")"
   ]
  },
  {
   "cell_type": "markdown",
   "metadata": {},
   "source": [
    "### Plot Validation Scores"
   ]
  },
  {
   "cell_type": "code",
   "execution_count": 13,
   "metadata": {},
   "outputs": [
    {
     "data": {
      "text/html": [
       "<div>\n",
       "<style scoped>\n",
       "    .dataframe tbody tr th:only-of-type {\n",
       "        vertical-align: middle;\n",
       "    }\n",
       "\n",
       "    .dataframe tbody tr th {\n",
       "        vertical-align: top;\n",
       "    }\n",
       "\n",
       "    .dataframe thead th {\n",
       "        text-align: right;\n",
       "    }\n",
       "</style>\n",
       "<table border=\"1\" class=\"dataframe\">\n",
       "  <thead>\n",
       "    <tr style=\"text-align: right;\">\n",
       "      <th></th>\n",
       "      <th>batch</th>\n",
       "      <th>lr</th>\n",
       "      <th>wd</th>\n",
       "      <th>bleu1</th>\n",
       "      <th>bleu2</th>\n",
       "      <th>bleu3</th>\n",
       "      <th>bleu4</th>\n",
       "      <th>rouge</th>\n",
       "      <th>cider</th>\n",
       "    </tr>\n",
       "  </thead>\n",
       "  <tbody>\n",
       "    <tr>\n",
       "      <th>0</th>\n",
       "      <td>0</td>\n",
       "      <td>0.0</td>\n",
       "      <td>0.0</td>\n",
       "      <td>0.053122</td>\n",
       "      <td>0.031461</td>\n",
       "      <td>0.021806</td>\n",
       "      <td>0.014992</td>\n",
       "      <td>0.040613</td>\n",
       "      <td>7.041269e-07</td>\n",
       "    </tr>\n",
       "  </tbody>\n",
       "</table>\n",
       "</div>"
      ],
      "text/plain": [
       "   batch   lr   wd     bleu1     bleu2     bleu3     bleu4     rouge  \\\n",
       "0      0  0.0  0.0  0.053122  0.031461  0.021806  0.014992  0.040613   \n",
       "\n",
       "          cider  \n",
       "0  7.041269e-07  "
      ]
     },
     "execution_count": 13,
     "metadata": {},
     "output_type": "execute_result"
    }
   ],
   "source": [
    "# Take average between runs\n",
    "df_mean = df_validation.groupby([\"batch\",\"lr\",\"wd\"]).mean().reset_index().drop([\"run\"],axis=1)\n",
    "df_mean.head()"
   ]
  },
  {
   "cell_type": "code",
   "execution_count": 14,
   "metadata": {},
   "outputs": [
    {
     "data": {
      "text/html": [
       "<div>\n",
       "<style scoped>\n",
       "    .dataframe tbody tr th:only-of-type {\n",
       "        vertical-align: middle;\n",
       "    }\n",
       "\n",
       "    .dataframe tbody tr th {\n",
       "        vertical-align: top;\n",
       "    }\n",
       "\n",
       "    .dataframe thead th {\n",
       "        text-align: right;\n",
       "    }\n",
       "</style>\n",
       "<table border=\"1\" class=\"dataframe\">\n",
       "  <thead>\n",
       "    <tr style=\"text-align: right;\">\n",
       "      <th>wd</th>\n",
       "      <th>0.0</th>\n",
       "    </tr>\n",
       "    <tr>\n",
       "      <th>batch</th>\n",
       "      <th></th>\n",
       "    </tr>\n",
       "  </thead>\n",
       "  <tbody>\n",
       "    <tr>\n",
       "      <th>0</th>\n",
       "      <td>7.041269e-07</td>\n",
       "    </tr>\n",
       "  </tbody>\n",
       "</table>\n",
       "</div>"
      ],
      "text/plain": [
       "wd              0.0\n",
       "batch              \n",
       "0      7.041269e-07"
      ]
     },
     "execution_count": 14,
     "metadata": {},
     "output_type": "execute_result"
    }
   ],
   "source": [
    "df_cider = df_mean.pivot_table(index=\"batch\",columns=\"wd\",values=\"cider\")\n",
    "df_rouge = df_mean.pivot_table(index=\"batch\",columns=\"wd\",values=\"rouge\")\n",
    "df_bleu1 = df_mean.pivot_table(index=\"batch\",columns=\"wd\",values=\"bleu1\")\n",
    "df_bleu2 = df_mean.pivot_table(index=\"batch\",columns=\"wd\",values=\"bleu2\")\n",
    "df_bleu3 = df_mean.pivot_table(index=\"batch\",columns=\"wd\",values=\"bleu3\")\n",
    "df_bleu4 = df_mean.pivot_table(index=\"batch\",columns=\"wd\",values=\"bleu4\")\n",
    "df_cider.head()"
   ]
  },
  {
   "cell_type": "code",
   "execution_count": 15,
   "metadata": {
    "scrolled": false
   },
   "outputs": [
    {
     "name": "stderr",
     "output_type": "stream",
     "text": [
      "/usr/local/lib/python2.7/site-packages/matplotlib/figure.py:418: UserWarning: matplotlib is currently using a non-GUI backend, so cannot show the figure\n",
      "  \"matplotlib is currently using a non-GUI backend, \"\n"
     ]
    },
    {
     "data": {
      "image/png": "[encoded data removed]",
      "text/plain": [
       "<matplotlib.figure.Figure at 0x111319a50>"
      ]
     },
     "metadata": {},
     "output_type": "display_data"
    }
   ],
   "source": [
    "plt.rcParams['figure.figsize'] = 15,7\n",
    "fig, ax = plt.subplots(2,3,sharex=True,sharey=True)\n",
    "lib.plotHeatMap(df_cider,\"CIDEr\",\"YlGnBu_r\",ax=ax[0,0],format=\".1e\")\n",
    "lib.plotHeatMap(df_rouge,\"Rouge\",\"Reds_r\",ax=ax[0,1])\n",
    "lib.plotHeatMap(df_bleu1,\"Bleu1\",ax=ax[0,2])\n",
    "lib.plotHeatMap(df_bleu2,\"Bleu2\",ax=ax[1,0])\n",
    "lib.plotHeatMap(df_bleu3,\"Bleu3\",ax=ax[1,1])\n",
    "lib.plotHeatMap(df_bleu4,\"Bleu4\",ax=ax[1,2])\n",
    "ax[1,1].set_xlabel(\"Learning Rate\",size=14)\n",
    "#fig.text(0.5, 0.08, 'Learning rate', ha='center',fontsize=14)\n",
    "fig.text(0.08, 0.5, 'Batch Dize', va='center', rotation='vertical',fontsize=14)\n",
    "fig.show()"
   ]
  },
  {
   "cell_type": "markdown",
   "metadata": {},
   "source": [
    "## Loss and epochs heatmap"
   ]
  },
  {
   "cell_type": "code",
   "execution_count": 16,
   "metadata": {},
   "outputs": [
    {
     "name": "stdout",
     "output_type": "stream",
     "text": [
      "(4161, 7)\n"
     ]
    },
    {
     "data": {
      "text/html": [
       "<div>\n",
       "<style scoped>\n",
       "    .dataframe tbody tr th:only-of-type {\n",
       "        vertical-align: middle;\n",
       "    }\n",
       "\n",
       "    .dataframe tbody tr th {\n",
       "        vertical-align: top;\n",
       "    }\n",
       "\n",
       "    .dataframe thead th {\n",
       "        text-align: right;\n",
       "    }\n",
       "</style>\n",
       "<table border=\"1\" class=\"dataframe\">\n",
       "  <thead>\n",
       "    <tr style=\"text-align: right;\">\n",
       "      <th></th>\n",
       "      <th>batch</th>\n",
       "      <th>lr</th>\n",
       "      <th>run</th>\n",
       "      <th>wd</th>\n",
       "      <th>epoch</th>\n",
       "      <th>time</th>\n",
       "      <th>loss</th>\n",
       "    </tr>\n",
       "  </thead>\n",
       "  <tbody>\n",
       "    <tr>\n",
       "      <th>0</th>\n",
       "      <td>0</td>\n",
       "      <td>0.0</td>\n",
       "      <td>0</td>\n",
       "      <td>0.0</td>\n",
       "      <td>1.0</td>\n",
       "      <td>12.439247</td>\n",
       "      <td>8.991751</td>\n",
       "    </tr>\n",
       "    <tr>\n",
       "      <th>1</th>\n",
       "      <td>0</td>\n",
       "      <td>0.0</td>\n",
       "      <td>0</td>\n",
       "      <td>0.0</td>\n",
       "      <td>2.0</td>\n",
       "      <td>24.043189</td>\n",
       "      <td>8.986939</td>\n",
       "    </tr>\n",
       "    <tr>\n",
       "      <th>2</th>\n",
       "      <td>0</td>\n",
       "      <td>0.0</td>\n",
       "      <td>0</td>\n",
       "      <td>0.0</td>\n",
       "      <td>3.0</td>\n",
       "      <td>35.755322</td>\n",
       "      <td>8.988266</td>\n",
       "    </tr>\n",
       "    <tr>\n",
       "      <th>3</th>\n",
       "      <td>0</td>\n",
       "      <td>0.0</td>\n",
       "      <td>0</td>\n",
       "      <td>0.0</td>\n",
       "      <td>4.0</td>\n",
       "      <td>47.502958</td>\n",
       "      <td>8.986410</td>\n",
       "    </tr>\n",
       "    <tr>\n",
       "      <th>4</th>\n",
       "      <td>0</td>\n",
       "      <td>0.0</td>\n",
       "      <td>0</td>\n",
       "      <td>0.0</td>\n",
       "      <td>5.0</td>\n",
       "      <td>59.622441</td>\n",
       "      <td>8.981568</td>\n",
       "    </tr>\n",
       "  </tbody>\n",
       "</table>\n",
       "</div>"
      ],
      "text/plain": [
       "   batch   lr  run   wd  epoch       time      loss\n",
       "0      0  0.0    0  0.0    1.0  12.439247  8.991751\n",
       "1      0  0.0    0  0.0    2.0  24.043189  8.986939\n",
       "2      0  0.0    0  0.0    3.0  35.755322  8.988266\n",
       "3      0  0.0    0  0.0    4.0  47.502958  8.986410\n",
       "4      0  0.0    0  0.0    5.0  59.622441  8.981568"
      ]
     },
     "execution_count": 16,
     "metadata": {},
     "output_type": "execute_result"
    }
   ],
   "source": [
    "print df_epochtime.shape\n",
    "df_epochtime.head()"
   ]
  },
  {
   "cell_type": "code",
   "execution_count": 17,
   "metadata": {},
   "outputs": [
    {
     "data": {
      "text/html": [
       "<div>\n",
       "<style scoped>\n",
       "    .dataframe tbody tr th:only-of-type {\n",
       "        vertical-align: middle;\n",
       "    }\n",
       "\n",
       "    .dataframe tbody tr th {\n",
       "        vertical-align: top;\n",
       "    }\n",
       "\n",
       "    .dataframe thead th {\n",
       "        text-align: right;\n",
       "    }\n",
       "</style>\n",
       "<table border=\"1\" class=\"dataframe\">\n",
       "  <thead>\n",
       "    <tr style=\"text-align: right;\">\n",
       "      <th></th>\n",
       "      <th></th>\n",
       "      <th></th>\n",
       "      <th></th>\n",
       "      <th>loss</th>\n",
       "      <th>epoch</th>\n",
       "      <th>time</th>\n",
       "    </tr>\n",
       "    <tr>\n",
       "      <th>batch</th>\n",
       "      <th>lr</th>\n",
       "      <th>wd</th>\n",
       "      <th>run</th>\n",
       "      <th></th>\n",
       "      <th></th>\n",
       "      <th></th>\n",
       "    </tr>\n",
       "  </thead>\n",
       "  <tbody>\n",
       "    <tr>\n",
       "      <th>0</th>\n",
       "      <th>0.0</th>\n",
       "      <th>0.0</th>\n",
       "      <th>0</th>\n",
       "      <td>8.336884</td>\n",
       "      <td>271.0</td>\n",
       "      <td>3010.949231</td>\n",
       "    </tr>\n",
       "  </tbody>\n",
       "</table>\n",
       "</div>"
      ],
      "text/plain": [
       "                       loss  epoch         time\n",
       "batch lr  wd  run                              \n",
       "0     0.0 0.0 0    8.336884  271.0  3010.949231"
      ]
     },
     "execution_count": 17,
     "metadata": {},
     "output_type": "execute_result"
    }
   ],
   "source": [
    "# Loss is not always at minimum at last epoch,\n",
    "# so aggragation min(loss) doesn't show loss at last epoch\n",
    "# though this approach also may have sence\n",
    "df_maxepoch = df_epochtime.groupby([\"batch\",\"lr\",\"wd\",\"run\"]).agg({\"epoch\":\"max\",\"time\":\"max\",\"loss\":\"min\"})\n",
    "df_maxepoch.head()"
   ]
  },
  {
   "cell_type": "code",
   "execution_count": 18,
   "metadata": {},
   "outputs": [
    {
     "data": {
      "text/html": [
       "<div>\n",
       "<style scoped>\n",
       "    .dataframe tbody tr th:only-of-type {\n",
       "        vertical-align: middle;\n",
       "    }\n",
       "\n",
       "    .dataframe tbody tr th {\n",
       "        vertical-align: top;\n",
       "    }\n",
       "\n",
       "    .dataframe thead th {\n",
       "        text-align: right;\n",
       "    }\n",
       "</style>\n",
       "<table border=\"1\" class=\"dataframe\">\n",
       "  <thead>\n",
       "    <tr style=\"text-align: right;\">\n",
       "      <th></th>\n",
       "      <th>batch</th>\n",
       "      <th>lr</th>\n",
       "      <th>run</th>\n",
       "      <th>wd</th>\n",
       "      <th>epoch</th>\n",
       "      <th>time</th>\n",
       "      <th>loss</th>\n",
       "      <th>max_epoch</th>\n",
       "    </tr>\n",
       "  </thead>\n",
       "  <tbody>\n",
       "    <tr>\n",
       "      <th>0</th>\n",
       "      <td>0</td>\n",
       "      <td>0.0</td>\n",
       "      <td>0</td>\n",
       "      <td>0.0</td>\n",
       "      <td>1.0</td>\n",
       "      <td>12.439247</td>\n",
       "      <td>8.991751</td>\n",
       "      <td>271.0</td>\n",
       "    </tr>\n",
       "    <tr>\n",
       "      <th>1</th>\n",
       "      <td>0</td>\n",
       "      <td>0.0</td>\n",
       "      <td>0</td>\n",
       "      <td>0.0</td>\n",
       "      <td>2.0</td>\n",
       "      <td>24.043189</td>\n",
       "      <td>8.986939</td>\n",
       "      <td>271.0</td>\n",
       "    </tr>\n",
       "    <tr>\n",
       "      <th>2</th>\n",
       "      <td>0</td>\n",
       "      <td>0.0</td>\n",
       "      <td>0</td>\n",
       "      <td>0.0</td>\n",
       "      <td>3.0</td>\n",
       "      <td>35.755322</td>\n",
       "      <td>8.988266</td>\n",
       "      <td>271.0</td>\n",
       "    </tr>\n",
       "    <tr>\n",
       "      <th>3</th>\n",
       "      <td>0</td>\n",
       "      <td>0.0</td>\n",
       "      <td>0</td>\n",
       "      <td>0.0</td>\n",
       "      <td>4.0</td>\n",
       "      <td>47.502958</td>\n",
       "      <td>8.986410</td>\n",
       "      <td>271.0</td>\n",
       "    </tr>\n",
       "    <tr>\n",
       "      <th>4</th>\n",
       "      <td>0</td>\n",
       "      <td>0.0</td>\n",
       "      <td>0</td>\n",
       "      <td>0.0</td>\n",
       "      <td>5.0</td>\n",
       "      <td>59.622441</td>\n",
       "      <td>8.981568</td>\n",
       "      <td>271.0</td>\n",
       "    </tr>\n",
       "  </tbody>\n",
       "</table>\n",
       "</div>"
      ],
      "text/plain": [
       "   batch   lr  run   wd  epoch       time      loss  max_epoch\n",
       "0      0  0.0    0  0.0    1.0  12.439247  8.991751      271.0\n",
       "1      0  0.0    0  0.0    2.0  24.043189  8.986939      271.0\n",
       "2      0  0.0    0  0.0    3.0  35.755322  8.988266      271.0\n",
       "3      0  0.0    0  0.0    4.0  47.502958  8.986410      271.0\n",
       "4      0  0.0    0  0.0    5.0  59.622441  8.981568      271.0"
      ]
     },
     "execution_count": 18,
     "metadata": {},
     "output_type": "execute_result"
    }
   ],
   "source": [
    "# Make new column with max epoch for each (batch, lr, run) combination\n",
    "df_maxepoch = df_epochtime.copy()\n",
    "df_maxepoch[\"max_epoch\"] = df_maxepoch.groupby([\"batch\",\"lr\",\"wd\",\"run\"])[\"epoch\"].transform(np.max)\n",
    "#df_maxepoch = df_maxepoch.sort_values(by=[\"batch\",\"lr\",\"wd\",\"run\"],ascending=True)\n",
    "df_maxepoch.head()"
   ]
  },
  {
   "cell_type": "code",
   "execution_count": 19,
   "metadata": {},
   "outputs": [
    {
     "data": {
      "text/html": [
       "<div>\n",
       "<style scoped>\n",
       "    .dataframe tbody tr th:only-of-type {\n",
       "        vertical-align: middle;\n",
       "    }\n",
       "\n",
       "    .dataframe tbody tr th {\n",
       "        vertical-align: top;\n",
       "    }\n",
       "\n",
       "    .dataframe thead th {\n",
       "        text-align: right;\n",
       "    }\n",
       "</style>\n",
       "<table border=\"1\" class=\"dataframe\">\n",
       "  <thead>\n",
       "    <tr style=\"text-align: right;\">\n",
       "      <th></th>\n",
       "      <th>batch</th>\n",
       "      <th>lr</th>\n",
       "      <th>run</th>\n",
       "      <th>wd</th>\n",
       "      <th>epoch</th>\n",
       "      <th>time</th>\n",
       "      <th>loss</th>\n",
       "      <th>max_epoch</th>\n",
       "    </tr>\n",
       "  </thead>\n",
       "  <tbody>\n",
       "    <tr>\n",
       "      <th>2598</th>\n",
       "      <td>0</td>\n",
       "      <td>0.0</td>\n",
       "      <td>0</td>\n",
       "      <td>0.0</td>\n",
       "      <td>271.0</td>\n",
       "      <td>3009.702852</td>\n",
       "      <td>8.489056</td>\n",
       "      <td>271.0</td>\n",
       "    </tr>\n",
       "    <tr>\n",
       "      <th>2869</th>\n",
       "      <td>0</td>\n",
       "      <td>0.0</td>\n",
       "      <td>0</td>\n",
       "      <td>0.0</td>\n",
       "      <td>271.0</td>\n",
       "      <td>3001.001735</td>\n",
       "      <td>8.484324</td>\n",
       "      <td>271.0</td>\n",
       "    </tr>\n",
       "  </tbody>\n",
       "</table>\n",
       "</div>"
      ],
      "text/plain": [
       "      batch   lr  run   wd  epoch         time      loss  max_epoch\n",
       "2598      0  0.0    0  0.0  271.0  3009.702852  8.489056      271.0\n",
       "2869      0  0.0    0  0.0  271.0  3001.001735  8.484324      271.0"
      ]
     },
     "execution_count": 19,
     "metadata": {},
     "output_type": "execute_result"
    }
   ],
   "source": [
    "df_maxepoch = df_maxepoch[df_maxepoch[\"max_epoch\"] == df_maxepoch[\"epoch\"]]\n",
    "df_maxepoch.head()"
   ]
  },
  {
   "cell_type": "code",
   "execution_count": 20,
   "metadata": {},
   "outputs": [
    {
     "data": {
      "text/html": [
       "<div>\n",
       "<style scoped>\n",
       "    .dataframe tbody tr th:only-of-type {\n",
       "        vertical-align: middle;\n",
       "    }\n",
       "\n",
       "    .dataframe tbody tr th {\n",
       "        vertical-align: top;\n",
       "    }\n",
       "\n",
       "    .dataframe thead th {\n",
       "        text-align: right;\n",
       "    }\n",
       "</style>\n",
       "<table border=\"1\" class=\"dataframe\">\n",
       "  <thead>\n",
       "    <tr style=\"text-align: right;\">\n",
       "      <th></th>\n",
       "      <th>lr</th>\n",
       "      <th>wd</th>\n",
       "      <th>batch</th>\n",
       "      <th>epoch</th>\n",
       "      <th>loss</th>\n",
       "    </tr>\n",
       "  </thead>\n",
       "  <tbody>\n",
       "    <tr>\n",
       "      <th>0</th>\n",
       "      <td>0.0</td>\n",
       "      <td>0.0</td>\n",
       "      <td>0</td>\n",
       "      <td>271.0</td>\n",
       "      <td>8.48669</td>\n",
       "    </tr>\n",
       "  </tbody>\n",
       "</table>\n",
       "</div>"
      ],
      "text/plain": [
       "    lr   wd  batch  epoch     loss\n",
       "0  0.0  0.0      0  271.0  8.48669"
      ]
     },
     "execution_count": 20,
     "metadata": {},
     "output_type": "execute_result"
    }
   ],
   "source": [
    "# Take average between runs\n",
    "df_mean = df_maxepoch.groupby([\"lr\",\"wd\"]).mean().reset_index().drop([\"run\",\"max_epoch\",\"time\"],axis=1)\n",
    "df_mean.head()"
   ]
  },
  {
   "cell_type": "code",
   "execution_count": 21,
   "metadata": {},
   "outputs": [],
   "source": [
    "loss_df = df_mean[['lr','wd','loss']]\n",
    "epoch_df = df_mean[['lr','wd','epoch']]"
   ]
  },
  {
   "cell_type": "code",
   "execution_count": 22,
   "metadata": {},
   "outputs": [],
   "source": [
    "loss_T = loss_df.pivot_table(index=\"lr\",columns=\"wd\",values=\"loss\")\n",
    "epoch_T = epoch_df.pivot_table(index=\"lr\",columns=\"wd\",values=\"epoch\")"
   ]
  },
  {
   "cell_type": "code",
   "execution_count": 23,
   "metadata": {},
   "outputs": [],
   "source": [
    "# Create custom colormap\n",
    "colors= [u'#24368Eff',\n",
    "         u'#5BBEC0ff',\n",
    "         u'#F4FAC4ff']\n",
    "cmap = matplotlib.colors.LinearSegmentedColormap.from_list(\"combined\", colors, N=256)"
   ]
  },
  {
   "cell_type": "code",
   "execution_count": 24,
   "metadata": {},
   "outputs": [
    {
     "data": {
      "image/png": "[encoded data removed]",
      "text/plain": [
       "<matplotlib.figure.Figure at 0x111061a90>"
      ]
     },
     "metadata": {},
     "output_type": "display_data"
    }
   ],
   "source": [
    "plt.rcParams['figure.figsize'] = 6,4\n",
    "lib.plotHeatMap(epoch_T,\"Epochs\",cmap)"
   ]
  },
  {
   "cell_type": "code",
   "execution_count": 25,
   "metadata": {},
   "outputs": [
    {
     "data": {
      "image/png": "[encoded data removed]",
      "text/plain": [
       "<matplotlib.figure.Figure at 0x1119722d0>"
      ]
     },
     "metadata": {},
     "output_type": "display_data"
    }
   ],
   "source": [
    "lib.plotHeatMap(loss_T,\"Loss\",\"jet\",zrange=(7,9.5))"
   ]
  },
  {
   "cell_type": "markdown",
   "metadata": {},
   "source": [
    "## Plot Loss graphs for each BS x LR combinations"
   ]
  },
  {
   "cell_type": "code",
   "execution_count": 26,
   "metadata": {},
   "outputs": [
    {
     "data": {
      "text/html": [
       "<div>\n",
       "<style scoped>\n",
       "    .dataframe tbody tr th:only-of-type {\n",
       "        vertical-align: middle;\n",
       "    }\n",
       "\n",
       "    .dataframe tbody tr th {\n",
       "        vertical-align: top;\n",
       "    }\n",
       "\n",
       "    .dataframe thead th {\n",
       "        text-align: right;\n",
       "    }\n",
       "</style>\n",
       "<table border=\"1\" class=\"dataframe\">\n",
       "  <thead>\n",
       "    <tr style=\"text-align: right;\">\n",
       "      <th></th>\n",
       "      <th>batch</th>\n",
       "      <th>lr</th>\n",
       "      <th>run</th>\n",
       "      <th>wd</th>\n",
       "      <th>epoch</th>\n",
       "      <th>time</th>\n",
       "      <th>loss</th>\n",
       "    </tr>\n",
       "  </thead>\n",
       "  <tbody>\n",
       "    <tr>\n",
       "      <th>0</th>\n",
       "      <td>0</td>\n",
       "      <td>0.0</td>\n",
       "      <td>0</td>\n",
       "      <td>0.0</td>\n",
       "      <td>1.0</td>\n",
       "      <td>12.439247</td>\n",
       "      <td>8.991751</td>\n",
       "    </tr>\n",
       "    <tr>\n",
       "      <th>1</th>\n",
       "      <td>0</td>\n",
       "      <td>0.0</td>\n",
       "      <td>0</td>\n",
       "      <td>0.0</td>\n",
       "      <td>2.0</td>\n",
       "      <td>24.043189</td>\n",
       "      <td>8.986939</td>\n",
       "    </tr>\n",
       "    <tr>\n",
       "      <th>2</th>\n",
       "      <td>0</td>\n",
       "      <td>0.0</td>\n",
       "      <td>0</td>\n",
       "      <td>0.0</td>\n",
       "      <td>3.0</td>\n",
       "      <td>35.755322</td>\n",
       "      <td>8.988266</td>\n",
       "    </tr>\n",
       "    <tr>\n",
       "      <th>3</th>\n",
       "      <td>0</td>\n",
       "      <td>0.0</td>\n",
       "      <td>0</td>\n",
       "      <td>0.0</td>\n",
       "      <td>4.0</td>\n",
       "      <td>47.502958</td>\n",
       "      <td>8.986410</td>\n",
       "    </tr>\n",
       "    <tr>\n",
       "      <th>4</th>\n",
       "      <td>0</td>\n",
       "      <td>0.0</td>\n",
       "      <td>0</td>\n",
       "      <td>0.0</td>\n",
       "      <td>5.0</td>\n",
       "      <td>59.622441</td>\n",
       "      <td>8.981568</td>\n",
       "    </tr>\n",
       "  </tbody>\n",
       "</table>\n",
       "</div>"
      ],
      "text/plain": [
       "   batch   lr  run   wd  epoch       time      loss\n",
       "0      0  0.0    0  0.0    1.0  12.439247  8.991751\n",
       "1      0  0.0    0  0.0    2.0  24.043189  8.986939\n",
       "2      0  0.0    0  0.0    3.0  35.755322  8.988266\n",
       "3      0  0.0    0  0.0    4.0  47.502958  8.986410\n",
       "4      0  0.0    0  0.0    5.0  59.622441  8.981568"
      ]
     },
     "execution_count": 26,
     "metadata": {},
     "output_type": "execute_result"
    }
   ],
   "source": [
    "df_epochtime.head()"
   ]
  },
  {
   "cell_type": "code",
   "execution_count": 27,
   "metadata": {},
   "outputs": [
    {
     "data": {
      "text/html": [
       "<div>\n",
       "<style scoped>\n",
       "    .dataframe tbody tr th:only-of-type {\n",
       "        vertical-align: middle;\n",
       "    }\n",
       "\n",
       "    .dataframe tbody tr th {\n",
       "        vertical-align: top;\n",
       "    }\n",
       "\n",
       "    .dataframe thead th {\n",
       "        text-align: right;\n",
       "    }\n",
       "</style>\n",
       "<table border=\"1\" class=\"dataframe\">\n",
       "  <thead>\n",
       "    <tr style=\"text-align: right;\">\n",
       "      <th></th>\n",
       "      <th>lr</th>\n",
       "      <th>wd</th>\n",
       "      <th>epoch</th>\n",
       "      <th>batch</th>\n",
       "      <th>time</th>\n",
       "      <th>loss</th>\n",
       "    </tr>\n",
       "  </thead>\n",
       "  <tbody>\n",
       "    <tr>\n",
       "      <th>0</th>\n",
       "      <td>0.0</td>\n",
       "      <td>0.0</td>\n",
       "      <td>1.0</td>\n",
       "      <td>0</td>\n",
       "      <td>11.826146</td>\n",
       "      <td>8.990340</td>\n",
       "    </tr>\n",
       "    <tr>\n",
       "      <th>1</th>\n",
       "      <td>0.0</td>\n",
       "      <td>0.0</td>\n",
       "      <td>2.0</td>\n",
       "      <td>0</td>\n",
       "      <td>22.981028</td>\n",
       "      <td>8.987770</td>\n",
       "    </tr>\n",
       "    <tr>\n",
       "      <th>2</th>\n",
       "      <td>0.0</td>\n",
       "      <td>0.0</td>\n",
       "      <td>3.0</td>\n",
       "      <td>0</td>\n",
       "      <td>34.248542</td>\n",
       "      <td>8.983230</td>\n",
       "    </tr>\n",
       "    <tr>\n",
       "      <th>3</th>\n",
       "      <td>0.0</td>\n",
       "      <td>0.0</td>\n",
       "      <td>4.0</td>\n",
       "      <td>0</td>\n",
       "      <td>45.574380</td>\n",
       "      <td>8.977998</td>\n",
       "    </tr>\n",
       "    <tr>\n",
       "      <th>4</th>\n",
       "      <td>0.0</td>\n",
       "      <td>0.0</td>\n",
       "      <td>5.0</td>\n",
       "      <td>0</td>\n",
       "      <td>56.948229</td>\n",
       "      <td>8.972036</td>\n",
       "    </tr>\n",
       "  </tbody>\n",
       "</table>\n",
       "</div>"
      ],
      "text/plain": [
       "    lr   wd  epoch  batch       time      loss\n",
       "0  0.0  0.0    1.0      0  11.826146  8.990340\n",
       "1  0.0  0.0    2.0      0  22.981028  8.987770\n",
       "2  0.0  0.0    3.0      0  34.248542  8.983230\n",
       "3  0.0  0.0    4.0      0  45.574380  8.977998\n",
       "4  0.0  0.0    5.0      0  56.948229  8.972036"
      ]
     },
     "execution_count": 27,
     "metadata": {},
     "output_type": "execute_result"
    }
   ],
   "source": [
    "# Take average between runs\n",
    "df_mean_epo = df_epochtime.groupby([\"lr\",\"wd\",\"epoch\"]).mean().reset_index().drop([\"run\"],axis=1)\n",
    "#df_mean_epo[[\"epoch\"]] = df_mean_epo[[\"epoch\"]].astype(int)\n",
    "#print df_mean_epo.dtypes\n",
    "#print df_mean_epo[\"wd\"].values\n",
    "df_mean_epo.head()"
   ]
  },
  {
   "cell_type": "code",
   "execution_count": 28,
   "metadata": {},
   "outputs": [
    {
     "name": "stdout",
     "output_type": "stream",
     "text": [
      "[0.]\n"
     ]
    },
    {
     "data": {
      "text/html": [
       "<div>\n",
       "<style scoped>\n",
       "    .dataframe tbody tr th:only-of-type {\n",
       "        vertical-align: middle;\n",
       "    }\n",
       "\n",
       "    .dataframe tbody tr th {\n",
       "        vertical-align: top;\n",
       "    }\n",
       "\n",
       "    .dataframe thead th {\n",
       "        text-align: right;\n",
       "    }\n",
       "</style>\n",
       "<table border=\"1\" class=\"dataframe\">\n",
       "  <thead>\n",
       "    <tr style=\"text-align: right;\">\n",
       "      <th></th>\n",
       "      <th>lr</th>\n",
       "      <th>wd</th>\n",
       "      <th>epoch</th>\n",
       "      <th>batch</th>\n",
       "      <th>time</th>\n",
       "      <th>loss</th>\n",
       "    </tr>\n",
       "  </thead>\n",
       "  <tbody>\n",
       "    <tr>\n",
       "      <th>0</th>\n",
       "      <td>0.0</td>\n",
       "      <td>0.0</td>\n",
       "      <td>1.0</td>\n",
       "      <td>0</td>\n",
       "      <td>11.826146</td>\n",
       "      <td>8.990340</td>\n",
       "    </tr>\n",
       "    <tr>\n",
       "      <th>1</th>\n",
       "      <td>0.0</td>\n",
       "      <td>0.0</td>\n",
       "      <td>2.0</td>\n",
       "      <td>0</td>\n",
       "      <td>22.981028</td>\n",
       "      <td>8.987770</td>\n",
       "    </tr>\n",
       "    <tr>\n",
       "      <th>2</th>\n",
       "      <td>0.0</td>\n",
       "      <td>0.0</td>\n",
       "      <td>3.0</td>\n",
       "      <td>0</td>\n",
       "      <td>34.248542</td>\n",
       "      <td>8.983230</td>\n",
       "    </tr>\n",
       "    <tr>\n",
       "      <th>3</th>\n",
       "      <td>0.0</td>\n",
       "      <td>0.0</td>\n",
       "      <td>4.0</td>\n",
       "      <td>0</td>\n",
       "      <td>45.574380</td>\n",
       "      <td>8.977998</td>\n",
       "    </tr>\n",
       "    <tr>\n",
       "      <th>4</th>\n",
       "      <td>0.0</td>\n",
       "      <td>0.0</td>\n",
       "      <td>5.0</td>\n",
       "      <td>0</td>\n",
       "      <td>56.948229</td>\n",
       "      <td>8.972036</td>\n",
       "    </tr>\n",
       "  </tbody>\n",
       "</table>\n",
       "</div>"
      ],
      "text/plain": [
       "    lr   wd  epoch  batch       time      loss\n",
       "0  0.0  0.0    1.0      0  11.826146  8.990340\n",
       "1  0.0  0.0    2.0      0  22.981028  8.987770\n",
       "2  0.0  0.0    3.0      0  34.248542  8.983230\n",
       "3  0.0  0.0    4.0      0  45.574380  8.977998\n",
       "4  0.0  0.0    5.0      0  56.948229  8.972036"
      ]
     },
     "execution_count": 28,
     "metadata": {},
     "output_type": "execute_result"
    }
   ],
   "source": [
    "df_mean_epo = df_mean_epo.sort_values(by=[\"lr\"],ascending=False)\n",
    "df_mean_epo = df_mean_epo.sort_values(by=[\"wd\",\"epoch\"],ascending=True)\n",
    "print df_mean_epo[\"wd\"].unique()\n",
    "#print df_mean_epo[\"wd\"].values\n",
    "df_mean_epo.head(5)"
   ]
  },
  {
   "cell_type": "code",
   "execution_count": 29,
   "metadata": {
    "scrolled": false
   },
   "outputs": [
    {
     "data": {
      "image/png": "[encoded data removed]",
      "text/plain": [
       "<matplotlib.figure.Figure at 0x111ad5410>"
      ]
     },
     "metadata": {},
     "output_type": "display_data"
    }
   ],
   "source": [
    "# Plot using Seaborn FacetGrid\n",
    "# Set Seaborn global parameters\n",
    "sns.set(font_scale=1)\n",
    "#sns.set_style(\"white\",{'axes.grid': True, 'grid.color': (0,0,0),'grid.linestyle':u':'})\n",
    "sns.set_style(\"white\")\n",
    "#print sns.axes_style()\n",
    "\n",
    "# Plot using \"tab10\" matplotlib colormap\n",
    "\n",
    "# major_xticks = np.arange(0,176,50)\n",
    "# minor_xticks = np.arange(0,176,25)\n",
    "# major_yticks = np.arange(5,8.1,1)\n",
    "# minor_yticks = np.arange(5,8.1,0.5)\n",
    "with sns.color_palette(\"tab10\"):\n",
    "    fg = sns.FacetGrid(df_mean_epo,row=\"lr\",col=\"wd\",\n",
    "                         row_order=df_mean_epo[\"lr\"].unique(),\n",
    "                         size=2.1,aspect=1.2,\n",
    "                         #xlim=(0,176),\n",
    "                         #ylim=(5,8),\n",
    "                         margin_titles=True,\n",
    "                         subplot_kws={\"facecolor\":\"#FFFEEB\"})\n",
    "    \n",
    "    fg.map(plt.plot,\"epoch\",\"loss\",ls=\"-\",linewidth=.8)\n",
    "    \n",
    "    #print \"FacetGrid:\",fg.__dict__.keys()\n",
    "    #print fg.axes.shape, fg.axes.size\n",
    "    #axes = fg.axes.reshape(fg.axes.size)    \n",
    "    for ax_arr in np.nditer(fg.axes,flags=[\"refs_ok\"]):\n",
    "        ax = ax_arr.item()\n",
    "#         ax.set_xticks(major_xticks)\n",
    "#         ax.set_yticks(major_yticks)\n",
    "#         ax.set_xticks(minor_xticks, minor=True)        \n",
    "#         ax.set_yticks(minor_yticks, minor=True)\n",
    "        ax.grid(which=\"major\",ls=\":\",alpha=0.25, color=\"black\")\n",
    "        ax.grid(which=\"minor\",ls=\":\",alpha=0.15, color=\"black\")\n",
    "\n",
    "plt.show()"
   ]
  },
  {
   "cell_type": "code",
   "execution_count": null,
   "metadata": {},
   "outputs": [],
   "source": []
  },
  {
   "cell_type": "code",
   "execution_count": null,
   "metadata": {},
   "outputs": [],
   "source": []
  }
 ],
 "metadata": {
  "kernelspec": {
   "display_name": "Python 2",
   "language": "python",
   "name": "python2"
  },
  "language_info": {
   "codemirror_mode": {
    "name": "ipython",
    "version": 2
   },
   "file_extension": ".py",
   "mimetype": "text/x-python",
   "name": "python",
   "nbconvert_exporter": "python",
   "pygments_lexer": "ipython2",
   "version": "2.7.12"
  },
  "toc": {
   "base_numbering": 1,
   "nav_menu": {},
   "number_sections": true,
   "sideBar": true,
   "skip_h1_title": true,
   "title_cell": "Table of Contents",
   "title_sidebar": "Contents",
   "toc_cell": false,
   "toc_position": {
    "height": "calc(100% - 180px)",
    "left": "10px",
    "top": "150px",
    "width": "202px"
   },
   "toc_section_display": true,
   "toc_window_display": false
  }
 },
 "nbformat": 4,
 "nbformat_minor": 2
}

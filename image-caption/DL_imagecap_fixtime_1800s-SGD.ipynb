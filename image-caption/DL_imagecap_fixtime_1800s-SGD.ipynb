{
 "cells": [
  {
   "cell_type": "markdown",
   "metadata": {},
   "source": [
    "# Image caption runs with various hyperparameters\n",
    "## SGD optimization\n",
    "\n",
    "### Run for <span style=\"color:red;\">1800</span>s"
   ]
  },
  {
   "cell_type": "code",
   "execution_count": 1,
   "metadata": {},
   "outputs": [],
   "source": [
    "%matplotlib inline\n",
    "import re\n",
    "import numpy as np\n",
    "import matplotlib\n",
    "import matplotlib.pyplot as plt\n",
    "from matplotlib import cm\n",
    "import pandas as pd\n",
    "import subprocess\n",
    "import os\n",
    "import seaborn as sns"
   ]
  },
  {
   "cell_type": "code",
   "execution_count": 8,
   "metadata": {},
   "outputs": [
    {
     "name": "stdout",
     "output_type": "stream",
     "text": [
      "\u001b[1m\u001b[36mtime_limit1800s\u001b[m\u001b[m\r\n"
     ]
    }
   ],
   "source": [
    "!ls logs/fixtime/SGD/"
   ]
  },
  {
   "cell_type": "code",
   "execution_count": 9,
   "metadata": {},
   "outputs": [],
   "source": [
    "logdir = \"logs/fixtime/SGD/time_limit1800s\""
   ]
  },
  {
   "cell_type": "code",
   "execution_count": 10,
   "metadata": {},
   "outputs": [
    {
     "data": {
      "text/plain": [
       "8"
      ]
     },
     "execution_count": 10,
     "metadata": {},
     "output_type": "execute_result"
    }
   ],
   "source": [
    "filename_pattern=re.compile(r\"imagecaption_.*\\.log\")\n",
    "files=[]\n",
    "comm = \"ls -1 \"+logdir\n",
    "proc = subprocess.Popen(comm.split(\" \"),\n",
    "                     stdout=subprocess.PIPE,stderr=subprocess.STDOUT)\n",
    "for line in iter(proc.stdout.readline,b''):\n",
    "    m = filename_pattern.match(line)\n",
    "    if m:\n",
    "        files.append(os.path.abspath(os.path.join(logdir,line)))\n",
    "len(files)"
   ]
  },
  {
   "cell_type": "code",
   "execution_count": 11,
   "metadata": {},
   "outputs": [],
   "source": [
    "batch_learn_pattern = re.compile(r\"_b(\\d+)_l([0-9\\.]+)_smp\\d+_(\\d+)\") # Match against file name\n",
    "output_pattern = re.compile(r\"^(\\d+),\\s*([0-9\\.]+),\\s*([0-9\\.]+)\")\n",
    "validation_pattern = re.compile(r\"^{'Bleu_1':\\s*([0-9e\\-\\.]+),\\s*'Bleu_2':\\s*([0-9e\\-\\.]+),\\s*'Bleu_3':\\s*([0-9e\\-\\.]+),\\s*'Bleu_4':\\s*([0-9e\\-\\.]+),\\s*'ROUGE_L':\\s*([0-9e\\-\\.]+),\\s*'CIDEr':\\s*([0-9e\\-\\.]+)}\")\n",
    "\n",
    "# Read minibatch size and 1st epoch time from files.\n",
    "# Store in a DataFrame.\n",
    "def fileToDF(logfile, debug=False):\n",
    "    global output_pattern, batch_learn_pattern, validation_pattern\n",
    "    \n",
    "    logfile = logfile.strip(\" \\n\")\n",
    "    filename = os.path.basename(logfile)\n",
    "    if debug: print \"FILE\",filename\n",
    "    batch = 0\n",
    "    learn = 0\n",
    "    run = 0\n",
    "    m = batch_learn_pattern.search(filename)\n",
    "    if m:\n",
    "        batch = int(m.group(1))\n",
    "        learn = float(m.group(2))\n",
    "        run = int(m.group(3))\n",
    "        if debug: print \"BS,LR,run:\",batch,learn,run\n",
    "    \n",
    "    with open(logfile,\"r\") as f:\n",
    "        lines = f.readlines()\n",
    "        time = 0\n",
    "        epoch = 0\n",
    "        ind = 0\n",
    "        ind_v = 0 # DataFrame row number (index) for df_validation\n",
    "        df_epochtime = pd.DataFrame(data=None,columns=[\"batch\",\"lr\",\"run\",\n",
    "                                                       \"epoch\",\"time\",\"loss\"])\n",
    "        df_validation = pd.DataFrame(data=None,columns=[\"batch\",\"lr\",\"run\",\n",
    "                                                        \"bleu1\",\"bleu2\",\"bleu3\",\"bleu4\",\n",
    "                                                        \"rouge\",\"cider\"])\n",
    "        for line in lines:\n",
    "            s = line.strip(' \\n')            \n",
    "            m2 = output_pattern.match(s)\n",
    "            if m2:\n",
    "                # Use only last line from file (with max epoch counter)\n",
    "                if debug: print line,                    \n",
    "                epoch = int(m2.group(1))\n",
    "                time += float(m2.group(2))  # Time per epoch must be summed\n",
    "                loss = float(m2.group(3))\n",
    "                if debug: print \"BS,LR,run,epoch,time,loss:\",batch,learn,run,epoch,time,loss\n",
    "                df_epochtime.loc[ind] = [batch,learn,run,epoch,time,loss]\n",
    "                ind += 1\n",
    "            else:\n",
    "                m3 = validation_pattern.match(s)\n",
    "                if m3:\n",
    "                    if debug: print line,\n",
    "                    bl1 = float(m3.group(1))\n",
    "                    bl2 = float(m3.group(2))\n",
    "                    bl3 = float(m3.group(3))\n",
    "                    bl4 = float(m3.group(4))\n",
    "                    rouge = float(m3.group(5))\n",
    "                    cider = float(m3.group(6))\n",
    "                    if debug: print \"Bleu, Rouge, CIDEr:\",bl1,bl2,bl3,bl4,rouge,cider\n",
    "                    df_validation.loc[ind_v] = [batch,learn,run,\n",
    "                                                bl1,bl2,bl3,bl4,\n",
    "                                                rouge, cider]\n",
    "                    ind_v += 1\n",
    "\n",
    "    return (df_epochtime, df_validation)"
   ]
  },
  {
   "cell_type": "code",
   "execution_count": 12,
   "metadata": {},
   "outputs": [],
   "source": [
    "def readLogs(logdir, debug=False, maxfiles=10000000):\n",
    "    global filename_pattern\n",
    "    files=[]\n",
    "    comm = \"ls -1 \"+logdir\n",
    "    proc = subprocess.Popen(comm.split(\" \"),\n",
    "                         stdout=subprocess.PIPE,stderr=subprocess.STDOUT)\n",
    "    for line in iter(proc.stdout.readline,b''):\n",
    "        m = filename_pattern.match(line)\n",
    "        if m:\n",
    "            files.append(os.path.abspath(os.path.join(logdir,line)))\n",
    "            \n",
    "    #if debug: print \"files:\",files\n",
    "    df_epochtime = pd.DataFrame(data=None,columns=[\"batch\",\"lr\",\"run\",\"epoch\",\"time\",\"loss\"])\n",
    "    df_validation = pd.DataFrame(data=None,columns=[\"batch\",\"lr\",\"run\",\n",
    "                                                        \"bleu1\",\"bleu2\",\"bleu3\",\"bleu4\",\n",
    "                                                        \"rouge\",\"cider\"])\n",
    "    filecounter=0\n",
    "    for file in files:\n",
    "        if debug: print file\n",
    "        df_e1,df_v1 = fileToDF(file,debug)\n",
    "        if len(df_e1) > 0:\n",
    "            df_epochtime = pd.concat([df_epochtime,df_e1],ignore_index=True)\n",
    "        if len(df_v1) > 0:\n",
    "            df_validation = pd.concat([df_validation,df_v1],ignore_index=True)\n",
    "        filecounter +=1\n",
    "        if filecounter>=maxfiles:\n",
    "            return df\n",
    "    return (df_epochtime, df_validation)"
   ]
  },
  {
   "cell_type": "code",
   "execution_count": 13,
   "metadata": {},
   "outputs": [
    {
     "name": "stdout",
     "output_type": "stream",
     "text": [
      "logs/fixtime/SGD/time_limit1800s\n",
      "(8, 9) (818, 6)\n"
     ]
    }
   ],
   "source": [
    "print logdir\n",
    "df_epochtime,df_validation = readLogs(logdir)\n",
    "print df_validation.shape, df_epochtime.shape"
   ]
  },
  {
   "cell_type": "code",
   "execution_count": 14,
   "metadata": {},
   "outputs": [
    {
     "data": {
      "text/html": [
       "<div>\n",
       "<style scoped>\n",
       "    .dataframe tbody tr th:only-of-type {\n",
       "        vertical-align: middle;\n",
       "    }\n",
       "\n",
       "    .dataframe tbody tr th {\n",
       "        vertical-align: top;\n",
       "    }\n",
       "\n",
       "    .dataframe thead th {\n",
       "        text-align: right;\n",
       "    }\n",
       "</style>\n",
       "<table border=\"1\" class=\"dataframe\">\n",
       "  <thead>\n",
       "    <tr style=\"text-align: right;\">\n",
       "      <th></th>\n",
       "      <th>batch</th>\n",
       "      <th>lr</th>\n",
       "      <th>run</th>\n",
       "      <th>bleu1</th>\n",
       "      <th>bleu2</th>\n",
       "      <th>bleu3</th>\n",
       "      <th>bleu4</th>\n",
       "      <th>rouge</th>\n",
       "      <th>cider</th>\n",
       "    </tr>\n",
       "  </thead>\n",
       "  <tbody>\n",
       "    <tr>\n",
       "      <th>0</th>\n",
       "      <td>4</td>\n",
       "      <td>0.00010</td>\n",
       "      <td>0</td>\n",
       "      <td>0.134504</td>\n",
       "      <td>0.079159</td>\n",
       "      <td>0.053832</td>\n",
       "      <td>0.036271</td>\n",
       "      <td>0.157840</td>\n",
       "      <td>3.827495e-06</td>\n",
       "    </tr>\n",
       "    <tr>\n",
       "      <th>1</th>\n",
       "      <td>4</td>\n",
       "      <td>0.00020</td>\n",
       "      <td>0</td>\n",
       "      <td>0.135432</td>\n",
       "      <td>0.079693</td>\n",
       "      <td>0.054329</td>\n",
       "      <td>0.036765</td>\n",
       "      <td>0.158372</td>\n",
       "      <td>1.700023e-08</td>\n",
       "    </tr>\n",
       "    <tr>\n",
       "      <th>2</th>\n",
       "      <td>4</td>\n",
       "      <td>0.00035</td>\n",
       "      <td>0</td>\n",
       "      <td>0.135214</td>\n",
       "      <td>0.079735</td>\n",
       "      <td>0.054443</td>\n",
       "      <td>0.036868</td>\n",
       "      <td>0.158467</td>\n",
       "      <td>4.348032e-09</td>\n",
       "    </tr>\n",
       "    <tr>\n",
       "      <th>3</th>\n",
       "      <td>4</td>\n",
       "      <td>0.00050</td>\n",
       "      <td>0</td>\n",
       "      <td>0.135770</td>\n",
       "      <td>0.079955</td>\n",
       "      <td>0.054676</td>\n",
       "      <td>0.037030</td>\n",
       "      <td>0.158896</td>\n",
       "      <td>1.168507e-06</td>\n",
       "    </tr>\n",
       "    <tr>\n",
       "      <th>4</th>\n",
       "      <td>4</td>\n",
       "      <td>0.00100</td>\n",
       "      <td>0</td>\n",
       "      <td>0.136433</td>\n",
       "      <td>0.080525</td>\n",
       "      <td>0.054861</td>\n",
       "      <td>0.036987</td>\n",
       "      <td>0.159448</td>\n",
       "      <td>5.004535e-08</td>\n",
       "    </tr>\n",
       "  </tbody>\n",
       "</table>\n",
       "</div>"
      ],
      "text/plain": [
       "   batch       lr  run     bleu1     bleu2     bleu3     bleu4     rouge  \\\n",
       "0      4  0.00010    0  0.134504  0.079159  0.053832  0.036271  0.157840   \n",
       "1      4  0.00020    0  0.135432  0.079693  0.054329  0.036765  0.158372   \n",
       "2      4  0.00035    0  0.135214  0.079735  0.054443  0.036868  0.158467   \n",
       "3      4  0.00050    0  0.135770  0.079955  0.054676  0.037030  0.158896   \n",
       "4      4  0.00100    0  0.136433  0.080525  0.054861  0.036987  0.159448   \n",
       "\n",
       "          cider  \n",
       "0  3.827495e-06  \n",
       "1  1.700023e-08  \n",
       "2  4.348032e-09  \n",
       "3  1.168507e-06  \n",
       "4  5.004535e-08  "
      ]
     },
     "execution_count": 14,
     "metadata": {},
     "output_type": "execute_result"
    }
   ],
   "source": [
    "df_validation[[\"batch\",\"run\"]] = df_validation[[\"batch\",\"run\"]].astype(int)\n",
    "df_epochtime[[\"batch\",\"run\"]] = df_epochtime[[\"batch\",\"run\"]].astype(int)\n",
    "df_validation.head()"
   ]
  },
  {
   "cell_type": "markdown",
   "metadata": {},
   "source": [
    "## Validation score"
   ]
  },
  {
   "cell_type": "code",
   "execution_count": 15,
   "metadata": {},
   "outputs": [
    {
     "name": "stdout",
     "output_type": "stream",
     "text": [
      "(8, 9)\n"
     ]
    },
    {
     "data": {
      "text/html": [
       "<div>\n",
       "<style scoped>\n",
       "    .dataframe tbody tr th:only-of-type {\n",
       "        vertical-align: middle;\n",
       "    }\n",
       "\n",
       "    .dataframe tbody tr th {\n",
       "        vertical-align: top;\n",
       "    }\n",
       "\n",
       "    .dataframe thead th {\n",
       "        text-align: right;\n",
       "    }\n",
       "</style>\n",
       "<table border=\"1\" class=\"dataframe\">\n",
       "  <thead>\n",
       "    <tr style=\"text-align: right;\">\n",
       "      <th></th>\n",
       "      <th>batch</th>\n",
       "      <th>lr</th>\n",
       "      <th>run</th>\n",
       "      <th>bleu1</th>\n",
       "      <th>bleu2</th>\n",
       "      <th>bleu3</th>\n",
       "      <th>bleu4</th>\n",
       "      <th>rouge</th>\n",
       "      <th>cider</th>\n",
       "    </tr>\n",
       "  </thead>\n",
       "  <tbody>\n",
       "    <tr>\n",
       "      <th>0</th>\n",
       "      <td>4</td>\n",
       "      <td>0.00010</td>\n",
       "      <td>0</td>\n",
       "      <td>0.134504</td>\n",
       "      <td>0.079159</td>\n",
       "      <td>0.053832</td>\n",
       "      <td>0.036271</td>\n",
       "      <td>0.157840</td>\n",
       "      <td>3.827495e-06</td>\n",
       "    </tr>\n",
       "    <tr>\n",
       "      <th>1</th>\n",
       "      <td>4</td>\n",
       "      <td>0.00020</td>\n",
       "      <td>0</td>\n",
       "      <td>0.135432</td>\n",
       "      <td>0.079693</td>\n",
       "      <td>0.054329</td>\n",
       "      <td>0.036765</td>\n",
       "      <td>0.158372</td>\n",
       "      <td>1.700023e-08</td>\n",
       "    </tr>\n",
       "    <tr>\n",
       "      <th>2</th>\n",
       "      <td>4</td>\n",
       "      <td>0.00035</td>\n",
       "      <td>0</td>\n",
       "      <td>0.135214</td>\n",
       "      <td>0.079735</td>\n",
       "      <td>0.054443</td>\n",
       "      <td>0.036868</td>\n",
       "      <td>0.158467</td>\n",
       "      <td>4.348032e-09</td>\n",
       "    </tr>\n",
       "    <tr>\n",
       "      <th>3</th>\n",
       "      <td>4</td>\n",
       "      <td>0.00050</td>\n",
       "      <td>0</td>\n",
       "      <td>0.135770</td>\n",
       "      <td>0.079955</td>\n",
       "      <td>0.054676</td>\n",
       "      <td>0.037030</td>\n",
       "      <td>0.158896</td>\n",
       "      <td>1.168507e-06</td>\n",
       "    </tr>\n",
       "    <tr>\n",
       "      <th>4</th>\n",
       "      <td>4</td>\n",
       "      <td>0.00100</td>\n",
       "      <td>0</td>\n",
       "      <td>0.136433</td>\n",
       "      <td>0.080525</td>\n",
       "      <td>0.054861</td>\n",
       "      <td>0.036987</td>\n",
       "      <td>0.159448</td>\n",
       "      <td>5.004535e-08</td>\n",
       "    </tr>\n",
       "  </tbody>\n",
       "</table>\n",
       "</div>"
      ],
      "text/plain": [
       "   batch       lr  run     bleu1     bleu2     bleu3     bleu4     rouge  \\\n",
       "0      4  0.00010    0  0.134504  0.079159  0.053832  0.036271  0.157840   \n",
       "1      4  0.00020    0  0.135432  0.079693  0.054329  0.036765  0.158372   \n",
       "2      4  0.00035    0  0.135214  0.079735  0.054443  0.036868  0.158467   \n",
       "3      4  0.00050    0  0.135770  0.079955  0.054676  0.037030  0.158896   \n",
       "4      4  0.00100    0  0.136433  0.080525  0.054861  0.036987  0.159448   \n",
       "\n",
       "          cider  \n",
       "0  3.827495e-06  \n",
       "1  1.700023e-08  \n",
       "2  4.348032e-09  \n",
       "3  1.168507e-06  \n",
       "4  5.004535e-08  "
      ]
     },
     "execution_count": 15,
     "metadata": {},
     "output_type": "execute_result"
    }
   ],
   "source": [
    "print df_validation.shape\n",
    "df_validation.head()"
   ]
  },
  {
   "cell_type": "code",
   "execution_count": 16,
   "metadata": {},
   "outputs": [
    {
     "data": {
      "text/plain": [
       "array([[<matplotlib.axes._subplots.AxesSubplot object at 0x10a13a450>]],\n",
       "      dtype=object)"
      ]
     },
     "execution_count": 16,
     "metadata": {},
     "output_type": "execute_result"
    },
    {
     "data": {
      "image/png": "[encoded data removed]",
      "text/plain": [
       "<matplotlib.figure.Figure at 0x10f01fbd0>"
      ]
     },
     "metadata": {},
     "output_type": "display_data"
    }
   ],
   "source": [
    "# Checking number of rows in the dataframe per batch size\n",
    "# 7 LR values x 2 runs = 14 rows\n",
    "plt.rcParams['figure.figsize'] = 8,3\n",
    "df_validation[[\"batch\"]].hist(bins=52)"
   ]
  },
  {
   "cell_type": "code",
   "execution_count": 17,
   "metadata": {},
   "outputs": [
    {
     "data": {
      "text/html": [
       "<div>\n",
       "<style scoped>\n",
       "    .dataframe tbody tr th:only-of-type {\n",
       "        vertical-align: middle;\n",
       "    }\n",
       "\n",
       "    .dataframe tbody tr th {\n",
       "        vertical-align: top;\n",
       "    }\n",
       "\n",
       "    .dataframe thead th {\n",
       "        text-align: right;\n",
       "    }\n",
       "</style>\n",
       "<table border=\"1\" class=\"dataframe\">\n",
       "  <thead>\n",
       "    <tr style=\"text-align: right;\">\n",
       "      <th></th>\n",
       "      <th>batch</th>\n",
       "      <th>lr</th>\n",
       "      <th>bleu1</th>\n",
       "      <th>bleu2</th>\n",
       "      <th>bleu3</th>\n",
       "      <th>bleu4</th>\n",
       "      <th>rouge</th>\n",
       "      <th>cider</th>\n",
       "    </tr>\n",
       "  </thead>\n",
       "  <tbody>\n",
       "    <tr>\n",
       "      <th>0</th>\n",
       "      <td>4</td>\n",
       "      <td>0.00010</td>\n",
       "      <td>0.134504</td>\n",
       "      <td>0.079159</td>\n",
       "      <td>0.053832</td>\n",
       "      <td>0.036271</td>\n",
       "      <td>0.157840</td>\n",
       "      <td>3.827495e-06</td>\n",
       "    </tr>\n",
       "    <tr>\n",
       "      <th>1</th>\n",
       "      <td>4</td>\n",
       "      <td>0.00020</td>\n",
       "      <td>0.135432</td>\n",
       "      <td>0.079693</td>\n",
       "      <td>0.054329</td>\n",
       "      <td>0.036765</td>\n",
       "      <td>0.158372</td>\n",
       "      <td>1.700023e-08</td>\n",
       "    </tr>\n",
       "    <tr>\n",
       "      <th>2</th>\n",
       "      <td>4</td>\n",
       "      <td>0.00035</td>\n",
       "      <td>0.135214</td>\n",
       "      <td>0.079735</td>\n",
       "      <td>0.054443</td>\n",
       "      <td>0.036868</td>\n",
       "      <td>0.158467</td>\n",
       "      <td>4.348032e-09</td>\n",
       "    </tr>\n",
       "    <tr>\n",
       "      <th>3</th>\n",
       "      <td>4</td>\n",
       "      <td>0.00050</td>\n",
       "      <td>0.135770</td>\n",
       "      <td>0.079955</td>\n",
       "      <td>0.054676</td>\n",
       "      <td>0.037030</td>\n",
       "      <td>0.158896</td>\n",
       "      <td>1.168507e-06</td>\n",
       "    </tr>\n",
       "    <tr>\n",
       "      <th>4</th>\n",
       "      <td>4</td>\n",
       "      <td>0.00100</td>\n",
       "      <td>0.136433</td>\n",
       "      <td>0.080525</td>\n",
       "      <td>0.054861</td>\n",
       "      <td>0.036987</td>\n",
       "      <td>0.159448</td>\n",
       "      <td>5.004535e-08</td>\n",
       "    </tr>\n",
       "  </tbody>\n",
       "</table>\n",
       "</div>"
      ],
      "text/plain": [
       "   batch       lr     bleu1     bleu2     bleu3     bleu4     rouge  \\\n",
       "0      4  0.00010  0.134504  0.079159  0.053832  0.036271  0.157840   \n",
       "1      4  0.00020  0.135432  0.079693  0.054329  0.036765  0.158372   \n",
       "2      4  0.00035  0.135214  0.079735  0.054443  0.036868  0.158467   \n",
       "3      4  0.00050  0.135770  0.079955  0.054676  0.037030  0.158896   \n",
       "4      4  0.00100  0.136433  0.080525  0.054861  0.036987  0.159448   \n",
       "\n",
       "          cider  \n",
       "0  3.827495e-06  \n",
       "1  1.700023e-08  \n",
       "2  4.348032e-09  \n",
       "3  1.168507e-06  \n",
       "4  5.004535e-08  "
      ]
     },
     "execution_count": 17,
     "metadata": {},
     "output_type": "execute_result"
    }
   ],
   "source": [
    "# Take average between runs\n",
    "df_mean = df_validation.groupby([\"batch\",\"lr\"]).mean().reset_index().drop([\"run\"],axis=1)\n",
    "df_mean.head()"
   ]
  },
  {
   "cell_type": "code",
   "execution_count": 18,
   "metadata": {},
   "outputs": [
    {
     "data": {
      "text/html": [
       "<div>\n",
       "<style scoped>\n",
       "    .dataframe tbody tr th:only-of-type {\n",
       "        vertical-align: middle;\n",
       "    }\n",
       "\n",
       "    .dataframe tbody tr th {\n",
       "        vertical-align: top;\n",
       "    }\n",
       "\n",
       "    .dataframe thead th {\n",
       "        text-align: right;\n",
       "    }\n",
       "</style>\n",
       "<table border=\"1\" class=\"dataframe\">\n",
       "  <thead>\n",
       "    <tr style=\"text-align: right;\">\n",
       "      <th>lr</th>\n",
       "      <th>0.0001</th>\n",
       "      <th>0.0002</th>\n",
       "      <th>0.00035</th>\n",
       "      <th>0.0005</th>\n",
       "      <th>0.001</th>\n",
       "      <th>0.0025</th>\n",
       "      <th>0.005</th>\n",
       "      <th>0.0075</th>\n",
       "    </tr>\n",
       "    <tr>\n",
       "      <th>batch</th>\n",
       "      <th></th>\n",
       "      <th></th>\n",
       "      <th></th>\n",
       "      <th></th>\n",
       "      <th></th>\n",
       "      <th></th>\n",
       "      <th></th>\n",
       "      <th></th>\n",
       "    </tr>\n",
       "  </thead>\n",
       "  <tbody>\n",
       "    <tr>\n",
       "      <th>4</th>\n",
       "      <td>0.000004</td>\n",
       "      <td>1.700023e-08</td>\n",
       "      <td>4.348032e-09</td>\n",
       "      <td>0.000001</td>\n",
       "      <td>5.004535e-08</td>\n",
       "      <td>0.000001</td>\n",
       "      <td>2.150040e-07</td>\n",
       "      <td>4.647202e-07</td>\n",
       "    </tr>\n",
       "  </tbody>\n",
       "</table>\n",
       "</div>"
      ],
      "text/plain": [
       "lr      0.00010       0.00020       0.00035   0.00050       0.00100   0.00250  \\\n",
       "batch                                                                           \n",
       "4      0.000004  1.700023e-08  4.348032e-09  0.000001  5.004535e-08  0.000001   \n",
       "\n",
       "lr          0.00500       0.00750  \n",
       "batch                              \n",
       "4      2.150040e-07  4.647202e-07  "
      ]
     },
     "execution_count": 18,
     "metadata": {},
     "output_type": "execute_result"
    }
   ],
   "source": [
    "df_cider = df_mean.pivot_table(index=\"batch\",columns=\"lr\",values=\"cider\")\n",
    "df_rouge = df_mean.pivot_table(index=\"batch\",columns=\"lr\",values=\"rouge\")\n",
    "df_bleu1 = df_mean.pivot_table(index=\"batch\",columns=\"lr\",values=\"bleu1\")\n",
    "df_bleu2 = df_mean.pivot_table(index=\"batch\",columns=\"lr\",values=\"bleu2\")\n",
    "df_bleu3 = df_mean.pivot_table(index=\"batch\",columns=\"lr\",values=\"bleu3\")\n",
    "df_bleu4 = df_mean.pivot_table(index=\"batch\",columns=\"lr\",values=\"bleu4\")\n",
    "df_cider.head()"
   ]
  },
  {
   "cell_type": "code",
   "execution_count": 19,
   "metadata": {},
   "outputs": [],
   "source": [
    "def plotHeatMap(df,ax,title=None,cmap=None):        \n",
    "    cmesh=ax.pcolormesh(df,cmap=cmap)\n",
    "    fig.colorbar(mappable=cmesh,ax=ax)    \n",
    "    ax.set_yticks(np.arange(0.5, len(df.index), 1))\n",
    "    ax.set_yticklabels(df.index)\n",
    "    ax.set_xticks(np.arange(0.5, len(df.columns), 1))\n",
    "    ax.set_xticklabels(df.columns)\n",
    "    ax.tick_params(direction='in', length=0)\n",
    "    for y in range(df.shape[0]):\n",
    "        for x in range(df.shape[1]):\n",
    "            if df.iloc[y,x] > 0:\n",
    "                ax.text(x+0.5,y+0.5,'{:.3f}'.format(df.iloc[y,x]),\n",
    "                         color=\"black\",fontsize=9,\n",
    "                         horizontalalignment='center',\n",
    "                         verticalalignment='center',                    \n",
    "                         bbox={'facecolor':'white','edgecolor':'none', 'alpha':0.3, 'pad':0})\n",
    "    ax.set_title(title,fontsize=18)"
   ]
  },
  {
   "cell_type": "code",
   "execution_count": 20,
   "metadata": {},
   "outputs": [
    {
     "name": "stderr",
     "output_type": "stream",
     "text": [
      "/usr/local/lib/python2.7/site-packages/matplotlib/figure.py:418: UserWarning: matplotlib is currently using a non-GUI backend, so cannot show the figure\n",
      "  \"matplotlib is currently using a non-GUI backend, \"\n"
     ]
    },
    {
     "data": {
      "image/png": "[encoded data removed]",
      "text/plain": [
       "<matplotlib.figure.Figure at 0x10ad3e290>"
      ]
     },
     "metadata": {},
     "output_type": "display_data"
    }
   ],
   "source": [
    "plt.rcParams['figure.figsize'] = 23,14\n",
    "fig, ax = plt.subplots(2,3,sharex=True,sharey=True)\n",
    "plotHeatMap(df_cider,ax[0,0],\"CIDEr\",\"YlGnBu_r\")\n",
    "plotHeatMap(df_rouge,ax[0,1],\"Rouge\",\"Reds_r\")\n",
    "plotHeatMap(df_bleu1,ax[0,2],\"Bleu1\")\n",
    "plotHeatMap(df_bleu2,ax[1,0],\"Bleu2\")\n",
    "plotHeatMap(df_bleu3,ax[1,1],\"Bleu3\")\n",
    "plotHeatMap(df_bleu4,ax[1,2],\"Bleu4\")\n",
    "fig.text(0.5, 0.08, 'Learning rate', ha='center',fontsize=14)\n",
    "fig.text(0.08, 0.5, 'Batch size', va='center', rotation='vertical',fontsize=14)\n",
    "fig.show()"
   ]
  },
  {
   "cell_type": "markdown",
   "metadata": {},
   "source": [
    "## Loss and time"
   ]
  },
  {
   "cell_type": "code",
   "execution_count": 22,
   "metadata": {},
   "outputs": [
    {
     "data": {
      "text/html": [
       "<div>\n",
       "<style scoped>\n",
       "    .dataframe tbody tr th:only-of-type {\n",
       "        vertical-align: middle;\n",
       "    }\n",
       "\n",
       "    .dataframe tbody tr th {\n",
       "        vertical-align: top;\n",
       "    }\n",
       "\n",
       "    .dataframe thead th {\n",
       "        text-align: right;\n",
       "    }\n",
       "</style>\n",
       "<table border=\"1\" class=\"dataframe\">\n",
       "  <thead>\n",
       "    <tr style=\"text-align: right;\">\n",
       "      <th></th>\n",
       "      <th></th>\n",
       "      <th></th>\n",
       "      <th>loss</th>\n",
       "      <th>epoch</th>\n",
       "      <th>time</th>\n",
       "    </tr>\n",
       "    <tr>\n",
       "      <th>batch</th>\n",
       "      <th>lr</th>\n",
       "      <th>run</th>\n",
       "      <th></th>\n",
       "      <th></th>\n",
       "      <th></th>\n",
       "    </tr>\n",
       "  </thead>\n",
       "  <tbody>\n",
       "    <tr>\n",
       "      <th rowspan=\"5\" valign=\"top\">4</th>\n",
       "      <th>0.00010</th>\n",
       "      <th>0</th>\n",
       "      <td>8.956786</td>\n",
       "      <td>104.0</td>\n",
       "      <td>1804.777806</td>\n",
       "    </tr>\n",
       "    <tr>\n",
       "      <th>0.00020</th>\n",
       "      <th>0</th>\n",
       "      <td>8.947234</td>\n",
       "      <td>101.0</td>\n",
       "      <td>1805.430745</td>\n",
       "    </tr>\n",
       "    <tr>\n",
       "      <th>0.00035</th>\n",
       "      <th>0</th>\n",
       "      <td>8.948168</td>\n",
       "      <td>101.0</td>\n",
       "      <td>1809.883254</td>\n",
       "    </tr>\n",
       "    <tr>\n",
       "      <th>0.00050</th>\n",
       "      <th>0</th>\n",
       "      <td>8.924124</td>\n",
       "      <td>103.0</td>\n",
       "      <td>1806.459138</td>\n",
       "    </tr>\n",
       "    <tr>\n",
       "      <th>0.00100</th>\n",
       "      <th>0</th>\n",
       "      <td>8.950125</td>\n",
       "      <td>102.0</td>\n",
       "      <td>1812.040321</td>\n",
       "    </tr>\n",
       "  </tbody>\n",
       "</table>\n",
       "</div>"
      ],
      "text/plain": [
       "                       loss  epoch         time\n",
       "batch lr      run                              \n",
       "4     0.00010 0    8.956786  104.0  1804.777806\n",
       "      0.00020 0    8.947234  101.0  1805.430745\n",
       "      0.00035 0    8.948168  101.0  1809.883254\n",
       "      0.00050 0    8.924124  103.0  1806.459138\n",
       "      0.00100 0    8.950125  102.0  1812.040321"
      ]
     },
     "execution_count": 22,
     "metadata": {},
     "output_type": "execute_result"
    }
   ],
   "source": [
    "# Loss is not always at minimum at last epoch,\n",
    "# so aggragation min(loss) doesn't show loss at last epoch\n",
    "# though this approach also may have sence\n",
    "df_maxepoch = df_epochtime.groupby([\"batch\",\"lr\",\"run\"]).agg({\"epoch\":\"max\",\"time\":\"max\",\"loss\":\"min\"})\n",
    "df_maxepoch.head()"
   ]
  },
  {
   "cell_type": "code",
   "execution_count": 23,
   "metadata": {},
   "outputs": [
    {
     "data": {
      "text/html": [
       "<div>\n",
       "<style scoped>\n",
       "    .dataframe tbody tr th:only-of-type {\n",
       "        vertical-align: middle;\n",
       "    }\n",
       "\n",
       "    .dataframe tbody tr th {\n",
       "        vertical-align: top;\n",
       "    }\n",
       "\n",
       "    .dataframe thead th {\n",
       "        text-align: right;\n",
       "    }\n",
       "</style>\n",
       "<table border=\"1\" class=\"dataframe\">\n",
       "  <thead>\n",
       "    <tr style=\"text-align: right;\">\n",
       "      <th></th>\n",
       "      <th>batch</th>\n",
       "      <th>lr</th>\n",
       "      <th>run</th>\n",
       "      <th>epoch</th>\n",
       "      <th>time</th>\n",
       "      <th>loss</th>\n",
       "      <th>max_epoch</th>\n",
       "    </tr>\n",
       "  </thead>\n",
       "  <tbody>\n",
       "    <tr>\n",
       "      <th>0</th>\n",
       "      <td>4</td>\n",
       "      <td>0.0001</td>\n",
       "      <td>0</td>\n",
       "      <td>1.0</td>\n",
       "      <td>17.824080</td>\n",
       "      <td>8.988388</td>\n",
       "      <td>104.0</td>\n",
       "    </tr>\n",
       "    <tr>\n",
       "      <th>1</th>\n",
       "      <td>4</td>\n",
       "      <td>0.0001</td>\n",
       "      <td>0</td>\n",
       "      <td>2.0</td>\n",
       "      <td>35.152405</td>\n",
       "      <td>8.963908</td>\n",
       "      <td>104.0</td>\n",
       "    </tr>\n",
       "    <tr>\n",
       "      <th>2</th>\n",
       "      <td>4</td>\n",
       "      <td>0.0001</td>\n",
       "      <td>0</td>\n",
       "      <td>3.0</td>\n",
       "      <td>52.679152</td>\n",
       "      <td>9.001289</td>\n",
       "      <td>104.0</td>\n",
       "    </tr>\n",
       "    <tr>\n",
       "      <th>3</th>\n",
       "      <td>4</td>\n",
       "      <td>0.0001</td>\n",
       "      <td>0</td>\n",
       "      <td>4.0</td>\n",
       "      <td>70.053836</td>\n",
       "      <td>9.022009</td>\n",
       "      <td>104.0</td>\n",
       "    </tr>\n",
       "    <tr>\n",
       "      <th>4</th>\n",
       "      <td>4</td>\n",
       "      <td>0.0001</td>\n",
       "      <td>0</td>\n",
       "      <td>5.0</td>\n",
       "      <td>87.355417</td>\n",
       "      <td>9.011086</td>\n",
       "      <td>104.0</td>\n",
       "    </tr>\n",
       "  </tbody>\n",
       "</table>\n",
       "</div>"
      ],
      "text/plain": [
       "   batch      lr  run  epoch       time      loss  max_epoch\n",
       "0      4  0.0001    0    1.0  17.824080  8.988388      104.0\n",
       "1      4  0.0001    0    2.0  35.152405  8.963908      104.0\n",
       "2      4  0.0001    0    3.0  52.679152  9.001289      104.0\n",
       "3      4  0.0001    0    4.0  70.053836  9.022009      104.0\n",
       "4      4  0.0001    0    5.0  87.355417  9.011086      104.0"
      ]
     },
     "execution_count": 23,
     "metadata": {},
     "output_type": "execute_result"
    }
   ],
   "source": [
    "# Make new column with max epoch for each (batch, lr, run) combination\n",
    "df_maxepoch = df_epochtime.copy()\n",
    "df_maxepoch[\"max_epoch\"] = df_epochtime.groupby([\"batch\",\"lr\",\"run\"])[\"epoch\"].transform(np.max)\n",
    "df_maxepoch = df_maxepoch.sort_values(by=[\"batch\",\"lr\",\"run\"],ascending=True)\n",
    "df_maxepoch.head()"
   ]
  },
  {
   "cell_type": "code",
   "execution_count": 24,
   "metadata": {},
   "outputs": [
    {
     "data": {
      "text/html": [
       "<div>\n",
       "<style scoped>\n",
       "    .dataframe tbody tr th:only-of-type {\n",
       "        vertical-align: middle;\n",
       "    }\n",
       "\n",
       "    .dataframe tbody tr th {\n",
       "        vertical-align: top;\n",
       "    }\n",
       "\n",
       "    .dataframe thead th {\n",
       "        text-align: right;\n",
       "    }\n",
       "</style>\n",
       "<table border=\"1\" class=\"dataframe\">\n",
       "  <thead>\n",
       "    <tr style=\"text-align: right;\">\n",
       "      <th></th>\n",
       "      <th>batch</th>\n",
       "      <th>lr</th>\n",
       "      <th>run</th>\n",
       "      <th>epoch</th>\n",
       "      <th>time</th>\n",
       "      <th>loss</th>\n",
       "      <th>max_epoch</th>\n",
       "    </tr>\n",
       "  </thead>\n",
       "  <tbody>\n",
       "    <tr>\n",
       "      <th>103</th>\n",
       "      <td>4</td>\n",
       "      <td>0.00010</td>\n",
       "      <td>0</td>\n",
       "      <td>104.0</td>\n",
       "      <td>1804.777806</td>\n",
       "      <td>9.023781</td>\n",
       "      <td>104.0</td>\n",
       "    </tr>\n",
       "    <tr>\n",
       "      <th>204</th>\n",
       "      <td>4</td>\n",
       "      <td>0.00020</td>\n",
       "      <td>0</td>\n",
       "      <td>101.0</td>\n",
       "      <td>1805.430745</td>\n",
       "      <td>9.004169</td>\n",
       "      <td>101.0</td>\n",
       "    </tr>\n",
       "    <tr>\n",
       "      <th>305</th>\n",
       "      <td>4</td>\n",
       "      <td>0.00035</td>\n",
       "      <td>0</td>\n",
       "      <td>101.0</td>\n",
       "      <td>1809.883254</td>\n",
       "      <td>8.948168</td>\n",
       "      <td>101.0</td>\n",
       "    </tr>\n",
       "    <tr>\n",
       "      <th>408</th>\n",
       "      <td>4</td>\n",
       "      <td>0.00050</td>\n",
       "      <td>0</td>\n",
       "      <td>103.0</td>\n",
       "      <td>1806.459138</td>\n",
       "      <td>8.984927</td>\n",
       "      <td>103.0</td>\n",
       "    </tr>\n",
       "    <tr>\n",
       "      <th>510</th>\n",
       "      <td>4</td>\n",
       "      <td>0.00100</td>\n",
       "      <td>0</td>\n",
       "      <td>102.0</td>\n",
       "      <td>1812.040321</td>\n",
       "      <td>8.985084</td>\n",
       "      <td>102.0</td>\n",
       "    </tr>\n",
       "  </tbody>\n",
       "</table>\n",
       "</div>"
      ],
      "text/plain": [
       "     batch       lr  run  epoch         time      loss  max_epoch\n",
       "103      4  0.00010    0  104.0  1804.777806  9.023781      104.0\n",
       "204      4  0.00020    0  101.0  1805.430745  9.004169      101.0\n",
       "305      4  0.00035    0  101.0  1809.883254  8.948168      101.0\n",
       "408      4  0.00050    0  103.0  1806.459138  8.984927      103.0\n",
       "510      4  0.00100    0  102.0  1812.040321  8.985084      102.0"
      ]
     },
     "execution_count": 24,
     "metadata": {},
     "output_type": "execute_result"
    }
   ],
   "source": [
    "df_maxepoch = df_maxepoch[df_maxepoch[\"max_epoch\"] == df_maxepoch[\"epoch\"]]\n",
    "df_maxepoch.head()"
   ]
  },
  {
   "cell_type": "code",
   "execution_count": 25,
   "metadata": {},
   "outputs": [
    {
     "data": {
      "text/html": [
       "<div>\n",
       "<style scoped>\n",
       "    .dataframe tbody tr th:only-of-type {\n",
       "        vertical-align: middle;\n",
       "    }\n",
       "\n",
       "    .dataframe tbody tr th {\n",
       "        vertical-align: top;\n",
       "    }\n",
       "\n",
       "    .dataframe thead th {\n",
       "        text-align: right;\n",
       "    }\n",
       "</style>\n",
       "<table border=\"1\" class=\"dataframe\">\n",
       "  <thead>\n",
       "    <tr style=\"text-align: right;\">\n",
       "      <th></th>\n",
       "      <th>batch</th>\n",
       "      <th>lr</th>\n",
       "      <th>run</th>\n",
       "      <th>epoch</th>\n",
       "      <th>time</th>\n",
       "      <th>loss</th>\n",
       "      <th>max_epoch</th>\n",
       "    </tr>\n",
       "  </thead>\n",
       "  <tbody>\n",
       "  </tbody>\n",
       "</table>\n",
       "</div>"
      ],
      "text/plain": [
       "Empty DataFrame\n",
       "Columns: [batch, lr, run, epoch, time, loss, max_epoch]\n",
       "Index: []"
      ]
     },
     "execution_count": 25,
     "metadata": {},
     "output_type": "execute_result"
    }
   ],
   "source": [
    "df_maxepoch[(df_maxepoch[\"batch\"]==28) & (df_maxepoch[\"lr\"] == 0.0025)]"
   ]
  },
  {
   "cell_type": "code",
   "execution_count": 27,
   "metadata": {},
   "outputs": [
    {
     "name": "stdout",
     "output_type": "stream",
     "text": [
      "(8, 7)\n",
      "(8, 7)\n"
     ]
    }
   ],
   "source": [
    "print df_maxepoch.shape\n",
    "print df_maxepoch.shape"
   ]
  },
  {
   "cell_type": "code",
   "execution_count": 28,
   "metadata": {},
   "outputs": [
    {
     "data": {
      "text/html": [
       "<div>\n",
       "<style scoped>\n",
       "    .dataframe tbody tr th:only-of-type {\n",
       "        vertical-align: middle;\n",
       "    }\n",
       "\n",
       "    .dataframe tbody tr th {\n",
       "        vertical-align: top;\n",
       "    }\n",
       "\n",
       "    .dataframe thead th {\n",
       "        text-align: right;\n",
       "    }\n",
       "</style>\n",
       "<table border=\"1\" class=\"dataframe\">\n",
       "  <thead>\n",
       "    <tr style=\"text-align: right;\">\n",
       "      <th></th>\n",
       "      <th>batch</th>\n",
       "      <th>lr</th>\n",
       "      <th>epoch</th>\n",
       "      <th>loss</th>\n",
       "    </tr>\n",
       "  </thead>\n",
       "  <tbody>\n",
       "    <tr>\n",
       "      <th>0</th>\n",
       "      <td>4</td>\n",
       "      <td>0.00010</td>\n",
       "      <td>104.0</td>\n",
       "      <td>9.023781</td>\n",
       "    </tr>\n",
       "    <tr>\n",
       "      <th>1</th>\n",
       "      <td>4</td>\n",
       "      <td>0.00020</td>\n",
       "      <td>101.0</td>\n",
       "      <td>9.004169</td>\n",
       "    </tr>\n",
       "    <tr>\n",
       "      <th>2</th>\n",
       "      <td>4</td>\n",
       "      <td>0.00035</td>\n",
       "      <td>101.0</td>\n",
       "      <td>8.948168</td>\n",
       "    </tr>\n",
       "    <tr>\n",
       "      <th>3</th>\n",
       "      <td>4</td>\n",
       "      <td>0.00050</td>\n",
       "      <td>103.0</td>\n",
       "      <td>8.984927</td>\n",
       "    </tr>\n",
       "    <tr>\n",
       "      <th>4</th>\n",
       "      <td>4</td>\n",
       "      <td>0.00100</td>\n",
       "      <td>102.0</td>\n",
       "      <td>8.985084</td>\n",
       "    </tr>\n",
       "  </tbody>\n",
       "</table>\n",
       "</div>"
      ],
      "text/plain": [
       "   batch       lr  epoch      loss\n",
       "0      4  0.00010  104.0  9.023781\n",
       "1      4  0.00020  101.0  9.004169\n",
       "2      4  0.00035  101.0  8.948168\n",
       "3      4  0.00050  103.0  8.984927\n",
       "4      4  0.00100  102.0  8.985084"
      ]
     },
     "execution_count": 28,
     "metadata": {},
     "output_type": "execute_result"
    }
   ],
   "source": [
    "# Take average between runs\n",
    "df_mean = df_maxepoch.groupby([\"batch\",\"lr\"]).mean().reset_index().drop([\"run\",\"max_epoch\",\"time\"],axis=1)\n",
    "df_mean.head()"
   ]
  },
  {
   "cell_type": "code",
   "execution_count": 29,
   "metadata": {},
   "outputs": [],
   "source": [
    "loss_df = df_mean[['batch','lr','loss']]\n",
    "epoch_df = df_mean[['batch','lr','epoch']]"
   ]
  },
  {
   "cell_type": "code",
   "execution_count": 30,
   "metadata": {},
   "outputs": [],
   "source": [
    "def getColorList(cmap,n):\n",
    "    cmap = cm.get_cmap(cmap, n)\n",
    "    colors = []\n",
    "    for i in range(cmap.N):\n",
    "        c = matplotlib.colors.to_hex(cmap(i),keep_alpha=True)\n",
    "        colors.append(c)\n",
    "    return colors"
   ]
  },
  {
   "cell_type": "code",
   "execution_count": 31,
   "metadata": {},
   "outputs": [],
   "source": [
    "def plotHeatMap(df,title=None,cmap=None):\n",
    "    plt.rcParams['figure.figsize'] = 10,8\n",
    "    \n",
    "    if isinstance(cmap,list):\n",
    "        colors_num = np.ceil(256/len(cmap))\n",
    "        for org_cmap in cmap:\n",
    "            colors = cm.get_cmap(org_cmap,colors_num)\n",
    "            \n",
    "    plt.pcolormesh(df,cmap=cmap)\n",
    "    plt.yticks(np.arange(0.5, len(df.index), 1), df.index)\n",
    "    plt.xticks(np.arange(0.5, len(df.columns), 1), df.columns)\n",
    "    ax = plt.gca()\n",
    "    ax.tick_params(direction='in', length=0)\n",
    "    for y in range(df.shape[0]):\n",
    "        for x in range(df.shape[1]):\n",
    "            if df.iloc[y,x] > 0:\n",
    "                plt.text(x+0.5,y+0.5,'{:.3f}'.format(df.iloc[y,x]),\n",
    "                         color=\"black\",fontsize=9,\n",
    "                         horizontalalignment='center',\n",
    "                         verticalalignment='center',                    \n",
    "                         bbox={'facecolor':'white','edgecolor':'none', 'alpha':0.2, 'pad':0})\n",
    "    plt.title(title,fontsize=18)\n",
    "    plt.xlabel(\"learning rate\",fontsize=12)\n",
    "    plt.ylabel(\"minibatch size\",fontsize=12)\n",
    "    plt.colorbar()\n",
    "    plt.show()"
   ]
  },
  {
   "cell_type": "code",
   "execution_count": 32,
   "metadata": {},
   "outputs": [],
   "source": [
    "loss_T = loss_df.pivot_table(index=\"batch\",columns=\"lr\",values=\"loss\")\n",
    "epoch_T = epoch_df.pivot_table(index=\"batch\",columns=\"lr\",values=\"epoch\")"
   ]
  },
  {
   "cell_type": "code",
   "execution_count": 35,
   "metadata": {},
   "outputs": [],
   "source": [
    "# Create custom colormap\n",
    "colors= [u'#24368Eff',\n",
    "         u'#5BBEC0ff',\n",
    "         u'#F4FAC4ff']\n",
    "plt.rcParams['figure.figsize'] = 5,2\n",
    "cmap = matplotlib.colors.LinearSegmentedColormap.from_list(\"combined\", colors, N=256)"
   ]
  },
  {
   "cell_type": "code",
   "execution_count": 36,
   "metadata": {},
   "outputs": [
    {
     "data": {
      "image/png": "[encoded data removed]",
      "text/plain": [
       "<matplotlib.figure.Figure at 0x10f3639d0>"
      ]
     },
     "metadata": {},
     "output_type": "display_data"
    }
   ],
   "source": [
    "plotHeatMap(epoch_T,\"Epochs\",cmap)"
   ]
  },
  {
   "cell_type": "code",
   "execution_count": 37,
   "metadata": {},
   "outputs": [
    {
     "data": {
      "image/png": "[encoded data removed]",
      "text/plain": [
       "<matplotlib.figure.Figure at 0x10f4315d0>"
      ]
     },
     "metadata": {},
     "output_type": "display_data"
    }
   ],
   "source": [
    "plotHeatMap(loss_T,\"Loss\",\"jet\")"
   ]
  },
  {
   "cell_type": "markdown",
   "metadata": {},
   "source": [
    "## Plot Loss graphs for each BS x LR combinations"
   ]
  },
  {
   "cell_type": "code",
   "execution_count": 42,
   "metadata": {},
   "outputs": [
    {
     "data": {
      "text/html": [
       "<div>\n",
       "<style scoped>\n",
       "    .dataframe tbody tr th:only-of-type {\n",
       "        vertical-align: middle;\n",
       "    }\n",
       "\n",
       "    .dataframe tbody tr th {\n",
       "        vertical-align: top;\n",
       "    }\n",
       "\n",
       "    .dataframe thead th {\n",
       "        text-align: right;\n",
       "    }\n",
       "</style>\n",
       "<table border=\"1\" class=\"dataframe\">\n",
       "  <thead>\n",
       "    <tr style=\"text-align: right;\">\n",
       "      <th></th>\n",
       "      <th>batch</th>\n",
       "      <th>lr</th>\n",
       "      <th>epoch</th>\n",
       "      <th>time</th>\n",
       "      <th>loss</th>\n",
       "    </tr>\n",
       "  </thead>\n",
       "  <tbody>\n",
       "    <tr>\n",
       "      <th>506</th>\n",
       "      <td>4</td>\n",
       "      <td>0.001</td>\n",
       "      <td>98</td>\n",
       "      <td>1739.491277</td>\n",
       "      <td>9.015155</td>\n",
       "    </tr>\n",
       "    <tr>\n",
       "      <th>507</th>\n",
       "      <td>4</td>\n",
       "      <td>0.001</td>\n",
       "      <td>99</td>\n",
       "      <td>1757.259363</td>\n",
       "      <td>8.966362</td>\n",
       "    </tr>\n",
       "    <tr>\n",
       "      <th>508</th>\n",
       "      <td>4</td>\n",
       "      <td>0.001</td>\n",
       "      <td>100</td>\n",
       "      <td>1775.216732</td>\n",
       "      <td>8.987264</td>\n",
       "    </tr>\n",
       "    <tr>\n",
       "      <th>509</th>\n",
       "      <td>4</td>\n",
       "      <td>0.001</td>\n",
       "      <td>101</td>\n",
       "      <td>1793.272488</td>\n",
       "      <td>8.984431</td>\n",
       "    </tr>\n",
       "    <tr>\n",
       "      <th>510</th>\n",
       "      <td>4</td>\n",
       "      <td>0.001</td>\n",
       "      <td>102</td>\n",
       "      <td>1812.040321</td>\n",
       "      <td>8.985084</td>\n",
       "    </tr>\n",
       "  </tbody>\n",
       "</table>\n",
       "</div>"
      ],
      "text/plain": [
       "     batch     lr  epoch         time      loss\n",
       "506      4  0.001     98  1739.491277  9.015155\n",
       "507      4  0.001     99  1757.259363  8.966362\n",
       "508      4  0.001    100  1775.216732  8.987264\n",
       "509      4  0.001    101  1793.272488  8.984431\n",
       "510      4  0.001    102  1812.040321  8.985084"
      ]
     },
     "execution_count": 42,
     "metadata": {},
     "output_type": "execute_result"
    }
   ],
   "source": [
    "# Take average between runs\n",
    "df_mean_epo = df_epochtime.groupby([\"batch\",\"lr\",\"epoch\"]).mean().reset_index().drop([\"run\"],axis=1)\n",
    "df_mean_epo[[\"epoch\"]] = df_mean_epo[[\"epoch\"]].astype(int)\n",
    "df_mean_epo[(df_mean_epo[\"batch\"] == 4.) & (df_mean_epo[\"lr\"] == 0.001)].tail()"
   ]
  },
  {
   "cell_type": "code",
   "execution_count": 43,
   "metadata": {},
   "outputs": [
    {
     "name": "stdout",
     "output_type": "stream",
     "text": [
      "[4]\n"
     ]
    },
    {
     "data": {
      "text/html": [
       "<div>\n",
       "<style scoped>\n",
       "    .dataframe tbody tr th:only-of-type {\n",
       "        vertical-align: middle;\n",
       "    }\n",
       "\n",
       "    .dataframe tbody tr th {\n",
       "        vertical-align: top;\n",
       "    }\n",
       "\n",
       "    .dataframe thead th {\n",
       "        text-align: right;\n",
       "    }\n",
       "</style>\n",
       "<table border=\"1\" class=\"dataframe\">\n",
       "  <thead>\n",
       "    <tr style=\"text-align: right;\">\n",
       "      <th></th>\n",
       "      <th>batch</th>\n",
       "      <th>lr</th>\n",
       "      <th>epoch</th>\n",
       "      <th>time</th>\n",
       "      <th>loss</th>\n",
       "    </tr>\n",
       "  </thead>\n",
       "  <tbody>\n",
       "    <tr>\n",
       "      <th>0</th>\n",
       "      <td>4</td>\n",
       "      <td>0.0001</td>\n",
       "      <td>1</td>\n",
       "      <td>17.824080</td>\n",
       "      <td>8.988388</td>\n",
       "    </tr>\n",
       "    <tr>\n",
       "      <th>1</th>\n",
       "      <td>4</td>\n",
       "      <td>0.0001</td>\n",
       "      <td>2</td>\n",
       "      <td>35.152405</td>\n",
       "      <td>8.963908</td>\n",
       "    </tr>\n",
       "    <tr>\n",
       "      <th>2</th>\n",
       "      <td>4</td>\n",
       "      <td>0.0001</td>\n",
       "      <td>3</td>\n",
       "      <td>52.679152</td>\n",
       "      <td>9.001289</td>\n",
       "    </tr>\n",
       "    <tr>\n",
       "      <th>3</th>\n",
       "      <td>4</td>\n",
       "      <td>0.0001</td>\n",
       "      <td>4</td>\n",
       "      <td>70.053836</td>\n",
       "      <td>9.022009</td>\n",
       "    </tr>\n",
       "    <tr>\n",
       "      <th>4</th>\n",
       "      <td>4</td>\n",
       "      <td>0.0001</td>\n",
       "      <td>5</td>\n",
       "      <td>87.355417</td>\n",
       "      <td>9.011086</td>\n",
       "    </tr>\n",
       "  </tbody>\n",
       "</table>\n",
       "</div>"
      ],
      "text/plain": [
       "   batch      lr  epoch       time      loss\n",
       "0      4  0.0001      1  17.824080  8.988388\n",
       "1      4  0.0001      2  35.152405  8.963908\n",
       "2      4  0.0001      3  52.679152  9.001289\n",
       "3      4  0.0001      4  70.053836  9.022009\n",
       "4      4  0.0001      5  87.355417  9.011086"
      ]
     },
     "execution_count": 43,
     "metadata": {},
     "output_type": "execute_result"
    }
   ],
   "source": [
    "df_mean_epo = df_mean_epo.sort_values(by=[\"batch\"],ascending=False)\n",
    "df_mean_epo = df_mean_epo.sort_values(by=[\"lr\",\"epoch\"],ascending=True)\n",
    "print df_mean_epo[\"batch\"].unique()\n",
    "df_mean_epo.head(5)"
   ]
  },
  {
   "cell_type": "code",
   "execution_count": 45,
   "metadata": {
    "scrolled": false
   },
   "outputs": [
    {
     "data": {
      "image/png": "[encoded data removed]",
      "text/plain": [
       "<matplotlib.figure.Figure at 0x10fb1d250>"
      ]
     },
     "metadata": {},
     "output_type": "display_data"
    }
   ],
   "source": [
    "# Plot using Seaborn FacetGrid\n",
    "# Set Seaborn global parameters\n",
    "sns.set(font_scale=1)\n",
    "#sns.set_style(\"white\",{'axes.grid': True, 'grid.color': (0,0,0),'grid.linestyle':u':'})\n",
    "sns.set_style(\"white\")\n",
    "#print sns.axes_style()\n",
    "\n",
    "# Plot using \"tab10\" matplotlib colormap\n",
    "\n",
    "# major_xticks = np.arange(0,176,50)\n",
    "# minor_xticks = np.arange(0,176,25)\n",
    "# major_yticks = np.arange(5,8.1,1)\n",
    "# minor_yticks = np.arange(5,8.1,0.5)\n",
    "with sns.color_palette(\"tab10\"):\n",
    "    fg = sns.FacetGrid(df_mean_epo,row=\"batch\",col=\"lr\",\n",
    "                         row_order=df_mean_epo[\"batch\"].unique(),\n",
    "                         size=2.1,aspect=1.2,\n",
    "                         #row_order=df_mean_epo.batch.unique(),\n",
    "                         #xlim=(0,176),\n",
    "                         #ylim=(5,8),\n",
    "                         margin_titles=True,\n",
    "                         subplot_kws={\"facecolor\":\"#FFFEEB\"})\n",
    "    \n",
    "    fg.map(plt.plot,\"epoch\",\"loss\",ls=\"-\",linewidth=.8)\n",
    "    \n",
    "    #print \"FacetGrid:\",fg.__dict__.keys()\n",
    "    #print fg.axes.shape, fg.axes.size\n",
    "    #axes = fg.axes.reshape(fg.axes.size)    \n",
    "    for ax_arr in np.nditer(fg.axes,flags=[\"refs_ok\"]):\n",
    "        ax = ax_arr.item()\n",
    "#         ax.set_xticks(major_xticks)\n",
    "#         ax.set_yticks(major_yticks)\n",
    "#         ax.set_xticks(minor_xticks, minor=True)        \n",
    "#         ax.set_yticks(minor_yticks, minor=True)\n",
    "        ax.grid(which=\"major\",ls=\":\",alpha=0.25, color=\"black\")\n",
    "        ax.grid(which=\"minor\",ls=\":\",alpha=0.15, color=\"black\")\n",
    "\n",
    "plt.show()"
   ]
  },
  {
   "cell_type": "code",
   "execution_count": null,
   "metadata": {},
   "outputs": [],
   "source": []
  },
  {
   "cell_type": "code",
   "execution_count": null,
   "metadata": {},
   "outputs": [],
   "source": []
  }
 ],
 "metadata": {
  "kernelspec": {
   "display_name": "Python 2",
   "language": "python",
   "name": "python2"
  },
  "language_info": {
   "codemirror_mode": {
    "name": "ipython",
    "version": 2
   },
   "file_extension": ".py",
   "mimetype": "text/x-python",
   "name": "python",
   "nbconvert_exporter": "python",
   "pygments_lexer": "ipython2",
   "version": "2.7.12"
  }
 },
 "nbformat": 4,
 "nbformat_minor": 2
}

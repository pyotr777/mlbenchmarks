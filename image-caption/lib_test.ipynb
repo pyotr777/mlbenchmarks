{
 "cells": [
  {
   "cell_type": "markdown",
   "metadata": {},
   "source": [
    "# Test using /lib package"
   ]
  },
  {
   "cell_type": "code",
   "execution_count": 1,
   "metadata": {},
   "outputs": [],
   "source": [
    "%matplotlib inline\n",
    "import re\n",
    "import numpy as np\n",
    "import matplotlib\n",
    "import matplotlib.pyplot as plt\n",
    "from matplotlib import cm\n",
    "import pandas as pd\n",
    "import subprocess\n",
    "import os\n",
    "import lib"
   ]
  },
  {
   "cell_type": "code",
   "execution_count": 2,
   "metadata": {},
   "outputs": [
    {
     "name": "stdout",
     "output_type": "stream",
     "text": [
      "\u001b[1m\u001b[36mSGD\u001b[m\u001b[m             \u001b[1m\u001b[36mtime_limit1800s\u001b[m\u001b[m\r\n"
     ]
    }
   ],
   "source": [
    "!ls logs/fixtime/"
   ]
  },
  {
   "cell_type": "code",
   "execution_count": 3,
   "metadata": {},
   "outputs": [
    {
     "data": {
      "text/plain": [
       "182"
      ]
     },
     "execution_count": 3,
     "metadata": {},
     "output_type": "execute_result"
    }
   ],
   "source": [
    "logdir = \"logs/fixtime/time_limit1800s\"\n",
    "filename_pattern=re.compile(r\"imagecaption_.*\\.log\")\n",
    "files=[]\n",
    "comm = \"ls -1 \"+logdir\n",
    "proc = subprocess.Popen(comm.split(\" \"),\n",
    "                     stdout=subprocess.PIPE,stderr=subprocess.STDOUT)\n",
    "for line in iter(proc.stdout.readline,b''):\n",
    "    m = filename_pattern.match(line)\n",
    "    if m:\n",
    "        files.append(os.path.abspath(os.path.join(logdir,line)))\n",
    "len(files)"
   ]
  },
  {
   "cell_type": "code",
   "execution_count": 4,
   "metadata": {},
   "outputs": [],
   "source": [
    "batch_learn_pattern = re.compile(r\"_b(\\d+)_l([0-9\\.]+)_smp\\d+_(\\d+)\") # Match against file name\n",
    "output_pattern = re.compile(r\"^(\\d+),\\s*([0-9\\.]+),\\s*([0-9\\.]+)\")\n",
    "validation_pattern = re.compile(r\"^{'Bleu_1':\\s*([0-9e\\-\\.]+),\\s*'Bleu_2':\\s*([0-9e\\-\\.]+),\\s*'Bleu_3':\\s*([0-9e\\-\\.]+),\\s*'Bleu_4':\\s*([0-9e\\-\\.]+),\\s*'ROUGE_L':\\s*([0-9e\\-\\.]+),\\s*'CIDEr':\\s*([0-9e\\-\\.]+)}\")\n",
    "\n",
    "# Read minibatch size and 1st epoch time from files.\n",
    "# Store in a DataFrame.\n",
    "def fileToDF(logfile, debug=False):\n",
    "    global output_pattern, batch_learn_pattern, validation_pattern\n",
    "    \n",
    "    logfile = logfile.strip(\" \\n\")\n",
    "    filename = os.path.basename(logfile)\n",
    "    if debug: print \"FILE\",filename\n",
    "    batch = 0\n",
    "    learn = 0\n",
    "    run = 0\n",
    "    m = batch_learn_pattern.search(filename)\n",
    "    if m:\n",
    "        batch = int(m.group(1))\n",
    "        learn = float(m.group(2))\n",
    "        run = int(m.group(3))\n",
    "        if debug: print \"BS,LR,run:\",batch,learn,run\n",
    "    \n",
    "    with open(logfile,\"r\") as f:\n",
    "        lines = f.readlines()\n",
    "        time = 0\n",
    "        epoch = 0\n",
    "        ind = 0\n",
    "        ind_v = 0 # DataFrame row number (index) for df_validation\n",
    "        df_epochtime = pd.DataFrame(data=None,columns=[\"batch\",\"lr\",\"run\",\n",
    "                                                       \"epoch\",\"time\",\"loss\"])\n",
    "        df_validation = pd.DataFrame(data=None,columns=[\"batch\",\"lr\",\"run\",\n",
    "                                                        \"bleu1\",\"bleu2\",\"bleu3\",\"bleu4\",\n",
    "                                                        \"rouge\",\"cider\"])\n",
    "        for line in lines:\n",
    "            s = line.strip(' \\n')            \n",
    "            m2 = output_pattern.match(s)\n",
    "            if m2:\n",
    "                # Use only last line from file (with max epoch counter)\n",
    "                if debug: print line,                    \n",
    "                epoch = int(m2.group(1))\n",
    "                time += float(m2.group(2))  # Time per epoch must be summed\n",
    "                loss = float(m2.group(3))\n",
    "                if debug: print \"BS,LR,run,epoch,time,loss:\",batch,learn,run,epoch,time,loss\n",
    "                df_epochtime.loc[ind] = [batch,learn,run,epoch,time,loss]\n",
    "                ind += 1\n",
    "            else:\n",
    "                m3 = validation_pattern.match(s)\n",
    "                if m3:\n",
    "                    if debug: print line,\n",
    "                    bl1 = float(m3.group(1))\n",
    "                    bl2 = float(m3.group(2))\n",
    "                    bl3 = float(m3.group(3))\n",
    "                    bl4 = float(m3.group(4))\n",
    "                    rouge = float(m3.group(5))\n",
    "                    cider = float(m3.group(6))\n",
    "                    if debug: print \"Bleu, Rouge, CIDEr:\",bl1,bl2,bl3,bl4,rouge,cider\n",
    "                    df_validation.loc[ind_v] = [batch,learn,run,\n",
    "                                                bl1,bl2,bl3,bl4,\n",
    "                                                rouge, cider]\n",
    "                    ind_v += 1\n",
    "\n",
    "    return (df_epochtime, df_validation)"
   ]
  },
  {
   "cell_type": "code",
   "execution_count": 5,
   "metadata": {},
   "outputs": [],
   "source": [
    "def readLogs(logdir, debug=False, maxfiles=10000000):\n",
    "    global filename_pattern\n",
    "    files=[]\n",
    "    comm = \"ls -1 \"+logdir\n",
    "    proc = subprocess.Popen(comm.split(\" \"),\n",
    "                         stdout=subprocess.PIPE,stderr=subprocess.STDOUT)\n",
    "    for line in iter(proc.stdout.readline,b''):\n",
    "        m = filename_pattern.match(line)\n",
    "        if m:\n",
    "            files.append(os.path.abspath(os.path.join(logdir,line)))\n",
    "            \n",
    "    #if debug: print \"files:\",files\n",
    "    df_epochtime = pd.DataFrame(data=None,columns=[\"batch\",\"lr\",\"run\",\"epoch\",\"time\",\"loss\"])\n",
    "    df_validation = pd.DataFrame(data=None,columns=[\"batch\",\"lr\",\"run\",\n",
    "                                                        \"bleu1\",\"bleu2\",\"bleu3\",\"bleu4\",\n",
    "                                                        \"rouge\",\"cider\"])\n",
    "    filecounter=0\n",
    "    for file in files:\n",
    "        if debug: print file\n",
    "        df_e1,df_v1 = fileToDF(file,debug)\n",
    "        if len(df_e1) > 0:\n",
    "            df_epochtime = pd.concat([df_epochtime,df_e1],ignore_index=True)\n",
    "        if len(df_v1) > 0:\n",
    "            df_validation = pd.concat([df_validation,df_v1],ignore_index=True)\n",
    "        filecounter +=1\n",
    "        if filecounter>=maxfiles:\n",
    "            return (df_epochtime, df_validation)\n",
    "    return (df_epochtime, df_validation)"
   ]
  },
  {
   "cell_type": "code",
   "execution_count": 6,
   "metadata": {},
   "outputs": [
    {
     "name": "stdout",
     "output_type": "stream",
     "text": [
      "logs/fixtime/time_limit1800s\n",
      "(4, 9) (587, 6)\n"
     ]
    }
   ],
   "source": [
    "print logdir\n",
    "df_epochtime,df_validation = readLogs(logdir,maxfiles=4)\n",
    "print df_validation.shape, df_epochtime.shape"
   ]
  },
  {
   "cell_type": "code",
   "execution_count": 7,
   "metadata": {},
   "outputs": [
    {
     "data": {
      "text/html": [
       "<div>\n",
       "<style scoped>\n",
       "    .dataframe tbody tr th:only-of-type {\n",
       "        vertical-align: middle;\n",
       "    }\n",
       "\n",
       "    .dataframe tbody tr th {\n",
       "        vertical-align: top;\n",
       "    }\n",
       "\n",
       "    .dataframe thead th {\n",
       "        text-align: right;\n",
       "    }\n",
       "</style>\n",
       "<table border=\"1\" class=\"dataframe\">\n",
       "  <thead>\n",
       "    <tr style=\"text-align: right;\">\n",
       "      <th></th>\n",
       "      <th>batch</th>\n",
       "      <th>lr</th>\n",
       "      <th>run</th>\n",
       "      <th>bleu1</th>\n",
       "      <th>bleu2</th>\n",
       "      <th>bleu3</th>\n",
       "      <th>bleu4</th>\n",
       "      <th>rouge</th>\n",
       "      <th>cider</th>\n",
       "    </tr>\n",
       "  </thead>\n",
       "  <tbody>\n",
       "    <tr>\n",
       "      <th>0</th>\n",
       "      <td>12.0</td>\n",
       "      <td>0.0001</td>\n",
       "      <td>0.0</td>\n",
       "      <td>0.212399</td>\n",
       "      <td>0.122199</td>\n",
       "      <td>0.079269</td>\n",
       "      <td>0.053763</td>\n",
       "      <td>0.239460</td>\n",
       "      <td>0.141409</td>\n",
       "    </tr>\n",
       "    <tr>\n",
       "      <th>1</th>\n",
       "      <td>12.0</td>\n",
       "      <td>0.0001</td>\n",
       "      <td>1.0</td>\n",
       "      <td>0.187402</td>\n",
       "      <td>0.112553</td>\n",
       "      <td>0.073595</td>\n",
       "      <td>0.050095</td>\n",
       "      <td>0.228863</td>\n",
       "      <td>0.122010</td>\n",
       "    </tr>\n",
       "    <tr>\n",
       "      <th>2</th>\n",
       "      <td>12.0</td>\n",
       "      <td>0.0005</td>\n",
       "      <td>0.0</td>\n",
       "      <td>0.509377</td>\n",
       "      <td>0.362138</td>\n",
       "      <td>0.265413</td>\n",
       "      <td>0.191779</td>\n",
       "      <td>0.406360</td>\n",
       "      <td>0.240103</td>\n",
       "    </tr>\n",
       "    <tr>\n",
       "      <th>3</th>\n",
       "      <td>12.0</td>\n",
       "      <td>0.0005</td>\n",
       "      <td>1.0</td>\n",
       "      <td>0.539671</td>\n",
       "      <td>0.395964</td>\n",
       "      <td>0.296946</td>\n",
       "      <td>0.223133</td>\n",
       "      <td>0.438080</td>\n",
       "      <td>0.282516</td>\n",
       "    </tr>\n",
       "  </tbody>\n",
       "</table>\n",
       "</div>"
      ],
      "text/plain": [
       "   batch      lr  run     bleu1     bleu2     bleu3     bleu4     rouge  \\\n",
       "0   12.0  0.0001  0.0  0.212399  0.122199  0.079269  0.053763  0.239460   \n",
       "1   12.0  0.0001  1.0  0.187402  0.112553  0.073595  0.050095  0.228863   \n",
       "2   12.0  0.0005  0.0  0.509377  0.362138  0.265413  0.191779  0.406360   \n",
       "3   12.0  0.0005  1.0  0.539671  0.395964  0.296946  0.223133  0.438080   \n",
       "\n",
       "      cider  \n",
       "0  0.141409  \n",
       "1  0.122010  \n",
       "2  0.240103  \n",
       "3  0.282516  "
      ]
     },
     "execution_count": 7,
     "metadata": {},
     "output_type": "execute_result"
    }
   ],
   "source": [
    "df_validation"
   ]
  },
  {
   "cell_type": "code",
   "execution_count": 8,
   "metadata": {},
   "outputs": [
    {
     "data": {
      "text/html": [
       "<div>\n",
       "<style scoped>\n",
       "    .dataframe tbody tr th:only-of-type {\n",
       "        vertical-align: middle;\n",
       "    }\n",
       "\n",
       "    .dataframe tbody tr th {\n",
       "        vertical-align: top;\n",
       "    }\n",
       "\n",
       "    .dataframe thead th {\n",
       "        text-align: right;\n",
       "    }\n",
       "</style>\n",
       "<table border=\"1\" class=\"dataframe\">\n",
       "  <thead>\n",
       "    <tr style=\"text-align: right;\">\n",
       "      <th></th>\n",
       "      <th>bleu1</th>\n",
       "      <th>bleu2</th>\n",
       "      <th>bleu3</th>\n",
       "      <th>bleu4</th>\n",
       "      <th>rouge</th>\n",
       "      <th>cider</th>\n",
       "    </tr>\n",
       "    <tr>\n",
       "      <th>ind</th>\n",
       "      <th></th>\n",
       "      <th></th>\n",
       "      <th></th>\n",
       "      <th></th>\n",
       "      <th></th>\n",
       "      <th></th>\n",
       "    </tr>\n",
       "  </thead>\n",
       "  <tbody>\n",
       "    <tr>\n",
       "      <th>0.0001</th>\n",
       "      <td>0.212399</td>\n",
       "      <td>0.122199</td>\n",
       "      <td>0.079269</td>\n",
       "      <td>0.053763</td>\n",
       "      <td>0.239460</td>\n",
       "      <td>0.141409</td>\n",
       "    </tr>\n",
       "    <tr>\n",
       "      <th>1.0001</th>\n",
       "      <td>0.187402</td>\n",
       "      <td>0.112553</td>\n",
       "      <td>0.073595</td>\n",
       "      <td>0.050095</td>\n",
       "      <td>0.228863</td>\n",
       "      <td>0.122010</td>\n",
       "    </tr>\n",
       "    <tr>\n",
       "      <th>0.0005</th>\n",
       "      <td>0.509377</td>\n",
       "      <td>0.362138</td>\n",
       "      <td>0.265413</td>\n",
       "      <td>0.191779</td>\n",
       "      <td>0.406360</td>\n",
       "      <td>0.240103</td>\n",
       "    </tr>\n",
       "    <tr>\n",
       "      <th>1.0005</th>\n",
       "      <td>0.539671</td>\n",
       "      <td>0.395964</td>\n",
       "      <td>0.296946</td>\n",
       "      <td>0.223133</td>\n",
       "      <td>0.438080</td>\n",
       "      <td>0.282516</td>\n",
       "    </tr>\n",
       "  </tbody>\n",
       "</table>\n",
       "</div>"
      ],
      "text/plain": [
       "           bleu1     bleu2     bleu3     bleu4     rouge     cider\n",
       "ind                                                               \n",
       "0.0001  0.212399  0.122199  0.079269  0.053763  0.239460  0.141409\n",
       "1.0001  0.187402  0.112553  0.073595  0.050095  0.228863  0.122010\n",
       "0.0005  0.509377  0.362138  0.265413  0.191779  0.406360  0.240103\n",
       "1.0005  0.539671  0.395964  0.296946  0.223133  0.438080  0.282516"
      ]
     },
     "execution_count": 8,
     "metadata": {},
     "output_type": "execute_result"
    }
   ],
   "source": [
    "df_test = df_validation.copy()\n",
    "df_test[\"ind\"] = df_test[\"lr\"]+df_test[\"run\"]\n",
    "df_test.drop([\"batch\",\"lr\",\"run\"],axis=1,inplace=True)\n",
    "df_test.set_index([\"ind\"],inplace=True)\n",
    "df_test"
   ]
  },
  {
   "cell_type": "code",
   "execution_count": 9,
   "metadata": {},
   "outputs": [
    {
     "data": {
      "image/png": "[encoded data removed]",
      "text/plain": [
       "<matplotlib.figure.Figure at 0x11426f610>"
      ]
     },
     "metadata": {},
     "output_type": "display_data"
    }
   ],
   "source": [
    "col1 = lib.getColorList(\"Blues\",7)\n",
    "col2 = lib.getColorList(\"YlOrBr_r\",10)\n",
    "colors =  col2[:] + col1[:]\n",
    "cmap = matplotlib.colors.LinearSegmentedColormap.from_list(\"combined\", colors, N=256)\n",
    "\n",
    "lib.testColorMap(cmap)"
   ]
  },
  {
   "cell_type": "code",
   "execution_count": 11,
   "metadata": {},
   "outputs": [
    {
     "data": {
      "text/plain": [
       "Text(0,0.5,u'Run x Learning Rate')"
      ]
     },
     "execution_count": 11,
     "metadata": {},
     "output_type": "execute_result"
    },
    {
     "data": {
      "image/png": "[encoded data removed]",
      "text/plain": [
       "<matplotlib.figure.Figure at 0x114403450>"
      ]
     },
     "metadata": {},
     "output_type": "display_data"
    }
   ],
   "source": [
    "fig, ax = plt.subplots(2,2,sharex=True, sharey=True, figsize=(15,5))\n",
    "#plt.subplots_adjust(hspace=0.5)\n",
    "lib.plotHeatMap(df_test,\"Title1\",cmap,ax=ax[0,0],zrange=(0,.5))\n",
    "lib.plotHeatMap(df_test,\"Title2\",ax=ax[0,1])\n",
    "# Create custom colormap\n",
    "colors= [u'#24368Eff',\n",
    "         u'#5BBEC0ff',\n",
    "         u'#F4FAC4ff']\n",
    "plt.rcParams['figure.figsize'] = 5,2\n",
    "ccmap = matplotlib.colors.LinearSegmentedColormap.from_list(\"combined\", colors, N=256)\n",
    "lib.plotHeatMap(df_test,\"Title3\",ccmap,ax=ax[1,0],format=\".2f\")\n",
    "ax[1,0].set_xlabel('Validation Metrics',size=13)\n",
    "ax[0,0].set_ylabel('Run x Learning Rate')"
   ]
  },
  {
   "cell_type": "code",
   "execution_count": null,
   "metadata": {},
   "outputs": [],
   "source": []
  }
 ],
 "metadata": {
  "kernelspec": {
   "display_name": "Python 2",
   "language": "python",
   "name": "python2"
  },
  "language_info": {
   "codemirror_mode": {
    "name": "ipython",
    "version": 2
   },
   "file_extension": ".py",
   "mimetype": "text/x-python",
   "name": "python",
   "nbconvert_exporter": "python",
   "pygments_lexer": "ipython2",
   "version": "2.7.11"
  },
  "toc": {
   "base_numbering": 1,
   "nav_menu": {},
   "number_sections": true,
   "sideBar": true,
   "skip_h1_title": true,
   "title_cell": "Table of Contents",
   "title_sidebar": "Contents",
   "toc_cell": false,
   "toc_position": {},
   "toc_section_display": true,
   "toc_window_display": false
  }
 },
 "nbformat": 4,
 "nbformat_minor": 2
}

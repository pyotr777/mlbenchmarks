{
 "cells": [
  {
   "cell_type": "markdown",
   "metadata": {},
   "source": [
    "# Loss and time for batch/learning rate combinations"
   ]
  },
  {
   "cell_type": "code",
   "execution_count": 1,
   "metadata": {},
   "outputs": [],
   "source": [
    "%matplotlib inline\n",
    "import re\n",
    "import numpy as np\n",
    "import matplotlib\n",
    "import matplotlib.pyplot as plt\n",
    "from matplotlib import cm\n",
    "import pandas as pd\n",
    "import subprocess\n",
    "import os\n",
    "import seaborn as sns"
   ]
  },
  {
   "cell_type": "code",
   "execution_count": 4,
   "metadata": {},
   "outputs": [
    {
     "name": "stdout",
     "output_type": "stream",
     "text": [
      "total 0\r\n",
      "drwxr-xr-x  42 peterbryzgalov  staff  1428 Apr  3 16:47 \u001b[1m\u001b[36mGTX_TITAN_X\u001b[m\u001b[m\r\n"
     ]
    }
   ],
   "source": [
    "!ls -l logs/microseries/"
   ]
  },
  {
   "cell_type": "code",
   "execution_count": 62,
   "metadata": {},
   "outputs": [],
   "source": [
    "logdir = \"logs/microseries/GTX_TITAN_X/loss\""
   ]
  },
  {
   "cell_type": "code",
   "execution_count": 9,
   "metadata": {},
   "outputs": [
    {
     "data": {
      "text/plain": [
       "40"
      ]
     },
     "execution_count": 9,
     "metadata": {},
     "output_type": "execute_result"
    }
   ],
   "source": [
    "filename_pattern=re.compile(r\"imagecaption_.*\\.log\")\n",
    "files=[]\n",
    "comm = \"ls -1 \"+logdir\n",
    "proc = subprocess.Popen(comm.split(\" \"),\n",
    "                     stdout=subprocess.PIPE,stderr=subprocess.STDOUT)\n",
    "for line in iter(proc.stdout.readline,b''):\n",
    "    m = filename_pattern.match(line)\n",
    "    if m:\n",
    "        files.append(os.path.abspath(os.path.join(logdir,line)))\n",
    "len(files)"
   ]
  },
  {
   "cell_type": "code",
   "execution_count": 24,
   "metadata": {},
   "outputs": [],
   "source": [
    "output_pattern = re.compile(r\"^(\\d+),\\s*([0-9\\.]+),\\s*([0-9\\.]+)\")\n",
    "\n",
    "# Read minibatch size and 1st epoch time from files.\n",
    "# Store in a DataFrame.\n",
    "def fileToDF(logfile, debug=False):\n",
    "    global output_pattern\n",
    "    batch_learn_pattern = \"_b(\\d+)_l([0-9\\.]+)_smp\\d+_(\\d+)\"\n",
    "    \n",
    "    logfile = logfile.strip(\" \\n\")\n",
    "    filename = os.path.basename(logfile)\n",
    "    if debug: print \"FILE\",filename\n",
    "    batch = 0\n",
    "    learn = 0\n",
    "    run = 0\n",
    "    m = re.search(batch_learn_pattern, filename)\n",
    "    if m:\n",
    "        batch = int(m.group(1))\n",
    "        learn = float(m.group(2))\n",
    "        run = int(m.group(3))\n",
    "        if debug: print \"BS,LR,run:\",batch,learn,run\n",
    "    \n",
    "    with open(logfile,\"r\") as f:\n",
    "        lines = f.readlines()\n",
    "        time = 0\n",
    "        epoch = 0\n",
    "        ind = 0 # DataFrame row numebr (index)\n",
    "        df = pd.DataFrame(data=None,columns=[\"batch\",\"lr\",\"run\",\"epoch\",\"time\",\"loss\"])\n",
    "        for line in lines:\n",
    "            s = line.strip(' \\n')            \n",
    "            m2 = output_pattern.match(s)\n",
    "            if m2:\n",
    "                if debug: print line,\n",
    "                epoch = int(m2.group(1))\n",
    "                time = float(m2.group(2))\n",
    "                loss = float(m2.group(3))        \n",
    "                if debug: print \"BS,LR,run,epoch,time,loss:\",batch,learn,run,epoch,time,loss\n",
    "                df.loc[ind] = [batch,learn,run,epoch,time,loss]\n",
    "                ind += 1                    \n",
    "    return df"
   ]
  },
  {
   "cell_type": "code",
   "execution_count": 25,
   "metadata": {},
   "outputs": [],
   "source": [
    "def readLogs(logdir, debug=False, maxfiles=10000000):\n",
    "    global filename_pattern\n",
    "    \n",
    "    filename_pattern=re.compile(r\"imagecaption_.*\\.log\")\n",
    "    files=[]\n",
    "    comm = \"ls -1 \"+logdir\n",
    "    proc = subprocess.Popen(comm.split(\" \"),\n",
    "                         stdout=subprocess.PIPE,stderr=subprocess.STDOUT)\n",
    "    for line in iter(proc.stdout.readline,b''):\n",
    "        m = filename_pattern.match(line)\n",
    "        if m:\n",
    "            files.append(os.path.abspath(os.path.join(logdir,line)))\n",
    "            \n",
    "    #if debug: print \"files:\",files\n",
    "    df = pd.DataFrame(data=None,columns=[\"batch\",\"lr\",\"run\",\"epoch\",\"time\",\"loss\"])\n",
    "\n",
    "    filecounter=0\n",
    "    for file in files:\n",
    "        if debug: print file\n",
    "        df1 = fileToDF(file,debug)\n",
    "        if len(df1) > 0:\n",
    "            df = pd.concat([df,df1],ignore_index=True)\n",
    "        filecounter +=1\n",
    "        if filecounter>=maxfiles:\n",
    "            return df\n",
    "    return df"
   ]
  },
  {
   "cell_type": "code",
   "execution_count": 26,
   "metadata": {},
   "outputs": [],
   "source": [
    "df_DL=readLogs(\"logs/microseries/GTX_TITAN_X\")"
   ]
  },
  {
   "cell_type": "code",
   "execution_count": 27,
   "metadata": {},
   "outputs": [
    {
     "data": {
      "text/html": [
       "<div>\n",
       "<style scoped>\n",
       "    .dataframe tbody tr th:only-of-type {\n",
       "        vertical-align: middle;\n",
       "    }\n",
       "\n",
       "    .dataframe tbody tr th {\n",
       "        vertical-align: top;\n",
       "    }\n",
       "\n",
       "    .dataframe thead th {\n",
       "        text-align: right;\n",
       "    }\n",
       "</style>\n",
       "<table border=\"1\" class=\"dataframe\">\n",
       "  <thead>\n",
       "    <tr style=\"text-align: right;\">\n",
       "      <th></th>\n",
       "      <th>batch</th>\n",
       "      <th>lr</th>\n",
       "      <th>run</th>\n",
       "      <th>epoch</th>\n",
       "      <th>time</th>\n",
       "      <th>loss</th>\n",
       "    </tr>\n",
       "  </thead>\n",
       "  <tbody>\n",
       "    <tr>\n",
       "      <th>0</th>\n",
       "      <td>12.0</td>\n",
       "      <td>0.001</td>\n",
       "      <td>0.0</td>\n",
       "      <td>1.0</td>\n",
       "      <td>29.112987</td>\n",
       "      <td>6.617882</td>\n",
       "    </tr>\n",
       "    <tr>\n",
       "      <th>1</th>\n",
       "      <td>12.0</td>\n",
       "      <td>0.001</td>\n",
       "      <td>0.0</td>\n",
       "      <td>2.0</td>\n",
       "      <td>27.854918</td>\n",
       "      <td>6.576118</td>\n",
       "    </tr>\n",
       "    <tr>\n",
       "      <th>2</th>\n",
       "      <td>12.0</td>\n",
       "      <td>0.001</td>\n",
       "      <td>0.0</td>\n",
       "      <td>3.0</td>\n",
       "      <td>28.256412</td>\n",
       "      <td>6.548199</td>\n",
       "    </tr>\n",
       "    <tr>\n",
       "      <th>3</th>\n",
       "      <td>12.0</td>\n",
       "      <td>0.001</td>\n",
       "      <td>0.0</td>\n",
       "      <td>4.0</td>\n",
       "      <td>28.972898</td>\n",
       "      <td>6.432320</td>\n",
       "    </tr>\n",
       "    <tr>\n",
       "      <th>4</th>\n",
       "      <td>12.0</td>\n",
       "      <td>0.001</td>\n",
       "      <td>0.0</td>\n",
       "      <td>5.0</td>\n",
       "      <td>28.339761</td>\n",
       "      <td>6.421024</td>\n",
       "    </tr>\n",
       "  </tbody>\n",
       "</table>\n",
       "</div>"
      ],
      "text/plain": [
       "   batch     lr  run  epoch       time      loss\n",
       "0   12.0  0.001  0.0    1.0  29.112987  6.617882\n",
       "1   12.0  0.001  0.0    2.0  27.854918  6.576118\n",
       "2   12.0  0.001  0.0    3.0  28.256412  6.548199\n",
       "3   12.0  0.001  0.0    4.0  28.972898  6.432320\n",
       "4   12.0  0.001  0.0    5.0  28.339761  6.421024"
      ]
     },
     "execution_count": 27,
     "metadata": {},
     "output_type": "execute_result"
    }
   ],
   "source": [
    "df_DL[.head()"
   ]
  },
  {
   "cell_type": "code",
   "execution_count": 51,
   "metadata": {},
   "outputs": [
    {
     "data": {
      "text/html": [
       "<div>\n",
       "<style scoped>\n",
       "    .dataframe tbody tr th:only-of-type {\n",
       "        vertical-align: middle;\n",
       "    }\n",
       "\n",
       "    .dataframe tbody tr th {\n",
       "        vertical-align: top;\n",
       "    }\n",
       "\n",
       "    .dataframe thead th {\n",
       "        text-align: right;\n",
       "    }\n",
       "</style>\n",
       "<table border=\"1\" class=\"dataframe\">\n",
       "  <thead>\n",
       "    <tr style=\"text-align: right;\">\n",
       "      <th></th>\n",
       "      <th>batch</th>\n",
       "      <th>lr</th>\n",
       "      <th>run</th>\n",
       "      <th>epoch</th>\n",
       "      <th>time</th>\n",
       "      <th>loss</th>\n",
       "    </tr>\n",
       "  </thead>\n",
       "  <tbody>\n",
       "    <tr>\n",
       "      <th>124</th>\n",
       "      <td>4.0</td>\n",
       "      <td>0.001</td>\n",
       "      <td>0.0</td>\n",
       "      <td>5.0</td>\n",
       "      <td>15.052591</td>\n",
       "      <td>6.577137</td>\n",
       "    </tr>\n",
       "    <tr>\n",
       "      <th>129</th>\n",
       "      <td>4.0</td>\n",
       "      <td>0.001</td>\n",
       "      <td>1.0</td>\n",
       "      <td>5.0</td>\n",
       "      <td>15.504801</td>\n",
       "      <td>6.651340</td>\n",
       "    </tr>\n",
       "    <tr>\n",
       "      <th>134</th>\n",
       "      <td>4.0</td>\n",
       "      <td>0.002</td>\n",
       "      <td>0.0</td>\n",
       "      <td>5.0</td>\n",
       "      <td>15.248072</td>\n",
       "      <td>6.538705</td>\n",
       "    </tr>\n",
       "    <tr>\n",
       "      <th>139</th>\n",
       "      <td>4.0</td>\n",
       "      <td>0.002</td>\n",
       "      <td>1.0</td>\n",
       "      <td>5.0</td>\n",
       "      <td>15.362160</td>\n",
       "      <td>6.582397</td>\n",
       "    </tr>\n",
       "    <tr>\n",
       "      <th>144</th>\n",
       "      <td>4.0</td>\n",
       "      <td>0.003</td>\n",
       "      <td>0.0</td>\n",
       "      <td>5.0</td>\n",
       "      <td>14.919148</td>\n",
       "      <td>6.843698</td>\n",
       "    </tr>\n",
       "    <tr>\n",
       "      <th>149</th>\n",
       "      <td>4.0</td>\n",
       "      <td>0.003</td>\n",
       "      <td>1.0</td>\n",
       "      <td>5.0</td>\n",
       "      <td>15.953676</td>\n",
       "      <td>6.870876</td>\n",
       "    </tr>\n",
       "    <tr>\n",
       "      <th>154</th>\n",
       "      <td>4.0</td>\n",
       "      <td>0.004</td>\n",
       "      <td>0.0</td>\n",
       "      <td>5.0</td>\n",
       "      <td>15.178517</td>\n",
       "      <td>6.878681</td>\n",
       "    </tr>\n",
       "    <tr>\n",
       "      <th>159</th>\n",
       "      <td>4.0</td>\n",
       "      <td>0.004</td>\n",
       "      <td>1.0</td>\n",
       "      <td>5.0</td>\n",
       "      <td>15.365081</td>\n",
       "      <td>6.957091</td>\n",
       "    </tr>\n",
       "  </tbody>\n",
       "</table>\n",
       "</div>"
      ],
      "text/plain": [
       "     batch     lr  run  epoch       time      loss\n",
       "124    4.0  0.001  0.0    5.0  15.052591  6.577137\n",
       "129    4.0  0.001  1.0    5.0  15.504801  6.651340\n",
       "134    4.0  0.002  0.0    5.0  15.248072  6.538705\n",
       "139    4.0  0.002  1.0    5.0  15.362160  6.582397\n",
       "144    4.0  0.003  0.0    5.0  14.919148  6.843698\n",
       "149    4.0  0.003  1.0    5.0  15.953676  6.870876\n",
       "154    4.0  0.004  0.0    5.0  15.178517  6.878681\n",
       "159    4.0  0.004  1.0    5.0  15.365081  6.957091"
      ]
     },
     "execution_count": 51,
     "metadata": {},
     "output_type": "execute_result"
    }
   ],
   "source": [
    "df_5 = df_DL[df_DL[\"epoch\"]==5.]\n",
    "df_5[df_5[\"batch\"]==4.]"
   ]
  },
  {
   "cell_type": "code",
   "execution_count": 56,
   "metadata": {},
   "outputs": [
    {
     "name": "stdout",
     "output_type": "stream",
     "text": [
      "   batch     lr  epoch  run       time      loss\n",
      "0    4.0  0.001    5.0  0.5  15.278696  6.614238\n",
      "1    4.0  0.002    5.0  0.5  15.305116  6.560551\n",
      "2    4.0  0.003    5.0  0.5  15.436412  6.857287\n",
      "3    4.0  0.004    5.0  0.5  15.271799  6.917886\n",
      "4    8.0  0.001    5.0  0.5  21.846986  6.376563\n"
     ]
    },
    {
     "data": {
      "text/html": [
       "<div>\n",
       "<style scoped>\n",
       "    .dataframe tbody tr th:only-of-type {\n",
       "        vertical-align: middle;\n",
       "    }\n",
       "\n",
       "    .dataframe tbody tr th {\n",
       "        vertical-align: top;\n",
       "    }\n",
       "\n",
       "    .dataframe thead th {\n",
       "        text-align: right;\n",
       "    }\n",
       "</style>\n",
       "<table border=\"1\" class=\"dataframe\">\n",
       "  <thead>\n",
       "    <tr style=\"text-align: right;\">\n",
       "      <th></th>\n",
       "      <th>batch</th>\n",
       "      <th>lr</th>\n",
       "      <th>time</th>\n",
       "      <th>loss</th>\n",
       "    </tr>\n",
       "  </thead>\n",
       "  <tbody>\n",
       "    <tr>\n",
       "      <th>0</th>\n",
       "      <td>4.0</td>\n",
       "      <td>0.001</td>\n",
       "      <td>15.278696</td>\n",
       "      <td>6.614238</td>\n",
       "    </tr>\n",
       "    <tr>\n",
       "      <th>1</th>\n",
       "      <td>4.0</td>\n",
       "      <td>0.002</td>\n",
       "      <td>15.305116</td>\n",
       "      <td>6.560551</td>\n",
       "    </tr>\n",
       "    <tr>\n",
       "      <th>2</th>\n",
       "      <td>4.0</td>\n",
       "      <td>0.003</td>\n",
       "      <td>15.436412</td>\n",
       "      <td>6.857287</td>\n",
       "    </tr>\n",
       "    <tr>\n",
       "      <th>3</th>\n",
       "      <td>4.0</td>\n",
       "      <td>0.004</td>\n",
       "      <td>15.271799</td>\n",
       "      <td>6.917886</td>\n",
       "    </tr>\n",
       "  </tbody>\n",
       "</table>\n",
       "</div>"
      ],
      "text/plain": [
       "   batch     lr       time      loss\n",
       "0    4.0  0.001  15.278696  6.614238\n",
       "1    4.0  0.002  15.305116  6.560551\n",
       "2    4.0  0.003  15.436412  6.857287\n",
       "3    4.0  0.004  15.271799  6.917886"
      ]
     },
     "execution_count": 56,
     "metadata": {},
     "output_type": "execute_result"
    }
   ],
   "source": [
    "df_mean = df_5.groupby([\"batch\",\"lr\",\"epoch\"]).mean().reset_index()\n",
    "print df_mean.head()\n",
    "df_mean = df_mean.drop([\"epoch\",\"run\"],axis=1)\n",
    "df_mean[df_mean[\"batch\"]==4]"
   ]
  },
  {
   "cell_type": "code",
   "execution_count": 58,
   "metadata": {},
   "outputs": [],
   "source": [
    "def plotHeatMap(df,title=None,cmap=None):\n",
    "    plt.rcParams['figure.figsize'] = 10,8 \n",
    "    plt.pcolormesh(df,cmap=cmap)\n",
    "    plt.yticks(np.arange(0.5, len(df.index), 1), df.index)\n",
    "    plt.xticks(np.arange(0.5, len(df.columns), 1), df.columns)\n",
    "    ax = plt.gca()\n",
    "    ax.tick_params(direction='in', length=0)\n",
    "    for y in range(df.shape[0]):\n",
    "        for x in range(df.shape[1]):\n",
    "            if df.iloc[y,x] > 0:\n",
    "                plt.text(x+0.5,y+0.5,'{:.3f}'.format(df.iloc[y,x]),\n",
    "                         color=\"black\",fontsize=9,\n",
    "                         horizontalalignment='center',\n",
    "                         verticalalignment='center',                    \n",
    "                         bbox={'facecolor':'white','edgecolor':'none', 'alpha':0.2, 'pad':0})\n",
    "    plt.title(title,fontsize=18)\n",
    "    plt.xlabel(\"learning rate\",fontsize=12)\n",
    "    plt.ylabel(\"minibatch size\",fontsize=12)\n",
    "    plt.colorbar()\n",
    "    plt.show()"
   ]
  },
  {
   "cell_type": "code",
   "execution_count": 59,
   "metadata": {},
   "outputs": [],
   "source": [
    "time_T = df_mean.pivot_table(index=\"batch\",columns=\"lr\",values=\"time\")\n",
    "loss_T = df_mean.pivot_table(index=\"batch\",columns=\"lr\",values=\"loss\")"
   ]
  },
  {
   "cell_type": "code",
   "execution_count": 60,
   "metadata": {},
   "outputs": [
    {
     "data": {
      "image/png": "[encoded data removed]",
      "text/plain": [
       "<matplotlib.figure.Figure at 0x11648b890>"
      ]
     },
     "metadata": {},
     "output_type": "display_data"
    }
   ],
   "source": [
    "plotHeatMap(loss_T,\"Loss\",\"jet\")"
   ]
  },
  {
   "cell_type": "code",
   "execution_count": 61,
   "metadata": {
    "scrolled": false
   },
   "outputs": [
    {
     "data": {
      "image/png": "[encoded data removed]",
      "text/plain": [
       "<matplotlib.figure.Figure at 0x1165ffd50>"
      ]
     },
     "metadata": {},
     "output_type": "display_data"
    }
   ],
   "source": [
    "plotHeatMap(time_T,\"Time(s)\",\"jet\")"
   ]
  },
  {
   "cell_type": "code",
   "execution_count": null,
   "metadata": {},
   "outputs": [],
   "source": []
  }
 ],
 "metadata": {
  "kernelspec": {
   "display_name": "Python 2",
   "language": "python",
   "name": "python2"
  },
  "language_info": {
   "codemirror_mode": {
    "name": "ipython",
    "version": 2
   },
   "file_extension": ".py",
   "mimetype": "text/x-python",
   "name": "python",
   "nbconvert_exporter": "python",
   "pygments_lexer": "ipython2",
   "version": "2.7.11"
  }
 },
 "nbformat": 4,
 "nbformat_minor": 2
}

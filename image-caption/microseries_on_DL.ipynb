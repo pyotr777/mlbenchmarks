{
 "cells": [
  {
   "cell_type": "markdown",
   "metadata": {},
   "source": [
    "# Loss and time for batch/learning rate combinations\n",
    "\n",
    "### No validation, 5 epochs, 2 runs"
   ]
  },
  {
   "cell_type": "code",
   "execution_count": 2,
   "metadata": {},
   "outputs": [],
   "source": [
    "%matplotlib inline\n",
    "import re\n",
    "import numpy as np\n",
    "import matplotlib\n",
    "import matplotlib.pyplot as plt\n",
    "from matplotlib import cm\n",
    "import pandas as pd\n",
    "import subprocess\n",
    "import os\n",
    "import seaborn as sns"
   ]
  },
  {
   "cell_type": "code",
   "execution_count": 5,
   "metadata": {},
   "outputs": [
    {
     "name": "stdout",
     "output_type": "stream",
     "text": [
      "\u001b[1m\u001b[36mloss\u001b[m\u001b[m       \u001b[1m\u001b[36mval_5epoch\u001b[m\u001b[m\r\n"
     ]
    }
   ],
   "source": [
    "!ls logs/microseries/GTX_TITAN_X"
   ]
  },
  {
   "cell_type": "code",
   "execution_count": 15,
   "metadata": {},
   "outputs": [],
   "source": [
    "logdir = \"logs/microseries/GTX_TITAN_X/val_5epoch\""
   ]
  },
  {
   "cell_type": "code",
   "execution_count": 16,
   "metadata": {},
   "outputs": [
    {
     "data": {
      "text/plain": [
       "96"
      ]
     },
     "execution_count": 16,
     "metadata": {},
     "output_type": "execute_result"
    }
   ],
   "source": [
    "filename_pattern=re.compile(r\"imagecaption_.*\\.log\")\n",
    "files=[]\n",
    "comm = \"ls -1 \"+logdir\n",
    "proc = subprocess.Popen(comm.split(\" \"),\n",
    "                     stdout=subprocess.PIPE,stderr=subprocess.STDOUT)\n",
    "for line in iter(proc.stdout.readline,b''):\n",
    "    m = filename_pattern.match(line)\n",
    "    if m:\n",
    "        files.append(os.path.abspath(os.path.join(logdir,line)))\n",
    "len(files)"
   ]
  },
  {
   "cell_type": "code",
   "execution_count": 17,
   "metadata": {},
   "outputs": [],
   "source": [
    "output_pattern = re.compile(r\"^(\\d+),\\s*([0-9\\.]+),\\s*([0-9\\.]+)\")\n",
    "batch_learn_pattern = re.compile(r\"_b(\\d+)_l([0-9\\.]+)_smp\\d+_(\\d+)\")\n",
    "\n",
    "# Read minibatch size and 1st epoch time from files.\n",
    "# Store in a DataFrame.\n",
    "def fileToDF(logfile, debug=False):\n",
    "    global output_pattern, batch_learn_pattern   \n",
    "    logfile = logfile.strip(\" \\n\")\n",
    "    filename = os.path.basename(logfile)\n",
    "    if debug: print \"FILE\",filename\n",
    "    batch = 0\n",
    "    learn = 0\n",
    "    run = 0\n",
    "    m = re.search(batch_learn_pattern, filename)\n",
    "    if m:\n",
    "        batch = int(m.group(1))\n",
    "        learn = float(m.group(2))\n",
    "        run = int(m.group(3))\n",
    "        if debug: print \"BS,LR,run:\",batch,learn,run\n",
    "    \n",
    "    with open(logfile,\"r\") as f:\n",
    "        lines = f.readlines()\n",
    "        time = 0\n",
    "        epoch = 0\n",
    "        ind = 0 # DataFrame row numebr (index)\n",
    "        df = pd.DataFrame(data=None,columns=[\"batch\",\"lr\",\"run\",\"epoch\",\"time\",\"loss\"])\n",
    "        for line in lines:\n",
    "            s = line.strip(' \\n')            \n",
    "            m2 = output_pattern.match(s)\n",
    "            if m2:\n",
    "                if debug: print line,\n",
    "                epoch = int(m2.group(1))\n",
    "                time = float(m2.group(2))\n",
    "                loss = float(m2.group(3))        \n",
    "                if debug: print \"BS,LR,run,epoch,time,loss:\",batch,learn,run,epoch,time,loss\n",
    "                df.loc[ind] = [batch,learn,run,epoch,time,loss]\n",
    "                ind += 1                    \n",
    "    return df"
   ]
  },
  {
   "cell_type": "code",
   "execution_count": 18,
   "metadata": {},
   "outputs": [],
   "source": [
    "def readLogs(logdir, debug=False, maxfiles=10000000):\n",
    "    global filename_pattern\n",
    "    files=[]\n",
    "    comm = \"ls -1 \"+logdir\n",
    "    proc = subprocess.Popen(comm.split(\" \"),\n",
    "                         stdout=subprocess.PIPE,stderr=subprocess.STDOUT)\n",
    "    for line in iter(proc.stdout.readline,b''):\n",
    "        m = filename_pattern.match(line)\n",
    "        if m:\n",
    "            files.append(os.path.abspath(os.path.join(logdir,line)))\n",
    "            \n",
    "    #if debug: print \"files:\",files\n",
    "    df = pd.DataFrame(data=None,columns=[\"batch\",\"lr\",\"run\",\"epoch\",\"time\",\"loss\"])\n",
    "\n",
    "    filecounter=0\n",
    "    for file in files:\n",
    "        if debug: print file\n",
    "        df1 = fileToDF(file,debug)\n",
    "        if len(df1) > 0:\n",
    "            df = pd.concat([df,df1],ignore_index=True)\n",
    "        filecounter +=1\n",
    "        if filecounter>=maxfiles:\n",
    "            return df\n",
    "    return df"
   ]
  },
  {
   "cell_type": "code",
   "execution_count": 19,
   "metadata": {},
   "outputs": [
    {
     "name": "stdout",
     "output_type": "stream",
     "text": [
      "logs/microseries/GTX_TITAN_X/val_5epoch\n"
     ]
    }
   ],
   "source": [
    "print logdir\n",
    "df_DL=readLogs(logdir)"
   ]
  },
  {
   "cell_type": "code",
   "execution_count": 20,
   "metadata": {},
   "outputs": [
    {
     "data": {
      "text/html": [
       "<div>\n",
       "<style scoped>\n",
       "    .dataframe tbody tr th:only-of-type {\n",
       "        vertical-align: middle;\n",
       "    }\n",
       "\n",
       "    .dataframe tbody tr th {\n",
       "        vertical-align: top;\n",
       "    }\n",
       "\n",
       "    .dataframe thead th {\n",
       "        text-align: right;\n",
       "    }\n",
       "</style>\n",
       "<table border=\"1\" class=\"dataframe\">\n",
       "  <thead>\n",
       "    <tr style=\"text-align: right;\">\n",
       "      <th></th>\n",
       "      <th>batch</th>\n",
       "      <th>lr</th>\n",
       "      <th>run</th>\n",
       "      <th>epoch</th>\n",
       "      <th>time</th>\n",
       "      <th>loss</th>\n",
       "    </tr>\n",
       "  </thead>\n",
       "  <tbody>\n",
       "    <tr>\n",
       "      <th>count</th>\n",
       "      <td>480.000000</td>\n",
       "      <td>480.000000</td>\n",
       "      <td>480.000000</td>\n",
       "      <td>480.000000</td>\n",
       "      <td>480.000000</td>\n",
       "      <td>480.000000</td>\n",
       "    </tr>\n",
       "    <tr>\n",
       "      <th>mean</th>\n",
       "      <td>14.250000</td>\n",
       "      <td>0.001767</td>\n",
       "      <td>0.500000</td>\n",
       "      <td>3.000000</td>\n",
       "      <td>100.372740</td>\n",
       "      <td>6.625957</td>\n",
       "    </tr>\n",
       "    <tr>\n",
       "      <th>std</th>\n",
       "      <td>8.809039</td>\n",
       "      <td>0.001388</td>\n",
       "      <td>0.500522</td>\n",
       "      <td>1.415689</td>\n",
       "      <td>236.223456</td>\n",
       "      <td>0.356402</td>\n",
       "    </tr>\n",
       "    <tr>\n",
       "      <th>min</th>\n",
       "      <td>2.000000</td>\n",
       "      <td>0.000100</td>\n",
       "      <td>0.000000</td>\n",
       "      <td>1.000000</td>\n",
       "      <td>11.994004</td>\n",
       "      <td>5.870124</td>\n",
       "    </tr>\n",
       "    <tr>\n",
       "      <th>25%</th>\n",
       "      <td>7.000000</td>\n",
       "      <td>0.000500</td>\n",
       "      <td>0.000000</td>\n",
       "      <td>2.000000</td>\n",
       "      <td>21.867088</td>\n",
       "      <td>6.380240</td>\n",
       "    </tr>\n",
       "    <tr>\n",
       "      <th>50%</th>\n",
       "      <td>14.000000</td>\n",
       "      <td>0.001500</td>\n",
       "      <td>0.500000</td>\n",
       "      <td>3.000000</td>\n",
       "      <td>39.360559</td>\n",
       "      <td>6.590118</td>\n",
       "    </tr>\n",
       "    <tr>\n",
       "      <th>75%</th>\n",
       "      <td>21.000000</td>\n",
       "      <td>0.003000</td>\n",
       "      <td>1.000000</td>\n",
       "      <td>4.000000</td>\n",
       "      <td>55.748396</td>\n",
       "      <td>6.802143</td>\n",
       "    </tr>\n",
       "    <tr>\n",
       "      <th>max</th>\n",
       "      <td>28.000000</td>\n",
       "      <td>0.004000</td>\n",
       "      <td>1.000000</td>\n",
       "      <td>5.000000</td>\n",
       "      <td>1521.224139</td>\n",
       "      <td>8.102448</td>\n",
       "    </tr>\n",
       "  </tbody>\n",
       "</table>\n",
       "</div>"
      ],
      "text/plain": [
       "            batch          lr         run       epoch         time        loss\n",
       "count  480.000000  480.000000  480.000000  480.000000   480.000000  480.000000\n",
       "mean    14.250000    0.001767    0.500000    3.000000   100.372740    6.625957\n",
       "std      8.809039    0.001388    0.500522    1.415689   236.223456    0.356402\n",
       "min      2.000000    0.000100    0.000000    1.000000    11.994004    5.870124\n",
       "25%      7.000000    0.000500    0.000000    2.000000    21.867088    6.380240\n",
       "50%     14.000000    0.001500    0.500000    3.000000    39.360559    6.590118\n",
       "75%     21.000000    0.003000    1.000000    4.000000    55.748396    6.802143\n",
       "max     28.000000    0.004000    1.000000    5.000000  1521.224139    8.102448"
      ]
     },
     "execution_count": 20,
     "metadata": {},
     "output_type": "execute_result"
    }
   ],
   "source": [
    "df_DL.describe()"
   ]
  },
  {
   "cell_type": "code",
   "execution_count": 22,
   "metadata": {},
   "outputs": [],
   "source": [
    "df_5 = df_DL[df_DL[\"epoch\"]==5]\n",
    "df_1 = df_DL[df_DL[\"epoch\"]==1]"
   ]
  },
  {
   "cell_type": "code",
   "execution_count": 25,
   "metadata": {},
   "outputs": [
    {
     "name": "stdout",
     "output_type": "stream",
     "text": [
      "   batch      lr  epoch  run         time      loss\n",
      "0    2.0  0.0001    5.0  0.5  1225.276355  7.010803\n",
      "1    2.0  0.0005    5.0  0.5  1422.552907  6.893285\n",
      "2    2.0  0.0010    5.0  0.5  1440.263267  7.065421\n",
      "3    2.0  0.0020    5.0  0.5  1465.494914  6.801889\n",
      "4    2.0  0.0030    5.0  0.5  1468.469971  6.803375\n"
     ]
    },
    {
     "data": {
      "text/html": [
       "<div>\n",
       "<style scoped>\n",
       "    .dataframe tbody tr th:only-of-type {\n",
       "        vertical-align: middle;\n",
       "    }\n",
       "\n",
       "    .dataframe tbody tr th {\n",
       "        vertical-align: top;\n",
       "    }\n",
       "\n",
       "    .dataframe thead th {\n",
       "        text-align: right;\n",
       "    }\n",
       "</style>\n",
       "<table border=\"1\" class=\"dataframe\">\n",
       "  <thead>\n",
       "    <tr style=\"text-align: right;\">\n",
       "      <th></th>\n",
       "      <th>batch</th>\n",
       "      <th>lr</th>\n",
       "      <th>loss</th>\n",
       "    </tr>\n",
       "  </thead>\n",
       "  <tbody>\n",
       "    <tr>\n",
       "      <th>0</th>\n",
       "      <td>2.0</td>\n",
       "      <td>0.0001</td>\n",
       "      <td>7.010803</td>\n",
       "    </tr>\n",
       "    <tr>\n",
       "      <th>1</th>\n",
       "      <td>2.0</td>\n",
       "      <td>0.0005</td>\n",
       "      <td>6.893285</td>\n",
       "    </tr>\n",
       "    <tr>\n",
       "      <th>2</th>\n",
       "      <td>2.0</td>\n",
       "      <td>0.0010</td>\n",
       "      <td>7.065421</td>\n",
       "    </tr>\n",
       "    <tr>\n",
       "      <th>3</th>\n",
       "      <td>2.0</td>\n",
       "      <td>0.0020</td>\n",
       "      <td>6.801889</td>\n",
       "    </tr>\n",
       "    <tr>\n",
       "      <th>4</th>\n",
       "      <td>2.0</td>\n",
       "      <td>0.0030</td>\n",
       "      <td>6.803375</td>\n",
       "    </tr>\n",
       "  </tbody>\n",
       "</table>\n",
       "</div>"
      ],
      "text/plain": [
       "   batch      lr      loss\n",
       "0    2.0  0.0001  7.010803\n",
       "1    2.0  0.0005  6.893285\n",
       "2    2.0  0.0010  7.065421\n",
       "3    2.0  0.0020  6.801889\n",
       "4    2.0  0.0030  6.803375"
      ]
     },
     "execution_count": 25,
     "metadata": {},
     "output_type": "execute_result"
    }
   ],
   "source": [
    "df_mean = df_5.groupby([\"batch\",\"lr\",\"epoch\"]).mean().reset_index()\n",
    "print df_mean.head()\n",
    "df_mean = df_mean.drop([\"epoch\",\"run\",\"time\"],axis=1)\n",
    "df_mean.head()"
   ]
  },
  {
   "cell_type": "code",
   "execution_count": 26,
   "metadata": {},
   "outputs": [],
   "source": [
    "df_mean1 = df_1.groupby([\"batch\",\"lr\",\"epoch\"]).mean().reset_index().drop([\"epoch\",\"loss\",\"run\"],axis=1)"
   ]
  },
  {
   "cell_type": "code",
   "execution_count": 56,
   "metadata": {},
   "outputs": [],
   "source": [
    "def plotHeatMap(df,title=None,cmap=None):\n",
    "    plt.rcParams['figure.figsize'] = 7,6.37 \n",
    "    plt.pcolormesh(df,cmap=cmap)\n",
    "    plt.yticks(np.arange(0.5, len(df.index), 1), df.index)\n",
    "    plt.xticks(np.arange(0.5, len(df.columns), 1), df.columns)\n",
    "    ax = plt.gca()\n",
    "    ax.tick_params(direction='in', length=0)\n",
    "    for y in range(df.shape[0]):\n",
    "        for x in range(df.shape[1]):\n",
    "            if df.iloc[y,x] > 0:\n",
    "                plt.text(x+0.5,y+0.5,'{:.3f}'.format(df.iloc[y,x]),\n",
    "                         color=\"black\",fontsize=9,\n",
    "                         horizontalalignment='center',\n",
    "                         verticalalignment='center',                    \n",
    "                         bbox={'facecolor':'white','edgecolor':'none', 'alpha':0.2, 'pad':0})\n",
    "    plt.title(title,fontsize=18)\n",
    "    plt.xlabel(\"learning rate\",fontsize=12)\n",
    "    plt.ylabel(\"minibatch size\",fontsize=12)\n",
    "    plt.colorbar()\n",
    "    plt.show()"
   ]
  },
  {
   "cell_type": "code",
   "execution_count": 57,
   "metadata": {},
   "outputs": [],
   "source": [
    "time_T = df_mean1.pivot_table(index=\"batch\",columns=\"lr\",values=\"time\")\n",
    "loss_T = df_mean.pivot_table(index=\"batch\",columns=\"lr\",values=\"loss\")"
   ]
  },
  {
   "cell_type": "code",
   "execution_count": 58,
   "metadata": {},
   "outputs": [
    {
     "data": {
      "image/png": "[encoded data removed]",
      "text/plain": [
       "<matplotlib.figure.Figure at 0x1161024d0>"
      ]
     },
     "metadata": {},
     "output_type": "display_data"
    }
   ],
   "source": [
    "plotHeatMap(loss_T,\"Loss at 5 epoch\",\"jet\")"
   ]
  },
  {
   "cell_type": "code",
   "execution_count": 60,
   "metadata": {
    "scrolled": false
   },
   "outputs": [
    {
     "data": {
      "image/png": "[encoded data removed]",
      "text/plain": [
       "<matplotlib.figure.Figure at 0x115f755d0>"
      ]
     },
     "metadata": {},
     "output_type": "display_data"
    }
   ],
   "source": [
    "plotHeatMap(time_T,\"Time(s) 1 epoch\",\"jet\")"
   ]
  },
  {
   "cell_type": "code",
   "execution_count": null,
   "metadata": {},
   "outputs": [],
   "source": []
  }
 ],
 "metadata": {
  "kernelspec": {
   "display_name": "Python 2",
   "language": "python",
   "name": "python2"
  },
  "language_info": {
   "codemirror_mode": {
    "name": "ipython",
    "version": 2
   },
   "file_extension": ".py",
   "mimetype": "text/x-python",
   "name": "python",
   "nbconvert_exporter": "python",
   "pygments_lexer": "ipython2",
   "version": "2.7.11"
  }
 },
 "nbformat": 4,
 "nbformat_minor": 2
}

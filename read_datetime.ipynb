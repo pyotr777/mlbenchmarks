{
 "cells": [
  {
   "cell_type": "code",
   "execution_count": 1,
   "metadata": {
    "collapsed": false,
    "scrolled": false
   },
   "outputs": [],
   "source": [
    "%matplotlib inline\n",
    "from __future__ import unicode_literals\n",
    "import matplotlib.pyplot as plt\n",
    "import matplotlib.dates as mdates\n",
    "import sys\n",
    "import numpy as np\n",
    "import datetime"
   ]
  },
  {
   "cell_type": "code",
   "execution_count": 2,
   "metadata": {
    "collapsed": false
   },
   "outputs": [
    {
     "name": "stdout",
     "output_type": "stream",
     "text": [
      "Available matplotlib backends: ['osx', 'qt4', 'qt5', 'gtk3', 'notebook', 'wx', 'qt', 'nbagg', 'gtk', 'tk', 'inline']\n",
      "Using matplotlib backend: MacOSX\n"
     ]
    }
   ],
   "source": [
    "%matplotlib --list\n",
    "%matplotlib"
   ]
  },
  {
   "cell_type": "code",
   "execution_count": 3,
   "metadata": {
    "collapsed": false
   },
   "outputs": [],
   "source": [
    "inst_type=\"p2.xlarge\""
   ]
  },
  {
   "cell_type": "code",
   "execution_count": 14,
   "metadata": {
    "collapsed": false
   },
   "outputs": [
    {
     "name": "stdout",
     "output_type": "stream",
     "text": [
      "Read from p2.xlarge_prices.tsv\n"
     ]
    }
   ],
   "source": [
    "\n",
    "file_name = inst_type+\"_prices.tsv\"\n",
    "\n",
    "print \"Read from\",file_name"
   ]
  },
  {
   "cell_type": "code",
   "execution_count": 15,
   "metadata": {
    "collapsed": false
   },
   "outputs": [],
   "source": [
    "data = np.loadtxt(file_name, delimiter=\"\\t\", usecols=(5,4,1), dtype=object,\n",
    "                   converters={5: lambda x: datetime.datetime.strptime(x, \"%Y-%m-%dT%H:%M:%S.%fZ\"),\n",
    "                               4: np.float})"
   ]
  },
  {
   "cell_type": "code",
   "execution_count": 31,
   "metadata": {
    "collapsed": false
   },
   "outputs": [
    {
     "name": "stdout",
     "output_type": "stream",
     "text": [
      "us-east-1a\n",
      "0.2784\n",
      "us-east-1b\n",
      "0.2661\n",
      "us-east-1c\n",
      "0.8339\n",
      "us-east-1d\n",
      "0.2129\n",
      "us-east-1e\n",
      "0.214\n",
      "us-east-1f\n",
      "0.213\n"
     ]
    }
   ],
   "source": [
    "# x = data[:,0]\n",
    "#y = data[:,1]\n",
    "z = data[:,2]\n",
    "colors=[\"#ff2200\",\"#dd9900\",\"#ccdd11\",\"#66dd11\",\"#00cc88\",\"#0099cc\"]\n",
    "regions = np.unique(z)\n",
    "color_counter=0\n",
    "plt.close('all')\n",
    "plt.interactive(False)\n",
    "fig, ax = plt.subplots(1)\n",
    "#fig.autofmt_xdate()\n",
    "ax.xaxis.set_major_formatter(mdates.DateFormatter('%d %H:%M'))\n",
    "\n",
    "now = datetime.datetime.now()\n",
    "now = mdates.date2num(now)\n",
    "for region in regions:\n",
    "    print region\n",
    "    subarray=data[data[:,2] == region]\n",
    "    #print subarray\n",
    "    x = mdates.date2num(subarray[:,0])\n",
    "    x = np.append(now, x)\n",
    "    print y[0]\n",
    "    y = subarray[:,1]\n",
    "    y =np.append(y[0],y)\n",
    "    ax.plot_date(x,y,fmt=colors[color_counter],\n",
    "                  drawstyle=\"steps-pre\",label=region,linewidth=0.5)\n",
    "    color_counter+=1\n",
    "    \n",
    "    if color_counter >= len(colors):\n",
    "        color_counter = 0\n",
    "\n",
    "mn=np.floor(min(data[:,1]))\n",
    "mx=np.ceil(max(data[:,1]))\n",
    "plt.yticks(np.arange(mn, mx, 0.05))\n",
    "ax.grid(color=\"#ccddee\",linewidth=0.3,linestyle=\"dotted\") \n",
    "ax.tick_params(axis=\"x\", labelsize=5, rotation=60)\n",
    "ax.tick_params(axis=\"y\",labelsize=5)\n",
    "#ax.yaxis.set_label_position(\"right\")\n",
    "ax.yaxis.tick_right()\n",
    "ax.legend()\n",
    "plt.title(inst_type)\n",
    "plt.show()"
   ]
  },
  {
   "cell_type": "code",
   "execution_count": 32,
   "metadata": {
    "collapsed": false
   },
   "outputs": [],
   "source": [
    "plt.savefig(\"ffp.pdf\")"
   ]
  },
  {
   "cell_type": "code",
   "execution_count": null,
   "metadata": {
    "collapsed": true
   },
   "outputs": [],
   "source": []
  }
 ],
 "metadata": {
  "kernelspec": {
   "display_name": "Python 2",
   "language": "python",
   "name": "python2"
  },
  "language_info": {
   "codemirror_mode": {
    "name": "ipython",
    "version": 2
   },
   "file_extension": ".py",
   "mimetype": "text/x-python",
   "name": "python",
   "nbconvert_exporter": "python",
   "pygments_lexer": "ipython2",
   "version": "2.7.12"
  }
 },
 "nbformat": 4,
 "nbformat_minor": 2
}

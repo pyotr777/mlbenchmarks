{
 "cells": [
  {
   "cell_type": "code",
   "execution_count": 3,
   "metadata": {
    "collapsed": false
   },
   "outputs": [
    {
     "name": "stdout",
     "output_type": "stream",
     "text": [
      "[datetime.datetime(2013, 12, 1, 0, 0), datetime.datetime(2013, 12, 2, 0, 0), datetime.datetime(2013, 12, 3, 0, 0), datetime.datetime(2013, 12, 4, 0, 0), datetime.datetime(2013, 12, 5, 0, 0), datetime.datetime(2013, 12, 6, 0, 0), datetime.datetime(2013, 12, 7, 0, 0), datetime.datetime(2013, 12, 8, 0, 0), datetime.datetime(2013, 12, 9, 0, 0), datetime.datetime(2013, 12, 10, 0, 0)]\n"
     ]
    }
   ],
   "source": [
    "import matplotlib as mpl\n",
    "mpl.use('agg')\n",
    "import matplotlib.pyplot as plt\n",
    "import datetime\n",
    "\n",
    "#plt.switch_backend('agg')\n",
    "#plt.switch_backend('qt4agg')\n",
    "\n",
    "x = [datetime.datetime(2013,12,i) for i in range(1, 11)]\n",
    "y = range(len(x))\n",
    "fig, ax = plt.subplots()\n",
    "ax.plot_date(x,y)\n",
    "print x\n",
    "fig.savefig('test.png')"
   ]
  },
  {
   "cell_type": "code",
   "execution_count": null,
   "metadata": {
    "collapsed": true
   },
   "outputs": [],
   "source": []
  }
 ],
 "metadata": {
  "kernelspec": {
   "display_name": "Python 2",
   "language": "python",
   "name": "python2"
  },
  "language_info": {
   "codemirror_mode": {
    "name": "ipython",
    "version": 2
   },
   "file_extension": ".py",
   "mimetype": "text/x-python",
   "name": "python",
   "nbconvert_exporter": "python",
   "pygments_lexer": "ipython2",
   "version": "2.7.12"
  }
 },
 "nbformat": 4,
 "nbformat_minor": 2
}

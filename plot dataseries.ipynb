{
 "cells": [
  {
   "cell_type": "code",
   "execution_count": 15,
   "metadata": {
    "collapsed": true
   },
   "outputs": [],
   "source": [
    "%matplotlib inline\n",
    "import matplotlib as mpl\n",
    "#mpl.use('agg')\n",
    "import matplotlib.pyplot as plt\n",
    "import numpy as np\n",
    "import pandas as pd\n",
    "\n",
    "# iMac: \n",
    "# matplotlib==2.1.1\n",
    "# pandas==0.21.1\n",
    "\n",
    "from datetime import datetime\n",
    "import matplotlib.dates as dates\n",
    "\n",
    "from dateutil import parser"
   ]
  },
  {
   "cell_type": "code",
   "execution_count": 1,
   "metadata": {
    "collapsed": false
   },
   "outputs": [
    {
     "name": "stdout",
     "output_type": "stream",
     "text": [
      "<type 'datetime.datetime'>\n",
      "Converted to <class 'pandas._libs.tslib.Timestamp'> 1970-01-01 00:00:00.817201\n",
      "12 <class 'pandas.core.indexes.datetimes.DatetimeIndex'>\n",
      "<class 'pandas.core.indexes.timedeltas.TimedeltaIndex'> TimedeltaIndex(['00:00:00', '00:00:01', '00:00:02', '00:00:03', '00:00:04',\n",
      "                '00:00:05', '00:00:06', '00:00:07', '00:00:08', '00:00:09',\n",
      "                '00:00:10', '00:00:11'],\n",
      "               dtype='timedelta64[ns]', freq=None)\n"
     ]
    },
    {
     "name": "stderr",
     "output_type": "stream",
     "text": [
      "/usr/local/lib/python2.7/site-packages/matplotlib/figure.py:418: UserWarning: matplotlib is currently using a non-GUI backend, so cannot show the figure\n",
      "  \"matplotlib is currently using a non-GUI backend, \"\n"
     ]
    },
    {
     "data": {
      "image/png": "[encoded data removed]",
      "text/plain": [
       "<matplotlib.figure.Figure at 0x10d8fc690>"
      ]
     },
     "metadata": {},
     "output_type": "display_data"
    }
   ],
   "source": [
    "\n",
    "date = parser.parse(\"4th of July, 2015\")\n",
    "print type(date)\n",
    "\n",
    "#np_start = np.datetime64(0,\"s\")\n",
    "#print np_start, type(np_start)\n",
    "start = pd.to_datetime(0.817201, unit='s')\n",
    "print \"Converted to\",type(start),start\n",
    "x = pd.DatetimeIndex(start + pd.to_timedelta(np.arange(12), 's'))\n",
    "print x.size, type(x)\n",
    "\n",
    "dx = x - x[0]\n",
    "print type(dx), dx\n",
    "y = np.random.random(dx.size)\n",
    "fig, ax = plt.subplots()\n",
    "ax.plot(dx,y)\n",
    "\n",
    "fig.savefig('test.png')\n",
    "fig.show()"
   ]
  },
  {
   "cell_type": "code",
   "execution_count": 2,
   "metadata": {
    "collapsed": true
   },
   "outputs": [],
   "source": [
    "import csv, re\n",
    "import os.path\n"
   ]
  },
  {
   "cell_type": "code",
   "execution_count": 3,
   "metadata": {
    "collapsed": false,
    "scrolled": true
   },
   "outputs": [
    {
     "name": "stdout",
     "output_type": "stream",
     "text": [
      "Empty DataFrame\n",
      "Columns: [one, two]\n",
      "Index: []  rows= 0\n",
      "  one two\n",
      "1   1   1  rows= 1\n",
      "   one two\n",
      "1    1   1\n",
      "5  0.5   5  rows= 2\n",
      "second row =\n",
      "one    0.5\n",
      "two      5\n",
      "Name: 5, dtype: object\n"
     ]
    }
   ],
   "source": [
    "df = pd.DataFrame(columns=[\"one\",\"two\"])\n",
    "print df, \" rows=\",df.shape[0]\n",
    "df.loc[1] = [1, 1]\n",
    "print df, \" rows=\",df.shape[0]\n",
    "df.loc[5] = [0.5,5]\n",
    "print df, \" rows=\",df.shape[0]\n",
    "print \"second row =\\n\", df.iloc[1]"
   ]
  },
  {
   "cell_type": "code",
   "execution_count": 4,
   "metadata": {
    "collapsed": true
   },
   "outputs": [],
   "source": [
    "class extDataFrame(pd.DataFrame):\n",
    "    name = \"\"\n",
    "    \n",
    "    def __init__(self,name,columns):\n",
    "        self.name = name\n",
    "        super(extDataFrame,self).__init__(columns=columns)\n",
    "        \n",
    "    def __str__(self):\n",
    "        s = \"DataFrame \"+self.name+\"\\n\"\n",
    "        s = s+ super(extDataFrame,self).__str__()+\"\\n\"\n",
    "        return s\n",
    "    "
   ]
  },
  {
   "cell_type": "code",
   "execution_count": 5,
   "metadata": {
    "collapsed": false
   },
   "outputs": [
    {
     "name": "stdout",
     "output_type": "stream",
     "text": [
      "DataFrame new\n",
      "                               A      B\n",
      "0                           0.01  0.101\n",
      "1970-01-01 00:00:00.020000  0.20  0.300\n",
      "\n",
      "index 1970-01-01 00:00:00.020000\n",
      "A 0                             0.01\n",
      "1970-01-01 00:00:00.020000    0.20\n",
      "Name: A, dtype: float64\n"
     ]
    }
   ],
   "source": [
    "a = extDataFrame(\"new\",[\"A\",\"B\"])\n",
    "a.loc[0] = [0.01,.101]\n",
    "date = pd.to_datetime(0.02,unit=\"s\")\n",
    "a.loc[date] = [.2,.3]\n",
    "print a\n",
    "print \"index\",a.index[1]\n",
    "print \"A\",a.A"
   ]
  },
  {
   "cell_type": "code",
   "execution_count": 10,
   "metadata": {
    "collapsed": true
   },
   "outputs": [],
   "source": [
    "name_field_index = 18\n",
    "time_field_index = 0\n",
    "duration_field_index = 1\n",
    "SSMem_field_index = 9\n",
    "DSMem_field_index = 10\n",
    "size_field_index = 11\n",
    "throughput_field_index = 12\n",
    "src_field_index = 13\n",
    "dst_field_index = 14\n",
    "context_index = 16\n",
    "stream_index = 17\n",
    "\n",
    "title_pattern = re.compile(\"^(Start|s).*\")\n",
    "cuda_pattern = re.compile(\"\\[CUDA .*\\]\")"
   ]
  },
  {
   "cell_type": "code",
   "execution_count": 11,
   "metadata": {
    "collapsed": true
   },
   "outputs": [],
   "source": [
    "dataframes = []\n",
    "\n",
    "def getDataframe(name):\n",
    "    global dataframes  \n",
    "    for df in dataframes:\n",
    "        if df.name == name:\n",
    "            return df\n",
    "    df_n = extDataFrame(name,[\"Throughput\",\"Size\",\"Duration\"])\n",
    "    dataframes.append(df_n)\n",
    "    return df_n"
   ]
  },
  {
   "cell_type": "code",
   "execution_count": 13,
   "metadata": {
    "collapsed": false
   },
   "outputs": [
    {
     "name": "stdout",
     "output_type": "stream",
     "text": [
      "dataframes: 2\n",
      "[DataFrame [CUDA memset] Device\n",
      "                            Throughput     Size  Duration\n",
      "1970-01-01 00:00:00.817201    0.231928  0.00098  0.004128\n",
      ", DataFrame [CUDA memcpy HtoD] PinnedDevice\n",
      "                            Throughput      Size  Duration\n",
      "1970-01-01 00:00:01.201508    0.946105  0.001953  0.002016\n",
      "1970-01-01 00:00:01.201676    0.002985  0.000004  0.001248\n",
      "1970-01-01 00:00:01.201812    0.002985  0.000004  0.001248\n",
      "1970-01-01 00:00:01.201944    0.186265  0.000244  0.001280\n",
      "1970-01-01 00:00:01.202057    0.181721  0.000244  0.001312\n",
      "1970-01-01 00:00:01.202168    0.186265  0.000244  0.001280\n",
      "1970-01-01 00:00:01.202276    0.186265  0.000244  0.001280\n",
      "1970-01-01 00:00:01.202404    0.002985  0.000004  0.001248\n",
      "1970-01-01 00:00:01.202503    0.003064  0.000004  0.001216\n",
      "1970-01-01 00:00:01.202619    0.647877  0.000977  0.001472\n",
      "1970-01-01 00:00:01.202729    0.647877  0.000977  0.001472\n",
      "1970-01-01 00:00:01.202838    0.647877  0.000977  0.001472\n",
      "1970-01-01 00:00:01.202946    0.662274  0.000977  0.001440\n",
      "1970-01-01 00:00:01.203073    0.002985  0.000004  0.001248\n",
      "1970-01-01 00:00:01.203172    0.002707  0.000004  0.001376\n",
      "1970-01-01 00:00:01.203286    0.181721  0.000244  0.001312\n",
      "1970-01-01 00:00:01.203395    0.186265  0.000244  0.001280\n",
      "1970-01-01 00:00:01.203502    0.181721  0.000244  0.001312\n",
      "1970-01-01 00:00:01.203610    0.186265  0.000244  0.001280\n",
      "1970-01-01 00:00:01.203737    0.003064  0.000004  0.001216\n",
      "1970-01-01 00:00:01.203834    0.003064  0.000004  0.001216\n",
      "1970-01-01 00:00:01.203942    0.186265  0.000244  0.001280\n",
      "1970-01-01 00:00:01.204051    0.181721  0.000244  0.001312\n",
      "1970-01-01 00:00:01.204156    0.181721  0.000244  0.001312\n",
      "]\n"
     ]
    }
   ],
   "source": [
    "maxrows = 30\n",
    "filename=\"Tensorflow-HP/nvprof-trace-tfhp.csv\"\n",
    "\n",
    "dataframes = []\n",
    "rowcounter = 1\n",
    "with open(filename, \"rb\") as csvfile:\n",
    "    reader = csv.reader(csvfile)\n",
    "    for line in reader:\n",
    "        if rowcounter > maxrows:\n",
    "            break\n",
    "            \n",
    "        if len(line) > 3:\n",
    "            if title_pattern.search(line[0]) is None:\n",
    "                if cuda_pattern.search(line[name_field_index]) is not None:\n",
    "                    #print line\n",
    "                    name = line[name_field_index]+\" \"+line[src_field_index] +line[dst_field_index]\n",
    "                    df = getDataframe(name)\n",
    "                    start = pd.to_datetime(line[0], unit='s')\n",
    "                    #end = pd.to_datetime(float(line[0]) + float(line[1]), unit='s')\n",
    "                    #print [line[size_field_index], line[throughput_field_index]]\n",
    "                    df.loc[start] = [float(line[throughput_field_index]), float(line[size_field_index]), float(line[duration_field_index])]\n",
    "                    #df.loc[end] = [0, 0]                    \n",
    "                else:\n",
    "                    #series_arr = getKernelSeries(series_arr1,line)\n",
    "                    #print len(line)\n",
    "                    #print line[name_field_index]\n",
    "                    print \"kernel:\",line\n",
    "                # Fill series instance with corresponding fields of the CSV file line\n",
    "        rowcounter += 1\n",
    "    csvfile.close()\n",
    "    \n",
    "\n",
    "print \"dataframes:\",len(dataframes)\n",
    "print dataframes"
   ]
  },
  {
   "cell_type": "code",
   "execution_count": 26,
   "metadata": {
    "collapsed": false
   },
   "outputs": [
    {
     "name": "stdout",
     "output_type": "stream",
     "text": [
      "1970-01-01 00:00:01.201508    0.946105\n",
      "1970-01-01 00:00:01.201676    0.002985\n",
      "1970-01-01 00:00:01.201812    0.002985\n",
      "1970-01-01 00:00:01.201944    0.186265\n",
      "1970-01-01 00:00:01.202057    0.181721\n",
      "1970-01-01 00:00:01.202168    0.186265\n",
      "1970-01-01 00:00:01.202276    0.186265\n",
      "1970-01-01 00:00:01.202404    0.002985\n",
      "1970-01-01 00:00:01.202503    0.003064\n",
      "1970-01-01 00:00:01.202619    0.647877\n",
      "1970-01-01 00:00:01.202729    0.647877\n",
      "1970-01-01 00:00:01.202838    0.647877\n",
      "1970-01-01 00:00:01.202946    0.662274\n",
      "1970-01-01 00:00:01.203073    0.002985\n",
      "1970-01-01 00:00:01.203172    0.002707\n",
      "1970-01-01 00:00:01.203286    0.181721\n",
      "1970-01-01 00:00:01.203395    0.186265\n",
      "1970-01-01 00:00:01.203502    0.181721\n",
      "1970-01-01 00:00:01.203610    0.186265\n",
      "1970-01-01 00:00:01.203737    0.003064\n",
      "1970-01-01 00:00:01.203834    0.003064\n",
      "1970-01-01 00:00:01.203942    0.186265\n",
      "1970-01-01 00:00:01.204051    0.181721\n",
      "1970-01-01 00:00:01.204156    0.181721\n",
      "Name: Throughput, dtype: float64\n"
     ]
    },
    {
     "data": {
      "image/png": "[encoded data removed]",
      "text/plain": [
       "<matplotlib.figure.Figure at 0x10f1cf310>"
      ]
     },
     "metadata": {},
     "output_type": "display_data"
    }
   ],
   "source": [
    "df = dataframes[1][:50]\n",
    "print df['Throughput']\n",
    "plt.rcParams['figure.figsize'] = 20,15\n",
    "fig, ax = plt.subplots()\n",
    "for df in dataframes:\n",
    "    ax.bar(df.index,df[\"Throughput\"],label=df.name,linewidth=0.3)\n",
    "plt.legend()\n",
    "plt.show()"
   ]
  },
  {
   "cell_type": "code",
   "execution_count": 19,
   "metadata": {
    "collapsed": false,
    "scrolled": false
   },
   "outputs": [
    {
     "name": "stdout",
     "output_type": "stream",
     "text": [
      "                            Throughput      Size  Duration\n",
      "1970-01-01 00:00:01.201508    0.946105  0.001953  0.002016\n",
      "1970-01-01 00:00:01.201676    0.002985  0.000004  0.001248\n",
      "1970-01-01 00:00:01.201812    0.002985  0.000004  0.001248\n",
      "1970-01-01 00:00:01.201944    0.186265  0.000244  0.001280\n",
      "1970-01-01 00:00:01.202057    0.181721  0.000244  0.001312\n",
      "times: DatetimeIndex(['1970-01-01 00:00:01.201508', '1970-01-01 00:00:01.201676'], dtype='datetime64[ns]', freq=None) throughput: 1970-01-01 00:00:01.201508    0.946105\n",
      "1970-01-01 00:00:01.201676    0.002985\n",
      "Name: Throughput, dtype: float64\n",
      "<class 'pandas._libs.tslib.Timestamp'>\n",
      "<class 'pandas._libs.tslib.Timestamp'>\n"
     ]
    },
    {
     "data": {
      "image/png": "[encoded data removed]",
      "text/plain": [
       "<matplotlib.figure.Figure at 0x10f265550>"
      ]
     },
     "metadata": {},
     "output_type": "display_data"
    }
   ],
   "source": [
    "\n",
    "#df = dataframes[1][:5]\n",
    "\n",
    "#print df[\"Throughput\"]\n",
    "#df.Throughput.plot(label=df.name,linewidth=0.3)\n",
    "#ax.bar(df.index,df[\"Throughput\"],label=df.name)\n",
    "\n",
    "#dataframes[1].Throughput.resample(\"ms\").max().plot(drawstyle=\"steps-post\",style=\":\",linewidth=0.9,color=\"r\",label=\"max\")\n",
    "#dataframes[1].Throughput.resample(\"ms\").median().plot(drawstyle=\"steps-post\",style=\":\",linewidth=0.8,color=\"g\",label=\"median\")\n",
    "#dataframes[1].Throughput.resample(\"ms\").mean().plot(drawstyle=\"steps-post\",style=\":\",linewidth=0.9,label=\"mean\")\n",
    "#dataframes[1].Throughput.resample(\"ms\").sum().plot(drawstyle=\"steps-post\",style=\":\",linewidth=0.9,label=\"sum\")\n",
    "\n",
    "#ax.scatter(df.index,df[\"Throughput\"],label=\"Throughput\")\n",
    "times = pd.to_datetime(df.index)\n",
    "throughput = df[\"Throughput\"].astype(\"float\")\n",
    "print \"times:\",times[:2],\"throughput:\",throughput[:2]\n",
    "#size = df[\"Size\"].astype(\"float\")\n",
    "#duration = pd.to_timedelta(df[\"Duration\"])\n",
    "ax.bar(times,throughput,align=\"edge\",label=\"Size\",alpha=0.5)\n",
    "#df.plot.hist(label=\"Size\",alpha=0.5)\n",
    "#ax.plot(df[\"Throughput\"].resample(\"ms\").max(),label=\"max Throughput\",drawstyle=\"steps-post\")\n",
    "ax.xaxis.grid(color=\"#e0e0e0\", linestyle=\"--\",linewidth=0.5)\n",
    "start = pd.to_datetime(1.2, unit='s')\n",
    "print type(start)\n",
    "interval = pd.to_timedelta(0.5, unit='s')\n",
    "end = pd.Timestamp(start+interval)\n",
    "print type(end)\n",
    "ax.set_xlim(start,end)\n",
    "#dataframes[1].Throughput.resample(\"ms\").std().plot(drawstyle=\"steps-post\",style=\"--\",label=\"deviation\")\n",
    "plt.legend()\n",
    "#ax.xaxis.grid(color=\"#e0e0e0\", linestyle=\"--\",linewidth=0.5)\n",
    "#ax.xaxis.set_major_locator(dates.MicrosecondLocator(5000))\n",
    "ax.xaxis.set_major_formatter(dates.DateFormatter('%S.%f'))\n",
    "plt.show()\n",
    "\n",
    "\n",
    "            "
   ]
  },
  {
   "cell_type": "code",
   "execution_count": null,
   "metadata": {
    "collapsed": false
   },
   "outputs": [],
   "source": [
    "secunden = dataframes[1].Throughput.resample(\"ms\").max()\n",
    "print dataframes[1].Throughput.shape,secunden.shape\n",
    "secunden.plot(drawstyle=\"steps-post\")"
   ]
  },
  {
   "cell_type": "code",
   "execution_count": null,
   "metadata": {
    "collapsed": true
   },
   "outputs": [],
   "source": []
  }
 ],
 "metadata": {
  "kernelspec": {
   "display_name": "Python 2",
   "language": "python",
   "name": "python2"
  },
  "language_info": {
   "codemirror_mode": {
    "name": "ipython",
    "version": 2
   },
   "file_extension": ".py",
   "mimetype": "text/x-python",
   "name": "python",
   "nbconvert_exporter": "python",
   "pygments_lexer": "ipython2",
   "version": "2.7.12"
  }
 },
 "nbformat": 4,
 "nbformat_minor": 2
}

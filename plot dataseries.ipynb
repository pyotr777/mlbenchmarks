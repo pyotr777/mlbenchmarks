{
 "cells": [
  {
   "cell_type": "code",
   "execution_count": 1,
   "metadata": {
    "collapsed": false
   },
   "outputs": [
    {
     "name": "stdout",
     "output_type": "stream",
     "text": [
      "<type 'datetime.datetime'>\n",
      "Converted to <class 'pandas._libs.tslib.Timestamp'> 1970-01-01 00:00:00.817201\n",
      "12 <class 'pandas.core.indexes.datetimes.DatetimeIndex'>\n",
      "<class 'pandas.core.indexes.timedeltas.TimedeltaIndex'> TimedeltaIndex(['00:00:00', '00:00:01', '00:00:02', '00:00:03', '00:00:04',\n",
      "                '00:00:05', '00:00:06', '00:00:07', '00:00:08', '00:00:09',\n",
      "                '00:00:10', '00:00:11'],\n",
      "               dtype='timedelta64[ns]', freq=None)\n"
     ]
    },
    {
     "name": "stderr",
     "output_type": "stream",
     "text": [
      "/usr/local/lib/python2.7/site-packages/matplotlib/figure.py:418: UserWarning: matplotlib is currently using a non-GUI backend, so cannot show the figure\n",
      "  \"matplotlib is currently using a non-GUI backend, \"\n"
     ]
    },
    {
     "data": {
      "image/png": "[encoded data removed]",
      "text/plain": [
       "<matplotlib.figure.Figure at 0x105e64690>"
      ]
     },
     "metadata": {},
     "output_type": "display_data"
    }
   ],
   "source": [
    "%matplotlib inline\n",
    "import matplotlib as mpl\n",
    "#mpl.use('agg')\n",
    "import matplotlib.pyplot as plt\n",
    "import numpy as np\n",
    "import pandas as pd\n",
    "\n",
    "from datetime import datetime\n",
    "\n",
    "from dateutil import parser\n",
    "date = parser.parse(\"4th of July, 2015\")\n",
    "print type(date)\n",
    "\n",
    "#np_start = np.datetime64(0,\"s\")\n",
    "#print np_start, type(np_start)\n",
    "start = pd.to_datetime(0.817201, unit='s')\n",
    "print \"Converted to\",type(start),start\n",
    "x = pd.DatetimeIndex(start + pd.to_timedelta(np.arange(12), 's'))\n",
    "print x.size, type(x)\n",
    "\n",
    "dx = x - x[0]\n",
    "print type(dx), dx\n",
    "y = np.random.random(dx.size)\n",
    "fig, ax = plt.subplots()\n",
    "ax.plot(dx,y)\n",
    "\n",
    "fig.savefig('test.png')\n",
    "fig.show()"
   ]
  },
  {
   "cell_type": "code",
   "execution_count": 2,
   "metadata": {
    "collapsed": true
   },
   "outputs": [],
   "source": [
    "import csv, re\n",
    "import os.path\n"
   ]
  },
  {
   "cell_type": "code",
   "execution_count": 3,
   "metadata": {
    "collapsed": false,
    "scrolled": true
   },
   "outputs": [
    {
     "name": "stdout",
     "output_type": "stream",
     "text": [
      "Empty DataFrame\n",
      "Columns: [one, two]\n",
      "Index: []  rows= 0\n",
      "  one two\n",
      "1   1   1  rows= 1\n",
      "   one two\n",
      "1    1   1\n",
      "5  0.5   5  rows= 2\n",
      "second row =\n",
      "one    0.5\n",
      "two      5\n",
      "Name: 5, dtype: object\n"
     ]
    }
   ],
   "source": [
    "df = pd.DataFrame(columns=[\"one\",\"two\"])\n",
    "print df, \" rows=\",df.shape[0]\n",
    "df.loc[1] = [1, 1]\n",
    "print df, \" rows=\",df.shape[0]\n",
    "df.loc[5] = [0.5,5]\n",
    "print df, \" rows=\",df.shape[0]\n",
    "print \"second row =\\n\", df.iloc[1]"
   ]
  },
  {
   "cell_type": "code",
   "execution_count": 4,
   "metadata": {
    "collapsed": true
   },
   "outputs": [],
   "source": [
    "class extDataFrame(pd.DataFrame):\n",
    "    name = \"\"\n",
    "    \n",
    "    def __init__(self,name,columns):\n",
    "        self.name = name\n",
    "        super(extDataFrame,self).__init__(columns=columns)\n",
    "        \n",
    "    def __str__(self):\n",
    "        s = \"DataFrame \"+self.name+\"\\n\"\n",
    "        s = s+ super(extDataFrame,self).__str__()+\"\\n\"\n",
    "        return s\n",
    "    "
   ]
  },
  {
   "cell_type": "code",
   "execution_count": 25,
   "metadata": {
    "collapsed": false
   },
   "outputs": [
    {
     "name": "stdout",
     "output_type": "stream",
     "text": [
      "DataFrame new\n",
      "                               A      B\n",
      "0                           0.01  0.101\n",
      "1970-01-01 00:00:00.020000  0.20  0.300\n",
      "\n",
      "Index([0, 1970-01-01 00:00:00.020000], dtype='object')\n",
      "0                             0.01\n",
      "1970-01-01 00:00:00.020000    0.20\n",
      "Name: A, dtype: float64\n"
     ]
    }
   ],
   "source": [
    "a = extDataFrame(\"new\",[\"A\",\"B\"])\n",
    "a.loc[0] = [0.01,.101]\n",
    "date = pd.to_datetime(0.02,unit=\"s\")\n",
    "a.loc[date] = [.2,.3]\n",
    "print a\n",
    "print a.index\n",
    "print a.A"
   ]
  },
  {
   "cell_type": "code",
   "execution_count": 9,
   "metadata": {
    "collapsed": true
   },
   "outputs": [],
   "source": [
    "maxrows = 100\n",
    "filename=\"Tensorflow-HP/nvprof-trace-tfhp.csv\"\n",
    "name_field_index = 18\n",
    "time_field_index = 0\n",
    "duration_field_index = 1\n",
    "SSMem_field_index = 9\n",
    "DSMem_field_index = 10\n",
    "size_field_index = 11\n",
    "throughput_field_index = 12\n",
    "src_field_index = 13\n",
    "dst_field_index = 14\n",
    "context_index = 16\n",
    "stream_index = 17\n",
    "\n",
    "title_pattern = re.compile(\"^(Start|s).*\")\n",
    "cuda_pattern = re.compile(\"\\[CUDA .*\\]\")"
   ]
  },
  {
   "cell_type": "code",
   "execution_count": 12,
   "metadata": {
    "collapsed": true
   },
   "outputs": [],
   "source": [
    "dataframes = []\n",
    "\n",
    "def getDataframe(name):\n",
    "    global dataframes  \n",
    "    for df in dataframes:\n",
    "        if df.name == name:\n",
    "            return df\n",
    "    df_n = extDataFrame(name,[\"Throughput\"])#,\"Size\",\"Duration\"])\n",
    "    dataframes.append(df_n)\n",
    "    return df_n"
   ]
  },
  {
   "cell_type": "code",
   "execution_count": 13,
   "metadata": {
    "collapsed": false
   },
   "outputs": [
    {
     "name": "stdout",
     "output_type": "stream",
     "text": [
      "[DataFrame [CUDA memset] Device\n",
      "                            Throughput\n",
      "1970-01-01 00:00:00.817201    0.231928\n",
      ", DataFrame [CUDA memcpy HtoD] PinnedDevice\n",
      "                            Throughput\n",
      "1970-01-01 00:00:01.201508    0.946105\n",
      "1970-01-01 00:00:01.201676    0.002985\n",
      "1970-01-01 00:00:01.201812    0.002985\n",
      "1970-01-01 00:00:01.201944    0.186265\n",
      "1970-01-01 00:00:01.202057    0.181721\n",
      "1970-01-01 00:00:01.202168    0.186265\n",
      "1970-01-01 00:00:01.202276    0.186265\n",
      "1970-01-01 00:00:01.202404    0.002985\n",
      "1970-01-01 00:00:01.202503    0.003064\n",
      "1970-01-01 00:00:01.202619    0.647877\n",
      "1970-01-01 00:00:01.202729    0.647877\n",
      "1970-01-01 00:00:01.202838    0.647877\n",
      "1970-01-01 00:00:01.202946    0.662274\n",
      "1970-01-01 00:00:01.203073    0.002985\n",
      "1970-01-01 00:00:01.203172    0.002707\n",
      "1970-01-01 00:00:01.203286    0.181721\n",
      "1970-01-01 00:00:01.203395    0.186265\n",
      "1970-01-01 00:00:01.203502    0.181721\n",
      "1970-01-01 00:00:01.203610    0.186265\n",
      "1970-01-01 00:00:01.203737    0.003064\n",
      "1970-01-01 00:00:01.203834    0.003064\n",
      "1970-01-01 00:00:01.203942    0.186265\n",
      "1970-01-01 00:00:01.204051    0.181721\n",
      "1970-01-01 00:00:01.204156    0.181721\n",
      "1970-01-01 00:00:01.204263    0.181721\n",
      "1970-01-01 00:00:01.204403    0.002985\n",
      "1970-01-01 00:00:01.204516    0.647877\n",
      "1970-01-01 00:00:01.204621    0.662274\n",
      "1970-01-01 00:00:01.204729    0.662274\n",
      "1970-01-01 00:00:01.204835    0.647877\n",
      "...                                ...\n",
      "1970-01-01 00:00:01.208754    1.124616\n",
      "1970-01-01 00:00:01.208859    1.103790\n",
      "1970-01-01 00:00:01.208964    1.124616\n",
      "1970-01-01 00:00:01.209069    1.124616\n",
      "1970-01-01 00:00:01.209193    0.002985\n",
      "1970-01-01 00:00:01.209289    0.002985\n",
      "1970-01-01 00:00:01.209396    0.346539\n",
      "1970-01-01 00:00:01.209502    0.354790\n",
      "1970-01-01 00:00:01.209609    0.354790\n",
      "1970-01-01 00:00:01.209715    0.354790\n",
      "1970-01-01 00:00:01.209838    0.003064\n",
      "1970-01-01 00:00:01.209935    0.003064\n",
      "1970-01-01 00:00:01.210041    0.354790\n",
      "1970-01-01 00:00:01.210145    0.354790\n",
      "1970-01-01 00:00:01.210250    0.354790\n",
      "1970-01-01 00:00:01.210355    0.354790\n",
      "1970-01-01 00:00:01.210480    0.003064\n",
      "1970-01-01 00:00:01.210577    0.003064\n",
      "1970-01-01 00:00:01.210682    1.124616\n",
      "1970-01-01 00:00:01.210788    1.124616\n",
      "1970-01-01 00:00:01.210895    1.124616\n",
      "1970-01-01 00:00:01.211001    1.103790\n",
      "1970-01-01 00:00:01.211155    0.002985\n",
      "1970-01-01 00:00:01.211268    0.298023\n",
      "1970-01-01 00:00:01.211375    0.354790\n",
      "1970-01-01 00:00:01.211481    0.354790\n",
      "1970-01-01 00:00:01.211604    0.354790\n",
      "1970-01-01 00:00:01.211735    0.002985\n",
      "1970-01-01 00:00:01.211844    0.354790\n",
      "1970-01-01 00:00:01.211945    0.354790\n",
      "\n",
      "[94 rows x 1 columns]\n",
      "]\n"
     ]
    }
   ],
   "source": [
    "dataframes = []\n",
    "rowcounter = 1\n",
    "with open(filename, \"rb\") as csvfile:\n",
    "    reader = csv.reader(csvfile)\n",
    "    for line in reader:\n",
    "        if rowcounter > maxrows:\n",
    "            break\n",
    "            \n",
    "        if len(line) > 3:\n",
    "            if title_pattern.search(line[0]) is None:\n",
    "                if cuda_pattern.search(line[name_field_index]) is not None:\n",
    "                    #print line\n",
    "                    name = line[name_field_index]+\" \"+line[src_field_index] +line[dst_field_index]\n",
    "                    df = getDataframe(name)\n",
    "                    start = pd.to_datetime(line[0], unit='s')\n",
    "                    #end = pd.to_datetime(float(line[0]) + float(line[1]), unit='s')\n",
    "                    #print [line[size_field_index], line[throughput_field_index]]\n",
    "                    df.loc[start] = [float(line[throughput_field_index])]#, float(line[size_field_index]), float(line[duration_field_index])]\n",
    "                    #df.loc[end] = [0, 0]                    \n",
    "                else:\n",
    "                    #series_arr = getKernelSeries(series_arr1,line)\n",
    "                    #print len(line)\n",
    "                    #print line[name_field_index]\n",
    "                    print \"kernel:\",line\n",
    "                # Fill series instance with corresponding fields of the CSV file line\n",
    "        rowcounter += 1\n",
    "    csvfile.close()\n",
    "    \n",
    "\n",
    "print dataframes"
   ]
  },
  {
   "cell_type": "code",
   "execution_count": 23,
   "metadata": {
    "collapsed": false
   },
   "outputs": [
    {
     "name": "stdout",
     "output_type": "stream",
     "text": [
      "1970-01-01 00:00:01.201508    0.946105\n",
      "1970-01-01 00:00:01.201676    0.002985\n",
      "1970-01-01 00:00:01.201812    0.002985\n",
      "1970-01-01 00:00:01.201944    0.186265\n",
      "1970-01-01 00:00:01.202057    0.181721\n",
      "1970-01-01 00:00:01.202168    0.186265\n",
      "1970-01-01 00:00:01.202276    0.186265\n",
      "1970-01-01 00:00:01.202404    0.002985\n",
      "1970-01-01 00:00:01.202503    0.003064\n",
      "1970-01-01 00:00:01.202619    0.647877\n",
      "1970-01-01 00:00:01.202729    0.647877\n",
      "1970-01-01 00:00:01.202838    0.647877\n",
      "1970-01-01 00:00:01.202946    0.662274\n",
      "1970-01-01 00:00:01.203073    0.002985\n",
      "1970-01-01 00:00:01.203172    0.002707\n",
      "1970-01-01 00:00:01.203286    0.181721\n",
      "1970-01-01 00:00:01.203395    0.186265\n",
      "1970-01-01 00:00:01.203502    0.181721\n",
      "1970-01-01 00:00:01.203610    0.186265\n",
      "1970-01-01 00:00:01.203737    0.003064\n",
      "1970-01-01 00:00:01.203834    0.003064\n",
      "1970-01-01 00:00:01.203942    0.186265\n",
      "1970-01-01 00:00:01.204051    0.181721\n",
      "1970-01-01 00:00:01.204156    0.181721\n",
      "1970-01-01 00:00:01.204263    0.181721\n",
      "1970-01-01 00:00:01.204403    0.002985\n",
      "1970-01-01 00:00:01.204516    0.647877\n",
      "1970-01-01 00:00:01.204621    0.662274\n",
      "1970-01-01 00:00:01.204729    0.662274\n",
      "1970-01-01 00:00:01.204835    0.647877\n",
      "                                ...   \n",
      "1970-01-01 00:00:01.208754    1.124616\n",
      "1970-01-01 00:00:01.208859    1.103790\n",
      "1970-01-01 00:00:01.208964    1.124616\n",
      "1970-01-01 00:00:01.209069    1.124616\n",
      "1970-01-01 00:00:01.209193    0.002985\n",
      "1970-01-01 00:00:01.209289    0.002985\n",
      "1970-01-01 00:00:01.209396    0.346539\n",
      "1970-01-01 00:00:01.209502    0.354790\n",
      "1970-01-01 00:00:01.209609    0.354790\n",
      "1970-01-01 00:00:01.209715    0.354790\n",
      "1970-01-01 00:00:01.209838    0.003064\n",
      "1970-01-01 00:00:01.209935    0.003064\n",
      "1970-01-01 00:00:01.210041    0.354790\n",
      "1970-01-01 00:00:01.210145    0.354790\n",
      "1970-01-01 00:00:01.210250    0.354790\n",
      "1970-01-01 00:00:01.210355    0.354790\n",
      "1970-01-01 00:00:01.210480    0.003064\n",
      "1970-01-01 00:00:01.210577    0.003064\n",
      "1970-01-01 00:00:01.210682    1.124616\n",
      "1970-01-01 00:00:01.210788    1.124616\n",
      "1970-01-01 00:00:01.210895    1.124616\n",
      "1970-01-01 00:00:01.211001    1.103790\n",
      "1970-01-01 00:00:01.211155    0.002985\n",
      "1970-01-01 00:00:01.211268    0.298023\n",
      "1970-01-01 00:00:01.211375    0.354790\n",
      "1970-01-01 00:00:01.211481    0.354790\n",
      "1970-01-01 00:00:01.211604    0.354790\n",
      "1970-01-01 00:00:01.211735    0.002985\n",
      "1970-01-01 00:00:01.211844    0.354790\n",
      "1970-01-01 00:00:01.211945    0.354790\n",
      "Name: Throughput, Length: 94, dtype: float64\n"
     ]
    },
    {
     "ename": "TypeError",
     "evalue": "scatter() takes at least 3 arguments (2 given)",
     "output_type": "error",
     "traceback": [
      "\u001b[0;31m---------------------------------------------------------------------------\u001b[0m",
      "\u001b[0;31mTypeError\u001b[0m                                 Traceback (most recent call last)",
      "\u001b[0;32m<ipython-input-23-58f11d026169>\u001b[0m in \u001b[0;36m<module>\u001b[0;34m()\u001b[0m\n\u001b[1;32m     13\u001b[0m \u001b[0mdataframes\u001b[0m\u001b[0;34m[\u001b[0m\u001b[0;36m1\u001b[0m\u001b[0;34m]\u001b[0m\u001b[0;34m.\u001b[0m\u001b[0mThroughput\u001b[0m\u001b[0;34m.\u001b[0m\u001b[0mresample\u001b[0m\u001b[0;34m(\u001b[0m\u001b[0;34m\"ms\"\u001b[0m\u001b[0;34m)\u001b[0m\u001b[0;34m.\u001b[0m\u001b[0msum\u001b[0m\u001b[0;34m(\u001b[0m\u001b[0;34m)\u001b[0m\u001b[0;34m.\u001b[0m\u001b[0mplot\u001b[0m\u001b[0;34m(\u001b[0m\u001b[0mdrawstyle\u001b[0m\u001b[0;34m=\u001b[0m\u001b[0;34m\"steps-post\"\u001b[0m\u001b[0;34m,\u001b[0m\u001b[0mstyle\u001b[0m\u001b[0;34m=\u001b[0m\u001b[0;34m\":\"\u001b[0m\u001b[0;34m,\u001b[0m\u001b[0mlinewidth\u001b[0m\u001b[0;34m=\u001b[0m\u001b[0;36m0.9\u001b[0m\u001b[0;34m,\u001b[0m\u001b[0mlabel\u001b[0m\u001b[0;34m=\u001b[0m\u001b[0;34m\"sum\"\u001b[0m\u001b[0;34m)\u001b[0m\u001b[0;34m\u001b[0m\u001b[0m\n\u001b[1;32m     14\u001b[0m \u001b[0;34m\u001b[0m\u001b[0m\n\u001b[0;32m---> 15\u001b[0;31m \u001b[0max\u001b[0m\u001b[0;34m.\u001b[0m\u001b[0mscatter\u001b[0m\u001b[0;34m(\u001b[0m\u001b[0mdf\u001b[0m\u001b[0;34m[\u001b[0m\u001b[0;34m\"Throughput\"\u001b[0m\u001b[0;34m]\u001b[0m\u001b[0;34m,\u001b[0m\u001b[0mlabel\u001b[0m\u001b[0;34m=\u001b[0m\u001b[0mdf\u001b[0m\u001b[0;34m.\u001b[0m\u001b[0mname\u001b[0m\u001b[0;34m)\u001b[0m\u001b[0;34m\u001b[0m\u001b[0m\n\u001b[0m\u001b[1;32m     16\u001b[0m \u001b[0;31m#ax.plot(dataframes[1].Throughput.resample(\"ms\").max())\u001b[0m\u001b[0;34m\u001b[0m\u001b[0;34m\u001b[0m\u001b[0m\n\u001b[1;32m     17\u001b[0m \u001b[0;31m#dataframes[1].Throughput.resample(\"ms\").std().plot(drawstyle=\"steps-post\",style=\"--\",label=\"deviation\")\u001b[0m\u001b[0;34m\u001b[0m\u001b[0;34m\u001b[0m\u001b[0m\n",
      "\u001b[0;32m/usr/local/lib/python2.7/site-packages/matplotlib/__init__.pyc\u001b[0m in \u001b[0;36minner\u001b[0;34m(ax, *args, **kwargs)\u001b[0m\n\u001b[1;32m   1715\u001b[0m                     warnings.warn(msg % (label_namer, func.__name__),\n\u001b[1;32m   1716\u001b[0m                                   RuntimeWarning, stacklevel=2)\n\u001b[0;32m-> 1717\u001b[0;31m             \u001b[0;32mreturn\u001b[0m \u001b[0mfunc\u001b[0m\u001b[0;34m(\u001b[0m\u001b[0max\u001b[0m\u001b[0;34m,\u001b[0m \u001b[0;34m*\u001b[0m\u001b[0margs\u001b[0m\u001b[0;34m,\u001b[0m \u001b[0;34m**\u001b[0m\u001b[0mkwargs\u001b[0m\u001b[0;34m)\u001b[0m\u001b[0;34m\u001b[0m\u001b[0m\n\u001b[0m\u001b[1;32m   1718\u001b[0m         \u001b[0mpre_doc\u001b[0m \u001b[0;34m=\u001b[0m \u001b[0minner\u001b[0m\u001b[0;34m.\u001b[0m\u001b[0m__doc__\u001b[0m\u001b[0;34m\u001b[0m\u001b[0m\n\u001b[1;32m   1719\u001b[0m         \u001b[0;32mif\u001b[0m \u001b[0mpre_doc\u001b[0m \u001b[0;32mis\u001b[0m \u001b[0mNone\u001b[0m\u001b[0;34m:\u001b[0m\u001b[0;34m\u001b[0m\u001b[0m\n",
      "\u001b[0;31mTypeError\u001b[0m: scatter() takes at least 3 arguments (2 given)"
     ]
    },
    {
     "data": {
      "image/png": "[encoded data removed]",
      "text/plain": [
       "<matplotlib.figure.Figure at 0x109063c10>"
      ]
     },
     "metadata": {},
     "output_type": "display_data"
    }
   ],
   "source": [
    "plt.rcParams['figure.figsize'] = 20,15\n",
    "fig, ax = plt.subplots()\n",
    "#for df in dataframes:\n",
    "#    ax.plot(df.index,df[\"Throughput\"],label=df.name,linewidth=0.3,drawstyle=\"steps-post\")\n",
    "df = dataframes[1]\n",
    "print df[\"Throughput\"]\n",
    "#df.Throughput.plot(label=df.name,linewidth=0.3)\n",
    "#ax.bar(df.index,df[\"Throughput\"],label=df.name)\n",
    "\n",
    "dataframes[1].Throughput.resample(\"ms\").max().plot(drawstyle=\"steps-post\",style=\":\",linewidth=0.9,color=\"r\",label=\"max\")\n",
    "#dataframes[1].Throughput.resample(\"ms\").median().plot(drawstyle=\"steps-post\",style=\":\",linewidth=0.8,color=\"g\",label=\"median\")\n",
    "#dataframes[1].Throughput.resample(\"ms\").mean().plot(drawstyle=\"steps-post\",style=\":\",linewidth=0.9,label=\"mean\")\n",
    "dataframes[1].Throughput.resample(\"ms\").sum().plot(drawstyle=\"steps-post\",style=\":\",linewidth=0.9,label=\"sum\")\n",
    "\n",
    "ax.scatter(df[\"Throughput\"],label=df.name)\n",
    "#ax.plot(dataframes[1].Throughput.resample(\"ms\").max())\n",
    "#dataframes[1].Throughput.resample(\"ms\").std().plot(drawstyle=\"steps-post\",style=\"--\",label=\"deviation\")\n",
    "plt.legend()\n",
    "plt.rcParams['figure.figsize'] = 20,15\n",
    "plt.show()\n",
    "\n",
    "\n",
    "            "
   ]
  },
  {
   "cell_type": "code",
   "execution_count": 15,
   "metadata": {
    "collapsed": false
   },
   "outputs": [
    {
     "name": "stdout",
     "output_type": "stream",
     "text": [
      "(94,) (11,)\n"
     ]
    },
    {
     "data": {
      "text/plain": [
       "<matplotlib.axes._subplots.AxesSubplot at 0x107707d50>"
      ]
     },
     "execution_count": 15,
     "metadata": {},
     "output_type": "execute_result"
    },
    {
     "data": {
      "image/png": "[encoded data removed]",
      "text/plain": [
       "<matplotlib.figure.Figure at 0x10770bd10>"
      ]
     },
     "metadata": {},
     "output_type": "display_data"
    }
   ],
   "source": [
    "secunden = dataframes[1].Throughput.resample(\"ms\").max()\n",
    "print dataframes[1].Throughput.shape,secunden.shape\n",
    "secunden.plot(drawstyle=\"steps-mid\")"
   ]
  },
  {
   "cell_type": "code",
   "execution_count": null,
   "metadata": {
    "collapsed": true
   },
   "outputs": [],
   "source": []
  }
 ],
 "metadata": {
  "kernelspec": {
   "display_name": "Python 2",
   "language": "python",
   "name": "python2"
  },
  "language_info": {
   "codemirror_mode": {
    "name": "ipython",
    "version": 2
   },
   "file_extension": ".py",
   "mimetype": "text/x-python",
   "name": "python",
   "nbconvert_exporter": "python",
   "pygments_lexer": "ipython2",
   "version": "2.7.12"
  }
 },
 "nbformat": 4,
 "nbformat_minor": 2
}

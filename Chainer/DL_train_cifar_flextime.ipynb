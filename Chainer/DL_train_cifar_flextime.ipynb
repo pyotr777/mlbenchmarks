{
 "cells": [
  {
   "cell_type": "markdown",
   "metadata": {},
   "source": [
    "# Analyse Cifar100 runs with various learning rates and batch sizes\n",
    "## Time to get to accuracy 0.6 on DL server"
   ]
  },
  {
   "cell_type": "code",
   "execution_count": 1,
   "metadata": {},
   "outputs": [],
   "source": [
    "%matplotlib inline\n",
    "import re\n",
    "import numpy as np\n",
    "import matplotlib\n",
    "import matplotlib.pyplot as plt\n",
    "from matplotlib import cm\n",
    "import pandas as pd"
   ]
  },
  {
   "cell_type": "code",
   "execution_count": 2,
   "metadata": {},
   "outputs": [
    {
     "name": "stdout",
     "output_type": "stream",
     "text": [
      "DL_train_cifar_flextime/cifar_log_b128_l0.001.log\r\n",
      "DL_train_cifar_flextime/cifar_log_b128_l0.005.log\r\n",
      "DL_train_cifar_flextime/cifar_log_b128_l0.01.log\r\n",
      "DL_train_cifar_flextime/cifar_log_b128_l0.025.log\r\n",
      "DL_train_cifar_flextime/cifar_log_b128_l0.05.log\r\n",
      "DL_train_cifar_flextime/cifar_log_b128_l0.1.log\r\n",
      "DL_train_cifar_flextime/cifar_log_b128_l0.15.log\r\n",
      "DL_train_cifar_flextime/cifar_log_b256_l0.001.log\r\n",
      "DL_train_cifar_flextime/cifar_log_b256_l0.005.log\r\n",
      "DL_train_cifar_flextime/cifar_log_b256_l0.01.log\r\n",
      "DL_train_cifar_flextime/cifar_log_b256_l0.025.log\r\n",
      "DL_train_cifar_flextime/cifar_log_b256_l0.05.log\r\n",
      "DL_train_cifar_flextime/cifar_log_b256_l0.1.log\r\n",
      "DL_train_cifar_flextime/cifar_log_b256_l0.15.log\r\n",
      "DL_train_cifar_flextime/cifar_log_b32_l0.001.log\r\n",
      "DL_train_cifar_flextime/cifar_log_b32_l0.005.log\r\n",
      "DL_train_cifar_flextime/cifar_log_b32_l0.01.log\r\n",
      "DL_train_cifar_flextime/cifar_log_b32_l0.025.log\r\n",
      "DL_train_cifar_flextime/cifar_log_b32_l0.05.log\r\n",
      "DL_train_cifar_flextime/cifar_log_b32_l0.1.log\r\n",
      "DL_train_cifar_flextime/cifar_log_b32_l0.15.log\r\n",
      "DL_train_cifar_flextime/cifar_log_b384_l0.001.log\r\n",
      "DL_train_cifar_flextime/cifar_log_b384_l0.005.log\r\n",
      "DL_train_cifar_flextime/cifar_log_b384_l0.01.log\r\n",
      "DL_train_cifar_flextime/cifar_log_b384_l0.025.log\r\n",
      "DL_train_cifar_flextime/cifar_log_b384_l0.05.log\r\n",
      "DL_train_cifar_flextime/cifar_log_b384_l0.1.log\r\n",
      "DL_train_cifar_flextime/cifar_log_b384_l0.15.log\r\n",
      "DL_train_cifar_flextime/cifar_log_b48_l0.001.log\r\n",
      "DL_train_cifar_flextime/cifar_log_b48_l0.005.log\r\n",
      "DL_train_cifar_flextime/cifar_log_b48_l0.01.log\r\n",
      "DL_train_cifar_flextime/cifar_log_b48_l0.025.log\r\n",
      "DL_train_cifar_flextime/cifar_log_b48_l0.05.log\r\n",
      "DL_train_cifar_flextime/cifar_log_b48_l0.1.log\r\n",
      "DL_train_cifar_flextime/cifar_log_b48_l0.15.log\r\n",
      "DL_train_cifar_flextime/cifar_log_b512_l0.001.log\r\n",
      "DL_train_cifar_flextime/cifar_log_b512_l0.005.log\r\n",
      "DL_train_cifar_flextime/cifar_log_b512_l0.01.log\r\n",
      "DL_train_cifar_flextime/cifar_log_b512_l0.025.log\r\n",
      "DL_train_cifar_flextime/cifar_log_b512_l0.05.log\r\n",
      "DL_train_cifar_flextime/cifar_log_b512_l0.1.log\r\n",
      "DL_train_cifar_flextime/cifar_log_b512_l0.15.log\r\n",
      "DL_train_cifar_flextime/cifar_log_b640_l0.001.log\r\n",
      "DL_train_cifar_flextime/cifar_log_b640_l0.005.log\r\n",
      "DL_train_cifar_flextime/cifar_log_b640_l0.01.log\r\n",
      "DL_train_cifar_flextime/cifar_log_b640_l0.025.log\r\n",
      "DL_train_cifar_flextime/cifar_log_b640_l0.05.log\r\n",
      "DL_train_cifar_flextime/cifar_log_b640_l0.1.log\r\n",
      "DL_train_cifar_flextime/cifar_log_b640_l0.15.log\r\n",
      "DL_train_cifar_flextime/cifar_log_b64_l0.001.log\r\n",
      "DL_train_cifar_flextime/cifar_log_b64_l0.005.log\r\n",
      "DL_train_cifar_flextime/cifar_log_b64_l0.01.log\r\n",
      "DL_train_cifar_flextime/cifar_log_b64_l0.025.log\r\n",
      "DL_train_cifar_flextime/cifar_log_b64_l0.05.log\r\n",
      "DL_train_cifar_flextime/cifar_log_b64_l0.1.log\r\n",
      "DL_train_cifar_flextime/cifar_log_b64_l0.15.log\r\n",
      "DL_train_cifar_flextime/cifar_log_b80_l0.001.log\r\n",
      "DL_train_cifar_flextime/cifar_log_b80_l0.005.log\r\n",
      "DL_train_cifar_flextime/cifar_log_b80_l0.01.log\r\n",
      "DL_train_cifar_flextime/cifar_log_b80_l0.025.log\r\n",
      "DL_train_cifar_flextime/cifar_log_b80_l0.05.log\r\n",
      "DL_train_cifar_flextime/cifar_log_b80_l0.1.log\r\n",
      "DL_train_cifar_flextime/cifar_log_b80_l0.15.log\r\n"
     ]
    }
   ],
   "source": [
    "!ls DL_train_cifar_flextime/cifar*.log"
   ]
  },
  {
   "cell_type": "code",
   "execution_count": null,
   "metadata": {},
   "outputs": [],
   "source": []
  }
 ],
 "metadata": {
  "kernelspec": {
   "display_name": "Python 2",
   "language": "python",
   "name": "python2"
  },
  "language_info": {
   "codemirror_mode": {
    "name": "ipython",
    "version": 2
   },
   "file_extension": ".py",
   "mimetype": "text/x-python",
   "name": "python",
   "nbconvert_exporter": "python",
   "pygments_lexer": "ipython2",
   "version": "2.7.11"
  }
 },
 "nbformat": 4,
 "nbformat_minor": 2
}

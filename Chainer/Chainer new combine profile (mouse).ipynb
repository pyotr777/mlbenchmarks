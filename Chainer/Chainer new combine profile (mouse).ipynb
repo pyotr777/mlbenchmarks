{
 "cells": [
  {
   "cell_type": "markdown",
   "metadata": {},
   "source": [
    "# Chainer CIFAR100\n",
    "\n",
    "## Combined profile\n",
    "\n",
    "```\n",
    "2Feb1854peter@mouse:~$ ./comb_profile.sh ./run_cifar.sh chainer_mouse_combined\n",
    "Using file names: nvidia-smi-chainer_mouse_combined.csv and nvprof-trace-chainer_mouse_combined-%p.csv\n",
    "Starting nvidia-smi\n",
    "/home/peter/.local/lib/python2.7/site-packages/cupy/core/fusion.py:659: FutureWarning: cupy.core.fusion is experimental. The interface can change in the future.\n",
    "  util.experimental('cupy.core.fusion')\n",
    "GPU: 0\n",
    "# Minibatch-size: 1024\n",
    "# epoch: 2\n",
    "\n",
    "Using CIFAR100 dataset.\n",
    "epoch       main/loss   validation/main/loss  main/accuracy  validation/main/accuracy  elapsed_time\n",
    "1           4.73795     4.59403               0.0138114      0.0122588                 47.9361\n",
    "2           4.60124     4.6317                0.0149673      0.0106884                 95.7086\n",
    "nvidia-smi finished\n",
    "Starting nvprof\n",
    "/home/peter/.local/lib/python2.7/site-packages/cupy/core/fusion.py:659: FutureWarning: cupy.core.fusion is experimental. The interface can change in the future.\n",
    "  util.experimental('cupy.core.fusion')\n",
    "GPU: 0\n",
    "# Minibatch-size: 1024\n",
    "# epoch: 2\n",
    "\n",
    "Using CIFAR100 dataset.\n",
    "epoch       main/loss   validation/main/loss  main/accuracy  validation/main/accuracy  elapsed_time\n",
    "1           4.67773     4.58299               0.0157047      0.0161631                 49.9652\n",
    "2           4.5421      4.63707               0.0171995      0.0104632                 98.9316\n",
    "./comb_profile.sh: line 40: 29148 Terminated              python parse_nvsmi.py nvidia-smi -q -x -lms 100 > $smi_trace\n",
    "nvprof finished\n",
    "Traces saved to /home/peter/ nvidia-smi-chainer_mouse_combined.csv and nvprof-trace-chainer_mouse_combined-%p.csv\n",
    "```"
   ]
  },
  {
   "cell_type": "code",
   "execution_count": 3,
   "metadata": {
    "collapsed": true
   },
   "outputs": [],
   "source": [
    "%matplotlib inline\n",
    "import re\n",
    "import numpy as np\n",
    "import matplotlib\n",
    "#matplotlib.use(\"Agg\")\n",
    "import matplotlib.pyplot as plt\n",
    "import os.path\n",
    "import datetime\n",
    "from cycler import cycler\n",
    "import pandas as pd"
   ]
  },
  {
   "cell_type": "code",
   "execution_count": 4,
   "metadata": {
    "collapsed": true
   },
   "outputs": [],
   "source": [
    "nvprof_file = \"nvprof-trace-chainer_mouse_combined-29174.csv\"\n",
    "nvsmi_file  = \"nvidia-smi-chainer_mouse_combined.csv\""
   ]
  },
  {
   "cell_type": "code",
   "execution_count": 5,
   "metadata": {
    "collapsed": false
   },
   "outputs": [
    {
     "data": {
      "text/html": [
       "<div>\n",
       "<style scoped>\n",
       "    .dataframe tbody tr th:only-of-type {\n",
       "        vertical-align: middle;\n",
       "    }\n",
       "\n",
       "    .dataframe tbody tr th {\n",
       "        vertical-align: top;\n",
       "    }\n",
       "\n",
       "    .dataframe thead th {\n",
       "        text-align: right;\n",
       "    }\n",
       "</style>\n",
       "<table border=\"1\" class=\"dataframe\">\n",
       "  <thead>\n",
       "    <tr style=\"text-align: right;\">\n",
       "      <th></th>\n",
       "      <th>Start</th>\n",
       "      <th>Duration</th>\n",
       "      <th>Grid X</th>\n",
       "      <th>Grid Y</th>\n",
       "      <th>Grid Z</th>\n",
       "      <th>Block X</th>\n",
       "      <th>Block Y</th>\n",
       "      <th>Block Z</th>\n",
       "      <th>Registers Per Thread</th>\n",
       "      <th>Static SMem</th>\n",
       "      <th>Dynamic SMem</th>\n",
       "      <th>Size</th>\n",
       "      <th>Throughput</th>\n",
       "      <th>SrcMemType</th>\n",
       "      <th>DstMemType</th>\n",
       "      <th>Device</th>\n",
       "      <th>Context</th>\n",
       "      <th>Stream</th>\n",
       "      <th>Name</th>\n",
       "      <th>Correlation_ID</th>\n",
       "    </tr>\n",
       "  </thead>\n",
       "  <tbody>\n",
       "    <tr>\n",
       "      <th>0</th>\n",
       "      <td>0.353105</td>\n",
       "      <td>0.000960</td>\n",
       "      <td>NaN</td>\n",
       "      <td>NaN</td>\n",
       "      <td>NaN</td>\n",
       "      <td>NaN</td>\n",
       "      <td>NaN</td>\n",
       "      <td>NaN</td>\n",
       "      <td>NaN</td>\n",
       "      <td>NaN</td>\n",
       "      <td>NaN</td>\n",
       "      <td>0.001953</td>\n",
       "      <td>1.986821</td>\n",
       "      <td>Pinned</td>\n",
       "      <td>Device</td>\n",
       "      <td>Quadro P2000 (0)</td>\n",
       "      <td>1</td>\n",
       "      <td>7</td>\n",
       "      <td>[CUDA memcpy HtoD]</td>\n",
       "      <td>112</td>\n",
       "    </tr>\n",
       "    <tr>\n",
       "      <th>1</th>\n",
       "      <td>0.353222</td>\n",
       "      <td>0.000832</td>\n",
       "      <td>NaN</td>\n",
       "      <td>NaN</td>\n",
       "      <td>NaN</td>\n",
       "      <td>NaN</td>\n",
       "      <td>NaN</td>\n",
       "      <td>NaN</td>\n",
       "      <td>NaN</td>\n",
       "      <td>NaN</td>\n",
       "      <td>NaN</td>\n",
       "      <td>0.001953</td>\n",
       "      <td>2.292486</td>\n",
       "      <td>Pinned</td>\n",
       "      <td>Device</td>\n",
       "      <td>Quadro P2000 (0)</td>\n",
       "      <td>1</td>\n",
       "      <td>7</td>\n",
       "      <td>[CUDA memcpy HtoD]</td>\n",
       "      <td>121</td>\n",
       "    </tr>\n",
       "    <tr>\n",
       "      <th>2</th>\n",
       "      <td>0.353297</td>\n",
       "      <td>0.000832</td>\n",
       "      <td>NaN</td>\n",
       "      <td>NaN</td>\n",
       "      <td>NaN</td>\n",
       "      <td>NaN</td>\n",
       "      <td>NaN</td>\n",
       "      <td>NaN</td>\n",
       "      <td>NaN</td>\n",
       "      <td>NaN</td>\n",
       "      <td>NaN</td>\n",
       "      <td>0.001953</td>\n",
       "      <td>2.292486</td>\n",
       "      <td>Pinned</td>\n",
       "      <td>Device</td>\n",
       "      <td>Quadro P2000 (0)</td>\n",
       "      <td>1</td>\n",
       "      <td>7</td>\n",
       "      <td>[CUDA memcpy HtoD]</td>\n",
       "      <td>131</td>\n",
       "    </tr>\n",
       "  </tbody>\n",
       "</table>\n",
       "</div>"
      ],
      "text/plain": [
       "      Start  Duration  Grid X  Grid Y  Grid Z  Block X  Block Y  Block Z  \\\n",
       "0  0.353105  0.000960     NaN     NaN     NaN      NaN      NaN      NaN   \n",
       "1  0.353222  0.000832     NaN     NaN     NaN      NaN      NaN      NaN   \n",
       "2  0.353297  0.000832     NaN     NaN     NaN      NaN      NaN      NaN   \n",
       "\n",
       "   Registers Per Thread  Static SMem  Dynamic SMem      Size  Throughput  \\\n",
       "0                   NaN          NaN           NaN  0.001953    1.986821   \n",
       "1                   NaN          NaN           NaN  0.001953    2.292486   \n",
       "2                   NaN          NaN           NaN  0.001953    2.292486   \n",
       "\n",
       "  SrcMemType DstMemType            Device  Context  Stream  \\\n",
       "0     Pinned     Device  Quadro P2000 (0)        1       7   \n",
       "1     Pinned     Device  Quadro P2000 (0)        1       7   \n",
       "2     Pinned     Device  Quadro P2000 (0)        1       7   \n",
       "\n",
       "                 Name  Correlation_ID  \n",
       "0  [CUDA memcpy HtoD]             112  \n",
       "1  [CUDA memcpy HtoD]             121  \n",
       "2  [CUDA memcpy HtoD]             131  "
      ]
     },
     "execution_count": 5,
     "metadata": {},
     "output_type": "execute_result"
    }
   ],
   "source": [
    "nvprof = pd.read_csv(nvprof_file, header=[0], skiprows=[0,1,2,4])\n",
    "nvprof.iloc[:3]"
   ]
  },
  {
   "cell_type": "code",
   "execution_count": 6,
   "metadata": {
    "collapsed": false
   },
   "outputs": [
    {
     "data": {
      "text/plain": [
       "(33895, 5)"
      ]
     },
     "execution_count": 6,
     "metadata": {},
     "output_type": "execute_result"
    }
   ],
   "source": [
    "cols = [1,2,3,4,5,6,7,8,9,10,11,15,16,17,19]\n",
    "nvprof.drop(nvprof.columns[cols], axis=1, inplace=True)\n",
    "nvprof.shape"
   ]
  },
  {
   "cell_type": "code",
   "execution_count": 7,
   "metadata": {
    "collapsed": false
   },
   "outputs": [
    {
     "name": "stdout",
     "output_type": "stream",
     "text": [
      "(1468, 5)\n"
     ]
    },
    {
     "data": {
      "text/html": [
       "<div>\n",
       "<style scoped>\n",
       "    .dataframe tbody tr th:only-of-type {\n",
       "        vertical-align: middle;\n",
       "    }\n",
       "\n",
       "    .dataframe tbody tr th {\n",
       "        vertical-align: top;\n",
       "    }\n",
       "\n",
       "    .dataframe thead th {\n",
       "        text-align: right;\n",
       "    }\n",
       "</style>\n",
       "<table border=\"1\" class=\"dataframe\">\n",
       "  <thead>\n",
       "    <tr style=\"text-align: right;\">\n",
       "      <th></th>\n",
       "      <th>Start</th>\n",
       "      <th>Throughput</th>\n",
       "      <th>SrcMemType</th>\n",
       "      <th>DstMemType</th>\n",
       "      <th>Name</th>\n",
       "    </tr>\n",
       "  </thead>\n",
       "  <tbody>\n",
       "    <tr>\n",
       "      <th>0</th>\n",
       "      <td>0.353105</td>\n",
       "      <td>1.986821</td>\n",
       "      <td>Pinned</td>\n",
       "      <td>Device</td>\n",
       "      <td>[CUDA memcpy HtoD]</td>\n",
       "    </tr>\n",
       "    <tr>\n",
       "      <th>1</th>\n",
       "      <td>0.353222</td>\n",
       "      <td>2.292486</td>\n",
       "      <td>Pinned</td>\n",
       "      <td>Device</td>\n",
       "      <td>[CUDA memcpy HtoD]</td>\n",
       "    </tr>\n",
       "    <tr>\n",
       "      <th>2</th>\n",
       "      <td>0.353297</td>\n",
       "      <td>2.292486</td>\n",
       "      <td>Pinned</td>\n",
       "      <td>Device</td>\n",
       "      <td>[CUDA memcpy HtoD]</td>\n",
       "    </tr>\n",
       "    <tr>\n",
       "      <th>3</th>\n",
       "      <td>0.353361</td>\n",
       "      <td>2.292486</td>\n",
       "      <td>Pinned</td>\n",
       "      <td>Device</td>\n",
       "      <td>[CUDA memcpy HtoD]</td>\n",
       "    </tr>\n",
       "    <tr>\n",
       "      <th>4</th>\n",
       "      <td>0.353426</td>\n",
       "      <td>2.207579</td>\n",
       "      <td>Pinned</td>\n",
       "      <td>Device</td>\n",
       "      <td>[CUDA memcpy HtoD]</td>\n",
       "    </tr>\n",
       "  </tbody>\n",
       "</table>\n",
       "</div>"
      ],
      "text/plain": [
       "      Start  Throughput SrcMemType DstMemType                Name\n",
       "0  0.353105    1.986821     Pinned     Device  [CUDA memcpy HtoD]\n",
       "1  0.353222    2.292486     Pinned     Device  [CUDA memcpy HtoD]\n",
       "2  0.353297    2.292486     Pinned     Device  [CUDA memcpy HtoD]\n",
       "3  0.353361    2.292486     Pinned     Device  [CUDA memcpy HtoD]\n",
       "4  0.353426    2.207579     Pinned     Device  [CUDA memcpy HtoD]"
      ]
     },
     "execution_count": 7,
     "metadata": {},
     "output_type": "execute_result"
    }
   ],
   "source": [
    "# Drop kernels rows (all kernel rows have throughput==0)\n",
    "nvprof = nvprof[~nvprof[\"Throughput\"].isnull()]\n",
    "print nvprof.shape\n",
    "nvprof.iloc[:5]"
   ]
  },
  {
   "cell_type": "code",
   "execution_count": 8,
   "metadata": {
    "collapsed": false
   },
   "outputs": [
    {
     "data": {
      "text/html": [
       "<div>\n",
       "<style scoped>\n",
       "    .dataframe tbody tr th:only-of-type {\n",
       "        vertical-align: middle;\n",
       "    }\n",
       "\n",
       "    .dataframe tbody tr th {\n",
       "        vertical-align: top;\n",
       "    }\n",
       "\n",
       "    .dataframe thead th {\n",
       "        text-align: right;\n",
       "    }\n",
       "</style>\n",
       "<table border=\"1\" class=\"dataframe\">\n",
       "  <thead>\n",
       "    <tr style=\"text-align: right;\">\n",
       "      <th></th>\n",
       "      <th>Start</th>\n",
       "      <th>Throughput</th>\n",
       "      <th>SrcMemType</th>\n",
       "      <th>DstMemType</th>\n",
       "      <th>Name</th>\n",
       "      <th>FullName</th>\n",
       "    </tr>\n",
       "  </thead>\n",
       "  <tbody>\n",
       "    <tr>\n",
       "      <th>0</th>\n",
       "      <td>0.353105</td>\n",
       "      <td>1.986821</td>\n",
       "      <td>Pinned</td>\n",
       "      <td>Device</td>\n",
       "      <td>[CUDA memcpy HtoD]</td>\n",
       "      <td>[CUDA memcpy HtoD] PinnedDevice</td>\n",
       "    </tr>\n",
       "    <tr>\n",
       "      <th>1</th>\n",
       "      <td>0.353222</td>\n",
       "      <td>2.292486</td>\n",
       "      <td>Pinned</td>\n",
       "      <td>Device</td>\n",
       "      <td>[CUDA memcpy HtoD]</td>\n",
       "      <td>[CUDA memcpy HtoD] PinnedDevice</td>\n",
       "    </tr>\n",
       "    <tr>\n",
       "      <th>2</th>\n",
       "      <td>0.353297</td>\n",
       "      <td>2.292486</td>\n",
       "      <td>Pinned</td>\n",
       "      <td>Device</td>\n",
       "      <td>[CUDA memcpy HtoD]</td>\n",
       "      <td>[CUDA memcpy HtoD] PinnedDevice</td>\n",
       "    </tr>\n",
       "  </tbody>\n",
       "</table>\n",
       "</div>"
      ],
      "text/plain": [
       "      Start  Throughput SrcMemType DstMemType                Name  \\\n",
       "0  0.353105    1.986821     Pinned     Device  [CUDA memcpy HtoD]   \n",
       "1  0.353222    2.292486     Pinned     Device  [CUDA memcpy HtoD]   \n",
       "2  0.353297    2.292486     Pinned     Device  [CUDA memcpy HtoD]   \n",
       "\n",
       "                          FullName  \n",
       "0  [CUDA memcpy HtoD] PinnedDevice  \n",
       "1  [CUDA memcpy HtoD] PinnedDevice  \n",
       "2  [CUDA memcpy HtoD] PinnedDevice  "
      ]
     },
     "execution_count": 8,
     "metadata": {},
     "output_type": "execute_result"
    }
   ],
   "source": [
    "nvprof['FullName']   = nvprof['Name'] + \" \" + nvprof['SrcMemType']+ nvprof['DstMemType'].fillna(\"\")\n",
    "nvprof.iloc[:3]"
   ]
  },
  {
   "cell_type": "code",
   "execution_count": 9,
   "metadata": {
    "collapsed": false
   },
   "outputs": [
    {
     "data": {
      "text/plain": [
       "array(['[CUDA memcpy HtoD] PinnedDevice', '[CUDA memset] Device',\n",
       "       '[CUDA memcpy HtoD] PageableDevice',\n",
       "       '[CUDA memcpy DtoH] DevicePageable'], dtype=object)"
      ]
     },
     "execution_count": 9,
     "metadata": {},
     "output_type": "execute_result"
    }
   ],
   "source": [
    "nvprof[\"FullName\"].unique()"
   ]
  },
  {
   "cell_type": "code",
   "execution_count": 10,
   "metadata": {
    "collapsed": true
   },
   "outputs": [],
   "source": [
    "# Convert unique values in column \"FullName\" to new columns\n",
    "def mergeColumnNames(df_org):\n",
    "    df = df_org.pivot(index = 'Start', columns = 'FullName', \n",
    "                         values = 'Throughput')\n",
    "    df = df.fillna(0)  # Fill empty cells with 0-s\n",
    "    return df"
   ]
  },
  {
   "cell_type": "code",
   "execution_count": 11,
   "metadata": {
    "collapsed": false
   },
   "outputs": [
    {
     "data": {
      "text/html": [
       "<div>\n",
       "<style scoped>\n",
       "    .dataframe tbody tr th:only-of-type {\n",
       "        vertical-align: middle;\n",
       "    }\n",
       "\n",
       "    .dataframe tbody tr th {\n",
       "        vertical-align: top;\n",
       "    }\n",
       "\n",
       "    .dataframe thead th {\n",
       "        text-align: right;\n",
       "    }\n",
       "</style>\n",
       "<table border=\"1\" class=\"dataframe\">\n",
       "  <thead>\n",
       "    <tr style=\"text-align: right;\">\n",
       "      <th>FullName</th>\n",
       "      <th>[CUDA memcpy DtoH] DevicePageable</th>\n",
       "      <th>[CUDA memcpy HtoD] PageableDevice</th>\n",
       "      <th>[CUDA memcpy HtoD] PinnedDevice</th>\n",
       "      <th>[CUDA memset] Device</th>\n",
       "    </tr>\n",
       "    <tr>\n",
       "      <th>Start</th>\n",
       "      <th></th>\n",
       "      <th></th>\n",
       "      <th></th>\n",
       "      <th></th>\n",
       "    </tr>\n",
       "  </thead>\n",
       "  <tbody>\n",
       "    <tr>\n",
       "      <th>0.353105</th>\n",
       "      <td>0.0</td>\n",
       "      <td>0.0</td>\n",
       "      <td>1.986821</td>\n",
       "      <td>0.0</td>\n",
       "    </tr>\n",
       "    <tr>\n",
       "      <th>0.353222</th>\n",
       "      <td>0.0</td>\n",
       "      <td>0.0</td>\n",
       "      <td>2.292486</td>\n",
       "      <td>0.0</td>\n",
       "    </tr>\n",
       "    <tr>\n",
       "      <th>0.353297</th>\n",
       "      <td>0.0</td>\n",
       "      <td>0.0</td>\n",
       "      <td>2.292486</td>\n",
       "      <td>0.0</td>\n",
       "    </tr>\n",
       "  </tbody>\n",
       "</table>\n",
       "</div>"
      ],
      "text/plain": [
       "FullName  [CUDA memcpy DtoH] DevicePageable  \\\n",
       "Start                                         \n",
       "0.353105                                0.0   \n",
       "0.353222                                0.0   \n",
       "0.353297                                0.0   \n",
       "\n",
       "FullName  [CUDA memcpy HtoD] PageableDevice  [CUDA memcpy HtoD] PinnedDevice  \\\n",
       "Start                                                                          \n",
       "0.353105                                0.0                         1.986821   \n",
       "0.353222                                0.0                         2.292486   \n",
       "0.353297                                0.0                         2.292486   \n",
       "\n",
       "FullName  [CUDA memset] Device  \n",
       "Start                           \n",
       "0.353105                   0.0  \n",
       "0.353222                   0.0  \n",
       "0.353297                   0.0  "
      ]
     },
     "execution_count": 11,
     "metadata": {},
     "output_type": "execute_result"
    }
   ],
   "source": [
    "nvprof_m = mergeColumnNames(nvprof)\n",
    "nvprof_m.iloc[:3]"
   ]
  },
  {
   "cell_type": "code",
   "execution_count": 12,
   "metadata": {
    "collapsed": false
   },
   "outputs": [],
   "source": [
    "def appendMaxValues2ColumnNames(df,series,suff=\"\"):\n",
    "    cols = len(df.columns)\n",
    "    col_names = []\n",
    "    for i in range(0,cols):\n",
    "        col_names.append(series+df.columns[i]+\" \" +'{:.3f}'.format(df.iloc[:,i].max()) +\" \"+suff)\n",
    "    df.columns = col_names\n",
    "    return df"
   ]
  },
  {
   "cell_type": "code",
   "execution_count": 13,
   "metadata": {
    "collapsed": false
   },
   "outputs": [
    {
     "data": {
      "text/html": [
       "<div>\n",
       "<style scoped>\n",
       "    .dataframe tbody tr th:only-of-type {\n",
       "        vertical-align: middle;\n",
       "    }\n",
       "\n",
       "    .dataframe tbody tr th {\n",
       "        vertical-align: top;\n",
       "    }\n",
       "\n",
       "    .dataframe thead th {\n",
       "        text-align: right;\n",
       "    }\n",
       "</style>\n",
       "<table border=\"1\" class=\"dataframe\">\n",
       "  <thead>\n",
       "    <tr style=\"text-align: right;\">\n",
       "      <th></th>\n",
       "      <th>[CUDA memcpy DtoH] DevicePageable 12.456 GB/s</th>\n",
       "      <th>[CUDA memcpy HtoD] PageableDevice 0.172 GB/s</th>\n",
       "      <th>[CUDA memcpy HtoD] PinnedDevice 11.378 GB/s</th>\n",
       "      <th>[CUDA memset] Device 17166.138 GB/s</th>\n",
       "    </tr>\n",
       "    <tr>\n",
       "      <th>Start</th>\n",
       "      <th></th>\n",
       "      <th></th>\n",
       "      <th></th>\n",
       "      <th></th>\n",
       "    </tr>\n",
       "  </thead>\n",
       "  <tbody>\n",
       "    <tr>\n",
       "      <th>0.353105</th>\n",
       "      <td>0.0</td>\n",
       "      <td>0.0</td>\n",
       "      <td>1.986821</td>\n",
       "      <td>0.0</td>\n",
       "    </tr>\n",
       "    <tr>\n",
       "      <th>0.353222</th>\n",
       "      <td>0.0</td>\n",
       "      <td>0.0</td>\n",
       "      <td>2.292486</td>\n",
       "      <td>0.0</td>\n",
       "    </tr>\n",
       "    <tr>\n",
       "      <th>0.353297</th>\n",
       "      <td>0.0</td>\n",
       "      <td>0.0</td>\n",
       "      <td>2.292486</td>\n",
       "      <td>0.0</td>\n",
       "    </tr>\n",
       "  </tbody>\n",
       "</table>\n",
       "</div>"
      ],
      "text/plain": [
       "          [CUDA memcpy DtoH] DevicePageable 12.456 GB/s  \\\n",
       "Start                                                     \n",
       "0.353105                                            0.0   \n",
       "0.353222                                            0.0   \n",
       "0.353297                                            0.0   \n",
       "\n",
       "          [CUDA memcpy HtoD] PageableDevice 0.172 GB/s  \\\n",
       "Start                                                    \n",
       "0.353105                                           0.0   \n",
       "0.353222                                           0.0   \n",
       "0.353297                                           0.0   \n",
       "\n",
       "          [CUDA memcpy HtoD] PinnedDevice 11.378 GB/s  \\\n",
       "Start                                                   \n",
       "0.353105                                     1.986821   \n",
       "0.353222                                     2.292486   \n",
       "0.353297                                     2.292486   \n",
       "\n",
       "          [CUDA memset] Device 17166.138 GB/s  \n",
       "Start                                          \n",
       "0.353105                                  0.0  \n",
       "0.353222                                  0.0  \n",
       "0.353297                                  0.0  "
      ]
     },
     "execution_count": 13,
     "metadata": {},
     "output_type": "execute_result"
    }
   ],
   "source": [
    "nvprof_m = appendMaxValues2ColumnNames(nvprof_m,\"\",suff=\"GB/s\")\n",
    "nvprof_m.iloc[:3]"
   ]
  },
  {
   "cell_type": "code",
   "execution_count": 14,
   "metadata": {
    "collapsed": false
   },
   "outputs": [
    {
     "name": "stderr",
     "output_type": "stream",
     "text": [
      "/usr/local/lib/python2.7/site-packages/matplotlib/ticker.py:2206: UserWarning: Data has no positive values, and therefore cannot be log-scaled.\n",
      "  \"Data has no positive values, and therefore cannot be \"\n"
     ]
    },
    {
     "data": {
      "text/plain": [
       "<matplotlib.axes._subplots.AxesSubplot at 0x103d66c50>"
      ]
     },
     "execution_count": 14,
     "metadata": {},
     "output_type": "execute_result"
    },
    {
     "data": {
      "image/png": "[encoded data removed]",
      "text/plain": [
       "<matplotlib.figure.Figure at 0x105380910>"
      ]
     },
     "metadata": {},
     "output_type": "display_data"
    }
   ],
   "source": [
    "plt.rcParams['figure.figsize'] = 10,5\n",
    "nvprof_m.plot.box(logx = True, grid = True, vert=False)"
   ]
  },
  {
   "cell_type": "code",
   "execution_count": 15,
   "metadata": {
    "collapsed": true
   },
   "outputs": [],
   "source": [
    "x_arr = []\n",
    "names = []\n",
    "for column in nvprof_m: \n",
    "    x = nvprof_m[column]\n",
    "    x = x[x != 0]\n",
    "    arr = x.values\n",
    "    x_arr.append(arr)\n",
    "    names.append(column)"
   ]
  },
  {
   "cell_type": "code",
   "execution_count": 16,
   "metadata": {
    "collapsed": false
   },
   "outputs": [
    {
     "data": {
      "text/plain": [
       "array([17166.137695,  1326.851223, 17166.137695, 16156.36489 ,\n",
       "        8583.068848, 17166.137695, 17166.137695,  4039.091222,\n",
       "        4039.091222,  2145.767212,  1009.772806])"
      ]
     },
     "execution_count": 16,
     "metadata": {},
     "output_type": "execute_result"
    }
   ],
   "source": [
    "# Compare elements of x_arr[3] and nvprof_m column 4 that are greater than 1000\n",
    "memset = x_arr[3]\n",
    "memset[memset > 1000]"
   ]
  },
  {
   "cell_type": "code",
   "execution_count": 17,
   "metadata": {
    "collapsed": false
   },
   "outputs": [
    {
     "data": {
      "text/html": [
       "<div>\n",
       "<style scoped>\n",
       "    .dataframe tbody tr th:only-of-type {\n",
       "        vertical-align: middle;\n",
       "    }\n",
       "\n",
       "    .dataframe tbody tr th {\n",
       "        vertical-align: top;\n",
       "    }\n",
       "\n",
       "    .dataframe thead th {\n",
       "        text-align: right;\n",
       "    }\n",
       "</style>\n",
       "<table border=\"1\" class=\"dataframe\">\n",
       "  <thead>\n",
       "    <tr style=\"text-align: right;\">\n",
       "      <th></th>\n",
       "      <th>[CUDA memcpy DtoH] DevicePageable 12.456 GB/s</th>\n",
       "      <th>[CUDA memcpy HtoD] PageableDevice 0.172 GB/s</th>\n",
       "      <th>[CUDA memcpy HtoD] PinnedDevice 11.378 GB/s</th>\n",
       "      <th>[CUDA memset] Device 17166.138 GB/s</th>\n",
       "    </tr>\n",
       "    <tr>\n",
       "      <th>Start</th>\n",
       "      <th></th>\n",
       "      <th></th>\n",
       "      <th></th>\n",
       "      <th></th>\n",
       "    </tr>\n",
       "  </thead>\n",
       "  <tbody>\n",
       "    <tr>\n",
       "      <th>2.432108</th>\n",
       "      <td>0.0</td>\n",
       "      <td>0.0</td>\n",
       "      <td>0.0</td>\n",
       "      <td>17166.137695</td>\n",
       "    </tr>\n",
       "    <tr>\n",
       "      <th>2.432566</th>\n",
       "      <td>0.0</td>\n",
       "      <td>0.0</td>\n",
       "      <td>0.0</td>\n",
       "      <td>1326.851223</td>\n",
       "    </tr>\n",
       "    <tr>\n",
       "      <th>2.432649</th>\n",
       "      <td>0.0</td>\n",
       "      <td>0.0</td>\n",
       "      <td>0.0</td>\n",
       "      <td>17166.137695</td>\n",
       "    </tr>\n",
       "    <tr>\n",
       "      <th>2.433128</th>\n",
       "      <td>0.0</td>\n",
       "      <td>0.0</td>\n",
       "      <td>0.0</td>\n",
       "      <td>16156.364890</td>\n",
       "    </tr>\n",
       "    <tr>\n",
       "      <th>2.433818</th>\n",
       "      <td>0.0</td>\n",
       "      <td>0.0</td>\n",
       "      <td>0.0</td>\n",
       "      <td>8583.068848</td>\n",
       "    </tr>\n",
       "    <tr>\n",
       "      <th>2.434145</th>\n",
       "      <td>0.0</td>\n",
       "      <td>0.0</td>\n",
       "      <td>0.0</td>\n",
       "      <td>17166.137695</td>\n",
       "    </tr>\n",
       "    <tr>\n",
       "      <th>2.434749</th>\n",
       "      <td>0.0</td>\n",
       "      <td>0.0</td>\n",
       "      <td>0.0</td>\n",
       "      <td>17166.137695</td>\n",
       "    </tr>\n",
       "    <tr>\n",
       "      <th>2.435249</th>\n",
       "      <td>0.0</td>\n",
       "      <td>0.0</td>\n",
       "      <td>0.0</td>\n",
       "      <td>4039.091222</td>\n",
       "    </tr>\n",
       "    <tr>\n",
       "      <th>2.435395</th>\n",
       "      <td>0.0</td>\n",
       "      <td>0.0</td>\n",
       "      <td>0.0</td>\n",
       "      <td>4039.091222</td>\n",
       "    </tr>\n",
       "    <tr>\n",
       "      <th>2.435547</th>\n",
       "      <td>0.0</td>\n",
       "      <td>0.0</td>\n",
       "      <td>0.0</td>\n",
       "      <td>2145.767212</td>\n",
       "    </tr>\n",
       "    <tr>\n",
       "      <th>2.435632</th>\n",
       "      <td>0.0</td>\n",
       "      <td>0.0</td>\n",
       "      <td>0.0</td>\n",
       "      <td>1009.772806</td>\n",
       "    </tr>\n",
       "  </tbody>\n",
       "</table>\n",
       "</div>"
      ],
      "text/plain": [
       "          [CUDA memcpy DtoH] DevicePageable 12.456 GB/s  \\\n",
       "Start                                                     \n",
       "2.432108                                            0.0   \n",
       "2.432566                                            0.0   \n",
       "2.432649                                            0.0   \n",
       "2.433128                                            0.0   \n",
       "2.433818                                            0.0   \n",
       "2.434145                                            0.0   \n",
       "2.434749                                            0.0   \n",
       "2.435249                                            0.0   \n",
       "2.435395                                            0.0   \n",
       "2.435547                                            0.0   \n",
       "2.435632                                            0.0   \n",
       "\n",
       "          [CUDA memcpy HtoD] PageableDevice 0.172 GB/s  \\\n",
       "Start                                                    \n",
       "2.432108                                           0.0   \n",
       "2.432566                                           0.0   \n",
       "2.432649                                           0.0   \n",
       "2.433128                                           0.0   \n",
       "2.433818                                           0.0   \n",
       "2.434145                                           0.0   \n",
       "2.434749                                           0.0   \n",
       "2.435249                                           0.0   \n",
       "2.435395                                           0.0   \n",
       "2.435547                                           0.0   \n",
       "2.435632                                           0.0   \n",
       "\n",
       "          [CUDA memcpy HtoD] PinnedDevice 11.378 GB/s  \\\n",
       "Start                                                   \n",
       "2.432108                                          0.0   \n",
       "2.432566                                          0.0   \n",
       "2.432649                                          0.0   \n",
       "2.433128                                          0.0   \n",
       "2.433818                                          0.0   \n",
       "2.434145                                          0.0   \n",
       "2.434749                                          0.0   \n",
       "2.435249                                          0.0   \n",
       "2.435395                                          0.0   \n",
       "2.435547                                          0.0   \n",
       "2.435632                                          0.0   \n",
       "\n",
       "          [CUDA memset] Device 17166.138 GB/s  \n",
       "Start                                          \n",
       "2.432108                         17166.137695  \n",
       "2.432566                          1326.851223  \n",
       "2.432649                         17166.137695  \n",
       "2.433128                         16156.364890  \n",
       "2.433818                          8583.068848  \n",
       "2.434145                         17166.137695  \n",
       "2.434749                         17166.137695  \n",
       "2.435249                          4039.091222  \n",
       "2.435395                          4039.091222  \n",
       "2.435547                          2145.767212  \n",
       "2.435632                          1009.772806  "
      ]
     },
     "execution_count": 17,
     "metadata": {},
     "output_type": "execute_result"
    }
   ],
   "source": [
    "nvprof_m[nvprof_m[\"[CUDA memset] Device 17166.138 GB/s\"] > 1000]"
   ]
  },
  {
   "cell_type": "code",
   "execution_count": 18,
   "metadata": {
    "collapsed": false
   },
   "outputs": [
    {
     "data": {
      "image/png": "[encoded data removed]",
      "text/plain": [
       "<matplotlib.figure.Figure at 0x108f21750>"
      ]
     },
     "metadata": {},
     "output_type": "display_data"
    }
   ],
   "source": [
    "plt.figure()\n",
    "plt.boxplot(x_arr, 0, '', labels = names)\n",
    "plt.xticks(rotation=90)\n",
    "ax = plt.gca()\n",
    "ax.yaxis.grid(color=\"#e0e0e0\", linestyle=\":\",linewidth=0.5)\n",
    "plt.show()"
   ]
  },
  {
   "cell_type": "code",
   "execution_count": 19,
   "metadata": {
    "collapsed": false
   },
   "outputs": [],
   "source": [
    "# Drop memset column\n",
    "nvprof_n = nvprof_m.drop(nvprof_m.columns[3],axis=1)"
   ]
  },
  {
   "cell_type": "code",
   "execution_count": 20,
   "metadata": {
    "collapsed": false
   },
   "outputs": [
    {
     "data": {
      "text/html": [
       "<div>\n",
       "<style scoped>\n",
       "    .dataframe tbody tr th:only-of-type {\n",
       "        vertical-align: middle;\n",
       "    }\n",
       "\n",
       "    .dataframe tbody tr th {\n",
       "        vertical-align: top;\n",
       "    }\n",
       "\n",
       "    .dataframe thead th {\n",
       "        text-align: right;\n",
       "    }\n",
       "</style>\n",
       "<table border=\"1\" class=\"dataframe\">\n",
       "  <thead>\n",
       "    <tr style=\"text-align: right;\">\n",
       "      <th></th>\n",
       "      <th>[CUDA memcpy DtoH] DevicePageable 12.456 GB/s</th>\n",
       "      <th>[CUDA memcpy HtoD] PageableDevice 0.172 GB/s</th>\n",
       "      <th>[CUDA memcpy HtoD] PinnedDevice 11.378 GB/s</th>\n",
       "    </tr>\n",
       "    <tr>\n",
       "      <th>Start</th>\n",
       "      <th></th>\n",
       "      <th></th>\n",
       "      <th></th>\n",
       "    </tr>\n",
       "  </thead>\n",
       "  <tbody>\n",
       "    <tr>\n",
       "      <th>99.322503</th>\n",
       "      <td>0.596046</td>\n",
       "      <td>0.0</td>\n",
       "      <td>0.0</td>\n",
       "    </tr>\n",
       "    <tr>\n",
       "      <th>99.322521</th>\n",
       "      <td>0.596046</td>\n",
       "      <td>0.0</td>\n",
       "      <td>0.0</td>\n",
       "    </tr>\n",
       "    <tr>\n",
       "      <th>99.322547</th>\n",
       "      <td>12.279068</td>\n",
       "      <td>0.0</td>\n",
       "      <td>0.0</td>\n",
       "    </tr>\n",
       "  </tbody>\n",
       "</table>\n",
       "</div>"
      ],
      "text/plain": [
       "           [CUDA memcpy DtoH] DevicePageable 12.456 GB/s  \\\n",
       "Start                                                      \n",
       "99.322503                                       0.596046   \n",
       "99.322521                                       0.596046   \n",
       "99.322547                                      12.279068   \n",
       "\n",
       "           [CUDA memcpy HtoD] PageableDevice 0.172 GB/s  \\\n",
       "Start                                                     \n",
       "99.322503                                           0.0   \n",
       "99.322521                                           0.0   \n",
       "99.322547                                           0.0   \n",
       "\n",
       "           [CUDA memcpy HtoD] PinnedDevice 11.378 GB/s  \n",
       "Start                                                   \n",
       "99.322503                                          0.0  \n",
       "99.322521                                          0.0  \n",
       "99.322547                                          0.0  "
      ]
     },
     "execution_count": 20,
     "metadata": {},
     "output_type": "execute_result"
    }
   ],
   "source": [
    "nvprof_n.iloc[-3:]"
   ]
  },
  {
   "cell_type": "code",
   "execution_count": 21,
   "metadata": {
    "collapsed": false
   },
   "outputs": [
    {
     "data": {
      "image/png": "[encoded data removed]",
      "text/plain": [
       "<matplotlib.figure.Figure at 0x106456490>"
      ]
     },
     "metadata": {},
     "output_type": "display_data"
    }
   ],
   "source": [
    "plt.rcParams['figure.figsize'] = 12,8\n",
    "nvprof_n.plot()\n",
    "ax = plt.gca()\n",
    "ax.xaxis.grid(color=\"#e0e0e0\", linestyle=\":\",linewidth=0.5)\n",
    "ax.yaxis.grid(color=\"#e0e0e0\", linestyle=\":\",linewidth=0.5)\n",
    "ax.set_xlabel('Start (s)')\n",
    "ax.set_ylabel('Throughput (GB/s)')\n",
    "plt.show()"
   ]
  },
  {
   "cell_type": "markdown",
   "metadata": {},
   "source": [
    "# nvidia-smi data"
   ]
  },
  {
   "cell_type": "code",
   "execution_count": 42,
   "metadata": {
    "collapsed": false
   },
   "outputs": [
    {
     "name": "stdout",
     "output_type": "stream",
     "text": [
      "Reading nvidia-smi-chainer_mouse_combined.csv\n"
     ]
    },
    {
     "data": {
      "text/html": [
       "<div>\n",
       "<style scoped>\n",
       "    .dataframe tbody tr th:only-of-type {\n",
       "        vertical-align: middle;\n",
       "    }\n",
       "\n",
       "    .dataframe tbody tr th {\n",
       "        vertical-align: top;\n",
       "    }\n",
       "\n",
       "    .dataframe thead th {\n",
       "        text-align: right;\n",
       "    }\n",
       "</style>\n",
       "<table border=\"1\" class=\"dataframe\">\n",
       "  <thead>\n",
       "    <tr style=\"text-align: right;\">\n",
       "      <th></th>\n",
       "      <th>time nvsmi</th>\n",
       "      <th>time python</th>\n",
       "      <th>gpu</th>\n",
       "      <th>PCI sent</th>\n",
       "      <th>PCI recv</th>\n",
       "      <th>GPU util</th>\n",
       "      <th>Memory util</th>\n",
       "      <th>1045 Used Memory</th>\n",
       "      <th>29151 Used Memory</th>\n",
       "    </tr>\n",
       "  </thead>\n",
       "  <tbody>\n",
       "    <tr>\n",
       "      <th>568</th>\n",
       "      <td>Fri Feb  2 18:57:30 2018</td>\n",
       "      <td>2018-02-02 18:57:30.327860</td>\n",
       "      <td>Quadro P2000</td>\n",
       "      <td>3000 KB/s</td>\n",
       "      <td>17000 KB/s</td>\n",
       "      <td>100 %</td>\n",
       "      <td>64 %</td>\n",
       "      <td>241 MiB(1045)</td>\n",
       "      <td>4633 MiB(29151)</td>\n",
       "    </tr>\n",
       "    <tr>\n",
       "      <th>569</th>\n",
       "      <td>Fri Feb  2 18:57:30 2018</td>\n",
       "      <td>2018-02-02 18:57:30.493299</td>\n",
       "      <td>Quadro P2000</td>\n",
       "      <td>21000 KB/s</td>\n",
       "      <td>51000 KB/s</td>\n",
       "      <td>100 %</td>\n",
       "      <td>40 %</td>\n",
       "      <td>241 MiB(1045)</td>\n",
       "      <td>4633 MiB(29151)</td>\n",
       "    </tr>\n",
       "    <tr>\n",
       "      <th>570</th>\n",
       "      <td>Fri Feb  2 1</td>\n",
       "      <td>NaN</td>\n",
       "      <td>NaN</td>\n",
       "      <td>NaN</td>\n",
       "      <td>NaN</td>\n",
       "      <td>NaN</td>\n",
       "      <td>NaN</td>\n",
       "      <td>NaN</td>\n",
       "      <td>NaN</td>\n",
       "    </tr>\n",
       "  </tbody>\n",
       "</table>\n",
       "</div>"
      ],
      "text/plain": [
       "                   time nvsmi                 time python           gpu  \\\n",
       "568  Fri Feb  2 18:57:30 2018  2018-02-02 18:57:30.327860  Quadro P2000   \n",
       "569  Fri Feb  2 18:57:30 2018  2018-02-02 18:57:30.493299  Quadro P2000   \n",
       "570              Fri Feb  2 1                         NaN           NaN   \n",
       "\n",
       "       PCI sent    PCI recv GPU util Memory util 1045 Used Memory  \\\n",
       "568   3000 KB/s  17000 KB/s    100 %        64 %    241 MiB(1045)   \n",
       "569  21000 KB/s  51000 KB/s    100 %        40 %    241 MiB(1045)   \n",
       "570         NaN         NaN      NaN         NaN              NaN   \n",
       "\n",
       "     29151 Used Memory  \n",
       "568    4633 MiB(29151)  \n",
       "569    4633 MiB(29151)  \n",
       "570                NaN  "
      ]
     },
     "execution_count": 42,
     "metadata": {},
     "output_type": "execute_result"
    }
   ],
   "source": [
    "filename = nvsmi_file\n",
    "print \"Reading\",filename\n",
    "\n",
    "smi_data = pd.read_csv(filename,header=[0], skiprows=[0,1])\n",
    "smi_data.iloc[-3:]"
   ]
  },
  {
   "cell_type": "code",
   "execution_count": 43,
   "metadata": {
    "collapsed": false
   },
   "outputs": [
    {
     "data": {
      "text/html": [
       "<div>\n",
       "<style scoped>\n",
       "    .dataframe tbody tr th:only-of-type {\n",
       "        vertical-align: middle;\n",
       "    }\n",
       "\n",
       "    .dataframe tbody tr th {\n",
       "        vertical-align: top;\n",
       "    }\n",
       "\n",
       "    .dataframe thead th {\n",
       "        text-align: right;\n",
       "    }\n",
       "</style>\n",
       "<table border=\"1\" class=\"dataframe\">\n",
       "  <thead>\n",
       "    <tr style=\"text-align: right;\">\n",
       "      <th></th>\n",
       "      <th>time nvsmi</th>\n",
       "      <th>time python</th>\n",
       "      <th>gpu</th>\n",
       "      <th>PCI sent</th>\n",
       "      <th>PCI recv</th>\n",
       "      <th>GPU util</th>\n",
       "      <th>Memory util</th>\n",
       "      <th>1045 Used Memory</th>\n",
       "      <th>29151 Used Memory</th>\n",
       "    </tr>\n",
       "  </thead>\n",
       "  <tbody>\n",
       "    <tr>\n",
       "      <th>567</th>\n",
       "      <td>Fri Feb  2 18:57:29 2018</td>\n",
       "      <td>2018-02-02 18:57:30.151637</td>\n",
       "      <td>Quadro P2000</td>\n",
       "      <td>20000 KB/s</td>\n",
       "      <td>48000 KB/s</td>\n",
       "      <td>100 %</td>\n",
       "      <td>36 %</td>\n",
       "      <td>241 MiB(1045)</td>\n",
       "      <td>4633 MiB(29151)</td>\n",
       "    </tr>\n",
       "    <tr>\n",
       "      <th>568</th>\n",
       "      <td>Fri Feb  2 18:57:30 2018</td>\n",
       "      <td>2018-02-02 18:57:30.327860</td>\n",
       "      <td>Quadro P2000</td>\n",
       "      <td>3000 KB/s</td>\n",
       "      <td>17000 KB/s</td>\n",
       "      <td>100 %</td>\n",
       "      <td>64 %</td>\n",
       "      <td>241 MiB(1045)</td>\n",
       "      <td>4633 MiB(29151)</td>\n",
       "    </tr>\n",
       "    <tr>\n",
       "      <th>569</th>\n",
       "      <td>Fri Feb  2 18:57:30 2018</td>\n",
       "      <td>2018-02-02 18:57:30.493299</td>\n",
       "      <td>Quadro P2000</td>\n",
       "      <td>21000 KB/s</td>\n",
       "      <td>51000 KB/s</td>\n",
       "      <td>100 %</td>\n",
       "      <td>40 %</td>\n",
       "      <td>241 MiB(1045)</td>\n",
       "      <td>4633 MiB(29151)</td>\n",
       "    </tr>\n",
       "  </tbody>\n",
       "</table>\n",
       "</div>"
      ],
      "text/plain": [
       "                   time nvsmi                 time python           gpu  \\\n",
       "567  Fri Feb  2 18:57:29 2018  2018-02-02 18:57:30.151637  Quadro P2000   \n",
       "568  Fri Feb  2 18:57:30 2018  2018-02-02 18:57:30.327860  Quadro P2000   \n",
       "569  Fri Feb  2 18:57:30 2018  2018-02-02 18:57:30.493299  Quadro P2000   \n",
       "\n",
       "       PCI sent    PCI recv GPU util Memory util 1045 Used Memory  \\\n",
       "567  20000 KB/s  48000 KB/s    100 %        36 %    241 MiB(1045)   \n",
       "568   3000 KB/s  17000 KB/s    100 %        64 %    241 MiB(1045)   \n",
       "569  21000 KB/s  51000 KB/s    100 %        40 %    241 MiB(1045)   \n",
       "\n",
       "     29151 Used Memory  \n",
       "567    4633 MiB(29151)  \n",
       "568    4633 MiB(29151)  \n",
       "569    4633 MiB(29151)  "
      ]
     },
     "execution_count": 43,
     "metadata": {},
     "output_type": "execute_result"
    }
   ],
   "source": [
    "smi_data = smi_data[~smi_data[\"gpu\"].isnull()]\n",
    "smi_data.iloc[-3:]"
   ]
  },
  {
   "cell_type": "code",
   "execution_count": 44,
   "metadata": {
    "collapsed": false
   },
   "outputs": [
    {
     "data": {
      "text/html": [
       "<div>\n",
       "<style scoped>\n",
       "    .dataframe tbody tr th:only-of-type {\n",
       "        vertical-align: middle;\n",
       "    }\n",
       "\n",
       "    .dataframe tbody tr th {\n",
       "        vertical-align: top;\n",
       "    }\n",
       "\n",
       "    .dataframe thead th {\n",
       "        text-align: right;\n",
       "    }\n",
       "</style>\n",
       "<table border=\"1\" class=\"dataframe\">\n",
       "  <thead>\n",
       "    <tr style=\"text-align: right;\">\n",
       "      <th></th>\n",
       "      <th>time python</th>\n",
       "      <th>PCI sent</th>\n",
       "      <th>PCI recv</th>\n",
       "      <th>GPU util</th>\n",
       "      <th>Memory util</th>\n",
       "      <th>29151 Used Memory</th>\n",
       "    </tr>\n",
       "  </thead>\n",
       "  <tbody>\n",
       "    <tr>\n",
       "      <th>0</th>\n",
       "      <td>2018-02-02 18:55:56.113415</td>\n",
       "      <td>4000 KB/s</td>\n",
       "      <td>11000 KB/s</td>\n",
       "      <td>0 %</td>\n",
       "      <td>8 %</td>\n",
       "      <td>8 MiB(29151)</td>\n",
       "    </tr>\n",
       "    <tr>\n",
       "      <th>1</th>\n",
       "      <td>2018-02-02 18:55:56.274158</td>\n",
       "      <td>50000 KB/s</td>\n",
       "      <td>710000 KB/s</td>\n",
       "      <td>0 %</td>\n",
       "      <td>2 %</td>\n",
       "      <td>107 MiB(29151)</td>\n",
       "    </tr>\n",
       "    <tr>\n",
       "      <th>2</th>\n",
       "      <td>2018-02-02 18:55:56.428643</td>\n",
       "      <td>59000 KB/s</td>\n",
       "      <td>341000 KB/s</td>\n",
       "      <td>4 %</td>\n",
       "      <td>1 %</td>\n",
       "      <td>355 MiB(29151)</td>\n",
       "    </tr>\n",
       "  </tbody>\n",
       "</table>\n",
       "</div>"
      ],
      "text/plain": [
       "                  time python    PCI sent     PCI recv GPU util Memory util  \\\n",
       "0  2018-02-02 18:55:56.113415   4000 KB/s   11000 KB/s      0 %         8 %   \n",
       "1  2018-02-02 18:55:56.274158  50000 KB/s  710000 KB/s      0 %         2 %   \n",
       "2  2018-02-02 18:55:56.428643  59000 KB/s  341000 KB/s      4 %         1 %   \n",
       "\n",
       "   29151 Used Memory  \n",
       "0       8 MiB(29151)  \n",
       "1     107 MiB(29151)  \n",
       "2     355 MiB(29151)  "
      ]
     },
     "execution_count": 44,
     "metadata": {},
     "output_type": "execute_result"
    }
   ],
   "source": [
    "cols = [0,2,7]\n",
    "smi_data_s = smi_data.drop(smi_data.columns[cols],axis=1)\n",
    "smi_data_s.iloc[:3]        "
   ]
  },
  {
   "cell_type": "code",
   "execution_count": 45,
   "metadata": {
    "collapsed": true
   },
   "outputs": [],
   "source": [
    "# Parse date from readable format to seconds\n",
    "start=0\n",
    "def parseTime(date_time):\n",
    "    global start\n",
    "    if isinstance(date_time,float):\n",
    "        print date_time,\"is float\"\n",
    "        return date_time\n",
    "    dt_obj = datetime.datetime.strptime(date_time, \"%Y-%m-%d %H:%M:%S.%f\")\n",
    "    seconds = 0\n",
    "    if start == 0:\n",
    "        start = dt_obj\n",
    "    else:\n",
    "        seconds = (dt_obj - start).total_seconds()\n",
    "    return seconds"
   ]
  },
  {
   "cell_type": "code",
   "execution_count": 46,
   "metadata": {
    "collapsed": false
   },
   "outputs": [
    {
     "data": {
      "text/html": [
       "<div>\n",
       "<style scoped>\n",
       "    .dataframe tbody tr th:only-of-type {\n",
       "        vertical-align: middle;\n",
       "    }\n",
       "\n",
       "    .dataframe tbody tr th {\n",
       "        vertical-align: top;\n",
       "    }\n",
       "\n",
       "    .dataframe thead th {\n",
       "        text-align: right;\n",
       "    }\n",
       "</style>\n",
       "<table border=\"1\" class=\"dataframe\">\n",
       "  <thead>\n",
       "    <tr style=\"text-align: right;\">\n",
       "      <th></th>\n",
       "      <th>time python</th>\n",
       "      <th>PCI sent</th>\n",
       "      <th>PCI recv</th>\n",
       "      <th>GPU util</th>\n",
       "      <th>Memory util</th>\n",
       "      <th>29151 Used Memory</th>\n",
       "      <th>sec</th>\n",
       "    </tr>\n",
       "  </thead>\n",
       "  <tbody>\n",
       "    <tr>\n",
       "      <th>0</th>\n",
       "      <td>2018-02-02 18:55:56.113415</td>\n",
       "      <td>4000 KB/s</td>\n",
       "      <td>11000 KB/s</td>\n",
       "      <td>0 %</td>\n",
       "      <td>8 %</td>\n",
       "      <td>8 MiB(29151)</td>\n",
       "      <td>0.000000</td>\n",
       "    </tr>\n",
       "    <tr>\n",
       "      <th>1</th>\n",
       "      <td>2018-02-02 18:55:56.274158</td>\n",
       "      <td>50000 KB/s</td>\n",
       "      <td>710000 KB/s</td>\n",
       "      <td>0 %</td>\n",
       "      <td>2 %</td>\n",
       "      <td>107 MiB(29151)</td>\n",
       "      <td>0.160743</td>\n",
       "    </tr>\n",
       "    <tr>\n",
       "      <th>2</th>\n",
       "      <td>2018-02-02 18:55:56.428643</td>\n",
       "      <td>59000 KB/s</td>\n",
       "      <td>341000 KB/s</td>\n",
       "      <td>4 %</td>\n",
       "      <td>1 %</td>\n",
       "      <td>355 MiB(29151)</td>\n",
       "      <td>0.315228</td>\n",
       "    </tr>\n",
       "  </tbody>\n",
       "</table>\n",
       "</div>"
      ],
      "text/plain": [
       "                  time python    PCI sent     PCI recv GPU util Memory util  \\\n",
       "0  2018-02-02 18:55:56.113415   4000 KB/s   11000 KB/s      0 %         8 %   \n",
       "1  2018-02-02 18:55:56.274158  50000 KB/s  710000 KB/s      0 %         2 %   \n",
       "2  2018-02-02 18:55:56.428643  59000 KB/s  341000 KB/s      4 %         1 %   \n",
       "\n",
       "   29151 Used Memory       sec  \n",
       "0       8 MiB(29151)  0.000000  \n",
       "1     107 MiB(29151)  0.160743  \n",
       "2     355 MiB(29151)  0.315228  "
      ]
     },
     "execution_count": 46,
     "metadata": {},
     "output_type": "execute_result"
    }
   ],
   "source": [
    "smi_data_s[\"sec\"] = smi_data_s[\"time python\"].apply(parseTime)\n",
    "smi_data_s.iloc[:3]"
   ]
  },
  {
   "cell_type": "code",
   "execution_count": 47,
   "metadata": {
    "collapsed": false
   },
   "outputs": [
    {
     "data": {
      "text/html": [
       "<div>\n",
       "<style scoped>\n",
       "    .dataframe tbody tr th:only-of-type {\n",
       "        vertical-align: middle;\n",
       "    }\n",
       "\n",
       "    .dataframe tbody tr th {\n",
       "        vertical-align: top;\n",
       "    }\n",
       "\n",
       "    .dataframe thead th {\n",
       "        text-align: right;\n",
       "    }\n",
       "</style>\n",
       "<table border=\"1\" class=\"dataframe\">\n",
       "  <thead>\n",
       "    <tr style=\"text-align: right;\">\n",
       "      <th></th>\n",
       "      <th>time python</th>\n",
       "      <th>PCI sent</th>\n",
       "      <th>PCI recv</th>\n",
       "      <th>GPU util</th>\n",
       "      <th>Memory util</th>\n",
       "      <th>29151 Used Memory</th>\n",
       "      <th>sec</th>\n",
       "    </tr>\n",
       "    <tr>\n",
       "      <th>sec</th>\n",
       "      <th></th>\n",
       "      <th></th>\n",
       "      <th></th>\n",
       "      <th></th>\n",
       "      <th></th>\n",
       "      <th></th>\n",
       "      <th></th>\n",
       "    </tr>\n",
       "  </thead>\n",
       "  <tbody>\n",
       "    <tr>\n",
       "      <th>0.000000</th>\n",
       "      <td>2018-02-02 18:55:56.113415</td>\n",
       "      <td>4000 KB/s</td>\n",
       "      <td>11000 KB/s</td>\n",
       "      <td>0 %</td>\n",
       "      <td>8 %</td>\n",
       "      <td>8 MiB(29151)</td>\n",
       "      <td>0.000000</td>\n",
       "    </tr>\n",
       "    <tr>\n",
       "      <th>0.160743</th>\n",
       "      <td>2018-02-02 18:55:56.274158</td>\n",
       "      <td>50000 KB/s</td>\n",
       "      <td>710000 KB/s</td>\n",
       "      <td>0 %</td>\n",
       "      <td>2 %</td>\n",
       "      <td>107 MiB(29151)</td>\n",
       "      <td>0.160743</td>\n",
       "    </tr>\n",
       "    <tr>\n",
       "      <th>0.315228</th>\n",
       "      <td>2018-02-02 18:55:56.428643</td>\n",
       "      <td>59000 KB/s</td>\n",
       "      <td>341000 KB/s</td>\n",
       "      <td>4 %</td>\n",
       "      <td>1 %</td>\n",
       "      <td>355 MiB(29151)</td>\n",
       "      <td>0.315228</td>\n",
       "    </tr>\n",
       "  </tbody>\n",
       "</table>\n",
       "</div>"
      ],
      "text/plain": [
       "                         time python    PCI sent     PCI recv GPU util  \\\n",
       "sec                                                                      \n",
       "0.000000  2018-02-02 18:55:56.113415   4000 KB/s   11000 KB/s      0 %   \n",
       "0.160743  2018-02-02 18:55:56.274158  50000 KB/s  710000 KB/s      0 %   \n",
       "0.315228  2018-02-02 18:55:56.428643  59000 KB/s  341000 KB/s      4 %   \n",
       "\n",
       "         Memory util  29151 Used Memory       sec  \n",
       "sec                                                \n",
       "0.000000         8 %       8 MiB(29151)  0.000000  \n",
       "0.160743         2 %     107 MiB(29151)  0.160743  \n",
       "0.315228         1 %     355 MiB(29151)  0.315228  "
      ]
     },
     "execution_count": 47,
     "metadata": {},
     "output_type": "execute_result"
    }
   ],
   "source": [
    "smi_data_s.index = smi_data_s[\"sec\"]\n",
    "smi_data_s.iloc[:3]"
   ]
  },
  {
   "cell_type": "code",
   "execution_count": 48,
   "metadata": {
    "collapsed": false
   },
   "outputs": [
    {
     "data": {
      "text/html": [
       "<div>\n",
       "<style scoped>\n",
       "    .dataframe tbody tr th:only-of-type {\n",
       "        vertical-align: middle;\n",
       "    }\n",
       "\n",
       "    .dataframe tbody tr th {\n",
       "        vertical-align: top;\n",
       "    }\n",
       "\n",
       "    .dataframe thead th {\n",
       "        text-align: right;\n",
       "    }\n",
       "</style>\n",
       "<table border=\"1\" class=\"dataframe\">\n",
       "  <thead>\n",
       "    <tr style=\"text-align: right;\">\n",
       "      <th></th>\n",
       "      <th>PCI sent</th>\n",
       "      <th>PCI recv</th>\n",
       "      <th>GPU util</th>\n",
       "      <th>Memory util</th>\n",
       "      <th>29151 Used Memory</th>\n",
       "    </tr>\n",
       "    <tr>\n",
       "      <th>sec</th>\n",
       "      <th></th>\n",
       "      <th></th>\n",
       "      <th></th>\n",
       "      <th></th>\n",
       "      <th></th>\n",
       "    </tr>\n",
       "  </thead>\n",
       "  <tbody>\n",
       "    <tr>\n",
       "      <th>0.000000</th>\n",
       "      <td>4000 KB/s</td>\n",
       "      <td>11000 KB/s</td>\n",
       "      <td>0 %</td>\n",
       "      <td>8 %</td>\n",
       "      <td>8 MiB(29151)</td>\n",
       "    </tr>\n",
       "    <tr>\n",
       "      <th>0.160743</th>\n",
       "      <td>50000 KB/s</td>\n",
       "      <td>710000 KB/s</td>\n",
       "      <td>0 %</td>\n",
       "      <td>2 %</td>\n",
       "      <td>107 MiB(29151)</td>\n",
       "    </tr>\n",
       "    <tr>\n",
       "      <th>0.315228</th>\n",
       "      <td>59000 KB/s</td>\n",
       "      <td>341000 KB/s</td>\n",
       "      <td>4 %</td>\n",
       "      <td>1 %</td>\n",
       "      <td>355 MiB(29151)</td>\n",
       "    </tr>\n",
       "  </tbody>\n",
       "</table>\n",
       "</div>"
      ],
      "text/plain": [
       "            PCI sent     PCI recv GPU util Memory util  29151 Used Memory\n",
       "sec                                                                      \n",
       "0.000000   4000 KB/s   11000 KB/s      0 %         8 %       8 MiB(29151)\n",
       "0.160743  50000 KB/s  710000 KB/s      0 %         2 %     107 MiB(29151)\n",
       "0.315228  59000 KB/s  341000 KB/s      4 %         1 %     355 MiB(29151)"
      ]
     },
     "execution_count": 48,
     "metadata": {},
     "output_type": "execute_result"
    }
   ],
   "source": [
    "smi_data_s = smi_data_s.drop(smi_data_s.columns[[0,6]],axis=1)\n",
    "smi_data_s.iloc[:3]"
   ]
  },
  {
   "cell_type": "code",
   "execution_count": 49,
   "metadata": {
    "collapsed": true
   },
   "outputs": [],
   "source": [
    "pat = re.compile(\"[0-9\\.]+\")\n",
    "# Extract float number from a string\n",
    "def parseFloat(s):\n",
    "    global pat\n",
    "    if not isinstance(s,str):\n",
    "        print \"Not a string:\",s\n",
    "        return s\n",
    "    f = pat.search(s)\n",
    "    if f is not None:\n",
    "        d = float(f.group())\n",
    "        return d\n",
    "    return None"
   ]
  },
  {
   "cell_type": "code",
   "execution_count": 51,
   "metadata": {
    "collapsed": false
   },
   "outputs": [
    {
     "data": {
      "text/html": [
       "<div>\n",
       "<style scoped>\n",
       "    .dataframe tbody tr th:only-of-type {\n",
       "        vertical-align: middle;\n",
       "    }\n",
       "\n",
       "    .dataframe tbody tr th {\n",
       "        vertical-align: top;\n",
       "    }\n",
       "\n",
       "    .dataframe thead th {\n",
       "        text-align: right;\n",
       "    }\n",
       "</style>\n",
       "<table border=\"1\" class=\"dataframe\">\n",
       "  <thead>\n",
       "    <tr style=\"text-align: right;\">\n",
       "      <th></th>\n",
       "      <th>PCI sent</th>\n",
       "      <th>PCI recv</th>\n",
       "      <th>GPU util</th>\n",
       "      <th>Memory util</th>\n",
       "      <th>29151 Used Memory</th>\n",
       "    </tr>\n",
       "    <tr>\n",
       "      <th>sec</th>\n",
       "      <th></th>\n",
       "      <th></th>\n",
       "      <th></th>\n",
       "      <th></th>\n",
       "      <th></th>\n",
       "    </tr>\n",
       "  </thead>\n",
       "  <tbody>\n",
       "    <tr>\n",
       "      <th>94.038222</th>\n",
       "      <td>20000.0</td>\n",
       "      <td>48000.0</td>\n",
       "      <td>100.0</td>\n",
       "      <td>36.0</td>\n",
       "      <td>4633.0</td>\n",
       "    </tr>\n",
       "    <tr>\n",
       "      <th>94.214445</th>\n",
       "      <td>3000.0</td>\n",
       "      <td>17000.0</td>\n",
       "      <td>100.0</td>\n",
       "      <td>64.0</td>\n",
       "      <td>4633.0</td>\n",
       "    </tr>\n",
       "    <tr>\n",
       "      <th>94.379884</th>\n",
       "      <td>21000.0</td>\n",
       "      <td>51000.0</td>\n",
       "      <td>100.0</td>\n",
       "      <td>40.0</td>\n",
       "      <td>4633.0</td>\n",
       "    </tr>\n",
       "  </tbody>\n",
       "</table>\n",
       "</div>"
      ],
      "text/plain": [
       "           PCI sent  PCI recv  GPU util  Memory util   29151 Used Memory\n",
       "sec                                                                     \n",
       "94.038222   20000.0   48000.0     100.0         36.0              4633.0\n",
       "94.214445    3000.0   17000.0     100.0         64.0              4633.0\n",
       "94.379884   21000.0   51000.0     100.0         40.0              4633.0"
      ]
     },
     "execution_count": 51,
     "metadata": {},
     "output_type": "execute_result"
    }
   ],
   "source": [
    "smi_data_t = smi_data_s.applymap(parseFloat)\n",
    "smi_data_t.iloc[-3:]"
   ]
  },
  {
   "cell_type": "code",
   "execution_count": 54,
   "metadata": {
    "collapsed": false
   },
   "outputs": [
    {
     "data": {
      "text/html": [
       "<div>\n",
       "<style scoped>\n",
       "    .dataframe tbody tr th:only-of-type {\n",
       "        vertical-align: middle;\n",
       "    }\n",
       "\n",
       "    .dataframe tbody tr th {\n",
       "        vertical-align: top;\n",
       "    }\n",
       "\n",
       "    .dataframe thead th {\n",
       "        text-align: right;\n",
       "    }\n",
       "</style>\n",
       "<table border=\"1\" class=\"dataframe\">\n",
       "  <thead>\n",
       "    <tr style=\"text-align: right;\">\n",
       "      <th></th>\n",
       "      <th>PCI sent</th>\n",
       "      <th>PCI recv</th>\n",
       "      <th>GPU util</th>\n",
       "      <th>Memory util</th>\n",
       "      <th>29151 Used Memory</th>\n",
       "    </tr>\n",
       "    <tr>\n",
       "      <th>sec</th>\n",
       "      <th></th>\n",
       "      <th></th>\n",
       "      <th></th>\n",
       "      <th></th>\n",
       "      <th></th>\n",
       "    </tr>\n",
       "  </thead>\n",
       "  <tbody>\n",
       "    <tr>\n",
       "      <th>0.000000</th>\n",
       "      <td>4000.0</td>\n",
       "      <td>11000.0</td>\n",
       "      <td>0.0</td>\n",
       "      <td>8.0</td>\n",
       "      <td>8.0</td>\n",
       "    </tr>\n",
       "    <tr>\n",
       "      <th>0.160743</th>\n",
       "      <td>50000.0</td>\n",
       "      <td>710000.0</td>\n",
       "      <td>0.0</td>\n",
       "      <td>2.0</td>\n",
       "      <td>107.0</td>\n",
       "    </tr>\n",
       "    <tr>\n",
       "      <th>0.315228</th>\n",
       "      <td>59000.0</td>\n",
       "      <td>341000.0</td>\n",
       "      <td>4.0</td>\n",
       "      <td>1.0</td>\n",
       "      <td>355.0</td>\n",
       "    </tr>\n",
       "  </tbody>\n",
       "</table>\n",
       "</div>"
      ],
      "text/plain": [
       "          PCI sent  PCI recv  GPU util  Memory util   29151 Used Memory\n",
       "sec                                                                    \n",
       "0.000000    4000.0   11000.0       0.0          8.0                 8.0\n",
       "0.160743   50000.0  710000.0       0.0          2.0               107.0\n",
       "0.315228   59000.0  341000.0       4.0          1.0               355.0"
      ]
     },
     "execution_count": 54,
     "metadata": {},
     "output_type": "execute_result"
    }
   ],
   "source": [
    "smi_data_t.iloc[:3]"
   ]
  },
  {
   "cell_type": "code",
   "execution_count": 53,
   "metadata": {
    "collapsed": false
   },
   "outputs": [
    {
     "data": {
      "text/html": [
       "<div>\n",
       "<style scoped>\n",
       "    .dataframe tbody tr th:only-of-type {\n",
       "        vertical-align: middle;\n",
       "    }\n",
       "\n",
       "    .dataframe tbody tr th {\n",
       "        vertical-align: top;\n",
       "    }\n",
       "\n",
       "    .dataframe thead th {\n",
       "        text-align: right;\n",
       "    }\n",
       "</style>\n",
       "<table border=\"1\" class=\"dataframe\">\n",
       "  <thead>\n",
       "    <tr style=\"text-align: right;\">\n",
       "      <th></th>\n",
       "      <th>GPU util</th>\n",
       "      <th>Memory util</th>\n",
       "    </tr>\n",
       "    <tr>\n",
       "      <th>sec</th>\n",
       "      <th></th>\n",
       "      <th></th>\n",
       "    </tr>\n",
       "  </thead>\n",
       "  <tbody>\n",
       "    <tr>\n",
       "      <th>0.000000</th>\n",
       "      <td>0.0</td>\n",
       "      <td>8.0</td>\n",
       "    </tr>\n",
       "    <tr>\n",
       "      <th>0.160743</th>\n",
       "      <td>0.0</td>\n",
       "      <td>2.0</td>\n",
       "    </tr>\n",
       "    <tr>\n",
       "      <th>0.315228</th>\n",
       "      <td>4.0</td>\n",
       "      <td>1.0</td>\n",
       "    </tr>\n",
       "  </tbody>\n",
       "</table>\n",
       "</div>"
      ],
      "text/plain": [
       "          GPU util  Memory util\n",
       "sec                            \n",
       "0.000000       0.0          8.0\n",
       "0.160743       0.0          2.0\n",
       "0.315228       4.0          1.0"
      ]
     },
     "execution_count": 53,
     "metadata": {},
     "output_type": "execute_result"
    }
   ],
   "source": [
    "smi_MB = smi_data_t.ix[:,2:4]\n",
    "smi_MB.iloc[:3]"
   ]
  },
  {
   "cell_type": "code",
   "execution_count": 59,
   "metadata": {
    "collapsed": false
   },
   "outputs": [
    {
     "data": {
      "image/png": "[encoded data removed]",
      "text/plain": [
       "<matplotlib.figure.Figure at 0x108e9f690>"
      ]
     },
     "metadata": {},
     "output_type": "display_data"
    }
   ],
   "source": [
    "plt.rcParams['figure.figsize'] = 16,12\n",
    "fig, axarr = plt.subplots(3,sharex=True)\n",
    "smi_data_t.ix[:,0:2].plot(ax = axarr[0])\n",
    "smi_data_t.ix[:,2:4].plot(ax = axarr[1])\n",
    "smi_data_t.ix[:,4:].plot(ax = axarr[2])\n",
    "axarr[0].yaxis.grid(color=\"#e0e0e0\", linestyle=\":\",linewidth=0.5)\n",
    "axarr[1].yaxis.grid(color=\"#e0e0e0\", linestyle=\":\",linewidth=0.5)\n",
    "axarr[2].yaxis.grid(color=\"#e0e0e0\", linestyle=\":\",linewidth=0.5)\n",
    "axarr[0].xaxis.grid(color=\"#e0e0e0\", linestyle=\":\",linewidth=0.5)\n",
    "axarr[1].xaxis.grid(color=\"#e0e0e0\", linestyle=\":\",linewidth=0.5)\n",
    "axarr[2].xaxis.grid(color=\"#e0e0e0\", linestyle=\":\",linewidth=0.5)"
   ]
  },
  {
   "cell_type": "code",
   "execution_count": null,
   "metadata": {
    "collapsed": true
   },
   "outputs": [],
   "source": []
  }
 ],
 "metadata": {
  "kernelspec": {
   "display_name": "Python 2",
   "language": "python",
   "name": "python2"
  },
  "language_info": {
   "codemirror_mode": {
    "name": "ipython",
    "version": 2
   },
   "file_extension": ".py",
   "mimetype": "text/x-python",
   "name": "python",
   "nbconvert_exporter": "python",
   "pygments_lexer": "ipython2",
   "version": "2.7.12"
  }
 },
 "nbformat": 4,
 "nbformat_minor": 1
}

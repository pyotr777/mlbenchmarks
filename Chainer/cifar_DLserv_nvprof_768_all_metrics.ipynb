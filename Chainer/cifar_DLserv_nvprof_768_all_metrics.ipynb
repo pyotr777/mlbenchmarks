{
 "cells": [
  {
   "cell_type": "markdown",
   "metadata": {},
   "source": [
    "# Analyse Chainer CIFAR nvprof metrics"
   ]
  },
  {
   "cell_type": "code",
   "execution_count": 4,
   "metadata": {},
   "outputs": [],
   "source": [
    "%matplotlib inline\n",
    "import re\n",
    "import numpy as np\n",
    "import matplotlib\n",
    "import matplotlib.pyplot as plt\n",
    "from matplotlib import cm\n",
    "import pandas as pd\n",
    "import subprocess\n",
    "import os\n",
    "import seaborn as sns"
   ]
  },
  {
   "cell_type": "code",
   "execution_count": 5,
   "metadata": {},
   "outputs": [],
   "source": [
    "log_file=\"cifar_DLserv_nvprof_768_all_metrics.csv\""
   ]
  },
  {
   "cell_type": "code",
   "execution_count": 42,
   "metadata": {},
   "outputs": [],
   "source": [
    "DF = pd.read_csv(log_file,skiprows=5)"
   ]
  },
  {
   "cell_type": "code",
   "execution_count": 49,
   "metadata": {},
   "outputs": [
    {
     "data": {
      "text/html": [
       "<div>\n",
       "<style scoped>\n",
       "    .dataframe tbody tr th:only-of-type {\n",
       "        vertical-align: middle;\n",
       "    }\n",
       "\n",
       "    .dataframe tbody tr th {\n",
       "        vertical-align: top;\n",
       "    }\n",
       "\n",
       "    .dataframe thead th {\n",
       "        text-align: right;\n",
       "    }\n",
       "</style>\n",
       "<table border=\"1\" class=\"dataframe\">\n",
       "  <thead>\n",
       "    <tr style=\"text-align: right;\">\n",
       "      <th></th>\n",
       "      <th>Device</th>\n",
       "      <th>Kernel</th>\n",
       "      <th>Invocations</th>\n",
       "      <th>Metric Name</th>\n",
       "      <th>Metric Description</th>\n",
       "      <th>Min</th>\n",
       "      <th>Max</th>\n",
       "      <th>Avg</th>\n",
       "    </tr>\n",
       "  </thead>\n",
       "  <tbody>\n",
       "    <tr>\n",
       "      <th>0</th>\n",
       "      <td>GeForce GTX TITAN X (0)</td>\n",
       "      <td>sgemm_32x32x32_TN_vec</td>\n",
       "      <td>66</td>\n",
       "      <td>sm_efficiency</td>\n",
       "      <td>Multiprocessor Activity</td>\n",
       "      <td>75.539221%</td>\n",
       "      <td>83.004431%</td>\n",
       "      <td>80.768809%</td>\n",
       "    </tr>\n",
       "    <tr>\n",
       "      <th>1</th>\n",
       "      <td>GeForce GTX TITAN X (0)</td>\n",
       "      <td>sgemm_32x32x32_TN_vec</td>\n",
       "      <td>66</td>\n",
       "      <td>achieved_occupancy</td>\n",
       "      <td>Achieved Occupancy</td>\n",
       "      <td>0.150672</td>\n",
       "      <td>0.159779</td>\n",
       "      <td>0.156116</td>\n",
       "    </tr>\n",
       "    <tr>\n",
       "      <th>2</th>\n",
       "      <td>GeForce GTX TITAN X (0)</td>\n",
       "      <td>sgemm_32x32x32_TN_vec</td>\n",
       "      <td>66</td>\n",
       "      <td>ipc</td>\n",
       "      <td>Executed IPC</td>\n",
       "      <td>2.673548</td>\n",
       "      <td>3.232274</td>\n",
       "      <td>2.941572</td>\n",
       "    </tr>\n",
       "    <tr>\n",
       "      <th>3</th>\n",
       "      <td>GeForce GTX TITAN X (0)</td>\n",
       "      <td>sgemm_32x32x32_TN_vec</td>\n",
       "      <td>66</td>\n",
       "      <td>issued_ipc</td>\n",
       "      <td>Issued IPC</td>\n",
       "      <td>2.651608</td>\n",
       "      <td>3.185459</td>\n",
       "      <td>2.973647</td>\n",
       "    </tr>\n",
       "    <tr>\n",
       "      <th>4</th>\n",
       "      <td>GeForce GTX TITAN X (0)</td>\n",
       "      <td>sgemm_32x32x32_TN_vec</td>\n",
       "      <td>66</td>\n",
       "      <td>inst_per_warp</td>\n",
       "      <td>Instructions per warp</td>\n",
       "      <td>7629.000000</td>\n",
       "      <td>7629.000000</td>\n",
       "      <td>7629.000000</td>\n",
       "    </tr>\n",
       "  </tbody>\n",
       "</table>\n",
       "</div>"
      ],
      "text/plain": [
       "                    Device                 Kernel  Invocations  \\\n",
       "0  GeForce GTX TITAN X (0)  sgemm_32x32x32_TN_vec           66   \n",
       "1  GeForce GTX TITAN X (0)  sgemm_32x32x32_TN_vec           66   \n",
       "2  GeForce GTX TITAN X (0)  sgemm_32x32x32_TN_vec           66   \n",
       "3  GeForce GTX TITAN X (0)  sgemm_32x32x32_TN_vec           66   \n",
       "4  GeForce GTX TITAN X (0)  sgemm_32x32x32_TN_vec           66   \n",
       "\n",
       "          Metric Name       Metric Description          Min          Max  \\\n",
       "0       sm_efficiency  Multiprocessor Activity   75.539221%   83.004431%   \n",
       "1  achieved_occupancy       Achieved Occupancy     0.150672     0.159779   \n",
       "2                 ipc             Executed IPC     2.673548     3.232274   \n",
       "3          issued_ipc               Issued IPC     2.651608     3.185459   \n",
       "4       inst_per_warp    Instructions per warp  7629.000000  7629.000000   \n",
       "\n",
       "           Avg  \n",
       "0   80.768809%  \n",
       "1     0.156116  \n",
       "2     2.941572  \n",
       "3     2.973647  \n",
       "4  7629.000000  "
      ]
     },
     "execution_count": 49,
     "metadata": {},
     "output_type": "execute_result"
    }
   ],
   "source": [
    "DF.head()"
   ]
  },
  {
   "cell_type": "code",
   "execution_count": 52,
   "metadata": {},
   "outputs": [
    {
     "name": "stdout",
     "output_type": "stream",
     "text": [
      "['0' '393216' '122683392' '2359296']\n"
     ]
    }
   ],
   "source": [
    "dp_count = DF[DF[\"Metric Name\"] == \"flop_count_dp\"]\n",
    "print dp_count[\"Max\"].unique()"
   ]
  },
  {
   "cell_type": "code",
   "execution_count": 68,
   "metadata": {
    "scrolled": false
   },
   "outputs": [
    {
     "data": {
      "text/html": [
       "<div>\n",
       "<style scoped>\n",
       "    .dataframe tbody tr th:only-of-type {\n",
       "        vertical-align: middle;\n",
       "    }\n",
       "\n",
       "    .dataframe tbody tr th {\n",
       "        vertical-align: top;\n",
       "    }\n",
       "\n",
       "    .dataframe thead th {\n",
       "        text-align: right;\n",
       "    }\n",
       "</style>\n",
       "<table border=\"1\" class=\"dataframe\">\n",
       "  <thead>\n",
       "    <tr style=\"text-align: right;\">\n",
       "      <th></th>\n",
       "      <th>Device</th>\n",
       "      <th>Kernel</th>\n",
       "      <th>Invocations</th>\n",
       "      <th>Metric Name</th>\n",
       "      <th>Max</th>\n",
       "      <th>Avg</th>\n",
       "      <th>Min</th>\n",
       "    </tr>\n",
       "  </thead>\n",
       "  <tbody>\n",
       "    <tr>\n",
       "      <th>0</th>\n",
       "      <td>GeForce GTX TITAN X (0)</td>\n",
       "      <td>void cudnn::detail::bn_bw_1CHW_kernel_new&lt;floa...</td>\n",
       "      <td>66</td>\n",
       "      <td>flop_count_dp</td>\n",
       "      <td>393216</td>\n",
       "      <td>393216</td>\n",
       "      <td>393216</td>\n",
       "    </tr>\n",
       "    <tr>\n",
       "      <th>1</th>\n",
       "      <td>GeForce GTX TITAN X (0)</td>\n",
       "      <td>void gen_sequenced&lt;curandStateXORWOW, double2,...</td>\n",
       "      <td>15</td>\n",
       "      <td>flop_count_dp</td>\n",
       "      <td>122683392</td>\n",
       "      <td>52082534</td>\n",
       "      <td>89856</td>\n",
       "    </tr>\n",
       "    <tr>\n",
       "      <th>2</th>\n",
       "      <td>GeForce GTX TITAN X (0)</td>\n",
       "      <td>cupy_add</td>\n",
       "      <td>339</td>\n",
       "      <td>flop_count_dp</td>\n",
       "      <td>2359296</td>\n",
       "      <td>44318</td>\n",
       "      <td>0</td>\n",
       "    </tr>\n",
       "    <tr>\n",
       "      <th>3</th>\n",
       "      <td>GeForce GTX TITAN X (0)</td>\n",
       "      <td>cupy_multiply</td>\n",
       "      <td>903</td>\n",
       "      <td>flop_count_dp</td>\n",
       "      <td>2359296</td>\n",
       "      <td>16637</td>\n",
       "      <td>0</td>\n",
       "    </tr>\n",
       "  </tbody>\n",
       "</table>\n",
       "</div>"
      ],
      "text/plain": [
       "                    Device                                             Kernel  \\\n",
       "0  GeForce GTX TITAN X (0)  void cudnn::detail::bn_bw_1CHW_kernel_new<floa...   \n",
       "1  GeForce GTX TITAN X (0)  void gen_sequenced<curandStateXORWOW, double2,...   \n",
       "2  GeForce GTX TITAN X (0)                                           cupy_add   \n",
       "3  GeForce GTX TITAN X (0)                                      cupy_multiply   \n",
       "\n",
       "   Invocations    Metric Name        Max       Avg     Min  \n",
       "0           66  flop_count_dp     393216    393216  393216  \n",
       "1           15  flop_count_dp  122683392  52082534   89856  \n",
       "2          339  flop_count_dp    2359296     44318       0  \n",
       "3          903  flop_count_dp    2359296     16637       0  "
      ]
     },
     "execution_count": 68,
     "metadata": {},
     "output_type": "execute_result"
    }
   ],
   "source": [
    "dp_count = dp_count[pd.to_numeric(dp_count[\"Max\"]) > 0]\n",
    "dp_count.reset_index(inplace=True)\n",
    "dp_count[[\"Device\",\"Kernel\",\"Invocations\",\"Metric Name\",\"Max\",\"Avg\",\"Min\"]]"
   ]
  },
  {
   "cell_type": "code",
   "execution_count": null,
   "metadata": {},
   "outputs": [],
   "source": []
  }
 ],
 "metadata": {
  "kernelspec": {
   "display_name": "Python 2",
   "language": "python",
   "name": "python2"
  },
  "language_info": {
   "codemirror_mode": {
    "name": "ipython",
    "version": 2
   },
   "file_extension": ".py",
   "mimetype": "text/x-python",
   "name": "python",
   "nbconvert_exporter": "python",
   "pygments_lexer": "ipython2",
   "version": "2.7.11"
  }
 },
 "nbformat": 4,
 "nbformat_minor": 2
}

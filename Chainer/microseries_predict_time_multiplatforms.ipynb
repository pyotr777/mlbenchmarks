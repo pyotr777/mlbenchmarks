{
 "cells": [
  {
   "cell_type": "markdown",
   "metadata": {},
   "source": [
    "# Predict time \n",
    "## from minibatch size and GPU parameters\n",
    "### Goal: predict one epoch time from batch size and platform parameters using Random Forest model"
   ]
  },
  {
   "cell_type": "code",
   "execution_count": 28,
   "metadata": {},
   "outputs": [],
   "source": [
    "%matplotlib inline\n",
    "import re\n",
    "import numpy as np\n",
    "import matplotlib\n",
    "import matplotlib.pyplot as plt\n",
    "from matplotlib import cm\n",
    "import pandas as pd\n",
    "import subprocess, os\n",
    "from sklearn.ensemble import RandomForestRegressor\n",
    "from sklearn.metrics import mean_squared_error\n",
    "from sklearn.model_selection import train_test_split"
   ]
  },
  {
   "cell_type": "code",
   "execution_count": 29,
   "metadata": {},
   "outputs": [
    {
     "name": "stdout",
     "output_type": "stream",
     "text": [
      "\u001b[1m\u001b[36mGTX_TITAN_X\u001b[m\u001b[m \u001b[1m\u001b[36mK80\u001b[m\u001b[m         \u001b[1m\u001b[36mQuadroP2000\u001b[m\u001b[m\r\n"
     ]
    }
   ],
   "source": [
    "!ls logs/microseries/"
   ]
  },
  {
   "cell_type": "code",
   "execution_count": 60,
   "metadata": {},
   "outputs": [],
   "source": [
    "batch_learn_pattern = re.compile(r\"^b\\s*(\\d+)\\s+l\\s*([0-9\\.]+)\")\n",
    "output_pattern = re.compile(r\"^(\\d+)\\s+([0-9\\.]+)\\s+([0-9\\.]+)\\s+([0-9\\.]+)\\s+([0-9\\.]+)\\s+([0-9\\.]+)\")\n",
    "remove_str=\"\u001b[J\"\n",
    "\n",
    "\n",
    "# Read minibatch size and 1st epoch time from files.\n",
    "# Store in a DataFrame.\n",
    "def fileToDF(logfile, debug=False):\n",
    "    global batch_learn_pattern\n",
    "    global output_pattern\n",
    "    global remove_str\n",
    "    logfile = logfile.strip(\" \\n\")\n",
    "    with open(logfile,\"r\") as f:\n",
    "        lines = f.readlines()\n",
    "        batch = 0\n",
    "        time = 0\n",
    "        epoch = 0\n",
    "        ind = 0 # DataFrame row numebr (index)\n",
    "        df = pd.DataFrame(data=None,columns=[\"batch\",\"learn\",\"epoch\",\"time\"])\n",
    "        for line in lines:\n",
    "            s = line.strip(' \\n')\n",
    "            s = s.replace(remove_str,\"\")\n",
    "            if debug: print s,\n",
    "            m = batch_learn_pattern.match(s)\n",
    "            if m:\n",
    "                batch = int(m.group(1))\n",
    "                learn = float(m.group(2))\n",
    "                if debug: print \"BS,LR:\",batch,learn\n",
    "            else:\n",
    "                m2 = output_pattern.match(s)\n",
    "                if m2:\n",
    "                    epoch = int(m2.group(1))\n",
    "                    time = float(m2.group(6))\n",
    "                    if debug: print \"BS,LR,epoch,time:\",batch,learn,epoch,time\n",
    "                    df.loc[ind] = [batch,learn,epoch,time]\n",
    "                    ind += 1\n",
    "                    \n",
    "    return df"
   ]
  },
  {
   "cell_type": "code",
   "execution_count": 63,
   "metadata": {},
   "outputs": [],
   "source": [
    "filename_pattern=re.compile(r\"cifar_.*\\.log\")\n",
    "\n",
    "def readLogs(logdir, debug=False):\n",
    "    global filename_pattern\n",
    "    list_command = \"ls -1 \"+logdir\n",
    "    files=[]\n",
    "    proc = subprocess.Popen(list_command.split(\" \"),\n",
    "                         stdout=subprocess.PIPE,stderr=subprocess.STDOUT)\n",
    "    maxfiles = 5\n",
    "    for line in iter(proc.stdout.readline,b''):\n",
    "        line = line.strip(\" \\n\")\n",
    "        m = filename_pattern.match(line)\n",
    "        if m:\n",
    "            files.append(os.path.abspath(os.path.join(logdir,line)))\n",
    "            \n",
    "    #if debug: print \"files:\",files\n",
    "    df = pd.DataFrame(data=None,columns=[\"batch\",\"learn\",\"epoch\",\"time\"])\n",
    "\n",
    "    filecounter=0\n",
    "    for file in files:\n",
    "        if debug: print file\n",
    "        df1 = fileToDF(file,debug)\n",
    "        if len(df1) > 0:\n",
    "            df = pd.concat([df,df1],ignore_index=True)\n",
    "        filecounter +=1\n",
    "        if filecounter>=maxfiles:\n",
    "            return df\n",
    "    return df"
   ]
  },
  {
   "cell_type": "code",
   "execution_count": 58,
   "metadata": {},
   "outputs": [
    {
     "data": {
      "text/html": [
       "<div>\n",
       "<style scoped>\n",
       "    .dataframe tbody tr th:only-of-type {\n",
       "        vertical-align: middle;\n",
       "    }\n",
       "\n",
       "    .dataframe tbody tr th {\n",
       "        vertical-align: top;\n",
       "    }\n",
       "\n",
       "    .dataframe thead th {\n",
       "        text-align: right;\n",
       "    }\n",
       "</style>\n",
       "<table border=\"1\" class=\"dataframe\">\n",
       "  <thead>\n",
       "    <tr style=\"text-align: right;\">\n",
       "      <th></th>\n",
       "      <th>batch</th>\n",
       "      <th>learn</th>\n",
       "      <th>epoch</th>\n",
       "      <th>time</th>\n",
       "    </tr>\n",
       "  </thead>\n",
       "  <tbody>\n",
       "    <tr>\n",
       "      <th>0</th>\n",
       "      <td>121.0</td>\n",
       "      <td>0.15</td>\n",
       "      <td>1.0</td>\n",
       "      <td>173.415</td>\n",
       "    </tr>\n",
       "    <tr>\n",
       "      <th>1</th>\n",
       "      <td>121.0</td>\n",
       "      <td>0.15</td>\n",
       "      <td>1.0</td>\n",
       "      <td>172.304</td>\n",
       "    </tr>\n",
       "    <tr>\n",
       "      <th>2</th>\n",
       "      <td>121.0</td>\n",
       "      <td>0.15</td>\n",
       "      <td>1.0</td>\n",
       "      <td>172.877</td>\n",
       "    </tr>\n",
       "    <tr>\n",
       "      <th>3</th>\n",
       "      <td>121.0</td>\n",
       "      <td>0.15</td>\n",
       "      <td>1.0</td>\n",
       "      <td>172.658</td>\n",
       "    </tr>\n",
       "    <tr>\n",
       "      <th>4</th>\n",
       "      <td>121.0</td>\n",
       "      <td>0.15</td>\n",
       "      <td>1.0</td>\n",
       "      <td>172.778</td>\n",
       "    </tr>\n",
       "  </tbody>\n",
       "</table>\n",
       "</div>"
      ],
      "text/plain": [
       "   batch  learn  epoch     time\n",
       "0  121.0   0.15    1.0  173.415\n",
       "1  121.0   0.15    1.0  172.304\n",
       "2  121.0   0.15    1.0  172.877\n",
       "3  121.0   0.15    1.0  172.658\n",
       "4  121.0   0.15    1.0  172.778"
      ]
     },
     "execution_count": 58,
     "metadata": {},
     "output_type": "execute_result"
    }
   ],
   "source": [
    "df_mouse=readLogs(\"logs/microseries/QuadroP2000\")\n",
    "df_DLsrv=readLogs(\"logs/microseries/GTX_TITAN_X\")\n"
   ]
  },
  {
   "cell_type": "code",
   "execution_count": 71,
   "metadata": {},
   "outputs": [],
   "source": [
    "def readLogsK80(logdir, debug=False):\n",
    "    global filename_pattern    \n",
    "    \n",
    "    list_command = \"ls -1 \"+logdir\n",
    "    files=[]\n",
    "    proc = subprocess.Popen(list_command.split(\" \"),\n",
    "                         stdout=subprocess.PIPE,stderr=subprocess.STDOUT)\n",
    "    if debug: maxfiles = 5\n",
    "    else: maxfiles = 100000000\n",
    "    for line in iter(proc.stdout.readline,b''):\n",
    "        line = line.strip(\" \\n\")\n",
    "        m = filename_pattern.match(line)\n",
    "        if m:\n",
    "            files.append(os.path.abspath(os.path.join(logdir,line)))\n",
    "            \n",
    "    #if debug: print \"files:\",files\n",
    "    df = pd.DataFrame(data=None,columns=[\"batch\",\"learn\",\"epoch\",\"time\"])\n",
    "\n",
    "    filecounter=0\n",
    "    for file in files:\n",
    "        if debug: print file\n",
    "        df1 = fileToDF_K80(file,debug)\n",
    "        if len(df1) > 0:\n",
    "            df = pd.concat([df,df1],ignore_index=True)\n",
    "        filecounter +=1\n",
    "        if filecounter>=maxfiles:\n",
    "            return df\n",
    "    return df\n",
    "\n",
    "# Read minibatch size and 1st epoch time from files.\n",
    "# Store in a DataFrame.\n",
    "def fileToDF_K80(logfile, debug=False):\n",
    "    batch_learn_pattern = \"_b(\\d+)_l([0-9\\.]+)\"\n",
    "    global output_pattern\n",
    "    remove_str = [\"\u001b[4A\",\"\u001b[J\"]\n",
    "    logfile = logfile.strip(\" \\n\")\n",
    "    filename = os.path.basename(logfile)\n",
    "    if debug: print \"FILE\",filename\n",
    "    batch = 0\n",
    "    learn = 0\n",
    "    m = re.search(batch_learn_pattern, filename)\n",
    "    if m:\n",
    "        batch = int(m.group(1))\n",
    "        learn = float(m.group(2))\n",
    "        if debug: print \"BS,LR:\",batch,learn\n",
    "\n",
    "    with open(logfile,\"r\") as f:\n",
    "        lines = f.readlines()\n",
    "        time = 0\n",
    "        epoch = 0\n",
    "        ind = 0 # DataFrame row numebr (index)\n",
    "        df = pd.DataFrame(data=None,columns=[\"batch\",\"learn\",\"epoch\",\"time\"])\n",
    "        for line in lines:\n",
    "            s = line.strip(' \\n')\n",
    "            for rmstr in remove_str:\n",
    "                s = s.replace(rmstr,\"\")            \n",
    "            m2 = output_pattern.match(s)\n",
    "            if m2:\n",
    "                if debug: print s,\n",
    "                epoch = int(m2.group(1))\n",
    "                time = float(m2.group(6))\n",
    "                if debug: print \"BS,LR,epoch,time:\",batch,learn,epoch,time\n",
    "                df.loc[ind] = [batch,learn,epoch,time]\n",
    "                ind += 1\n",
    "                    \n",
    "    return df"
   ]
  },
  {
   "cell_type": "code",
   "execution_count": 73,
   "metadata": {},
   "outputs": [
    {
     "data": {
      "text/html": [
       "<div>\n",
       "<style scoped>\n",
       "    .dataframe tbody tr th:only-of-type {\n",
       "        vertical-align: middle;\n",
       "    }\n",
       "\n",
       "    .dataframe tbody tr th {\n",
       "        vertical-align: top;\n",
       "    }\n",
       "\n",
       "    .dataframe thead th {\n",
       "        text-align: right;\n",
       "    }\n",
       "</style>\n",
       "<table border=\"1\" class=\"dataframe\">\n",
       "  <thead>\n",
       "    <tr style=\"text-align: right;\">\n",
       "      <th></th>\n",
       "      <th>batch</th>\n",
       "      <th>learn</th>\n",
       "      <th>epoch</th>\n",
       "      <th>time</th>\n",
       "    </tr>\n",
       "  </thead>\n",
       "  <tbody>\n",
       "    <tr>\n",
       "      <th>count</th>\n",
       "      <td>266.000000</td>\n",
       "      <td>2.660000e+02</td>\n",
       "      <td>266.0</td>\n",
       "      <td>266.000000</td>\n",
       "    </tr>\n",
       "    <tr>\n",
       "      <th>mean</th>\n",
       "      <td>466.210526</td>\n",
       "      <td>1.500000e-01</td>\n",
       "      <td>1.0</td>\n",
       "      <td>169.938150</td>\n",
       "    </tr>\n",
       "    <tr>\n",
       "      <th>std</th>\n",
       "      <td>244.284911</td>\n",
       "      <td>2.780790e-17</td>\n",
       "      <td>0.0</td>\n",
       "      <td>17.175434</td>\n",
       "    </tr>\n",
       "    <tr>\n",
       "      <th>min</th>\n",
       "      <td>65.000000</td>\n",
       "      <td>1.500000e-01</td>\n",
       "      <td>1.0</td>\n",
       "      <td>87.221800</td>\n",
       "    </tr>\n",
       "    <tr>\n",
       "      <th>25%</th>\n",
       "      <td>246.000000</td>\n",
       "      <td>1.500000e-01</td>\n",
       "      <td>1.0</td>\n",
       "      <td>172.636000</td>\n",
       "    </tr>\n",
       "    <tr>\n",
       "      <th>50%</th>\n",
       "      <td>453.500000</td>\n",
       "      <td>1.500000e-01</td>\n",
       "      <td>1.0</td>\n",
       "      <td>173.322500</td>\n",
       "    </tr>\n",
       "    <tr>\n",
       "      <th>75%</th>\n",
       "      <td>683.000000</td>\n",
       "      <td>1.500000e-01</td>\n",
       "      <td>1.0</td>\n",
       "      <td>174.097500</td>\n",
       "    </tr>\n",
       "    <tr>\n",
       "      <th>max</th>\n",
       "      <td>895.000000</td>\n",
       "      <td>1.500000e-01</td>\n",
       "      <td>1.0</td>\n",
       "      <td>181.592000</td>\n",
       "    </tr>\n",
       "  </tbody>\n",
       "</table>\n",
       "</div>"
      ],
      "text/plain": [
       "            batch         learn  epoch        time\n",
       "count  266.000000  2.660000e+02  266.0  266.000000\n",
       "mean   466.210526  1.500000e-01    1.0  169.938150\n",
       "std    244.284911  2.780790e-17    0.0   17.175434\n",
       "min     65.000000  1.500000e-01    1.0   87.221800\n",
       "25%    246.000000  1.500000e-01    1.0  172.636000\n",
       "50%    453.500000  1.500000e-01    1.0  173.322500\n",
       "75%    683.000000  1.500000e-01    1.0  174.097500\n",
       "max    895.000000  1.500000e-01    1.0  181.592000"
      ]
     },
     "execution_count": 73,
     "metadata": {},
     "output_type": "execute_result"
    }
   ],
   "source": [
    "df_K80=readLogsK80(\"logs/microseries/K80\")\n",
    "df_K80.describe()"
   ]
  },
  {
   "cell_type": "code",
   "execution_count": 74,
   "metadata": {},
   "outputs": [
    {
     "data": {
      "text/plain": [
       "<matplotlib.axes._subplots.AxesSubplot at 0x10c581d50>"
      ]
     },
     "execution_count": 74,
     "metadata": {},
     "output_type": "execute_result"
    },
    {
     "data": {
      "image/png": "[encoded data removed]",
      "text/plain": [
       "<matplotlib.figure.Figure at 0x10c4aa7d0>"
      ]
     },
     "metadata": {},
     "output_type": "display_data"
    }
   ],
   "source": [
    "df_K80.plot(kind=\"scatter\",x=\"batch\",y=\"time\")"
   ]
  },
  {
   "cell_type": "code",
   "execution_count": 75,
   "metadata": {},
   "outputs": [
    {
     "name": "stdout",
     "output_type": "stream",
     "text": [
      "(961, 4)\n",
      "(800, 4)\n",
      "(266, 4)\n"
     ]
    }
   ],
   "source": [
    "print df_DLsrv.shape\n",
    "print df_mouse.shape\n",
    "print df_K80.shape"
   ]
  },
  {
   "cell_type": "code",
   "execution_count": 76,
   "metadata": {},
   "outputs": [
    {
     "data": {
      "text/html": [
       "<div>\n",
       "<style scoped>\n",
       "    .dataframe tbody tr th:only-of-type {\n",
       "        vertical-align: middle;\n",
       "    }\n",
       "\n",
       "    .dataframe tbody tr th {\n",
       "        vertical-align: top;\n",
       "    }\n",
       "\n",
       "    .dataframe thead th {\n",
       "        text-align: right;\n",
       "    }\n",
       "</style>\n",
       "<table border=\"1\" class=\"dataframe\">\n",
       "  <thead>\n",
       "    <tr style=\"text-align: right;\">\n",
       "      <th></th>\n",
       "      <th>GPU model</th>\n",
       "      <th>CUDA ver</th>\n",
       "      <th>CUDA Cap</th>\n",
       "      <th>CUDA cores</th>\n",
       "      <th>L2 size(MB)</th>\n",
       "      <th>SP (GFLOPS)</th>\n",
       "      <th>DP (GFLOPS)</th>\n",
       "      <th>Mem (GB)</th>\n",
       "      <th>Mband (GB/s)</th>\n",
       "    </tr>\n",
       "  </thead>\n",
       "  <tbody>\n",
       "    <tr>\n",
       "      <th>0</th>\n",
       "      <td>GTX TITAN X</td>\n",
       "      <td>9.0</td>\n",
       "      <td>5.2</td>\n",
       "      <td>3072</td>\n",
       "      <td>3.145728</td>\n",
       "      <td>6144</td>\n",
       "      <td>192.0</td>\n",
       "      <td>12.288</td>\n",
       "      <td>336</td>\n",
       "    </tr>\n",
       "    <tr>\n",
       "      <th>1</th>\n",
       "      <td>QuadroP2000</td>\n",
       "      <td>9.0</td>\n",
       "      <td>6.1</td>\n",
       "      <td>1024</td>\n",
       "      <td>1.310720</td>\n",
       "      <td>3000</td>\n",
       "      <td>94.7</td>\n",
       "      <td>5.000</td>\n",
       "      <td>140</td>\n",
       "    </tr>\n",
       "    <tr>\n",
       "      <th>2</th>\n",
       "      <td>K80</td>\n",
       "      <td>9.0</td>\n",
       "      <td>3.7</td>\n",
       "      <td>2496</td>\n",
       "      <td>1.572864</td>\n",
       "      <td>8736</td>\n",
       "      <td>2912.0</td>\n",
       "      <td>12.288</td>\n",
       "      <td>240</td>\n",
       "    </tr>\n",
       "  </tbody>\n",
       "</table>\n",
       "</div>"
      ],
      "text/plain": [
       "     GPU model  CUDA ver  CUDA Cap  CUDA cores  L2 size(MB)  SP (GFLOPS)  \\\n",
       "0  GTX TITAN X       9.0       5.2        3072     3.145728         6144   \n",
       "1  QuadroP2000       9.0       6.1        1024     1.310720         3000   \n",
       "2          K80       9.0       3.7        2496     1.572864         8736   \n",
       "\n",
       "   DP (GFLOPS)  Mem (GB)  Mband (GB/s)  \n",
       "0        192.0    12.288           336  \n",
       "1         94.7     5.000           140  \n",
       "2       2912.0    12.288           240  "
      ]
     },
     "execution_count": 76,
     "metadata": {},
     "output_type": "execute_result"
    }
   ],
   "source": [
    "GPUs_df = pd.DataFrame(columns=[\"GPU model\",\"CUDA ver\",\"CUDA Cap\",\"CUDA cores\",\"L2 size(MB)\",\"SP (GFLOPS)\",\"DP (GFLOPS)\",\"Mem (GB)\",\"Mband (GB/s)\"],\n",
    "                           data = [[\"GTX TITAN X\",     9.0,       5.2,        3072,     3.145728,         6144,          192,    12.288,           336],\n",
    "                                   [\"QuadroP2000\",     9.0,       6.1,        1024,     1.310720,         3000,         94.7,         5,           140],\n",
    "                                   [        \"K80\",     9.0,       3.7,        2496,     1.572864,         8736,         2912,    12.288,           240]])\n",
    "GPUs_df.head()   "
   ]
  },
  {
   "cell_type": "code",
   "execution_count": 77,
   "metadata": {},
   "outputs": [
    {
     "name": "stdout",
     "output_type": "stream",
     "text": [
      "(961, 3)\n"
     ]
    },
    {
     "data": {
      "text/html": [
       "<div>\n",
       "<style scoped>\n",
       "    .dataframe tbody tr th:only-of-type {\n",
       "        vertical-align: middle;\n",
       "    }\n",
       "\n",
       "    .dataframe tbody tr th {\n",
       "        vertical-align: top;\n",
       "    }\n",
       "\n",
       "    .dataframe thead th {\n",
       "        text-align: right;\n",
       "    }\n",
       "</style>\n",
       "<table border=\"1\" class=\"dataframe\">\n",
       "  <thead>\n",
       "    <tr style=\"text-align: right;\">\n",
       "      <th></th>\n",
       "      <th>batch</th>\n",
       "      <th>time</th>\n",
       "      <th>GPU</th>\n",
       "    </tr>\n",
       "  </thead>\n",
       "  <tbody>\n",
       "    <tr>\n",
       "      <th>0</th>\n",
       "      <td>101.0</td>\n",
       "      <td>90.3823</td>\n",
       "      <td>QuadroP2000</td>\n",
       "    </tr>\n",
       "    <tr>\n",
       "      <th>1</th>\n",
       "      <td>101.0</td>\n",
       "      <td>90.4984</td>\n",
       "      <td>QuadroP2000</td>\n",
       "    </tr>\n",
       "    <tr>\n",
       "      <th>2</th>\n",
       "      <td>102.0</td>\n",
       "      <td>90.1218</td>\n",
       "      <td>QuadroP2000</td>\n",
       "    </tr>\n",
       "    <tr>\n",
       "      <th>3</th>\n",
       "      <td>103.0</td>\n",
       "      <td>90.1364</td>\n",
       "      <td>QuadroP2000</td>\n",
       "    </tr>\n",
       "    <tr>\n",
       "      <th>4</th>\n",
       "      <td>104.0</td>\n",
       "      <td>90.1099</td>\n",
       "      <td>QuadroP2000</td>\n",
       "    </tr>\n",
       "  </tbody>\n",
       "</table>\n",
       "</div>"
      ],
      "text/plain": [
       "   batch     time          GPU\n",
       "0  101.0  90.3823  QuadroP2000\n",
       "1  101.0  90.4984  QuadroP2000\n",
       "2  102.0  90.1218  QuadroP2000\n",
       "3  103.0  90.1364  QuadroP2000\n",
       "4  104.0  90.1099  QuadroP2000"
      ]
     },
     "execution_count": 77,
     "metadata": {},
     "output_type": "execute_result"
    }
   ],
   "source": [
    "df_DLsrv[\"GPU\"] = \"GTX TITAN X\" # Single precision peak GFLOPS for GTX TITAN X\n",
    "df_mouse[\"GPU\"] = \"QuadroP2000\"\n",
    "df_K80[\"GPU\"] = \"K80\"\n",
    "df_DLsrv.drop([\"learn\",\"epoch\"],axis=1,inplace=True)\n",
    "df_mouse.drop([\"learn\",\"epoch\"],axis=1,inplace=True)\n",
    "df_K80.drop([\"learn\",\"epoch\"],axis=1,inplace=True)\n",
    "print df_DLsrv.shape\n",
    "df_mouse.head()"
   ]
  },
  {
   "cell_type": "code",
   "execution_count": 78,
   "metadata": {},
   "outputs": [
    {
     "data": {
      "text/html": [
       "<div>\n",
       "<style scoped>\n",
       "    .dataframe tbody tr th:only-of-type {\n",
       "        vertical-align: middle;\n",
       "    }\n",
       "\n",
       "    .dataframe tbody tr th {\n",
       "        vertical-align: top;\n",
       "    }\n",
       "\n",
       "    .dataframe thead th {\n",
       "        text-align: right;\n",
       "    }\n",
       "</style>\n",
       "<table border=\"1\" class=\"dataframe\">\n",
       "  <thead>\n",
       "    <tr style=\"text-align: right;\">\n",
       "      <th></th>\n",
       "      <th>batch</th>\n",
       "      <th>time</th>\n",
       "      <th>GPU</th>\n",
       "    </tr>\n",
       "  </thead>\n",
       "  <tbody>\n",
       "    <tr>\n",
       "      <th>0</th>\n",
       "      <td>1000.0</td>\n",
       "      <td>24.4252</td>\n",
       "      <td>GTX TITAN X</td>\n",
       "    </tr>\n",
       "    <tr>\n",
       "      <th>1</th>\n",
       "      <td>1001.0</td>\n",
       "      <td>24.4108</td>\n",
       "      <td>GTX TITAN X</td>\n",
       "    </tr>\n",
       "    <tr>\n",
       "      <th>2</th>\n",
       "      <td>1002.0</td>\n",
       "      <td>24.4341</td>\n",
       "      <td>GTX TITAN X</td>\n",
       "    </tr>\n",
       "    <tr>\n",
       "      <th>3</th>\n",
       "      <td>1003.0</td>\n",
       "      <td>24.7236</td>\n",
       "      <td>GTX TITAN X</td>\n",
       "    </tr>\n",
       "    <tr>\n",
       "      <th>4</th>\n",
       "      <td>1004.0</td>\n",
       "      <td>25.0943</td>\n",
       "      <td>GTX TITAN X</td>\n",
       "    </tr>\n",
       "  </tbody>\n",
       "</table>\n",
       "</div>"
      ],
      "text/plain": [
       "    batch     time          GPU\n",
       "0  1000.0  24.4252  GTX TITAN X\n",
       "1  1001.0  24.4108  GTX TITAN X\n",
       "2  1002.0  24.4341  GTX TITAN X\n",
       "3  1003.0  24.7236  GTX TITAN X\n",
       "4  1004.0  25.0943  GTX TITAN X"
      ]
     },
     "execution_count": 78,
     "metadata": {},
     "output_type": "execute_result"
    }
   ],
   "source": [
    "df_DLsrv.head()"
   ]
  },
  {
   "cell_type": "code",
   "execution_count": 79,
   "metadata": {},
   "outputs": [
    {
     "data": {
      "text/html": [
       "<div>\n",
       "<style scoped>\n",
       "    .dataframe tbody tr th:only-of-type {\n",
       "        vertical-align: middle;\n",
       "    }\n",
       "\n",
       "    .dataframe tbody tr th {\n",
       "        vertical-align: top;\n",
       "    }\n",
       "\n",
       "    .dataframe thead th {\n",
       "        text-align: right;\n",
       "    }\n",
       "</style>\n",
       "<table border=\"1\" class=\"dataframe\">\n",
       "  <thead>\n",
       "    <tr style=\"text-align: right;\">\n",
       "      <th></th>\n",
       "      <th>batch</th>\n",
       "      <th>time</th>\n",
       "      <th>GPU</th>\n",
       "      <th>CUDA ver</th>\n",
       "      <th>CUDA Cap</th>\n",
       "      <th>CUDA cores</th>\n",
       "      <th>L2 size(MB)</th>\n",
       "      <th>SP (GFLOPS)</th>\n",
       "      <th>DP (GFLOPS)</th>\n",
       "      <th>Mem (GB)</th>\n",
       "      <th>Mband (GB/s)</th>\n",
       "    </tr>\n",
       "  </thead>\n",
       "  <tbody>\n",
       "    <tr>\n",
       "      <th>1761</th>\n",
       "      <td>101.0</td>\n",
       "      <td>174.921</td>\n",
       "      <td>K80</td>\n",
       "      <td>9.0</td>\n",
       "      <td>3.7</td>\n",
       "      <td>2496</td>\n",
       "      <td>1.572864</td>\n",
       "      <td>8736</td>\n",
       "      <td>2912.0</td>\n",
       "      <td>12.288</td>\n",
       "      <td>240</td>\n",
       "    </tr>\n",
       "    <tr>\n",
       "      <th>1762</th>\n",
       "      <td>104.0</td>\n",
       "      <td>173.678</td>\n",
       "      <td>K80</td>\n",
       "      <td>9.0</td>\n",
       "      <td>3.7</td>\n",
       "      <td>2496</td>\n",
       "      <td>1.572864</td>\n",
       "      <td>8736</td>\n",
       "      <td>2912.0</td>\n",
       "      <td>12.288</td>\n",
       "      <td>240</td>\n",
       "    </tr>\n",
       "    <tr>\n",
       "      <th>1763</th>\n",
       "      <td>105.0</td>\n",
       "      <td>179.941</td>\n",
       "      <td>K80</td>\n",
       "      <td>9.0</td>\n",
       "      <td>3.7</td>\n",
       "      <td>2496</td>\n",
       "      <td>1.572864</td>\n",
       "      <td>8736</td>\n",
       "      <td>2912.0</td>\n",
       "      <td>12.288</td>\n",
       "      <td>240</td>\n",
       "    </tr>\n",
       "    <tr>\n",
       "      <th>1764</th>\n",
       "      <td>110.0</td>\n",
       "      <td>181.592</td>\n",
       "      <td>K80</td>\n",
       "      <td>9.0</td>\n",
       "      <td>3.7</td>\n",
       "      <td>2496</td>\n",
       "      <td>1.572864</td>\n",
       "      <td>8736</td>\n",
       "      <td>2912.0</td>\n",
       "      <td>12.288</td>\n",
       "      <td>240</td>\n",
       "    </tr>\n",
       "    <tr>\n",
       "      <th>1765</th>\n",
       "      <td>112.0</td>\n",
       "      <td>179.857</td>\n",
       "      <td>K80</td>\n",
       "      <td>9.0</td>\n",
       "      <td>3.7</td>\n",
       "      <td>2496</td>\n",
       "      <td>1.572864</td>\n",
       "      <td>8736</td>\n",
       "      <td>2912.0</td>\n",
       "      <td>12.288</td>\n",
       "      <td>240</td>\n",
       "    </tr>\n",
       "  </tbody>\n",
       "</table>\n",
       "</div>"
      ],
      "text/plain": [
       "      batch     time  GPU  CUDA ver  CUDA Cap  CUDA cores  L2 size(MB)  \\\n",
       "1761  101.0  174.921  K80       9.0       3.7        2496     1.572864   \n",
       "1762  104.0  173.678  K80       9.0       3.7        2496     1.572864   \n",
       "1763  105.0  179.941  K80       9.0       3.7        2496     1.572864   \n",
       "1764  110.0  181.592  K80       9.0       3.7        2496     1.572864   \n",
       "1765  112.0  179.857  K80       9.0       3.7        2496     1.572864   \n",
       "\n",
       "      SP (GFLOPS)  DP (GFLOPS)  Mem (GB)  Mband (GB/s)  \n",
       "1761         8736       2912.0    12.288           240  \n",
       "1762         8736       2912.0    12.288           240  \n",
       "1763         8736       2912.0    12.288           240  \n",
       "1764         8736       2912.0    12.288           240  \n",
       "1765         8736       2912.0    12.288           240  "
      ]
     },
     "execution_count": 79,
     "metadata": {},
     "output_type": "execute_result"
    }
   ],
   "source": [
    "# SQL-like join\n",
    "mdf = pd.concat([df_DLsrv,df_mouse,df_K80],ignore_index=True)\n",
    "GPUs_df.rename({\"GPU model\":\"GPU\"},axis=\"columns\",inplace=True)\n",
    "df = pd.merge(mdf,GPUs_df,on=\"GPU\")\n",
    "df[df[\"GPU\"]==\"K80\"].head()"
   ]
  },
  {
   "cell_type": "code",
   "execution_count": 80,
   "metadata": {},
   "outputs": [
    {
     "data": {
      "text/plain": [
       "<matplotlib.axes._subplots.AxesSubplot at 0x10c5e6510>"
      ]
     },
     "execution_count": 80,
     "metadata": {},
     "output_type": "execute_result"
    },
    {
     "data": {
      "image/png": "[encoded data removed]",
      "text/plain": [
       "<matplotlib.figure.Figure at 0x10c5c97d0>"
      ]
     },
     "metadata": {},
     "output_type": "display_data"
    }
   ],
   "source": [
    "df.plot(kind=\"scatter\",x=\"batch\",y=\"time\",c=\"SP (GFLOPS)\",grid=True,alpha=0.3,colormap=\"winter\")"
   ]
  },
  {
   "cell_type": "code",
   "execution_count": 81,
   "metadata": {},
   "outputs": [
    {
     "name": "stdout",
     "output_type": "stream",
     "text": [
      "(2027, 11)\n"
     ]
    },
    {
     "data": {
      "text/html": [
       "<div>\n",
       "<style scoped>\n",
       "    .dataframe tbody tr th:only-of-type {\n",
       "        vertical-align: middle;\n",
       "    }\n",
       "\n",
       "    .dataframe tbody tr th {\n",
       "        vertical-align: top;\n",
       "    }\n",
       "\n",
       "    .dataframe thead th {\n",
       "        text-align: right;\n",
       "    }\n",
       "</style>\n",
       "<table border=\"1\" class=\"dataframe\">\n",
       "  <thead>\n",
       "    <tr style=\"text-align: right;\">\n",
       "      <th></th>\n",
       "      <th>batch</th>\n",
       "      <th>SP (GFLOPS)</th>\n",
       "    </tr>\n",
       "  </thead>\n",
       "  <tbody>\n",
       "    <tr>\n",
       "      <th>0</th>\n",
       "      <td>1000.0</td>\n",
       "      <td>6144</td>\n",
       "    </tr>\n",
       "    <tr>\n",
       "      <th>1</th>\n",
       "      <td>1001.0</td>\n",
       "      <td>6144</td>\n",
       "    </tr>\n",
       "    <tr>\n",
       "      <th>2</th>\n",
       "      <td>1002.0</td>\n",
       "      <td>6144</td>\n",
       "    </tr>\n",
       "    <tr>\n",
       "      <th>3</th>\n",
       "      <td>1003.0</td>\n",
       "      <td>6144</td>\n",
       "    </tr>\n",
       "    <tr>\n",
       "      <th>4</th>\n",
       "      <td>1004.0</td>\n",
       "      <td>6144</td>\n",
       "    </tr>\n",
       "  </tbody>\n",
       "</table>\n",
       "</div>"
      ],
      "text/plain": [
       "    batch  SP (GFLOPS)\n",
       "0  1000.0         6144\n",
       "1  1001.0         6144\n",
       "2  1002.0         6144\n",
       "3  1003.0         6144\n",
       "4  1004.0         6144"
      ]
     },
     "execution_count": 81,
     "metadata": {},
     "output_type": "execute_result"
    }
   ],
   "source": [
    "print df.shape\n",
    "df[[\"batch\",\"SP (GFLOPS)\"]].head()"
   ]
  },
  {
   "cell_type": "code",
   "execution_count": 82,
   "metadata": {},
   "outputs": [],
   "source": [
    "X = df[[\"batch\",\"SP (GFLOPS)\",\"Mem (GB)\",\"Mband (GB/s)\", \"CUDA Cap\", \"CUDA cores\", \"L2 size(MB)\"]].values\n",
    "Y = df[\"time\"].values"
   ]
  },
  {
   "cell_type": "code",
   "execution_count": 83,
   "metadata": {},
   "outputs": [
    {
     "data": {
      "image/png": "[encoded data removed]",
      "text/plain": [
       "<matplotlib.figure.Figure at 0x10c60dd90>"
      ]
     },
     "metadata": {},
     "output_type": "display_data"
    }
   ],
   "source": [
    "fig = plt.scatter(x=X[:,0],y=Y,c=X[:,1],s=2,alpha=0.3,cmap=\"winter\")\n",
    "plt.grid(linestyle=\":\",alpha=0.3)\n",
    "plt.show()"
   ]
  },
  {
   "cell_type": "code",
   "execution_count": 84,
   "metadata": {},
   "outputs": [
    {
     "data": {
      "text/plain": [
       "(202, 7)"
      ]
     },
     "execution_count": 84,
     "metadata": {},
     "output_type": "execute_result"
    }
   ],
   "source": [
    "# Create training and test sets.\n",
    "X_train, X_test, Y_train, Y_test = train_test_split(\n",
    "    X, Y, test_size=0.9, shuffle = True)\n",
    "\n",
    "X_train.shape"
   ]
  },
  {
   "cell_type": "code",
   "execution_count": 85,
   "metadata": {},
   "outputs": [
    {
     "data": {
      "image/png": "[encoded data removed]",
      "text/plain": [
       "<matplotlib.figure.Figure at 0x10c71b410>"
      ]
     },
     "metadata": {},
     "output_type": "display_data"
    }
   ],
   "source": [
    "f, axarr = plt.subplots(2, sharex=True,figsize=(10,8))\n",
    "sc0 = axarr[0].scatter(x=X_train[:,0],y=Y_train,c=X_train[:,1],s=3,alpha=0.5,cmap=\"winter\")\n",
    "sc1 = axarr[1].scatter(x=X_test[:,0],y=Y_test,c=X_test[:,1],s=3,alpha=0.5,cmap=\"winter\")\n",
    "axarr[0].set_title(\"training set\")\n",
    "axarr[1].set_title(\"test set\")\n",
    "axarr[0].grid()\n",
    "axarr[1].grid()\n",
    "plt.colorbar(sc0,ax=axarr[0])\n",
    "plt.colorbar(sc1,ax=axarr[1])\n",
    "plt.show()"
   ]
  },
  {
   "cell_type": "code",
   "execution_count": 86,
   "metadata": {},
   "outputs": [],
   "source": [
    "# Fit Random Forest\n",
    "clf = RandomForestRegressor(n_estimators=50)\n",
    "clf = clf.fit(X_train,Y_train)"
   ]
  },
  {
   "cell_type": "code",
   "execution_count": 87,
   "metadata": {},
   "outputs": [],
   "source": [
    "H_test = clf.predict(X_test)"
   ]
  },
  {
   "cell_type": "code",
   "execution_count": 88,
   "metadata": {},
   "outputs": [
    {
     "data": {
      "text/plain": [
       "50.457099644485623"
      ]
     },
     "execution_count": 88,
     "metadata": {},
     "output_type": "execute_result"
    }
   ],
   "source": [
    "mean_squared_error(Y_test, H_test)"
   ]
  },
  {
   "cell_type": "code",
   "execution_count": 89,
   "metadata": {},
   "outputs": [
    {
     "data": {
      "text/plain": [
       "0.85962733641640754"
      ]
     },
     "execution_count": 89,
     "metadata": {},
     "output_type": "execute_result"
    }
   ],
   "source": [
    "H_train = clf.predict(X_train)\n",
    "mean_squared_error(Y_train, H_train)"
   ]
  },
  {
   "cell_type": "code",
   "execution_count": 90,
   "metadata": {},
   "outputs": [
    {
     "data": {
      "text/html": [
       "<div>\n",
       "<style scoped>\n",
       "    .dataframe tbody tr th:only-of-type {\n",
       "        vertical-align: middle;\n",
       "    }\n",
       "\n",
       "    .dataframe tbody tr th {\n",
       "        vertical-align: top;\n",
       "    }\n",
       "\n",
       "    .dataframe thead th {\n",
       "        text-align: right;\n",
       "    }\n",
       "</style>\n",
       "<table border=\"1\" class=\"dataframe\">\n",
       "  <thead>\n",
       "    <tr style=\"text-align: right;\">\n",
       "      <th></th>\n",
       "      <th>batch</th>\n",
       "      <th>time</th>\n",
       "      <th>GPU</th>\n",
       "      <th>CUDA ver</th>\n",
       "      <th>CUDA Cap</th>\n",
       "      <th>CUDA cores</th>\n",
       "      <th>L2 size(MB)</th>\n",
       "      <th>SP (GFLOPS)</th>\n",
       "      <th>DP (GFLOPS)</th>\n",
       "      <th>Mem (GB)</th>\n",
       "      <th>Mband (GB/s)</th>\n",
       "    </tr>\n",
       "  </thead>\n",
       "  <tbody>\n",
       "    <tr>\n",
       "      <th>325</th>\n",
       "      <td>400.0</td>\n",
       "      <td>26.9757</td>\n",
       "      <td>GTX TITAN X</td>\n",
       "      <td>9.0</td>\n",
       "      <td>5.2</td>\n",
       "      <td>3072</td>\n",
       "      <td>3.145728</td>\n",
       "      <td>6144</td>\n",
       "      <td>192.0</td>\n",
       "      <td>12.288</td>\n",
       "      <td>336</td>\n",
       "    </tr>\n",
       "    <tr>\n",
       "      <th>1247</th>\n",
       "      <td>400.0</td>\n",
       "      <td>49.2610</td>\n",
       "      <td>QuadroP2000</td>\n",
       "      <td>9.0</td>\n",
       "      <td>6.1</td>\n",
       "      <td>1024</td>\n",
       "      <td>1.310720</td>\n",
       "      <td>3000</td>\n",
       "      <td>94.7</td>\n",
       "      <td>5.000</td>\n",
       "      <td>140</td>\n",
       "    </tr>\n",
       "  </tbody>\n",
       "</table>\n",
       "</div>"
      ],
      "text/plain": [
       "      batch     time          GPU  CUDA ver  CUDA Cap  CUDA cores  \\\n",
       "325   400.0  26.9757  GTX TITAN X       9.0       5.2        3072   \n",
       "1247  400.0  49.2610  QuadroP2000       9.0       6.1        1024   \n",
       "\n",
       "      L2 size(MB)  SP (GFLOPS)  DP (GFLOPS)  Mem (GB)  Mband (GB/s)  \n",
       "325      3.145728         6144        192.0    12.288           336  \n",
       "1247     1.310720         3000         94.7     5.000           140  "
      ]
     },
     "execution_count": 90,
     "metadata": {},
     "output_type": "execute_result"
    }
   ],
   "source": [
    "df[df[\"batch\"] == 400]"
   ]
  },
  {
   "cell_type": "code",
   "execution_count": 97,
   "metadata": {},
   "outputs": [
    {
     "name": "stdout",
     "output_type": "stream",
     "text": [
      "400.0,6144.0,12.288,336.0,5.2,3072.0,3.145728\n",
      "400.0,3000.0,5.0,140.0,6.1,1024.0,1.31072\n"
     ]
    }
   ],
   "source": [
    "test = df.loc[df[\"batch\"] == 400][[\"batch\",\"SP (GFLOPS)\",\"Mem (GB)\",\"Mband (GB/s)\", \"CUDA Cap\", \"CUDA cores\", \"L2 size(MB)\"]].values\n",
    "\n",
    "print \",\".join(map(str,test[0]))\n",
    "print \",\".join(map(str,test[1]))"
   ]
  },
  {
   "cell_type": "code",
   "execution_count": 94,
   "metadata": {},
   "outputs": [
    {
     "data": {
      "text/plain": [
       "array([ 25.789316,  49.338988])"
      ]
     },
     "execution_count": 94,
     "metadata": {},
     "output_type": "execute_result"
    }
   ],
   "source": [
    "clf.predict(test)"
   ]
  },
  {
   "cell_type": "code",
   "execution_count": 93,
   "metadata": {},
   "outputs": [
    {
     "data": {
      "text/plain": [
       "array([ 25.789316])"
      ]
     },
     "execution_count": 93,
     "metadata": {},
     "output_type": "execute_result"
    }
   ],
   "source": [
    "clf.predict([[400.,6144,12.288,336,5.2,3072,3.145728]])"
   ]
  },
  {
   "cell_type": "code",
   "execution_count": 99,
   "metadata": {},
   "outputs": [
    {
     "data": {
      "text/plain": [
       "array([ 44.140338])"
      ]
     },
     "execution_count": 99,
     "metadata": {},
     "output_type": "execute_result"
    }
   ],
   "source": [
    "clf.predict([[400.0,6000.0,5.0,140.0,6.1,1024.0,1.31072]]) # Несуществующее устройство :)"
   ]
  },
  {
   "cell_type": "code",
   "execution_count": null,
   "metadata": {},
   "outputs": [],
   "source": []
  }
 ],
 "metadata": {
  "kernelspec": {
   "display_name": "Python 2",
   "language": "python",
   "name": "python2"
  },
  "language_info": {
   "codemirror_mode": {
    "name": "ipython",
    "version": 2
   },
   "file_extension": ".py",
   "mimetype": "text/x-python",
   "name": "python",
   "nbconvert_exporter": "python",
   "pygments_lexer": "ipython2",
   "version": "2.7.11"
  }
 },
 "nbformat": 4,
 "nbformat_minor": 2
}

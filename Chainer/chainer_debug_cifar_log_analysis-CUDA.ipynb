{
 "cells": [
  {
   "cell_type": "markdown",
   "metadata": {},
   "source": [
    "# Analyse Chainer CIFAR100 performance at cuda.py\n",
    "\n",
    "### Inspect log files"
   ]
  },
  {
   "cell_type": "code",
   "execution_count": 1,
   "metadata": {},
   "outputs": [],
   "source": [
    "%matplotlib inline\n",
    "import re\n",
    "import numpy as np\n",
    "import matplotlib\n",
    "import matplotlib.pyplot as plt\n",
    "import os.path\n",
    "import datetime\n",
    "from cycler import cycler\n",
    "import pandas as pd"
   ]
  },
  {
   "cell_type": "code",
   "execution_count": 176,
   "metadata": {},
   "outputs": [
    {
     "name": "stdout",
     "output_type": "stream",
     "text": [
      "chainer_timings_K80_b128e1.log\r\n",
      "chainer_timings_k80_b64e1.log\r\n",
      "chainer_timings_mouse_b128e1.log\r\n",
      "chainer_timings_mouse_b64e1.log\r\n",
      "chainer_timings_mouse_convert_b128e1.log\r\n",
      "chainer_timings_mouse_convert_b64e1.log\r\n",
      "chainer_timings_mouse_cuda_b64e1.log\r\n"
     ]
    }
   ],
   "source": [
    "!ls *.log"
   ]
  },
  {
   "cell_type": "code",
   "execution_count": 200,
   "metadata": {},
   "outputs": [
    {
     "name": "stdout",
     "output_type": "stream",
     "text": [
      "Reading chainer_timings_mouse_convert_b32e1.log\n"
     ]
    },
    {
     "data": {
      "text/html": [
       "<div>\n",
       "<style scoped>\n",
       "    .dataframe tbody tr th:only-of-type {\n",
       "        vertical-align: middle;\n",
       "    }\n",
       "\n",
       "    .dataframe tbody tr th {\n",
       "        vertical-align: top;\n",
       "    }\n",
       "\n",
       "    .dataframe thead th {\n",
       "        text-align: right;\n",
       "    }\n",
       "</style>\n",
       "<table border=\"1\" class=\"dataframe\">\n",
       "  <thead>\n",
       "    <tr style=\"text-align: right;\">\n",
       "      <th></th>\n",
       "      <th>Address</th>\n",
       "      <th>Parameter</th>\n",
       "      <th>Value</th>\n",
       "    </tr>\n",
       "  </thead>\n",
       "  <tbody>\n",
       "    <tr>\n",
       "      <th>0</th>\n",
       "      <td>convert.py/to_device</td>\n",
       "      <td>x.nbytes</td>\n",
       "      <td>393216</td>\n",
       "    </tr>\n",
       "    <tr>\n",
       "      <th>1</th>\n",
       "      <td>convert.py/to_device_393216</td>\n",
       "      <td>x.shape</td>\n",
       "      <td>(32: 3: 32: 32)</td>\n",
       "    </tr>\n",
       "    <tr>\n",
       "      <th>2</th>\n",
       "      <td>convert.py/to_device_393216</td>\n",
       "      <td>point1_delta (s)</td>\n",
       "      <td>0.001114</td>\n",
       "    </tr>\n",
       "    <tr>\n",
       "      <th>3</th>\n",
       "      <td>convert.py/to_device_393216</td>\n",
       "      <td>point1_delta2(s)</td>\n",
       "      <td>0.001118</td>\n",
       "    </tr>\n",
       "    <tr>\n",
       "      <th>4</th>\n",
       "      <td>convert.py/to_device</td>\n",
       "      <td>x.nbytes</td>\n",
       "      <td>128</td>\n",
       "    </tr>\n",
       "  </tbody>\n",
       "</table>\n",
       "</div>"
      ],
      "text/plain": [
       "                       Address         Parameter            Value\n",
       "0         convert.py/to_device          x.nbytes           393216\n",
       "1  convert.py/to_device_393216           x.shape  (32: 3: 32: 32)\n",
       "2  convert.py/to_device_393216  point1_delta (s)         0.001114\n",
       "3  convert.py/to_device_393216  point1_delta2(s)         0.001118\n",
       "4         convert.py/to_device          x.nbytes              128"
      ]
     },
     "execution_count": 200,
     "metadata": {},
     "output_type": "execute_result"
    }
   ],
   "source": [
    "filename=\"chainer_timings_mouse_convert_b32e1.log\"\n",
    "print \"Reading\",filename\n",
    "log_data = pd.read_csv(filename,header=[0], skiprows=[0])\n",
    "log_data.iloc[:5]"
   ]
  },
  {
   "cell_type": "code",
   "execution_count": 201,
   "metadata": {},
   "outputs": [],
   "source": [
    "def my_replace(s):\n",
    "    s = str.replace(s,\"convert.py/to_device_\",\"\")\n",
    "    return s\n",
    "\n",
    "def replaceString(df, column):\n",
    "    return pd.concat([df.drop(column, axis=1), df[column].apply(my_replace)], axis=1)"
   ]
  },
  {
   "cell_type": "code",
   "execution_count": 202,
   "metadata": {},
   "outputs": [],
   "source": [
    "pat = re.compile(\"[0-9\\.]+\")\n",
    "# Extract float number from a string\n",
    "def parseFloat(s):\n",
    "    if type(s) is not str:\n",
    "        print type(s)\n",
    "        return None\n",
    "    global pat\n",
    "    f = pat.search(s)\n",
    "    if f is not None:\n",
    "        d = float(f.group())\n",
    "        return d\n",
    "    return None"
   ]
  },
  {
   "cell_type": "code",
   "execution_count": 203,
   "metadata": {},
   "outputs": [],
   "source": [
    "def apply_inplace(df, field, fun):\n",
    "    return pd.concat([df.drop(field, axis=1), df[field].apply(fun)], axis=1) "
   ]
  },
  {
   "cell_type": "code",
   "execution_count": 204,
   "metadata": {},
   "outputs": [
    {
     "data": {
      "text/html": [
       "<div>\n",
       "<style scoped>\n",
       "    .dataframe tbody tr th:only-of-type {\n",
       "        vertical-align: middle;\n",
       "    }\n",
       "\n",
       "    .dataframe tbody tr th {\n",
       "        vertical-align: top;\n",
       "    }\n",
       "\n",
       "    .dataframe thead th {\n",
       "        text-align: right;\n",
       "    }\n",
       "</style>\n",
       "<table border=\"1\" class=\"dataframe\">\n",
       "  <thead>\n",
       "    <tr style=\"text-align: right;\">\n",
       "      <th></th>\n",
       "      <th>Parameter</th>\n",
       "      <th>Value</th>\n",
       "      <th>Address</th>\n",
       "    </tr>\n",
       "  </thead>\n",
       "  <tbody>\n",
       "    <tr>\n",
       "      <th>0</th>\n",
       "      <td>x.nbytes</td>\n",
       "      <td>393216</td>\n",
       "      <td>convert.py/to_device</td>\n",
       "    </tr>\n",
       "    <tr>\n",
       "      <th>1</th>\n",
       "      <td>x.shape</td>\n",
       "      <td>(32: 3: 32: 32)</td>\n",
       "      <td>393216</td>\n",
       "    </tr>\n",
       "    <tr>\n",
       "      <th>2</th>\n",
       "      <td>point1_delta (s)</td>\n",
       "      <td>0.001114</td>\n",
       "      <td>393216</td>\n",
       "    </tr>\n",
       "    <tr>\n",
       "      <th>3</th>\n",
       "      <td>point1_delta2(s)</td>\n",
       "      <td>0.001118</td>\n",
       "      <td>393216</td>\n",
       "    </tr>\n",
       "    <tr>\n",
       "      <th>4</th>\n",
       "      <td>x.nbytes</td>\n",
       "      <td>128</td>\n",
       "      <td>convert.py/to_device</td>\n",
       "    </tr>\n",
       "  </tbody>\n",
       "</table>\n",
       "</div>"
      ],
      "text/plain": [
       "          Parameter            Value               Address\n",
       "0          x.nbytes           393216  convert.py/to_device\n",
       "1           x.shape  (32: 3: 32: 32)                393216\n",
       "2  point1_delta (s)         0.001114                393216\n",
       "3  point1_delta2(s)         0.001118                393216\n",
       "4          x.nbytes              128  convert.py/to_device"
      ]
     },
     "execution_count": 204,
     "metadata": {},
     "output_type": "execute_result"
    }
   ],
   "source": [
    "log_addr = replaceString(log_data, \"Address\")\n",
    "log_addr.iloc[:5]"
   ]
  },
  {
   "cell_type": "code",
   "execution_count": 205,
   "metadata": {},
   "outputs": [
    {
     "data": {
      "text/html": [
       "<div>\n",
       "<style scoped>\n",
       "    .dataframe tbody tr th:only-of-type {\n",
       "        vertical-align: middle;\n",
       "    }\n",
       "\n",
       "    .dataframe tbody tr th {\n",
       "        vertical-align: top;\n",
       "    }\n",
       "\n",
       "    .dataframe thead th {\n",
       "        text-align: right;\n",
       "    }\n",
       "</style>\n",
       "<table border=\"1\" class=\"dataframe\">\n",
       "  <thead>\n",
       "    <tr style=\"text-align: right;\">\n",
       "      <th></th>\n",
       "      <th>Parameter</th>\n",
       "      <th>Value</th>\n",
       "      <th>Address</th>\n",
       "    </tr>\n",
       "  </thead>\n",
       "  <tbody>\n",
       "    <tr>\n",
       "      <th>2</th>\n",
       "      <td>point1_delta (s)</td>\n",
       "      <td>0.001114</td>\n",
       "      <td>393216</td>\n",
       "    </tr>\n",
       "    <tr>\n",
       "      <th>3</th>\n",
       "      <td>point1_delta2(s)</td>\n",
       "      <td>0.001118</td>\n",
       "      <td>393216</td>\n",
       "    </tr>\n",
       "    <tr>\n",
       "      <th>6</th>\n",
       "      <td>point1_delta (s)</td>\n",
       "      <td>0.000420</td>\n",
       "      <td>128</td>\n",
       "    </tr>\n",
       "    <tr>\n",
       "      <th>7</th>\n",
       "      <td>point1_delta2(s)</td>\n",
       "      <td>0.000421</td>\n",
       "      <td>128</td>\n",
       "    </tr>\n",
       "    <tr>\n",
       "      <th>10</th>\n",
       "      <td>point1_delta (s)</td>\n",
       "      <td>0.000350</td>\n",
       "      <td>393216</td>\n",
       "    </tr>\n",
       "  </tbody>\n",
       "</table>\n",
       "</div>"
      ],
      "text/plain": [
       "           Parameter     Value Address\n",
       "2   point1_delta (s)  0.001114  393216\n",
       "3   point1_delta2(s)  0.001118  393216\n",
       "6   point1_delta (s)  0.000420     128\n",
       "7   point1_delta2(s)  0.000421     128\n",
       "10  point1_delta (s)  0.000350  393216"
      ]
     },
     "execution_count": 205,
     "metadata": {},
     "output_type": "execute_result"
    }
   ],
   "source": [
    "times = log_addr[log_addr[\"Parameter\"].str.contains(\"point1_delta\")]\n",
    "times.iloc[:5]"
   ]
  },
  {
   "cell_type": "code",
   "execution_count": 206,
   "metadata": {},
   "outputs": [
    {
     "name": "stdout",
     "output_type": "stream",
     "text": [
      "[  3.93216000e+05   1.28000000e+02   1.96608000e+05   6.40000000e+01]\n"
     ]
    },
    {
     "data": {
      "text/html": [
       "<div>\n",
       "<style scoped>\n",
       "    .dataframe tbody tr th:only-of-type {\n",
       "        vertical-align: middle;\n",
       "    }\n",
       "\n",
       "    .dataframe tbody tr th {\n",
       "        vertical-align: top;\n",
       "    }\n",
       "\n",
       "    .dataframe thead th {\n",
       "        text-align: right;\n",
       "    }\n",
       "</style>\n",
       "<table border=\"1\" class=\"dataframe\">\n",
       "  <thead>\n",
       "    <tr style=\"text-align: right;\">\n",
       "      <th></th>\n",
       "      <th>Parameter</th>\n",
       "      <th>Value</th>\n",
       "      <th>Address</th>\n",
       "    </tr>\n",
       "  </thead>\n",
       "  <tbody>\n",
       "    <tr>\n",
       "      <th>2</th>\n",
       "      <td>point1_delta (s)</td>\n",
       "      <td>0.001114</td>\n",
       "      <td>393216.0</td>\n",
       "    </tr>\n",
       "    <tr>\n",
       "      <th>3</th>\n",
       "      <td>point1_delta2(s)</td>\n",
       "      <td>0.001118</td>\n",
       "      <td>393216.0</td>\n",
       "    </tr>\n",
       "    <tr>\n",
       "      <th>6</th>\n",
       "      <td>point1_delta (s)</td>\n",
       "      <td>0.000420</td>\n",
       "      <td>128.0</td>\n",
       "    </tr>\n",
       "    <tr>\n",
       "      <th>7</th>\n",
       "      <td>point1_delta2(s)</td>\n",
       "      <td>0.000421</td>\n",
       "      <td>128.0</td>\n",
       "    </tr>\n",
       "    <tr>\n",
       "      <th>10</th>\n",
       "      <td>point1_delta (s)</td>\n",
       "      <td>0.000350</td>\n",
       "      <td>393216.0</td>\n",
       "    </tr>\n",
       "    <tr>\n",
       "      <th>11</th>\n",
       "      <td>point1_delta2(s)</td>\n",
       "      <td>0.000353</td>\n",
       "      <td>393216.0</td>\n",
       "    </tr>\n",
       "    <tr>\n",
       "      <th>14</th>\n",
       "      <td>point1_delta (s)</td>\n",
       "      <td>0.000122</td>\n",
       "      <td>128.0</td>\n",
       "    </tr>\n",
       "    <tr>\n",
       "      <th>15</th>\n",
       "      <td>point1_delta2(s)</td>\n",
       "      <td>0.000122</td>\n",
       "      <td>128.0</td>\n",
       "    </tr>\n",
       "    <tr>\n",
       "      <th>18</th>\n",
       "      <td>point1_delta (s)</td>\n",
       "      <td>0.000276</td>\n",
       "      <td>393216.0</td>\n",
       "    </tr>\n",
       "    <tr>\n",
       "      <th>19</th>\n",
       "      <td>point1_delta2(s)</td>\n",
       "      <td>0.000282</td>\n",
       "      <td>393216.0</td>\n",
       "    </tr>\n",
       "    <tr>\n",
       "      <th>22</th>\n",
       "      <td>point1_delta (s)</td>\n",
       "      <td>0.000126</td>\n",
       "      <td>128.0</td>\n",
       "    </tr>\n",
       "    <tr>\n",
       "      <th>23</th>\n",
       "      <td>point1_delta2(s)</td>\n",
       "      <td>0.000125</td>\n",
       "      <td>128.0</td>\n",
       "    </tr>\n",
       "    <tr>\n",
       "      <th>26</th>\n",
       "      <td>point1_delta (s)</td>\n",
       "      <td>0.061163</td>\n",
       "      <td>393216.0</td>\n",
       "    </tr>\n",
       "    <tr>\n",
       "      <th>27</th>\n",
       "      <td>point1_delta2(s)</td>\n",
       "      <td>0.061165</td>\n",
       "      <td>393216.0</td>\n",
       "    </tr>\n",
       "    <tr>\n",
       "      <th>30</th>\n",
       "      <td>point1_delta (s)</td>\n",
       "      <td>0.000138</td>\n",
       "      <td>128.0</td>\n",
       "    </tr>\n",
       "  </tbody>\n",
       "</table>\n",
       "</div>"
      ],
      "text/plain": [
       "           Parameter     Value   Address\n",
       "2   point1_delta (s)  0.001114  393216.0\n",
       "3   point1_delta2(s)  0.001118  393216.0\n",
       "6   point1_delta (s)  0.000420     128.0\n",
       "7   point1_delta2(s)  0.000421     128.0\n",
       "10  point1_delta (s)  0.000350  393216.0\n",
       "11  point1_delta2(s)  0.000353  393216.0\n",
       "14  point1_delta (s)  0.000122     128.0\n",
       "15  point1_delta2(s)  0.000122     128.0\n",
       "18  point1_delta (s)  0.000276  393216.0\n",
       "19  point1_delta2(s)  0.000282  393216.0\n",
       "22  point1_delta (s)  0.000126     128.0\n",
       "23  point1_delta2(s)  0.000125     128.0\n",
       "26  point1_delta (s)  0.061163  393216.0\n",
       "27  point1_delta2(s)  0.061165  393216.0\n",
       "30  point1_delta (s)  0.000138     128.0"
      ]
     },
     "execution_count": 206,
     "metadata": {},
     "output_type": "execute_result"
    }
   ],
   "source": [
    "times.loc[:,\"Value\"] = times.loc[:,\"Value\"].apply(parseFloat)\n",
    "times.loc[:,\"Address\"] = times.loc[:,\"Address\"].apply(parseFloat)\n",
    "print times.Address.unique()\n",
    "times.iloc[:15]"
   ]
  },
  {
   "cell_type": "markdown",
   "metadata": {},
   "source": [
    "## Количество вызовов для каждого размера массива"
   ]
  },
  {
   "cell_type": "code",
   "execution_count": 207,
   "metadata": {},
   "outputs": [],
   "source": [
    "grouped = times.groupby(\"Address\")"
   ]
  },
  {
   "cell_type": "code",
   "execution_count": 208,
   "metadata": {},
   "outputs": [
    {
     "name": "stdout",
     "output_type": "stream",
     "text": [
      "Address\n",
      "64.0           2\n",
      "128.0       3750\n",
      "196608.0       2\n",
      "393216.0    3750\n",
      "Name: Value, dtype: int64\n"
     ]
    }
   ],
   "source": [
    "print grouped[\"Value\"].count()"
   ]
  },
  {
   "cell_type": "code",
   "execution_count": 209,
   "metadata": {},
   "outputs": [
    {
     "name": "stdout",
     "output_type": "stream",
     "text": [
      "Address\n",
      "64.0          0.000265\n",
      "128.0         0.560085\n",
      "196608.0      0.010498\n",
      "393216.0    144.615924\n",
      "Name: Value, dtype: float64\n"
     ]
    }
   ],
   "source": [
    "print grouped[\"Value\"].sum()"
   ]
  },
  {
   "cell_type": "code",
   "execution_count": 210,
   "metadata": {},
   "outputs": [
    {
     "data": {
      "image/png": "[encoded data removed]",
      "text/plain": [
       "<matplotlib.figure.Figure at 0x1152625d0>"
      ]
     },
     "metadata": {},
     "output_type": "display_data"
    },
    {
     "data": {
      "image/png": "[encoded data removed]",
      "text/plain": [
       "<matplotlib.figure.Figure at 0x1133f7cd0>"
      ]
     },
     "metadata": {},
     "output_type": "display_data"
    }
   ],
   "source": [
    "ax = times.loc[times[\"Parameter\"]==\"point1_delta (s)\"].plot.scatter(x=\"Address\",y=\"Value\",figsize=(8,4),label=\"delta\",color=\"#ff9090\",alpha=0.3)\n",
    "ax2 = times.loc[times[\"Parameter\"]==\"point1_delta2(s)\"].plot.scatter(x=\"Address\",y=\"Value\",figsize=(8,4),label=\"delta2\",color = '#a0caff',alpha=0.3)\n",
    "def format_ax(ax):\n",
    "    ax.set_facecolor(\"#fdfdfb\")\n",
    "    ax.set_ylabel(\"time in convert (s)\")\n",
    "    ax.grid('on', alpha=0.3, ls=\":\" )\n",
    "    ax.set_xlabel(\"Array size (bytes)\")\n",
    "    \n",
    "format_ax(ax)\n",
    "format_ax(ax2)"
   ]
  },
  {
   "cell_type": "code",
   "execution_count": 74,
   "metadata": {},
   "outputs": [
    {
     "name": "stdout",
     "output_type": "stream",
     "text": [
      "[' Array type' 'array_dev.id' 'cupy.cuda.device.get_device_id()'\n",
      " 'array.dtype' 'array.shape' 'array.size' 'array.itemsize' 'array.nbytes'\n",
      " 'point1_delta (s)' 'point2_delta (s)' 'cupy_arr type' 'point3_delta (s)'\n",
      " ' x type']\n"
     ]
    }
   ],
   "source": [
    "data1=log_data.copy()\n",
    "print data1[\"Parameter\"].unique()"
   ]
  },
  {
   "cell_type": "code",
   "execution_count": 75,
   "metadata": {
    "scrolled": false
   },
   "outputs": [
    {
     "name": "stdout",
     "output_type": "stream",
     "text": [
      "(1962, 3)\n",
      "[\" <type 'numpy.ndarray'>\"]\n"
     ]
    },
    {
     "data": {
      "text/html": [
       "<div>\n",
       "<style scoped>\n",
       "    .dataframe tbody tr th:only-of-type {\n",
       "        vertical-align: middle;\n",
       "    }\n",
       "\n",
       "    .dataframe tbody tr th {\n",
       "        vertical-align: top;\n",
       "    }\n",
       "\n",
       "    .dataframe thead th {\n",
       "        text-align: right;\n",
       "    }\n",
       "</style>\n",
       "<table border=\"1\" class=\"dataframe\">\n",
       "  <thead>\n",
       "    <tr style=\"text-align: right;\">\n",
       "      <th></th>\n",
       "      <th>Address</th>\n",
       "      <th>Parameter</th>\n",
       "      <th>Value</th>\n",
       "    </tr>\n",
       "  </thead>\n",
       "  <tbody>\n",
       "    <tr>\n",
       "      <th>0</th>\n",
       "      <td>cuda.py/_array_to_gpu</td>\n",
       "      <td>Array type</td>\n",
       "      <td>&lt;type 'numpy.ndarray'&gt;</td>\n",
       "    </tr>\n",
       "    <tr>\n",
       "      <th>12</th>\n",
       "      <td>cuda.py/_array_to_gpu</td>\n",
       "      <td>Array type</td>\n",
       "      <td>&lt;type 'numpy.ndarray'&gt;</td>\n",
       "    </tr>\n",
       "    <tr>\n",
       "      <th>24</th>\n",
       "      <td>cuda.py/_array_to_gpu</td>\n",
       "      <td>Array type</td>\n",
       "      <td>&lt;type 'numpy.ndarray'&gt;</td>\n",
       "    </tr>\n",
       "  </tbody>\n",
       "</table>\n",
       "</div>"
      ],
      "text/plain": [
       "                  Address    Parameter                    Value\n",
       "0   cuda.py/_array_to_gpu   Array type   <type 'numpy.ndarray'>\n",
       "12  cuda.py/_array_to_gpu   Array type   <type 'numpy.ndarray'>\n",
       "24  cuda.py/_array_to_gpu   Array type   <type 'numpy.ndarray'>"
      ]
     },
     "execution_count": 75,
     "metadata": {},
     "output_type": "execute_result"
    }
   ],
   "source": [
    "# Какие типы имеет параметр array\n",
    "array_type = data1[data1[\"Parameter\"] == \" Array type\"]\n",
    "print array_type.shape\n",
    "print array_type.Value.unique()\n",
    "array_type.iloc[:3]"
   ]
  },
  {
   "cell_type": "code",
   "execution_count": 76,
   "metadata": {},
   "outputs": [
    {
     "name": "stdout",
     "output_type": "stream",
     "text": [
      "(1962, 3)\n",
      "['-1']\n",
      "(1962, 3)\n",
      "['0']\n"
     ]
    }
   ],
   "source": [
    "# Какие типы значения принимают параметры array_dev.id и cupy...device_id()\n",
    "device_id = data1[data1[\"Parameter\"] == \"array_dev.id\"]\n",
    "cuda_device = data1[data1[\"Parameter\"] == \"cupy.cuda.device.get_device_id()\"]\n",
    "print device_id.shape\n",
    "print device_id.Value.unique()\n",
    "print cuda_device.shape\n",
    "print cuda_device.Value.unique()"
   ]
  },
  {
   "cell_type": "code",
   "execution_count": 82,
   "metadata": {},
   "outputs": [
    {
     "data": {
      "text/plain": [
       "array(['cuda.py/_array_to_gpu', 'cuda.py/_array_to_gpu:310',\n",
       "       'cuda.py/_array_to_gpu:310(512:)',\n",
       "       'cuda.py/_array_to_gpu:340(512:)',\n",
       "       'cuda.py/_array_to_gpu:360(512:)', 'cuda.py/_array_to_gpu:310(64:)',\n",
       "       'cuda.py/_array_to_gpu:340(64:)', 'cuda.py/_array_to_gpu:360(64:)',\n",
       "       'cuda.py/_array_to_gpu:310(256:)',\n",
       "       'cuda.py/_array_to_gpu:340(256:)',\n",
       "       'cuda.py/_array_to_gpu:360(256:)',\n",
       "       'cuda.py/_array_to_gpu:310(128:)',\n",
       "       'cuda.py/_array_to_gpu:340(128:)',\n",
       "       'cuda.py/_array_to_gpu:360(128:)',\n",
       "       'cuda.py/_array_to_gpu:310(64: 3: 32: 32)',\n",
       "       'cuda.py/_array_to_gpu:340(64: 3: 32: 32)',\n",
       "       'cuda.py/_array_to_gpu:360(64: 3: 32: 32)', 'convert.py/to_device',\n",
       "       'cuda.py/_array_to_gpu:310(16: 3: 32: 32)',\n",
       "       'cuda.py/_array_to_gpu:340(16: 3: 32: 32)',\n",
       "       'cuda.py/_array_to_gpu:360(16: 3: 32: 32)',\n",
       "       'cuda.py/_array_to_gpu:310(16:)', 'cuda.py/_array_to_gpu:340(16:)',\n",
       "       'cuda.py/_array_to_gpu:360(16:)'], dtype=object)"
      ]
     },
     "execution_count": 82,
     "metadata": {},
     "output_type": "execute_result"
    }
   ],
   "source": [
    "data1[\"Address\"].unique()"
   ]
  },
  {
   "cell_type": "code",
   "execution_count": 83,
   "metadata": {},
   "outputs": [
    {
     "data": {
      "text/plain": [
       "array([' Array type', 'array_dev.id', 'cupy.cuda.device.get_device_id()',\n",
       "       'array.dtype', 'array.shape', 'array.size', 'array.itemsize',\n",
       "       'array.nbytes', 'point1_delta (s)', 'point2_delta (s)',\n",
       "       'cupy_arr type', 'point3_delta (s)', ' x type'], dtype=object)"
      ]
     },
     "execution_count": 83,
     "metadata": {},
     "output_type": "execute_result"
    }
   ],
   "source": [
    "data1[\"Parameter\"].unique()"
   ]
  },
  {
   "cell_type": "code",
   "execution_count": 86,
   "metadata": {},
   "outputs": [
    {
     "data": {
      "text/plain": [
       "array([\" <type 'numpy.ndarray'>\"], dtype=object)"
      ]
     },
     "execution_count": 86,
     "metadata": {},
     "output_type": "execute_result"
    }
   ],
   "source": [
    "large_arr = data1[\"Address\"]   == 'cuda.py/_array_to_gpu:310(64: 3: 32: 32)'\n",
    "point     = data1[data1[\"Parameter\"] == ' x type']\n",
    "#large = data1[large_arr & point]\n",
    "point.Value.unique()"
   ]
  },
  {
   "cell_type": "code",
   "execution_count": 77,
   "metadata": {},
   "outputs": [
    {
     "data": {
      "text/html": [
       "<div>\n",
       "<style scoped>\n",
       "    .dataframe tbody tr th:only-of-type {\n",
       "        vertical-align: middle;\n",
       "    }\n",
       "\n",
       "    .dataframe tbody tr th {\n",
       "        vertical-align: top;\n",
       "    }\n",
       "\n",
       "    .dataframe thead th {\n",
       "        text-align: right;\n",
       "    }\n",
       "</style>\n",
       "<table border=\"1\" class=\"dataframe\">\n",
       "  <thead>\n",
       "    <tr style=\"text-align: right;\">\n",
       "      <th></th>\n",
       "      <th>index</th>\n",
       "      <th>Address</th>\n",
       "      <th>Parameter</th>\n",
       "      <th>Value</th>\n",
       "    </tr>\n",
       "  </thead>\n",
       "  <tbody>\n",
       "  </tbody>\n",
       "</table>\n",
       "</div>"
      ],
      "text/plain": [
       "Empty DataFrame\n",
       "Columns: [index, Address, Parameter, Value]\n",
       "Index: []"
      ]
     },
     "execution_count": 77,
     "metadata": {},
     "output_type": "execute_result"
    }
   ],
   "source": [
    "# Select cuda.py/_array_to_gpu:310,array.nbytes\n",
    "cuda_array_310 = data1[\"Address\"] == \"cuda.py/_array_to_gpu:310\"\n",
    "bytes = data1[\"Parameter\"] == \"array.nbytes\"\n",
    "ndarray_size = data1[cuda_array_310 & bytes]\n",
    "ndarray_size.reset_index(inplace=True)\n",
    "ndarray_size.iloc[:5]"
   ]
  },
  {
   "cell_type": "code",
   "execution_count": 38,
   "metadata": {},
   "outputs": [
    {
     "name": "stdout",
     "output_type": "stream",
     "text": [
      "(1962, 4)\n",
      "['2048' '256' '1024' '512' '786432' '196608' '64']\n",
      "Index([u'index', u'Address', u'Parameter', u'Value'], dtype='object')\n"
     ]
    }
   ],
   "source": [
    "print ndarray_size.shape\n",
    "print ndarray_size.Value.unique()\n",
    "print ndarray_size.columns"
   ]
  },
  {
   "cell_type": "code",
   "execution_count": 71,
   "metadata": {
    "scrolled": false
   },
   "outputs": [
    {
     "name": "stdout",
     "output_type": "stream",
     "text": [
      "(1962, 4)\n",
      "[  2.04800000e+03   2.56000000e+02   1.02400000e+03   5.12000000e+02\n",
      "   7.86432000e+05   1.96608000e+05   6.40000000e+01]\n"
     ]
    },
    {
     "data": {
      "image/png": "[encoded data removed]",
      "text/plain": [
       "<matplotlib.figure.Figure at 0x114eb8ad0>"
      ]
     },
     "metadata": {},
     "output_type": "display_data"
    }
   ],
   "source": [
    "val = apply_inplace(ndarray_size,\"Value\",parseFloat)\n",
    "print val.shape\n",
    "print val.Value.unique()\n",
    "rot = 30\n",
    "bins = 100\n",
    "fig, ax = plt.subplots()\n",
    "val.hist(ax=ax,column=\"Value\",xrot=rot, bins=bins)\n",
    "ax.set_xscale(\"log\")"
   ]
  },
  {
   "cell_type": "code",
   "execution_count": 162,
   "metadata": {},
   "outputs": [
    {
     "data": {
      "text/plain": [
       "Text(0.5,1,u'chainer_timings_k80_b64e1.log')"
      ]
     },
     "execution_count": 162,
     "metadata": {},
     "output_type": "execute_result"
    },
    {
     "data": {
      "image/png": "[encoded data removed]",
      "text/plain": [
       "<matplotlib.figure.Figure at 0x1178b8c10>"
      ]
     },
     "metadata": {},
     "output_type": "display_data"
    }
   ],
   "source": [
    "plt.rcParams['figure.figsize'] = 10,5 \n",
    "fig, axarr = plt.subplots(1,2)\n",
    "summed1.plot(kind=\"bar\",stacked=True,ax=axarr[0])\n",
    "summed2.plot(kind=\"bar\",stacked=True,ax=axarr[1])\n",
    "for ax in axarr:\n",
    "    ax.yaxis.grid('on', alpha=0.5, ls=\":\" )\n",
    "    ax.set_ylabel(\"Aggregated time (s)\")\n",
    "    \n",
    "axarr[0].set_title(filename1)\n",
    "axarr[1].set_title(filename2)"
   ]
  },
  {
   "cell_type": "code",
   "execution_count": 154,
   "metadata": {},
   "outputs": [
    {
     "name": "stdout",
     "output_type": "stream",
     "text": [
      "sum1= 5.947824\n",
      "sum2= 11.127512\n"
     ]
    }
   ],
   "source": [
    "print \"sum1=\",summed1.sum().sum()\n",
    "print \"sum2=\",summed2.sum().sum()"
   ]
  },
  {
   "cell_type": "code",
   "execution_count": null,
   "metadata": {},
   "outputs": [],
   "source": []
  }
 ],
 "metadata": {
  "kernelspec": {
   "display_name": "Python 2",
   "language": "python",
   "name": "python2"
  },
  "language_info": {
   "codemirror_mode": {
    "name": "ipython",
    "version": 2
   },
   "file_extension": ".py",
   "mimetype": "text/x-python",
   "name": "python",
   "nbconvert_exporter": "python",
   "pygments_lexer": "ipython2",
   "version": "2.7.11"
  }
 },
 "nbformat": 4,
 "nbformat_minor": 2
}

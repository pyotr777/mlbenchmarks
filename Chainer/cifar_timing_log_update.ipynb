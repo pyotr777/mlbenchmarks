{
 "cells": [
  {
   "cell_type": "markdown",
   "metadata": {},
   "source": [
    "# Analyse Chainer CIFAR100 performance of GradientMethod update()\n",
    "\n",
    "### Inspect timings in chainer_debug.log"
   ]
  },
  {
   "cell_type": "code",
   "execution_count": 4,
   "metadata": {},
   "outputs": [],
   "source": [
    "%matplotlib inline\n",
    "import re\n",
    "import numpy as np\n",
    "import matplotlib\n",
    "import matplotlib.pyplot as plt\n",
    "import os.path\n",
    "import datetime\n",
    "from cycler import cycler\n",
    "import pandas as pd"
   ]
  },
  {
   "cell_type": "code",
   "execution_count": 5,
   "metadata": {},
   "outputs": [
    {
     "name": "stdout",
     "output_type": "stream",
     "text": [
      "chainer_timings_K80_b128e1.log\r\n",
      "chainer_timings_k80_b64e1.log\r\n",
      "chainer_timings_mouse_b128e1.log\r\n",
      "chainer_timings_mouse_b64e1.log\r\n",
      "chainer_timings_mouse_convert_b128e1.log\r\n",
      "chainer_timings_mouse_convert_b32e1.log\r\n",
      "chainer_timings_mouse_convert_b64e1.log\r\n",
      "chainer_timings_mouse_cuda_b64e1.log\r\n",
      "chainer_timings_mouse_update_b64e1.log\r\n",
      "cupy_logs064.log\r\n",
      "cupy_logs128.log\r\n"
     ]
    }
   ],
   "source": [
    "!ls *.log"
   ]
  },
  {
   "cell_type": "code",
   "execution_count": 41,
   "metadata": {},
   "outputs": [
    {
     "name": "stdout",
     "output_type": "stream",
     "text": [
      "Reading chainer_timings_mouse_update_b64e1.log\n"
     ]
    },
    {
     "data": {
      "text/html": [
       "<div>\n",
       "<style scoped>\n",
       "    .dataframe tbody tr th:only-of-type {\n",
       "        vertical-align: middle;\n",
       "    }\n",
       "\n",
       "    .dataframe tbody tr th {\n",
       "        vertical-align: top;\n",
       "    }\n",
       "\n",
       "    .dataframe thead th {\n",
       "        text-align: right;\n",
       "    }\n",
       "</style>\n",
       "<table border=\"1\" class=\"dataframe\">\n",
       "  <thead>\n",
       "    <tr style=\"text-align: right;\">\n",
       "      <th></th>\n",
       "      <th>Address</th>\n",
       "      <th>Parameter</th>\n",
       "      <th>Value</th>\n",
       "    </tr>\n",
       "  </thead>\n",
       "  <tbody>\n",
       "    <tr>\n",
       "      <th>0</th>\n",
       "      <td>optimizer.py/GradientMethod/update</td>\n",
       "      <td>point1_delta (s)</td>\n",
       "      <td>0.728212</td>\n",
       "    </tr>\n",
       "    <tr>\n",
       "      <th>1</th>\n",
       "      <td>optimizer.py/GradientMethod/update</td>\n",
       "      <td>point1_delta2(s)</td>\n",
       "      <td>0.728212</td>\n",
       "    </tr>\n",
       "    <tr>\n",
       "      <th>2</th>\n",
       "      <td>optimizer.py/GradientMethod/update</td>\n",
       "      <td>point2_delta (s)</td>\n",
       "      <td>0.014300</td>\n",
       "    </tr>\n",
       "    <tr>\n",
       "      <th>3</th>\n",
       "      <td>optimizer.py/GradientMethod/update</td>\n",
       "      <td>point2_delta2(s)</td>\n",
       "      <td>0.014301</td>\n",
       "    </tr>\n",
       "    <tr>\n",
       "      <th>4</th>\n",
       "      <td>optimizer.py/GradientMethod/update</td>\n",
       "      <td>point1_delta (s)</td>\n",
       "      <td>0.006631</td>\n",
       "    </tr>\n",
       "  </tbody>\n",
       "</table>\n",
       "</div>"
      ],
      "text/plain": [
       "                              Address         Parameter     Value\n",
       "0  optimizer.py/GradientMethod/update  point1_delta (s)  0.728212\n",
       "1  optimizer.py/GradientMethod/update  point1_delta2(s)  0.728212\n",
       "2  optimizer.py/GradientMethod/update  point2_delta (s)  0.014300\n",
       "3  optimizer.py/GradientMethod/update  point2_delta2(s)  0.014301\n",
       "4  optimizer.py/GradientMethod/update  point1_delta (s)  0.006631"
      ]
     },
     "execution_count": 41,
     "metadata": {},
     "output_type": "execute_result"
    }
   ],
   "source": [
    "filename1=\"chainer_timings_mouse_update_b64e1.log\"\n",
    "print \"Reading\",filename1\n",
    "log_data1 = pd.read_csv(filename1,header=[0], skiprows=[0])\n",
    "log_data1.iloc[:5]"
   ]
  },
  {
   "cell_type": "code",
   "execution_count": 47,
   "metadata": {},
   "outputs": [
    {
     "data": {
      "text/html": [
       "<div>\n",
       "<style scoped>\n",
       "    .dataframe tbody tr th:only-of-type {\n",
       "        vertical-align: middle;\n",
       "    }\n",
       "\n",
       "    .dataframe tbody tr th {\n",
       "        vertical-align: top;\n",
       "    }\n",
       "\n",
       "    .dataframe thead th {\n",
       "        text-align: right;\n",
       "    }\n",
       "</style>\n",
       "<table border=\"1\" class=\"dataframe\">\n",
       "  <thead>\n",
       "    <tr style=\"text-align: right;\">\n",
       "      <th></th>\n",
       "      <th>Parameter</th>\n",
       "      <th>Value</th>\n",
       "    </tr>\n",
       "  </thead>\n",
       "  <tbody>\n",
       "    <tr>\n",
       "      <th>0</th>\n",
       "      <td>point1_delta (s)</td>\n",
       "      <td>0.728212</td>\n",
       "    </tr>\n",
       "    <tr>\n",
       "      <th>2</th>\n",
       "      <td>point2_delta (s)</td>\n",
       "      <td>0.014300</td>\n",
       "    </tr>\n",
       "    <tr>\n",
       "      <th>4</th>\n",
       "      <td>point1_delta (s)</td>\n",
       "      <td>0.006631</td>\n",
       "    </tr>\n",
       "    <tr>\n",
       "      <th>6</th>\n",
       "      <td>point2_delta (s)</td>\n",
       "      <td>0.008222</td>\n",
       "    </tr>\n",
       "    <tr>\n",
       "      <th>8</th>\n",
       "      <td>point1_delta (s)</td>\n",
       "      <td>0.006481</td>\n",
       "    </tr>\n",
       "  </tbody>\n",
       "</table>\n",
       "</div>"
      ],
      "text/plain": [
       "          Parameter     Value\n",
       "0  point1_delta (s)  0.728212\n",
       "2  point2_delta (s)  0.014300\n",
       "4  point1_delta (s)  0.006631\n",
       "6  point2_delta (s)  0.008222\n",
       "8  point1_delta (s)  0.006481"
      ]
     },
     "execution_count": 47,
     "metadata": {},
     "output_type": "execute_result"
    }
   ],
   "source": [
    "df=log_data1.copy()\n",
    "df.drop(df.columns[[0]],axis=1,inplace=True)\n",
    "df = df[df[\"Parameter\"].str.contains(\"_delta \")]\n",
    "df.iloc[:5]"
   ]
  },
  {
   "cell_type": "code",
   "execution_count": 48,
   "metadata": {},
   "outputs": [],
   "source": [
    "pat = re.compile(\"[0-9\\.]+\")\n",
    "# Extract float number from a string\n",
    "def parseFloat(s):\n",
    "    global pat\n",
    "    if type(s) is not str:\n",
    "        return s\n",
    "    f = pat.search(s)\n",
    "    if f is not None:\n",
    "        d = float(f.group())\n",
    "        return d\n",
    "    return None"
   ]
  },
  {
   "cell_type": "code",
   "execution_count": 49,
   "metadata": {
    "scrolled": false
   },
   "outputs": [
    {
     "data": {
      "text/html": [
       "<div>\n",
       "<style scoped>\n",
       "    .dataframe tbody tr th:only-of-type {\n",
       "        vertical-align: middle;\n",
       "    }\n",
       "\n",
       "    .dataframe tbody tr th {\n",
       "        vertical-align: top;\n",
       "    }\n",
       "\n",
       "    .dataframe thead th {\n",
       "        text-align: right;\n",
       "    }\n",
       "</style>\n",
       "<table border=\"1\" class=\"dataframe\">\n",
       "  <thead>\n",
       "    <tr style=\"text-align: right;\">\n",
       "      <th></th>\n",
       "      <th>Parameter</th>\n",
       "      <th>Value</th>\n",
       "    </tr>\n",
       "  </thead>\n",
       "  <tbody>\n",
       "    <tr>\n",
       "      <th>2</th>\n",
       "      <td>point2_delta (s)</td>\n",
       "      <td>0.014300</td>\n",
       "    </tr>\n",
       "    <tr>\n",
       "      <th>6</th>\n",
       "      <td>point2_delta (s)</td>\n",
       "      <td>0.008222</td>\n",
       "    </tr>\n",
       "    <tr>\n",
       "      <th>10</th>\n",
       "      <td>point2_delta (s)</td>\n",
       "      <td>0.007953</td>\n",
       "    </tr>\n",
       "    <tr>\n",
       "      <th>14</th>\n",
       "      <td>point2_delta (s)</td>\n",
       "      <td>0.007910</td>\n",
       "    </tr>\n",
       "  </tbody>\n",
       "</table>\n",
       "</div>"
      ],
      "text/plain": [
       "           Parameter     Value\n",
       "2   point2_delta (s)  0.014300\n",
       "6   point2_delta (s)  0.008222\n",
       "10  point2_delta (s)  0.007953\n",
       "14  point2_delta (s)  0.007910"
      ]
     },
     "execution_count": 49,
     "metadata": {},
     "output_type": "execute_result"
    }
   ],
   "source": [
    "forward = df[df[\"Parameter\"].str.contains(\"point1\")]\n",
    "forward[[\"Value\"]]=forward[[\"Value\"]].applymap(parseFloat)\n",
    "bacward = df[df[\"Parameter\"].str.contains(\"point2\")]\n",
    "bacward[[\"Value\"]]=bacward[[\"Value\"]].applymap(parseFloat)\n",
    "#forward.drop(\"Parameter\", axis=1,inplace=True)\n",
    "bacward.iloc[:4]"
   ]
  },
  {
   "cell_type": "code",
   "execution_count": 50,
   "metadata": {},
   "outputs": [
    {
     "data": {
      "image/png": "[encoded data removed]",
      "text/plain": [
       "<matplotlib.figure.Figure at 0x1090143d0>"
      ]
     },
     "metadata": {},
     "output_type": "display_data"
    }
   ],
   "source": [
    "plt.rcParams['figure.figsize'] = 10,5 \n",
    "ax = forward.plot(y=\"Value\",label=\"Forward\")\n",
    "bacward.plot(ax=ax,y=\"Value\",label=\"Backward\")\n",
    "for ax in axarr:\n",
    "    ax.yaxis.grid('on', alpha=0.5, ls=\":\" )\n",
    "    \n"
   ]
  },
  {
   "cell_type": "code",
   "execution_count": 51,
   "metadata": {},
   "outputs": [
    {
     "name": "stdout",
     "output_type": "stream",
     "text": [
      "sum1= 18.421708 s\n",
      "sum2= 111.659317 s\n"
     ]
    }
   ],
   "source": [
    "print \"sum1=\",forward[[\"Value\"]].sum().sum(),\"s\"\n",
    "print \"sum2=\",bacward[[\"Value\"]].sum().sum(),\"s\""
   ]
  },
  {
   "cell_type": "code",
   "execution_count": null,
   "metadata": {},
   "outputs": [],
   "source": []
  }
 ],
 "metadata": {
  "kernelspec": {
   "display_name": "Python 2",
   "language": "python",
   "name": "python2"
  },
  "language_info": {
   "codemirror_mode": {
    "name": "ipython",
    "version": 2
   },
   "file_extension": ".py",
   "mimetype": "text/x-python",
   "name": "python",
   "nbconvert_exporter": "python",
   "pygments_lexer": "ipython2",
   "version": "2.7.11"
  }
 },
 "nbformat": 4,
 "nbformat_minor": 2
}

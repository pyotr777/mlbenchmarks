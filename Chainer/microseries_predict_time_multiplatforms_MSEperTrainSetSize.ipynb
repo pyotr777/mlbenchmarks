{
 "cells": [
  {
   "cell_type": "markdown",
   "metadata": {},
   "source": [
    "# MSE as a function of Training set size\n",
    "## predicting time from minibatch size and GPU parameters"
   ]
  },
  {
   "cell_type": "code",
   "execution_count": 1,
   "metadata": {},
   "outputs": [],
   "source": [
    "%matplotlib inline\n",
    "import re\n",
    "import numpy as np\n",
    "import matplotlib\n",
    "import matplotlib.pyplot as plt\n",
    "from matplotlib import cm\n",
    "import pandas as pd\n",
    "import subprocess, os\n",
    "from sklearn.ensemble import RandomForestRegressor\n",
    "from sklearn.metrics import mean_squared_error\n",
    "from sklearn.model_selection import train_test_split"
   ]
  },
  {
   "cell_type": "code",
   "execution_count": 2,
   "metadata": {},
   "outputs": [],
   "source": [
    "batch_learn_pattern = re.compile(r\"^b\\s*(\\d+)\\s+l\\s*([0-9\\.]+)\")\n",
    "output_pattern = re.compile(r\"^(\\d+)\\s+([0-9\\.]+)\\s+([0-9\\.]+)\\s+([0-9\\.]+)\\s+([0-9\\.]+)\\s+([0-9\\.]+)\")\n",
    "remove_str=\"\u001b[J\"\n",
    "\n",
    "\n",
    "# Read minibatch size and 1st epoch time from files.\n",
    "# Store in a DataFrame.\n",
    "def fileToDF(logfile, debug=False):\n",
    "    global batch_learn_pattern\n",
    "    global output_pattern\n",
    "    global remove_str\n",
    "    logfile = logfile.strip(\" \\n\")\n",
    "    with open(logfile,\"r\") as f:\n",
    "        lines = f.readlines()\n",
    "        batch = 0\n",
    "        time = 0\n",
    "        epoch = 0\n",
    "        ind = 0 # DataFrame row numebr (index)\n",
    "        df = pd.DataFrame(data=None,columns=[\"batch\",\"learn\",\"epoch\",\"time\"])\n",
    "        for line in lines:\n",
    "            s = line.strip(' \\n')\n",
    "            s = s.replace(remove_str,\"\")\n",
    "            m = batch_learn_pattern.match(s)\n",
    "            if m:\n",
    "                batch = int(m.group(1))\n",
    "                learn = float(m.group(2))\n",
    "                if debug: print logfile,\": b\",batch,\" l\",learn\n",
    "            else:\n",
    "                m2 = output_pattern.match(s)\n",
    "                if m2:\n",
    "                    epoch = int(m2.group(1))\n",
    "                    time = float(m2.group(6))\n",
    "                    if debug: print batch,learn,epoch,time\n",
    "                    df.loc[ind] = [batch,learn,epoch,time]\n",
    "                    ind += 1\n",
    "                    \n",
    "    return df"
   ]
  },
  {
   "cell_type": "code",
   "execution_count": 3,
   "metadata": {},
   "outputs": [],
   "source": [
    "filename_pattern=re.compile(r\"cifar_.*\\.log\")\n",
    "\n",
    "def readLogs(logdir, debug=False):\n",
    "    global filename_pattern\n",
    "    list_command = \"ls -1 \"+logdir\n",
    "    if debug: print \"Looking in\",logdir\n",
    "    files=[]\n",
    "    proc = subprocess.Popen(list_command.split(\" \"),\n",
    "                         stdout=subprocess.PIPE,stderr=subprocess.STDOUT)\n",
    "    for line in iter(proc.stdout.readline,b''):\n",
    "        line = line.strip(\" \\n\")\n",
    "        m = filename_pattern.match(line)\n",
    "        if m:\n",
    "            files.append(os.path.abspath(os.path.join(logdir,line)))\n",
    "            \n",
    "    if debug: print len(files),\"files\"\n",
    "    df = pd.DataFrame(data=None,columns=[\"batch\",\"learn\",\"epoch\",\"time\"])\n",
    "\n",
    "    for file in files:\n",
    "        df1 = fileToDF(file,debug)\n",
    "        if len(df1) > 0:\n",
    "            df = pd.concat([df,df1],ignore_index=True)\n",
    "    return df"
   ]
  },
  {
   "cell_type": "code",
   "execution_count": 4,
   "metadata": {},
   "outputs": [
    {
     "name": "stdout",
     "output_type": "stream",
     "text": [
      "GTX_TITAN_X  K80  QuadroP2000\r\n"
     ]
    }
   ],
   "source": [
    "!ls logs/microseries/"
   ]
  },
  {
   "cell_type": "code",
   "execution_count": 5,
   "metadata": {},
   "outputs": [
    {
     "data": {
      "text/html": [
       "<div>\n",
       "<style scoped>\n",
       "    .dataframe tbody tr th:only-of-type {\n",
       "        vertical-align: middle;\n",
       "    }\n",
       "\n",
       "    .dataframe tbody tr th {\n",
       "        vertical-align: top;\n",
       "    }\n",
       "\n",
       "    .dataframe thead th {\n",
       "        text-align: right;\n",
       "    }\n",
       "</style>\n",
       "<table border=\"1\" class=\"dataframe\">\n",
       "  <thead>\n",
       "    <tr style=\"text-align: right;\">\n",
       "      <th></th>\n",
       "      <th>batch</th>\n",
       "      <th>learn</th>\n",
       "      <th>epoch</th>\n",
       "      <th>time</th>\n",
       "    </tr>\n",
       "  </thead>\n",
       "  <tbody>\n",
       "    <tr>\n",
       "      <th>0</th>\n",
       "      <td>101.0</td>\n",
       "      <td>0.15</td>\n",
       "      <td>1.0</td>\n",
       "      <td>90.3823</td>\n",
       "    </tr>\n",
       "    <tr>\n",
       "      <th>1</th>\n",
       "      <td>101.0</td>\n",
       "      <td>0.15</td>\n",
       "      <td>1.0</td>\n",
       "      <td>90.4984</td>\n",
       "    </tr>\n",
       "    <tr>\n",
       "      <th>2</th>\n",
       "      <td>102.0</td>\n",
       "      <td>0.15</td>\n",
       "      <td>1.0</td>\n",
       "      <td>90.1218</td>\n",
       "    </tr>\n",
       "    <tr>\n",
       "      <th>3</th>\n",
       "      <td>103.0</td>\n",
       "      <td>0.15</td>\n",
       "      <td>1.0</td>\n",
       "      <td>90.1364</td>\n",
       "    </tr>\n",
       "    <tr>\n",
       "      <th>4</th>\n",
       "      <td>104.0</td>\n",
       "      <td>0.15</td>\n",
       "      <td>1.0</td>\n",
       "      <td>90.1099</td>\n",
       "    </tr>\n",
       "  </tbody>\n",
       "</table>\n",
       "</div>"
      ],
      "text/plain": [
       "   batch  learn  epoch     time\n",
       "0  101.0   0.15    1.0  90.3823\n",
       "1  101.0   0.15    1.0  90.4984\n",
       "2  102.0   0.15    1.0  90.1218\n",
       "3  103.0   0.15    1.0  90.1364\n",
       "4  104.0   0.15    1.0  90.1099"
      ]
     },
     "execution_count": 5,
     "metadata": {},
     "output_type": "execute_result"
    }
   ],
   "source": [
    "df_mouse=readLogs(\"logs/microseries/QuadroP2000\")\n",
    "df_DLsrv=readLogs(\"logs/microseries/GTX_TITAN_X\")\n",
    "df_mouse.head()"
   ]
  },
  {
   "cell_type": "code",
   "execution_count": 6,
   "metadata": {},
   "outputs": [],
   "source": [
    "def readLogsK80(logdir, debug=False):\n",
    "    global filename_pattern    \n",
    "    \n",
    "    list_command = \"ls -1 \"+logdir\n",
    "    files=[]\n",
    "    proc = subprocess.Popen(list_command.split(\" \"),\n",
    "                         stdout=subprocess.PIPE,stderr=subprocess.STDOUT)\n",
    "    if debug: maxfiles = 5\n",
    "    else: maxfiles = 100000000\n",
    "    for line in iter(proc.stdout.readline,b''):\n",
    "        line = line.strip(\" \\n\")\n",
    "        m = filename_pattern.match(line)\n",
    "        if m:\n",
    "            files.append(os.path.abspath(os.path.join(logdir,line)))\n",
    "            \n",
    "    #if debug: print \"files:\",files\n",
    "    df = pd.DataFrame(data=None,columns=[\"batch\",\"learn\",\"epoch\",\"time\"])\n",
    "\n",
    "    filecounter=0\n",
    "    for file in files:\n",
    "        if debug: print file\n",
    "        df1 = fileToDF_K80(file,debug)\n",
    "        if len(df1) > 0:\n",
    "            df = pd.concat([df,df1],ignore_index=True)\n",
    "        filecounter +=1\n",
    "        if filecounter>=maxfiles:\n",
    "            return df\n",
    "    return df\n",
    "\n",
    "# Read minibatch size and 1st epoch time from files.\n",
    "# Store in a DataFrame.\n",
    "def fileToDF_K80(logfile, debug=False):\n",
    "    batch_learn_pattern = \"_b(\\d+)_l([0-9\\.]+)\"\n",
    "    global output_pattern\n",
    "    remove_str = [\"\u001b[4A\",\"\u001b[J\"]\n",
    "    logfile = logfile.strip(\" \\n\")\n",
    "    filename = os.path.basename(logfile)\n",
    "    if debug: print \"FILE\",filename\n",
    "    batch = 0\n",
    "    learn = 0\n",
    "    m = re.search(batch_learn_pattern, filename)\n",
    "    if m:\n",
    "        batch = int(m.group(1))\n",
    "        learn = float(m.group(2))\n",
    "        if debug: print \"BS,LR:\",batch,learn\n",
    "\n",
    "    with open(logfile,\"r\") as f:\n",
    "        lines = f.readlines()\n",
    "        time = 0\n",
    "        epoch = 0\n",
    "        ind = 0 # DataFrame row numebr (index)\n",
    "        df = pd.DataFrame(data=None,columns=[\"batch\",\"learn\",\"epoch\",\"time\"])\n",
    "        for line in lines:\n",
    "            s = line.strip(' \\n')\n",
    "            for rmstr in remove_str:\n",
    "                s = s.replace(rmstr,\"\")            \n",
    "            m2 = output_pattern.match(s)\n",
    "            if m2:\n",
    "                if debug: print s,\n",
    "                epoch = int(m2.group(1))\n",
    "                time = float(m2.group(6))\n",
    "                if debug: print \"BS,LR,epoch,time:\",batch,learn,epoch,time\n",
    "                df.loc[ind] = [batch,learn,epoch,time]\n",
    "                ind += 1\n",
    "                    \n",
    "    return df"
   ]
  },
  {
   "cell_type": "code",
   "execution_count": 7,
   "metadata": {},
   "outputs": [
    {
     "data": {
      "text/html": [
       "<div>\n",
       "<style scoped>\n",
       "    .dataframe tbody tr th:only-of-type {\n",
       "        vertical-align: middle;\n",
       "    }\n",
       "\n",
       "    .dataframe tbody tr th {\n",
       "        vertical-align: top;\n",
       "    }\n",
       "\n",
       "    .dataframe thead th {\n",
       "        text-align: right;\n",
       "    }\n",
       "</style>\n",
       "<table border=\"1\" class=\"dataframe\">\n",
       "  <thead>\n",
       "    <tr style=\"text-align: right;\">\n",
       "      <th></th>\n",
       "      <th>batch</th>\n",
       "      <th>learn</th>\n",
       "      <th>epoch</th>\n",
       "      <th>time</th>\n",
       "    </tr>\n",
       "  </thead>\n",
       "  <tbody>\n",
       "    <tr>\n",
       "      <th>count</th>\n",
       "      <td>266.000000</td>\n",
       "      <td>2.660000e+02</td>\n",
       "      <td>266.0</td>\n",
       "      <td>266.000000</td>\n",
       "    </tr>\n",
       "    <tr>\n",
       "      <th>mean</th>\n",
       "      <td>466.210526</td>\n",
       "      <td>1.500000e-01</td>\n",
       "      <td>1.0</td>\n",
       "      <td>169.938150</td>\n",
       "    </tr>\n",
       "    <tr>\n",
       "      <th>std</th>\n",
       "      <td>244.284911</td>\n",
       "      <td>2.780790e-17</td>\n",
       "      <td>0.0</td>\n",
       "      <td>17.175434</td>\n",
       "    </tr>\n",
       "    <tr>\n",
       "      <th>min</th>\n",
       "      <td>65.000000</td>\n",
       "      <td>1.500000e-01</td>\n",
       "      <td>1.0</td>\n",
       "      <td>87.221800</td>\n",
       "    </tr>\n",
       "    <tr>\n",
       "      <th>25%</th>\n",
       "      <td>246.000000</td>\n",
       "      <td>1.500000e-01</td>\n",
       "      <td>1.0</td>\n",
       "      <td>172.636000</td>\n",
       "    </tr>\n",
       "    <tr>\n",
       "      <th>50%</th>\n",
       "      <td>453.500000</td>\n",
       "      <td>1.500000e-01</td>\n",
       "      <td>1.0</td>\n",
       "      <td>173.322500</td>\n",
       "    </tr>\n",
       "    <tr>\n",
       "      <th>75%</th>\n",
       "      <td>683.000000</td>\n",
       "      <td>1.500000e-01</td>\n",
       "      <td>1.0</td>\n",
       "      <td>174.097500</td>\n",
       "    </tr>\n",
       "    <tr>\n",
       "      <th>max</th>\n",
       "      <td>895.000000</td>\n",
       "      <td>1.500000e-01</td>\n",
       "      <td>1.0</td>\n",
       "      <td>181.592000</td>\n",
       "    </tr>\n",
       "  </tbody>\n",
       "</table>\n",
       "</div>"
      ],
      "text/plain": [
       "            batch         learn  epoch        time\n",
       "count  266.000000  2.660000e+02  266.0  266.000000\n",
       "mean   466.210526  1.500000e-01    1.0  169.938150\n",
       "std    244.284911  2.780790e-17    0.0   17.175434\n",
       "min     65.000000  1.500000e-01    1.0   87.221800\n",
       "25%    246.000000  1.500000e-01    1.0  172.636000\n",
       "50%    453.500000  1.500000e-01    1.0  173.322500\n",
       "75%    683.000000  1.500000e-01    1.0  174.097500\n",
       "max    895.000000  1.500000e-01    1.0  181.592000"
      ]
     },
     "execution_count": 7,
     "metadata": {},
     "output_type": "execute_result"
    }
   ],
   "source": [
    "df_K80=readLogsK80(\"logs/microseries/K80\")\n",
    "df_K80.describe()"
   ]
  },
  {
   "cell_type": "code",
   "execution_count": 8,
   "metadata": {},
   "outputs": [
    {
     "data": {
      "text/plain": [
       "<matplotlib.axes._subplots.AxesSubplot at 0x7f32c616f290>"
      ]
     },
     "execution_count": 8,
     "metadata": {},
     "output_type": "execute_result"
    },
    {
     "data": {
      "image/png": "[encoded data removed]",
      "text/plain": [
       "<Figure size 432x288 with 1 Axes>"
      ]
     },
     "metadata": {},
     "output_type": "display_data"
    }
   ],
   "source": [
    "df_K80.plot(kind=\"scatter\",x=\"batch\",y=\"time\")"
   ]
  },
  {
   "cell_type": "code",
   "execution_count": 9,
   "metadata": {},
   "outputs": [
    {
     "name": "stdout",
     "output_type": "stream",
     "text": [
      "(961, 4)\n",
      "(800, 4)\n",
      "(266, 4)\n"
     ]
    }
   ],
   "source": [
    "print df_DLsrv.shape\n",
    "print df_mouse.shape\n",
    "print df_K80.shape"
   ]
  },
  {
   "cell_type": "code",
   "execution_count": 10,
   "metadata": {},
   "outputs": [
    {
     "data": {
      "text/html": [
       "<div>\n",
       "<style scoped>\n",
       "    .dataframe tbody tr th:only-of-type {\n",
       "        vertical-align: middle;\n",
       "    }\n",
       "\n",
       "    .dataframe tbody tr th {\n",
       "        vertical-align: top;\n",
       "    }\n",
       "\n",
       "    .dataframe thead th {\n",
       "        text-align: right;\n",
       "    }\n",
       "</style>\n",
       "<table border=\"1\" class=\"dataframe\">\n",
       "  <thead>\n",
       "    <tr style=\"text-align: right;\">\n",
       "      <th></th>\n",
       "      <th>GPU model</th>\n",
       "      <th>CUDA ver</th>\n",
       "      <th>CUDA Cap</th>\n",
       "      <th>CUDA cores</th>\n",
       "      <th>L2 size(MB)</th>\n",
       "      <th>SP (GFLOPS)</th>\n",
       "      <th>DP (GFLOPS)</th>\n",
       "      <th>Mem (GB)</th>\n",
       "      <th>Mband (GB/s)</th>\n",
       "    </tr>\n",
       "  </thead>\n",
       "  <tbody>\n",
       "    <tr>\n",
       "      <th>0</th>\n",
       "      <td>GTX TITAN X</td>\n",
       "      <td>9.0</td>\n",
       "      <td>5.2</td>\n",
       "      <td>3072</td>\n",
       "      <td>3.145728</td>\n",
       "      <td>6144</td>\n",
       "      <td>192.0</td>\n",
       "      <td>12.288</td>\n",
       "      <td>336</td>\n",
       "    </tr>\n",
       "    <tr>\n",
       "      <th>1</th>\n",
       "      <td>QuadroP2000</td>\n",
       "      <td>9.0</td>\n",
       "      <td>6.1</td>\n",
       "      <td>1024</td>\n",
       "      <td>1.310720</td>\n",
       "      <td>3000</td>\n",
       "      <td>94.7</td>\n",
       "      <td>5.000</td>\n",
       "      <td>140</td>\n",
       "    </tr>\n",
       "    <tr>\n",
       "      <th>2</th>\n",
       "      <td>K80</td>\n",
       "      <td>9.0</td>\n",
       "      <td>3.7</td>\n",
       "      <td>2496</td>\n",
       "      <td>1.572864</td>\n",
       "      <td>8736</td>\n",
       "      <td>2912.0</td>\n",
       "      <td>12.288</td>\n",
       "      <td>240</td>\n",
       "    </tr>\n",
       "  </tbody>\n",
       "</table>\n",
       "</div>"
      ],
      "text/plain": [
       "     GPU model  CUDA ver  CUDA Cap  CUDA cores  L2 size(MB)  SP (GFLOPS)  \\\n",
       "0  GTX TITAN X       9.0       5.2        3072     3.145728         6144   \n",
       "1  QuadroP2000       9.0       6.1        1024     1.310720         3000   \n",
       "2          K80       9.0       3.7        2496     1.572864         8736   \n",
       "\n",
       "   DP (GFLOPS)  Mem (GB)  Mband (GB/s)  \n",
       "0        192.0    12.288           336  \n",
       "1         94.7     5.000           140  \n",
       "2       2912.0    12.288           240  "
      ]
     },
     "execution_count": 10,
     "metadata": {},
     "output_type": "execute_result"
    }
   ],
   "source": [
    "GPUs_df = pd.DataFrame(columns=[\"GPU model\",\"CUDA ver\",\"CUDA Cap\",\"CUDA cores\",\"L2 size(MB)\",\"SP (GFLOPS)\",\"DP (GFLOPS)\",\"Mem (GB)\",\"Mband (GB/s)\"],\n",
    "                           data = [[\"GTX TITAN X\",     9.0,       5.2,        3072,     3.145728,         6144,          192,    12.288,           336],\n",
    "                                   [\"QuadroP2000\",     9.0,       6.1,        1024,     1.310720,         3000,         94.7,         5,           140],\n",
    "                                   [        \"K80\",     9.0,       3.7,        2496,     1.572864,         8736,         2912,    12.288,           240]])\n",
    "GPUs_df.head()                       "
   ]
  },
  {
   "cell_type": "code",
   "execution_count": 11,
   "metadata": {},
   "outputs": [
    {
     "name": "stdout",
     "output_type": "stream",
     "text": [
      "(961, 3)\n"
     ]
    },
    {
     "data": {
      "text/html": [
       "<div>\n",
       "<style scoped>\n",
       "    .dataframe tbody tr th:only-of-type {\n",
       "        vertical-align: middle;\n",
       "    }\n",
       "\n",
       "    .dataframe tbody tr th {\n",
       "        vertical-align: top;\n",
       "    }\n",
       "\n",
       "    .dataframe thead th {\n",
       "        text-align: right;\n",
       "    }\n",
       "</style>\n",
       "<table border=\"1\" class=\"dataframe\">\n",
       "  <thead>\n",
       "    <tr style=\"text-align: right;\">\n",
       "      <th></th>\n",
       "      <th>batch</th>\n",
       "      <th>time</th>\n",
       "      <th>GPU</th>\n",
       "    </tr>\n",
       "  </thead>\n",
       "  <tbody>\n",
       "    <tr>\n",
       "      <th>0</th>\n",
       "      <td>101.0</td>\n",
       "      <td>90.3823</td>\n",
       "      <td>QuadroP2000</td>\n",
       "    </tr>\n",
       "    <tr>\n",
       "      <th>1</th>\n",
       "      <td>101.0</td>\n",
       "      <td>90.4984</td>\n",
       "      <td>QuadroP2000</td>\n",
       "    </tr>\n",
       "    <tr>\n",
       "      <th>2</th>\n",
       "      <td>102.0</td>\n",
       "      <td>90.1218</td>\n",
       "      <td>QuadroP2000</td>\n",
       "    </tr>\n",
       "    <tr>\n",
       "      <th>3</th>\n",
       "      <td>103.0</td>\n",
       "      <td>90.1364</td>\n",
       "      <td>QuadroP2000</td>\n",
       "    </tr>\n",
       "    <tr>\n",
       "      <th>4</th>\n",
       "      <td>104.0</td>\n",
       "      <td>90.1099</td>\n",
       "      <td>QuadroP2000</td>\n",
       "    </tr>\n",
       "  </tbody>\n",
       "</table>\n",
       "</div>"
      ],
      "text/plain": [
       "   batch     time          GPU\n",
       "0  101.0  90.3823  QuadroP2000\n",
       "1  101.0  90.4984  QuadroP2000\n",
       "2  102.0  90.1218  QuadroP2000\n",
       "3  103.0  90.1364  QuadroP2000\n",
       "4  104.0  90.1099  QuadroP2000"
      ]
     },
     "execution_count": 11,
     "metadata": {},
     "output_type": "execute_result"
    }
   ],
   "source": [
    "df_DLsrv[\"GPU\"] = \"GTX TITAN X\" # Single precision peak GFLOPS for GTX TITAN X\n",
    "df_mouse[\"GPU\"] = \"QuadroP2000\"\n",
    "df_K80[\"GPU\"] = \"K80\"\n",
    "df_DLsrv.drop([\"learn\",\"epoch\"],axis=1,inplace=True)\n",
    "df_mouse.drop([\"learn\",\"epoch\"],axis=1,inplace=True)\n",
    "df_K80.drop([\"learn\",\"epoch\"],axis=1,inplace=True)\n",
    "print df_DLsrv.shape\n",
    "df_mouse.head()"
   ]
  },
  {
   "cell_type": "code",
   "execution_count": 12,
   "metadata": {},
   "outputs": [
    {
     "data": {
      "text/html": [
       "<div>\n",
       "<style scoped>\n",
       "    .dataframe tbody tr th:only-of-type {\n",
       "        vertical-align: middle;\n",
       "    }\n",
       "\n",
       "    .dataframe tbody tr th {\n",
       "        vertical-align: top;\n",
       "    }\n",
       "\n",
       "    .dataframe thead th {\n",
       "        text-align: right;\n",
       "    }\n",
       "</style>\n",
       "<table border=\"1\" class=\"dataframe\">\n",
       "  <thead>\n",
       "    <tr style=\"text-align: right;\">\n",
       "      <th></th>\n",
       "      <th>batch</th>\n",
       "      <th>time</th>\n",
       "      <th>GPU</th>\n",
       "    </tr>\n",
       "  </thead>\n",
       "  <tbody>\n",
       "    <tr>\n",
       "      <th>0</th>\n",
       "      <td>1000.0</td>\n",
       "      <td>24.4252</td>\n",
       "      <td>GTX TITAN X</td>\n",
       "    </tr>\n",
       "    <tr>\n",
       "      <th>1</th>\n",
       "      <td>1001.0</td>\n",
       "      <td>24.4108</td>\n",
       "      <td>GTX TITAN X</td>\n",
       "    </tr>\n",
       "    <tr>\n",
       "      <th>2</th>\n",
       "      <td>1002.0</td>\n",
       "      <td>24.4341</td>\n",
       "      <td>GTX TITAN X</td>\n",
       "    </tr>\n",
       "    <tr>\n",
       "      <th>3</th>\n",
       "      <td>1003.0</td>\n",
       "      <td>24.7236</td>\n",
       "      <td>GTX TITAN X</td>\n",
       "    </tr>\n",
       "    <tr>\n",
       "      <th>4</th>\n",
       "      <td>1004.0</td>\n",
       "      <td>25.0943</td>\n",
       "      <td>GTX TITAN X</td>\n",
       "    </tr>\n",
       "  </tbody>\n",
       "</table>\n",
       "</div>"
      ],
      "text/plain": [
       "    batch     time          GPU\n",
       "0  1000.0  24.4252  GTX TITAN X\n",
       "1  1001.0  24.4108  GTX TITAN X\n",
       "2  1002.0  24.4341  GTX TITAN X\n",
       "3  1003.0  24.7236  GTX TITAN X\n",
       "4  1004.0  25.0943  GTX TITAN X"
      ]
     },
     "execution_count": 12,
     "metadata": {},
     "output_type": "execute_result"
    }
   ],
   "source": [
    "df_DLsrv.head()"
   ]
  },
  {
   "cell_type": "code",
   "execution_count": 13,
   "metadata": {},
   "outputs": [
    {
     "name": "stdout",
     "output_type": "stream",
     "text": [
      "(2027, 3)\n"
     ]
    }
   ],
   "source": [
    "# SQL-like join\n",
    "mdf = pd.concat([df_DLsrv,df_mouse,df_K80],ignore_index=True)\n",
    "print mdf.shape"
   ]
  },
  {
   "cell_type": "code",
   "execution_count": 14,
   "metadata": {},
   "outputs": [
    {
     "data": {
      "text/html": [
       "<div>\n",
       "<style scoped>\n",
       "    .dataframe tbody tr th:only-of-type {\n",
       "        vertical-align: middle;\n",
       "    }\n",
       "\n",
       "    .dataframe tbody tr th {\n",
       "        vertical-align: top;\n",
       "    }\n",
       "\n",
       "    .dataframe thead th {\n",
       "        text-align: right;\n",
       "    }\n",
       "</style>\n",
       "<table border=\"1\" class=\"dataframe\">\n",
       "  <thead>\n",
       "    <tr style=\"text-align: right;\">\n",
       "      <th></th>\n",
       "      <th>GPU</th>\n",
       "      <th>CUDA ver</th>\n",
       "      <th>CUDA Cap</th>\n",
       "      <th>CUDA cores</th>\n",
       "      <th>L2 size(MB)</th>\n",
       "      <th>SP (GFLOPS)</th>\n",
       "      <th>DP (GFLOPS)</th>\n",
       "      <th>Mem (GB)</th>\n",
       "      <th>Mband (GB/s)</th>\n",
       "    </tr>\n",
       "  </thead>\n",
       "  <tbody>\n",
       "    <tr>\n",
       "      <th>0</th>\n",
       "      <td>GTX TITAN X</td>\n",
       "      <td>9.0</td>\n",
       "      <td>5.2</td>\n",
       "      <td>3072</td>\n",
       "      <td>3.145728</td>\n",
       "      <td>6144</td>\n",
       "      <td>192.0</td>\n",
       "      <td>12.288</td>\n",
       "      <td>336</td>\n",
       "    </tr>\n",
       "    <tr>\n",
       "      <th>1</th>\n",
       "      <td>QuadroP2000</td>\n",
       "      <td>9.0</td>\n",
       "      <td>6.1</td>\n",
       "      <td>1024</td>\n",
       "      <td>1.310720</td>\n",
       "      <td>3000</td>\n",
       "      <td>94.7</td>\n",
       "      <td>5.000</td>\n",
       "      <td>140</td>\n",
       "    </tr>\n",
       "    <tr>\n",
       "      <th>2</th>\n",
       "      <td>K80</td>\n",
       "      <td>9.0</td>\n",
       "      <td>3.7</td>\n",
       "      <td>2496</td>\n",
       "      <td>1.572864</td>\n",
       "      <td>8736</td>\n",
       "      <td>2912.0</td>\n",
       "      <td>12.288</td>\n",
       "      <td>240</td>\n",
       "    </tr>\n",
       "  </tbody>\n",
       "</table>\n",
       "</div>"
      ],
      "text/plain": [
       "           GPU  CUDA ver  CUDA Cap  CUDA cores  L2 size(MB)  SP (GFLOPS)  \\\n",
       "0  GTX TITAN X       9.0       5.2        3072     3.145728         6144   \n",
       "1  QuadroP2000       9.0       6.1        1024     1.310720         3000   \n",
       "2          K80       9.0       3.7        2496     1.572864         8736   \n",
       "\n",
       "   DP (GFLOPS)  Mem (GB)  Mband (GB/s)  \n",
       "0        192.0    12.288           336  \n",
       "1         94.7     5.000           140  \n",
       "2       2912.0    12.288           240  "
      ]
     },
     "execution_count": 14,
     "metadata": {},
     "output_type": "execute_result"
    }
   ],
   "source": [
    "GPUs_df.rename({\"GPU model\":\"GPU\"},axis=\"columns\",inplace=True)\n",
    "GPUs_df.head()"
   ]
  },
  {
   "cell_type": "code",
   "execution_count": 15,
   "metadata": {},
   "outputs": [
    {
     "data": {
      "text/html": [
       "<div>\n",
       "<style scoped>\n",
       "    .dataframe tbody tr th:only-of-type {\n",
       "        vertical-align: middle;\n",
       "    }\n",
       "\n",
       "    .dataframe tbody tr th {\n",
       "        vertical-align: top;\n",
       "    }\n",
       "\n",
       "    .dataframe thead th {\n",
       "        text-align: right;\n",
       "    }\n",
       "</style>\n",
       "<table border=\"1\" class=\"dataframe\">\n",
       "  <thead>\n",
       "    <tr style=\"text-align: right;\">\n",
       "      <th></th>\n",
       "      <th>batch</th>\n",
       "      <th>time</th>\n",
       "      <th>GPU</th>\n",
       "      <th>CUDA ver</th>\n",
       "      <th>CUDA Cap</th>\n",
       "      <th>CUDA cores</th>\n",
       "      <th>L2 size(MB)</th>\n",
       "      <th>SP (GFLOPS)</th>\n",
       "      <th>DP (GFLOPS)</th>\n",
       "      <th>Mem (GB)</th>\n",
       "      <th>Mband (GB/s)</th>\n",
       "    </tr>\n",
       "  </thead>\n",
       "  <tbody>\n",
       "    <tr>\n",
       "      <th>1761</th>\n",
       "      <td>101.0</td>\n",
       "      <td>174.921</td>\n",
       "      <td>K80</td>\n",
       "      <td>9.0</td>\n",
       "      <td>3.7</td>\n",
       "      <td>2496</td>\n",
       "      <td>1.572864</td>\n",
       "      <td>8736</td>\n",
       "      <td>2912.0</td>\n",
       "      <td>12.288</td>\n",
       "      <td>240</td>\n",
       "    </tr>\n",
       "    <tr>\n",
       "      <th>1762</th>\n",
       "      <td>104.0</td>\n",
       "      <td>173.678</td>\n",
       "      <td>K80</td>\n",
       "      <td>9.0</td>\n",
       "      <td>3.7</td>\n",
       "      <td>2496</td>\n",
       "      <td>1.572864</td>\n",
       "      <td>8736</td>\n",
       "      <td>2912.0</td>\n",
       "      <td>12.288</td>\n",
       "      <td>240</td>\n",
       "    </tr>\n",
       "    <tr>\n",
       "      <th>1763</th>\n",
       "      <td>105.0</td>\n",
       "      <td>179.941</td>\n",
       "      <td>K80</td>\n",
       "      <td>9.0</td>\n",
       "      <td>3.7</td>\n",
       "      <td>2496</td>\n",
       "      <td>1.572864</td>\n",
       "      <td>8736</td>\n",
       "      <td>2912.0</td>\n",
       "      <td>12.288</td>\n",
       "      <td>240</td>\n",
       "    </tr>\n",
       "    <tr>\n",
       "      <th>1764</th>\n",
       "      <td>110.0</td>\n",
       "      <td>181.592</td>\n",
       "      <td>K80</td>\n",
       "      <td>9.0</td>\n",
       "      <td>3.7</td>\n",
       "      <td>2496</td>\n",
       "      <td>1.572864</td>\n",
       "      <td>8736</td>\n",
       "      <td>2912.0</td>\n",
       "      <td>12.288</td>\n",
       "      <td>240</td>\n",
       "    </tr>\n",
       "    <tr>\n",
       "      <th>1765</th>\n",
       "      <td>112.0</td>\n",
       "      <td>179.857</td>\n",
       "      <td>K80</td>\n",
       "      <td>9.0</td>\n",
       "      <td>3.7</td>\n",
       "      <td>2496</td>\n",
       "      <td>1.572864</td>\n",
       "      <td>8736</td>\n",
       "      <td>2912.0</td>\n",
       "      <td>12.288</td>\n",
       "      <td>240</td>\n",
       "    </tr>\n",
       "  </tbody>\n",
       "</table>\n",
       "</div>"
      ],
      "text/plain": [
       "      batch     time  GPU  CUDA ver  CUDA Cap  CUDA cores  L2 size(MB)  \\\n",
       "1761  101.0  174.921  K80       9.0       3.7        2496     1.572864   \n",
       "1762  104.0  173.678  K80       9.0       3.7        2496     1.572864   \n",
       "1763  105.0  179.941  K80       9.0       3.7        2496     1.572864   \n",
       "1764  110.0  181.592  K80       9.0       3.7        2496     1.572864   \n",
       "1765  112.0  179.857  K80       9.0       3.7        2496     1.572864   \n",
       "\n",
       "      SP (GFLOPS)  DP (GFLOPS)  Mem (GB)  Mband (GB/s)  \n",
       "1761         8736       2912.0    12.288           240  \n",
       "1762         8736       2912.0    12.288           240  \n",
       "1763         8736       2912.0    12.288           240  \n",
       "1764         8736       2912.0    12.288           240  \n",
       "1765         8736       2912.0    12.288           240  "
      ]
     },
     "execution_count": 15,
     "metadata": {},
     "output_type": "execute_result"
    }
   ],
   "source": [
    "df = pd.merge(mdf,GPUs_df,on=\"GPU\")\n",
    "df[df[\"GPU\"]==\"K80\"].head()"
   ]
  },
  {
   "cell_type": "code",
   "execution_count": 16,
   "metadata": {},
   "outputs": [
    {
     "data": {
      "text/plain": [
       "<matplotlib.axes._subplots.AxesSubplot at 0x7f32c6160a90>"
      ]
     },
     "execution_count": 16,
     "metadata": {},
     "output_type": "execute_result"
    },
    {
     "data": {
      "image/png": "[encoded data removed]",
      "text/plain": [
       "<Figure size 432x288 with 2 Axes>"
      ]
     },
     "metadata": {},
     "output_type": "display_data"
    }
   ],
   "source": [
    "df.plot(kind=\"scatter\",x=\"batch\",y=\"time\",c=\"CUDA cores\",grid=True,alpha=0.3,colormap=\"winter\")"
   ]
  },
  {
   "cell_type": "markdown",
   "metadata": {},
   "source": [
    "## Prepare samples X and GT Y"
   ]
  },
  {
   "cell_type": "code",
   "execution_count": 17,
   "metadata": {},
   "outputs": [
    {
     "data": {
      "text/plain": [
       "(2027, 6)"
      ]
     },
     "execution_count": 17,
     "metadata": {},
     "output_type": "execute_result"
    }
   ],
   "source": [
    "X = df[[\"batch\",\"Mem (GB)\",\"Mband (GB/s)\", \"CUDA Cap\", \"CUDA cores\", \"L2 size(MB)\"]].values\n",
    "Y = df[\"time\"].values\n",
    "X.shape"
   ]
  },
  {
   "cell_type": "code",
   "execution_count": 18,
   "metadata": {},
   "outputs": [
    {
     "data": {
      "image/png": "[encoded data removed]",
      "text/plain": [
       "<Figure size 432x288 with 1 Axes>"
      ]
     },
     "metadata": {},
     "output_type": "display_data"
    }
   ],
   "source": [
    "fig = plt.scatter(x=X[:,0],y=Y,c=X[:,1],s=2,alpha=0.3,cmap=\"winter\")\n",
    "plt.grid(linestyle=\":\",alpha=0.3)\n",
    "plt.show()"
   ]
  },
  {
   "cell_type": "markdown",
   "metadata": {},
   "source": [
    "### Split samples to training and test sets"
   ]
  },
  {
   "cell_type": "code",
   "execution_count": 19,
   "metadata": {},
   "outputs": [
    {
     "name": "stdout",
     "output_type": "stream",
     "text": [
      "(100, 6) x (1927, 6)\n"
     ]
    },
    {
     "name": "stderr",
     "output_type": "stream",
     "text": [
      "/home/peter/.local/lib/python2.7/site-packages/sklearn/model_selection/_split.py:2026: FutureWarning: From version 0.21, test_size will always complement train_size unless both are specified.\n",
      "  FutureWarning)\n"
     ]
    }
   ],
   "source": [
    "# Create training and test sets.\n",
    "train_size=100\n",
    "X_train, X_test, Y_train, Y_test = train_test_split(\n",
    "    X, Y, train_size=train_size, shuffle = True)\n",
    "\n",
    "print X_train.shape,\"x\",X_test.shape"
   ]
  },
  {
   "cell_type": "code",
   "execution_count": 20,
   "metadata": {},
   "outputs": [
    {
     "data": {
      "image/png": "[encoded data removed]",
      "text/plain": [
       "<Figure size 720x576 with 4 Axes>"
      ]
     },
     "metadata": {},
     "output_type": "display_data"
    }
   ],
   "source": [
    "f, axarr = plt.subplots(2, sharex=True,figsize=(10,8))\n",
    "sc0 = axarr[0].scatter(x=X_train[:,0],y=Y_train,c=X_train[:,1],s=3,alpha=0.5,cmap=\"winter\")\n",
    "sc1 = axarr[1].scatter(x=X_test[:,0],y=Y_test,c=X_test[:,1],s=3,alpha=0.5,cmap=\"winter\")\n",
    "axarr[0].set_title(\"training set\")\n",
    "axarr[1].set_title(\"test set\")\n",
    "axarr[0].grid()\n",
    "axarr[1].grid()\n",
    "plt.colorbar(sc0,ax=axarr[0])\n",
    "plt.colorbar(sc1,ax=axarr[1])\n",
    "plt.show()"
   ]
  },
  {
   "cell_type": "code",
   "execution_count": 21,
   "metadata": {},
   "outputs": [],
   "source": [
    "# Fit Random Forest\n",
    "clf = RandomForestRegressor(n_estimators=50)\n",
    "clf = clf.fit(X_train,Y_train)"
   ]
  },
  {
   "cell_type": "code",
   "execution_count": 22,
   "metadata": {},
   "outputs": [],
   "source": [
    "H_test = clf.predict(X_test)"
   ]
  },
  {
   "cell_type": "code",
   "execution_count": 23,
   "metadata": {},
   "outputs": [
    {
     "data": {
      "text/plain": [
       "15.730770309095021"
      ]
     },
     "execution_count": 23,
     "metadata": {},
     "output_type": "execute_result"
    }
   ],
   "source": [
    "mean_squared_error(Y_test, H_test)"
   ]
  },
  {
   "cell_type": "code",
   "execution_count": 24,
   "metadata": {},
   "outputs": [
    {
     "data": {
      "text/plain": [
       "8.560091911616503"
      ]
     },
     "execution_count": 24,
     "metadata": {},
     "output_type": "execute_result"
    }
   ],
   "source": [
    "H_train = clf.predict(X_train)\n",
    "mean_squared_error(Y_train, H_train)"
   ]
  },
  {
   "cell_type": "code",
   "execution_count": 30,
   "metadata": {
    "scrolled": true
   },
   "outputs": [
    {
     "name": "stdout",
     "output_type": "stream",
     "text": [
      "20\n"
     ]
    },
    {
     "name": "stdout",
     "output_type": "stream",
     "text": [
      "(100,) x (1000,)   (101,) x (1000,)   (102,) x (1000,)   (103,) x (1000,)   (104,) x (1000,)   (105,) x (1000,)   (106,) x (1000,)   (107,) x (1000,)   (108,) x (1000,)   (109,) x (1000,)   (110,) x (1000,)   (111,) x (1000,)   (112,) x (1000,)   (113,) x (1000,)   (114,) x (1000,)   (115,) x (1000,)   (116,) x (1000,)   (117,) x (1000,)   (118,) x (1000,)   (119,) x (1000,)   (120,) x (1000,)   (121,) x (1000,)   (122,) x (1000,)   (123,) x (1000,)   (124,) x (1000,)   (125,) x (1000,)   (126,) x (1000,)   (127,) x (1000,)   (128,) x (1000,)   (129,) x (1000,)   (130,) x (1000,)   (131,) x (1000,)   (132,) x (1000,)   (133,) x (1000,)   (134,) x (1000,)   (135,) x (1000,)   (136,) x (1000,)   (137,) x (1000,)   (138,) x (1000,)   (139,) x (1000,)   (140,) x (1000,)   (141,) x (1000,)   (142,) x (1000,)   (143,) x (1000,)   (144,) x (1000,)   (145,) x (1000,)   (146,) x (1000,)   (147,) x (1000,)   (148,) x (1000,)   (149,) x (1000,)   (150,) x (1000,)   (151,) x (1000,)   (152,) x (1000,)   (153,) x (1000,)   (154,) x (1000,)   (155,) x (1000,)   (156,) x (1000,)   (157,) x (1000,)   (158,) x (1000,)   (159,) x (1000,)   (160,) x (1000,)   (161,) x (1000,)   (162,) x (1000,)   (163,) x (1000,)   (164,) x (1000,)   (165,) x (1000,)   (166,) x (1000,)   (167,) x (1000,)   (168,) x (1000,)   (169,) x (1000,)   (170,) x (1000,)   (171,) x (1000,)   (172,) x (1000,)   (173,) x (1000,)   (174,) x (1000,)   (175,) x (1000,)   (176,) x (1000,)   (177,) x (1000,)   (178,) x (1000,)   (179,) x (1000,)   (180,) x (1000,)   (181,) x (1000,)   (182,) x (1000,)   (183,) x (1000,)   (184,) x (1000,)   (185,) x (1000,)   (186,) x (1000,)   (187,) x (1000,)   (188,) x (1000,)   (189,) x (1000,)   (190,) x (1000,)   (191,) x (1000,)   (192,) x (1000,)   (193,) x (1000,)   (194,) x (1000,)   (195,) x (1000,)   (196,) x (1000,)   (197,) x (1000,)   (198,) x (1000,)   (199,) x (1000,)   (200,) x (1000,)   (201,) x (1000,)   (202,) x (1000,)   (203,) x (1000,)   (204,) x (1000,)   (205,) x (1000,)   (206,) x (1000,)   (207,) x (1000,)   (208,) x (1000,)   (209,) x (1000,)   (210,) x (1000,)   (211,) x (1000,)   (212,) x (1000,)   (213,) x (1000,)   (214,) x (1000,)   (215,) x (1000,)   (216,) x (1000,)   (217,) x (1000,)   (218,) x (1000,)   (219,) x (1000,)   (220,) x (1000,)   (221,) x (1000,)   (222,) x (1000,)   (223,) x (1000,)   (224,) x (1000,)   (225,) x (1000,)   (226,) x (1000,)   (227,) x (1000,)   (228,) x (1000,)   (229,) x (1000,)   (230,) x (1000,)   (231,) x (1000,)   (232,) x (1000,)   (233,) x (1000,)   (234,) x (1000,)   (235,) x (1000,)   (236,) x (1000,)   (237,) x (1000,)   (238,) x (1000,)   (239,) x (1000,)   (240,) x (1000,)   (241,) x (1000,)   (242,) x (1000,)   (243,) x (1000,)   (244,) x (1000,)   (245,) x (1000,)   (246,) x (1000,)   (247,) x (1000,)   (248,) x (1000,)   (249,) x (1000,)   (250,) x (1000,)   (251,) x (1000,)   (252,) x (1000,)   (253,) x (1000,)   (254,) x (1000,)   (255,) x (1000,)   (256,) x (1000,)   (257,) x (1000,)   (258,) x (1000,)   (259,) x (1000,)   (260,) x (1000,)   (261,) x (1000,)   (262,) x (1000,)   (263,) x (1000,)   (264,) x (1000,)   (265,) x (1000,)   (266,) x (1000,)   (267,) x (1000,)   (268,) x (1000,)   (269,) x (1000,)   (270,) x (1000,)   (271,) x (1000,)   (272,) x (1000,)   (273,) x (1000,)   (274,) x (1000,)   (275,) x (1000,)   (276,) x (1000,)   (277,) x (1000,)   (278,) x (1000,)   (279,) x (1000,)   (280,) x (1000,)   (281,) x (1000,)   (282,) x (1000,)   (283,) x (1000,)   (284,) x (1000,)   (285,) x (1000,)   (286,) x (1000,)   (287,) x (1000,)   (288,) x (1000,)   (289,) x (1000,)   (290,) x (1000,)   (291,) x (1000,)   (292,) x (1000,)   (293,) x (1000,)   (294,) x (1000,)   (295,) x (1000,)   (296,) x (1000,)   (297,) x (1000,)   (298,) x (1000,)   (299,) x (1000,)   (300,) x (1000,)   (301,) x (1000,)   (302,) x (1000,)   (303,) x (1000,)   (304,) x (1000,)   (305,) x (1000,)   (306,) x (1000,)   (307,) x (1000,)   (308,) x (1000,)   (309,) x (1000,)   (310,) x (1000,)   (311,) x (1000,)   (312,) x (1000,)   (313,) x (1000,)   (314,) x (1000,)   (315,) x (1000,)   (316,) x (1000,)   (317,) x (1000,)   (318,) x (1000,)   (319,) x (1000,)   (320,) x (1000,)   (321,) x (1000,)   (322,) x (1000,)   (323,) x (1000,)   (324,) x (1000,)   (325,) x (1000,)   (326,) x (1000,)   (327,) x (1000,)   (328,) x (1000,)   (329,) x (1000,)   (330,) x (1000,)   (331,) x (1000,)   (332,) x (1000,)   (333,) x (1000,)   (334,) x (1000,)   (335,) x (1000,)   (336,) x (1000,)   (337,) x (1000,)   (338,) x (1000,)   (339,) x (1000,)   (340,) x (1000,)   (341,) x (1000,)   (342,) x (1000,)   (343,) x (1000,)   (344,) x (1000,)   (345,) x (1000,)   (346,) x (1000,)   (347,) x (1000,)   (348,) x (1000,)   (349,) x (1000,)   (350,) x (1000,)   (351,) x (1000,)   (352,) x (1000,)   (353,) x (1000,)   (354,) x (1000,)   (355,) x (1000,)   (356,) x (1000,)   (357,) x (1000,)   (358,) x (1000,)   (359,) x (1000,)   (360,) x (1000,)   (361,) x (1000,)   (362,) x (1000,)   (363,) x (1000,)   (364,) x (1000,)   (365,) x (1000,)   (366,) x (1000,)   (367,) x (1000,)   (368,) x (1000,)   (369,) x (1000,)   (370,) x (1000,)   (371,) x (1000,)   (372,) x (1000,)   (373,) x (1000,)   (374,) x (1000,)   (375,) x (1000,)   (376,) x (1000,)   (377,) x (1000,)   (378,) x (1000,)   (379,) x (1000,)   (380,) x (1000,)   (381,) x (1000,)   (382,) x (1000,)   (383,) x (1000,)   (384,) x (1000,)   (385,) x (1000,)   (386,) x (1000,)   (387,) x (1000,)   (388,) x (1000,)   (389,) x (1000,)   (390,) x (1000,)   (391,) x (1000,)   (392,) x (1000,)   (393,) x (1000,)   (394,) x (1000,)   (395,) x (1000,)   (396,) x (1000,)   (397,) x (1000,)   (398,) x (1000,)   (399,) x (1000,)   (400,) x (1000,)   (401,) x (1000,)   (402,) x (1000,)   (403,) x (1000,)   (404,) x (1000,)   (405,) x (1000,)   (406,) x (1000,)   (407,) x (1000,)   (408,) x (1000,)   (409,) x (1000,)   (410,) x (1000,)   (411,) x (1000,)   (412,) x (1000,)   (413,) x (1000,)   (414,) x (1000,)   (415,) x (1000,)   (416,) x (1000,)   (417,) x (1000,)   (418,) x (1000,)   (419,) x (1000,)   (420,) x (1000,)   (421,) x (1000,)   (422,) x (1000,)   (423,) x (1000,)   (424,) x (1000,)   (425,) x (1000,)   (426,) x (1000,)   (427,) x (1000,)   (428,) x (1000,)   (429,) x (1000,)   (430,) x (1000,)   (431,) x (1000,)   (432,) x (1000,)   (433,) x (1000,)   (434,) x (1000,)   (435,) x (1000,)   (436,) x (1000,)   (437,) x (1000,)   (438,) x (1000,)   (439,) x (1000,)   (440,) x (1000,)   (441,) x (1000,)   (442,) x (1000,)   (443,) x (1000,)   (444,) x (1000,)   (445,) x (1000,)   (446,) x (1000,)   (447,) x (1000,)   (448,) x (1000,)   (449,) x (1000,)   (450,) x (1000,)   (451,) x (1000,)   (452,) x (1000,)   (453,) x (1000,)   (454,) x (1000,)   (455,) x (1000,)   (456,) x (1000,)   (457,) x (1000,)   (458,) x (1000,)   (459,) x (1000,)   (460,) x (1000,)   (461,) x (1000,)   (462,) x (1000,)   (463,) x (1000,)   (464,) x (1000,)   (465,) x (1000,)   (466,) x (1000,)   (467,) x (1000,)   (468,) x (1000,)   (469,) x (1000,)   (470,) x (1000,)   (471,) x (1000,)   (472,) x (1000,)   (473,) x (1000,)   (474,) x (1000,)   (475,) x (1000,)   (476,) x (1000,)   (477,) x (1000,)   (478,) x (1000,)   (479,) x (1000,)   (480,) x (1000,)   (481,) x (1000,)   (482,) x (1000,)   (483,) x (1000,)   (484,) x (1000,)   (485,) x (1000,)   (486,) x (1000,)   (487,) x (1000,)   (488,) x (1000,)   (489,) x (1000,)   (490,) x (1000,)   (491,) x (1000,)   (492,) x (1000,)   (493,) x (1000,)   (494,) x (1000,)   (495,) x (1000,)   (496,) x (1000,)   (497,) x (1000,)   (498,) x (1000,)   (499,) x (1000,)   (500,) x (1000,)   (501,) x (1000,)   (502,) x (1000,)   (503,) x (1000,)   (504,) x (1000,)   (505,) x (1000,)   (506,) x (1000,)   (507,) x (1000,)   (508,) x (1000,)   (509,) x (1000,)   (510,) x (1000,)   (511,) x (1000,)   (512,) x (1000,)   (513,) x (1000,)   (514,) x (1000,)   (515,) x (1000,)   (516,) x (1000,)   (517,) x (1000,)   (518,) x (1000,)   (519,) x (1000,)   (520,) x (1000,)   (521,) x (1000,)   (522,) x (1000,)   (523,) x (1000,)   (524,) x (1000,)   (525,) x (1000,)   (526,) x (1000,)   (527,) x (1000,)   (528,) x (1000,)   (529,) x (1000,)   (530,) x (1000,)   (531,) x (1000,)   (532,) x (1000,)  "
     ]
    },
    {
     "name": "stdout",
     "output_type": "stream",
     "text": [
      " (533,) x (1000,)   (534,) x (1000,)   (535,) x (1000,)   (536,) x (1000,)   (537,) x (1000,)   (538,) x (1000,)   (539,) x (1000,)   (540,) x (1000,)   (541,) x (1000,)   (542,) x (1000,)   (543,) x (1000,)   (544,) x (1000,)   (545,) x (1000,)   (546,) x (1000,)   (547,) x (1000,)   (548,) x (1000,)   (549,) x (1000,)   (550,) x (1000,)   (551,) x (1000,)   (552,) x (1000,)   (553,) x (1000,)   (554,) x (1000,)   (555,) x (1000,)   (556,) x (1000,)   (557,) x (1000,)   (558,) x (1000,)   (559,) x (1000,)   (560,) x (1000,)   (561,) x (1000,)   (562,) x (1000,)   (563,) x (1000,)   (564,) x (1000,)   (565,) x (1000,)   (566,) x (1000,)   (567,) x (1000,)   (568,) x (1000,)   (569,) x (1000,)   (570,) x (1000,)   (571,) x (1000,)   (572,) x (1000,)   (573,) x (1000,)   (574,) x (1000,)   (575,) x (1000,)   (576,) x (1000,)   (577,) x (1000,)   (578,) x (1000,)   (579,) x (1000,)   (580,) x (1000,)   (581,) x (1000,)   (582,) x (1000,)   (583,) x (1000,)   (584,) x (1000,)   (585,) x (1000,)   (586,) x (1000,)   (587,) x (1000,)   (588,) x (1000,)   (589,) x (1000,)   (590,) x (1000,)   (591,) x (1000,)   (592,) x (1000,)   (593,) x (1000,)   (594,) x (1000,)   (595,) x (1000,)   (596,) x (1000,)   (597,) x (1000,)   (598,) x (1000,)   (599,) x (1000,)   (600,) x (1000,)   (601,) x (1000,)   (602,) x (1000,)   (603,) x (1000,)   (604,) x (1000,)   (605,) x (1000,)   (606,) x (1000,)   (607,) x (1000,)   (608,) x (1000,)   (609,) x (1000,)   (610,) x (1000,)   (611,) x (1000,)   (612,) x (1000,)   (613,) x (1000,)   (614,) x (1000,)   (615,) x (1000,)   (616,) x (1000,)   (617,) x (1000,)   (618,) x (1000,)   (619,) x (1000,)   (620,) x (1000,)   (621,) x (1000,)   (622,) x (1000,)   (623,) x (1000,)   (624,) x (1000,)   (625,) x (1000,)   (626,) x (1000,)   (627,) x (1000,)   (628,) x (1000,)   (629,) x (1000,)   (630,) x (1000,)   (631,) x (1000,)   (632,) x (1000,)   (633,) x (1000,)   (634,) x (1000,)   (635,) x (1000,)   (636,) x (1000,)   (637,) x (1000,)   (638,) x (1000,)   (639,) x (1000,)   (640,) x (1000,)   (641,) x (1000,)   (642,) x (1000,)   (643,) x (1000,)   (644,) x (1000,)   (645,) x (1000,)   (646,) x (1000,)   (647,) x (1000,)   (648,) x (1000,)   (649,) x (1000,)   (650,) x (1000,)   (651,) x (1000,)   (652,) x (1000,)   (653,) x (1000,)   (654,) x (1000,)   (655,) x (1000,)   (656,) x (1000,)   (657,) x (1000,)   (658,) x (1000,)   (659,) x (1000,)   (660,) x (1000,)   (661,) x (1000,)   (662,) x (1000,)   (663,) x (1000,)   (664,) x (1000,)   (665,) x (1000,)   (666,) x (1000,)   (667,) x (1000,)   (668,) x (1000,)   (669,) x (1000,)   (670,) x (1000,)   (671,) x (1000,)   (672,) x (1000,)   (673,) x (1000,)   (674,) x (1000,)   (675,) x (1000,)   (676,) x (1000,)   (677,) x (1000,)   (678,) x (1000,)   (679,) x (1000,)   (680,) x (1000,)   (681,) x (1000,)   (682,) x (1000,)   (683,) x (1000,)   (684,) x (1000,)   (685,) x (1000,)   (686,) x (1000,)   (687,) x (1000,)   (688,) x (1000,)   (689,) x (1000,)   (690,) x (1000,)   (691,) x (1000,)   (692,) x (1000,)   (693,) x (1000,)   (694,) x (1000,)   (695,) x (1000,)   (696,) x (1000,)   (697,) x (1000,)   (698,) x (1000,)   (699,) x (1000,)   (700,) x (1000,)   (701,) x (1000,)   (702,) x (1000,)   (703,) x (1000,)   (704,) x (1000,)   (705,) x (1000,)   (706,) x (1000,)   (707,) x (1000,)   (708,) x (1000,)   (709,) x (1000,)   (710,) x (1000,)   (711,) x (1000,)   (712,) x (1000,)   (713,) x (1000,)   (714,) x (1000,)   (715,) x (1000,)   (716,) x (1000,)   (717,) x (1000,)   (718,) x (1000,)   (719,) x (1000,)   (720,) x (1000,)   (721,) x (1000,)   (722,) x (1000,)   (723,) x (1000,)   (724,) x (1000,)   (725,) x (1000,)   (726,) x (1000,)   (727,) x (1000,)   (728,) x (1000,)   (729,) x (1000,)   (730,) x (1000,)   (731,) x (1000,)   (732,) x (1000,)   (733,) x (1000,)   (734,) x (1000,)   (735,) x (1000,)   (736,) x (1000,)   (737,) x (1000,)   (738,) x (1000,)   (739,) x (1000,)   (740,) x (1000,)   (741,) x (1000,)   (742,) x (1000,)   (743,) x (1000,)   (744,) x (1000,)   (745,) x (1000,)   (746,) x (1000,)   (747,) x (1000,)   (748,) x (1000,)   (749,) x (1000,)   (750,) x (1000,)   (751,) x (1000,)   (752,) x (1000,)   (753,) x (1000,)   (754,) x (1000,)   (755,) x (1000,)   (756,) x (1000,)   (757,) x (1000,)   (758,) x (1000,)   (759,) x (1000,)   (760,) x (1000,)   (761,) x (1000,)   (762,) x (1000,)   (763,) x (1000,)   (764,) x (1000,)   (765,) x (1000,)   (766,) x (1000,)   (767,) x (1000,)   (768,) x (1000,)   (769,) x (1000,)   (770,) x (1000,)   (771,) x (1000,)   (772,) x (1000,)   (773,) x (1000,)   (774,) x (1000,)   (775,) x (1000,)   (776,) x (1000,)   (777,) x (1000,)   (778,) x (1000,)   (779,) x (1000,)   (780,) x (1000,)   (781,) x (1000,)   (782,) x (1000,)   (783,) x (1000,)   (784,) x (1000,)   (785,) x (1000,)   (786,) x (1000,)   (787,) x (1000,)   (788,) x (1000,)   (789,) x (1000,)   (790,) x (1000,)   (791,) x (1000,)   (792,) x (1000,)   (793,) x (1000,)   (794,) x (1000,)   (795,) x (1000,)   (796,) x (1000,)   (797,) x (1000,)   (798,) x (1000,)   (799,) x (1000,)   (800,) x (1000,)   (801,) x (1000,)   (802,) x (1000,)   (803,) x (1000,)   (804,) x (1000,)   (805,) x (1000,)   (806,) x (1000,)   (807,) x (1000,)   (808,) x (1000,)   (809,) x (1000,)   (810,) x (1000,)   (811,) x (1000,)   (812,) x (1000,)   (813,) x (1000,)   (814,) x (1000,)   (815,) x (1000,)   (816,) x (1000,)   (817,) x (1000,)   (818,) x (1000,)   (819,) x (1000,)   (820,) x (1000,)   (821,) x (1000,)   (822,) x (1000,)   (823,) x (1000,)   (824,) x (1000,)   (825,) x (1000,)   (826,) x (1000,)   (827,) x (1000,)   (828,) x (1000,)   (829,) x (1000,)   (830,) x (1000,)   (831,) x (1000,)   (832,) x (1000,)   (833,) x (1000,)   (834,) x (1000,)   (835,) x (1000,)   (836,) x (1000,)   (837,) x (1000,)   (838,) x (1000,)   (839,) x (1000,)   (840,) x (1000,)   (841,) x (1000,)   (842,) x (1000,)   (843,) x (1000,)   (844,) x (1000,)   (845,) x (1000,)   (846,) x (1000,)   (847,) x (1000,)   (848,) x (1000,)   (849,) x (1000,)   (850,) x (1000,)   (851,) x (1000,)   (852,) x (1000,)   (853,) x (1000,)   (854,) x (1000,)   (855,) x (1000,)   (856,) x (1000,)   (857,) x (1000,)   (858,) x (1000,)   (859,) x (1000,)   (860,) x (1000,)   (861,) x (1000,)   (862,) x (1000,)   (863,) x (1000,)   (864,) x (1000,)   (865,) x (1000,)   (866,) x (1000,)   (867,) x (1000,)   (868,) x (1000,)   (869,) x (1000,)   (870,) x (1000,)   (871,) x (1000,)   (872,) x (1000,)   (873,) x (1000,)   (874,) x (1000,)   (875,) x (1000,)   (876,) x (1000,)   (877,) x (1000,)   (878,) x (1000,)   (879,) x (1000,)   (880,) x (1000,)   (881,) x (1000,)   (882,) x (1000,)   (883,) x (1000,)   (884,) x (1000,)   (885,) x (1000,)   (886,) x (1000,)   (887,) x (1000,)   (888,) x (1000,)   (889,) x (1000,)   (890,) x (1000,)   (891,) x (1000,)   (892,) x (1000,)   (893,) x (1000,)   (894,) x (1000,)   (895,) x (1000,)   (896,) x (1000,)   (897,) x (1000,)   (898,) x (1000,)   (899,) x (1000,)   (900,) x (1000,)   (901,) x (1000,)   (902,) x (1000,)   (903,) x (1000,)   (904,) x (1000,)   (905,) x (1000,)   (906,) x (1000,)   (907,) x (1000,)   (908,) x (1000,)   (909,) x (1000,)   (910,) x (1000,)   (911,) x (1000,)   (912,) x (1000,)   (913,) x (1000,)   (914,) x (1000,)   (915,) x (1000,)   (916,) x (1000,)   (917,) x (1000,)   (918,) x (1000,)   (919,) x (1000,)   (920,) x (1000,)   (921,) x (1000,)   (922,) x (1000,)   (923,) x (1000,)   (924,) x (1000,)   (925,) x (1000,)   (926,) x (1000,)   (927,) x (1000,)   (928,) x (1000,)   (929,) x (1000,)   (930,) x (1000,)   (931,) x (1000,)   (932,) x (1000,)   (933,) x (1000,)   (934,) x (1000,)   (935,) x (1000,)   (936,) x (1000,)   (937,) x (1000,)   (938,) x (1000,)   (939,) x (1000,)   (940,) x (1000,)   (941,) x (1000,)   (942,) x (1000,)   (943,) x (1000,)   (944,) x (1000,)   (945,) x (1000,)   (946,) x (1000,)   (947,) x (1000,)   (948,) x (1000,)   (949,) x (1000,)   (950,) x (1000,)   (951,) x (1000,)   (952,) x (1000,)   (953,) x (1000,)   (954,) x (1000,)   (955,) x (1000,)   (956,) x (1000,)   (957,) x (1000,)   (958,) x (1000,)   (959,) x (1000,)   (960,) x (1000,)   (961,) x (1000,)   (962,) x (1000,)   (963,) x (1000,)   (964,) x (1000,)  "
     ]
    },
    {
     "name": "stdout",
     "output_type": "stream",
     "text": [
      " (965,) x (1000,)   (966,) x (1000,)   (967,) x (1000,)   (968,) x (1000,)   (969,) x (1000,)   (970,) x (1000,)   (971,) x (1000,)   (972,) x (1000,)   (973,) x (1000,)   (974,) x (1000,)   (975,) x (1000,)   (976,) x (1000,)   (977,) x (1000,)   (978,) x (1000,)   (979,) x (1000,)   (980,) x (1000,)   (981,) x (1000,)   (982,) x (1000,)   (983,) x (1000,)   (984,) x (1000,)   (985,) x (1000,)   (986,) x (1000,)   (987,) x (1000,)   (988,) x (1000,)   (989,) x (1000,)   (990,) x (1000,)   (991,) x (1000,)   (992,) x (1000,)   (993,) x (1000,)   (994,) x (1000,)   (995,) x (1000,)   (996,) x (1000,)   (997,) x (1000,)   (998,) x (1000,)   (999,) x (1000,)   40\n"
     ]
    },
    {
     "name": "stdout",
     "output_type": "stream",
     "text": [
      "(100,) x (1000,)   (101,) x (1000,)   (102,) x (1000,)   (103,) x (1000,)   (104,) x (1000,)   (105,) x (1000,)   (106,) x (1000,)   (107,) x (1000,)   (108,) x (1000,)   (109,) x (1000,)   (110,) x (1000,)   (111,) x (1000,)   (112,) x (1000,)   (113,) x (1000,)   (114,) x (1000,)   (115,) x (1000,)   (116,) x (1000,)   (117,) x (1000,)   (118,) x (1000,)   (119,) x (1000,)   (120,) x (1000,)   (121,) x (1000,)   (122,) x (1000,)   (123,) x (1000,)   (124,) x (1000,)   (125,) x (1000,)   (126,) x (1000,)   (127,) x (1000,)   (128,) x (1000,)   (129,) x (1000,)   (130,) x (1000,)   (131,) x (1000,)   (132,) x (1000,)   (133,) x (1000,)   (134,) x (1000,)   (135,) x (1000,)   (136,) x (1000,)   (137,) x (1000,)   (138,) x (1000,)   (139,) x (1000,)   (140,) x (1000,)   (141,) x (1000,)   (142,) x (1000,)   (143,) x (1000,)   (144,) x (1000,)   (145,) x (1000,)   (146,) x (1000,)   (147,) x (1000,)   (148,) x (1000,)   (149,) x (1000,)   (150,) x (1000,)   (151,) x (1000,)   (152,) x (1000,)   (153,) x (1000,)   (154,) x (1000,)   (155,) x (1000,)   (156,) x (1000,)   (157,) x (1000,)   (158,) x (1000,)   (159,) x (1000,)   (160,) x (1000,)   (161,) x (1000,)   (162,) x (1000,)   (163,) x (1000,)   (164,) x (1000,)   (165,) x (1000,)   (166,) x (1000,)   (167,) x (1000,)   (168,) x (1000,)   (169,) x (1000,)   (170,) x (1000,)   (171,) x (1000,)   (172,) x (1000,)   (173,) x (1000,)   (174,) x (1000,)   (175,) x (1000,)   (176,) x (1000,)   (177,) x (1000,)   (178,) x (1000,)   (179,) x (1000,)   (180,) x (1000,)   (181,) x (1000,)   (182,) x (1000,)   (183,) x (1000,)   (184,) x (1000,)   (185,) x (1000,)   (186,) x (1000,)   (187,) x (1000,)   (188,) x (1000,)   (189,) x (1000,)   (190,) x (1000,)   (191,) x (1000,)   (192,) x (1000,)   (193,) x (1000,)   (194,) x (1000,)   (195,) x (1000,)   (196,) x (1000,)   (197,) x (1000,)   (198,) x (1000,)   (199,) x (1000,)   (200,) x (1000,)   (201,) x (1000,)   (202,) x (1000,)   (203,) x (1000,)   (204,) x (1000,)   (205,) x (1000,)   (206,) x (1000,)   (207,) x (1000,)   (208,) x (1000,)   (209,) x (1000,)   (210,) x (1000,)   (211,) x (1000,)   (212,) x (1000,)   (213,) x (1000,)   (214,) x (1000,)   (215,) x (1000,)   (216,) x (1000,)   (217,) x (1000,)   (218,) x (1000,)   (219,) x (1000,)   (220,) x (1000,)   (221,) x (1000,)   (222,) x (1000,)   (223,) x (1000,)   (224,) x (1000,)   (225,) x (1000,)   (226,) x (1000,)   (227,) x (1000,)   (228,) x (1000,)   (229,) x (1000,)   (230,) x (1000,)   (231,) x (1000,)   (232,) x (1000,)   (233,) x (1000,)   (234,) x (1000,)   (235,) x (1000,)   (236,) x (1000,)   (237,) x (1000,)   (238,) x (1000,)   (239,) x (1000,)   (240,) x (1000,)   (241,) x (1000,)   (242,) x (1000,)   (243,) x (1000,)   (244,) x (1000,)   (245,) x (1000,)   (246,) x (1000,)   (247,) x (1000,)   (248,) x (1000,)   (249,) x (1000,)   (250,) x (1000,)   (251,) x (1000,)   (252,) x (1000,)   (253,) x (1000,)   (254,) x (1000,)   (255,) x (1000,)   (256,) x (1000,)   (257,) x (1000,)   (258,) x (1000,)   (259,) x (1000,)   (260,) x (1000,)   (261,) x (1000,)   (262,) x (1000,)   (263,) x (1000,)   (264,) x (1000,)   (265,) x (1000,)   (266,) x (1000,)   (267,) x (1000,)   (268,) x (1000,)   (269,) x (1000,)   (270,) x (1000,)   (271,) x (1000,)   (272,) x (1000,)   (273,) x (1000,)   (274,) x (1000,)   (275,) x (1000,)   (276,) x (1000,)   (277,) x (1000,)   (278,) x (1000,)   (279,) x (1000,)   (280,) x (1000,)   (281,) x (1000,)   (282,) x (1000,)   (283,) x (1000,)   (284,) x (1000,)   (285,) x (1000,)   (286,) x (1000,)   (287,) x (1000,)   (288,) x (1000,)   (289,) x (1000,)   (290,) x (1000,)   (291,) x (1000,)   (292,) x (1000,)   (293,) x (1000,)   (294,) x (1000,)   (295,) x (1000,)   (296,) x (1000,)   (297,) x (1000,)   (298,) x (1000,)   (299,) x (1000,)   (300,) x (1000,)   (301,) x (1000,)   (302,) x (1000,)   (303,) x (1000,)   (304,) x (1000,)   (305,) x (1000,)   (306,) x (1000,)   (307,) x (1000,)   (308,) x (1000,)   (309,) x (1000,)   (310,) x (1000,)   (311,) x (1000,)   (312,) x (1000,)   (313,) x (1000,)   (314,) x (1000,)   (315,) x (1000,)   (316,) x (1000,)   (317,) x (1000,)   (318,) x (1000,)   (319,) x (1000,)   (320,) x (1000,)   (321,) x (1000,)   (322,) x (1000,)   (323,) x (1000,)   (324,) x (1000,)   (325,) x (1000,)   (326,) x (1000,)   (327,) x (1000,)   (328,) x (1000,)   (329,) x (1000,)   (330,) x (1000,)   (331,) x (1000,)   (332,) x (1000,)   (333,) x (1000,)   (334,) x (1000,)   (335,) x (1000,)   (336,) x (1000,)   (337,) x (1000,)   (338,) x (1000,)   (339,) x (1000,)   (340,) x (1000,)   (341,) x (1000,)   (342,) x (1000,)   (343,) x (1000,)   (344,) x (1000,)   (345,) x (1000,)   (346,) x (1000,)   (347,) x (1000,)   (348,) x (1000,)   (349,) x (1000,)   (350,) x (1000,)   (351,) x (1000,)   (352,) x (1000,)   (353,) x (1000,)   (354,) x (1000,)   (355,) x (1000,)   (356,) x (1000,)   (357,) x (1000,)   (358,) x (1000,)   (359,) x (1000,)   (360,) x (1000,)   (361,) x (1000,)   (362,) x (1000,)   (363,) x (1000,)   (364,) x (1000,)   (365,) x (1000,)   (366,) x (1000,)   (367,) x (1000,)   (368,) x (1000,)   (369,) x (1000,)   (370,) x (1000,)   (371,) x (1000,)   (372,) x (1000,)   (373,) x (1000,)   (374,) x (1000,)   (375,) x (1000,)   (376,) x (1000,)   (377,) x (1000,)   (378,) x (1000,)   (379,) x (1000,)   (380,) x (1000,)   (381,) x (1000,)   (382,) x (1000,)   (383,) x (1000,)   (384,) x (1000,)   (385,) x (1000,)   (386,) x (1000,)   (387,) x (1000,)   (388,) x (1000,)   (389,) x (1000,)   (390,) x (1000,)   (391,) x (1000,)   (392,) x (1000,)   (393,) x (1000,)   (394,) x (1000,)   (395,) x (1000,)   (396,) x (1000,)   (397,) x (1000,)   (398,) x (1000,)   (399,) x (1000,)   (400,) x (1000,)   (401,) x (1000,)   (402,) x (1000,)   (403,) x (1000,)   (404,) x (1000,)   (405,) x (1000,)   (406,) x (1000,)   (407,) x (1000,)   (408,) x (1000,)   (409,) x (1000,)   (410,) x (1000,)   (411,) x (1000,)   (412,) x (1000,)   (413,) x (1000,)   (414,) x (1000,)   (415,) x (1000,)   (416,) x (1000,)   (417,) x (1000,)   (418,) x (1000,)   (419,) x (1000,)   (420,) x (1000,)   (421,) x (1000,)   (422,) x (1000,)   (423,) x (1000,)   (424,) x (1000,)   (425,) x (1000,)   (426,) x (1000,)   (427,) x (1000,)   (428,) x (1000,)   (429,) x (1000,)   (430,) x (1000,)   (431,) x (1000,)   (432,) x (1000,)   (433,) x (1000,)   (434,) x (1000,)   (435,) x (1000,)   (436,) x (1000,)   (437,) x (1000,)   (438,) x (1000,)   (439,) x (1000,)   (440,) x (1000,)   (441,) x (1000,)   (442,) x (1000,)   (443,) x (1000,)   (444,) x (1000,)   (445,) x (1000,)   (446,) x (1000,)   (447,) x (1000,)   (448,) x (1000,)   (449,) x (1000,)   (450,) x (1000,)   (451,) x (1000,)   (452,) x (1000,)   (453,) x (1000,)   (454,) x (1000,)   (455,) x (1000,)   (456,) x (1000,)   (457,) x (1000,)   (458,) x (1000,)   (459,) x (1000,)   (460,) x (1000,)   (461,) x (1000,)   (462,) x (1000,)   (463,) x (1000,)   (464,) x (1000,)   (465,) x (1000,)   (466,) x (1000,)   (467,) x (1000,)   (468,) x (1000,)   (469,) x (1000,)   (470,) x (1000,)   (471,) x (1000,)   (472,) x (1000,)   (473,) x (1000,)   (474,) x (1000,)   (475,) x (1000,)   (476,) x (1000,)   (477,) x (1000,)   (478,) x (1000,)   (479,) x (1000,)   (480,) x (1000,)   (481,) x (1000,)   (482,) x (1000,)   (483,) x (1000,)   (484,) x (1000,)   (485,) x (1000,)   (486,) x (1000,)   (487,) x (1000,)   (488,) x (1000,)   (489,) x (1000,)   (490,) x (1000,)   (491,) x (1000,)   (492,) x (1000,)   (493,) x (1000,)   (494,) x (1000,)   (495,) x (1000,)   (496,) x (1000,)   (497,) x (1000,)   (498,) x (1000,)   (499,) x (1000,)   (500,) x (1000,)   (501,) x (1000,)   (502,) x (1000,)   (503,) x (1000,)   (504,) x (1000,)   (505,) x (1000,)   (506,) x (1000,)   (507,) x (1000,)   (508,) x (1000,)   (509,) x (1000,)   (510,) x (1000,)   (511,) x (1000,)   (512,) x (1000,)   (513,) x (1000,)   (514,) x (1000,)   (515,) x (1000,)   (516,) x (1000,)   (517,) x (1000,)   (518,) x (1000,)   (519,) x (1000,)   (520,) x (1000,)   (521,) x (1000,)   (522,) x (1000,)   (523,) x (1000,)   (524,) x (1000,)   (525,) x (1000,)   (526,) x (1000,)   (527,) x (1000,)   (528,) x (1000,)   (529,) x (1000,)   (530,) x (1000,)   (531,) x (1000,)  "
     ]
    },
    {
     "name": "stdout",
     "output_type": "stream",
     "text": [
      " (532,) x (1000,)   (533,) x (1000,)   (534,) x (1000,)   (535,) x (1000,)   (536,) x (1000,)   (537,) x (1000,)   (538,) x (1000,)   (539,) x (1000,)   (540,) x (1000,)   (541,) x (1000,)   (542,) x (1000,)   (543,) x (1000,)   (544,) x (1000,)   (545,) x (1000,)   (546,) x (1000,)   (547,) x (1000,)   (548,) x (1000,)   (549,) x (1000,)   (550,) x (1000,)   (551,) x (1000,)   (552,) x (1000,)   (553,) x (1000,)   (554,) x (1000,)   (555,) x (1000,)   (556,) x (1000,)   (557,) x (1000,)   (558,) x (1000,)   (559,) x (1000,)   (560,) x (1000,)   (561,) x (1000,)   (562,) x (1000,)   (563,) x (1000,)   (564,) x (1000,)   (565,) x (1000,)   (566,) x (1000,)   (567,) x (1000,)   (568,) x (1000,)   (569,) x (1000,)   (570,) x (1000,)   (571,) x (1000,)   (572,) x (1000,)   (573,) x (1000,)   (574,) x (1000,)   (575,) x (1000,)   (576,) x (1000,)   (577,) x (1000,)   (578,) x (1000,)   (579,) x (1000,)   (580,) x (1000,)   (581,) x (1000,)   (582,) x (1000,)   (583,) x (1000,)   (584,) x (1000,)   (585,) x (1000,)   (586,) x (1000,)   (587,) x (1000,)   (588,) x (1000,)   (589,) x (1000,)   (590,) x (1000,)   (591,) x (1000,)   (592,) x (1000,)   (593,) x (1000,)   (594,) x (1000,)   (595,) x (1000,)   (596,) x (1000,)   (597,) x (1000,)   (598,) x (1000,)   (599,) x (1000,)   (600,) x (1000,)   (601,) x (1000,)   (602,) x (1000,)   (603,) x (1000,)   (604,) x (1000,)   (605,) x (1000,)   (606,) x (1000,)   (607,) x (1000,)   (608,) x (1000,)   (609,) x (1000,)   (610,) x (1000,)   (611,) x (1000,)   (612,) x (1000,)   (613,) x (1000,)   (614,) x (1000,)   (615,) x (1000,)   (616,) x (1000,)   (617,) x (1000,)   (618,) x (1000,)   (619,) x (1000,)   (620,) x (1000,)   (621,) x (1000,)   (622,) x (1000,)   (623,) x (1000,)   (624,) x (1000,)   (625,) x (1000,)   (626,) x (1000,)   (627,) x (1000,)   (628,) x (1000,)   (629,) x (1000,)   (630,) x (1000,)   (631,) x (1000,)   (632,) x (1000,)   (633,) x (1000,)   (634,) x (1000,)   (635,) x (1000,)   (636,) x (1000,)   (637,) x (1000,)   (638,) x (1000,)   (639,) x (1000,)   (640,) x (1000,)   (641,) x (1000,)   (642,) x (1000,)   (643,) x (1000,)   (644,) x (1000,)   (645,) x (1000,)   (646,) x (1000,)   (647,) x (1000,)   (648,) x (1000,)   (649,) x (1000,)   (650,) x (1000,)   (651,) x (1000,)   (652,) x (1000,)   (653,) x (1000,)   (654,) x (1000,)   (655,) x (1000,)   (656,) x (1000,)   (657,) x (1000,)   (658,) x (1000,)   (659,) x (1000,)   (660,) x (1000,)   (661,) x (1000,)   (662,) x (1000,)   (663,) x (1000,)   (664,) x (1000,)   (665,) x (1000,)   (666,) x (1000,)   (667,) x (1000,)   (668,) x (1000,)   (669,) x (1000,)   (670,) x (1000,)   (671,) x (1000,)   (672,) x (1000,)   (673,) x (1000,)   (674,) x (1000,)   (675,) x (1000,)   (676,) x (1000,)   (677,) x (1000,)   (678,) x (1000,)   (679,) x (1000,)   (680,) x (1000,)   (681,) x (1000,)   (682,) x (1000,)   (683,) x (1000,)   (684,) x (1000,)   (685,) x (1000,)   (686,) x (1000,)   (687,) x (1000,)   (688,) x (1000,)   (689,) x (1000,)   (690,) x (1000,)   (691,) x (1000,)   (692,) x (1000,)   (693,) x (1000,)   (694,) x (1000,)   (695,) x (1000,)   (696,) x (1000,)   (697,) x (1000,)   (698,) x (1000,)   (699,) x (1000,)   (700,) x (1000,)   (701,) x (1000,)   (702,) x (1000,)   (703,) x (1000,)   (704,) x (1000,)   (705,) x (1000,)   (706,) x (1000,)   (707,) x (1000,)   (708,) x (1000,)   (709,) x (1000,)   (710,) x (1000,)   (711,) x (1000,)   (712,) x (1000,)   (713,) x (1000,)   (714,) x (1000,)   (715,) x (1000,)   (716,) x (1000,)   (717,) x (1000,)   (718,) x (1000,)   (719,) x (1000,)   (720,) x (1000,)   (721,) x (1000,)   (722,) x (1000,)   (723,) x (1000,)   (724,) x (1000,)   (725,) x (1000,)   (726,) x (1000,)   (727,) x (1000,)   (728,) x (1000,)   (729,) x (1000,)   (730,) x (1000,)   (731,) x (1000,)   (732,) x (1000,)   (733,) x (1000,)   (734,) x (1000,)   (735,) x (1000,)   (736,) x (1000,)   (737,) x (1000,)   (738,) x (1000,)   (739,) x (1000,)   (740,) x (1000,)   (741,) x (1000,)   (742,) x (1000,)   (743,) x (1000,)   (744,) x (1000,)   (745,) x (1000,)   (746,) x (1000,)   (747,) x (1000,)   (748,) x (1000,)   (749,) x (1000,)   (750,) x (1000,)   (751,) x (1000,)   (752,) x (1000,)   (753,) x (1000,)   (754,) x (1000,)   (755,) x (1000,)   (756,) x (1000,)   (757,) x (1000,)   (758,) x (1000,)   (759,) x (1000,)   (760,) x (1000,)   (761,) x (1000,)   (762,) x (1000,)   (763,) x (1000,)   (764,) x (1000,)   (765,) x (1000,)   (766,) x (1000,)   (767,) x (1000,)   (768,) x (1000,)   (769,) x (1000,)   (770,) x (1000,)   (771,) x (1000,)   (772,) x (1000,)   (773,) x (1000,)   (774,) x (1000,)   (775,) x (1000,)   (776,) x (1000,)   (777,) x (1000,)   (778,) x (1000,)   (779,) x (1000,)   (780,) x (1000,)   (781,) x (1000,)   (782,) x (1000,)   (783,) x (1000,)   (784,) x (1000,)   (785,) x (1000,)   (786,) x (1000,)   (787,) x (1000,)   (788,) x (1000,)   (789,) x (1000,)   (790,) x (1000,)   (791,) x (1000,)   (792,) x (1000,)   (793,) x (1000,)   (794,) x (1000,)   (795,) x (1000,)   (796,) x (1000,)   (797,) x (1000,)   (798,) x (1000,)   (799,) x (1000,)   (800,) x (1000,)   (801,) x (1000,)   (802,) x (1000,)   (803,) x (1000,)   (804,) x (1000,)   (805,) x (1000,)   (806,) x (1000,)   (807,) x (1000,)   (808,) x (1000,)   (809,) x (1000,)   (810,) x (1000,)   (811,) x (1000,)   (812,) x (1000,)   (813,) x (1000,)   (814,) x (1000,)   (815,) x (1000,)   (816,) x (1000,)   (817,) x (1000,)   (818,) x (1000,)   (819,) x (1000,)   (820,) x (1000,)   (821,) x (1000,)   (822,) x (1000,)   (823,) x (1000,)   (824,) x (1000,)   (825,) x (1000,)   (826,) x (1000,)   (827,) x (1000,)   (828,) x (1000,)   (829,) x (1000,)   (830,) x (1000,)   (831,) x (1000,)   (832,) x (1000,)   (833,) x (1000,)   (834,) x (1000,)   (835,) x (1000,)   (836,) x (1000,)   (837,) x (1000,)   (838,) x (1000,)   (839,) x (1000,)   (840,) x (1000,)   (841,) x (1000,)   (842,) x (1000,)   (843,) x (1000,)   (844,) x (1000,)   (845,) x (1000,)   (846,) x (1000,)   (847,) x (1000,)   (848,) x (1000,)   (849,) x (1000,)   (850,) x (1000,)   (851,) x (1000,)   (852,) x (1000,)   (853,) x (1000,)   (854,) x (1000,)   (855,) x (1000,)   (856,) x (1000,)   (857,) x (1000,)   (858,) x (1000,)   (859,) x (1000,)   (860,) x (1000,)   (861,) x (1000,)   (862,) x (1000,)   (863,) x (1000,)   (864,) x (1000,)   (865,) x (1000,)   (866,) x (1000,)   (867,) x (1000,)   (868,) x (1000,)   (869,) x (1000,)   (870,) x (1000,)   (871,) x (1000,)   (872,) x (1000,)   (873,) x (1000,)   (874,) x (1000,)   (875,) x (1000,)   (876,) x (1000,)   (877,) x (1000,)   (878,) x (1000,)   (879,) x (1000,)   (880,) x (1000,)   (881,) x (1000,)   (882,) x (1000,)   (883,) x (1000,)   (884,) x (1000,)   (885,) x (1000,)   (886,) x (1000,)   (887,) x (1000,)   (888,) x (1000,)   (889,) x (1000,)   (890,) x (1000,)   (891,) x (1000,)   (892,) x (1000,)   (893,) x (1000,)   (894,) x (1000,)   (895,) x (1000,)   (896,) x (1000,)   (897,) x (1000,)   (898,) x (1000,)   (899,) x (1000,)   (900,) x (1000,)   (901,) x (1000,)   (902,) x (1000,)   (903,) x (1000,)   (904,) x (1000,)   (905,) x (1000,)   (906,) x (1000,)   (907,) x (1000,)   (908,) x (1000,)   (909,) x (1000,)   (910,) x (1000,)   (911,) x (1000,)   (912,) x (1000,)   (913,) x (1000,)   (914,) x (1000,)   (915,) x (1000,)   (916,) x (1000,)   (917,) x (1000,)   (918,) x (1000,)   (919,) x (1000,)   (920,) x (1000,)   (921,) x (1000,)   (922,) x (1000,)   (923,) x (1000,)   (924,) x (1000,)   (925,) x (1000,)   (926,) x (1000,)   (927,) x (1000,)   (928,) x (1000,)   (929,) x (1000,)   (930,) x (1000,)   (931,) x (1000,)   (932,) x (1000,)   (933,) x (1000,)   (934,) x (1000,)   (935,) x (1000,)   (936,) x (1000,)   (937,) x (1000,)   (938,) x (1000,)   (939,) x (1000,)   (940,) x (1000,)   (941,) x (1000,)   (942,) x (1000,)   (943,) x (1000,)   (944,) x (1000,)   (945,) x (1000,)   (946,) x (1000,)   (947,) x (1000,)   (948,) x (1000,)   (949,) x (1000,)   (950,) x (1000,)   (951,) x (1000,)   (952,) x (1000,)   (953,) x (1000,)   (954,) x (1000,)   (955,) x (1000,)   (956,) x (1000,)   (957,) x (1000,)   (958,) x (1000,)   (959,) x (1000,)   (960,) x (1000,)   (961,) x (1000,)   (962,) x (1000,)   (963,) x (1000,)  "
     ]
    },
    {
     "name": "stdout",
     "output_type": "stream",
     "text": [
      " (964,) x (1000,)   (965,) x (1000,)   (966,) x (1000,)   (967,) x (1000,)   (968,) x (1000,)   (969,) x (1000,)   (970,) x (1000,)   (971,) x (1000,)   (972,) x (1000,)   (973,) x (1000,)   (974,) x (1000,)   (975,) x (1000,)   (976,) x (1000,)   (977,) x (1000,)   (978,) x (1000,)   (979,) x (1000,)   (980,) x (1000,)   (981,) x (1000,)   (982,) x (1000,)   (983,) x (1000,)   (984,) x (1000,)   (985,) x (1000,)   (986,) x (1000,)   (987,) x (1000,)   (988,) x (1000,)   (989,) x (1000,)   (990,) x (1000,)   (991,) x (1000,)   (992,) x (1000,)   (993,) x (1000,)   (994,) x (1000,)   (995,) x (1000,)   (996,) x (1000,)   (997,) x (1000,)   (998,) x (1000,)   (999,) x (1000,)   60\n"
     ]
    },
    {
     "name": "stdout",
     "output_type": "stream",
     "text": [
      "(100,) x (1000,)   (101,) x (1000,)   (102,) x (1000,)   (103,) x (1000,)   (104,) x (1000,)   (105,) x (1000,)   (106,) x (1000,)   (107,) x (1000,)   (108,) x (1000,)   (109,) x (1000,)   (110,) x (1000,)   (111,) x (1000,)   (112,) x (1000,)   (113,) x (1000,)   (114,) x (1000,)   (115,) x (1000,)   (116,) x (1000,)   (117,) x (1000,)   (118,) x (1000,)   (119,) x (1000,)   (120,) x (1000,)   (121,) x (1000,)   (122,) x (1000,)   (123,) x (1000,)   (124,) x (1000,)   (125,) x (1000,)   (126,) x (1000,)   (127,) x (1000,)   (128,) x (1000,)   (129,) x (1000,)   (130,) x (1000,)   (131,) x (1000,)   (132,) x (1000,)   (133,) x (1000,)   (134,) x (1000,)   (135,) x (1000,)   (136,) x (1000,)   (137,) x (1000,)   (138,) x (1000,)   (139,) x (1000,)   (140,) x (1000,)   (141,) x (1000,)   (142,) x (1000,)   (143,) x (1000,)   (144,) x (1000,)   (145,) x (1000,)   (146,) x (1000,)   (147,) x (1000,)   (148,) x (1000,)   (149,) x (1000,)   (150,) x (1000,)   (151,) x (1000,)   (152,) x (1000,)   (153,) x (1000,)   (154,) x (1000,)   (155,) x (1000,)   (156,) x (1000,)   (157,) x (1000,)   (158,) x (1000,)   (159,) x (1000,)   (160,) x (1000,)   (161,) x (1000,)   (162,) x (1000,)   (163,) x (1000,)   (164,) x (1000,)   (165,) x (1000,)   (166,) x (1000,)   (167,) x (1000,)   (168,) x (1000,)   (169,) x (1000,)   (170,) x (1000,)   (171,) x (1000,)   (172,) x (1000,)   (173,) x (1000,)   (174,) x (1000,)   (175,) x (1000,)   (176,) x (1000,)   (177,) x (1000,)   (178,) x (1000,)   (179,) x (1000,)   (180,) x (1000,)   (181,) x (1000,)   (182,) x (1000,)   (183,) x (1000,)   (184,) x (1000,)   (185,) x (1000,)   (186,) x (1000,)   (187,) x (1000,)   (188,) x (1000,)   (189,) x (1000,)   (190,) x (1000,)   (191,) x (1000,)   (192,) x (1000,)   (193,) x (1000,)   (194,) x (1000,)   (195,) x (1000,)   (196,) x (1000,)   (197,) x (1000,)   (198,) x (1000,)   (199,) x (1000,)   (200,) x (1000,)   (201,) x (1000,)   (202,) x (1000,)   (203,) x (1000,)   (204,) x (1000,)   (205,) x (1000,)   (206,) x (1000,)   (207,) x (1000,)   (208,) x (1000,)   (209,) x (1000,)   (210,) x (1000,)   (211,) x (1000,)   (212,) x (1000,)   (213,) x (1000,)   (214,) x (1000,)   (215,) x (1000,)   (216,) x (1000,)   (217,) x (1000,)   (218,) x (1000,)   (219,) x (1000,)   (220,) x (1000,)   (221,) x (1000,)   (222,) x (1000,)   (223,) x (1000,)   (224,) x (1000,)   (225,) x (1000,)   (226,) x (1000,)   (227,) x (1000,)   (228,) x (1000,)   (229,) x (1000,)   (230,) x (1000,)   (231,) x (1000,)   (232,) x (1000,)   (233,) x (1000,)   (234,) x (1000,)   (235,) x (1000,)   (236,) x (1000,)   (237,) x (1000,)   (238,) x (1000,)   (239,) x (1000,)   (240,) x (1000,)   (241,) x (1000,)   (242,) x (1000,)   (243,) x (1000,)   (244,) x (1000,)   (245,) x (1000,)   (246,) x (1000,)   (247,) x (1000,)   (248,) x (1000,)   (249,) x (1000,)   (250,) x (1000,)   (251,) x (1000,)   (252,) x (1000,)   (253,) x (1000,)   (254,) x (1000,)   (255,) x (1000,)   (256,) x (1000,)   (257,) x (1000,)   (258,) x (1000,)   (259,) x (1000,)   (260,) x (1000,)   (261,) x (1000,)   (262,) x (1000,)   (263,) x (1000,)   (264,) x (1000,)   (265,) x (1000,)   (266,) x (1000,)   (267,) x (1000,)   (268,) x (1000,)   (269,) x (1000,)   (270,) x (1000,)   (271,) x (1000,)   (272,) x (1000,)   (273,) x (1000,)   (274,) x (1000,)   (275,) x (1000,)   (276,) x (1000,)   (277,) x (1000,)   (278,) x (1000,)   (279,) x (1000,)   (280,) x (1000,)   (281,) x (1000,)   (282,) x (1000,)   (283,) x (1000,)   (284,) x (1000,)   (285,) x (1000,)   (286,) x (1000,)   (287,) x (1000,)   (288,) x (1000,)   (289,) x (1000,)   (290,) x (1000,)   (291,) x (1000,)   (292,) x (1000,)   (293,) x (1000,)   (294,) x (1000,)   (295,) x (1000,)   (296,) x (1000,)   (297,) x (1000,)   (298,) x (1000,)   (299,) x (1000,)   (300,) x (1000,)   (301,) x (1000,)   (302,) x (1000,)   (303,) x (1000,)   (304,) x (1000,)   (305,) x (1000,)   (306,) x (1000,)   (307,) x (1000,)   (308,) x (1000,)   (309,) x (1000,)   (310,) x (1000,)   (311,) x (1000,)   (312,) x (1000,)   (313,) x (1000,)   (314,) x (1000,)   (315,) x (1000,)   (316,) x (1000,)   (317,) x (1000,)   (318,) x (1000,)   (319,) x (1000,)   (320,) x (1000,)   (321,) x (1000,)   (322,) x (1000,)   (323,) x (1000,)   (324,) x (1000,)   (325,) x (1000,)   (326,) x (1000,)   (327,) x (1000,)   (328,) x (1000,)   (329,) x (1000,)   (330,) x (1000,)   (331,) x (1000,)   (332,) x (1000,)   (333,) x (1000,)   (334,) x (1000,)   (335,) x (1000,)   (336,) x (1000,)   (337,) x (1000,)   (338,) x (1000,)   (339,) x (1000,)   (340,) x (1000,)   (341,) x (1000,)   (342,) x (1000,)   (343,) x (1000,)   (344,) x (1000,)   (345,) x (1000,)   (346,) x (1000,)   (347,) x (1000,)   (348,) x (1000,)   (349,) x (1000,)   (350,) x (1000,)   (351,) x (1000,)   (352,) x (1000,)   (353,) x (1000,)   (354,) x (1000,)   (355,) x (1000,)   (356,) x (1000,)   (357,) x (1000,)   (358,) x (1000,)   (359,) x (1000,)   (360,) x (1000,)   (361,) x (1000,)   (362,) x (1000,)   (363,) x (1000,)   (364,) x (1000,)   (365,) x (1000,)   (366,) x (1000,)   (367,) x (1000,)   (368,) x (1000,)   (369,) x (1000,)   (370,) x (1000,)   (371,) x (1000,)   (372,) x (1000,)   (373,) x (1000,)   (374,) x (1000,)   (375,) x (1000,)   (376,) x (1000,)   (377,) x (1000,)   (378,) x (1000,)   (379,) x (1000,)   (380,) x (1000,)   (381,) x (1000,)   (382,) x (1000,)   (383,) x (1000,)   (384,) x (1000,)   (385,) x (1000,)   (386,) x (1000,)   (387,) x (1000,)   (388,) x (1000,)   (389,) x (1000,)   (390,) x (1000,)   (391,) x (1000,)   (392,) x (1000,)   (393,) x (1000,)   (394,) x (1000,)   (395,) x (1000,)   (396,) x (1000,)   (397,) x (1000,)   (398,) x (1000,)   (399,) x (1000,)   (400,) x (1000,)   (401,) x (1000,)   (402,) x (1000,)   (403,) x (1000,)   (404,) x (1000,)   (405,) x (1000,)   (406,) x (1000,)   (407,) x (1000,)   (408,) x (1000,)   (409,) x (1000,)   (410,) x (1000,)   (411,) x (1000,)   (412,) x (1000,)   (413,) x (1000,)   (414,) x (1000,)   (415,) x (1000,)   (416,) x (1000,)   (417,) x (1000,)   (418,) x (1000,)   (419,) x (1000,)   (420,) x (1000,)   (421,) x (1000,)   (422,) x (1000,)   (423,) x (1000,)   (424,) x (1000,)   (425,) x (1000,)   (426,) x (1000,)   (427,) x (1000,)   (428,) x (1000,)   (429,) x (1000,)   (430,) x (1000,)   (431,) x (1000,)   (432,) x (1000,)   (433,) x (1000,)   (434,) x (1000,)   (435,) x (1000,)   (436,) x (1000,)   (437,) x (1000,)   (438,) x (1000,)   (439,) x (1000,)   (440,) x (1000,)   (441,) x (1000,)   (442,) x (1000,)   (443,) x (1000,)   (444,) x (1000,)   (445,) x (1000,)   (446,) x (1000,)   (447,) x (1000,)   (448,) x (1000,)   (449,) x (1000,)   (450,) x (1000,)   (451,) x (1000,)   (452,) x (1000,)   (453,) x (1000,)   (454,) x (1000,)   (455,) x (1000,)   (456,) x (1000,)   (457,) x (1000,)   (458,) x (1000,)   (459,) x (1000,)   (460,) x (1000,)   (461,) x (1000,)   (462,) x (1000,)   (463,) x (1000,)   (464,) x (1000,)   (465,) x (1000,)   (466,) x (1000,)   (467,) x (1000,)   (468,) x (1000,)   (469,) x (1000,)   (470,) x (1000,)   (471,) x (1000,)   (472,) x (1000,)   (473,) x (1000,)   (474,) x (1000,)   (475,) x (1000,)   (476,) x (1000,)   (477,) x (1000,)   (478,) x (1000,)   (479,) x (1000,)   (480,) x (1000,)   (481,) x (1000,)   (482,) x (1000,)   (483,) x (1000,)   (484,) x (1000,)   (485,) x (1000,)   (486,) x (1000,)   (487,) x (1000,)   (488,) x (1000,)   (489,) x (1000,)   (490,) x (1000,)   (491,) x (1000,)   (492,) x (1000,)   (493,) x (1000,)   (494,) x (1000,)   (495,) x (1000,)   (496,) x (1000,)   (497,) x (1000,)   (498,) x (1000,)   (499,) x (1000,)   (500,) x (1000,)   (501,) x (1000,)   (502,) x (1000,)   (503,) x (1000,)   (504,) x (1000,)   (505,) x (1000,)   (506,) x (1000,)   (507,) x (1000,)   (508,) x (1000,)   (509,) x (1000,)   (510,) x (1000,)   (511,) x (1000,)   (512,) x (1000,)   (513,) x (1000,)   (514,) x (1000,)   (515,) x (1000,)   (516,) x (1000,)   (517,) x (1000,)   (518,) x (1000,)   (519,) x (1000,)   (520,) x (1000,)   (521,) x (1000,)   (522,) x (1000,)   (523,) x (1000,)   (524,) x (1000,)   (525,) x (1000,)   (526,) x (1000,)   (527,) x (1000,)   (528,) x (1000,)   (529,) x (1000,)   (530,) x (1000,)   (531,) x (1000,)  "
     ]
    },
    {
     "name": "stdout",
     "output_type": "stream",
     "text": [
      " (532,) x (1000,)   (533,) x (1000,)   (534,) x (1000,)   (535,) x (1000,)   (536,) x (1000,)   (537,) x (1000,)   (538,) x (1000,)   (539,) x (1000,)   (540,) x (1000,)   (541,) x (1000,)   (542,) x (1000,)   (543,) x (1000,)   (544,) x (1000,)   (545,) x (1000,)   (546,) x (1000,)   (547,) x (1000,)   (548,) x (1000,)   (549,) x (1000,)   (550,) x (1000,)   (551,) x (1000,)   (552,) x (1000,)   (553,) x (1000,)   (554,) x (1000,)   (555,) x (1000,)   (556,) x (1000,)   (557,) x (1000,)   (558,) x (1000,)   (559,) x (1000,)   (560,) x (1000,)   (561,) x (1000,)   (562,) x (1000,)   (563,) x (1000,)   (564,) x (1000,)   (565,) x (1000,)   (566,) x (1000,)   (567,) x (1000,)   (568,) x (1000,)   (569,) x (1000,)   (570,) x (1000,)   (571,) x (1000,)   (572,) x (1000,)   (573,) x (1000,)   (574,) x (1000,)   (575,) x (1000,)   (576,) x (1000,)   (577,) x (1000,)   (578,) x (1000,)   (579,) x (1000,)   (580,) x (1000,)   (581,) x (1000,)   (582,) x (1000,)   (583,) x (1000,)   (584,) x (1000,)   (585,) x (1000,)   (586,) x (1000,)   (587,) x (1000,)   (588,) x (1000,)   (589,) x (1000,)   (590,) x (1000,)   (591,) x (1000,)   (592,) x (1000,)   (593,) x (1000,)   (594,) x (1000,)   (595,) x (1000,)   (596,) x (1000,)   (597,) x (1000,)   (598,) x (1000,)   (599,) x (1000,)   (600,) x (1000,)   (601,) x (1000,)   (602,) x (1000,)   (603,) x (1000,)   (604,) x (1000,)   (605,) x (1000,)   (606,) x (1000,)   (607,) x (1000,)   (608,) x (1000,)   (609,) x (1000,)   (610,) x (1000,)   (611,) x (1000,)   (612,) x (1000,)   (613,) x (1000,)   (614,) x (1000,)   (615,) x (1000,)   (616,) x (1000,)   (617,) x (1000,)   (618,) x (1000,)   (619,) x (1000,)   (620,) x (1000,)   (621,) x (1000,)   (622,) x (1000,)   (623,) x (1000,)   (624,) x (1000,)   (625,) x (1000,)   (626,) x (1000,)   (627,) x (1000,)   (628,) x (1000,)   (629,) x (1000,)   (630,) x (1000,)   (631,) x (1000,)   (632,) x (1000,)   (633,) x (1000,)   (634,) x (1000,)   (635,) x (1000,)   (636,) x (1000,)   (637,) x (1000,)   (638,) x (1000,)   (639,) x (1000,)   (640,) x (1000,)   (641,) x (1000,)   (642,) x (1000,)   (643,) x (1000,)   (644,) x (1000,)   (645,) x (1000,)   (646,) x (1000,)   (647,) x (1000,)   (648,) x (1000,)   (649,) x (1000,)   (650,) x (1000,)   (651,) x (1000,)   (652,) x (1000,)   (653,) x (1000,)   (654,) x (1000,)   (655,) x (1000,)   (656,) x (1000,)   (657,) x (1000,)   (658,) x (1000,)   (659,) x (1000,)   (660,) x (1000,)   (661,) x (1000,)   (662,) x (1000,)   (663,) x (1000,)   (664,) x (1000,)   (665,) x (1000,)   (666,) x (1000,)   (667,) x (1000,)   (668,) x (1000,)   (669,) x (1000,)   (670,) x (1000,)   (671,) x (1000,)   (672,) x (1000,)   (673,) x (1000,)   (674,) x (1000,)   (675,) x (1000,)   (676,) x (1000,)   (677,) x (1000,)   (678,) x (1000,)   (679,) x (1000,)   (680,) x (1000,)   (681,) x (1000,)   (682,) x (1000,)   (683,) x (1000,)   (684,) x (1000,)   (685,) x (1000,)   (686,) x (1000,)   (687,) x (1000,)   (688,) x (1000,)   (689,) x (1000,)   (690,) x (1000,)   (691,) x (1000,)   (692,) x (1000,)   (693,) x (1000,)   (694,) x (1000,)   (695,) x (1000,)   (696,) x (1000,)   (697,) x (1000,)   (698,) x (1000,)   (699,) x (1000,)   (700,) x (1000,)   (701,) x (1000,)   (702,) x (1000,)   (703,) x (1000,)   (704,) x (1000,)   (705,) x (1000,)   (706,) x (1000,)   (707,) x (1000,)   (708,) x (1000,)   (709,) x (1000,)   (710,) x (1000,)   (711,) x (1000,)   (712,) x (1000,)   (713,) x (1000,)   (714,) x (1000,)   (715,) x (1000,)   (716,) x (1000,)   (717,) x (1000,)   (718,) x (1000,)   (719,) x (1000,)   (720,) x (1000,)   (721,) x (1000,)   (722,) x (1000,)   (723,) x (1000,)   (724,) x (1000,)   (725,) x (1000,)   (726,) x (1000,)   (727,) x (1000,)   (728,) x (1000,)   (729,) x (1000,)   (730,) x (1000,)   (731,) x (1000,)   (732,) x (1000,)   (733,) x (1000,)   (734,) x (1000,)   (735,) x (1000,)   (736,) x (1000,)   (737,) x (1000,)   (738,) x (1000,)   (739,) x (1000,)   (740,) x (1000,)   (741,) x (1000,)   (742,) x (1000,)   (743,) x (1000,)   (744,) x (1000,)   (745,) x (1000,)   (746,) x (1000,)   (747,) x (1000,)   (748,) x (1000,)   (749,) x (1000,)   (750,) x (1000,)   (751,) x (1000,)   (752,) x (1000,)   (753,) x (1000,)   (754,) x (1000,)   (755,) x (1000,)   (756,) x (1000,)   (757,) x (1000,)   (758,) x (1000,)   (759,) x (1000,)   (760,) x (1000,)   (761,) x (1000,)   (762,) x (1000,)   (763,) x (1000,)   (764,) x (1000,)   (765,) x (1000,)   (766,) x (1000,)   (767,) x (1000,)   (768,) x (1000,)   (769,) x (1000,)   (770,) x (1000,)   (771,) x (1000,)   (772,) x (1000,)   (773,) x (1000,)   (774,) x (1000,)   (775,) x (1000,)   (776,) x (1000,)   (777,) x (1000,)   (778,) x (1000,)   (779,) x (1000,)   (780,) x (1000,)   (781,) x (1000,)   (782,) x (1000,)   (783,) x (1000,)   (784,) x (1000,)   (785,) x (1000,)   (786,) x (1000,)   (787,) x (1000,)   (788,) x (1000,)   (789,) x (1000,)   (790,) x (1000,)   (791,) x (1000,)   (792,) x (1000,)   (793,) x (1000,)   (794,) x (1000,)   (795,) x (1000,)   (796,) x (1000,)   (797,) x (1000,)   (798,) x (1000,)   (799,) x (1000,)   (800,) x (1000,)   (801,) x (1000,)   (802,) x (1000,)   (803,) x (1000,)   (804,) x (1000,)   (805,) x (1000,)   (806,) x (1000,)   (807,) x (1000,)   (808,) x (1000,)   (809,) x (1000,)   (810,) x (1000,)   (811,) x (1000,)   (812,) x (1000,)   (813,) x (1000,)   (814,) x (1000,)   (815,) x (1000,)   (816,) x (1000,)   (817,) x (1000,)   (818,) x (1000,)   (819,) x (1000,)   (820,) x (1000,)   (821,) x (1000,)   (822,) x (1000,)   (823,) x (1000,)   (824,) x (1000,)   (825,) x (1000,)   (826,) x (1000,)   (827,) x (1000,)   (828,) x (1000,)   (829,) x (1000,)   (830,) x (1000,)   (831,) x (1000,)   (832,) x (1000,)   (833,) x (1000,)   (834,) x (1000,)   (835,) x (1000,)   (836,) x (1000,)   (837,) x (1000,)   (838,) x (1000,)   (839,) x (1000,)   (840,) x (1000,)   (841,) x (1000,)   (842,) x (1000,)   (843,) x (1000,)   (844,) x (1000,)   (845,) x (1000,)   (846,) x (1000,)   (847,) x (1000,)   (848,) x (1000,)   (849,) x (1000,)   (850,) x (1000,)   (851,) x (1000,)   (852,) x (1000,)   (853,) x (1000,)   (854,) x (1000,)   (855,) x (1000,)   (856,) x (1000,)   (857,) x (1000,)   (858,) x (1000,)   (859,) x (1000,)   (860,) x (1000,)   (861,) x (1000,)   (862,) x (1000,)   (863,) x (1000,)   (864,) x (1000,)   (865,) x (1000,)   (866,) x (1000,)   (867,) x (1000,)   (868,) x (1000,)   (869,) x (1000,)   (870,) x (1000,)   (871,) x (1000,)   (872,) x (1000,)   (873,) x (1000,)   (874,) x (1000,)   (875,) x (1000,)   (876,) x (1000,)   (877,) x (1000,)   (878,) x (1000,)   (879,) x (1000,)   (880,) x (1000,)   (881,) x (1000,)   (882,) x (1000,)   (883,) x (1000,)   (884,) x (1000,)   (885,) x (1000,)   (886,) x (1000,)   (887,) x (1000,)   (888,) x (1000,)   (889,) x (1000,)   (890,) x (1000,)   (891,) x (1000,)   (892,) x (1000,)   (893,) x (1000,)   (894,) x (1000,)   (895,) x (1000,)   (896,) x (1000,)   (897,) x (1000,)   (898,) x (1000,)   (899,) x (1000,)   (900,) x (1000,)   (901,) x (1000,)   (902,) x (1000,)   (903,) x (1000,)   (904,) x (1000,)   (905,) x (1000,)   (906,) x (1000,)   (907,) x (1000,)   (908,) x (1000,)   (909,) x (1000,)   (910,) x (1000,)   (911,) x (1000,)   (912,) x (1000,)   (913,) x (1000,)   (914,) x (1000,)   (915,) x (1000,)   (916,) x (1000,)   (917,) x (1000,)   (918,) x (1000,)   (919,) x (1000,)   (920,) x (1000,)   (921,) x (1000,)   (922,) x (1000,)   (923,) x (1000,)   (924,) x (1000,)   (925,) x (1000,)   (926,) x (1000,)   (927,) x (1000,)   (928,) x (1000,)   (929,) x (1000,)   (930,) x (1000,)   (931,) x (1000,)   (932,) x (1000,)   (933,) x (1000,)   (934,) x (1000,)   (935,) x (1000,)   (936,) x (1000,)   (937,) x (1000,)   (938,) x (1000,)   (939,) x (1000,)   (940,) x (1000,)   (941,) x (1000,)   (942,) x (1000,)   (943,) x (1000,)   (944,) x (1000,)   (945,) x (1000,)   (946,) x (1000,)   (947,) x (1000,)   (948,) x (1000,)   (949,) x (1000,)   (950,) x (1000,)   (951,) x (1000,)   (952,) x (1000,)   (953,) x (1000,)   (954,) x (1000,)   (955,) x (1000,)   (956,) x (1000,)   (957,) x (1000,)   (958,) x (1000,)   (959,) x (1000,)   (960,) x (1000,)   (961,) x (1000,)   (962,) x (1000,)   (963,) x (1000,)  "
     ]
    },
    {
     "name": "stdout",
     "output_type": "stream",
     "text": [
      " (964,) x (1000,)   (965,) x (1000,)   (966,) x (1000,)   (967,) x (1000,)   (968,) x (1000,)   (969,) x (1000,)   (970,) x (1000,)   (971,) x (1000,)   (972,) x (1000,)   (973,) x (1000,)   (974,) x (1000,)   (975,) x (1000,)   (976,) x (1000,)   (977,) x (1000,)   (978,) x (1000,)   (979,) x (1000,)   (980,) x (1000,)   (981,) x (1000,)   (982,) x (1000,)   (983,) x (1000,)   (984,) x (1000,)   (985,) x (1000,)   (986,) x (1000,)   (987,) x (1000,)   (988,) x (1000,)   (989,) x (1000,)   (990,) x (1000,)   (991,) x (1000,)   (992,) x (1000,)   (993,) x (1000,)   (994,) x (1000,)   (995,) x (1000,)   (996,) x (1000,)   (997,) x (1000,)   (998,) x (1000,)   (999,) x (1000,)   80\n"
     ]
    },
    {
     "name": "stdout",
     "output_type": "stream",
     "text": [
      "(100,) x (1000,)   (101,) x (1000,)   (102,) x (1000,)   (103,) x (1000,)   (104,) x (1000,)   (105,) x (1000,)   (106,) x (1000,)   (107,) x (1000,)   (108,) x (1000,)   (109,) x (1000,)   (110,) x (1000,)   (111,) x (1000,)   (112,) x (1000,)   (113,) x (1000,)   (114,) x (1000,)   (115,) x (1000,)   (116,) x (1000,)   (117,) x (1000,)   (118,) x (1000,)   (119,) x (1000,)   (120,) x (1000,)   (121,) x (1000,)   (122,) x (1000,)   (123,) x (1000,)   (124,) x (1000,)   (125,) x (1000,)   (126,) x (1000,)   (127,) x (1000,)   (128,) x (1000,)   (129,) x (1000,)   (130,) x (1000,)   (131,) x (1000,)   (132,) x (1000,)   (133,) x (1000,)   (134,) x (1000,)   (135,) x (1000,)   (136,) x (1000,)   (137,) x (1000,)   (138,) x (1000,)   (139,) x (1000,)   (140,) x (1000,)   (141,) x (1000,)   (142,) x (1000,)   (143,) x (1000,)   (144,) x (1000,)   (145,) x (1000,)   (146,) x (1000,)   (147,) x (1000,)   (148,) x (1000,)   (149,) x (1000,)   (150,) x (1000,)   (151,) x (1000,)   (152,) x (1000,)   (153,) x (1000,)   (154,) x (1000,)   (155,) x (1000,)   (156,) x (1000,)   (157,) x (1000,)   (158,) x (1000,)   (159,) x (1000,)   (160,) x (1000,)   (161,) x (1000,)   (162,) x (1000,)   (163,) x (1000,)   (164,) x (1000,)   (165,) x (1000,)   (166,) x (1000,)   (167,) x (1000,)   (168,) x (1000,)   (169,) x (1000,)   (170,) x (1000,)   (171,) x (1000,)   (172,) x (1000,)   (173,) x (1000,)   (174,) x (1000,)   (175,) x (1000,)   (176,) x (1000,)   (177,) x (1000,)   (178,) x (1000,)   (179,) x (1000,)   (180,) x (1000,)   (181,) x (1000,)   (182,) x (1000,)   (183,) x (1000,)   (184,) x (1000,)   (185,) x (1000,)   (186,) x (1000,)   (187,) x (1000,)   (188,) x (1000,)   (189,) x (1000,)   (190,) x (1000,)   (191,) x (1000,)   (192,) x (1000,)   (193,) x (1000,)   (194,) x (1000,)   (195,) x (1000,)   (196,) x (1000,)   (197,) x (1000,)   (198,) x (1000,)   (199,) x (1000,)   (200,) x (1000,)   (201,) x (1000,)   (202,) x (1000,)   (203,) x (1000,)   (204,) x (1000,)   (205,) x (1000,)   (206,) x (1000,)   (207,) x (1000,)   (208,) x (1000,)   (209,) x (1000,)   (210,) x (1000,)   (211,) x (1000,)   (212,) x (1000,)   (213,) x (1000,)   (214,) x (1000,)   (215,) x (1000,)   (216,) x (1000,)   (217,) x (1000,)   (218,) x (1000,)   (219,) x (1000,)   (220,) x (1000,)   (221,) x (1000,)   (222,) x (1000,)   (223,) x (1000,)   (224,) x (1000,)   (225,) x (1000,)   (226,) x (1000,)   (227,) x (1000,)   (228,) x (1000,)   (229,) x (1000,)   (230,) x (1000,)   (231,) x (1000,)   (232,) x (1000,)   (233,) x (1000,)   (234,) x (1000,)   (235,) x (1000,)   (236,) x (1000,)   (237,) x (1000,)   (238,) x (1000,)   (239,) x (1000,)   (240,) x (1000,)   (241,) x (1000,)   (242,) x (1000,)   (243,) x (1000,)   (244,) x (1000,)   (245,) x (1000,)   (246,) x (1000,)   (247,) x (1000,)   (248,) x (1000,)   (249,) x (1000,)   (250,) x (1000,)   (251,) x (1000,)   (252,) x (1000,)   (253,) x (1000,)   (254,) x (1000,)   (255,) x (1000,)   (256,) x (1000,)   (257,) x (1000,)   (258,) x (1000,)   (259,) x (1000,)   (260,) x (1000,)   (261,) x (1000,)   (262,) x (1000,)   (263,) x (1000,)   (264,) x (1000,)   (265,) x (1000,)   (266,) x (1000,)   (267,) x (1000,)   (268,) x (1000,)   (269,) x (1000,)   (270,) x (1000,)   (271,) x (1000,)   (272,) x (1000,)   (273,) x (1000,)   (274,) x (1000,)   (275,) x (1000,)   (276,) x (1000,)   (277,) x (1000,)   (278,) x (1000,)   (279,) x (1000,)   (280,) x (1000,)   (281,) x (1000,)   (282,) x (1000,)   (283,) x (1000,)   (284,) x (1000,)   (285,) x (1000,)   (286,) x (1000,)   (287,) x (1000,)   (288,) x (1000,)   (289,) x (1000,)   (290,) x (1000,)   (291,) x (1000,)   (292,) x (1000,)   (293,) x (1000,)   (294,) x (1000,)   (295,) x (1000,)   (296,) x (1000,)   (297,) x (1000,)   (298,) x (1000,)   (299,) x (1000,)   (300,) x (1000,)   (301,) x (1000,)   (302,) x (1000,)   (303,) x (1000,)   (304,) x (1000,)   (305,) x (1000,)   (306,) x (1000,)   (307,) x (1000,)   (308,) x (1000,)   (309,) x (1000,)   (310,) x (1000,)   (311,) x (1000,)   (312,) x (1000,)   (313,) x (1000,)   (314,) x (1000,)   (315,) x (1000,)   (316,) x (1000,)   (317,) x (1000,)   (318,) x (1000,)   (319,) x (1000,)   (320,) x (1000,)   (321,) x (1000,)   (322,) x (1000,)   (323,) x (1000,)   (324,) x (1000,)   (325,) x (1000,)   (326,) x (1000,)   (327,) x (1000,)   (328,) x (1000,)   (329,) x (1000,)   (330,) x (1000,)   (331,) x (1000,)   (332,) x (1000,)   (333,) x (1000,)   (334,) x (1000,)   (335,) x (1000,)   (336,) x (1000,)   (337,) x (1000,)   (338,) x (1000,)   (339,) x (1000,)   (340,) x (1000,)   (341,) x (1000,)   (342,) x (1000,)   (343,) x (1000,)   (344,) x (1000,)   (345,) x (1000,)   (346,) x (1000,)   (347,) x (1000,)   (348,) x (1000,)   (349,) x (1000,)   (350,) x (1000,)   (351,) x (1000,)   (352,) x (1000,)   (353,) x (1000,)   (354,) x (1000,)   (355,) x (1000,)   (356,) x (1000,)   (357,) x (1000,)   (358,) x (1000,)   (359,) x (1000,)   (360,) x (1000,)   (361,) x (1000,)   (362,) x (1000,)   (363,) x (1000,)   (364,) x (1000,)   (365,) x (1000,)   (366,) x (1000,)   (367,) x (1000,)   (368,) x (1000,)   (369,) x (1000,)   (370,) x (1000,)   (371,) x (1000,)   (372,) x (1000,)   (373,) x (1000,)   (374,) x (1000,)   (375,) x (1000,)   (376,) x (1000,)   (377,) x (1000,)   (378,) x (1000,)   (379,) x (1000,)   (380,) x (1000,)   (381,) x (1000,)   (382,) x (1000,)   (383,) x (1000,)   (384,) x (1000,)   (385,) x (1000,)   (386,) x (1000,)   (387,) x (1000,)   (388,) x (1000,)   (389,) x (1000,)   (390,) x (1000,)   (391,) x (1000,)   (392,) x (1000,)   (393,) x (1000,)   (394,) x (1000,)   (395,) x (1000,)   (396,) x (1000,)   (397,) x (1000,)   (398,) x (1000,)   (399,) x (1000,)   (400,) x (1000,)   (401,) x (1000,)   (402,) x (1000,)   (403,) x (1000,)   (404,) x (1000,)   (405,) x (1000,)   (406,) x (1000,)   (407,) x (1000,)   (408,) x (1000,)   (409,) x (1000,)   (410,) x (1000,)   (411,) x (1000,)   (412,) x (1000,)   (413,) x (1000,)   (414,) x (1000,)   (415,) x (1000,)   (416,) x (1000,)   (417,) x (1000,)   (418,) x (1000,)   (419,) x (1000,)   (420,) x (1000,)   (421,) x (1000,)   (422,) x (1000,)   (423,) x (1000,)   (424,) x (1000,)   (425,) x (1000,)   (426,) x (1000,)   (427,) x (1000,)   (428,) x (1000,)   (429,) x (1000,)   (430,) x (1000,)   (431,) x (1000,)   (432,) x (1000,)   (433,) x (1000,)   (434,) x (1000,)   (435,) x (1000,)   (436,) x (1000,)   (437,) x (1000,)   (438,) x (1000,)   (439,) x (1000,)   (440,) x (1000,)   (441,) x (1000,)   (442,) x (1000,)   (443,) x (1000,)   (444,) x (1000,)   (445,) x (1000,)   (446,) x (1000,)   (447,) x (1000,)   (448,) x (1000,)   (449,) x (1000,)   (450,) x (1000,)   (451,) x (1000,)   (452,) x (1000,)   (453,) x (1000,)   (454,) x (1000,)   (455,) x (1000,)   (456,) x (1000,)   (457,) x (1000,)   (458,) x (1000,)   (459,) x (1000,)   (460,) x (1000,)   (461,) x (1000,)   (462,) x (1000,)   (463,) x (1000,)   (464,) x (1000,)   (465,) x (1000,)   (466,) x (1000,)   (467,) x (1000,)   (468,) x (1000,)   (469,) x (1000,)   (470,) x (1000,)   (471,) x (1000,)   (472,) x (1000,)   (473,) x (1000,)   (474,) x (1000,)   (475,) x (1000,)   (476,) x (1000,)   (477,) x (1000,)   (478,) x (1000,)   (479,) x (1000,)   (480,) x (1000,)   (481,) x (1000,)   (482,) x (1000,)   (483,) x (1000,)   (484,) x (1000,)   (485,) x (1000,)   (486,) x (1000,)   (487,) x (1000,)   (488,) x (1000,)   (489,) x (1000,)   (490,) x (1000,)   (491,) x (1000,)   (492,) x (1000,)   (493,) x (1000,)   (494,) x (1000,)   (495,) x (1000,)   (496,) x (1000,)   (497,) x (1000,)   (498,) x (1000,)   (499,) x (1000,)   (500,) x (1000,)   (501,) x (1000,)   (502,) x (1000,)   (503,) x (1000,)   (504,) x (1000,)   (505,) x (1000,)   (506,) x (1000,)   (507,) x (1000,)   (508,) x (1000,)   (509,) x (1000,)   (510,) x (1000,)   (511,) x (1000,)   (512,) x (1000,)   (513,) x (1000,)   (514,) x (1000,)   (515,) x (1000,)   (516,) x (1000,)   (517,) x (1000,)   (518,) x (1000,)   (519,) x (1000,)   (520,) x (1000,)   (521,) x (1000,)   (522,) x (1000,)   (523,) x (1000,)   (524,) x (1000,)   (525,) x (1000,)   (526,) x (1000,)   (527,) x (1000,)   (528,) x (1000,)   (529,) x (1000,)   (530,) x (1000,)   (531,) x (1000,)  "
     ]
    },
    {
     "name": "stdout",
     "output_type": "stream",
     "text": [
      " (532,) x (1000,)   (533,) x (1000,)   (534,) x (1000,)   (535,) x (1000,)   (536,) x (1000,)   (537,) x (1000,)   (538,) x (1000,)   (539,) x (1000,)   (540,) x (1000,)   (541,) x (1000,)   (542,) x (1000,)   (543,) x (1000,)   (544,) x (1000,)   (545,) x (1000,)   (546,) x (1000,)   (547,) x (1000,)   (548,) x (1000,)   (549,) x (1000,)   (550,) x (1000,)   (551,) x (1000,)   (552,) x (1000,)   (553,) x (1000,)   (554,) x (1000,)   (555,) x (1000,)   (556,) x (1000,)   (557,) x (1000,)   (558,) x (1000,)   (559,) x (1000,)   (560,) x (1000,)   (561,) x (1000,)   (562,) x (1000,)   (563,) x (1000,)   (564,) x (1000,)   (565,) x (1000,)   (566,) x (1000,)   (567,) x (1000,)   (568,) x (1000,)   (569,) x (1000,)   (570,) x (1000,)   (571,) x (1000,)   (572,) x (1000,)   (573,) x (1000,)   (574,) x (1000,)   (575,) x (1000,)   (576,) x (1000,)   (577,) x (1000,)   (578,) x (1000,)   (579,) x (1000,)   (580,) x (1000,)   (581,) x (1000,)   (582,) x (1000,)   (583,) x (1000,)   (584,) x (1000,)   (585,) x (1000,)   (586,) x (1000,)   (587,) x (1000,)   (588,) x (1000,)   (589,) x (1000,)   (590,) x (1000,)   (591,) x (1000,)   (592,) x (1000,)   (593,) x (1000,)   (594,) x (1000,)   (595,) x (1000,)   (596,) x (1000,)   (597,) x (1000,)   (598,) x (1000,)   (599,) x (1000,)   (600,) x (1000,)   (601,) x (1000,)   (602,) x (1000,)   (603,) x (1000,)   (604,) x (1000,)   (605,) x (1000,)   (606,) x (1000,)   (607,) x (1000,)   (608,) x (1000,)   (609,) x (1000,)   (610,) x (1000,)   (611,) x (1000,)   (612,) x (1000,)   (613,) x (1000,)   (614,) x (1000,)   (615,) x (1000,)   (616,) x (1000,)   (617,) x (1000,)   (618,) x (1000,)   (619,) x (1000,)   (620,) x (1000,)   (621,) x (1000,)   (622,) x (1000,)   (623,) x (1000,)   (624,) x (1000,)   (625,) x (1000,)   (626,) x (1000,)   (627,) x (1000,)   (628,) x (1000,)   (629,) x (1000,)   (630,) x (1000,)   (631,) x (1000,)   (632,) x (1000,)   (633,) x (1000,)   (634,) x (1000,)   (635,) x (1000,)   (636,) x (1000,)   (637,) x (1000,)   (638,) x (1000,)   (639,) x (1000,)   (640,) x (1000,)   (641,) x (1000,)   (642,) x (1000,)   (643,) x (1000,)   (644,) x (1000,)   (645,) x (1000,)   (646,) x (1000,)   (647,) x (1000,)   (648,) x (1000,)   (649,) x (1000,)   (650,) x (1000,)   (651,) x (1000,)   (652,) x (1000,)   (653,) x (1000,)   (654,) x (1000,)   (655,) x (1000,)   (656,) x (1000,)   (657,) x (1000,)   (658,) x (1000,)   (659,) x (1000,)   (660,) x (1000,)   (661,) x (1000,)   (662,) x (1000,)   (663,) x (1000,)   (664,) x (1000,)   (665,) x (1000,)   (666,) x (1000,)   (667,) x (1000,)   (668,) x (1000,)   (669,) x (1000,)   (670,) x (1000,)   (671,) x (1000,)   (672,) x (1000,)   (673,) x (1000,)   (674,) x (1000,)   (675,) x (1000,)   (676,) x (1000,)   (677,) x (1000,)   (678,) x (1000,)   (679,) x (1000,)   (680,) x (1000,)   (681,) x (1000,)   (682,) x (1000,)   (683,) x (1000,)   (684,) x (1000,)   (685,) x (1000,)   (686,) x (1000,)   (687,) x (1000,)   (688,) x (1000,)   (689,) x (1000,)   (690,) x (1000,)   (691,) x (1000,)   (692,) x (1000,)   (693,) x (1000,)   (694,) x (1000,)   (695,) x (1000,)   (696,) x (1000,)   (697,) x (1000,)   (698,) x (1000,)   (699,) x (1000,)   (700,) x (1000,)   (701,) x (1000,)   (702,) x (1000,)   (703,) x (1000,)   (704,) x (1000,)   (705,) x (1000,)   (706,) x (1000,)   (707,) x (1000,)   (708,) x (1000,)   (709,) x (1000,)   (710,) x (1000,)   (711,) x (1000,)   (712,) x (1000,)   (713,) x (1000,)   (714,) x (1000,)   (715,) x (1000,)   (716,) x (1000,)   (717,) x (1000,)   (718,) x (1000,)   (719,) x (1000,)   (720,) x (1000,)   (721,) x (1000,)   (722,) x (1000,)   (723,) x (1000,)   (724,) x (1000,)   (725,) x (1000,)   (726,) x (1000,)   (727,) x (1000,)   (728,) x (1000,)   (729,) x (1000,)   (730,) x (1000,)   (731,) x (1000,)   (732,) x (1000,)   (733,) x (1000,)   (734,) x (1000,)   (735,) x (1000,)   (736,) x (1000,)   (737,) x (1000,)   (738,) x (1000,)   (739,) x (1000,)   (740,) x (1000,)   (741,) x (1000,)   (742,) x (1000,)   (743,) x (1000,)   (744,) x (1000,)   (745,) x (1000,)   (746,) x (1000,)   (747,) x (1000,)   (748,) x (1000,)   (749,) x (1000,)   (750,) x (1000,)   (751,) x (1000,)   (752,) x (1000,)   (753,) x (1000,)   (754,) x (1000,)   (755,) x (1000,)   (756,) x (1000,)   (757,) x (1000,)   (758,) x (1000,)   (759,) x (1000,)   (760,) x (1000,)   (761,) x (1000,)   (762,) x (1000,)   (763,) x (1000,)   (764,) x (1000,)   (765,) x (1000,)   (766,) x (1000,)   (767,) x (1000,)   (768,) x (1000,)   (769,) x (1000,)   (770,) x (1000,)   (771,) x (1000,)   (772,) x (1000,)   (773,) x (1000,)   (774,) x (1000,)   (775,) x (1000,)   (776,) x (1000,)   (777,) x (1000,)   (778,) x (1000,)   (779,) x (1000,)   (780,) x (1000,)   (781,) x (1000,)   (782,) x (1000,)   (783,) x (1000,)   (784,) x (1000,)   (785,) x (1000,)   (786,) x (1000,)   (787,) x (1000,)   (788,) x (1000,)   (789,) x (1000,)   (790,) x (1000,)   (791,) x (1000,)   (792,) x (1000,)   (793,) x (1000,)   (794,) x (1000,)   (795,) x (1000,)   (796,) x (1000,)   (797,) x (1000,)   (798,) x (1000,)   (799,) x (1000,)   (800,) x (1000,)   (801,) x (1000,)   (802,) x (1000,)   (803,) x (1000,)   (804,) x (1000,)   (805,) x (1000,)   (806,) x (1000,)   (807,) x (1000,)   (808,) x (1000,)   (809,) x (1000,)   (810,) x (1000,)   (811,) x (1000,)   (812,) x (1000,)   (813,) x (1000,)   (814,) x (1000,)   (815,) x (1000,)   (816,) x (1000,)   (817,) x (1000,)   (818,) x (1000,)   (819,) x (1000,)   (820,) x (1000,)   (821,) x (1000,)   (822,) x (1000,)   (823,) x (1000,)   (824,) x (1000,)   (825,) x (1000,)   (826,) x (1000,)   (827,) x (1000,)   (828,) x (1000,)   (829,) x (1000,)   (830,) x (1000,)   (831,) x (1000,)   (832,) x (1000,)   (833,) x (1000,)   (834,) x (1000,)   (835,) x (1000,)   (836,) x (1000,)   (837,) x (1000,)   (838,) x (1000,)   (839,) x (1000,)   (840,) x (1000,)   (841,) x (1000,)   (842,) x (1000,)   (843,) x (1000,)   (844,) x (1000,)   (845,) x (1000,)   (846,) x (1000,)   (847,) x (1000,)   (848,) x (1000,)   (849,) x (1000,)   (850,) x (1000,)   (851,) x (1000,)   (852,) x (1000,)   (853,) x (1000,)   (854,) x (1000,)   (855,) x (1000,)   (856,) x (1000,)   (857,) x (1000,)   (858,) x (1000,)   (859,) x (1000,)   (860,) x (1000,)   (861,) x (1000,)   (862,) x (1000,)   (863,) x (1000,)   (864,) x (1000,)   (865,) x (1000,)   (866,) x (1000,)   (867,) x (1000,)   (868,) x (1000,)   (869,) x (1000,)   (870,) x (1000,)   (871,) x (1000,)   (872,) x (1000,)   (873,) x (1000,)   (874,) x (1000,)   (875,) x (1000,)   (876,) x (1000,)   (877,) x (1000,)   (878,) x (1000,)   (879,) x (1000,)   (880,) x (1000,)   (881,) x (1000,)   (882,) x (1000,)   (883,) x (1000,)   (884,) x (1000,)   (885,) x (1000,)   (886,) x (1000,)   (887,) x (1000,)   (888,) x (1000,)   (889,) x (1000,)   (890,) x (1000,)   (891,) x (1000,)   (892,) x (1000,)   (893,) x (1000,)   (894,) x (1000,)   (895,) x (1000,)   (896,) x (1000,)   (897,) x (1000,)   (898,) x (1000,)   (899,) x (1000,)   (900,) x (1000,)   (901,) x (1000,)   (902,) x (1000,)   (903,) x (1000,)   (904,) x (1000,)   (905,) x (1000,)   (906,) x (1000,)   (907,) x (1000,)   (908,) x (1000,)   (909,) x (1000,)   (910,) x (1000,)   (911,) x (1000,)   (912,) x (1000,)   (913,) x (1000,)   (914,) x (1000,)   (915,) x (1000,)   (916,) x (1000,)   (917,) x (1000,)   (918,) x (1000,)   (919,) x (1000,)   (920,) x (1000,)   (921,) x (1000,)   (922,) x (1000,)   (923,) x (1000,)   (924,) x (1000,)   (925,) x (1000,)   (926,) x (1000,)   (927,) x (1000,)   (928,) x (1000,)   (929,) x (1000,)   (930,) x (1000,)   (931,) x (1000,)   (932,) x (1000,)   (933,) x (1000,)   (934,) x (1000,)   (935,) x (1000,)   (936,) x (1000,)   (937,) x (1000,)   (938,) x (1000,)   (939,) x (1000,)   (940,) x (1000,)   (941,) x (1000,)   (942,) x (1000,)   (943,) x (1000,)   (944,) x (1000,)   (945,) x (1000,)   (946,) x (1000,)   (947,) x (1000,)   (948,) x (1000,)   (949,) x (1000,)   (950,) x (1000,)   (951,) x (1000,)   (952,) x (1000,)   (953,) x (1000,)   (954,) x (1000,)   (955,) x (1000,)   (956,) x (1000,)   (957,) x (1000,)   (958,) x (1000,)   (959,) x (1000,)   (960,) x (1000,)   (961,) x (1000,)   (962,) x (1000,)   (963,) x (1000,)  "
     ]
    },
    {
     "name": "stdout",
     "output_type": "stream",
     "text": [
      " (964,) x (1000,)   (965,) x (1000,)   (966,) x (1000,)   (967,) x (1000,)   (968,) x (1000,)   (969,) x (1000,)   (970,) x (1000,)   (971,) x (1000,)   (972,) x (1000,)   (973,) x (1000,)   (974,) x (1000,)   (975,) x (1000,)   (976,) x (1000,)   (977,) x (1000,)   (978,) x (1000,)   (979,) x (1000,)   (980,) x (1000,)   (981,) x (1000,)   (982,) x (1000,)   (983,) x (1000,)   (984,) x (1000,)   (985,) x (1000,)   (986,) x (1000,)   (987,) x (1000,)   (988,) x (1000,)   (989,) x (1000,)   (990,) x (1000,)   (991,) x (1000,)   (992,) x (1000,)   (993,) x (1000,)   (994,) x (1000,)   (995,) x (1000,)   (996,) x (1000,)   (997,) x (1000,)   (998,) x (1000,)   (999,) x (1000,)  \n"
     ]
    }
   ],
   "source": [
    "# Collect MSE for various train samples numbers\n",
    "MSE_df = pd.DataFrame(columns=[\"train_samples\",\"test_samples\",\"estimators\",\"MSE\"])\n",
    "test_samples = 1000\n",
    "# Fit Random Forest\n",
    "n_estimators=50\n",
    "reruns = 10\n",
    "ind = 0 # DataFrame row numebr (index)\n",
    "for n_estimators in range(20,81,20):\n",
    "    clf = RandomForestRegressor(n_estimators=n_estimators)\n",
    "    print n_estimators\n",
    "    for train_samples in range(100,1000):\n",
    "        mse = 0\n",
    "        for i in range(0,reruns):\n",
    "            X_train, X_test, Y_train, Y_test = train_test_split(\n",
    "            X, Y, train_size=train_samples, shuffle = True)\n",
    "            X_test = X_test[:test_samples]\n",
    "            Y_test = Y_test[:test_samples]\n",
    "            clf = RandomForestRegressor(n_estimators=50)\n",
    "            clf = clf.fit(X_train,Y_train)\n",
    "            H_test = clf.predict(X_test)\n",
    "            mse += mean_squared_error(Y_test, H_test)\n",
    "        mse = mse/reruns\n",
    "        print Y_train.shape,\"x\",Y_test.shape,\" \",\n",
    "        MSE_df.loc[ind] = [train_samples,test_samples,n_estimators,mse]\n",
    "        ind += 1"
   ]
  },
  {
   "cell_type": "code",
   "execution_count": 31,
   "metadata": {},
   "outputs": [
    {
     "name": "stdout",
     "output_type": "stream",
     "text": [
      "(3600, 4)\n"
     ]
    },
    {
     "data": {
      "text/html": [
       "<div>\n",
       "<style scoped>\n",
       "    .dataframe tbody tr th:only-of-type {\n",
       "        vertical-align: middle;\n",
       "    }\n",
       "\n",
       "    .dataframe tbody tr th {\n",
       "        vertical-align: top;\n",
       "    }\n",
       "\n",
       "    .dataframe thead th {\n",
       "        text-align: right;\n",
       "    }\n",
       "</style>\n",
       "<table border=\"1\" class=\"dataframe\">\n",
       "  <thead>\n",
       "    <tr style=\"text-align: right;\">\n",
       "      <th></th>\n",
       "      <th>train_samples</th>\n",
       "      <th>test_samples</th>\n",
       "      <th>estimators</th>\n",
       "      <th>MSE</th>\n",
       "    </tr>\n",
       "  </thead>\n",
       "  <tbody>\n",
       "    <tr>\n",
       "      <th>0</th>\n",
       "      <td>100.0</td>\n",
       "      <td>1000.0</td>\n",
       "      <td>20.0</td>\n",
       "      <td>33.729837</td>\n",
       "    </tr>\n",
       "    <tr>\n",
       "      <th>1</th>\n",
       "      <td>101.0</td>\n",
       "      <td>1000.0</td>\n",
       "      <td>20.0</td>\n",
       "      <td>36.301977</td>\n",
       "    </tr>\n",
       "    <tr>\n",
       "      <th>2</th>\n",
       "      <td>102.0</td>\n",
       "      <td>1000.0</td>\n",
       "      <td>20.0</td>\n",
       "      <td>45.805706</td>\n",
       "    </tr>\n",
       "    <tr>\n",
       "      <th>3</th>\n",
       "      <td>103.0</td>\n",
       "      <td>1000.0</td>\n",
       "      <td>20.0</td>\n",
       "      <td>47.440942</td>\n",
       "    </tr>\n",
       "    <tr>\n",
       "      <th>4</th>\n",
       "      <td>104.0</td>\n",
       "      <td>1000.0</td>\n",
       "      <td>20.0</td>\n",
       "      <td>41.562420</td>\n",
       "    </tr>\n",
       "  </tbody>\n",
       "</table>\n",
       "</div>"
      ],
      "text/plain": [
       "   train_samples  test_samples  estimators        MSE\n",
       "0          100.0        1000.0        20.0  33.729837\n",
       "1          101.0        1000.0        20.0  36.301977\n",
       "2          102.0        1000.0        20.0  45.805706\n",
       "3          103.0        1000.0        20.0  47.440942\n",
       "4          104.0        1000.0        20.0  41.562420"
      ]
     },
     "execution_count": 31,
     "metadata": {},
     "output_type": "execute_result"
    }
   ],
   "source": [
    "print MSE_df.shape\n",
    "MSE_df.head()"
   ]
  },
  {
   "cell_type": "code",
   "execution_count": 32,
   "metadata": {},
   "outputs": [
    {
     "data": {
      "text/plain": [
       "<matplotlib.axes._subplots.AxesSubplot at 0x7f328d715490>"
      ]
     },
     "execution_count": 32,
     "metadata": {},
     "output_type": "execute_result"
    },
    {
     "data": {
      "image/png": "[encoded data removed]",
      "text/plain": [
       "<Figure size 432x288 with 2 Axes>"
      ]
     },
     "metadata": {},
     "output_type": "display_data"
    }
   ],
   "source": [
    "MSE_df.plot(kind=\"scatter\",x=\"train_samples\",y=\"MSE\",c=\"estimators\",colormap=\"jet\")"
   ]
  },
  {
   "cell_type": "code",
   "execution_count": 64,
   "metadata": {},
   "outputs": [
    {
     "data": {
      "text/html": [
       "<div>\n",
       "<style scoped>\n",
       "    .dataframe tbody tr th:only-of-type {\n",
       "        vertical-align: middle;\n",
       "    }\n",
       "\n",
       "    .dataframe tbody tr th {\n",
       "        vertical-align: top;\n",
       "    }\n",
       "\n",
       "    .dataframe thead th {\n",
       "        text-align: right;\n",
       "    }\n",
       "</style>\n",
       "<table border=\"1\" class=\"dataframe\">\n",
       "  <thead>\n",
       "    <tr style=\"text-align: right;\">\n",
       "      <th></th>\n",
       "      <th>batch</th>\n",
       "      <th>time</th>\n",
       "      <th>GPU</th>\n",
       "      <th>CUDA ver</th>\n",
       "      <th>CUDA Cap</th>\n",
       "      <th>CUDA cores</th>\n",
       "      <th>L2 size(MB)</th>\n",
       "      <th>SP (GFLOPS)</th>\n",
       "      <th>DP (GFLOPS)</th>\n",
       "      <th>Mem (GB)</th>\n",
       "      <th>Mband (GB/s)</th>\n",
       "    </tr>\n",
       "  </thead>\n",
       "  <tbody>\n",
       "    <tr>\n",
       "      <th>325</th>\n",
       "      <td>400.0</td>\n",
       "      <td>26.9757</td>\n",
       "      <td>GTX TITAN X</td>\n",
       "      <td>9.0</td>\n",
       "      <td>5.2</td>\n",
       "      <td>3072</td>\n",
       "      <td>3.145728</td>\n",
       "      <td>6144</td>\n",
       "      <td>192.0</td>\n",
       "      <td>12.288</td>\n",
       "      <td>336</td>\n",
       "    </tr>\n",
       "    <tr>\n",
       "      <th>1247</th>\n",
       "      <td>400.0</td>\n",
       "      <td>49.2610</td>\n",
       "      <td>QuadroP2000</td>\n",
       "      <td>9.0</td>\n",
       "      <td>6.1</td>\n",
       "      <td>1024</td>\n",
       "      <td>1.310720</td>\n",
       "      <td>3000</td>\n",
       "      <td>94.7</td>\n",
       "      <td>5.000</td>\n",
       "      <td>140</td>\n",
       "    </tr>\n",
       "  </tbody>\n",
       "</table>\n",
       "</div>"
      ],
      "text/plain": [
       "      batch     time          GPU  CUDA ver  CUDA Cap  CUDA cores  \\\n",
       "325   400.0  26.9757  GTX TITAN X       9.0       5.2        3072   \n",
       "1247  400.0  49.2610  QuadroP2000       9.0       6.1        1024   \n",
       "\n",
       "      L2 size(MB)  SP (GFLOPS)  DP (GFLOPS)  Mem (GB)  Mband (GB/s)  \n",
       "325      3.145728         6144        192.0    12.288           336  \n",
       "1247     1.310720         3000         94.7     5.000           140  "
      ]
     },
     "execution_count": 64,
     "metadata": {},
     "output_type": "execute_result"
    }
   ],
   "source": [
    "df[df[\"batch\"] == 400]"
   ]
  },
  {
   "cell_type": "code",
   "execution_count": 72,
   "metadata": {},
   "outputs": [
    {
     "data": {
      "text/html": [
       "<div>\n",
       "<style scoped>\n",
       "    .dataframe tbody tr th:only-of-type {\n",
       "        vertical-align: middle;\n",
       "    }\n",
       "\n",
       "    .dataframe tbody tr th {\n",
       "        vertical-align: top;\n",
       "    }\n",
       "\n",
       "    .dataframe thead th {\n",
       "        text-align: right;\n",
       "    }\n",
       "</style>\n",
       "<table border=\"1\" class=\"dataframe\">\n",
       "  <thead>\n",
       "    <tr style=\"text-align: right;\">\n",
       "      <th></th>\n",
       "      <th>batch</th>\n",
       "      <th>SP (GFLOPS)</th>\n",
       "      <th>Mem (GB)</th>\n",
       "      <th>Mband (GB/s)</th>\n",
       "      <th>CUDA Cap</th>\n",
       "      <th>CUDA cores</th>\n",
       "      <th>L2 size(MB)</th>\n",
       "      <th>time</th>\n",
       "    </tr>\n",
       "  </thead>\n",
       "  <tbody>\n",
       "    <tr>\n",
       "      <th>325</th>\n",
       "      <td>400.0</td>\n",
       "      <td>6144</td>\n",
       "      <td>12.288</td>\n",
       "      <td>336</td>\n",
       "      <td>5.2</td>\n",
       "      <td>3072</td>\n",
       "      <td>3.145728</td>\n",
       "      <td>26.9757</td>\n",
       "    </tr>\n",
       "    <tr>\n",
       "      <th>1247</th>\n",
       "      <td>400.0</td>\n",
       "      <td>3000</td>\n",
       "      <td>5.000</td>\n",
       "      <td>140</td>\n",
       "      <td>6.1</td>\n",
       "      <td>1024</td>\n",
       "      <td>1.310720</td>\n",
       "      <td>49.2610</td>\n",
       "    </tr>\n",
       "  </tbody>\n",
       "</table>\n",
       "</div>"
      ],
      "text/plain": [
       "      batch  SP (GFLOPS)  Mem (GB)  Mband (GB/s)  CUDA Cap  CUDA cores  \\\n",
       "325   400.0         6144    12.288           336       5.2        3072   \n",
       "1247  400.0         3000     5.000           140       6.1        1024   \n",
       "\n",
       "      L2 size(MB)     time  \n",
       "325      3.145728  26.9757  \n",
       "1247     1.310720  49.2610  "
      ]
     },
     "execution_count": 72,
     "metadata": {},
     "output_type": "execute_result"
    }
   ],
   "source": [
    "df.loc[df[\"batch\"] == 400][[\"batch\",\"SP (GFLOPS)\",\"Mem (GB)\",\"Mband (GB/s)\", \"CUDA Cap\", \"CUDA cores\", \"L2 size(MB)\",\"time\"]]"
   ]
  },
  {
   "cell_type": "code",
   "execution_count": 73,
   "metadata": {},
   "outputs": [
    {
     "name": "stdout",
     "output_type": "stream",
     "text": [
      "[[  4.00000000e+02   6.14400000e+03   1.22880000e+01   3.36000000e+02\n",
      "    5.20000000e+00   3.07200000e+03   3.14572800e+00]\n",
      " [  4.00000000e+02   3.00000000e+03   5.00000000e+00   1.40000000e+02\n",
      "    6.10000000e+00   1.02400000e+03   1.31072000e+00]]\n"
     ]
    }
   ],
   "source": [
    "test = df.loc[df[\"batch\"] == 400][[\"batch\",\"SP (GFLOPS)\",\"Mem (GB)\",\"Mband (GB/s)\", \"CUDA Cap\", \"CUDA cores\", \"L2 size(MB)\"]].values\n",
    "print test"
   ]
  },
  {
   "cell_type": "code",
   "execution_count": 74,
   "metadata": {},
   "outputs": [
    {
     "data": {
      "text/plain": [
       "array([ 25.69467,  48.98424])"
      ]
     },
     "execution_count": 74,
     "metadata": {},
     "output_type": "execute_result"
    }
   ],
   "source": [
    "clf.predict(test)"
   ]
  },
  {
   "cell_type": "code",
   "execution_count": 89,
   "metadata": {},
   "outputs": [
    {
     "data": {
      "text/plain": [
       "array([ 25.69467])"
      ]
     },
     "execution_count": 89,
     "metadata": {},
     "output_type": "execute_result"
    }
   ],
   "source": [
    "clf.predict([[400.,6144,12.288,336,5.2,3072,3.145728]])"
   ]
  },
  {
   "cell_type": "code",
   "execution_count": 125,
   "metadata": {},
   "outputs": [
    {
     "data": {
      "text/plain": [
       "array([ 40.354854])"
      ]
     },
     "execution_count": 125,
     "metadata": {},
     "output_type": "execute_result"
    }
   ],
   "source": [
    "clf.predict([[400.,6000,5,140]]) # Несуществующее устройство :)"
   ]
  },
  {
   "cell_type": "code",
   "execution_count": null,
   "metadata": {},
   "outputs": [],
   "source": []
  }
 ],
 "metadata": {
  "kernelspec": {
   "display_name": "Python 2",
   "language": "python",
   "name": "python2"
  },
  "language_info": {
   "codemirror_mode": {
    "name": "ipython",
    "version": 2
   },
   "file_extension": ".py",
   "mimetype": "text/x-python",
   "name": "python",
   "nbconvert_exporter": "python",
   "pygments_lexer": "ipython2",
   "version": "2.7.12"
  }
 },
 "nbformat": 4,
 "nbformat_minor": 2
}

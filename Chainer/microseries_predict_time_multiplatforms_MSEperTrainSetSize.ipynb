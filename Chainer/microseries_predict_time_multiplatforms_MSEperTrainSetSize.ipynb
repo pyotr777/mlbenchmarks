{
 "cells": [
  {
   "cell_type": "markdown",
   "metadata": {},
   "source": [
    "# MSE as a function of Training set size\n",
    "## predicting time from minibatch size and GPU parameters"
   ]
  },
  {
   "cell_type": "code",
   "execution_count": 2,
   "metadata": {},
   "outputs": [],
   "source": [
    "%matplotlib inline\n",
    "import re\n",
    "import numpy as np\n",
    "import matplotlib\n",
    "import matplotlib.pyplot as plt\n",
    "from matplotlib import cm\n",
    "import pandas as pd\n",
    "import subprocess, os\n",
    "from sklearn.ensemble import RandomForestRegressor\n",
    "from sklearn.ensemble import GradientBoostingRegressor\n",
    "from sklearn.metrics import mean_squared_error\n",
    "from sklearn.model_selection import train_test_split\n",
    "from sklearn.ensemble.partial_dependence import partial_dependence\n",
    "from sklearn.ensemble.partial_dependence import plot_partial_dependence"
   ]
  },
  {
   "cell_type": "code",
   "execution_count": 3,
   "metadata": {},
   "outputs": [],
   "source": [
    "batch_learn_pattern = re.compile(r\"^b\\s*(\\d+)\\s+l\\s*([0-9\\.]+)\")\n",
    "output_pattern = re.compile(r\"^(\\d+)\\s+([0-9\\.]+)\\s+([0-9\\.]+)\\s+([0-9\\.]+)\\s+([0-9\\.]+)\\s+([0-9\\.]+)\")\n",
    "remove_str=\"\u001b[J\"\n",
    "\n",
    "\n",
    "# Read minibatch size and 1st epoch time from files.\n",
    "# Store in a DataFrame.\n",
    "def fileToDF(logfile, debug=False):\n",
    "    global batch_learn_pattern\n",
    "    global output_pattern\n",
    "    global remove_str\n",
    "    logfile = logfile.strip(\" \\n\")\n",
    "    with open(logfile,\"r\") as f:\n",
    "        lines = f.readlines()\n",
    "        batch = 0\n",
    "        time = 0\n",
    "        epoch = 0\n",
    "        ind = 0 # DataFrame row numebr (index)\n",
    "        df = pd.DataFrame(data=None,columns=[\"batch\",\"learn\",\"epoch\",\"time\"])\n",
    "        for line in lines:\n",
    "            s = line.strip(' \\n')\n",
    "            s = s.replace(remove_str,\"\")\n",
    "            m = batch_learn_pattern.match(s)\n",
    "            if m:\n",
    "                batch = int(m.group(1))\n",
    "                learn = float(m.group(2))\n",
    "                if debug: print logfile,\": b\",batch,\" l\",learn\n",
    "            else:\n",
    "                m2 = output_pattern.match(s)\n",
    "                if m2:\n",
    "                    epoch = int(m2.group(1))\n",
    "                    time = float(m2.group(6))\n",
    "                    if debug: print batch,learn,epoch,time\n",
    "                    df.loc[ind] = [batch,learn,epoch,time]\n",
    "                    ind += 1\n",
    "                    \n",
    "    return df"
   ]
  },
  {
   "cell_type": "code",
   "execution_count": 4,
   "metadata": {},
   "outputs": [],
   "source": [
    "filename_pattern=re.compile(r\"cifar_.*\\.log\")\n",
    "\n",
    "def readLogs(logdir, debug=False):\n",
    "    global filename_pattern\n",
    "    list_command = \"ls -1 \"+logdir\n",
    "    if debug: print \"Looking in\",logdir\n",
    "    files=[]\n",
    "    proc = subprocess.Popen(list_command.split(\" \"),\n",
    "                         stdout=subprocess.PIPE,stderr=subprocess.STDOUT)\n",
    "    for line in iter(proc.stdout.readline,b''):\n",
    "        line = line.strip(\" \\n\")\n",
    "        m = filename_pattern.match(line)\n",
    "        if m:\n",
    "            files.append(os.path.abspath(os.path.join(logdir,line)))\n",
    "            \n",
    "    if debug: print len(files),\"files\"\n",
    "    df = pd.DataFrame(data=None,columns=[\"batch\",\"learn\",\"epoch\",\"time\"])\n",
    "\n",
    "    for file in files:\n",
    "        df1 = fileToDF(file,debug)\n",
    "        if len(df1) > 0:\n",
    "            df = pd.concat([df,df1],ignore_index=True)\n",
    "    return df"
   ]
  },
  {
   "cell_type": "code",
   "execution_count": 5,
   "metadata": {},
   "outputs": [
    {
     "name": "stdout",
     "output_type": "stream",
     "text": [
      "\u001b[1m\u001b[36mGTX_TITAN_X\u001b[m\u001b[m \u001b[1m\u001b[36mK80\u001b[m\u001b[m         \u001b[1m\u001b[36mQuadroP2000\u001b[m\u001b[m\r\n"
     ]
    }
   ],
   "source": [
    "!ls logs/microseries/"
   ]
  },
  {
   "cell_type": "code",
   "execution_count": 6,
   "metadata": {},
   "outputs": [
    {
     "data": {
      "text/html": [
       "<div>\n",
       "<style scoped>\n",
       "    .dataframe tbody tr th:only-of-type {\n",
       "        vertical-align: middle;\n",
       "    }\n",
       "\n",
       "    .dataframe tbody tr th {\n",
       "        vertical-align: top;\n",
       "    }\n",
       "\n",
       "    .dataframe thead th {\n",
       "        text-align: right;\n",
       "    }\n",
       "</style>\n",
       "<table border=\"1\" class=\"dataframe\">\n",
       "  <thead>\n",
       "    <tr style=\"text-align: right;\">\n",
       "      <th></th>\n",
       "      <th>batch</th>\n",
       "      <th>learn</th>\n",
       "      <th>epoch</th>\n",
       "      <th>time</th>\n",
       "    </tr>\n",
       "  </thead>\n",
       "  <tbody>\n",
       "    <tr>\n",
       "      <th>0</th>\n",
       "      <td>101.0</td>\n",
       "      <td>0.15</td>\n",
       "      <td>1.0</td>\n",
       "      <td>90.3823</td>\n",
       "    </tr>\n",
       "    <tr>\n",
       "      <th>1</th>\n",
       "      <td>101.0</td>\n",
       "      <td>0.15</td>\n",
       "      <td>1.0</td>\n",
       "      <td>90.4984</td>\n",
       "    </tr>\n",
       "    <tr>\n",
       "      <th>2</th>\n",
       "      <td>102.0</td>\n",
       "      <td>0.15</td>\n",
       "      <td>1.0</td>\n",
       "      <td>90.1218</td>\n",
       "    </tr>\n",
       "    <tr>\n",
       "      <th>3</th>\n",
       "      <td>103.0</td>\n",
       "      <td>0.15</td>\n",
       "      <td>1.0</td>\n",
       "      <td>90.1364</td>\n",
       "    </tr>\n",
       "    <tr>\n",
       "      <th>4</th>\n",
       "      <td>104.0</td>\n",
       "      <td>0.15</td>\n",
       "      <td>1.0</td>\n",
       "      <td>90.1099</td>\n",
       "    </tr>\n",
       "  </tbody>\n",
       "</table>\n",
       "</div>"
      ],
      "text/plain": [
       "   batch  learn  epoch     time\n",
       "0  101.0   0.15    1.0  90.3823\n",
       "1  101.0   0.15    1.0  90.4984\n",
       "2  102.0   0.15    1.0  90.1218\n",
       "3  103.0   0.15    1.0  90.1364\n",
       "4  104.0   0.15    1.0  90.1099"
      ]
     },
     "execution_count": 6,
     "metadata": {},
     "output_type": "execute_result"
    }
   ],
   "source": [
    "df_mouse=readLogs(\"logs/microseries/QuadroP2000\")\n",
    "df_DLsrv=readLogs(\"logs/microseries/GTX_TITAN_X\")\n",
    "df_mouse.head()"
   ]
  },
  {
   "cell_type": "code",
   "execution_count": 7,
   "metadata": {},
   "outputs": [],
   "source": [
    "def readLogsK80(logdir, debug=False):\n",
    "    global filename_pattern    \n",
    "    \n",
    "    list_command = \"ls -1 \"+logdir\n",
    "    files=[]\n",
    "    proc = subprocess.Popen(list_command.split(\" \"),\n",
    "                         stdout=subprocess.PIPE,stderr=subprocess.STDOUT)\n",
    "    if debug: maxfiles = 5\n",
    "    else: maxfiles = 100000000\n",
    "    for line in iter(proc.stdout.readline,b''):\n",
    "        line = line.strip(\" \\n\")\n",
    "        m = filename_pattern.match(line)\n",
    "        if m:\n",
    "            files.append(os.path.abspath(os.path.join(logdir,line)))\n",
    "            \n",
    "    #if debug: print \"files:\",files\n",
    "    df = pd.DataFrame(data=None,columns=[\"batch\",\"learn\",\"epoch\",\"time\"])\n",
    "\n",
    "    filecounter=0\n",
    "    for file in files:\n",
    "        if debug: print file\n",
    "        df1 = fileToDF_K80(file,debug)\n",
    "        if len(df1) > 0:\n",
    "            df = pd.concat([df,df1],ignore_index=True)\n",
    "        filecounter +=1\n",
    "        if filecounter>=maxfiles:\n",
    "            return df\n",
    "    return df\n",
    "\n",
    "# Read minibatch size and 1st epoch time from files.\n",
    "# Store in a DataFrame.\n",
    "def fileToDF_K80(logfile, debug=False):\n",
    "    batch_learn_pattern = \"_b(\\d+)_l([0-9\\.]+)\"\n",
    "    global output_pattern\n",
    "    remove_str = [\"\u001b[4A\",\"\u001b[J\"]\n",
    "    logfile = logfile.strip(\" \\n\")\n",
    "    filename = os.path.basename(logfile)\n",
    "    if debug: print \"FILE\",filename\n",
    "    batch = 0\n",
    "    learn = 0\n",
    "    m = re.search(batch_learn_pattern, filename)\n",
    "    if m:\n",
    "        batch = int(m.group(1))\n",
    "        learn = float(m.group(2))\n",
    "        if debug: print \"BS,LR:\",batch,learn\n",
    "\n",
    "    with open(logfile,\"r\") as f:\n",
    "        lines = f.readlines()\n",
    "        time = 0\n",
    "        epoch = 0\n",
    "        ind = 0 # DataFrame row numebr (index)\n",
    "        df = pd.DataFrame(data=None,columns=[\"batch\",\"learn\",\"epoch\",\"time\"])\n",
    "        for line in lines:\n",
    "            s = line.strip(' \\n')\n",
    "            for rmstr in remove_str:\n",
    "                s = s.replace(rmstr,\"\")            \n",
    "            m2 = output_pattern.match(s)\n",
    "            if m2:\n",
    "                if debug: print s,\n",
    "                epoch = int(m2.group(1))\n",
    "                time = float(m2.group(6))\n",
    "                if debug: print \"BS,LR,epoch,time:\",batch,learn,epoch,time\n",
    "                df.loc[ind] = [batch,learn,epoch,time]\n",
    "                ind += 1\n",
    "                    \n",
    "    return df"
   ]
  },
  {
   "cell_type": "code",
   "execution_count": 8,
   "metadata": {},
   "outputs": [
    {
     "data": {
      "text/html": [
       "<div>\n",
       "<style scoped>\n",
       "    .dataframe tbody tr th:only-of-type {\n",
       "        vertical-align: middle;\n",
       "    }\n",
       "\n",
       "    .dataframe tbody tr th {\n",
       "        vertical-align: top;\n",
       "    }\n",
       "\n",
       "    .dataframe thead th {\n",
       "        text-align: right;\n",
       "    }\n",
       "</style>\n",
       "<table border=\"1\" class=\"dataframe\">\n",
       "  <thead>\n",
       "    <tr style=\"text-align: right;\">\n",
       "      <th></th>\n",
       "      <th>batch</th>\n",
       "      <th>learn</th>\n",
       "      <th>epoch</th>\n",
       "      <th>time</th>\n",
       "    </tr>\n",
       "  </thead>\n",
       "  <tbody>\n",
       "    <tr>\n",
       "      <th>count</th>\n",
       "      <td>266.000000</td>\n",
       "      <td>2.660000e+02</td>\n",
       "      <td>266.0</td>\n",
       "      <td>266.000000</td>\n",
       "    </tr>\n",
       "    <tr>\n",
       "      <th>mean</th>\n",
       "      <td>466.210526</td>\n",
       "      <td>1.500000e-01</td>\n",
       "      <td>1.0</td>\n",
       "      <td>169.938150</td>\n",
       "    </tr>\n",
       "    <tr>\n",
       "      <th>std</th>\n",
       "      <td>244.284911</td>\n",
       "      <td>2.780790e-17</td>\n",
       "      <td>0.0</td>\n",
       "      <td>17.175434</td>\n",
       "    </tr>\n",
       "    <tr>\n",
       "      <th>min</th>\n",
       "      <td>65.000000</td>\n",
       "      <td>1.500000e-01</td>\n",
       "      <td>1.0</td>\n",
       "      <td>87.221800</td>\n",
       "    </tr>\n",
       "    <tr>\n",
       "      <th>25%</th>\n",
       "      <td>246.000000</td>\n",
       "      <td>1.500000e-01</td>\n",
       "      <td>1.0</td>\n",
       "      <td>172.636000</td>\n",
       "    </tr>\n",
       "    <tr>\n",
       "      <th>50%</th>\n",
       "      <td>453.500000</td>\n",
       "      <td>1.500000e-01</td>\n",
       "      <td>1.0</td>\n",
       "      <td>173.322500</td>\n",
       "    </tr>\n",
       "    <tr>\n",
       "      <th>75%</th>\n",
       "      <td>683.000000</td>\n",
       "      <td>1.500000e-01</td>\n",
       "      <td>1.0</td>\n",
       "      <td>174.097500</td>\n",
       "    </tr>\n",
       "    <tr>\n",
       "      <th>max</th>\n",
       "      <td>895.000000</td>\n",
       "      <td>1.500000e-01</td>\n",
       "      <td>1.0</td>\n",
       "      <td>181.592000</td>\n",
       "    </tr>\n",
       "  </tbody>\n",
       "</table>\n",
       "</div>"
      ],
      "text/plain": [
       "            batch         learn  epoch        time\n",
       "count  266.000000  2.660000e+02  266.0  266.000000\n",
       "mean   466.210526  1.500000e-01    1.0  169.938150\n",
       "std    244.284911  2.780790e-17    0.0   17.175434\n",
       "min     65.000000  1.500000e-01    1.0   87.221800\n",
       "25%    246.000000  1.500000e-01    1.0  172.636000\n",
       "50%    453.500000  1.500000e-01    1.0  173.322500\n",
       "75%    683.000000  1.500000e-01    1.0  174.097500\n",
       "max    895.000000  1.500000e-01    1.0  181.592000"
      ]
     },
     "execution_count": 8,
     "metadata": {},
     "output_type": "execute_result"
    }
   ],
   "source": [
    "df_K80=readLogsK80(\"logs/microseries/K80\")\n",
    "df_K80.describe()"
   ]
  },
  {
   "cell_type": "code",
   "execution_count": 9,
   "metadata": {},
   "outputs": [
    {
     "data": {
      "text/plain": [
       "<matplotlib.axes._subplots.AxesSubplot at 0x107475f50>"
      ]
     },
     "execution_count": 9,
     "metadata": {},
     "output_type": "execute_result"
    },
    {
     "data": {
      "image/png": "[encoded data removed]",
      "text/plain": [
       "<matplotlib.figure.Figure at 0x1065154d0>"
      ]
     },
     "metadata": {},
     "output_type": "display_data"
    }
   ],
   "source": [
    "df_K80.plot(kind=\"scatter\",x=\"batch\",y=\"time\")"
   ]
  },
  {
   "cell_type": "code",
   "execution_count": 10,
   "metadata": {},
   "outputs": [
    {
     "name": "stdout",
     "output_type": "stream",
     "text": [
      "(961, 4)\n",
      "(800, 4)\n",
      "(266, 4)\n"
     ]
    }
   ],
   "source": [
    "print df_DLsrv.shape\n",
    "print df_mouse.shape\n",
    "print df_K80.shape"
   ]
  },
  {
   "cell_type": "code",
   "execution_count": 11,
   "metadata": {},
   "outputs": [
    {
     "name": "stdout",
     "output_type": "stream",
     "text": [
      "(961, 3)\n"
     ]
    },
    {
     "data": {
      "text/html": [
       "<div>\n",
       "<style scoped>\n",
       "    .dataframe tbody tr th:only-of-type {\n",
       "        vertical-align: middle;\n",
       "    }\n",
       "\n",
       "    .dataframe tbody tr th {\n",
       "        vertical-align: top;\n",
       "    }\n",
       "\n",
       "    .dataframe thead th {\n",
       "        text-align: right;\n",
       "    }\n",
       "</style>\n",
       "<table border=\"1\" class=\"dataframe\">\n",
       "  <thead>\n",
       "    <tr style=\"text-align: right;\">\n",
       "      <th></th>\n",
       "      <th>batch</th>\n",
       "      <th>time</th>\n",
       "      <th>GPU</th>\n",
       "    </tr>\n",
       "  </thead>\n",
       "  <tbody>\n",
       "    <tr>\n",
       "      <th>0</th>\n",
       "      <td>101.0</td>\n",
       "      <td>90.3823</td>\n",
       "      <td>QuadroP2000</td>\n",
       "    </tr>\n",
       "    <tr>\n",
       "      <th>1</th>\n",
       "      <td>101.0</td>\n",
       "      <td>90.4984</td>\n",
       "      <td>QuadroP2000</td>\n",
       "    </tr>\n",
       "    <tr>\n",
       "      <th>2</th>\n",
       "      <td>102.0</td>\n",
       "      <td>90.1218</td>\n",
       "      <td>QuadroP2000</td>\n",
       "    </tr>\n",
       "    <tr>\n",
       "      <th>3</th>\n",
       "      <td>103.0</td>\n",
       "      <td>90.1364</td>\n",
       "      <td>QuadroP2000</td>\n",
       "    </tr>\n",
       "    <tr>\n",
       "      <th>4</th>\n",
       "      <td>104.0</td>\n",
       "      <td>90.1099</td>\n",
       "      <td>QuadroP2000</td>\n",
       "    </tr>\n",
       "  </tbody>\n",
       "</table>\n",
       "</div>"
      ],
      "text/plain": [
       "   batch     time          GPU\n",
       "0  101.0  90.3823  QuadroP2000\n",
       "1  101.0  90.4984  QuadroP2000\n",
       "2  102.0  90.1218  QuadroP2000\n",
       "3  103.0  90.1364  QuadroP2000\n",
       "4  104.0  90.1099  QuadroP2000"
      ]
     },
     "execution_count": 11,
     "metadata": {},
     "output_type": "execute_result"
    }
   ],
   "source": [
    "df_DLsrv[\"GPU\"] = \"GTX TITAN X\" # Single precision peak GFLOPS for GTX TITAN X\n",
    "df_mouse[\"GPU\"] = \"QuadroP2000\"\n",
    "df_K80[\"GPU\"] = \"K80\"\n",
    "df_DLsrv.drop([\"learn\",\"epoch\"],axis=1,inplace=True)\n",
    "df_mouse.drop([\"learn\",\"epoch\"],axis=1,inplace=True)\n",
    "df_K80.drop([\"learn\",\"epoch\"],axis=1,inplace=True)\n",
    "print df_DLsrv.shape\n",
    "df_mouse.head()"
   ]
  },
  {
   "cell_type": "code",
   "execution_count": 12,
   "metadata": {},
   "outputs": [
    {
     "data": {
      "text/html": [
       "<div>\n",
       "<style scoped>\n",
       "    .dataframe tbody tr th:only-of-type {\n",
       "        vertical-align: middle;\n",
       "    }\n",
       "\n",
       "    .dataframe tbody tr th {\n",
       "        vertical-align: top;\n",
       "    }\n",
       "\n",
       "    .dataframe thead th {\n",
       "        text-align: right;\n",
       "    }\n",
       "</style>\n",
       "<table border=\"1\" class=\"dataframe\">\n",
       "  <thead>\n",
       "    <tr style=\"text-align: right;\">\n",
       "      <th></th>\n",
       "      <th>batch</th>\n",
       "      <th>time</th>\n",
       "      <th>GPU</th>\n",
       "    </tr>\n",
       "  </thead>\n",
       "  <tbody>\n",
       "    <tr>\n",
       "      <th>0</th>\n",
       "      <td>1000.0</td>\n",
       "      <td>24.4252</td>\n",
       "      <td>GTX TITAN X</td>\n",
       "    </tr>\n",
       "    <tr>\n",
       "      <th>1</th>\n",
       "      <td>1001.0</td>\n",
       "      <td>24.4108</td>\n",
       "      <td>GTX TITAN X</td>\n",
       "    </tr>\n",
       "    <tr>\n",
       "      <th>2</th>\n",
       "      <td>1002.0</td>\n",
       "      <td>24.4341</td>\n",
       "      <td>GTX TITAN X</td>\n",
       "    </tr>\n",
       "    <tr>\n",
       "      <th>3</th>\n",
       "      <td>1003.0</td>\n",
       "      <td>24.7236</td>\n",
       "      <td>GTX TITAN X</td>\n",
       "    </tr>\n",
       "    <tr>\n",
       "      <th>4</th>\n",
       "      <td>1004.0</td>\n",
       "      <td>25.0943</td>\n",
       "      <td>GTX TITAN X</td>\n",
       "    </tr>\n",
       "  </tbody>\n",
       "</table>\n",
       "</div>"
      ],
      "text/plain": [
       "    batch     time          GPU\n",
       "0  1000.0  24.4252  GTX TITAN X\n",
       "1  1001.0  24.4108  GTX TITAN X\n",
       "2  1002.0  24.4341  GTX TITAN X\n",
       "3  1003.0  24.7236  GTX TITAN X\n",
       "4  1004.0  25.0943  GTX TITAN X"
      ]
     },
     "execution_count": 12,
     "metadata": {},
     "output_type": "execute_result"
    }
   ],
   "source": [
    "df_DLsrv.head()"
   ]
  },
  {
   "cell_type": "code",
   "execution_count": 13,
   "metadata": {},
   "outputs": [
    {
     "name": "stdout",
     "output_type": "stream",
     "text": [
      "(2027, 3)\n"
     ]
    },
    {
     "data": {
      "text/html": [
       "<div>\n",
       "<style scoped>\n",
       "    .dataframe tbody tr th:only-of-type {\n",
       "        vertical-align: middle;\n",
       "    }\n",
       "\n",
       "    .dataframe tbody tr th {\n",
       "        vertical-align: top;\n",
       "    }\n",
       "\n",
       "    .dataframe thead th {\n",
       "        text-align: right;\n",
       "    }\n",
       "</style>\n",
       "<table border=\"1\" class=\"dataframe\">\n",
       "  <thead>\n",
       "    <tr style=\"text-align: right;\">\n",
       "      <th></th>\n",
       "      <th>batch</th>\n",
       "      <th>time</th>\n",
       "      <th>GPU</th>\n",
       "    </tr>\n",
       "  </thead>\n",
       "  <tbody>\n",
       "    <tr>\n",
       "      <th>0</th>\n",
       "      <td>1000.0</td>\n",
       "      <td>24.4252</td>\n",
       "      <td>GTX TITAN X</td>\n",
       "    </tr>\n",
       "    <tr>\n",
       "      <th>1</th>\n",
       "      <td>1001.0</td>\n",
       "      <td>24.4108</td>\n",
       "      <td>GTX TITAN X</td>\n",
       "    </tr>\n",
       "    <tr>\n",
       "      <th>2</th>\n",
       "      <td>1002.0</td>\n",
       "      <td>24.4341</td>\n",
       "      <td>GTX TITAN X</td>\n",
       "    </tr>\n",
       "    <tr>\n",
       "      <th>3</th>\n",
       "      <td>1003.0</td>\n",
       "      <td>24.7236</td>\n",
       "      <td>GTX TITAN X</td>\n",
       "    </tr>\n",
       "    <tr>\n",
       "      <th>4</th>\n",
       "      <td>1004.0</td>\n",
       "      <td>25.0943</td>\n",
       "      <td>GTX TITAN X</td>\n",
       "    </tr>\n",
       "  </tbody>\n",
       "</table>\n",
       "</div>"
      ],
      "text/plain": [
       "    batch     time          GPU\n",
       "0  1000.0  24.4252  GTX TITAN X\n",
       "1  1001.0  24.4108  GTX TITAN X\n",
       "2  1002.0  24.4341  GTX TITAN X\n",
       "3  1003.0  24.7236  GTX TITAN X\n",
       "4  1004.0  25.0943  GTX TITAN X"
      ]
     },
     "execution_count": 13,
     "metadata": {},
     "output_type": "execute_result"
    }
   ],
   "source": [
    "mdf = pd.concat([df_DLsrv,df_mouse,df_K80],ignore_index=True)\n",
    "print mdf.shape\n",
    "mdf.head()"
   ]
  },
  {
   "cell_type": "code",
   "execution_count": 14,
   "metadata": {},
   "outputs": [
    {
     "name": "stdout",
     "output_type": "stream",
     "text": [
      "GPU_data.csv\r\n"
     ]
    }
   ],
   "source": [
    "!ls .. | grep \"GPU\""
   ]
  },
  {
   "cell_type": "code",
   "execution_count": 15,
   "metadata": {},
   "outputs": [
    {
     "data": {
      "text/html": [
       "<div>\n",
       "<style scoped>\n",
       "    .dataframe tbody tr th:only-of-type {\n",
       "        vertical-align: middle;\n",
       "    }\n",
       "\n",
       "    .dataframe tbody tr th {\n",
       "        vertical-align: top;\n",
       "    }\n",
       "\n",
       "    .dataframe thead th {\n",
       "        text-align: right;\n",
       "    }\n",
       "</style>\n",
       "<table border=\"1\" class=\"dataframe\">\n",
       "  <thead>\n",
       "    <tr style=\"text-align: right;\">\n",
       "      <th></th>\n",
       "      <th>GPU model</th>\n",
       "      <th>CUDA cap</th>\n",
       "      <th>CUDA cores</th>\n",
       "      <th>Boost clock (GHz)</th>\n",
       "      <th>Memory size (GB)</th>\n",
       "      <th>Memory bandwidth (GB/s)</th>\n",
       "      <th>SP (GFLOPS)</th>\n",
       "      <th>DP (GFLOPS)</th>\n",
       "      <th>L2 size (MB)</th>\n",
       "    </tr>\n",
       "  </thead>\n",
       "  <tbody>\n",
       "    <tr>\n",
       "      <th>0</th>\n",
       "      <td>GTX TITAN X</td>\n",
       "      <td>5.2</td>\n",
       "      <td>3072</td>\n",
       "      <td>1.075</td>\n",
       "      <td>12.207</td>\n",
       "      <td>336.00</td>\n",
       "      <td>6144</td>\n",
       "      <td>192.0</td>\n",
       "      <td>3.145728</td>\n",
       "    </tr>\n",
       "    <tr>\n",
       "      <th>1</th>\n",
       "      <td>QuadroP2000</td>\n",
       "      <td>6.1</td>\n",
       "      <td>1024</td>\n",
       "      <td>1.480</td>\n",
       "      <td>5.053</td>\n",
       "      <td>140.00</td>\n",
       "      <td>3000</td>\n",
       "      <td>94.7</td>\n",
       "      <td>1.310720</td>\n",
       "    </tr>\n",
       "    <tr>\n",
       "      <th>2</th>\n",
       "      <td>K80</td>\n",
       "      <td>3.7</td>\n",
       "      <td>2496</td>\n",
       "      <td>0.875</td>\n",
       "      <td>12.000</td>\n",
       "      <td>240.48</td>\n",
       "      <td>8736</td>\n",
       "      <td>2912.0</td>\n",
       "      <td>1.572864</td>\n",
       "    </tr>\n",
       "  </tbody>\n",
       "</table>\n",
       "</div>"
      ],
      "text/plain": [
       "     GPU model  CUDA cap  CUDA cores  Boost clock (GHz)  Memory size (GB)  \\\n",
       "0  GTX TITAN X       5.2        3072              1.075            12.207   \n",
       "1  QuadroP2000       6.1        1024              1.480             5.053   \n",
       "2          K80       3.7        2496              0.875            12.000   \n",
       "\n",
       "   Memory bandwidth (GB/s)  SP (GFLOPS)  DP (GFLOPS)  L2 size (MB)  \n",
       "0                   336.00         6144        192.0      3.145728  \n",
       "1                   140.00         3000         94.7      1.310720  \n",
       "2                   240.48         8736       2912.0      1.572864  "
      ]
     },
     "execution_count": 15,
     "metadata": {},
     "output_type": "execute_result"
    }
   ],
   "source": [
    "GPU_df = pd.read_csv(\"../GPU_data.csv\")\n",
    "GPU_df.head()"
   ]
  },
  {
   "cell_type": "code",
   "execution_count": 16,
   "metadata": {},
   "outputs": [],
   "source": [
    "GPU_df.rename({\"GPU model\":\"GPU\"},axis=1,inplace=True)"
   ]
  },
  {
   "cell_type": "code",
   "execution_count": 17,
   "metadata": {},
   "outputs": [
    {
     "data": {
      "text/html": [
       "<div>\n",
       "<style scoped>\n",
       "    .dataframe tbody tr th:only-of-type {\n",
       "        vertical-align: middle;\n",
       "    }\n",
       "\n",
       "    .dataframe tbody tr th {\n",
       "        vertical-align: top;\n",
       "    }\n",
       "\n",
       "    .dataframe thead th {\n",
       "        text-align: right;\n",
       "    }\n",
       "</style>\n",
       "<table border=\"1\" class=\"dataframe\">\n",
       "  <thead>\n",
       "    <tr style=\"text-align: right;\">\n",
       "      <th></th>\n",
       "      <th>GPU</th>\n",
       "      <th>CUDA cap</th>\n",
       "      <th>CUDA cores</th>\n",
       "      <th>Boost clock (GHz)</th>\n",
       "      <th>Memory size (GB)</th>\n",
       "      <th>Memory bandwidth (GB/s)</th>\n",
       "      <th>SP (GFLOPS)</th>\n",
       "      <th>DP (GFLOPS)</th>\n",
       "      <th>L2 size (MB)</th>\n",
       "    </tr>\n",
       "  </thead>\n",
       "  <tbody>\n",
       "    <tr>\n",
       "      <th>0</th>\n",
       "      <td>GTX TITAN X</td>\n",
       "      <td>5.2</td>\n",
       "      <td>3072</td>\n",
       "      <td>1.075</td>\n",
       "      <td>12.207</td>\n",
       "      <td>336.00</td>\n",
       "      <td>6144</td>\n",
       "      <td>192.0</td>\n",
       "      <td>3.145728</td>\n",
       "    </tr>\n",
       "    <tr>\n",
       "      <th>1</th>\n",
       "      <td>QuadroP2000</td>\n",
       "      <td>6.1</td>\n",
       "      <td>1024</td>\n",
       "      <td>1.480</td>\n",
       "      <td>5.053</td>\n",
       "      <td>140.00</td>\n",
       "      <td>3000</td>\n",
       "      <td>94.7</td>\n",
       "      <td>1.310720</td>\n",
       "    </tr>\n",
       "    <tr>\n",
       "      <th>2</th>\n",
       "      <td>K80</td>\n",
       "      <td>3.7</td>\n",
       "      <td>2496</td>\n",
       "      <td>0.875</td>\n",
       "      <td>12.000</td>\n",
       "      <td>240.48</td>\n",
       "      <td>8736</td>\n",
       "      <td>2912.0</td>\n",
       "      <td>1.572864</td>\n",
       "    </tr>\n",
       "  </tbody>\n",
       "</table>\n",
       "</div>"
      ],
      "text/plain": [
       "           GPU  CUDA cap  CUDA cores  Boost clock (GHz)  Memory size (GB)  \\\n",
       "0  GTX TITAN X       5.2        3072              1.075            12.207   \n",
       "1  QuadroP2000       6.1        1024              1.480             5.053   \n",
       "2          K80       3.7        2496              0.875            12.000   \n",
       "\n",
       "   Memory bandwidth (GB/s)  SP (GFLOPS)  DP (GFLOPS)  L2 size (MB)  \n",
       "0                   336.00         6144        192.0      3.145728  \n",
       "1                   140.00         3000         94.7      1.310720  \n",
       "2                   240.48         8736       2912.0      1.572864  "
      ]
     },
     "execution_count": 17,
     "metadata": {},
     "output_type": "execute_result"
    }
   ],
   "source": [
    "GPU_df.head()"
   ]
  },
  {
   "cell_type": "code",
   "execution_count": 19,
   "metadata": {},
   "outputs": [
    {
     "data": {
      "text/html": [
       "<div>\n",
       "<style scoped>\n",
       "    .dataframe tbody tr th:only-of-type {\n",
       "        vertical-align: middle;\n",
       "    }\n",
       "\n",
       "    .dataframe tbody tr th {\n",
       "        vertical-align: top;\n",
       "    }\n",
       "\n",
       "    .dataframe thead th {\n",
       "        text-align: right;\n",
       "    }\n",
       "</style>\n",
       "<table border=\"1\" class=\"dataframe\">\n",
       "  <thead>\n",
       "    <tr style=\"text-align: right;\">\n",
       "      <th></th>\n",
       "      <th>CUDA cap</th>\n",
       "      <th>CUDA cores</th>\n",
       "      <th>Boost clock (GHz)</th>\n",
       "      <th>Memory size (GB)</th>\n",
       "      <th>Memory bandwidth (GB/s)</th>\n",
       "      <th>SP (GFLOPS)</th>\n",
       "      <th>DP (GFLOPS)</th>\n",
       "      <th>L2 size (MB)</th>\n",
       "    </tr>\n",
       "  </thead>\n",
       "  <tbody>\n",
       "    <tr>\n",
       "      <th>count</th>\n",
       "      <td>3.000000</td>\n",
       "      <td>3.000000</td>\n",
       "      <td>3.000000</td>\n",
       "      <td>3.000000</td>\n",
       "      <td>3.000000</td>\n",
       "      <td>3.000000</td>\n",
       "      <td>3.000000</td>\n",
       "      <td>3.000000</td>\n",
       "    </tr>\n",
       "    <tr>\n",
       "      <th>mean</th>\n",
       "      <td>5.000000</td>\n",
       "      <td>2197.333333</td>\n",
       "      <td>1.143333</td>\n",
       "      <td>9.753333</td>\n",
       "      <td>238.826667</td>\n",
       "      <td>5960.000000</td>\n",
       "      <td>1066.233333</td>\n",
       "      <td>2.009771</td>\n",
       "    </tr>\n",
       "    <tr>\n",
       "      <th>std</th>\n",
       "      <td>1.212436</td>\n",
       "      <td>1056.161604</td>\n",
       "      <td>0.308234</td>\n",
       "      <td>4.071924</td>\n",
       "      <td>98.010459</td>\n",
       "      <td>2872.423367</td>\n",
       "      <td>1599.220986</td>\n",
       "      <td>0.992461</td>\n",
       "    </tr>\n",
       "    <tr>\n",
       "      <th>min</th>\n",
       "      <td>3.700000</td>\n",
       "      <td>1024.000000</td>\n",
       "      <td>0.875000</td>\n",
       "      <td>5.053000</td>\n",
       "      <td>140.000000</td>\n",
       "      <td>3000.000000</td>\n",
       "      <td>94.700000</td>\n",
       "      <td>1.310720</td>\n",
       "    </tr>\n",
       "    <tr>\n",
       "      <th>25%</th>\n",
       "      <td>4.450000</td>\n",
       "      <td>1760.000000</td>\n",
       "      <td>0.975000</td>\n",
       "      <td>8.526500</td>\n",
       "      <td>190.240000</td>\n",
       "      <td>4572.000000</td>\n",
       "      <td>143.350000</td>\n",
       "      <td>1.441792</td>\n",
       "    </tr>\n",
       "    <tr>\n",
       "      <th>50%</th>\n",
       "      <td>5.200000</td>\n",
       "      <td>2496.000000</td>\n",
       "      <td>1.075000</td>\n",
       "      <td>12.000000</td>\n",
       "      <td>240.480000</td>\n",
       "      <td>6144.000000</td>\n",
       "      <td>192.000000</td>\n",
       "      <td>1.572864</td>\n",
       "    </tr>\n",
       "    <tr>\n",
       "      <th>75%</th>\n",
       "      <td>5.650000</td>\n",
       "      <td>2784.000000</td>\n",
       "      <td>1.277500</td>\n",
       "      <td>12.103500</td>\n",
       "      <td>288.240000</td>\n",
       "      <td>7440.000000</td>\n",
       "      <td>1552.000000</td>\n",
       "      <td>2.359296</td>\n",
       "    </tr>\n",
       "    <tr>\n",
       "      <th>max</th>\n",
       "      <td>6.100000</td>\n",
       "      <td>3072.000000</td>\n",
       "      <td>1.480000</td>\n",
       "      <td>12.207000</td>\n",
       "      <td>336.000000</td>\n",
       "      <td>8736.000000</td>\n",
       "      <td>2912.000000</td>\n",
       "      <td>3.145728</td>\n",
       "    </tr>\n",
       "  </tbody>\n",
       "</table>\n",
       "</div>"
      ],
      "text/plain": [
       "       CUDA cap   CUDA cores  Boost clock (GHz)  Memory size (GB)  \\\n",
       "count  3.000000     3.000000           3.000000          3.000000   \n",
       "mean   5.000000  2197.333333           1.143333          9.753333   \n",
       "std    1.212436  1056.161604           0.308234          4.071924   \n",
       "min    3.700000  1024.000000           0.875000          5.053000   \n",
       "25%    4.450000  1760.000000           0.975000          8.526500   \n",
       "50%    5.200000  2496.000000           1.075000         12.000000   \n",
       "75%    5.650000  2784.000000           1.277500         12.103500   \n",
       "max    6.100000  3072.000000           1.480000         12.207000   \n",
       "\n",
       "       Memory bandwidth (GB/s)  SP (GFLOPS)  DP (GFLOPS)  L2 size (MB)  \n",
       "count                 3.000000     3.000000     3.000000      3.000000  \n",
       "mean                238.826667  5960.000000  1066.233333      2.009771  \n",
       "std                  98.010459  2872.423367  1599.220986      0.992461  \n",
       "min                 140.000000  3000.000000    94.700000      1.310720  \n",
       "25%                 190.240000  4572.000000   143.350000      1.441792  \n",
       "50%                 240.480000  6144.000000   192.000000      1.572864  \n",
       "75%                 288.240000  7440.000000  1552.000000      2.359296  \n",
       "max                 336.000000  8736.000000  2912.000000      3.145728  "
      ]
     },
     "execution_count": 19,
     "metadata": {},
     "output_type": "execute_result"
    }
   ],
   "source": [
    "GPU_df.describe()"
   ]
  },
  {
   "cell_type": "code",
   "execution_count": 20,
   "metadata": {},
   "outputs": [
    {
     "data": {
      "text/html": [
       "<div>\n",
       "<style scoped>\n",
       "    .dataframe tbody tr th:only-of-type {\n",
       "        vertical-align: middle;\n",
       "    }\n",
       "\n",
       "    .dataframe tbody tr th {\n",
       "        vertical-align: top;\n",
       "    }\n",
       "\n",
       "    .dataframe thead th {\n",
       "        text-align: right;\n",
       "    }\n",
       "</style>\n",
       "<table border=\"1\" class=\"dataframe\">\n",
       "  <thead>\n",
       "    <tr style=\"text-align: right;\">\n",
       "      <th></th>\n",
       "      <th>batch</th>\n",
       "      <th>time</th>\n",
       "      <th>GPU</th>\n",
       "      <th>CUDA cap</th>\n",
       "      <th>CUDA cores</th>\n",
       "      <th>Boost clock (GHz)</th>\n",
       "      <th>Memory size (GB)</th>\n",
       "      <th>Memory bandwidth (GB/s)</th>\n",
       "      <th>SP (GFLOPS)</th>\n",
       "      <th>DP (GFLOPS)</th>\n",
       "      <th>L2 size (MB)</th>\n",
       "    </tr>\n",
       "  </thead>\n",
       "  <tbody>\n",
       "    <tr>\n",
       "      <th>1761</th>\n",
       "      <td>101.0</td>\n",
       "      <td>174.921</td>\n",
       "      <td>K80</td>\n",
       "      <td>3.7</td>\n",
       "      <td>2496</td>\n",
       "      <td>0.875</td>\n",
       "      <td>12.0</td>\n",
       "      <td>240.48</td>\n",
       "      <td>8736</td>\n",
       "      <td>2912.0</td>\n",
       "      <td>1.572864</td>\n",
       "    </tr>\n",
       "    <tr>\n",
       "      <th>1762</th>\n",
       "      <td>104.0</td>\n",
       "      <td>173.678</td>\n",
       "      <td>K80</td>\n",
       "      <td>3.7</td>\n",
       "      <td>2496</td>\n",
       "      <td>0.875</td>\n",
       "      <td>12.0</td>\n",
       "      <td>240.48</td>\n",
       "      <td>8736</td>\n",
       "      <td>2912.0</td>\n",
       "      <td>1.572864</td>\n",
       "    </tr>\n",
       "    <tr>\n",
       "      <th>1763</th>\n",
       "      <td>105.0</td>\n",
       "      <td>179.941</td>\n",
       "      <td>K80</td>\n",
       "      <td>3.7</td>\n",
       "      <td>2496</td>\n",
       "      <td>0.875</td>\n",
       "      <td>12.0</td>\n",
       "      <td>240.48</td>\n",
       "      <td>8736</td>\n",
       "      <td>2912.0</td>\n",
       "      <td>1.572864</td>\n",
       "    </tr>\n",
       "    <tr>\n",
       "      <th>1764</th>\n",
       "      <td>110.0</td>\n",
       "      <td>181.592</td>\n",
       "      <td>K80</td>\n",
       "      <td>3.7</td>\n",
       "      <td>2496</td>\n",
       "      <td>0.875</td>\n",
       "      <td>12.0</td>\n",
       "      <td>240.48</td>\n",
       "      <td>8736</td>\n",
       "      <td>2912.0</td>\n",
       "      <td>1.572864</td>\n",
       "    </tr>\n",
       "    <tr>\n",
       "      <th>1765</th>\n",
       "      <td>112.0</td>\n",
       "      <td>179.857</td>\n",
       "      <td>K80</td>\n",
       "      <td>3.7</td>\n",
       "      <td>2496</td>\n",
       "      <td>0.875</td>\n",
       "      <td>12.0</td>\n",
       "      <td>240.48</td>\n",
       "      <td>8736</td>\n",
       "      <td>2912.0</td>\n",
       "      <td>1.572864</td>\n",
       "    </tr>\n",
       "  </tbody>\n",
       "</table>\n",
       "</div>"
      ],
      "text/plain": [
       "      batch     time  GPU  CUDA cap  CUDA cores  Boost clock (GHz)  \\\n",
       "1761  101.0  174.921  K80       3.7        2496              0.875   \n",
       "1762  104.0  173.678  K80       3.7        2496              0.875   \n",
       "1763  105.0  179.941  K80       3.7        2496              0.875   \n",
       "1764  110.0  181.592  K80       3.7        2496              0.875   \n",
       "1765  112.0  179.857  K80       3.7        2496              0.875   \n",
       "\n",
       "      Memory size (GB)  Memory bandwidth (GB/s)  SP (GFLOPS)  DP (GFLOPS)  \\\n",
       "1761              12.0                   240.48         8736       2912.0   \n",
       "1762              12.0                   240.48         8736       2912.0   \n",
       "1763              12.0                   240.48         8736       2912.0   \n",
       "1764              12.0                   240.48         8736       2912.0   \n",
       "1765              12.0                   240.48         8736       2912.0   \n",
       "\n",
       "      L2 size (MB)  \n",
       "1761      1.572864  \n",
       "1762      1.572864  \n",
       "1763      1.572864  \n",
       "1764      1.572864  \n",
       "1765      1.572864  "
      ]
     },
     "execution_count": 20,
     "metadata": {},
     "output_type": "execute_result"
    }
   ],
   "source": [
    "# SQL-like join\n",
    "df = pd.merge(mdf,GPU_df,on=\"GPU\")\n",
    "df[df[\"GPU\"]==\"K80\"].head()"
   ]
  },
  {
   "cell_type": "code",
   "execution_count": 26,
   "metadata": {},
   "outputs": [
    {
     "data": {
      "text/plain": [
       "dtype('int64')"
      ]
     },
     "execution_count": 26,
     "metadata": {},
     "output_type": "execute_result"
    }
   ],
   "source": [
    "df[\"CUDA cores\"].dtype"
   ]
  },
  {
   "cell_type": "code",
   "execution_count": 34,
   "metadata": {},
   "outputs": [
    {
     "data": {
      "text/plain": [
       "<matplotlib.axes._subplots.AxesSubplot at 0x10d0642d0>"
      ]
     },
     "execution_count": 34,
     "metadata": {},
     "output_type": "execute_result"
    },
    {
     "data": {
      "image/png": "[encoded data removed]",
      "text/plain": [
       "<matplotlib.figure.Figure at 0x107492590>"
      ]
     },
     "metadata": {},
     "output_type": "display_data"
    }
   ],
   "source": [
    "df.plot(kind=\"scatter\",x=\"batch\",y=\"time\",c=df[\"CUDA cap\"].values,s=df[\"SP (GFLOPS)\"].values/100,grid=True,alpha=0.6,colormap=\"rainbow\")"
   ]
  },
  {
   "cell_type": "markdown",
   "metadata": {},
   "source": [
    "## Prepare samples X and GT Y"
   ]
  },
  {
   "cell_type": "code",
   "execution_count": 35,
   "metadata": {},
   "outputs": [
    {
     "data": {
      "text/plain": [
       "array(['GPU', 'CUDA cap', 'CUDA cores', 'Boost clock (GHz)',\n",
       "       'Memory size (GB)', 'Memory bandwidth (GB/s)', 'SP (GFLOPS)',\n",
       "       'DP (GFLOPS)', 'L2 size (MB)'], dtype=object)"
      ]
     },
     "execution_count": 35,
     "metadata": {},
     "output_type": "execute_result"
    }
   ],
   "source": [
    "GPU_df.columns.values"
   ]
  },
  {
   "cell_type": "code",
   "execution_count": 161,
   "metadata": {},
   "outputs": [
    {
     "data": {
      "text/plain": [
       "array([[  1.00000000e+03,   5.20000000e+00,   3.07200000e+03,\n",
       "          1.07500000e+00,   1.22070000e+01,   3.36000000e+02,\n",
       "          6.14400000e+03,   1.92000000e+02,   3.14572800e+00],\n",
       "       [  1.00100000e+03,   5.20000000e+00,   3.07200000e+03,\n",
       "          1.07500000e+00,   1.22070000e+01,   3.36000000e+02,\n",
       "          6.14400000e+03,   1.92000000e+02,   3.14572800e+00]])"
      ]
     },
     "execution_count": 161,
     "metadata": {},
     "output_type": "execute_result"
    }
   ],
   "source": [
    "features = ['batch', 'CUDA cap', 'CUDA cores', 'Boost clock (GHz)',  'Memory size (GB)', 'Memory bandwidth (GB/s)', 'SP (GFLOPS)',\n",
    "       'DP (GFLOPS)', 'L2 size (MB)']\n",
    "X = df[features].values\n",
    "Y = df[\"time\"].values\n",
    "X.shape\n",
    "X[:2]"
   ]
  },
  {
   "cell_type": "markdown",
   "metadata": {},
   "source": [
    "### Split samples to training and test sets"
   ]
  },
  {
   "cell_type": "code",
   "execution_count": 192,
   "metadata": {},
   "outputs": [
    {
     "name": "stdout",
     "output_type": "stream",
     "text": [
      "(300, 9) x (1727, 9)\n"
     ]
    }
   ],
   "source": [
    "# Create training and test sets.\n",
    "train_size=300\n",
    "X_train, X_test, Y_train, Y_test = train_test_split(\n",
    "    X, Y, train_size=train_size, shuffle = True)\n",
    "\n",
    "print X_train.shape,\"x\",X_test.shape"
   ]
  },
  {
   "cell_type": "code",
   "execution_count": 193,
   "metadata": {},
   "outputs": [
    {
     "data": {
      "image/png": "[encoded data removed]",
      "text/plain": [
       "<matplotlib.figure.Figure at 0x10facdd90>"
      ]
     },
     "metadata": {},
     "output_type": "display_data"
    }
   ],
   "source": [
    "f, axarr = plt.subplots(1,2, sharex=True,figsize=(10,5))\n",
    "sc0 = axarr[0].scatter(x=X_train[:,0],y=Y_train,c=X_train[:,1],s=3,alpha=0.5,cmap=\"rainbow\")\n",
    "sc1 = axarr[1].scatter(x=X_test[:,0],y=Y_test,c=X_test[:,1],s=3,alpha=0.5,cmap=\"rainbow\")\n",
    "axarr[0].set_title(\"training set\")\n",
    "axarr[1].set_title(\"test set\")\n",
    "axarr[0].grid()\n",
    "axarr[1].grid()\n",
    "\n",
    "plt.colorbar(sc1,ax=axarr[1])\n",
    "plt.show()"
   ]
  },
  {
   "cell_type": "markdown",
   "metadata": {},
   "source": [
    "## Construct RF model"
   ]
  },
  {
   "cell_type": "code",
   "execution_count": 194,
   "metadata": {},
   "outputs": [],
   "source": [
    "# Fit Random Forest\n",
    "clf = RandomForestRegressor(n_estimators=100,max_depth = 24,n_jobs=4)\n",
    "clf = clf.fit(X_train,Y_train)"
   ]
  },
  {
   "cell_type": "code",
   "execution_count": 195,
   "metadata": {},
   "outputs": [],
   "source": [
    "H_test = clf.predict(X_test)"
   ]
  },
  {
   "cell_type": "code",
   "execution_count": 196,
   "metadata": {},
   "outputs": [
    {
     "data": {
      "text/plain": [
       "7.5365360352993331"
      ]
     },
     "execution_count": 196,
     "metadata": {},
     "output_type": "execute_result"
    }
   ],
   "source": [
    "mean_squared_error(Y_test, H_test)"
   ]
  },
  {
   "cell_type": "code",
   "execution_count": 197,
   "metadata": {},
   "outputs": [
    {
     "data": {
      "text/plain": [
       "2.8077064032200423"
      ]
     },
     "execution_count": 197,
     "metadata": {},
     "output_type": "execute_result"
    }
   ],
   "source": [
    "H_train = clf.predict(X_train)\n",
    "mean_squared_error(Y_train, H_train)"
   ]
  },
  {
   "cell_type": "code",
   "execution_count": 198,
   "metadata": {},
   "outputs": [
    {
     "data": {
      "image/png": "[encoded data removed]",
      "text/plain": [
       "<matplotlib.figure.Figure at 0x10f77f710>"
      ]
     },
     "metadata": {},
     "output_type": "display_data"
    }
   ],
   "source": [
    "# Plot prediction line\n",
    "def plotPredictions(model,title):\n",
    "    columns=['batch', 'CUDA cap', 'CUDA cores', 'Boost clock (GHz)',  'Memory size (GB)', 'Memory bandwidth (GB/s)', 'SP (GFLOPS)',\n",
    "           'DP (GFLOPS)', 'L2 size (MB)']\n",
    "    df_tmp = pd.DataFrame(columns=columns)                     \n",
    "    x_ = np.arange(10,1100,10)\n",
    "    architectures = df[\"CUDA cap\"].unique()\n",
    "    fig,ax = plt.subplots(3,1,sharex=True,figsize=(10,9))\n",
    "    ax[0].set_title(title)\n",
    "    for i in range(len(architectures)):\n",
    "        CUDA_cap = architectures[i]\n",
    "        GPU = df[df[\"CUDA cap\"]==CUDA_cap][\"GPU\"].iloc[0]\n",
    "        add = df[df[\"CUDA cap\"]==CUDA_cap][columns[1:]].iloc[0].values\n",
    "        for j in range(len(x_)):\n",
    "            df_tmp.loc[j] = np.insert(add,0,x_[j])\n",
    "\n",
    "        y_ = model.predict(df_tmp)\n",
    "        \n",
    "        ax[i].plot(x_,y_,c=\"r\",label=\"prediction \"+GPU)\n",
    "        ax[i].scatter(df[df[\"CUDA cap\"]==CUDA_cap][\"batch\"].values,\n",
    "                   df[df[\"CUDA cap\"]==CUDA_cap][\"time\"].values,s=1,alpha=.5,label=\"GT \"+GPU)\n",
    "\n",
    "\n",
    "        ax[i].set_ylabel(\"time (s)\")\n",
    "        ax[i].grid(ls=\":\",alpha=0.3)\n",
    "        ax[i].legend()\n",
    "    ax[-1].set_xlabel(\"batch size\")\n",
    "    fig.show()\n",
    "\n",
    "plotPredictions(clf,\"Random Forest, 100 estimators, \"+str(train_size)+\" training samples\")"
   ]
  },
  {
   "cell_type": "markdown",
   "metadata": {},
   "source": [
    "### Variable Importance"
   ]
  },
  {
   "cell_type": "code",
   "execution_count": 162,
   "metadata": {},
   "outputs": [
    {
     "data": {
      "image/png": "[encoded data removed]",
      "text/plain": [
       "<matplotlib.figure.Figure at 0x10f3d7490>"
      ]
     },
     "metadata": {},
     "output_type": "display_data"
    }
   ],
   "source": [
    "importance = clf.feature_importances_\n",
    "# zip(features,importance)\n",
    "fig,ax = plt.subplots()\n",
    "ax.bar(features,importance)\n",
    "#ax.set_xticklabels(features,rotation=60)\n",
    "plt.xticks(rotation=90)\n",
    "plt.show()"
   ]
  },
  {
   "cell_type": "markdown",
   "metadata": {},
   "source": [
    "## Partial Dependance Plots"
   ]
  },
  {
   "cell_type": "code",
   "execution_count": 163,
   "metadata": {},
   "outputs": [
    {
     "data": {
      "text/plain": [
       "GradientBoostingRegressor(alpha=0.9, criterion='friedman_mse', init=None,\n",
       "             learning_rate=0.1, loss='huber', max_depth=4,\n",
       "             max_features=None, max_leaf_nodes=None,\n",
       "             min_impurity_decrease=0.0, min_impurity_split=None,\n",
       "             min_samples_leaf=1, min_samples_split=2,\n",
       "             min_weight_fraction_leaf=0.0, n_estimators=100,\n",
       "             presort='auto', random_state=1, subsample=1.0, verbose=0,\n",
       "             warm_start=False)"
      ]
     },
     "execution_count": 163,
     "metadata": {},
     "output_type": "execute_result"
    }
   ],
   "source": [
    "gbr = GradientBoostingRegressor(n_estimators=100, max_depth=4,\n",
    "                                    learning_rate=0.1, loss='huber',\n",
    "                                    random_state=1)\n",
    "gbr.fit(X_train, Y_train)"
   ]
  },
  {
   "cell_type": "code",
   "execution_count": 164,
   "metadata": {},
   "outputs": [
    {
     "data": {
      "image/png": "[encoded data removed]",
      "text/plain": [
       "<matplotlib.figure.Figure at 0x1103fd590>"
      ]
     },
     "metadata": {},
     "output_type": "display_data"
    }
   ],
   "source": [
    "names = ['batch', 'CUDA cap', 'CUDA cores', 'Boost clock (GHz)',  'Memory size (GB)', 'Memory bandwidth (GB/s)', 'SP (GFLOPS)',\n",
    "       'DP (GFLOPS)', 'L2 size (MB)']\n",
    "features = [0, 1, 3,6,7, 8,(6,7)]\n",
    "fig, axs = plot_partial_dependence(gbr, X_train, features,\n",
    "                                   feature_names=names,\n",
    "                                   n_jobs=3, grid_resolution=50,figsize=(10,10))\n",
    "#plt.subplots_adjust(top=1)  # tight_layout causes overlap with suptitle\n",
    "for ax in axs:\n",
    "    ax.grid(ls=\":\",alpha=0.3)\n",
    "fig.show()"
   ]
  },
  {
   "cell_type": "code",
   "execution_count": 166,
   "metadata": {
    "scrolled": true
   },
   "outputs": [
    {
     "name": "stdout",
     "output_type": "stream",
     "text": [
      "[5, 20, 35, 50, 100]\n",
      "5\n",
      "20\n",
      "35\n",
      "50\n",
      "100\n"
     ]
    }
   ],
   "source": [
    "# Collect MSE for various train samples numbers\n",
    "MSE_df = pd.DataFrame(columns=[\"train_samples\",\"test_samples\",\"estimators\",\"MSE\"])\n",
    "test_samples = 1000\n",
    "# Fit Random Forest\n",
    "n_estimators=50\n",
    "reruns = 10\n",
    "ind = 0 # DataFrame row numebr (index)\n",
    "est = range(5,51,15)\n",
    "est.append(100)\n",
    "print est\n",
    "for n_estimators in est:\n",
    "    clf = RandomForestRegressor(n_estimators=n_estimators)\n",
    "    print n_estimators\n",
    "    for train_samples in range(100,1001,100):\n",
    "        mse = 0\n",
    "        for i in range(0,reruns):\n",
    "            X_train, X_test, Y_train, Y_test = train_test_split(\n",
    "            X, Y, train_size=train_samples, shuffle = True)\n",
    "            X_test = X_test[:test_samples]\n",
    "            Y_test = Y_test[:test_samples]\n",
    "            clf = RandomForestRegressor(n_estimators=50)\n",
    "            clf = clf.fit(X_train,Y_train)\n",
    "            H_test = clf.predict(X_test)\n",
    "            mse += mean_squared_error(Y_test, H_test)\n",
    "        mse = mse/reruns\n",
    "        #print Y_train.shape,\"x\",Y_test.shape,\" \",\n",
    "        MSE_df.loc[ind] = [train_samples,test_samples,n_estimators,mse]\n",
    "        ind += 1"
   ]
  },
  {
   "cell_type": "code",
   "execution_count": 167,
   "metadata": {},
   "outputs": [
    {
     "data": {
      "text/html": [
       "<div>\n",
       "<style scoped>\n",
       "    .dataframe tbody tr th:only-of-type {\n",
       "        vertical-align: middle;\n",
       "    }\n",
       "\n",
       "    .dataframe tbody tr th {\n",
       "        vertical-align: top;\n",
       "    }\n",
       "\n",
       "    .dataframe thead th {\n",
       "        text-align: right;\n",
       "    }\n",
       "</style>\n",
       "<table border=\"1\" class=\"dataframe\">\n",
       "  <thead>\n",
       "    <tr style=\"text-align: right;\">\n",
       "      <th>estimators</th>\n",
       "      <th>5.0</th>\n",
       "      <th>20.0</th>\n",
       "      <th>35.0</th>\n",
       "      <th>50.0</th>\n",
       "      <th>100.0</th>\n",
       "    </tr>\n",
       "    <tr>\n",
       "      <th>train_samples</th>\n",
       "      <th></th>\n",
       "      <th></th>\n",
       "      <th></th>\n",
       "      <th></th>\n",
       "      <th></th>\n",
       "    </tr>\n",
       "  </thead>\n",
       "  <tbody>\n",
       "    <tr>\n",
       "      <th>100.0</th>\n",
       "      <td>47.476280</td>\n",
       "      <td>58.758663</td>\n",
       "      <td>47.286771</td>\n",
       "      <td>42.723123</td>\n",
       "      <td>46.488876</td>\n",
       "    </tr>\n",
       "    <tr>\n",
       "      <th>200.0</th>\n",
       "      <td>31.116544</td>\n",
       "      <td>25.466713</td>\n",
       "      <td>30.794890</td>\n",
       "      <td>33.921159</td>\n",
       "      <td>18.528005</td>\n",
       "    </tr>\n",
       "    <tr>\n",
       "      <th>300.0</th>\n",
       "      <td>18.846809</td>\n",
       "      <td>10.446571</td>\n",
       "      <td>12.113359</td>\n",
       "      <td>27.722237</td>\n",
       "      <td>13.302146</td>\n",
       "    </tr>\n",
       "    <tr>\n",
       "      <th>400.0</th>\n",
       "      <td>19.189720</td>\n",
       "      <td>15.815413</td>\n",
       "      <td>22.090419</td>\n",
       "      <td>5.952001</td>\n",
       "      <td>18.806950</td>\n",
       "    </tr>\n",
       "    <tr>\n",
       "      <th>500.0</th>\n",
       "      <td>11.469445</td>\n",
       "      <td>17.918373</td>\n",
       "      <td>9.501329</td>\n",
       "      <td>8.246306</td>\n",
       "      <td>10.053419</td>\n",
       "    </tr>\n",
       "  </tbody>\n",
       "</table>\n",
       "</div>"
      ],
      "text/plain": [
       "estimators         5.0        20.0       35.0       50.0       100.0\n",
       "train_samples                                                       \n",
       "100.0          47.476280  58.758663  47.286771  42.723123  46.488876\n",
       "200.0          31.116544  25.466713  30.794890  33.921159  18.528005\n",
       "300.0          18.846809  10.446571  12.113359  27.722237  13.302146\n",
       "400.0          19.189720  15.815413  22.090419   5.952001  18.806950\n",
       "500.0          11.469445  17.918373   9.501329   8.246306  10.053419"
      ]
     },
     "execution_count": 167,
     "metadata": {},
     "output_type": "execute_result"
    }
   ],
   "source": [
    "MSE = MSE_df.set_index(\"train_samples\")\n",
    "MSE.drop([\"test_samples\"],axis=1,inplace=True)\n",
    "MSE=MSE.pivot_table(index=\"train_samples\",columns=\"estimators\",values=\"MSE\")\n",
    "MSE.head()"
   ]
  },
  {
   "cell_type": "code",
   "execution_count": 168,
   "metadata": {},
   "outputs": [
    {
     "data": {
      "image/png": "[encoded data removed]",
      "text/plain": [
       "<matplotlib.figure.Figure at 0x10eef0490>"
      ]
     },
     "metadata": {},
     "output_type": "display_data"
    }
   ],
   "source": [
    "fig,ax = plt.subplots(figsize=(10,5))\n",
    "MSE.plot(ax=ax,title=\"MSE\")\n",
    "ax.grid(ls=\":\",alpha=0.3)"
   ]
  },
  {
   "cell_type": "code",
   "execution_count": 157,
   "metadata": {},
   "outputs": [
    {
     "name": "stdout",
     "output_type": "stream",
     "text": [
      "5\n",
      "20\n",
      "35\n",
      "50\n"
     ]
    }
   ],
   "source": [
    "# Collect MSE for various train samples numbers\n",
    "MSE_df = pd.DataFrame(columns=[\"train_samples\",\"test_samples\",\"estimators\",\"MSE\"])\n",
    "test_samples = 1000\n",
    "# Fit Random Forest\n",
    "n_estimators=50\n",
    "reruns = 10\n",
    "ind = 0 # DataFrame row numebr (index)\n",
    "for n_estimators in range(5,51,15):\n",
    "    clf = RandomForestRegressor(n_estimators=n_estimators,bootstrap=True)\n",
    "    print n_estimators\n",
    "    for train_samples in range(100,1001,100):\n",
    "        mse = 0\n",
    "        for i in range(0,reruns):\n",
    "            X_train, X_test, Y_train, Y_test = train_test_split(\n",
    "            X, Y, train_size=train_samples, shuffle = True)\n",
    "            X_test = X_test[:test_samples]\n",
    "            Y_test = Y_test[:test_samples]\n",
    "            clf = RandomForestRegressor(n_estimators=50)\n",
    "            clf = clf.fit(X_train,Y_train)\n",
    "            H_test = clf.predict(X_test)\n",
    "            mse += mean_squared_error(Y_test, H_test)\n",
    "        mse = mse/reruns\n",
    "        #print Y_train.shape,\"x\",Y_test.shape,\" \",\n",
    "        MSE_df.loc[ind] = [train_samples,test_samples,n_estimators,mse]\n",
    "        ind += 1"
   ]
  },
  {
   "cell_type": "code",
   "execution_count": 158,
   "metadata": {},
   "outputs": [
    {
     "data": {
      "text/html": [
       "<div>\n",
       "<style scoped>\n",
       "    .dataframe tbody tr th:only-of-type {\n",
       "        vertical-align: middle;\n",
       "    }\n",
       "\n",
       "    .dataframe tbody tr th {\n",
       "        vertical-align: top;\n",
       "    }\n",
       "\n",
       "    .dataframe thead th {\n",
       "        text-align: right;\n",
       "    }\n",
       "</style>\n",
       "<table border=\"1\" class=\"dataframe\">\n",
       "  <thead>\n",
       "    <tr style=\"text-align: right;\">\n",
       "      <th>estimators</th>\n",
       "      <th>5.0</th>\n",
       "      <th>20.0</th>\n",
       "      <th>35.0</th>\n",
       "      <th>50.0</th>\n",
       "    </tr>\n",
       "    <tr>\n",
       "      <th>train_samples</th>\n",
       "      <th></th>\n",
       "      <th></th>\n",
       "      <th></th>\n",
       "      <th></th>\n",
       "    </tr>\n",
       "  </thead>\n",
       "  <tbody>\n",
       "    <tr>\n",
       "      <th>100.0</th>\n",
       "      <td>44.039166</td>\n",
       "      <td>42.416916</td>\n",
       "      <td>33.276135</td>\n",
       "      <td>43.063274</td>\n",
       "    </tr>\n",
       "    <tr>\n",
       "      <th>200.0</th>\n",
       "      <td>29.842583</td>\n",
       "      <td>42.197803</td>\n",
       "      <td>35.780328</td>\n",
       "      <td>21.414986</td>\n",
       "    </tr>\n",
       "    <tr>\n",
       "      <th>300.0</th>\n",
       "      <td>20.838056</td>\n",
       "      <td>21.219781</td>\n",
       "      <td>22.965868</td>\n",
       "      <td>29.126416</td>\n",
       "    </tr>\n",
       "    <tr>\n",
       "      <th>400.0</th>\n",
       "      <td>13.853690</td>\n",
       "      <td>17.705707</td>\n",
       "      <td>11.463273</td>\n",
       "      <td>8.164063</td>\n",
       "    </tr>\n",
       "    <tr>\n",
       "      <th>500.0</th>\n",
       "      <td>7.487123</td>\n",
       "      <td>13.005626</td>\n",
       "      <td>6.921603</td>\n",
       "      <td>15.062172</td>\n",
       "    </tr>\n",
       "  </tbody>\n",
       "</table>\n",
       "</div>"
      ],
      "text/plain": [
       "estimators          5.0        20.0       35.0       50.0\n",
       "train_samples                                            \n",
       "100.0          44.039166  42.416916  33.276135  43.063274\n",
       "200.0          29.842583  42.197803  35.780328  21.414986\n",
       "300.0          20.838056  21.219781  22.965868  29.126416\n",
       "400.0          13.853690  17.705707  11.463273   8.164063\n",
       "500.0           7.487123  13.005626   6.921603  15.062172"
      ]
     },
     "execution_count": 158,
     "metadata": {},
     "output_type": "execute_result"
    }
   ],
   "source": [
    "MSE = MSE_df.set_index(\"train_samples\")\n",
    "MSE.drop([\"test_samples\"],axis=1,inplace=True)\n",
    "MSE=MSE.pivot_table(index=\"train_samples\",columns=\"estimators\",values=\"MSE\")\n",
    "MSE.head()"
   ]
  },
  {
   "cell_type": "code",
   "execution_count": 159,
   "metadata": {},
   "outputs": [
    {
     "data": {
      "image/png": "[encoded data removed]",
      "text/plain": [
       "<matplotlib.figure.Figure at 0x10ca76050>"
      ]
     },
     "metadata": {},
     "output_type": "display_data"
    }
   ],
   "source": [
    "fig,ax = plt.subplots(figsize=(10,5))\n",
    "MSE.plot(ax=ax,title=\"MSE\")\n",
    "ax.grid(ls=\":\",alpha=0.3)"
   ]
  },
  {
   "cell_type": "code",
   "execution_count": 55,
   "metadata": {},
   "outputs": [
    {
     "data": {
      "text/plain": [
       "array([ 0.06482094,  0.02033153,  0.01439701,  0.87049122,  0.0146567 ,\n",
       "        0.01530261])"
      ]
     },
     "execution_count": 55,
     "metadata": {},
     "output_type": "execute_result"
    }
   ],
   "source": [
    "# \"batch\",\"Mem (GB)\",\"Mband (GB/s)\", \"CUDA Cap\", \"CUDA cores\", \"L2 size(MB)\"\n",
    "clf.feature_importances_"
   ]
  },
  {
   "cell_type": "code",
   "execution_count": null,
   "metadata": {},
   "outputs": [],
   "source": []
  },
  {
   "cell_type": "code",
   "execution_count": 64,
   "metadata": {},
   "outputs": [
    {
     "data": {
      "text/html": [
       "<div>\n",
       "<style scoped>\n",
       "    .dataframe tbody tr th:only-of-type {\n",
       "        vertical-align: middle;\n",
       "    }\n",
       "\n",
       "    .dataframe tbody tr th {\n",
       "        vertical-align: top;\n",
       "    }\n",
       "\n",
       "    .dataframe thead th {\n",
       "        text-align: right;\n",
       "    }\n",
       "</style>\n",
       "<table border=\"1\" class=\"dataframe\">\n",
       "  <thead>\n",
       "    <tr style=\"text-align: right;\">\n",
       "      <th></th>\n",
       "      <th>batch</th>\n",
       "      <th>time</th>\n",
       "      <th>GPU</th>\n",
       "      <th>CUDA ver</th>\n",
       "      <th>CUDA Cap</th>\n",
       "      <th>CUDA cores</th>\n",
       "      <th>L2 size(MB)</th>\n",
       "      <th>SP (GFLOPS)</th>\n",
       "      <th>DP (GFLOPS)</th>\n",
       "      <th>Mem (GB)</th>\n",
       "      <th>Mband (GB/s)</th>\n",
       "    </tr>\n",
       "  </thead>\n",
       "  <tbody>\n",
       "    <tr>\n",
       "      <th>325</th>\n",
       "      <td>400.0</td>\n",
       "      <td>26.9757</td>\n",
       "      <td>GTX TITAN X</td>\n",
       "      <td>9.0</td>\n",
       "      <td>5.2</td>\n",
       "      <td>3072</td>\n",
       "      <td>3.145728</td>\n",
       "      <td>6144</td>\n",
       "      <td>192.0</td>\n",
       "      <td>12.288</td>\n",
       "      <td>336</td>\n",
       "    </tr>\n",
       "    <tr>\n",
       "      <th>1247</th>\n",
       "      <td>400.0</td>\n",
       "      <td>49.2610</td>\n",
       "      <td>QuadroP2000</td>\n",
       "      <td>9.0</td>\n",
       "      <td>6.1</td>\n",
       "      <td>1024</td>\n",
       "      <td>1.310720</td>\n",
       "      <td>3000</td>\n",
       "      <td>94.7</td>\n",
       "      <td>5.000</td>\n",
       "      <td>140</td>\n",
       "    </tr>\n",
       "  </tbody>\n",
       "</table>\n",
       "</div>"
      ],
      "text/plain": [
       "      batch     time          GPU  CUDA ver  CUDA Cap  CUDA cores  \\\n",
       "325   400.0  26.9757  GTX TITAN X       9.0       5.2        3072   \n",
       "1247  400.0  49.2610  QuadroP2000       9.0       6.1        1024   \n",
       "\n",
       "      L2 size(MB)  SP (GFLOPS)  DP (GFLOPS)  Mem (GB)  Mband (GB/s)  \n",
       "325      3.145728         6144        192.0    12.288           336  \n",
       "1247     1.310720         3000         94.7     5.000           140  "
      ]
     },
     "execution_count": 64,
     "metadata": {},
     "output_type": "execute_result"
    }
   ],
   "source": [
    "df[df[\"batch\"] == 400]"
   ]
  },
  {
   "cell_type": "code",
   "execution_count": 72,
   "metadata": {},
   "outputs": [
    {
     "data": {
      "text/html": [
       "<div>\n",
       "<style scoped>\n",
       "    .dataframe tbody tr th:only-of-type {\n",
       "        vertical-align: middle;\n",
       "    }\n",
       "\n",
       "    .dataframe tbody tr th {\n",
       "        vertical-align: top;\n",
       "    }\n",
       "\n",
       "    .dataframe thead th {\n",
       "        text-align: right;\n",
       "    }\n",
       "</style>\n",
       "<table border=\"1\" class=\"dataframe\">\n",
       "  <thead>\n",
       "    <tr style=\"text-align: right;\">\n",
       "      <th></th>\n",
       "      <th>batch</th>\n",
       "      <th>SP (GFLOPS)</th>\n",
       "      <th>Mem (GB)</th>\n",
       "      <th>Mband (GB/s)</th>\n",
       "      <th>CUDA Cap</th>\n",
       "      <th>CUDA cores</th>\n",
       "      <th>L2 size(MB)</th>\n",
       "      <th>time</th>\n",
       "    </tr>\n",
       "  </thead>\n",
       "  <tbody>\n",
       "    <tr>\n",
       "      <th>325</th>\n",
       "      <td>400.0</td>\n",
       "      <td>6144</td>\n",
       "      <td>12.288</td>\n",
       "      <td>336</td>\n",
       "      <td>5.2</td>\n",
       "      <td>3072</td>\n",
       "      <td>3.145728</td>\n",
       "      <td>26.9757</td>\n",
       "    </tr>\n",
       "    <tr>\n",
       "      <th>1247</th>\n",
       "      <td>400.0</td>\n",
       "      <td>3000</td>\n",
       "      <td>5.000</td>\n",
       "      <td>140</td>\n",
       "      <td>6.1</td>\n",
       "      <td>1024</td>\n",
       "      <td>1.310720</td>\n",
       "      <td>49.2610</td>\n",
       "    </tr>\n",
       "  </tbody>\n",
       "</table>\n",
       "</div>"
      ],
      "text/plain": [
       "      batch  SP (GFLOPS)  Mem (GB)  Mband (GB/s)  CUDA Cap  CUDA cores  \\\n",
       "325   400.0         6144    12.288           336       5.2        3072   \n",
       "1247  400.0         3000     5.000           140       6.1        1024   \n",
       "\n",
       "      L2 size(MB)     time  \n",
       "325      3.145728  26.9757  \n",
       "1247     1.310720  49.2610  "
      ]
     },
     "execution_count": 72,
     "metadata": {},
     "output_type": "execute_result"
    }
   ],
   "source": [
    "df.loc[df[\"batch\"] == 400][[\"batch\",\"SP (GFLOPS)\",\"Mem (GB)\",\"Mband (GB/s)\", \"CUDA Cap\", \"CUDA cores\", \"L2 size(MB)\",\"time\"]]"
   ]
  },
  {
   "cell_type": "code",
   "execution_count": 73,
   "metadata": {},
   "outputs": [
    {
     "name": "stdout",
     "output_type": "stream",
     "text": [
      "[[  4.00000000e+02   6.14400000e+03   1.22880000e+01   3.36000000e+02\n",
      "    5.20000000e+00   3.07200000e+03   3.14572800e+00]\n",
      " [  4.00000000e+02   3.00000000e+03   5.00000000e+00   1.40000000e+02\n",
      "    6.10000000e+00   1.02400000e+03   1.31072000e+00]]\n"
     ]
    }
   ],
   "source": [
    "test = df.loc[df[\"batch\"] == 400][[\"batch\",\"SP (GFLOPS)\",\"Mem (GB)\",\"Mband (GB/s)\", \"CUDA Cap\", \"CUDA cores\", \"L2 size(MB)\"]].values\n",
    "print test"
   ]
  },
  {
   "cell_type": "code",
   "execution_count": 74,
   "metadata": {},
   "outputs": [
    {
     "data": {
      "text/plain": [
       "array([ 25.69467,  48.98424])"
      ]
     },
     "execution_count": 74,
     "metadata": {},
     "output_type": "execute_result"
    }
   ],
   "source": [
    "clf.predict(test)"
   ]
  },
  {
   "cell_type": "code",
   "execution_count": 89,
   "metadata": {},
   "outputs": [
    {
     "data": {
      "text/plain": [
       "array([ 25.69467])"
      ]
     },
     "execution_count": 89,
     "metadata": {},
     "output_type": "execute_result"
    }
   ],
   "source": [
    "clf.predict([[400.,6144,12.288,336,5.2,3072,3.145728]])"
   ]
  },
  {
   "cell_type": "code",
   "execution_count": 125,
   "metadata": {},
   "outputs": [
    {
     "data": {
      "text/plain": [
       "array([ 40.354854])"
      ]
     },
     "execution_count": 125,
     "metadata": {},
     "output_type": "execute_result"
    }
   ],
   "source": [
    "clf.predict([[400.,6000,5,140]]) # Несуществующее устройство :)"
   ]
  },
  {
   "cell_type": "code",
   "execution_count": null,
   "metadata": {},
   "outputs": [],
   "source": []
  }
 ],
 "metadata": {
  "kernelspec": {
   "display_name": "Python 2",
   "language": "python",
   "name": "python2"
  },
  "language_info": {
   "codemirror_mode": {
    "name": "ipython",
    "version": 2
   },
   "file_extension": ".py",
   "mimetype": "text/x-python",
   "name": "python",
   "nbconvert_exporter": "python",
   "pygments_lexer": "ipython2",
   "version": "2.7.11"
  },
  "toc": {
   "base_numbering": 1,
   "nav_menu": {},
   "number_sections": true,
   "sideBar": true,
   "skip_h1_title": true,
   "title_cell": "Table of Contents",
   "title_sidebar": "Contents",
   "toc_cell": false,
   "toc_position": {},
   "toc_section_display": true,
   "toc_window_display": true
  }
 },
 "nbformat": 4,
 "nbformat_minor": 2
}

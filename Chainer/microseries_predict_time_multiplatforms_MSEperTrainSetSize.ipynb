{
 "cells": [
  {
   "cell_type": "markdown",
   "metadata": {},
   "source": [
    "# MSE as a function of Training set size\n",
    "## predicting time from minibatch size and GPU parameters"
   ]
  },
  {
   "cell_type": "code",
   "execution_count": 3,
   "metadata": {},
   "outputs": [],
   "source": [
    "%matplotlib inline\n",
    "import re\n",
    "import numpy as np\n",
    "import matplotlib\n",
    "import matplotlib.pyplot as plt\n",
    "from matplotlib import cm\n",
    "import pandas as pd\n",
    "import subprocess, os\n",
    "from sklearn.ensemble import RandomForestRegressor\n",
    "from sklearn.metrics import mean_squared_error\n",
    "from sklearn.model_selection import train_test_split"
   ]
  },
  {
   "cell_type": "code",
   "execution_count": 4,
   "metadata": {},
   "outputs": [],
   "source": [
    "batch_learn_pattern = re.compile(r\"^b\\s*(\\d+)\\s+l\\s*([0-9\\.]+)\")\n",
    "output_pattern = re.compile(r\"^(\\d+)\\s+([0-9\\.]+)\\s+([0-9\\.]+)\\s+([0-9\\.]+)\\s+([0-9\\.]+)\\s+([0-9\\.]+)\")\n",
    "remove_str=\"\u001b[J\"\n",
    "\n",
    "\n",
    "# Read minibatch size and 1st epoch time from files.\n",
    "# Store in a DataFrame.\n",
    "def fileToDF(logfile, debug=False):\n",
    "    global batch_learn_pattern\n",
    "    global output_pattern\n",
    "    global remove_str\n",
    "    logfile = logfile.strip(\" \\n\")\n",
    "    with open(logfile,\"r\") as f:\n",
    "        lines = f.readlines()\n",
    "        batch = 0\n",
    "        time = 0\n",
    "        epoch = 0\n",
    "        ind = 0 # DataFrame row numebr (index)\n",
    "        df = pd.DataFrame(data=None,columns=[\"batch\",\"learn\",\"epoch\",\"time\"])\n",
    "        for line in lines:\n",
    "            s = line.strip(' \\n')\n",
    "            s = s.replace(remove_str,\"\")\n",
    "            m = batch_learn_pattern.match(s)\n",
    "            if m:\n",
    "                batch = int(m.group(1))\n",
    "                learn = float(m.group(2))\n",
    "                if debug: print logfile,\": b\",batch,\" l\",learn\n",
    "            else:\n",
    "                m2 = output_pattern.match(s)\n",
    "                if m2:\n",
    "                    epoch = int(m2.group(1))\n",
    "                    time = float(m2.group(6))\n",
    "                    if debug: print batch,learn,epoch,time\n",
    "                    df.loc[ind] = [batch,learn,epoch,time]\n",
    "                    ind += 1\n",
    "                    \n",
    "    return df"
   ]
  },
  {
   "cell_type": "code",
   "execution_count": 5,
   "metadata": {},
   "outputs": [],
   "source": [
    "filename_pattern=re.compile(r\"cifar_.*\\.log\")\n",
    "\n",
    "def readLogs(logdir, debug=False):\n",
    "    global filename_pattern\n",
    "    list_command = \"ls -1 \"+logdir\n",
    "    if debug: print \"Looking in\",logdir\n",
    "    files=[]\n",
    "    proc = subprocess.Popen(list_command.split(\" \"),\n",
    "                         stdout=subprocess.PIPE,stderr=subprocess.STDOUT)\n",
    "    for line in iter(proc.stdout.readline,b''):\n",
    "        line = line.strip(\" \\n\")\n",
    "        m = filename_pattern.match(line)\n",
    "        if m:\n",
    "            files.append(os.path.abspath(os.path.join(logdir,line)))\n",
    "            \n",
    "    if debug: print len(files),\"files\"\n",
    "    df = pd.DataFrame(data=None,columns=[\"batch\",\"learn\",\"epoch\",\"time\"])\n",
    "\n",
    "    for file in files:\n",
    "        df1 = fileToDF(file,debug)\n",
    "        if len(df1) > 0:\n",
    "            df = pd.concat([df,df1],ignore_index=True)\n",
    "    return df"
   ]
  },
  {
   "cell_type": "code",
   "execution_count": 6,
   "metadata": {},
   "outputs": [
    {
     "name": "stdout",
     "output_type": "stream",
     "text": [
      "\u001b[1m\u001b[36mGTX_TITAN_X\u001b[m\u001b[m \u001b[1m\u001b[36mK80\u001b[m\u001b[m         \u001b[1m\u001b[36mQuadroP2000\u001b[m\u001b[m\r\n"
     ]
    }
   ],
   "source": [
    "!ls logs/microseries/"
   ]
  },
  {
   "cell_type": "code",
   "execution_count": 8,
   "metadata": {},
   "outputs": [
    {
     "data": {
      "text/html": [
       "<div>\n",
       "<style scoped>\n",
       "    .dataframe tbody tr th:only-of-type {\n",
       "        vertical-align: middle;\n",
       "    }\n",
       "\n",
       "    .dataframe tbody tr th {\n",
       "        vertical-align: top;\n",
       "    }\n",
       "\n",
       "    .dataframe thead th {\n",
       "        text-align: right;\n",
       "    }\n",
       "</style>\n",
       "<table border=\"1\" class=\"dataframe\">\n",
       "  <thead>\n",
       "    <tr style=\"text-align: right;\">\n",
       "      <th></th>\n",
       "      <th>batch</th>\n",
       "      <th>learn</th>\n",
       "      <th>epoch</th>\n",
       "      <th>time</th>\n",
       "    </tr>\n",
       "  </thead>\n",
       "  <tbody>\n",
       "    <tr>\n",
       "      <th>0</th>\n",
       "      <td>101.0</td>\n",
       "      <td>0.15</td>\n",
       "      <td>1.0</td>\n",
       "      <td>90.3823</td>\n",
       "    </tr>\n",
       "    <tr>\n",
       "      <th>1</th>\n",
       "      <td>101.0</td>\n",
       "      <td>0.15</td>\n",
       "      <td>1.0</td>\n",
       "      <td>90.4984</td>\n",
       "    </tr>\n",
       "    <tr>\n",
       "      <th>2</th>\n",
       "      <td>102.0</td>\n",
       "      <td>0.15</td>\n",
       "      <td>1.0</td>\n",
       "      <td>90.1218</td>\n",
       "    </tr>\n",
       "    <tr>\n",
       "      <th>3</th>\n",
       "      <td>103.0</td>\n",
       "      <td>0.15</td>\n",
       "      <td>1.0</td>\n",
       "      <td>90.1364</td>\n",
       "    </tr>\n",
       "    <tr>\n",
       "      <th>4</th>\n",
       "      <td>104.0</td>\n",
       "      <td>0.15</td>\n",
       "      <td>1.0</td>\n",
       "      <td>90.1099</td>\n",
       "    </tr>\n",
       "  </tbody>\n",
       "</table>\n",
       "</div>"
      ],
      "text/plain": [
       "   batch  learn  epoch     time\n",
       "0  101.0   0.15    1.0  90.3823\n",
       "1  101.0   0.15    1.0  90.4984\n",
       "2  102.0   0.15    1.0  90.1218\n",
       "3  103.0   0.15    1.0  90.1364\n",
       "4  104.0   0.15    1.0  90.1099"
      ]
     },
     "execution_count": 8,
     "metadata": {},
     "output_type": "execute_result"
    }
   ],
   "source": [
    "df_mouse=readLogs(\"logs/microseries/QuadroP2000\")\n",
    "df_DLsrv=readLogs(\"logs/microseries/GTX_TITAN_X\")\n",
    "df_mouse.head()"
   ]
  },
  {
   "cell_type": "code",
   "execution_count": 9,
   "metadata": {},
   "outputs": [],
   "source": [
    "def readLogsK80(logdir, debug=False):\n",
    "    global filename_pattern    \n",
    "    \n",
    "    list_command = \"ls -1 \"+logdir\n",
    "    files=[]\n",
    "    proc = subprocess.Popen(list_command.split(\" \"),\n",
    "                         stdout=subprocess.PIPE,stderr=subprocess.STDOUT)\n",
    "    if debug: maxfiles = 5\n",
    "    else: maxfiles = 100000000\n",
    "    for line in iter(proc.stdout.readline,b''):\n",
    "        line = line.strip(\" \\n\")\n",
    "        m = filename_pattern.match(line)\n",
    "        if m:\n",
    "            files.append(os.path.abspath(os.path.join(logdir,line)))\n",
    "            \n",
    "    #if debug: print \"files:\",files\n",
    "    df = pd.DataFrame(data=None,columns=[\"batch\",\"learn\",\"epoch\",\"time\"])\n",
    "\n",
    "    filecounter=0\n",
    "    for file in files:\n",
    "        if debug: print file\n",
    "        df1 = fileToDF_K80(file,debug)\n",
    "        if len(df1) > 0:\n",
    "            df = pd.concat([df,df1],ignore_index=True)\n",
    "        filecounter +=1\n",
    "        if filecounter>=maxfiles:\n",
    "            return df\n",
    "    return df\n",
    "\n",
    "# Read minibatch size and 1st epoch time from files.\n",
    "# Store in a DataFrame.\n",
    "def fileToDF_K80(logfile, debug=False):\n",
    "    batch_learn_pattern = \"_b(\\d+)_l([0-9\\.]+)\"\n",
    "    global output_pattern\n",
    "    remove_str = [\"\u001b[4A\",\"\u001b[J\"]\n",
    "    logfile = logfile.strip(\" \\n\")\n",
    "    filename = os.path.basename(logfile)\n",
    "    if debug: print \"FILE\",filename\n",
    "    batch = 0\n",
    "    learn = 0\n",
    "    m = re.search(batch_learn_pattern, filename)\n",
    "    if m:\n",
    "        batch = int(m.group(1))\n",
    "        learn = float(m.group(2))\n",
    "        if debug: print \"BS,LR:\",batch,learn\n",
    "\n",
    "    with open(logfile,\"r\") as f:\n",
    "        lines = f.readlines()\n",
    "        time = 0\n",
    "        epoch = 0\n",
    "        ind = 0 # DataFrame row numebr (index)\n",
    "        df = pd.DataFrame(data=None,columns=[\"batch\",\"learn\",\"epoch\",\"time\"])\n",
    "        for line in lines:\n",
    "            s = line.strip(' \\n')\n",
    "            for rmstr in remove_str:\n",
    "                s = s.replace(rmstr,\"\")            \n",
    "            m2 = output_pattern.match(s)\n",
    "            if m2:\n",
    "                if debug: print s,\n",
    "                epoch = int(m2.group(1))\n",
    "                time = float(m2.group(6))\n",
    "                if debug: print \"BS,LR,epoch,time:\",batch,learn,epoch,time\n",
    "                df.loc[ind] = [batch,learn,epoch,time]\n",
    "                ind += 1\n",
    "                    \n",
    "    return df"
   ]
  },
  {
   "cell_type": "code",
   "execution_count": 10,
   "metadata": {},
   "outputs": [
    {
     "data": {
      "text/html": [
       "<div>\n",
       "<style scoped>\n",
       "    .dataframe tbody tr th:only-of-type {\n",
       "        vertical-align: middle;\n",
       "    }\n",
       "\n",
       "    .dataframe tbody tr th {\n",
       "        vertical-align: top;\n",
       "    }\n",
       "\n",
       "    .dataframe thead th {\n",
       "        text-align: right;\n",
       "    }\n",
       "</style>\n",
       "<table border=\"1\" class=\"dataframe\">\n",
       "  <thead>\n",
       "    <tr style=\"text-align: right;\">\n",
       "      <th></th>\n",
       "      <th>batch</th>\n",
       "      <th>learn</th>\n",
       "      <th>epoch</th>\n",
       "      <th>time</th>\n",
       "    </tr>\n",
       "  </thead>\n",
       "  <tbody>\n",
       "    <tr>\n",
       "      <th>count</th>\n",
       "      <td>266.000000</td>\n",
       "      <td>2.660000e+02</td>\n",
       "      <td>266.0</td>\n",
       "      <td>266.000000</td>\n",
       "    </tr>\n",
       "    <tr>\n",
       "      <th>mean</th>\n",
       "      <td>466.210526</td>\n",
       "      <td>1.500000e-01</td>\n",
       "      <td>1.0</td>\n",
       "      <td>169.938150</td>\n",
       "    </tr>\n",
       "    <tr>\n",
       "      <th>std</th>\n",
       "      <td>244.284911</td>\n",
       "      <td>2.780790e-17</td>\n",
       "      <td>0.0</td>\n",
       "      <td>17.175434</td>\n",
       "    </tr>\n",
       "    <tr>\n",
       "      <th>min</th>\n",
       "      <td>65.000000</td>\n",
       "      <td>1.500000e-01</td>\n",
       "      <td>1.0</td>\n",
       "      <td>87.221800</td>\n",
       "    </tr>\n",
       "    <tr>\n",
       "      <th>25%</th>\n",
       "      <td>246.000000</td>\n",
       "      <td>1.500000e-01</td>\n",
       "      <td>1.0</td>\n",
       "      <td>172.636000</td>\n",
       "    </tr>\n",
       "    <tr>\n",
       "      <th>50%</th>\n",
       "      <td>453.500000</td>\n",
       "      <td>1.500000e-01</td>\n",
       "      <td>1.0</td>\n",
       "      <td>173.322500</td>\n",
       "    </tr>\n",
       "    <tr>\n",
       "      <th>75%</th>\n",
       "      <td>683.000000</td>\n",
       "      <td>1.500000e-01</td>\n",
       "      <td>1.0</td>\n",
       "      <td>174.097500</td>\n",
       "    </tr>\n",
       "    <tr>\n",
       "      <th>max</th>\n",
       "      <td>895.000000</td>\n",
       "      <td>1.500000e-01</td>\n",
       "      <td>1.0</td>\n",
       "      <td>181.592000</td>\n",
       "    </tr>\n",
       "  </tbody>\n",
       "</table>\n",
       "</div>"
      ],
      "text/plain": [
       "            batch         learn  epoch        time\n",
       "count  266.000000  2.660000e+02  266.0  266.000000\n",
       "mean   466.210526  1.500000e-01    1.0  169.938150\n",
       "std    244.284911  2.780790e-17    0.0   17.175434\n",
       "min     65.000000  1.500000e-01    1.0   87.221800\n",
       "25%    246.000000  1.500000e-01    1.0  172.636000\n",
       "50%    453.500000  1.500000e-01    1.0  173.322500\n",
       "75%    683.000000  1.500000e-01    1.0  174.097500\n",
       "max    895.000000  1.500000e-01    1.0  181.592000"
      ]
     },
     "execution_count": 10,
     "metadata": {},
     "output_type": "execute_result"
    }
   ],
   "source": [
    "df_K80=readLogsK80(\"logs/microseries/K80\")\n",
    "df_K80.describe()"
   ]
  },
  {
   "cell_type": "code",
   "execution_count": 11,
   "metadata": {},
   "outputs": [
    {
     "data": {
      "text/plain": [
       "<matplotlib.axes._subplots.AxesSubplot at 0x1081e0dd0>"
      ]
     },
     "execution_count": 11,
     "metadata": {},
     "output_type": "execute_result"
    },
    {
     "data": {
      "image/png": "[encoded data removed]",
      "text/plain": [
       "<matplotlib.figure.Figure at 0x108ea84d0>"
      ]
     },
     "metadata": {},
     "output_type": "display_data"
    }
   ],
   "source": [
    "df_K80.plot(kind=\"scatter\",x=\"batch\",y=\"time\")"
   ]
  },
  {
   "cell_type": "code",
   "execution_count": 12,
   "metadata": {},
   "outputs": [
    {
     "name": "stdout",
     "output_type": "stream",
     "text": [
      "(961, 4)\n",
      "(800, 4)\n",
      "(266, 4)\n"
     ]
    }
   ],
   "source": [
    "print df_DLsrv.shape\n",
    "print df_mouse.shape\n",
    "print df_K80.shape"
   ]
  },
  {
   "cell_type": "code",
   "execution_count": 13,
   "metadata": {},
   "outputs": [
    {
     "data": {
      "text/html": [
       "<div>\n",
       "<style scoped>\n",
       "    .dataframe tbody tr th:only-of-type {\n",
       "        vertical-align: middle;\n",
       "    }\n",
       "\n",
       "    .dataframe tbody tr th {\n",
       "        vertical-align: top;\n",
       "    }\n",
       "\n",
       "    .dataframe thead th {\n",
       "        text-align: right;\n",
       "    }\n",
       "</style>\n",
       "<table border=\"1\" class=\"dataframe\">\n",
       "  <thead>\n",
       "    <tr style=\"text-align: right;\">\n",
       "      <th></th>\n",
       "      <th>GPU model</th>\n",
       "      <th>CUDA ver</th>\n",
       "      <th>CUDA Cap</th>\n",
       "      <th>CUDA cores</th>\n",
       "      <th>L2 size(MB)</th>\n",
       "      <th>SP (GFLOPS)</th>\n",
       "      <th>DP (GFLOPS)</th>\n",
       "      <th>Mem (GB)</th>\n",
       "      <th>Mband (GB/s)</th>\n",
       "    </tr>\n",
       "  </thead>\n",
       "  <tbody>\n",
       "    <tr>\n",
       "      <th>0</th>\n",
       "      <td>GTX TITAN X</td>\n",
       "      <td>9.0</td>\n",
       "      <td>5.2</td>\n",
       "      <td>3072</td>\n",
       "      <td>3.145728</td>\n",
       "      <td>6144</td>\n",
       "      <td>192.0</td>\n",
       "      <td>12.288</td>\n",
       "      <td>336</td>\n",
       "    </tr>\n",
       "    <tr>\n",
       "      <th>1</th>\n",
       "      <td>QuadroP2000</td>\n",
       "      <td>9.0</td>\n",
       "      <td>6.1</td>\n",
       "      <td>1024</td>\n",
       "      <td>1.310720</td>\n",
       "      <td>3000</td>\n",
       "      <td>94.7</td>\n",
       "      <td>5.000</td>\n",
       "      <td>140</td>\n",
       "    </tr>\n",
       "    <tr>\n",
       "      <th>2</th>\n",
       "      <td>K80</td>\n",
       "      <td>9.0</td>\n",
       "      <td>3.7</td>\n",
       "      <td>2496</td>\n",
       "      <td>1.572864</td>\n",
       "      <td>8736</td>\n",
       "      <td>2912.0</td>\n",
       "      <td>12.288</td>\n",
       "      <td>240</td>\n",
       "    </tr>\n",
       "  </tbody>\n",
       "</table>\n",
       "</div>"
      ],
      "text/plain": [
       "     GPU model  CUDA ver  CUDA Cap  CUDA cores  L2 size(MB)  SP (GFLOPS)  \\\n",
       "0  GTX TITAN X       9.0       5.2        3072     3.145728         6144   \n",
       "1  QuadroP2000       9.0       6.1        1024     1.310720         3000   \n",
       "2          K80       9.0       3.7        2496     1.572864         8736   \n",
       "\n",
       "   DP (GFLOPS)  Mem (GB)  Mband (GB/s)  \n",
       "0        192.0    12.288           336  \n",
       "1         94.7     5.000           140  \n",
       "2       2912.0    12.288           240  "
      ]
     },
     "execution_count": 13,
     "metadata": {},
     "output_type": "execute_result"
    }
   ],
   "source": [
    "GPUs_df = pd.DataFrame(columns=[\"GPU model\",\"CUDA ver\",\"CUDA Cap\",\"CUDA cores\",\"L2 size(MB)\",\"SP (GFLOPS)\",\"DP (GFLOPS)\",\"Mem (GB)\",\"Mband (GB/s)\"],\n",
    "                           data = [[\"GTX TITAN X\",     9.0,       5.2,        3072,     3.145728,         6144,          192,    12.288,           336],\n",
    "                                   [\"QuadroP2000\",     9.0,       6.1,        1024,     1.310720,         3000,         94.7,         5,           140],\n",
    "                                   [        \"K80\",     9.0,       3.7,        2496,     1.572864,         8736,         2912,    12.288,           240]])\n",
    "GPUs_df.head()                       "
   ]
  },
  {
   "cell_type": "code",
   "execution_count": 14,
   "metadata": {},
   "outputs": [
    {
     "name": "stdout",
     "output_type": "stream",
     "text": [
      "(961, 3)\n"
     ]
    },
    {
     "data": {
      "text/html": [
       "<div>\n",
       "<style scoped>\n",
       "    .dataframe tbody tr th:only-of-type {\n",
       "        vertical-align: middle;\n",
       "    }\n",
       "\n",
       "    .dataframe tbody tr th {\n",
       "        vertical-align: top;\n",
       "    }\n",
       "\n",
       "    .dataframe thead th {\n",
       "        text-align: right;\n",
       "    }\n",
       "</style>\n",
       "<table border=\"1\" class=\"dataframe\">\n",
       "  <thead>\n",
       "    <tr style=\"text-align: right;\">\n",
       "      <th></th>\n",
       "      <th>batch</th>\n",
       "      <th>time</th>\n",
       "      <th>GPU</th>\n",
       "    </tr>\n",
       "  </thead>\n",
       "  <tbody>\n",
       "    <tr>\n",
       "      <th>0</th>\n",
       "      <td>101.0</td>\n",
       "      <td>90.3823</td>\n",
       "      <td>QuadroP2000</td>\n",
       "    </tr>\n",
       "    <tr>\n",
       "      <th>1</th>\n",
       "      <td>101.0</td>\n",
       "      <td>90.4984</td>\n",
       "      <td>QuadroP2000</td>\n",
       "    </tr>\n",
       "    <tr>\n",
       "      <th>2</th>\n",
       "      <td>102.0</td>\n",
       "      <td>90.1218</td>\n",
       "      <td>QuadroP2000</td>\n",
       "    </tr>\n",
       "    <tr>\n",
       "      <th>3</th>\n",
       "      <td>103.0</td>\n",
       "      <td>90.1364</td>\n",
       "      <td>QuadroP2000</td>\n",
       "    </tr>\n",
       "    <tr>\n",
       "      <th>4</th>\n",
       "      <td>104.0</td>\n",
       "      <td>90.1099</td>\n",
       "      <td>QuadroP2000</td>\n",
       "    </tr>\n",
       "  </tbody>\n",
       "</table>\n",
       "</div>"
      ],
      "text/plain": [
       "   batch     time          GPU\n",
       "0  101.0  90.3823  QuadroP2000\n",
       "1  101.0  90.4984  QuadroP2000\n",
       "2  102.0  90.1218  QuadroP2000\n",
       "3  103.0  90.1364  QuadroP2000\n",
       "4  104.0  90.1099  QuadroP2000"
      ]
     },
     "execution_count": 14,
     "metadata": {},
     "output_type": "execute_result"
    }
   ],
   "source": [
    "df_DLsrv[\"GPU\"] = \"GTX TITAN X\" # Single precision peak GFLOPS for GTX TITAN X\n",
    "df_mouse[\"GPU\"] = \"QuadroP2000\"\n",
    "df_K80[\"GPU\"] = \"K80\"\n",
    "df_DLsrv.drop([\"learn\",\"epoch\"],axis=1,inplace=True)\n",
    "df_mouse.drop([\"learn\",\"epoch\"],axis=1,inplace=True)\n",
    "df_K80.drop([\"learn\",\"epoch\"],axis=1,inplace=True)\n",
    "print df_DLsrv.shape\n",
    "df_mouse.head()"
   ]
  },
  {
   "cell_type": "code",
   "execution_count": 15,
   "metadata": {},
   "outputs": [
    {
     "data": {
      "text/html": [
       "<div>\n",
       "<style scoped>\n",
       "    .dataframe tbody tr th:only-of-type {\n",
       "        vertical-align: middle;\n",
       "    }\n",
       "\n",
       "    .dataframe tbody tr th {\n",
       "        vertical-align: top;\n",
       "    }\n",
       "\n",
       "    .dataframe thead th {\n",
       "        text-align: right;\n",
       "    }\n",
       "</style>\n",
       "<table border=\"1\" class=\"dataframe\">\n",
       "  <thead>\n",
       "    <tr style=\"text-align: right;\">\n",
       "      <th></th>\n",
       "      <th>batch</th>\n",
       "      <th>time</th>\n",
       "      <th>GPU</th>\n",
       "    </tr>\n",
       "  </thead>\n",
       "  <tbody>\n",
       "    <tr>\n",
       "      <th>0</th>\n",
       "      <td>1000.0</td>\n",
       "      <td>24.4252</td>\n",
       "      <td>GTX TITAN X</td>\n",
       "    </tr>\n",
       "    <tr>\n",
       "      <th>1</th>\n",
       "      <td>1001.0</td>\n",
       "      <td>24.4108</td>\n",
       "      <td>GTX TITAN X</td>\n",
       "    </tr>\n",
       "    <tr>\n",
       "      <th>2</th>\n",
       "      <td>1002.0</td>\n",
       "      <td>24.4341</td>\n",
       "      <td>GTX TITAN X</td>\n",
       "    </tr>\n",
       "    <tr>\n",
       "      <th>3</th>\n",
       "      <td>1003.0</td>\n",
       "      <td>24.7236</td>\n",
       "      <td>GTX TITAN X</td>\n",
       "    </tr>\n",
       "    <tr>\n",
       "      <th>4</th>\n",
       "      <td>1004.0</td>\n",
       "      <td>25.0943</td>\n",
       "      <td>GTX TITAN X</td>\n",
       "    </tr>\n",
       "  </tbody>\n",
       "</table>\n",
       "</div>"
      ],
      "text/plain": [
       "    batch     time          GPU\n",
       "0  1000.0  24.4252  GTX TITAN X\n",
       "1  1001.0  24.4108  GTX TITAN X\n",
       "2  1002.0  24.4341  GTX TITAN X\n",
       "3  1003.0  24.7236  GTX TITAN X\n",
       "4  1004.0  25.0943  GTX TITAN X"
      ]
     },
     "execution_count": 15,
     "metadata": {},
     "output_type": "execute_result"
    }
   ],
   "source": [
    "df_DLsrv.head()"
   ]
  },
  {
   "cell_type": "code",
   "execution_count": 18,
   "metadata": {},
   "outputs": [
    {
     "name": "stdout",
     "output_type": "stream",
     "text": [
      "(2027, 3)\n"
     ]
    },
    {
     "data": {
      "text/html": [
       "<div>\n",
       "<style scoped>\n",
       "    .dataframe tbody tr th:only-of-type {\n",
       "        vertical-align: middle;\n",
       "    }\n",
       "\n",
       "    .dataframe tbody tr th {\n",
       "        vertical-align: top;\n",
       "    }\n",
       "\n",
       "    .dataframe thead th {\n",
       "        text-align: right;\n",
       "    }\n",
       "</style>\n",
       "<table border=\"1\" class=\"dataframe\">\n",
       "  <thead>\n",
       "    <tr style=\"text-align: right;\">\n",
       "      <th></th>\n",
       "      <th>batch</th>\n",
       "      <th>time</th>\n",
       "      <th>GPU</th>\n",
       "    </tr>\n",
       "  </thead>\n",
       "  <tbody>\n",
       "    <tr>\n",
       "      <th>0</th>\n",
       "      <td>1000.0</td>\n",
       "      <td>24.4252</td>\n",
       "      <td>GTX TITAN X</td>\n",
       "    </tr>\n",
       "    <tr>\n",
       "      <th>1</th>\n",
       "      <td>1001.0</td>\n",
       "      <td>24.4108</td>\n",
       "      <td>GTX TITAN X</td>\n",
       "    </tr>\n",
       "    <tr>\n",
       "      <th>2</th>\n",
       "      <td>1002.0</td>\n",
       "      <td>24.4341</td>\n",
       "      <td>GTX TITAN X</td>\n",
       "    </tr>\n",
       "    <tr>\n",
       "      <th>3</th>\n",
       "      <td>1003.0</td>\n",
       "      <td>24.7236</td>\n",
       "      <td>GTX TITAN X</td>\n",
       "    </tr>\n",
       "    <tr>\n",
       "      <th>4</th>\n",
       "      <td>1004.0</td>\n",
       "      <td>25.0943</td>\n",
       "      <td>GTX TITAN X</td>\n",
       "    </tr>\n",
       "  </tbody>\n",
       "</table>\n",
       "</div>"
      ],
      "text/plain": [
       "    batch     time          GPU\n",
       "0  1000.0  24.4252  GTX TITAN X\n",
       "1  1001.0  24.4108  GTX TITAN X\n",
       "2  1002.0  24.4341  GTX TITAN X\n",
       "3  1003.0  24.7236  GTX TITAN X\n",
       "4  1004.0  25.0943  GTX TITAN X"
      ]
     },
     "execution_count": 18,
     "metadata": {},
     "output_type": "execute_result"
    }
   ],
   "source": [
    "mdf = pd.concat([df_DLsrv,df_mouse,df_K80],ignore_index=True)\n",
    "print mdf.shape\n",
    "mdf.head()"
   ]
  },
  {
   "cell_type": "code",
   "execution_count": 17,
   "metadata": {},
   "outputs": [
    {
     "data": {
      "text/html": [
       "<div>\n",
       "<style scoped>\n",
       "    .dataframe tbody tr th:only-of-type {\n",
       "        vertical-align: middle;\n",
       "    }\n",
       "\n",
       "    .dataframe tbody tr th {\n",
       "        vertical-align: top;\n",
       "    }\n",
       "\n",
       "    .dataframe thead th {\n",
       "        text-align: right;\n",
       "    }\n",
       "</style>\n",
       "<table border=\"1\" class=\"dataframe\">\n",
       "  <thead>\n",
       "    <tr style=\"text-align: right;\">\n",
       "      <th></th>\n",
       "      <th>GPU</th>\n",
       "      <th>CUDA ver</th>\n",
       "      <th>CUDA Cap</th>\n",
       "      <th>CUDA cores</th>\n",
       "      <th>L2 size(MB)</th>\n",
       "      <th>SP (GFLOPS)</th>\n",
       "      <th>DP (GFLOPS)</th>\n",
       "      <th>Mem (GB)</th>\n",
       "      <th>Mband (GB/s)</th>\n",
       "    </tr>\n",
       "  </thead>\n",
       "  <tbody>\n",
       "    <tr>\n",
       "      <th>0</th>\n",
       "      <td>GTX TITAN X</td>\n",
       "      <td>9.0</td>\n",
       "      <td>5.2</td>\n",
       "      <td>3072</td>\n",
       "      <td>3.145728</td>\n",
       "      <td>6144</td>\n",
       "      <td>192.0</td>\n",
       "      <td>12.288</td>\n",
       "      <td>336</td>\n",
       "    </tr>\n",
       "    <tr>\n",
       "      <th>1</th>\n",
       "      <td>QuadroP2000</td>\n",
       "      <td>9.0</td>\n",
       "      <td>6.1</td>\n",
       "      <td>1024</td>\n",
       "      <td>1.310720</td>\n",
       "      <td>3000</td>\n",
       "      <td>94.7</td>\n",
       "      <td>5.000</td>\n",
       "      <td>140</td>\n",
       "    </tr>\n",
       "    <tr>\n",
       "      <th>2</th>\n",
       "      <td>K80</td>\n",
       "      <td>9.0</td>\n",
       "      <td>3.7</td>\n",
       "      <td>2496</td>\n",
       "      <td>1.572864</td>\n",
       "      <td>8736</td>\n",
       "      <td>2912.0</td>\n",
       "      <td>12.288</td>\n",
       "      <td>240</td>\n",
       "    </tr>\n",
       "  </tbody>\n",
       "</table>\n",
       "</div>"
      ],
      "text/plain": [
       "           GPU  CUDA ver  CUDA Cap  CUDA cores  L2 size(MB)  SP (GFLOPS)  \\\n",
       "0  GTX TITAN X       9.0       5.2        3072     3.145728         6144   \n",
       "1  QuadroP2000       9.0       6.1        1024     1.310720         3000   \n",
       "2          K80       9.0       3.7        2496     1.572864         8736   \n",
       "\n",
       "   DP (GFLOPS)  Mem (GB)  Mband (GB/s)  \n",
       "0        192.0    12.288           336  \n",
       "1         94.7     5.000           140  \n",
       "2       2912.0    12.288           240  "
      ]
     },
     "execution_count": 17,
     "metadata": {},
     "output_type": "execute_result"
    }
   ],
   "source": [
    "GPUs_df.rename({\"GPU model\":\"GPU\"},axis=\"columns\",inplace=True)\n",
    "GPUs_df.head()"
   ]
  },
  {
   "cell_type": "code",
   "execution_count": 19,
   "metadata": {},
   "outputs": [
    {
     "data": {
      "text/html": [
       "<div>\n",
       "<style scoped>\n",
       "    .dataframe tbody tr th:only-of-type {\n",
       "        vertical-align: middle;\n",
       "    }\n",
       "\n",
       "    .dataframe tbody tr th {\n",
       "        vertical-align: top;\n",
       "    }\n",
       "\n",
       "    .dataframe thead th {\n",
       "        text-align: right;\n",
       "    }\n",
       "</style>\n",
       "<table border=\"1\" class=\"dataframe\">\n",
       "  <thead>\n",
       "    <tr style=\"text-align: right;\">\n",
       "      <th></th>\n",
       "      <th>batch</th>\n",
       "      <th>time</th>\n",
       "      <th>GPU</th>\n",
       "      <th>CUDA ver</th>\n",
       "      <th>CUDA Cap</th>\n",
       "      <th>CUDA cores</th>\n",
       "      <th>L2 size(MB)</th>\n",
       "      <th>SP (GFLOPS)</th>\n",
       "      <th>DP (GFLOPS)</th>\n",
       "      <th>Mem (GB)</th>\n",
       "      <th>Mband (GB/s)</th>\n",
       "    </tr>\n",
       "  </thead>\n",
       "  <tbody>\n",
       "    <tr>\n",
       "      <th>1761</th>\n",
       "      <td>101.0</td>\n",
       "      <td>174.921</td>\n",
       "      <td>K80</td>\n",
       "      <td>9.0</td>\n",
       "      <td>3.7</td>\n",
       "      <td>2496</td>\n",
       "      <td>1.572864</td>\n",
       "      <td>8736</td>\n",
       "      <td>2912.0</td>\n",
       "      <td>12.288</td>\n",
       "      <td>240</td>\n",
       "    </tr>\n",
       "    <tr>\n",
       "      <th>1762</th>\n",
       "      <td>104.0</td>\n",
       "      <td>173.678</td>\n",
       "      <td>K80</td>\n",
       "      <td>9.0</td>\n",
       "      <td>3.7</td>\n",
       "      <td>2496</td>\n",
       "      <td>1.572864</td>\n",
       "      <td>8736</td>\n",
       "      <td>2912.0</td>\n",
       "      <td>12.288</td>\n",
       "      <td>240</td>\n",
       "    </tr>\n",
       "    <tr>\n",
       "      <th>1763</th>\n",
       "      <td>105.0</td>\n",
       "      <td>179.941</td>\n",
       "      <td>K80</td>\n",
       "      <td>9.0</td>\n",
       "      <td>3.7</td>\n",
       "      <td>2496</td>\n",
       "      <td>1.572864</td>\n",
       "      <td>8736</td>\n",
       "      <td>2912.0</td>\n",
       "      <td>12.288</td>\n",
       "      <td>240</td>\n",
       "    </tr>\n",
       "    <tr>\n",
       "      <th>1764</th>\n",
       "      <td>110.0</td>\n",
       "      <td>181.592</td>\n",
       "      <td>K80</td>\n",
       "      <td>9.0</td>\n",
       "      <td>3.7</td>\n",
       "      <td>2496</td>\n",
       "      <td>1.572864</td>\n",
       "      <td>8736</td>\n",
       "      <td>2912.0</td>\n",
       "      <td>12.288</td>\n",
       "      <td>240</td>\n",
       "    </tr>\n",
       "    <tr>\n",
       "      <th>1765</th>\n",
       "      <td>112.0</td>\n",
       "      <td>179.857</td>\n",
       "      <td>K80</td>\n",
       "      <td>9.0</td>\n",
       "      <td>3.7</td>\n",
       "      <td>2496</td>\n",
       "      <td>1.572864</td>\n",
       "      <td>8736</td>\n",
       "      <td>2912.0</td>\n",
       "      <td>12.288</td>\n",
       "      <td>240</td>\n",
       "    </tr>\n",
       "  </tbody>\n",
       "</table>\n",
       "</div>"
      ],
      "text/plain": [
       "      batch     time  GPU  CUDA ver  CUDA Cap  CUDA cores  L2 size(MB)  \\\n",
       "1761  101.0  174.921  K80       9.0       3.7        2496     1.572864   \n",
       "1762  104.0  173.678  K80       9.0       3.7        2496     1.572864   \n",
       "1763  105.0  179.941  K80       9.0       3.7        2496     1.572864   \n",
       "1764  110.0  181.592  K80       9.0       3.7        2496     1.572864   \n",
       "1765  112.0  179.857  K80       9.0       3.7        2496     1.572864   \n",
       "\n",
       "      SP (GFLOPS)  DP (GFLOPS)  Mem (GB)  Mband (GB/s)  \n",
       "1761         8736       2912.0    12.288           240  \n",
       "1762         8736       2912.0    12.288           240  \n",
       "1763         8736       2912.0    12.288           240  \n",
       "1764         8736       2912.0    12.288           240  \n",
       "1765         8736       2912.0    12.288           240  "
      ]
     },
     "execution_count": 19,
     "metadata": {},
     "output_type": "execute_result"
    }
   ],
   "source": [
    "# SQL-like join\n",
    "df = pd.merge(mdf,GPUs_df,on=\"GPU\")\n",
    "df[df[\"GPU\"]==\"K80\"].head()"
   ]
  },
  {
   "cell_type": "code",
   "execution_count": 22,
   "metadata": {},
   "outputs": [
    {
     "data": {
      "text/plain": [
       "<matplotlib.axes._subplots.AxesSubplot at 0x10927be10>"
      ]
     },
     "execution_count": 22,
     "metadata": {},
     "output_type": "execute_result"
    },
    {
     "data": {
      "image/png": "[encoded data removed]",
      "text/plain": [
       "<matplotlib.figure.Figure at 0x109106c50>"
      ]
     },
     "metadata": {},
     "output_type": "display_data"
    }
   ],
   "source": [
    "df.plot(kind=\"scatter\",x=\"batch\",y=\"time\",c=\"CUDA cores\",grid=True,alpha=0.3,s=2,colormap=\"winter\")"
   ]
  },
  {
   "cell_type": "markdown",
   "metadata": {},
   "source": [
    "## Prepare samples X and GT Y"
   ]
  },
  {
   "cell_type": "code",
   "execution_count": 27,
   "metadata": {},
   "outputs": [
    {
     "data": {
      "text/plain": [
       "array([[ 1000.      ,    12.288   ,   336.      ,     5.2     ,\n",
       "         3072.      ,     3.145728],\n",
       "       [ 1001.      ,    12.288   ,   336.      ,     5.2     ,\n",
       "         3072.      ,     3.145728]])"
      ]
     },
     "execution_count": 27,
     "metadata": {},
     "output_type": "execute_result"
    }
   ],
   "source": [
    "X = df[[\"batch\",\"Mem (GB)\",\"Mband (GB/s)\", \"CUDA Cap\", \"CUDA cores\", \"L2 size(MB)\"]].values\n",
    "Y = df[\"time\"].values\n",
    "X.shape\n",
    "X[:2]"
   ]
  },
  {
   "cell_type": "code",
   "execution_count": 32,
   "metadata": {},
   "outputs": [
    {
     "data": {
      "image/png": "[encoded data removed]",
      "text/plain": [
       "<matplotlib.figure.Figure at 0x1094b57d0>"
      ]
     },
     "metadata": {},
     "output_type": "display_data"
    }
   ],
   "source": [
    "fig = plt.scatter(x=X[:,0],y=Y,c=X[:,4],s=2,alpha=0.3,cmap=\"winter\")\n",
    "plt.grid(linestyle=\":\",alpha=0.3)\n",
    "plt.colorbar()\n",
    "plt.show()"
   ]
  },
  {
   "cell_type": "markdown",
   "metadata": {},
   "source": [
    "### Split samples to training and test sets"
   ]
  },
  {
   "cell_type": "code",
   "execution_count": 29,
   "metadata": {},
   "outputs": [
    {
     "name": "stdout",
     "output_type": "stream",
     "text": [
      "(100, 6) x (1927, 6)\n"
     ]
    }
   ],
   "source": [
    "# Create training and test sets.\n",
    "train_size=100\n",
    "X_train, X_test, Y_train, Y_test = train_test_split(\n",
    "    X, Y, train_size=train_size, shuffle = True)\n",
    "\n",
    "print X_train.shape,\"x\",X_test.shape"
   ]
  },
  {
   "cell_type": "code",
   "execution_count": 33,
   "metadata": {},
   "outputs": [
    {
     "data": {
      "image/png": "[encoded data removed]",
      "text/plain": [
       "<matplotlib.figure.Figure at 0x1094e2a90>"
      ]
     },
     "metadata": {},
     "output_type": "display_data"
    }
   ],
   "source": [
    "f, axarr = plt.subplots(2, sharex=True,figsize=(10,8))\n",
    "sc0 = axarr[0].scatter(x=X_train[:,0],y=Y_train,c=X_train[:,4],s=3,alpha=0.5,cmap=\"winter\")\n",
    "sc1 = axarr[1].scatter(x=X_test[:,0],y=Y_test,c=X_test[:,4],s=3,alpha=0.5,cmap=\"winter\")\n",
    "axarr[0].set_title(\"training set\")\n",
    "axarr[1].set_title(\"test set\")\n",
    "axarr[0].grid()\n",
    "axarr[1].grid()\n",
    "plt.colorbar(sc0,ax=axarr[0])\n",
    "plt.colorbar(sc1,ax=axarr[1])\n",
    "plt.show()"
   ]
  },
  {
   "cell_type": "code",
   "execution_count": 34,
   "metadata": {},
   "outputs": [],
   "source": [
    "# Fit Random Forest\n",
    "clf = RandomForestRegressor(n_estimators=50)\n",
    "clf = clf.fit(X_train,Y_train)"
   ]
  },
  {
   "cell_type": "code",
   "execution_count": 35,
   "metadata": {},
   "outputs": [],
   "source": [
    "H_test = clf.predict(X_test)"
   ]
  },
  {
   "cell_type": "code",
   "execution_count": 36,
   "metadata": {},
   "outputs": [
    {
     "data": {
      "text/plain": [
       "44.170167210990137"
      ]
     },
     "execution_count": 36,
     "metadata": {},
     "output_type": "execute_result"
    }
   ],
   "source": [
    "mean_squared_error(Y_test, H_test)"
   ]
  },
  {
   "cell_type": "code",
   "execution_count": 37,
   "metadata": {},
   "outputs": [
    {
     "data": {
      "text/plain": [
       "2.1181421906753561"
      ]
     },
     "execution_count": 37,
     "metadata": {},
     "output_type": "execute_result"
    }
   ],
   "source": [
    "H_train = clf.predict(X_train)\n",
    "mean_squared_error(Y_train, H_train)"
   ]
  },
  {
   "cell_type": "code",
   "execution_count": 38,
   "metadata": {
    "scrolled": true
   },
   "outputs": [
    {
     "name": "stdout",
     "output_type": "stream",
     "text": [
      "20\n",
      "40\n",
      "60\n"
     ]
    },
    {
     "ename": "KeyboardInterrupt",
     "evalue": "",
     "output_type": "error",
     "traceback": [
      "\u001b[0;31m---------------------------------------------------------------------------\u001b[0m",
      "\u001b[0;31mKeyboardInterrupt\u001b[0m                         Traceback (most recent call last)",
      "\u001b[0;32m<ipython-input-38-14986b00097e>\u001b[0m in \u001b[0;36m<module>\u001b[0;34m()\u001b[0m\n\u001b[1;32m     17\u001b[0m             \u001b[0mY_test\u001b[0m \u001b[0;34m=\u001b[0m \u001b[0mY_test\u001b[0m\u001b[0;34m[\u001b[0m\u001b[0;34m:\u001b[0m\u001b[0mtest_samples\u001b[0m\u001b[0;34m]\u001b[0m\u001b[0;34m\u001b[0m\u001b[0m\n\u001b[1;32m     18\u001b[0m             \u001b[0mclf\u001b[0m \u001b[0;34m=\u001b[0m \u001b[0mRandomForestRegressor\u001b[0m\u001b[0;34m(\u001b[0m\u001b[0mn_estimators\u001b[0m\u001b[0;34m=\u001b[0m\u001b[0;36m50\u001b[0m\u001b[0;34m)\u001b[0m\u001b[0;34m\u001b[0m\u001b[0m\n\u001b[0;32m---> 19\u001b[0;31m             \u001b[0mclf\u001b[0m \u001b[0;34m=\u001b[0m \u001b[0mclf\u001b[0m\u001b[0;34m.\u001b[0m\u001b[0mfit\u001b[0m\u001b[0;34m(\u001b[0m\u001b[0mX_train\u001b[0m\u001b[0;34m,\u001b[0m\u001b[0mY_train\u001b[0m\u001b[0;34m)\u001b[0m\u001b[0;34m\u001b[0m\u001b[0m\n\u001b[0m\u001b[1;32m     20\u001b[0m             \u001b[0mH_test\u001b[0m \u001b[0;34m=\u001b[0m \u001b[0mclf\u001b[0m\u001b[0;34m.\u001b[0m\u001b[0mpredict\u001b[0m\u001b[0;34m(\u001b[0m\u001b[0mX_test\u001b[0m\u001b[0;34m)\u001b[0m\u001b[0;34m\u001b[0m\u001b[0m\n\u001b[1;32m     21\u001b[0m             \u001b[0mmse\u001b[0m \u001b[0;34m+=\u001b[0m \u001b[0mmean_squared_error\u001b[0m\u001b[0;34m(\u001b[0m\u001b[0mY_test\u001b[0m\u001b[0;34m,\u001b[0m \u001b[0mH_test\u001b[0m\u001b[0;34m)\u001b[0m\u001b[0;34m\u001b[0m\u001b[0m\n",
      "\u001b[0;32m/Users/peterbryzgalov/Library/Python/2.7/lib/python/site-packages/sklearn/ensemble/forest.pyc\u001b[0m in \u001b[0;36mfit\u001b[0;34m(self, X, y, sample_weight)\u001b[0m\n\u001b[1;32m    314\u001b[0m             \u001b[0;32mfor\u001b[0m \u001b[0mi\u001b[0m \u001b[0;32min\u001b[0m \u001b[0mrange\u001b[0m\u001b[0;34m(\u001b[0m\u001b[0mn_more_estimators\u001b[0m\u001b[0;34m)\u001b[0m\u001b[0;34m:\u001b[0m\u001b[0;34m\u001b[0m\u001b[0m\n\u001b[1;32m    315\u001b[0m                 tree = self._make_estimator(append=False,\n\u001b[0;32m--> 316\u001b[0;31m                                             random_state=random_state)\n\u001b[0m\u001b[1;32m    317\u001b[0m                 \u001b[0mtrees\u001b[0m\u001b[0;34m.\u001b[0m\u001b[0mappend\u001b[0m\u001b[0;34m(\u001b[0m\u001b[0mtree\u001b[0m\u001b[0;34m)\u001b[0m\u001b[0;34m\u001b[0m\u001b[0m\n\u001b[1;32m    318\u001b[0m \u001b[0;34m\u001b[0m\u001b[0m\n",
      "\u001b[0;32m/Users/peterbryzgalov/Library/Python/2.7/lib/python/site-packages/sklearn/ensemble/base.pyc\u001b[0m in \u001b[0;36m_make_estimator\u001b[0;34m(self, append, random_state)\u001b[0m\n\u001b[1;32m    123\u001b[0m         \u001b[0msub\u001b[0m\u001b[0;34m-\u001b[0m\u001b[0mestimators\u001b[0m\u001b[0;34m.\u001b[0m\u001b[0;34m\u001b[0m\u001b[0m\n\u001b[1;32m    124\u001b[0m         \"\"\"\n\u001b[0;32m--> 125\u001b[0;31m         \u001b[0mestimator\u001b[0m \u001b[0;34m=\u001b[0m \u001b[0mclone\u001b[0m\u001b[0;34m(\u001b[0m\u001b[0mself\u001b[0m\u001b[0;34m.\u001b[0m\u001b[0mbase_estimator_\u001b[0m\u001b[0;34m)\u001b[0m\u001b[0;34m\u001b[0m\u001b[0m\n\u001b[0m\u001b[1;32m    126\u001b[0m         estimator.set_params(**dict((p, getattr(self, p))\n\u001b[1;32m    127\u001b[0m                                     for p in self.estimator_params))\n",
      "\u001b[0;32m/Users/peterbryzgalov/Library/Python/2.7/lib/python/site-packages/sklearn/base.pyc\u001b[0m in \u001b[0;36mclone\u001b[0;34m(estimator, safe)\u001b[0m\n\u001b[1;32m     58\u001b[0m                             % (repr(estimator), type(estimator)))\n\u001b[1;32m     59\u001b[0m     \u001b[0mklass\u001b[0m \u001b[0;34m=\u001b[0m \u001b[0mestimator\u001b[0m\u001b[0;34m.\u001b[0m\u001b[0m__class__\u001b[0m\u001b[0;34m\u001b[0m\u001b[0m\n\u001b[0;32m---> 60\u001b[0;31m     \u001b[0mnew_object_params\u001b[0m \u001b[0;34m=\u001b[0m \u001b[0mestimator\u001b[0m\u001b[0;34m.\u001b[0m\u001b[0mget_params\u001b[0m\u001b[0;34m(\u001b[0m\u001b[0mdeep\u001b[0m\u001b[0;34m=\u001b[0m\u001b[0mFalse\u001b[0m\u001b[0;34m)\u001b[0m\u001b[0;34m\u001b[0m\u001b[0m\n\u001b[0m\u001b[1;32m     61\u001b[0m     \u001b[0;32mfor\u001b[0m \u001b[0mname\u001b[0m\u001b[0;34m,\u001b[0m \u001b[0mparam\u001b[0m \u001b[0;32min\u001b[0m \u001b[0msix\u001b[0m\u001b[0;34m.\u001b[0m\u001b[0miteritems\u001b[0m\u001b[0;34m(\u001b[0m\u001b[0mnew_object_params\u001b[0m\u001b[0;34m)\u001b[0m\u001b[0;34m:\u001b[0m\u001b[0;34m\u001b[0m\u001b[0m\n\u001b[1;32m     62\u001b[0m         \u001b[0mnew_object_params\u001b[0m\u001b[0;34m[\u001b[0m\u001b[0mname\u001b[0m\u001b[0;34m]\u001b[0m \u001b[0;34m=\u001b[0m \u001b[0mclone\u001b[0m\u001b[0;34m(\u001b[0m\u001b[0mparam\u001b[0m\u001b[0;34m,\u001b[0m \u001b[0msafe\u001b[0m\u001b[0;34m=\u001b[0m\u001b[0mFalse\u001b[0m\u001b[0;34m)\u001b[0m\u001b[0;34m\u001b[0m\u001b[0m\n",
      "\u001b[0;32m/Users/peterbryzgalov/Library/Python/2.7/lib/python/site-packages/sklearn/base.pyc\u001b[0m in \u001b[0;36mget_params\u001b[0;34m(self, deep)\u001b[0m\n\u001b[1;32m    234\u001b[0m             \u001b[0;32mtry\u001b[0m\u001b[0;34m:\u001b[0m\u001b[0;34m\u001b[0m\u001b[0m\n\u001b[1;32m    235\u001b[0m                 \u001b[0;32mwith\u001b[0m \u001b[0mwarnings\u001b[0m\u001b[0;34m.\u001b[0m\u001b[0mcatch_warnings\u001b[0m\u001b[0;34m(\u001b[0m\u001b[0mrecord\u001b[0m\u001b[0;34m=\u001b[0m\u001b[0mTrue\u001b[0m\u001b[0;34m)\u001b[0m \u001b[0;32mas\u001b[0m \u001b[0mw\u001b[0m\u001b[0;34m:\u001b[0m\u001b[0;34m\u001b[0m\u001b[0m\n\u001b[0;32m--> 236\u001b[0;31m                     \u001b[0mvalue\u001b[0m \u001b[0;34m=\u001b[0m \u001b[0mgetattr\u001b[0m\u001b[0;34m(\u001b[0m\u001b[0mself\u001b[0m\u001b[0;34m,\u001b[0m \u001b[0mkey\u001b[0m\u001b[0;34m,\u001b[0m \u001b[0mNone\u001b[0m\u001b[0;34m)\u001b[0m\u001b[0;34m\u001b[0m\u001b[0m\n\u001b[0m\u001b[1;32m    237\u001b[0m                 \u001b[0;32mif\u001b[0m \u001b[0mlen\u001b[0m\u001b[0;34m(\u001b[0m\u001b[0mw\u001b[0m\u001b[0;34m)\u001b[0m \u001b[0;32mand\u001b[0m \u001b[0mw\u001b[0m\u001b[0;34m[\u001b[0m\u001b[0;36m0\u001b[0m\u001b[0;34m]\u001b[0m\u001b[0;34m.\u001b[0m\u001b[0mcategory\u001b[0m \u001b[0;34m==\u001b[0m \u001b[0mDeprecationWarning\u001b[0m\u001b[0;34m:\u001b[0m\u001b[0;34m\u001b[0m\u001b[0m\n\u001b[1;32m    238\u001b[0m                     \u001b[0;31m# if the parameter is deprecated, don't show it\u001b[0m\u001b[0;34m\u001b[0m\u001b[0;34m\u001b[0m\u001b[0m\n",
      "\u001b[0;32m/usr/local/Cellar/python/2.7.11/Frameworks/Python.framework/Versions/2.7/lib/python2.7/warnings.pyc\u001b[0m in \u001b[0;36m__exit__\u001b[0;34m(self, *exc_info)\u001b[0m\n\u001b[1;32m    375\u001b[0m             \u001b[0;32mreturn\u001b[0m \u001b[0mNone\u001b[0m\u001b[0;34m\u001b[0m\u001b[0m\n\u001b[1;32m    376\u001b[0m \u001b[0;34m\u001b[0m\u001b[0m\n\u001b[0;32m--> 377\u001b[0;31m     \u001b[0;32mdef\u001b[0m \u001b[0m__exit__\u001b[0m\u001b[0;34m(\u001b[0m\u001b[0mself\u001b[0m\u001b[0;34m,\u001b[0m \u001b[0;34m*\u001b[0m\u001b[0mexc_info\u001b[0m\u001b[0;34m)\u001b[0m\u001b[0;34m:\u001b[0m\u001b[0;34m\u001b[0m\u001b[0m\n\u001b[0m\u001b[1;32m    378\u001b[0m         \u001b[0;32mif\u001b[0m \u001b[0;32mnot\u001b[0m \u001b[0mself\u001b[0m\u001b[0;34m.\u001b[0m\u001b[0m_entered\u001b[0m\u001b[0;34m:\u001b[0m\u001b[0;34m\u001b[0m\u001b[0m\n\u001b[1;32m    379\u001b[0m             \u001b[0;32mraise\u001b[0m \u001b[0mRuntimeError\u001b[0m\u001b[0;34m(\u001b[0m\u001b[0;34m\"Cannot exit %r without entering first\"\u001b[0m \u001b[0;34m%\u001b[0m \u001b[0mself\u001b[0m\u001b[0;34m)\u001b[0m\u001b[0;34m\u001b[0m\u001b[0m\n",
      "\u001b[0;31mKeyboardInterrupt\u001b[0m: "
     ]
    }
   ],
   "source": [
    "# Collect MSE for various train samples numbers\n",
    "MSE_df = pd.DataFrame(columns=[\"train_samples\",\"test_samples\",\"estimators\",\"MSE\"])\n",
    "test_samples = 1000\n",
    "# Fit Random Forest\n",
    "n_estimators=50\n",
    "reruns = 10\n",
    "ind = 0 # DataFrame row numebr (index)\n",
    "for n_estimators in range(20,81,20):\n",
    "    clf = RandomForestRegressor(n_estimators=n_estimators)\n",
    "    print n_estimators\n",
    "    for train_samples in range(100,1000):\n",
    "        mse = 0\n",
    "        for i in range(0,reruns):\n",
    "            X_train, X_test, Y_train, Y_test = train_test_split(\n",
    "            X, Y, train_size=train_samples, shuffle = True)\n",
    "            X_test = X_test[:test_samples]\n",
    "            Y_test = Y_test[:test_samples]\n",
    "            clf = RandomForestRegressor(n_estimators=50)\n",
    "            clf = clf.fit(X_train,Y_train)\n",
    "            H_test = clf.predict(X_test)\n",
    "            mse += mean_squared_error(Y_test, H_test)\n",
    "        mse = mse/reruns\n",
    "        #print Y_train.shape,\"x\",Y_test.shape,\" \",\n",
    "        MSE_df.loc[ind] = [train_samples,test_samples,n_estimators,mse]\n",
    "        ind += 1"
   ]
  },
  {
   "cell_type": "code",
   "execution_count": 31,
   "metadata": {},
   "outputs": [
    {
     "name": "stdout",
     "output_type": "stream",
     "text": [
      "(3600, 4)\n"
     ]
    },
    {
     "data": {
      "text/html": [
       "<div>\n",
       "<style scoped>\n",
       "    .dataframe tbody tr th:only-of-type {\n",
       "        vertical-align: middle;\n",
       "    }\n",
       "\n",
       "    .dataframe tbody tr th {\n",
       "        vertical-align: top;\n",
       "    }\n",
       "\n",
       "    .dataframe thead th {\n",
       "        text-align: right;\n",
       "    }\n",
       "</style>\n",
       "<table border=\"1\" class=\"dataframe\">\n",
       "  <thead>\n",
       "    <tr style=\"text-align: right;\">\n",
       "      <th></th>\n",
       "      <th>train_samples</th>\n",
       "      <th>test_samples</th>\n",
       "      <th>estimators</th>\n",
       "      <th>MSE</th>\n",
       "    </tr>\n",
       "  </thead>\n",
       "  <tbody>\n",
       "    <tr>\n",
       "      <th>0</th>\n",
       "      <td>100.0</td>\n",
       "      <td>1000.0</td>\n",
       "      <td>20.0</td>\n",
       "      <td>33.729837</td>\n",
       "    </tr>\n",
       "    <tr>\n",
       "      <th>1</th>\n",
       "      <td>101.0</td>\n",
       "      <td>1000.0</td>\n",
       "      <td>20.0</td>\n",
       "      <td>36.301977</td>\n",
       "    </tr>\n",
       "    <tr>\n",
       "      <th>2</th>\n",
       "      <td>102.0</td>\n",
       "      <td>1000.0</td>\n",
       "      <td>20.0</td>\n",
       "      <td>45.805706</td>\n",
       "    </tr>\n",
       "    <tr>\n",
       "      <th>3</th>\n",
       "      <td>103.0</td>\n",
       "      <td>1000.0</td>\n",
       "      <td>20.0</td>\n",
       "      <td>47.440942</td>\n",
       "    </tr>\n",
       "    <tr>\n",
       "      <th>4</th>\n",
       "      <td>104.0</td>\n",
       "      <td>1000.0</td>\n",
       "      <td>20.0</td>\n",
       "      <td>41.562420</td>\n",
       "    </tr>\n",
       "  </tbody>\n",
       "</table>\n",
       "</div>"
      ],
      "text/plain": [
       "   train_samples  test_samples  estimators        MSE\n",
       "0          100.0        1000.0        20.0  33.729837\n",
       "1          101.0        1000.0        20.0  36.301977\n",
       "2          102.0        1000.0        20.0  45.805706\n",
       "3          103.0        1000.0        20.0  47.440942\n",
       "4          104.0        1000.0        20.0  41.562420"
      ]
     },
     "execution_count": 31,
     "metadata": {},
     "output_type": "execute_result"
    }
   ],
   "source": [
    "print MSE_df.shape\n",
    "MSE_df.head()"
   ]
  },
  {
   "cell_type": "code",
   "execution_count": null,
   "metadata": {},
   "outputs": [],
   "source": [
    "MSE_df.plot(kind=\"scatter\",x=\"train_samples\",y=\"MSE\",c=\"estimators\",colormap=\"jet\",s=2)"
   ]
  },
  {
   "cell_type": "code",
   "execution_count": 64,
   "metadata": {},
   "outputs": [
    {
     "data": {
      "text/html": [
       "<div>\n",
       "<style scoped>\n",
       "    .dataframe tbody tr th:only-of-type {\n",
       "        vertical-align: middle;\n",
       "    }\n",
       "\n",
       "    .dataframe tbody tr th {\n",
       "        vertical-align: top;\n",
       "    }\n",
       "\n",
       "    .dataframe thead th {\n",
       "        text-align: right;\n",
       "    }\n",
       "</style>\n",
       "<table border=\"1\" class=\"dataframe\">\n",
       "  <thead>\n",
       "    <tr style=\"text-align: right;\">\n",
       "      <th></th>\n",
       "      <th>batch</th>\n",
       "      <th>time</th>\n",
       "      <th>GPU</th>\n",
       "      <th>CUDA ver</th>\n",
       "      <th>CUDA Cap</th>\n",
       "      <th>CUDA cores</th>\n",
       "      <th>L2 size(MB)</th>\n",
       "      <th>SP (GFLOPS)</th>\n",
       "      <th>DP (GFLOPS)</th>\n",
       "      <th>Mem (GB)</th>\n",
       "      <th>Mband (GB/s)</th>\n",
       "    </tr>\n",
       "  </thead>\n",
       "  <tbody>\n",
       "    <tr>\n",
       "      <th>325</th>\n",
       "      <td>400.0</td>\n",
       "      <td>26.9757</td>\n",
       "      <td>GTX TITAN X</td>\n",
       "      <td>9.0</td>\n",
       "      <td>5.2</td>\n",
       "      <td>3072</td>\n",
       "      <td>3.145728</td>\n",
       "      <td>6144</td>\n",
       "      <td>192.0</td>\n",
       "      <td>12.288</td>\n",
       "      <td>336</td>\n",
       "    </tr>\n",
       "    <tr>\n",
       "      <th>1247</th>\n",
       "      <td>400.0</td>\n",
       "      <td>49.2610</td>\n",
       "      <td>QuadroP2000</td>\n",
       "      <td>9.0</td>\n",
       "      <td>6.1</td>\n",
       "      <td>1024</td>\n",
       "      <td>1.310720</td>\n",
       "      <td>3000</td>\n",
       "      <td>94.7</td>\n",
       "      <td>5.000</td>\n",
       "      <td>140</td>\n",
       "    </tr>\n",
       "  </tbody>\n",
       "</table>\n",
       "</div>"
      ],
      "text/plain": [
       "      batch     time          GPU  CUDA ver  CUDA Cap  CUDA cores  \\\n",
       "325   400.0  26.9757  GTX TITAN X       9.0       5.2        3072   \n",
       "1247  400.0  49.2610  QuadroP2000       9.0       6.1        1024   \n",
       "\n",
       "      L2 size(MB)  SP (GFLOPS)  DP (GFLOPS)  Mem (GB)  Mband (GB/s)  \n",
       "325      3.145728         6144        192.0    12.288           336  \n",
       "1247     1.310720         3000         94.7     5.000           140  "
      ]
     },
     "execution_count": 64,
     "metadata": {},
     "output_type": "execute_result"
    }
   ],
   "source": [
    "df[df[\"batch\"] == 400]"
   ]
  },
  {
   "cell_type": "code",
   "execution_count": 72,
   "metadata": {},
   "outputs": [
    {
     "data": {
      "text/html": [
       "<div>\n",
       "<style scoped>\n",
       "    .dataframe tbody tr th:only-of-type {\n",
       "        vertical-align: middle;\n",
       "    }\n",
       "\n",
       "    .dataframe tbody tr th {\n",
       "        vertical-align: top;\n",
       "    }\n",
       "\n",
       "    .dataframe thead th {\n",
       "        text-align: right;\n",
       "    }\n",
       "</style>\n",
       "<table border=\"1\" class=\"dataframe\">\n",
       "  <thead>\n",
       "    <tr style=\"text-align: right;\">\n",
       "      <th></th>\n",
       "      <th>batch</th>\n",
       "      <th>SP (GFLOPS)</th>\n",
       "      <th>Mem (GB)</th>\n",
       "      <th>Mband (GB/s)</th>\n",
       "      <th>CUDA Cap</th>\n",
       "      <th>CUDA cores</th>\n",
       "      <th>L2 size(MB)</th>\n",
       "      <th>time</th>\n",
       "    </tr>\n",
       "  </thead>\n",
       "  <tbody>\n",
       "    <tr>\n",
       "      <th>325</th>\n",
       "      <td>400.0</td>\n",
       "      <td>6144</td>\n",
       "      <td>12.288</td>\n",
       "      <td>336</td>\n",
       "      <td>5.2</td>\n",
       "      <td>3072</td>\n",
       "      <td>3.145728</td>\n",
       "      <td>26.9757</td>\n",
       "    </tr>\n",
       "    <tr>\n",
       "      <th>1247</th>\n",
       "      <td>400.0</td>\n",
       "      <td>3000</td>\n",
       "      <td>5.000</td>\n",
       "      <td>140</td>\n",
       "      <td>6.1</td>\n",
       "      <td>1024</td>\n",
       "      <td>1.310720</td>\n",
       "      <td>49.2610</td>\n",
       "    </tr>\n",
       "  </tbody>\n",
       "</table>\n",
       "</div>"
      ],
      "text/plain": [
       "      batch  SP (GFLOPS)  Mem (GB)  Mband (GB/s)  CUDA Cap  CUDA cores  \\\n",
       "325   400.0         6144    12.288           336       5.2        3072   \n",
       "1247  400.0         3000     5.000           140       6.1        1024   \n",
       "\n",
       "      L2 size(MB)     time  \n",
       "325      3.145728  26.9757  \n",
       "1247     1.310720  49.2610  "
      ]
     },
     "execution_count": 72,
     "metadata": {},
     "output_type": "execute_result"
    }
   ],
   "source": [
    "df.loc[df[\"batch\"] == 400][[\"batch\",\"SP (GFLOPS)\",\"Mem (GB)\",\"Mband (GB/s)\", \"CUDA Cap\", \"CUDA cores\", \"L2 size(MB)\",\"time\"]]"
   ]
  },
  {
   "cell_type": "code",
   "execution_count": 73,
   "metadata": {},
   "outputs": [
    {
     "name": "stdout",
     "output_type": "stream",
     "text": [
      "[[  4.00000000e+02   6.14400000e+03   1.22880000e+01   3.36000000e+02\n",
      "    5.20000000e+00   3.07200000e+03   3.14572800e+00]\n",
      " [  4.00000000e+02   3.00000000e+03   5.00000000e+00   1.40000000e+02\n",
      "    6.10000000e+00   1.02400000e+03   1.31072000e+00]]\n"
     ]
    }
   ],
   "source": [
    "test = df.loc[df[\"batch\"] == 400][[\"batch\",\"SP (GFLOPS)\",\"Mem (GB)\",\"Mband (GB/s)\", \"CUDA Cap\", \"CUDA cores\", \"L2 size(MB)\"]].values\n",
    "print test"
   ]
  },
  {
   "cell_type": "code",
   "execution_count": 74,
   "metadata": {},
   "outputs": [
    {
     "data": {
      "text/plain": [
       "array([ 25.69467,  48.98424])"
      ]
     },
     "execution_count": 74,
     "metadata": {},
     "output_type": "execute_result"
    }
   ],
   "source": [
    "clf.predict(test)"
   ]
  },
  {
   "cell_type": "code",
   "execution_count": 89,
   "metadata": {},
   "outputs": [
    {
     "data": {
      "text/plain": [
       "array([ 25.69467])"
      ]
     },
     "execution_count": 89,
     "metadata": {},
     "output_type": "execute_result"
    }
   ],
   "source": [
    "clf.predict([[400.,6144,12.288,336,5.2,3072,3.145728]])"
   ]
  },
  {
   "cell_type": "code",
   "execution_count": 125,
   "metadata": {},
   "outputs": [
    {
     "data": {
      "text/plain": [
       "array([ 40.354854])"
      ]
     },
     "execution_count": 125,
     "metadata": {},
     "output_type": "execute_result"
    }
   ],
   "source": [
    "clf.predict([[400.,6000,5,140]]) # Несуществующее устройство :)"
   ]
  },
  {
   "cell_type": "code",
   "execution_count": null,
   "metadata": {},
   "outputs": [],
   "source": []
  }
 ],
 "metadata": {
  "kernelspec": {
   "display_name": "Python 2",
   "language": "python",
   "name": "python2"
  },
  "language_info": {
   "codemirror_mode": {
    "name": "ipython",
    "version": 2
   },
   "file_extension": ".py",
   "mimetype": "text/x-python",
   "name": "python",
   "nbconvert_exporter": "python",
   "pygments_lexer": "ipython2",
   "version": "2.7.11"
  }
 },
 "nbformat": 4,
 "nbformat_minor": 2
}

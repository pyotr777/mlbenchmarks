{
 "cells": [
  {
   "cell_type": "markdown",
   "metadata": {},
   "source": [
    "# Чтение, обработка и сравнение данных из CSV файлов"
   ]
  },
  {
   "cell_type": "code",
   "execution_count": 1,
   "metadata": {
    "collapsed": true
   },
   "outputs": [],
   "source": [
    "%matplotlib inline\n",
    "import re\n",
    "import numpy as np\n",
    "import matplotlib\n",
    "#matplotlib.use(\"Agg\")\n",
    "import matplotlib.pyplot as plt\n",
    "import os.path\n",
    "import datetime\n",
    "from cycler import cycler\n",
    "import pandas as pd"
   ]
  },
  {
   "cell_type": "code",
   "execution_count": 2,
   "metadata": {
    "collapsed": false
   },
   "outputs": [],
   "source": [
    "time_field_index = 0\n",
    "duration_field_index = 1\n",
    "SSMem_field_index = 9\n",
    "DSMem_field_index = 10\n",
    "size_field_index = 11\n",
    "throughput_field_index = 12\n",
    "src_field_index = 13\n",
    "dst_field_index = 14\n",
    "context_index = 16\n",
    "stream_index = 17\n",
    "name_field_index = 18\n",
    "\n",
    "title_pattern = re.compile(\"^(Start|s).*\")\n",
    "cuda_pattern = re.compile(\"\\[CUDA .*\\]\")\n",
    "\n",
    "trace_dir1 = \"Tensorflow-HP\"\n",
    "trace_dir2 = \"HPCG\"\n",
    "#filename1 = \"nvidia-smi-tfhp.csv\"\n",
    "filename1 = \"nvprof-trace-tfhp.csv\"\n",
    "#filename2 = \"nvidia-smi-hpcg.csv\"\n",
    "filename2 = \"nvprof-trace-hpcg.csv\"\n",
    "\n",
    "maxrows = 10000\n",
    "\n",
    "file1 = os.path.join(trace_dir1,filename1)\n",
    "file2 = os.path.join(trace_dir2,filename2)"
   ]
  },
  {
   "cell_type": "code",
   "execution_count": 4,
   "metadata": {
    "collapsed": false
   },
   "outputs": [
    {
     "name": "stdout",
     "output_type": "stream",
     "text": [
      "Reading Tensorflow-HP/nvprof-trace-tfhp.csv HPCG/nvprof-trace-hpcg.csv\n"
     ]
    }
   ],
   "source": [
    "print \"Reading\",file1,file2\n",
    "\n",
    "columns = [time_field_index, duration_field_index,\n",
    "           SSMem_field_index, DSMem_field_index,\n",
    "           size_field_index, throughput_field_index,\n",
    "           src_field_index, dst_field_index,\n",
    "           context_index, stream_index,\n",
    "           name_field_index]\n"
   ]
  },
  {
   "cell_type": "code",
   "execution_count": 22,
   "metadata": {
    "collapsed": false
   },
   "outputs": [
    {
     "name": "stdout",
     "output_type": "stream",
     "text": [
      "Tensorflow-HP/nvprof-trace-tfhp.csv\n"
     ]
    }
   ],
   "source": [
    "print file1\n",
    "df_tf = pd.read_csv(file1, header = 0, usecols = columns, \n",
    "                 skiprows=[0,1,2,4], nrows = maxrows)"
   ]
  },
  {
   "cell_type": "code",
   "execution_count": 23,
   "metadata": {
    "collapsed": false
   },
   "outputs": [
    {
     "name": "stdout",
     "output_type": "stream",
     "text": [
      "HPCG/nvprof-trace-hpcg.csv\n"
     ]
    }
   ],
   "source": [
    "print file2\n",
    "df_hpcg = pd.read_csv(file2, header = 0, usecols = columns, \n",
    "                 skiprows=[0,1,2,4], nrows = maxrows)"
   ]
  },
  {
   "cell_type": "code",
   "execution_count": 24,
   "metadata": {
    "collapsed": false
   },
   "outputs": [
    {
     "data": {
      "text/html": [
       "<div>\n",
       "<style scoped>\n",
       "    .dataframe tbody tr th:only-of-type {\n",
       "        vertical-align: middle;\n",
       "    }\n",
       "\n",
       "    .dataframe tbody tr th {\n",
       "        vertical-align: top;\n",
       "    }\n",
       "\n",
       "    .dataframe thead th {\n",
       "        text-align: right;\n",
       "    }\n",
       "</style>\n",
       "<table border=\"1\" class=\"dataframe\">\n",
       "  <thead>\n",
       "    <tr style=\"text-align: right;\">\n",
       "      <th></th>\n",
       "      <th>Start</th>\n",
       "      <th>Duration</th>\n",
       "      <th>Static SMem</th>\n",
       "      <th>Dynamic SMem</th>\n",
       "      <th>Size</th>\n",
       "      <th>Throughput</th>\n",
       "      <th>SrcMemType</th>\n",
       "      <th>DstMemType</th>\n",
       "      <th>Context</th>\n",
       "      <th>Stream</th>\n",
       "      <th>Name</th>\n",
       "    </tr>\n",
       "  </thead>\n",
       "  <tbody>\n",
       "    <tr>\n",
       "      <th>1000</th>\n",
       "      <td>2.237229</td>\n",
       "      <td>0.003200</td>\n",
       "      <td>0.042969</td>\n",
       "      <td>0.0</td>\n",
       "      <td>NaN</td>\n",
       "      <td>NaN</td>\n",
       "      <td>NaN</td>\n",
       "      <td>NaN</td>\n",
       "      <td>1</td>\n",
       "      <td>14</td>\n",
       "      <td>void tensorflow::functor::BlockReduceKernel&lt;cu...</td>\n",
       "    </tr>\n",
       "    <tr>\n",
       "      <th>1001</th>\n",
       "      <td>2.237236</td>\n",
       "      <td>0.004384</td>\n",
       "      <td>0.000000</td>\n",
       "      <td>0.0</td>\n",
       "      <td>NaN</td>\n",
       "      <td>NaN</td>\n",
       "      <td>NaN</td>\n",
       "      <td>NaN</td>\n",
       "      <td>1</td>\n",
       "      <td>14</td>\n",
       "      <td>void Eigen::internal::EigenMetaKernel&lt;Eigen::T...</td>\n",
       "    </tr>\n",
       "    <tr>\n",
       "      <th>1002</th>\n",
       "      <td>2.237244</td>\n",
       "      <td>0.003904</td>\n",
       "      <td>0.042969</td>\n",
       "      <td>0.0</td>\n",
       "      <td>NaN</td>\n",
       "      <td>NaN</td>\n",
       "      <td>NaN</td>\n",
       "      <td>NaN</td>\n",
       "      <td>1</td>\n",
       "      <td>14</td>\n",
       "      <td>void tensorflow::functor::BlockReduceKernel&lt;cu...</td>\n",
       "    </tr>\n",
       "    <tr>\n",
       "      <th>1003</th>\n",
       "      <td>2.237251</td>\n",
       "      <td>0.003904</td>\n",
       "      <td>0.000000</td>\n",
       "      <td>0.0</td>\n",
       "      <td>NaN</td>\n",
       "      <td>NaN</td>\n",
       "      <td>NaN</td>\n",
       "      <td>NaN</td>\n",
       "      <td>1</td>\n",
       "      <td>14</td>\n",
       "      <td>void tensorflow::functor::CleanupSegments&lt;floa...</td>\n",
       "    </tr>\n",
       "    <tr>\n",
       "      <th>1004</th>\n",
       "      <td>2.237259</td>\n",
       "      <td>0.003232</td>\n",
       "      <td>0.000000</td>\n",
       "      <td>0.0</td>\n",
       "      <td>NaN</td>\n",
       "      <td>NaN</td>\n",
       "      <td>NaN</td>\n",
       "      <td>NaN</td>\n",
       "      <td>1</td>\n",
       "      <td>14</td>\n",
       "      <td>void Eigen::internal::EigenMetaKernel&lt;Eigen::T...</td>\n",
       "    </tr>\n",
       "  </tbody>\n",
       "</table>\n",
       "</div>"
      ],
      "text/plain": [
       "         Start  Duration  Static SMem  Dynamic SMem  Size  Throughput  \\\n",
       "1000  2.237229  0.003200     0.042969           0.0   NaN         NaN   \n",
       "1001  2.237236  0.004384     0.000000           0.0   NaN         NaN   \n",
       "1002  2.237244  0.003904     0.042969           0.0   NaN         NaN   \n",
       "1003  2.237251  0.003904     0.000000           0.0   NaN         NaN   \n",
       "1004  2.237259  0.003232     0.000000           0.0   NaN         NaN   \n",
       "\n",
       "     SrcMemType DstMemType  Context  Stream  \\\n",
       "1000        NaN        NaN        1      14   \n",
       "1001        NaN        NaN        1      14   \n",
       "1002        NaN        NaN        1      14   \n",
       "1003        NaN        NaN        1      14   \n",
       "1004        NaN        NaN        1      14   \n",
       "\n",
       "                                                   Name  \n",
       "1000  void tensorflow::functor::BlockReduceKernel<cu...  \n",
       "1001  void Eigen::internal::EigenMetaKernel<Eigen::T...  \n",
       "1002  void tensorflow::functor::BlockReduceKernel<cu...  \n",
       "1003  void tensorflow::functor::CleanupSegments<floa...  \n",
       "1004  void Eigen::internal::EigenMetaKernel<Eigen::T...  "
      ]
     },
     "execution_count": 24,
     "metadata": {},
     "output_type": "execute_result"
    }
   ],
   "source": [
    "df_tf.iloc[1000:1005]"
   ]
  },
  {
   "cell_type": "code",
   "execution_count": 25,
   "metadata": {
    "collapsed": false
   },
   "outputs": [
    {
     "data": {
      "text/html": [
       "<div>\n",
       "<style scoped>\n",
       "    .dataframe tbody tr th:only-of-type {\n",
       "        vertical-align: middle;\n",
       "    }\n",
       "\n",
       "    .dataframe tbody tr th {\n",
       "        vertical-align: top;\n",
       "    }\n",
       "\n",
       "    .dataframe thead th {\n",
       "        text-align: right;\n",
       "    }\n",
       "</style>\n",
       "<table border=\"1\" class=\"dataframe\">\n",
       "  <thead>\n",
       "    <tr style=\"text-align: right;\">\n",
       "      <th></th>\n",
       "      <th>Start</th>\n",
       "      <th>Duration</th>\n",
       "      <th>Static SMem</th>\n",
       "      <th>Dynamic SMem</th>\n",
       "      <th>Size</th>\n",
       "      <th>Throughput</th>\n",
       "      <th>SrcMemType</th>\n",
       "      <th>DstMemType</th>\n",
       "      <th>Context</th>\n",
       "      <th>Stream</th>\n",
       "      <th>Name</th>\n",
       "    </tr>\n",
       "  </thead>\n",
       "  <tbody>\n",
       "    <tr>\n",
       "      <th>1000</th>\n",
       "      <td>42.373753</td>\n",
       "      <td>0.014848</td>\n",
       "      <td>3.0</td>\n",
       "      <td>0.0</td>\n",
       "      <td>NaN</td>\n",
       "      <td>NaN</td>\n",
       "      <td>NaN</td>\n",
       "      <td>NaN</td>\n",
       "      <td>1</td>\n",
       "      <td>7</td>\n",
       "      <td>trans_kernel(double*, int*, double*, int*) [6255]</td>\n",
       "    </tr>\n",
       "    <tr>\n",
       "      <th>1001</th>\n",
       "      <td>42.373770</td>\n",
       "      <td>0.014944</td>\n",
       "      <td>3.0</td>\n",
       "      <td>0.0</td>\n",
       "      <td>NaN</td>\n",
       "      <td>NaN</td>\n",
       "      <td>NaN</td>\n",
       "      <td>NaN</td>\n",
       "      <td>1</td>\n",
       "      <td>7</td>\n",
       "      <td>trans_kernel(double*, int*, double*, int*) [6261]</td>\n",
       "    </tr>\n",
       "    <tr>\n",
       "      <th>1002</th>\n",
       "      <td>42.373789</td>\n",
       "      <td>0.014688</td>\n",
       "      <td>3.0</td>\n",
       "      <td>0.0</td>\n",
       "      <td>NaN</td>\n",
       "      <td>NaN</td>\n",
       "      <td>NaN</td>\n",
       "      <td>NaN</td>\n",
       "      <td>1</td>\n",
       "      <td>7</td>\n",
       "      <td>trans_kernel(double*, int*, double*, int*) [6267]</td>\n",
       "    </tr>\n",
       "    <tr>\n",
       "      <th>1003</th>\n",
       "      <td>42.373806</td>\n",
       "      <td>0.015104</td>\n",
       "      <td>3.0</td>\n",
       "      <td>0.0</td>\n",
       "      <td>NaN</td>\n",
       "      <td>NaN</td>\n",
       "      <td>NaN</td>\n",
       "      <td>NaN</td>\n",
       "      <td>1</td>\n",
       "      <td>7</td>\n",
       "      <td>trans_kernel(double*, int*, double*, int*) [6273]</td>\n",
       "    </tr>\n",
       "    <tr>\n",
       "      <th>1004</th>\n",
       "      <td>42.373824</td>\n",
       "      <td>0.014752</td>\n",
       "      <td>3.0</td>\n",
       "      <td>0.0</td>\n",
       "      <td>NaN</td>\n",
       "      <td>NaN</td>\n",
       "      <td>NaN</td>\n",
       "      <td>NaN</td>\n",
       "      <td>1</td>\n",
       "      <td>7</td>\n",
       "      <td>trans_kernel(double*, int*, double*, int*) [6279]</td>\n",
       "    </tr>\n",
       "  </tbody>\n",
       "</table>\n",
       "</div>"
      ],
      "text/plain": [
       "          Start  Duration  Static SMem  Dynamic SMem  Size  Throughput  \\\n",
       "1000  42.373753  0.014848          3.0           0.0   NaN         NaN   \n",
       "1001  42.373770  0.014944          3.0           0.0   NaN         NaN   \n",
       "1002  42.373789  0.014688          3.0           0.0   NaN         NaN   \n",
       "1003  42.373806  0.015104          3.0           0.0   NaN         NaN   \n",
       "1004  42.373824  0.014752          3.0           0.0   NaN         NaN   \n",
       "\n",
       "     SrcMemType DstMemType  Context  Stream  \\\n",
       "1000        NaN        NaN        1       7   \n",
       "1001        NaN        NaN        1       7   \n",
       "1002        NaN        NaN        1       7   \n",
       "1003        NaN        NaN        1       7   \n",
       "1004        NaN        NaN        1       7   \n",
       "\n",
       "                                                   Name  \n",
       "1000  trans_kernel(double*, int*, double*, int*) [6255]  \n",
       "1001  trans_kernel(double*, int*, double*, int*) [6261]  \n",
       "1002  trans_kernel(double*, int*, double*, int*) [6267]  \n",
       "1003  trans_kernel(double*, int*, double*, int*) [6273]  \n",
       "1004  trans_kernel(double*, int*, double*, int*) [6279]  "
      ]
     },
     "execution_count": 25,
     "metadata": {},
     "output_type": "execute_result"
    }
   ],
   "source": [
    "df_hpcg.iloc[1000:1005]"
   ]
  },
  {
   "cell_type": "markdown",
   "metadata": {},
   "source": [
    "## Select columns with memory operations"
   ]
  },
  {
   "cell_type": "code",
   "execution_count": 26,
   "metadata": {
    "collapsed": true
   },
   "outputs": [],
   "source": [
    "df_tf_cuda = df_tf.loc[df_tf['Name'].str.contains('\\[CUDA')]\n",
    "df_hpcg_cuda = df_hpcg.loc[df_hpcg['Name'].str.contains('\\[CUDA')]"
   ]
  },
  {
   "cell_type": "code",
   "execution_count": 27,
   "metadata": {
    "collapsed": false
   },
   "outputs": [
    {
     "name": "stderr",
     "output_type": "stream",
     "text": [
      "/usr/local/lib/python2.7/site-packages/ipykernel/__main__.py:1: SettingWithCopyWarning: \n",
      "A value is trying to be set on a copy of a slice from a DataFrame.\n",
      "Try using .loc[row_indexer,col_indexer] = value instead\n",
      "\n",
      "See the caveats in the documentation: http://pandas.pydata.org/pandas-docs/stable/indexing.html#indexing-view-versus-copy\n",
      "  if __name__ == '__main__':\n",
      "/usr/local/lib/python2.7/site-packages/ipykernel/__main__.py:2: SettingWithCopyWarning: \n",
      "A value is trying to be set on a copy of a slice from a DataFrame.\n",
      "Try using .loc[row_indexer,col_indexer] = value instead\n",
      "\n",
      "See the caveats in the documentation: http://pandas.pydata.org/pandas-docs/stable/indexing.html#indexing-view-versus-copy\n",
      "  from ipykernel import kernelapp as app\n"
     ]
    }
   ],
   "source": [
    "df_tf_cuda['FullName'] = df_tf_cuda['Name'] + \" \" + df_tf_cuda['SrcMemType']+df_tf_cuda['DstMemType'].fillna(\"\")\n",
    "df_hpcg_cuda['FullName'] = df_hpcg_cuda['Name'] + \" \" + df_hpcg_cuda['SrcMemType']+df_hpcg_cuda['DstMemType'].fillna(\"\")"
   ]
  },
  {
   "cell_type": "code",
   "execution_count": 28,
   "metadata": {
    "collapsed": false
   },
   "outputs": [
    {
     "data": {
      "text/html": [
       "<div>\n",
       "<style scoped>\n",
       "    .dataframe tbody tr th:only-of-type {\n",
       "        vertical-align: middle;\n",
       "    }\n",
       "\n",
       "    .dataframe tbody tr th {\n",
       "        vertical-align: top;\n",
       "    }\n",
       "\n",
       "    .dataframe thead th {\n",
       "        text-align: right;\n",
       "    }\n",
       "</style>\n",
       "<table border=\"1\" class=\"dataframe\">\n",
       "  <thead>\n",
       "    <tr style=\"text-align: right;\">\n",
       "      <th></th>\n",
       "      <th>Start</th>\n",
       "      <th>Duration</th>\n",
       "      <th>Static SMem</th>\n",
       "      <th>Dynamic SMem</th>\n",
       "      <th>Size</th>\n",
       "      <th>Throughput</th>\n",
       "      <th>SrcMemType</th>\n",
       "      <th>DstMemType</th>\n",
       "      <th>Context</th>\n",
       "      <th>Stream</th>\n",
       "      <th>Name</th>\n",
       "      <th>FullName</th>\n",
       "    </tr>\n",
       "  </thead>\n",
       "  <tbody>\n",
       "    <tr>\n",
       "      <th>0</th>\n",
       "      <td>12.257619</td>\n",
       "      <td>0.002080</td>\n",
       "      <td>NaN</td>\n",
       "      <td>NaN</td>\n",
       "      <td>0.000107</td>\n",
       "      <td>0.050148</td>\n",
       "      <td>Pageable</td>\n",
       "      <td>Device</td>\n",
       "      <td>1</td>\n",
       "      <td>7</td>\n",
       "      <td>[CUDA memcpy HtoD]</td>\n",
       "      <td>[CUDA memcpy HtoD] PageableDevice</td>\n",
       "    </tr>\n",
       "    <tr>\n",
       "      <th>1</th>\n",
       "      <td>17.538188</td>\n",
       "      <td>0.003712</td>\n",
       "      <td>NaN</td>\n",
       "      <td>NaN</td>\n",
       "      <td>0.000004</td>\n",
       "      <td>0.001004</td>\n",
       "      <td>Device</td>\n",
       "      <td>NaN</td>\n",
       "      <td>1</td>\n",
       "      <td>7</td>\n",
       "      <td>[CUDA memset]</td>\n",
       "      <td>[CUDA memset] Device</td>\n",
       "    </tr>\n",
       "    <tr>\n",
       "      <th>3</th>\n",
       "      <td>17.557663</td>\n",
       "      <td>0.003168</td>\n",
       "      <td>NaN</td>\n",
       "      <td>NaN</td>\n",
       "      <td>0.000004</td>\n",
       "      <td>0.001176</td>\n",
       "      <td>Device</td>\n",
       "      <td>Pageable</td>\n",
       "      <td>1</td>\n",
       "      <td>7</td>\n",
       "      <td>[CUDA memcpy DtoH]</td>\n",
       "      <td>[CUDA memcpy DtoH] DevicePageable</td>\n",
       "    </tr>\n",
       "    <tr>\n",
       "      <th>4</th>\n",
       "      <td>17.564471</td>\n",
       "      <td>0.004256</td>\n",
       "      <td>NaN</td>\n",
       "      <td>NaN</td>\n",
       "      <td>0.000103</td>\n",
       "      <td>0.023633</td>\n",
       "      <td>Device</td>\n",
       "      <td>NaN</td>\n",
       "      <td>1</td>\n",
       "      <td>7</td>\n",
       "      <td>[CUDA memset]</td>\n",
       "      <td>[CUDA memset] Device</td>\n",
       "    </tr>\n",
       "    <tr>\n",
       "      <th>5</th>\n",
       "      <td>17.564478</td>\n",
       "      <td>0.002432</td>\n",
       "      <td>NaN</td>\n",
       "      <td>NaN</td>\n",
       "      <td>0.000103</td>\n",
       "      <td>0.041358</td>\n",
       "      <td>Device</td>\n",
       "      <td>NaN</td>\n",
       "      <td>1</td>\n",
       "      <td>7</td>\n",
       "      <td>[CUDA memset]</td>\n",
       "      <td>[CUDA memset] Device</td>\n",
       "    </tr>\n",
       "  </tbody>\n",
       "</table>\n",
       "</div>"
      ],
      "text/plain": [
       "       Start  Duration  Static SMem  Dynamic SMem      Size  Throughput  \\\n",
       "0  12.257619  0.002080          NaN           NaN  0.000107    0.050148   \n",
       "1  17.538188  0.003712          NaN           NaN  0.000004    0.001004   \n",
       "3  17.557663  0.003168          NaN           NaN  0.000004    0.001176   \n",
       "4  17.564471  0.004256          NaN           NaN  0.000103    0.023633   \n",
       "5  17.564478  0.002432          NaN           NaN  0.000103    0.041358   \n",
       "\n",
       "  SrcMemType DstMemType  Context  Stream                Name  \\\n",
       "0   Pageable     Device        1       7  [CUDA memcpy HtoD]   \n",
       "1     Device        NaN        1       7       [CUDA memset]   \n",
       "3     Device   Pageable        1       7  [CUDA memcpy DtoH]   \n",
       "4     Device        NaN        1       7       [CUDA memset]   \n",
       "5     Device        NaN        1       7       [CUDA memset]   \n",
       "\n",
       "                            FullName  \n",
       "0  [CUDA memcpy HtoD] PageableDevice  \n",
       "1               [CUDA memset] Device  \n",
       "3  [CUDA memcpy DtoH] DevicePageable  \n",
       "4               [CUDA memset] Device  \n",
       "5               [CUDA memset] Device  "
      ]
     },
     "execution_count": 28,
     "metadata": {},
     "output_type": "execute_result"
    }
   ],
   "source": [
    "df_hpcg_cuda.iloc[:5]"
   ]
  },
  {
   "cell_type": "code",
   "execution_count": 29,
   "metadata": {
    "collapsed": false
   },
   "outputs": [],
   "source": [
    "def mergeColumnNames(df_org):\n",
    "    df = df_org.pivot(index = 'Start', columns = 'FullName', \n",
    "                         values = 'Throughput')\n",
    "    df = df.fillna(0)  # Fill empty cells with 0-s\n",
    "    return df\n",
    "#df_tf_throughput.iloc[:10]"
   ]
  },
  {
   "cell_type": "code",
   "execution_count": 56,
   "metadata": {
    "collapsed": true
   },
   "outputs": [],
   "source": [
    "df_tf_throughput = mergeColumnNames(df_tf_cuda)\n",
    "df_hpcg_throughput = mergeColumnNames(df_hpcg_cuda)"
   ]
  },
  {
   "cell_type": "code",
   "execution_count": 57,
   "metadata": {
    "collapsed": false
   },
   "outputs": [
    {
     "data": {
      "text/html": [
       "<div>\n",
       "<style scoped>\n",
       "    .dataframe tbody tr th:only-of-type {\n",
       "        vertical-align: middle;\n",
       "    }\n",
       "\n",
       "    .dataframe tbody tr th {\n",
       "        vertical-align: top;\n",
       "    }\n",
       "\n",
       "    .dataframe thead th {\n",
       "        text-align: right;\n",
       "    }\n",
       "</style>\n",
       "<table border=\"1\" class=\"dataframe\">\n",
       "  <thead>\n",
       "    <tr style=\"text-align: right;\">\n",
       "      <th>FullName</th>\n",
       "      <th>[CUDA memcpy DtoD] DeviceDevice</th>\n",
       "      <th>[CUDA memcpy DtoH] DevicePageable</th>\n",
       "      <th>[CUDA memcpy DtoH] DevicePinned</th>\n",
       "      <th>[CUDA memcpy HtoD] PageableDevice</th>\n",
       "      <th>[CUDA memcpy HtoD] PinnedDevice</th>\n",
       "      <th>[CUDA memset] Device</th>\n",
       "    </tr>\n",
       "    <tr>\n",
       "      <th>Start</th>\n",
       "      <th></th>\n",
       "      <th></th>\n",
       "      <th></th>\n",
       "      <th></th>\n",
       "      <th></th>\n",
       "      <th></th>\n",
       "    </tr>\n",
       "  </thead>\n",
       "  <tbody>\n",
       "    <tr>\n",
       "      <th>12.257619</th>\n",
       "      <td>0.0</td>\n",
       "      <td>0.000000</td>\n",
       "      <td>0.0</td>\n",
       "      <td>0.050148</td>\n",
       "      <td>0.0</td>\n",
       "      <td>0.000000</td>\n",
       "    </tr>\n",
       "    <tr>\n",
       "      <th>17.538188</th>\n",
       "      <td>0.0</td>\n",
       "      <td>0.000000</td>\n",
       "      <td>0.0</td>\n",
       "      <td>0.000000</td>\n",
       "      <td>0.0</td>\n",
       "      <td>0.001004</td>\n",
       "    </tr>\n",
       "    <tr>\n",
       "      <th>17.557663</th>\n",
       "      <td>0.0</td>\n",
       "      <td>0.001176</td>\n",
       "      <td>0.0</td>\n",
       "      <td>0.000000</td>\n",
       "      <td>0.0</td>\n",
       "      <td>0.000000</td>\n",
       "    </tr>\n",
       "    <tr>\n",
       "      <th>17.564471</th>\n",
       "      <td>0.0</td>\n",
       "      <td>0.000000</td>\n",
       "      <td>0.0</td>\n",
       "      <td>0.000000</td>\n",
       "      <td>0.0</td>\n",
       "      <td>0.023633</td>\n",
       "    </tr>\n",
       "    <tr>\n",
       "      <th>17.564478</th>\n",
       "      <td>0.0</td>\n",
       "      <td>0.000000</td>\n",
       "      <td>0.0</td>\n",
       "      <td>0.000000</td>\n",
       "      <td>0.0</td>\n",
       "      <td>0.041358</td>\n",
       "    </tr>\n",
       "  </tbody>\n",
       "</table>\n",
       "</div>"
      ],
      "text/plain": [
       "FullName   [CUDA memcpy DtoD] DeviceDevice  [CUDA memcpy DtoH] DevicePageable  \\\n",
       "Start                                                                           \n",
       "12.257619                              0.0                           0.000000   \n",
       "17.538188                              0.0                           0.000000   \n",
       "17.557663                              0.0                           0.001176   \n",
       "17.564471                              0.0                           0.000000   \n",
       "17.564478                              0.0                           0.000000   \n",
       "\n",
       "FullName   [CUDA memcpy DtoH] DevicePinned  [CUDA memcpy HtoD] PageableDevice  \\\n",
       "Start                                                                           \n",
       "12.257619                              0.0                           0.050148   \n",
       "17.538188                              0.0                           0.000000   \n",
       "17.557663                              0.0                           0.000000   \n",
       "17.564471                              0.0                           0.000000   \n",
       "17.564478                              0.0                           0.000000   \n",
       "\n",
       "FullName   [CUDA memcpy HtoD] PinnedDevice  [CUDA memset] Device  \n",
       "Start                                                             \n",
       "12.257619                              0.0              0.000000  \n",
       "17.538188                              0.0              0.001004  \n",
       "17.557663                              0.0              0.000000  \n",
       "17.564471                              0.0              0.023633  \n",
       "17.564478                              0.0              0.041358  "
      ]
     },
     "execution_count": 57,
     "metadata": {},
     "output_type": "execute_result"
    }
   ],
   "source": [
    "df_hpcg_throughput.iloc[:5]"
   ]
  },
  {
   "cell_type": "code",
   "execution_count": 58,
   "metadata": {
    "collapsed": false
   },
   "outputs": [
    {
     "data": {
      "text/html": [
       "<div>\n",
       "<style scoped>\n",
       "    .dataframe tbody tr th:only-of-type {\n",
       "        vertical-align: middle;\n",
       "    }\n",
       "\n",
       "    .dataframe tbody tr th {\n",
       "        vertical-align: top;\n",
       "    }\n",
       "\n",
       "    .dataframe thead th {\n",
       "        text-align: right;\n",
       "    }\n",
       "</style>\n",
       "<table border=\"1\" class=\"dataframe\">\n",
       "  <thead>\n",
       "    <tr style=\"text-align: right;\">\n",
       "      <th>FullName</th>\n",
       "      <th>[CUDA memcpy DtoD] DeviceDevice</th>\n",
       "      <th>[CUDA memcpy DtoH] DevicePinned</th>\n",
       "      <th>[CUDA memcpy HtoD] PageableDevice</th>\n",
       "      <th>[CUDA memcpy HtoD] PinnedDevice</th>\n",
       "      <th>[CUDA memset] Device</th>\n",
       "    </tr>\n",
       "    <tr>\n",
       "      <th>Start</th>\n",
       "      <th></th>\n",
       "      <th></th>\n",
       "      <th></th>\n",
       "      <th></th>\n",
       "      <th></th>\n",
       "    </tr>\n",
       "  </thead>\n",
       "  <tbody>\n",
       "    <tr>\n",
       "      <th>0.817201</th>\n",
       "      <td>0.0</td>\n",
       "      <td>0.0</td>\n",
       "      <td>0.0</td>\n",
       "      <td>0.000000</td>\n",
       "      <td>0.231928</td>\n",
       "    </tr>\n",
       "    <tr>\n",
       "      <th>1.201508</th>\n",
       "      <td>0.0</td>\n",
       "      <td>0.0</td>\n",
       "      <td>0.0</td>\n",
       "      <td>0.946105</td>\n",
       "      <td>0.000000</td>\n",
       "    </tr>\n",
       "    <tr>\n",
       "      <th>1.201676</th>\n",
       "      <td>0.0</td>\n",
       "      <td>0.0</td>\n",
       "      <td>0.0</td>\n",
       "      <td>0.002985</td>\n",
       "      <td>0.000000</td>\n",
       "    </tr>\n",
       "    <tr>\n",
       "      <th>1.201812</th>\n",
       "      <td>0.0</td>\n",
       "      <td>0.0</td>\n",
       "      <td>0.0</td>\n",
       "      <td>0.002985</td>\n",
       "      <td>0.000000</td>\n",
       "    </tr>\n",
       "    <tr>\n",
       "      <th>1.201944</th>\n",
       "      <td>0.0</td>\n",
       "      <td>0.0</td>\n",
       "      <td>0.0</td>\n",
       "      <td>0.186265</td>\n",
       "      <td>0.000000</td>\n",
       "    </tr>\n",
       "  </tbody>\n",
       "</table>\n",
       "</div>"
      ],
      "text/plain": [
       "FullName  [CUDA memcpy DtoD] DeviceDevice  [CUDA memcpy DtoH] DevicePinned  \\\n",
       "Start                                                                        \n",
       "0.817201                              0.0                              0.0   \n",
       "1.201508                              0.0                              0.0   \n",
       "1.201676                              0.0                              0.0   \n",
       "1.201812                              0.0                              0.0   \n",
       "1.201944                              0.0                              0.0   \n",
       "\n",
       "FullName  [CUDA memcpy HtoD] PageableDevice  [CUDA memcpy HtoD] PinnedDevice  \\\n",
       "Start                                                                          \n",
       "0.817201                                0.0                         0.000000   \n",
       "1.201508                                0.0                         0.946105   \n",
       "1.201676                                0.0                         0.002985   \n",
       "1.201812                                0.0                         0.002985   \n",
       "1.201944                                0.0                         0.186265   \n",
       "\n",
       "FullName  [CUDA memset] Device  \n",
       "Start                           \n",
       "0.817201              0.231928  \n",
       "1.201508              0.000000  \n",
       "1.201676              0.000000  \n",
       "1.201812              0.000000  \n",
       "1.201944              0.000000  "
      ]
     },
     "execution_count": 58,
     "metadata": {},
     "output_type": "execute_result"
    }
   ],
   "source": [
    "df_tf_throughput.iloc[:5]"
   ]
  },
  {
   "cell_type": "code",
   "execution_count": 59,
   "metadata": {
    "collapsed": true
   },
   "outputs": [],
   "source": [
    "def appendMaxValues2ColumnNames(df,series):\n",
    "    cols = len(df.columns)\n",
    "    col_names = []\n",
    "    for i in range(0,cols):\n",
    "        col_names.append(series+df.columns[i]+\" \" +str(df.iloc[:,i].max()))\n",
    "    df.columns = col_names\n",
    "    return df"
   ]
  },
  {
   "cell_type": "code",
   "execution_count": 60,
   "metadata": {
    "collapsed": false
   },
   "outputs": [],
   "source": [
    "df_tf_throughput = appendMaxValues2ColumnNames(df_tf_throughput,\"TF\")\n",
    "df_hpcg_throughput = appendMaxValues2ColumnNames(df_hpcg_throughput,\"HPCG\")"
   ]
  },
  {
   "cell_type": "code",
   "execution_count": 61,
   "metadata": {
    "collapsed": false
   },
   "outputs": [
    {
     "data": {
      "text/html": [
       "<div>\n",
       "<style scoped>\n",
       "    .dataframe tbody tr th:only-of-type {\n",
       "        vertical-align: middle;\n",
       "    }\n",
       "\n",
       "    .dataframe tbody tr th {\n",
       "        vertical-align: top;\n",
       "    }\n",
       "\n",
       "    .dataframe thead th {\n",
       "        text-align: right;\n",
       "    }\n",
       "</style>\n",
       "<table border=\"1\" class=\"dataframe\">\n",
       "  <thead>\n",
       "    <tr style=\"text-align: right;\">\n",
       "      <th></th>\n",
       "      <th>HPCG[CUDA memcpy DtoD] DeviceDevice 91.920416</th>\n",
       "      <th>HPCG[CUDA memcpy DtoH] DevicePageable 8.030909</th>\n",
       "      <th>HPCG[CUDA memcpy DtoH] DevicePinned 12.210065</th>\n",
       "      <th>HPCG[CUDA memcpy HtoD] PageableDevice 6.859424</th>\n",
       "      <th>HPCG[CUDA memcpy HtoD] PinnedDevice 11.319035</th>\n",
       "      <th>HPCG[CUDA memset] Device 18084.490741</th>\n",
       "    </tr>\n",
       "    <tr>\n",
       "      <th>Start</th>\n",
       "      <th></th>\n",
       "      <th></th>\n",
       "      <th></th>\n",
       "      <th></th>\n",
       "      <th></th>\n",
       "      <th></th>\n",
       "    </tr>\n",
       "  </thead>\n",
       "  <tbody>\n",
       "    <tr>\n",
       "      <th>12.257619</th>\n",
       "      <td>0.0</td>\n",
       "      <td>0.000000</td>\n",
       "      <td>0.0</td>\n",
       "      <td>0.050148</td>\n",
       "      <td>0.0</td>\n",
       "      <td>0.000000</td>\n",
       "    </tr>\n",
       "    <tr>\n",
       "      <th>17.538188</th>\n",
       "      <td>0.0</td>\n",
       "      <td>0.000000</td>\n",
       "      <td>0.0</td>\n",
       "      <td>0.000000</td>\n",
       "      <td>0.0</td>\n",
       "      <td>0.001004</td>\n",
       "    </tr>\n",
       "    <tr>\n",
       "      <th>17.557663</th>\n",
       "      <td>0.0</td>\n",
       "      <td>0.001176</td>\n",
       "      <td>0.0</td>\n",
       "      <td>0.000000</td>\n",
       "      <td>0.0</td>\n",
       "      <td>0.000000</td>\n",
       "    </tr>\n",
       "    <tr>\n",
       "      <th>17.564471</th>\n",
       "      <td>0.0</td>\n",
       "      <td>0.000000</td>\n",
       "      <td>0.0</td>\n",
       "      <td>0.000000</td>\n",
       "      <td>0.0</td>\n",
       "      <td>0.023633</td>\n",
       "    </tr>\n",
       "    <tr>\n",
       "      <th>17.564478</th>\n",
       "      <td>0.0</td>\n",
       "      <td>0.000000</td>\n",
       "      <td>0.0</td>\n",
       "      <td>0.000000</td>\n",
       "      <td>0.0</td>\n",
       "      <td>0.041358</td>\n",
       "    </tr>\n",
       "  </tbody>\n",
       "</table>\n",
       "</div>"
      ],
      "text/plain": [
       "           HPCG[CUDA memcpy DtoD] DeviceDevice 91.920416  \\\n",
       "Start                                                      \n",
       "12.257619                                            0.0   \n",
       "17.538188                                            0.0   \n",
       "17.557663                                            0.0   \n",
       "17.564471                                            0.0   \n",
       "17.564478                                            0.0   \n",
       "\n",
       "           HPCG[CUDA memcpy DtoH] DevicePageable 8.030909  \\\n",
       "Start                                                       \n",
       "12.257619                                        0.000000   \n",
       "17.538188                                        0.000000   \n",
       "17.557663                                        0.001176   \n",
       "17.564471                                        0.000000   \n",
       "17.564478                                        0.000000   \n",
       "\n",
       "           HPCG[CUDA memcpy DtoH] DevicePinned 12.210065  \\\n",
       "Start                                                      \n",
       "12.257619                                            0.0   \n",
       "17.538188                                            0.0   \n",
       "17.557663                                            0.0   \n",
       "17.564471                                            0.0   \n",
       "17.564478                                            0.0   \n",
       "\n",
       "           HPCG[CUDA memcpy HtoD] PageableDevice 6.859424  \\\n",
       "Start                                                       \n",
       "12.257619                                        0.050148   \n",
       "17.538188                                        0.000000   \n",
       "17.557663                                        0.000000   \n",
       "17.564471                                        0.000000   \n",
       "17.564478                                        0.000000   \n",
       "\n",
       "           HPCG[CUDA memcpy HtoD] PinnedDevice 11.319035  \\\n",
       "Start                                                      \n",
       "12.257619                                            0.0   \n",
       "17.538188                                            0.0   \n",
       "17.557663                                            0.0   \n",
       "17.564471                                            0.0   \n",
       "17.564478                                            0.0   \n",
       "\n",
       "           HPCG[CUDA memset] Device 18084.490741  \n",
       "Start                                             \n",
       "12.257619                               0.000000  \n",
       "17.538188                               0.001004  \n",
       "17.557663                               0.000000  \n",
       "17.564471                               0.023633  \n",
       "17.564478                               0.041358  "
      ]
     },
     "execution_count": 61,
     "metadata": {},
     "output_type": "execute_result"
    }
   ],
   "source": [
    "df_hpcg_throughput.iloc[:5]"
   ]
  },
  {
   "cell_type": "code",
   "execution_count": 62,
   "metadata": {
    "collapsed": true
   },
   "outputs": [],
   "source": [
    "plt.rcParams['figure.figsize'] = 12,8"
   ]
  },
  {
   "cell_type": "code",
   "execution_count": 63,
   "metadata": {
    "collapsed": true
   },
   "outputs": [],
   "source": [
    "df_full = pd.concat([df_tf_throughput,df_hpcg_throughput], axis = 1)"
   ]
  },
  {
   "cell_type": "code",
   "execution_count": 64,
   "metadata": {
    "collapsed": false
   },
   "outputs": [
    {
     "data": {
      "text/html": [
       "<div>\n",
       "<style scoped>\n",
       "    .dataframe tbody tr th:only-of-type {\n",
       "        vertical-align: middle;\n",
       "    }\n",
       "\n",
       "    .dataframe tbody tr th {\n",
       "        vertical-align: top;\n",
       "    }\n",
       "\n",
       "    .dataframe thead th {\n",
       "        text-align: right;\n",
       "    }\n",
       "</style>\n",
       "<table border=\"1\" class=\"dataframe\">\n",
       "  <thead>\n",
       "    <tr style=\"text-align: right;\">\n",
       "      <th></th>\n",
       "      <th>TF[CUDA memcpy DtoD] DeviceDevice 47.609326</th>\n",
       "      <th>TF[CUDA memcpy DtoH] DevicePinned 0.005725</th>\n",
       "      <th>TF[CUDA memcpy HtoD] PageableDevice 0.05174</th>\n",
       "      <th>TF[CUDA memcpy HtoD] PinnedDevice 2.457923</th>\n",
       "      <th>TF[CUDA memset] Device 9155.273438</th>\n",
       "      <th>HPCG[CUDA memcpy DtoD] DeviceDevice 91.920416</th>\n",
       "      <th>HPCG[CUDA memcpy DtoH] DevicePageable 8.030909</th>\n",
       "      <th>HPCG[CUDA memcpy DtoH] DevicePinned 12.210065</th>\n",
       "      <th>HPCG[CUDA memcpy HtoD] PageableDevice 6.859424</th>\n",
       "      <th>HPCG[CUDA memcpy HtoD] PinnedDevice 11.319035</th>\n",
       "      <th>HPCG[CUDA memset] Device 18084.490741</th>\n",
       "    </tr>\n",
       "    <tr>\n",
       "      <th>Start</th>\n",
       "      <th></th>\n",
       "      <th></th>\n",
       "      <th></th>\n",
       "      <th></th>\n",
       "      <th></th>\n",
       "      <th></th>\n",
       "      <th></th>\n",
       "      <th></th>\n",
       "      <th></th>\n",
       "      <th></th>\n",
       "      <th></th>\n",
       "    </tr>\n",
       "  </thead>\n",
       "  <tbody>\n",
       "    <tr>\n",
       "      <th>0.817201</th>\n",
       "      <td>0.0</td>\n",
       "      <td>0.0</td>\n",
       "      <td>0.0</td>\n",
       "      <td>0.000000</td>\n",
       "      <td>0.231928</td>\n",
       "      <td>NaN</td>\n",
       "      <td>NaN</td>\n",
       "      <td>NaN</td>\n",
       "      <td>NaN</td>\n",
       "      <td>NaN</td>\n",
       "      <td>NaN</td>\n",
       "    </tr>\n",
       "    <tr>\n",
       "      <th>1.201508</th>\n",
       "      <td>0.0</td>\n",
       "      <td>0.0</td>\n",
       "      <td>0.0</td>\n",
       "      <td>0.946105</td>\n",
       "      <td>0.000000</td>\n",
       "      <td>NaN</td>\n",
       "      <td>NaN</td>\n",
       "      <td>NaN</td>\n",
       "      <td>NaN</td>\n",
       "      <td>NaN</td>\n",
       "      <td>NaN</td>\n",
       "    </tr>\n",
       "    <tr>\n",
       "      <th>1.201676</th>\n",
       "      <td>0.0</td>\n",
       "      <td>0.0</td>\n",
       "      <td>0.0</td>\n",
       "      <td>0.002985</td>\n",
       "      <td>0.000000</td>\n",
       "      <td>NaN</td>\n",
       "      <td>NaN</td>\n",
       "      <td>NaN</td>\n",
       "      <td>NaN</td>\n",
       "      <td>NaN</td>\n",
       "      <td>NaN</td>\n",
       "    </tr>\n",
       "    <tr>\n",
       "      <th>1.201812</th>\n",
       "      <td>0.0</td>\n",
       "      <td>0.0</td>\n",
       "      <td>0.0</td>\n",
       "      <td>0.002985</td>\n",
       "      <td>0.000000</td>\n",
       "      <td>NaN</td>\n",
       "      <td>NaN</td>\n",
       "      <td>NaN</td>\n",
       "      <td>NaN</td>\n",
       "      <td>NaN</td>\n",
       "      <td>NaN</td>\n",
       "    </tr>\n",
       "    <tr>\n",
       "      <th>1.201944</th>\n",
       "      <td>0.0</td>\n",
       "      <td>0.0</td>\n",
       "      <td>0.0</td>\n",
       "      <td>0.186265</td>\n",
       "      <td>0.000000</td>\n",
       "      <td>NaN</td>\n",
       "      <td>NaN</td>\n",
       "      <td>NaN</td>\n",
       "      <td>NaN</td>\n",
       "      <td>NaN</td>\n",
       "      <td>NaN</td>\n",
       "    </tr>\n",
       "  </tbody>\n",
       "</table>\n",
       "</div>"
      ],
      "text/plain": [
       "          TF[CUDA memcpy DtoD] DeviceDevice 47.609326  \\\n",
       "Start                                                   \n",
       "0.817201                                          0.0   \n",
       "1.201508                                          0.0   \n",
       "1.201676                                          0.0   \n",
       "1.201812                                          0.0   \n",
       "1.201944                                          0.0   \n",
       "\n",
       "          TF[CUDA memcpy DtoH] DevicePinned 0.005725  \\\n",
       "Start                                                  \n",
       "0.817201                                         0.0   \n",
       "1.201508                                         0.0   \n",
       "1.201676                                         0.0   \n",
       "1.201812                                         0.0   \n",
       "1.201944                                         0.0   \n",
       "\n",
       "          TF[CUDA memcpy HtoD] PageableDevice 0.05174  \\\n",
       "Start                                                   \n",
       "0.817201                                          0.0   \n",
       "1.201508                                          0.0   \n",
       "1.201676                                          0.0   \n",
       "1.201812                                          0.0   \n",
       "1.201944                                          0.0   \n",
       "\n",
       "          TF[CUDA memcpy HtoD] PinnedDevice 2.457923  \\\n",
       "Start                                                  \n",
       "0.817201                                    0.000000   \n",
       "1.201508                                    0.946105   \n",
       "1.201676                                    0.002985   \n",
       "1.201812                                    0.002985   \n",
       "1.201944                                    0.186265   \n",
       "\n",
       "          TF[CUDA memset] Device 9155.273438  \\\n",
       "Start                                          \n",
       "0.817201                            0.231928   \n",
       "1.201508                            0.000000   \n",
       "1.201676                            0.000000   \n",
       "1.201812                            0.000000   \n",
       "1.201944                            0.000000   \n",
       "\n",
       "          HPCG[CUDA memcpy DtoD] DeviceDevice 91.920416  \\\n",
       "Start                                                     \n",
       "0.817201                                            NaN   \n",
       "1.201508                                            NaN   \n",
       "1.201676                                            NaN   \n",
       "1.201812                                            NaN   \n",
       "1.201944                                            NaN   \n",
       "\n",
       "          HPCG[CUDA memcpy DtoH] DevicePageable 8.030909  \\\n",
       "Start                                                      \n",
       "0.817201                                             NaN   \n",
       "1.201508                                             NaN   \n",
       "1.201676                                             NaN   \n",
       "1.201812                                             NaN   \n",
       "1.201944                                             NaN   \n",
       "\n",
       "          HPCG[CUDA memcpy DtoH] DevicePinned 12.210065  \\\n",
       "Start                                                     \n",
       "0.817201                                            NaN   \n",
       "1.201508                                            NaN   \n",
       "1.201676                                            NaN   \n",
       "1.201812                                            NaN   \n",
       "1.201944                                            NaN   \n",
       "\n",
       "          HPCG[CUDA memcpy HtoD] PageableDevice 6.859424  \\\n",
       "Start                                                      \n",
       "0.817201                                             NaN   \n",
       "1.201508                                             NaN   \n",
       "1.201676                                             NaN   \n",
       "1.201812                                             NaN   \n",
       "1.201944                                             NaN   \n",
       "\n",
       "          HPCG[CUDA memcpy HtoD] PinnedDevice 11.319035  \\\n",
       "Start                                                     \n",
       "0.817201                                            NaN   \n",
       "1.201508                                            NaN   \n",
       "1.201676                                            NaN   \n",
       "1.201812                                            NaN   \n",
       "1.201944                                            NaN   \n",
       "\n",
       "          HPCG[CUDA memset] Device 18084.490741  \n",
       "Start                                            \n",
       "0.817201                                    NaN  \n",
       "1.201508                                    NaN  \n",
       "1.201676                                    NaN  \n",
       "1.201812                                    NaN  \n",
       "1.201944                                    NaN  "
      ]
     },
     "execution_count": 64,
     "metadata": {},
     "output_type": "execute_result"
    }
   ],
   "source": [
    "df_full.iloc[:5]"
   ]
  },
  {
   "cell_type": "code",
   "execution_count": 66,
   "metadata": {
    "collapsed": false
   },
   "outputs": [
    {
     "data": {
      "text/plain": [
       "<matplotlib.axes._subplots.AxesSubplot at 0x109584310>"
      ]
     },
     "execution_count": 66,
     "metadata": {},
     "output_type": "execute_result"
    },
    {
     "data": {
      "image/png": "[encoded data removed]",
      "text/plain": [
       "<matplotlib.figure.Figure at 0x10b3244d0>"
      ]
     },
     "metadata": {},
     "output_type": "display_data"
    }
   ],
   "source": [
    "df_full.plot.box(logy = True, grid = True, rot=90)"
   ]
  },
  {
   "cell_type": "markdown",
   "metadata": {},
   "source": [
    "### Split df_throughput into 2 dataframes for plotting based on max values"
   ]
  },
  {
   "cell_type": "code",
   "execution_count": 98,
   "metadata": {
    "collapsed": false
   },
   "outputs": [],
   "source": [
    "colD2D = [df_full.columns[0],df_full.columns[5]]\n",
    "colmemset = [df_full.columns[4],df_full.columns[10]]\n",
    "colHD1 = df_full.columns[1:4]\n",
    "colHD2 = df_full.columns[6:10]\n",
    "df_1 = df_full[colD2D].fillna(0)\n",
    "df_2 = df_full[colmemset].fillna(0)\n",
    "df_3 = df_full[colHD1 | colHD2].fillna(0)"
   ]
  },
  {
   "cell_type": "code",
   "execution_count": 99,
   "metadata": {
    "collapsed": false
   },
   "outputs": [
    {
     "data": {
      "text/html": [
       "<div>\n",
       "<style scoped>\n",
       "    .dataframe tbody tr th:only-of-type {\n",
       "        vertical-align: middle;\n",
       "    }\n",
       "\n",
       "    .dataframe tbody tr th {\n",
       "        vertical-align: top;\n",
       "    }\n",
       "\n",
       "    .dataframe thead th {\n",
       "        text-align: right;\n",
       "    }\n",
       "</style>\n",
       "<table border=\"1\" class=\"dataframe\">\n",
       "  <thead>\n",
       "    <tr style=\"text-align: right;\">\n",
       "      <th></th>\n",
       "      <th>TF[CUDA memcpy DtoD] DeviceDevice 47.609326</th>\n",
       "      <th>HPCG[CUDA memcpy DtoD] DeviceDevice 91.920416</th>\n",
       "    </tr>\n",
       "    <tr>\n",
       "      <th>Start</th>\n",
       "      <th></th>\n",
       "      <th></th>\n",
       "    </tr>\n",
       "  </thead>\n",
       "  <tbody>\n",
       "    <tr>\n",
       "      <th>0.817201</th>\n",
       "      <td>0.0</td>\n",
       "      <td>0.0</td>\n",
       "    </tr>\n",
       "    <tr>\n",
       "      <th>1.201508</th>\n",
       "      <td>0.0</td>\n",
       "      <td>0.0</td>\n",
       "    </tr>\n",
       "    <tr>\n",
       "      <th>1.201676</th>\n",
       "      <td>0.0</td>\n",
       "      <td>0.0</td>\n",
       "    </tr>\n",
       "  </tbody>\n",
       "</table>\n",
       "</div>"
      ],
      "text/plain": [
       "          TF[CUDA memcpy DtoD] DeviceDevice 47.609326  \\\n",
       "Start                                                   \n",
       "0.817201                                          0.0   \n",
       "1.201508                                          0.0   \n",
       "1.201676                                          0.0   \n",
       "\n",
       "          HPCG[CUDA memcpy DtoD] DeviceDevice 91.920416  \n",
       "Start                                                    \n",
       "0.817201                                            0.0  \n",
       "1.201508                                            0.0  \n",
       "1.201676                                            0.0  "
      ]
     },
     "execution_count": 99,
     "metadata": {},
     "output_type": "execute_result"
    }
   ],
   "source": [
    "df_1.iloc[:3]"
   ]
  },
  {
   "cell_type": "code",
   "execution_count": 100,
   "metadata": {
    "collapsed": false
   },
   "outputs": [
    {
     "data": {
      "text/html": [
       "<div>\n",
       "<style scoped>\n",
       "    .dataframe tbody tr th:only-of-type {\n",
       "        vertical-align: middle;\n",
       "    }\n",
       "\n",
       "    .dataframe tbody tr th {\n",
       "        vertical-align: top;\n",
       "    }\n",
       "\n",
       "    .dataframe thead th {\n",
       "        text-align: right;\n",
       "    }\n",
       "</style>\n",
       "<table border=\"1\" class=\"dataframe\">\n",
       "  <thead>\n",
       "    <tr style=\"text-align: right;\">\n",
       "      <th></th>\n",
       "      <th>TF[CUDA memset] Device 9155.273438</th>\n",
       "      <th>HPCG[CUDA memset] Device 18084.490741</th>\n",
       "    </tr>\n",
       "    <tr>\n",
       "      <th>Start</th>\n",
       "      <th></th>\n",
       "      <th></th>\n",
       "    </tr>\n",
       "  </thead>\n",
       "  <tbody>\n",
       "    <tr>\n",
       "      <th>0.817201</th>\n",
       "      <td>0.231928</td>\n",
       "      <td>0.0</td>\n",
       "    </tr>\n",
       "    <tr>\n",
       "      <th>1.201508</th>\n",
       "      <td>0.000000</td>\n",
       "      <td>0.0</td>\n",
       "    </tr>\n",
       "    <tr>\n",
       "      <th>1.201676</th>\n",
       "      <td>0.000000</td>\n",
       "      <td>0.0</td>\n",
       "    </tr>\n",
       "  </tbody>\n",
       "</table>\n",
       "</div>"
      ],
      "text/plain": [
       "          TF[CUDA memset] Device 9155.273438  \\\n",
       "Start                                          \n",
       "0.817201                            0.231928   \n",
       "1.201508                            0.000000   \n",
       "1.201676                            0.000000   \n",
       "\n",
       "          HPCG[CUDA memset] Device 18084.490741  \n",
       "Start                                            \n",
       "0.817201                                    0.0  \n",
       "1.201508                                    0.0  \n",
       "1.201676                                    0.0  "
      ]
     },
     "execution_count": 100,
     "metadata": {},
     "output_type": "execute_result"
    }
   ],
   "source": [
    "df_2.iloc[:3]"
   ]
  },
  {
   "cell_type": "code",
   "execution_count": 101,
   "metadata": {
    "collapsed": false
   },
   "outputs": [
    {
     "data": {
      "text/html": [
       "<div>\n",
       "<style scoped>\n",
       "    .dataframe tbody tr th:only-of-type {\n",
       "        vertical-align: middle;\n",
       "    }\n",
       "\n",
       "    .dataframe tbody tr th {\n",
       "        vertical-align: top;\n",
       "    }\n",
       "\n",
       "    .dataframe thead th {\n",
       "        text-align: right;\n",
       "    }\n",
       "</style>\n",
       "<table border=\"1\" class=\"dataframe\">\n",
       "  <thead>\n",
       "    <tr style=\"text-align: right;\">\n",
       "      <th></th>\n",
       "      <th>HPCG[CUDA memcpy DtoH] DevicePageable 8.030909</th>\n",
       "      <th>HPCG[CUDA memcpy DtoH] DevicePinned 12.210065</th>\n",
       "      <th>HPCG[CUDA memcpy HtoD] PageableDevice 6.859424</th>\n",
       "      <th>HPCG[CUDA memcpy HtoD] PinnedDevice 11.319035</th>\n",
       "      <th>TF[CUDA memcpy DtoH] DevicePinned 0.005725</th>\n",
       "      <th>TF[CUDA memcpy HtoD] PageableDevice 0.05174</th>\n",
       "      <th>TF[CUDA memcpy HtoD] PinnedDevice 2.457923</th>\n",
       "    </tr>\n",
       "    <tr>\n",
       "      <th>Start</th>\n",
       "      <th></th>\n",
       "      <th></th>\n",
       "      <th></th>\n",
       "      <th></th>\n",
       "      <th></th>\n",
       "      <th></th>\n",
       "      <th></th>\n",
       "    </tr>\n",
       "  </thead>\n",
       "  <tbody>\n",
       "    <tr>\n",
       "      <th>0.817201</th>\n",
       "      <td>0.0</td>\n",
       "      <td>0.0</td>\n",
       "      <td>0.0</td>\n",
       "      <td>0.0</td>\n",
       "      <td>0.0</td>\n",
       "      <td>0.0</td>\n",
       "      <td>0.000000</td>\n",
       "    </tr>\n",
       "    <tr>\n",
       "      <th>1.201508</th>\n",
       "      <td>0.0</td>\n",
       "      <td>0.0</td>\n",
       "      <td>0.0</td>\n",
       "      <td>0.0</td>\n",
       "      <td>0.0</td>\n",
       "      <td>0.0</td>\n",
       "      <td>0.946105</td>\n",
       "    </tr>\n",
       "    <tr>\n",
       "      <th>1.201676</th>\n",
       "      <td>0.0</td>\n",
       "      <td>0.0</td>\n",
       "      <td>0.0</td>\n",
       "      <td>0.0</td>\n",
       "      <td>0.0</td>\n",
       "      <td>0.0</td>\n",
       "      <td>0.002985</td>\n",
       "    </tr>\n",
       "  </tbody>\n",
       "</table>\n",
       "</div>"
      ],
      "text/plain": [
       "          HPCG[CUDA memcpy DtoH] DevicePageable 8.030909  \\\n",
       "Start                                                      \n",
       "0.817201                                             0.0   \n",
       "1.201508                                             0.0   \n",
       "1.201676                                             0.0   \n",
       "\n",
       "          HPCG[CUDA memcpy DtoH] DevicePinned 12.210065  \\\n",
       "Start                                                     \n",
       "0.817201                                            0.0   \n",
       "1.201508                                            0.0   \n",
       "1.201676                                            0.0   \n",
       "\n",
       "          HPCG[CUDA memcpy HtoD] PageableDevice 6.859424  \\\n",
       "Start                                                      \n",
       "0.817201                                             0.0   \n",
       "1.201508                                             0.0   \n",
       "1.201676                                             0.0   \n",
       "\n",
       "          HPCG[CUDA memcpy HtoD] PinnedDevice 11.319035  \\\n",
       "Start                                                     \n",
       "0.817201                                            0.0   \n",
       "1.201508                                            0.0   \n",
       "1.201676                                            0.0   \n",
       "\n",
       "          TF[CUDA memcpy DtoH] DevicePinned 0.005725  \\\n",
       "Start                                                  \n",
       "0.817201                                         0.0   \n",
       "1.201508                                         0.0   \n",
       "1.201676                                         0.0   \n",
       "\n",
       "          TF[CUDA memcpy HtoD] PageableDevice 0.05174  \\\n",
       "Start                                                   \n",
       "0.817201                                          0.0   \n",
       "1.201508                                          0.0   \n",
       "1.201676                                          0.0   \n",
       "\n",
       "          TF[CUDA memcpy HtoD] PinnedDevice 2.457923  \n",
       "Start                                                 \n",
       "0.817201                                    0.000000  \n",
       "1.201508                                    0.946105  \n",
       "1.201676                                    0.002985  "
      ]
     },
     "execution_count": 101,
     "metadata": {},
     "output_type": "execute_result"
    }
   ],
   "source": [
    "df_3.iloc[:3]"
   ]
  },
  {
   "cell_type": "code",
   "execution_count": 102,
   "metadata": {
    "collapsed": false
   },
   "outputs": [
    {
     "data": {
      "text/plain": [
       "<matplotlib.axes._subplots.AxesSubplot at 0x10babccd0>"
      ]
     },
     "execution_count": 102,
     "metadata": {},
     "output_type": "execute_result"
    },
    {
     "data": {
      "image/png": "[encoded data removed]",
      "text/plain": [
       "<matplotlib.figure.Figure at 0x10ba9c210>"
      ]
     },
     "metadata": {},
     "output_type": "display_data"
    }
   ],
   "source": [
    "df_1.plot(drawstyle=\"steps-post\", grid = True)"
   ]
  },
  {
   "cell_type": "code",
   "execution_count": 103,
   "metadata": {
    "collapsed": false
   },
   "outputs": [
    {
     "data": {
      "text/plain": [
       "<matplotlib.axes._subplots.AxesSubplot at 0x10bd914d0>"
      ]
     },
     "execution_count": 103,
     "metadata": {},
     "output_type": "execute_result"
    },
    {
     "data": {
      "image/png": "[encoded data removed]",
      "text/plain": [
       "<matplotlib.figure.Figure at 0x10b593f10>"
      ]
     },
     "metadata": {},
     "output_type": "display_data"
    }
   ],
   "source": [
    "df_2.plot(drawstyle=\"steps-post\", grid = True)"
   ]
  },
  {
   "cell_type": "code",
   "execution_count": 104,
   "metadata": {
    "collapsed": false
   },
   "outputs": [
    {
     "data": {
      "text/plain": [
       "<matplotlib.axes._subplots.AxesSubplot at 0x10c19a510>"
      ]
     },
     "execution_count": 104,
     "metadata": {},
     "output_type": "execute_result"
    },
    {
     "data": {
      "image/png": "[encoded data removed]",
      "text/plain": [
       "<matplotlib.figure.Figure at 0x10c1e6390>"
      ]
     },
     "metadata": {},
     "output_type": "display_data"
    }
   ],
   "source": [
    "df_3.plot(drawstyle=\"steps-post\", grid = True)"
   ]
  },
  {
   "cell_type": "code",
   "execution_count": null,
   "metadata": {
    "collapsed": true
   },
   "outputs": [],
   "source": []
  }
 ],
 "metadata": {
  "kernelspec": {
   "display_name": "Python 2",
   "language": "python",
   "name": "python2"
  },
  "language_info": {
   "codemirror_mode": {
    "name": "ipython",
    "version": 2
   },
   "file_extension": ".py",
   "mimetype": "text/x-python",
   "name": "python",
   "nbconvert_exporter": "python",
   "pygments_lexer": "ipython2",
   "version": "2.7.12"
  }
 },
 "nbformat": 4,
 "nbformat_minor": 1
}

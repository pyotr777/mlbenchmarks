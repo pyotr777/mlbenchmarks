{
 "cells": [
  {
   "cell_type": "markdown",
   "metadata": {},
   "source": [
    "# Чтение, обработка и сравнение данных из CSV файлов"
   ]
  },
  {
   "cell_type": "code",
   "execution_count": 1,
   "metadata": {
    "collapsed": true
   },
   "outputs": [],
   "source": [
    "%matplotlib inline\n",
    "import re\n",
    "import numpy as np\n",
    "import matplotlib\n",
    "#matplotlib.use(\"Agg\")\n",
    "import matplotlib.pyplot as plt\n",
    "import os.path\n",
    "import datetime\n",
    "from cycler import cycler\n",
    "import pandas as pd"
   ]
  },
  {
   "cell_type": "code",
   "execution_count": 35,
   "metadata": {
    "collapsed": false
   },
   "outputs": [],
   "source": [
    "time_field_index = 0\n",
    "duration_field_index = 1\n",
    "SSMem_field_index = 9\n",
    "DSMem_field_index = 10\n",
    "size_field_index = 11\n",
    "throughput_field_index = 12\n",
    "src_field_index = 13\n",
    "dst_field_index = 14\n",
    "context_index = 16\n",
    "stream_index = 17\n",
    "name_field_index = 18\n",
    "\n",
    "title_pattern = re.compile(\"^(Start|s).*\")\n",
    "cuda_pattern = re.compile(\"\\[CUDA .*\\]\")\n",
    "\n",
    "trace_dir1 = \"Tensorflow-HP\"\n",
    "trace_dir2 = \"HPCG\"\n",
    "#filename1 = \"nvidia-smi-tfhp.csv\"\n",
    "filename1 = \"nvprof-trace-tfhp.csv\"\n",
    "#filename2 = \"nvidia-smi-hpcg.csv\"\n",
    "filename2 = \"nvprof-trace-hpcg.csv\"\n",
    "\n",
    "maxrows = None\n",
    "\n",
    "file1 = os.path.join(trace_dir1,filename1)\n",
    "file2 = os.path.join(trace_dir2,filename2)"
   ]
  },
  {
   "cell_type": "code",
   "execution_count": 45,
   "metadata": {
    "collapsed": false
   },
   "outputs": [
    {
     "name": "stdout",
     "output_type": "stream",
     "text": [
      "Reading Tensorflow-HP/nvprof-trace-tfhp.csv HPCG/nvprof-trace-hpcg.csv\n"
     ]
    }
   ],
   "source": [
    "print \"Reading\",file1,file2\n",
    "\n",
    "columns = [time_field_index, duration_field_index,\n",
    "           SSMem_field_index, DSMem_field_index,\n",
    "           size_field_index, throughput_field_index,\n",
    "           src_field_index, dst_field_index,\n",
    "           context_index, stream_index,\n",
    "           name_field_index]\n"
   ]
  },
  {
   "cell_type": "code",
   "execution_count": 46,
   "metadata": {
    "collapsed": false
   },
   "outputs": [
    {
     "name": "stdout",
     "output_type": "stream",
     "text": [
      "Tensorflow-HP/nvprof-trace-tfhp.csv\n",
      "(233029, 11)\n"
     ]
    }
   ],
   "source": [
    "print file1\n",
    "df_tf = pd.read_csv(file1, header = 0, usecols = columns, \n",
    "                 skiprows=[0,1,2,4], nrows = maxrows)\n",
    "print df_tf.shape"
   ]
  },
  {
   "cell_type": "code",
   "execution_count": 47,
   "metadata": {
    "collapsed": false
   },
   "outputs": [
    {
     "name": "stdout",
     "output_type": "stream",
     "text": [
      "HPCG/nvprof-trace-hpcg.csv\n",
      "(261532, 11)\n"
     ]
    }
   ],
   "source": [
    "print file2\n",
    "df_hpcg = pd.read_csv(file2, header = 0, usecols = columns, \n",
    "                 skiprows=[0,1,2,4], nrows = maxrows)\n",
    "print df_hpcg.shape"
   ]
  },
  {
   "cell_type": "code",
   "execution_count": 48,
   "metadata": {
    "collapsed": false
   },
   "outputs": [
    {
     "data": {
      "text/html": [
       "<div>\n",
       "<style scoped>\n",
       "    .dataframe tbody tr th:only-of-type {\n",
       "        vertical-align: middle;\n",
       "    }\n",
       "\n",
       "    .dataframe tbody tr th {\n",
       "        vertical-align: top;\n",
       "    }\n",
       "\n",
       "    .dataframe thead th {\n",
       "        text-align: right;\n",
       "    }\n",
       "</style>\n",
       "<table border=\"1\" class=\"dataframe\">\n",
       "  <thead>\n",
       "    <tr style=\"text-align: right;\">\n",
       "      <th></th>\n",
       "      <th>Start</th>\n",
       "      <th>Duration</th>\n",
       "      <th>Static SMem</th>\n",
       "      <th>Dynamic SMem</th>\n",
       "      <th>Size</th>\n",
       "      <th>Throughput</th>\n",
       "      <th>SrcMemType</th>\n",
       "      <th>DstMemType</th>\n",
       "      <th>Context</th>\n",
       "      <th>Stream</th>\n",
       "      <th>Name</th>\n",
       "    </tr>\n",
       "  </thead>\n",
       "  <tbody>\n",
       "    <tr>\n",
       "      <th>100</th>\n",
       "      <td>1.212577</td>\n",
       "      <td>0.001696</td>\n",
       "      <td>NaN</td>\n",
       "      <td>NaN</td>\n",
       "      <td>0.001953</td>\n",
       "      <td>1.124616</td>\n",
       "      <td>Pinned</td>\n",
       "      <td>Device</td>\n",
       "      <td>1</td>\n",
       "      <td>15</td>\n",
       "      <td>[CUDA memcpy HtoD]</td>\n",
       "    </tr>\n",
       "    <tr>\n",
       "      <th>101</th>\n",
       "      <td>1.212677</td>\n",
       "      <td>0.001696</td>\n",
       "      <td>NaN</td>\n",
       "      <td>NaN</td>\n",
       "      <td>0.001953</td>\n",
       "      <td>1.124616</td>\n",
       "      <td>Pinned</td>\n",
       "      <td>Device</td>\n",
       "      <td>1</td>\n",
       "      <td>15</td>\n",
       "      <td>[CUDA memcpy HtoD]</td>\n",
       "    </tr>\n",
       "    <tr>\n",
       "      <th>102</th>\n",
       "      <td>1.212804</td>\n",
       "      <td>0.001248</td>\n",
       "      <td>NaN</td>\n",
       "      <td>NaN</td>\n",
       "      <td>0.000004</td>\n",
       "      <td>0.002985</td>\n",
       "      <td>Pinned</td>\n",
       "      <td>Device</td>\n",
       "      <td>1</td>\n",
       "      <td>15</td>\n",
       "      <td>[CUDA memcpy HtoD]</td>\n",
       "    </tr>\n",
       "  </tbody>\n",
       "</table>\n",
       "</div>"
      ],
      "text/plain": [
       "        Start  Duration  Static SMem  Dynamic SMem      Size  Throughput  \\\n",
       "100  1.212577  0.001696          NaN           NaN  0.001953    1.124616   \n",
       "101  1.212677  0.001696          NaN           NaN  0.001953    1.124616   \n",
       "102  1.212804  0.001248          NaN           NaN  0.000004    0.002985   \n",
       "\n",
       "    SrcMemType DstMemType  Context  Stream                Name  \n",
       "100     Pinned     Device        1      15  [CUDA memcpy HtoD]  \n",
       "101     Pinned     Device        1      15  [CUDA memcpy HtoD]  \n",
       "102     Pinned     Device        1      15  [CUDA memcpy HtoD]  "
      ]
     },
     "execution_count": 48,
     "metadata": {},
     "output_type": "execute_result"
    }
   ],
   "source": [
    "df_tf.iloc[100:103]"
   ]
  },
  {
   "cell_type": "code",
   "execution_count": 49,
   "metadata": {
    "collapsed": false
   },
   "outputs": [
    {
     "data": {
      "text/html": [
       "<div>\n",
       "<style scoped>\n",
       "    .dataframe tbody tr th:only-of-type {\n",
       "        vertical-align: middle;\n",
       "    }\n",
       "\n",
       "    .dataframe tbody tr th {\n",
       "        vertical-align: top;\n",
       "    }\n",
       "\n",
       "    .dataframe thead th {\n",
       "        text-align: right;\n",
       "    }\n",
       "</style>\n",
       "<table border=\"1\" class=\"dataframe\">\n",
       "  <thead>\n",
       "    <tr style=\"text-align: right;\">\n",
       "      <th></th>\n",
       "      <th>Start</th>\n",
       "      <th>Duration</th>\n",
       "      <th>Static SMem</th>\n",
       "      <th>Dynamic SMem</th>\n",
       "      <th>Size</th>\n",
       "      <th>Throughput</th>\n",
       "      <th>SrcMemType</th>\n",
       "      <th>DstMemType</th>\n",
       "      <th>Context</th>\n",
       "      <th>Stream</th>\n",
       "      <th>Name</th>\n",
       "    </tr>\n",
       "  </thead>\n",
       "  <tbody>\n",
       "    <tr>\n",
       "      <th>100</th>\n",
       "      <td>42.357812</td>\n",
       "      <td>0.015168</td>\n",
       "      <td>3.0</td>\n",
       "      <td>0.0</td>\n",
       "      <td>NaN</td>\n",
       "      <td>NaN</td>\n",
       "      <td>NaN</td>\n",
       "      <td>NaN</td>\n",
       "      <td>1</td>\n",
       "      <td>7</td>\n",
       "      <td>trans_kernel(double*, int*, double*, int*) [855]</td>\n",
       "    </tr>\n",
       "    <tr>\n",
       "      <th>101</th>\n",
       "      <td>42.357830</td>\n",
       "      <td>0.014368</td>\n",
       "      <td>3.0</td>\n",
       "      <td>0.0</td>\n",
       "      <td>NaN</td>\n",
       "      <td>NaN</td>\n",
       "      <td>NaN</td>\n",
       "      <td>NaN</td>\n",
       "      <td>1</td>\n",
       "      <td>7</td>\n",
       "      <td>trans_kernel(double*, int*, double*, int*) [861]</td>\n",
       "    </tr>\n",
       "    <tr>\n",
       "      <th>102</th>\n",
       "      <td>42.357847</td>\n",
       "      <td>0.015264</td>\n",
       "      <td>3.0</td>\n",
       "      <td>0.0</td>\n",
       "      <td>NaN</td>\n",
       "      <td>NaN</td>\n",
       "      <td>NaN</td>\n",
       "      <td>NaN</td>\n",
       "      <td>1</td>\n",
       "      <td>7</td>\n",
       "      <td>trans_kernel(double*, int*, double*, int*) [867]</td>\n",
       "    </tr>\n",
       "  </tbody>\n",
       "</table>\n",
       "</div>"
      ],
      "text/plain": [
       "         Start  Duration  Static SMem  Dynamic SMem  Size  Throughput  \\\n",
       "100  42.357812  0.015168          3.0           0.0   NaN         NaN   \n",
       "101  42.357830  0.014368          3.0           0.0   NaN         NaN   \n",
       "102  42.357847  0.015264          3.0           0.0   NaN         NaN   \n",
       "\n",
       "    SrcMemType DstMemType  Context  Stream  \\\n",
       "100        NaN        NaN        1       7   \n",
       "101        NaN        NaN        1       7   \n",
       "102        NaN        NaN        1       7   \n",
       "\n",
       "                                                 Name  \n",
       "100  trans_kernel(double*, int*, double*, int*) [855]  \n",
       "101  trans_kernel(double*, int*, double*, int*) [861]  \n",
       "102  trans_kernel(double*, int*, double*, int*) [867]  "
      ]
     },
     "execution_count": 49,
     "metadata": {},
     "output_type": "execute_result"
    }
   ],
   "source": [
    "df_hpcg.iloc[100:103]"
   ]
  },
  {
   "cell_type": "markdown",
   "metadata": {},
   "source": [
    "## Select columns with memory operations"
   ]
  },
  {
   "cell_type": "code",
   "execution_count": 50,
   "metadata": {
    "collapsed": true
   },
   "outputs": [],
   "source": [
    "df_tf_cuda = df_tf.loc[df_tf['Name'].str.contains('\\[CUDA')]\n",
    "df_hpcg_cuda = df_hpcg.loc[df_hpcg['Name'].str.contains('\\[CUDA')]"
   ]
  },
  {
   "cell_type": "code",
   "execution_count": 51,
   "metadata": {
    "collapsed": false
   },
   "outputs": [
    {
     "name": "stderr",
     "output_type": "stream",
     "text": [
      "/usr/local/lib/python2.7/site-packages/ipykernel/__main__.py:1: SettingWithCopyWarning: \n",
      "A value is trying to be set on a copy of a slice from a DataFrame.\n",
      "Try using .loc[row_indexer,col_indexer] = value instead\n",
      "\n",
      "See the caveats in the documentation: http://pandas.pydata.org/pandas-docs/stable/indexing.html#indexing-view-versus-copy\n",
      "  if __name__ == '__main__':\n",
      "/usr/local/lib/python2.7/site-packages/ipykernel/__main__.py:2: SettingWithCopyWarning: \n",
      "A value is trying to be set on a copy of a slice from a DataFrame.\n",
      "Try using .loc[row_indexer,col_indexer] = value instead\n",
      "\n",
      "See the caveats in the documentation: http://pandas.pydata.org/pandas-docs/stable/indexing.html#indexing-view-versus-copy\n",
      "  from ipykernel import kernelapp as app\n"
     ]
    }
   ],
   "source": [
    "df_tf_cuda['FullName'] = df_tf_cuda['Name'] + \" \" + df_tf_cuda['SrcMemType']+df_tf_cuda['DstMemType'].fillna(\"\")\n",
    "df_hpcg_cuda['FullName'] = df_hpcg_cuda['Name'] + \" \" + df_hpcg_cuda['SrcMemType']+df_hpcg_cuda['DstMemType'].fillna(\"\")"
   ]
  },
  {
   "cell_type": "code",
   "execution_count": 52,
   "metadata": {
    "collapsed": false
   },
   "outputs": [
    {
     "data": {
      "text/html": [
       "<div>\n",
       "<style scoped>\n",
       "    .dataframe tbody tr th:only-of-type {\n",
       "        vertical-align: middle;\n",
       "    }\n",
       "\n",
       "    .dataframe tbody tr th {\n",
       "        vertical-align: top;\n",
       "    }\n",
       "\n",
       "    .dataframe thead th {\n",
       "        text-align: right;\n",
       "    }\n",
       "</style>\n",
       "<table border=\"1\" class=\"dataframe\">\n",
       "  <thead>\n",
       "    <tr style=\"text-align: right;\">\n",
       "      <th></th>\n",
       "      <th>Start</th>\n",
       "      <th>Duration</th>\n",
       "      <th>Static SMem</th>\n",
       "      <th>Dynamic SMem</th>\n",
       "      <th>Size</th>\n",
       "      <th>Throughput</th>\n",
       "      <th>SrcMemType</th>\n",
       "      <th>DstMemType</th>\n",
       "      <th>Context</th>\n",
       "      <th>Stream</th>\n",
       "      <th>Name</th>\n",
       "      <th>FullName</th>\n",
       "    </tr>\n",
       "  </thead>\n",
       "  <tbody>\n",
       "    <tr>\n",
       "      <th>0</th>\n",
       "      <td>12.257619</td>\n",
       "      <td>0.002080</td>\n",
       "      <td>NaN</td>\n",
       "      <td>NaN</td>\n",
       "      <td>0.000107</td>\n",
       "      <td>0.050148</td>\n",
       "      <td>Pageable</td>\n",
       "      <td>Device</td>\n",
       "      <td>1</td>\n",
       "      <td>7</td>\n",
       "      <td>[CUDA memcpy HtoD]</td>\n",
       "      <td>[CUDA memcpy HtoD] PageableDevice</td>\n",
       "    </tr>\n",
       "    <tr>\n",
       "      <th>1</th>\n",
       "      <td>17.538188</td>\n",
       "      <td>0.003712</td>\n",
       "      <td>NaN</td>\n",
       "      <td>NaN</td>\n",
       "      <td>0.000004</td>\n",
       "      <td>0.001004</td>\n",
       "      <td>Device</td>\n",
       "      <td>NaN</td>\n",
       "      <td>1</td>\n",
       "      <td>7</td>\n",
       "      <td>[CUDA memset]</td>\n",
       "      <td>[CUDA memset] Device</td>\n",
       "    </tr>\n",
       "    <tr>\n",
       "      <th>3</th>\n",
       "      <td>17.557663</td>\n",
       "      <td>0.003168</td>\n",
       "      <td>NaN</td>\n",
       "      <td>NaN</td>\n",
       "      <td>0.000004</td>\n",
       "      <td>0.001176</td>\n",
       "      <td>Device</td>\n",
       "      <td>Pageable</td>\n",
       "      <td>1</td>\n",
       "      <td>7</td>\n",
       "      <td>[CUDA memcpy DtoH]</td>\n",
       "      <td>[CUDA memcpy DtoH] DevicePageable</td>\n",
       "    </tr>\n",
       "    <tr>\n",
       "      <th>4</th>\n",
       "      <td>17.564471</td>\n",
       "      <td>0.004256</td>\n",
       "      <td>NaN</td>\n",
       "      <td>NaN</td>\n",
       "      <td>0.000103</td>\n",
       "      <td>0.023633</td>\n",
       "      <td>Device</td>\n",
       "      <td>NaN</td>\n",
       "      <td>1</td>\n",
       "      <td>7</td>\n",
       "      <td>[CUDA memset]</td>\n",
       "      <td>[CUDA memset] Device</td>\n",
       "    </tr>\n",
       "    <tr>\n",
       "      <th>5</th>\n",
       "      <td>17.564478</td>\n",
       "      <td>0.002432</td>\n",
       "      <td>NaN</td>\n",
       "      <td>NaN</td>\n",
       "      <td>0.000103</td>\n",
       "      <td>0.041358</td>\n",
       "      <td>Device</td>\n",
       "      <td>NaN</td>\n",
       "      <td>1</td>\n",
       "      <td>7</td>\n",
       "      <td>[CUDA memset]</td>\n",
       "      <td>[CUDA memset] Device</td>\n",
       "    </tr>\n",
       "  </tbody>\n",
       "</table>\n",
       "</div>"
      ],
      "text/plain": [
       "       Start  Duration  Static SMem  Dynamic SMem      Size  Throughput  \\\n",
       "0  12.257619  0.002080          NaN           NaN  0.000107    0.050148   \n",
       "1  17.538188  0.003712          NaN           NaN  0.000004    0.001004   \n",
       "3  17.557663  0.003168          NaN           NaN  0.000004    0.001176   \n",
       "4  17.564471  0.004256          NaN           NaN  0.000103    0.023633   \n",
       "5  17.564478  0.002432          NaN           NaN  0.000103    0.041358   \n",
       "\n",
       "  SrcMemType DstMemType  Context  Stream                Name  \\\n",
       "0   Pageable     Device        1       7  [CUDA memcpy HtoD]   \n",
       "1     Device        NaN        1       7       [CUDA memset]   \n",
       "3     Device   Pageable        1       7  [CUDA memcpy DtoH]   \n",
       "4     Device        NaN        1       7       [CUDA memset]   \n",
       "5     Device        NaN        1       7       [CUDA memset]   \n",
       "\n",
       "                            FullName  \n",
       "0  [CUDA memcpy HtoD] PageableDevice  \n",
       "1               [CUDA memset] Device  \n",
       "3  [CUDA memcpy DtoH] DevicePageable  \n",
       "4               [CUDA memset] Device  \n",
       "5               [CUDA memset] Device  "
      ]
     },
     "execution_count": 52,
     "metadata": {},
     "output_type": "execute_result"
    }
   ],
   "source": [
    "df_hpcg_cuda.iloc[:5]"
   ]
  },
  {
   "cell_type": "code",
   "execution_count": 53,
   "metadata": {
    "collapsed": false
   },
   "outputs": [],
   "source": [
    "# Convert unique values in column \"FullName\" to new columns\n",
    "def mergeColumnNames(df_org):\n",
    "    df = df_org.pivot(index = 'Start', columns = 'FullName', \n",
    "                         values = 'Throughput')\n",
    "    df = df.fillna(0)  # Fill empty cells with 0-s\n",
    "    return df\n",
    "#df_tf_throughput.iloc[:10]"
   ]
  },
  {
   "cell_type": "code",
   "execution_count": 54,
   "metadata": {
    "collapsed": true
   },
   "outputs": [],
   "source": [
    "df_tf_throughput = mergeColumnNames(df_tf_cuda)\n",
    "df_hpcg_throughput = mergeColumnNames(df_hpcg_cuda)"
   ]
  },
  {
   "cell_type": "code",
   "execution_count": 55,
   "metadata": {
    "collapsed": false
   },
   "outputs": [
    {
     "data": {
      "text/html": [
       "<div>\n",
       "<style scoped>\n",
       "    .dataframe tbody tr th:only-of-type {\n",
       "        vertical-align: middle;\n",
       "    }\n",
       "\n",
       "    .dataframe tbody tr th {\n",
       "        vertical-align: top;\n",
       "    }\n",
       "\n",
       "    .dataframe thead th {\n",
       "        text-align: right;\n",
       "    }\n",
       "</style>\n",
       "<table border=\"1\" class=\"dataframe\">\n",
       "  <thead>\n",
       "    <tr style=\"text-align: right;\">\n",
       "      <th>FullName</th>\n",
       "      <th>[CUDA memcpy DtoD] DeviceDevice</th>\n",
       "      <th>[CUDA memcpy DtoH] DevicePageable</th>\n",
       "      <th>[CUDA memcpy DtoH] DevicePinned</th>\n",
       "      <th>[CUDA memcpy HtoD] PageableDevice</th>\n",
       "      <th>[CUDA memcpy HtoD] PinnedDevice</th>\n",
       "      <th>[CUDA memset] Device</th>\n",
       "    </tr>\n",
       "    <tr>\n",
       "      <th>Start</th>\n",
       "      <th></th>\n",
       "      <th></th>\n",
       "      <th></th>\n",
       "      <th></th>\n",
       "      <th></th>\n",
       "      <th></th>\n",
       "    </tr>\n",
       "  </thead>\n",
       "  <tbody>\n",
       "    <tr>\n",
       "      <th>12.257619</th>\n",
       "      <td>0.0</td>\n",
       "      <td>0.000000</td>\n",
       "      <td>0.0</td>\n",
       "      <td>0.050148</td>\n",
       "      <td>0.0</td>\n",
       "      <td>0.000000</td>\n",
       "    </tr>\n",
       "    <tr>\n",
       "      <th>17.538188</th>\n",
       "      <td>0.0</td>\n",
       "      <td>0.000000</td>\n",
       "      <td>0.0</td>\n",
       "      <td>0.000000</td>\n",
       "      <td>0.0</td>\n",
       "      <td>0.001004</td>\n",
       "    </tr>\n",
       "    <tr>\n",
       "      <th>17.557663</th>\n",
       "      <td>0.0</td>\n",
       "      <td>0.001176</td>\n",
       "      <td>0.0</td>\n",
       "      <td>0.000000</td>\n",
       "      <td>0.0</td>\n",
       "      <td>0.000000</td>\n",
       "    </tr>\n",
       "    <tr>\n",
       "      <th>17.564471</th>\n",
       "      <td>0.0</td>\n",
       "      <td>0.000000</td>\n",
       "      <td>0.0</td>\n",
       "      <td>0.000000</td>\n",
       "      <td>0.0</td>\n",
       "      <td>0.023633</td>\n",
       "    </tr>\n",
       "    <tr>\n",
       "      <th>17.564478</th>\n",
       "      <td>0.0</td>\n",
       "      <td>0.000000</td>\n",
       "      <td>0.0</td>\n",
       "      <td>0.000000</td>\n",
       "      <td>0.0</td>\n",
       "      <td>0.041358</td>\n",
       "    </tr>\n",
       "  </tbody>\n",
       "</table>\n",
       "</div>"
      ],
      "text/plain": [
       "FullName   [CUDA memcpy DtoD] DeviceDevice  [CUDA memcpy DtoH] DevicePageable  \\\n",
       "Start                                                                           \n",
       "12.257619                              0.0                           0.000000   \n",
       "17.538188                              0.0                           0.000000   \n",
       "17.557663                              0.0                           0.001176   \n",
       "17.564471                              0.0                           0.000000   \n",
       "17.564478                              0.0                           0.000000   \n",
       "\n",
       "FullName   [CUDA memcpy DtoH] DevicePinned  [CUDA memcpy HtoD] PageableDevice  \\\n",
       "Start                                                                           \n",
       "12.257619                              0.0                           0.050148   \n",
       "17.538188                              0.0                           0.000000   \n",
       "17.557663                              0.0                           0.000000   \n",
       "17.564471                              0.0                           0.000000   \n",
       "17.564478                              0.0                           0.000000   \n",
       "\n",
       "FullName   [CUDA memcpy HtoD] PinnedDevice  [CUDA memset] Device  \n",
       "Start                                                             \n",
       "12.257619                              0.0              0.000000  \n",
       "17.538188                              0.0              0.001004  \n",
       "17.557663                              0.0              0.000000  \n",
       "17.564471                              0.0              0.023633  \n",
       "17.564478                              0.0              0.041358  "
      ]
     },
     "execution_count": 55,
     "metadata": {},
     "output_type": "execute_result"
    }
   ],
   "source": [
    "df_hpcg_throughput.iloc[:5]"
   ]
  },
  {
   "cell_type": "code",
   "execution_count": 56,
   "metadata": {
    "collapsed": false
   },
   "outputs": [
    {
     "data": {
      "text/html": [
       "<div>\n",
       "<style scoped>\n",
       "    .dataframe tbody tr th:only-of-type {\n",
       "        vertical-align: middle;\n",
       "    }\n",
       "\n",
       "    .dataframe tbody tr th {\n",
       "        vertical-align: top;\n",
       "    }\n",
       "\n",
       "    .dataframe thead th {\n",
       "        text-align: right;\n",
       "    }\n",
       "</style>\n",
       "<table border=\"1\" class=\"dataframe\">\n",
       "  <thead>\n",
       "    <tr style=\"text-align: right;\">\n",
       "      <th>FullName</th>\n",
       "      <th>[CUDA memcpy DtoD] DeviceDevice</th>\n",
       "      <th>[CUDA memcpy DtoH] DevicePinned</th>\n",
       "      <th>[CUDA memcpy HtoD] PageableDevice</th>\n",
       "      <th>[CUDA memcpy HtoD] PinnedDevice</th>\n",
       "      <th>[CUDA memset] Device</th>\n",
       "    </tr>\n",
       "    <tr>\n",
       "      <th>Start</th>\n",
       "      <th></th>\n",
       "      <th></th>\n",
       "      <th></th>\n",
       "      <th></th>\n",
       "      <th></th>\n",
       "    </tr>\n",
       "  </thead>\n",
       "  <tbody>\n",
       "    <tr>\n",
       "      <th>0.817201</th>\n",
       "      <td>0.0</td>\n",
       "      <td>0.0</td>\n",
       "      <td>0.0</td>\n",
       "      <td>0.000000</td>\n",
       "      <td>0.231928</td>\n",
       "    </tr>\n",
       "    <tr>\n",
       "      <th>1.201508</th>\n",
       "      <td>0.0</td>\n",
       "      <td>0.0</td>\n",
       "      <td>0.0</td>\n",
       "      <td>0.946105</td>\n",
       "      <td>0.000000</td>\n",
       "    </tr>\n",
       "    <tr>\n",
       "      <th>1.201676</th>\n",
       "      <td>0.0</td>\n",
       "      <td>0.0</td>\n",
       "      <td>0.0</td>\n",
       "      <td>0.002985</td>\n",
       "      <td>0.000000</td>\n",
       "    </tr>\n",
       "    <tr>\n",
       "      <th>1.201812</th>\n",
       "      <td>0.0</td>\n",
       "      <td>0.0</td>\n",
       "      <td>0.0</td>\n",
       "      <td>0.002985</td>\n",
       "      <td>0.000000</td>\n",
       "    </tr>\n",
       "    <tr>\n",
       "      <th>1.201944</th>\n",
       "      <td>0.0</td>\n",
       "      <td>0.0</td>\n",
       "      <td>0.0</td>\n",
       "      <td>0.186265</td>\n",
       "      <td>0.000000</td>\n",
       "    </tr>\n",
       "  </tbody>\n",
       "</table>\n",
       "</div>"
      ],
      "text/plain": [
       "FullName  [CUDA memcpy DtoD] DeviceDevice  [CUDA memcpy DtoH] DevicePinned  \\\n",
       "Start                                                                        \n",
       "0.817201                              0.0                              0.0   \n",
       "1.201508                              0.0                              0.0   \n",
       "1.201676                              0.0                              0.0   \n",
       "1.201812                              0.0                              0.0   \n",
       "1.201944                              0.0                              0.0   \n",
       "\n",
       "FullName  [CUDA memcpy HtoD] PageableDevice  [CUDA memcpy HtoD] PinnedDevice  \\\n",
       "Start                                                                          \n",
       "0.817201                                0.0                         0.000000   \n",
       "1.201508                                0.0                         0.946105   \n",
       "1.201676                                0.0                         0.002985   \n",
       "1.201812                                0.0                         0.002985   \n",
       "1.201944                                0.0                         0.186265   \n",
       "\n",
       "FullName  [CUDA memset] Device  \n",
       "Start                           \n",
       "0.817201              0.231928  \n",
       "1.201508              0.000000  \n",
       "1.201676              0.000000  \n",
       "1.201812              0.000000  \n",
       "1.201944              0.000000  "
      ]
     },
     "execution_count": 56,
     "metadata": {},
     "output_type": "execute_result"
    }
   ],
   "source": [
    "df_tf_throughput.iloc[:5]"
   ]
  },
  {
   "cell_type": "code",
   "execution_count": 57,
   "metadata": {
    "collapsed": true
   },
   "outputs": [],
   "source": [
    "def appendMaxValues2ColumnNames(df,series):\n",
    "    cols = len(df.columns)\n",
    "    col_names = []\n",
    "    for i in range(0,cols):\n",
    "        col_names.append(series+df.columns[i]+\" \" +str(df.iloc[:,i].max()))\n",
    "    df.columns = col_names\n",
    "    return df"
   ]
  },
  {
   "cell_type": "code",
   "execution_count": 58,
   "metadata": {
    "collapsed": false
   },
   "outputs": [],
   "source": [
    "df_tf_throughput = appendMaxValues2ColumnNames(df_tf_throughput,\"TF\")\n",
    "df_hpcg_throughput = appendMaxValues2ColumnNames(df_hpcg_throughput,\"HPCG\")"
   ]
  },
  {
   "cell_type": "code",
   "execution_count": 59,
   "metadata": {
    "collapsed": false
   },
   "outputs": [
    {
     "data": {
      "text/html": [
       "<div>\n",
       "<style scoped>\n",
       "    .dataframe tbody tr th:only-of-type {\n",
       "        vertical-align: middle;\n",
       "    }\n",
       "\n",
       "    .dataframe tbody tr th {\n",
       "        vertical-align: top;\n",
       "    }\n",
       "\n",
       "    .dataframe thead th {\n",
       "        text-align: right;\n",
       "    }\n",
       "</style>\n",
       "<table border=\"1\" class=\"dataframe\">\n",
       "  <thead>\n",
       "    <tr style=\"text-align: right;\">\n",
       "      <th></th>\n",
       "      <th>TF[CUDA memcpy DtoD] DeviceDevice 47.609326</th>\n",
       "      <th>TF[CUDA memcpy DtoH] DevicePinned 0.005725</th>\n",
       "      <th>TF[CUDA memcpy HtoD] PageableDevice 0.05174</th>\n",
       "      <th>TF[CUDA memcpy HtoD] PinnedDevice 2.457923</th>\n",
       "      <th>TF[CUDA memset] Device 9155.273438</th>\n",
       "    </tr>\n",
       "    <tr>\n",
       "      <th>Start</th>\n",
       "      <th></th>\n",
       "      <th></th>\n",
       "      <th></th>\n",
       "      <th></th>\n",
       "      <th></th>\n",
       "    </tr>\n",
       "  </thead>\n",
       "  <tbody>\n",
       "    <tr>\n",
       "      <th>0.817201</th>\n",
       "      <td>0.0</td>\n",
       "      <td>0.0</td>\n",
       "      <td>0.0</td>\n",
       "      <td>0.000000</td>\n",
       "      <td>0.231928</td>\n",
       "    </tr>\n",
       "    <tr>\n",
       "      <th>1.201508</th>\n",
       "      <td>0.0</td>\n",
       "      <td>0.0</td>\n",
       "      <td>0.0</td>\n",
       "      <td>0.946105</td>\n",
       "      <td>0.000000</td>\n",
       "    </tr>\n",
       "    <tr>\n",
       "      <th>1.201676</th>\n",
       "      <td>0.0</td>\n",
       "      <td>0.0</td>\n",
       "      <td>0.0</td>\n",
       "      <td>0.002985</td>\n",
       "      <td>0.000000</td>\n",
       "    </tr>\n",
       "    <tr>\n",
       "      <th>1.201812</th>\n",
       "      <td>0.0</td>\n",
       "      <td>0.0</td>\n",
       "      <td>0.0</td>\n",
       "      <td>0.002985</td>\n",
       "      <td>0.000000</td>\n",
       "    </tr>\n",
       "    <tr>\n",
       "      <th>1.201944</th>\n",
       "      <td>0.0</td>\n",
       "      <td>0.0</td>\n",
       "      <td>0.0</td>\n",
       "      <td>0.186265</td>\n",
       "      <td>0.000000</td>\n",
       "    </tr>\n",
       "  </tbody>\n",
       "</table>\n",
       "</div>"
      ],
      "text/plain": [
       "          TF[CUDA memcpy DtoD] DeviceDevice 47.609326  \\\n",
       "Start                                                   \n",
       "0.817201                                          0.0   \n",
       "1.201508                                          0.0   \n",
       "1.201676                                          0.0   \n",
       "1.201812                                          0.0   \n",
       "1.201944                                          0.0   \n",
       "\n",
       "          TF[CUDA memcpy DtoH] DevicePinned 0.005725  \\\n",
       "Start                                                  \n",
       "0.817201                                         0.0   \n",
       "1.201508                                         0.0   \n",
       "1.201676                                         0.0   \n",
       "1.201812                                         0.0   \n",
       "1.201944                                         0.0   \n",
       "\n",
       "          TF[CUDA memcpy HtoD] PageableDevice 0.05174  \\\n",
       "Start                                                   \n",
       "0.817201                                          0.0   \n",
       "1.201508                                          0.0   \n",
       "1.201676                                          0.0   \n",
       "1.201812                                          0.0   \n",
       "1.201944                                          0.0   \n",
       "\n",
       "          TF[CUDA memcpy HtoD] PinnedDevice 2.457923  \\\n",
       "Start                                                  \n",
       "0.817201                                    0.000000   \n",
       "1.201508                                    0.946105   \n",
       "1.201676                                    0.002985   \n",
       "1.201812                                    0.002985   \n",
       "1.201944                                    0.186265   \n",
       "\n",
       "          TF[CUDA memset] Device 9155.273438  \n",
       "Start                                         \n",
       "0.817201                            0.231928  \n",
       "1.201508                            0.000000  \n",
       "1.201676                            0.000000  \n",
       "1.201812                            0.000000  \n",
       "1.201944                            0.000000  "
      ]
     },
     "execution_count": 59,
     "metadata": {},
     "output_type": "execute_result"
    }
   ],
   "source": [
    "df_tf_throughput.iloc[:5]"
   ]
  },
  {
   "cell_type": "code",
   "execution_count": 60,
   "metadata": {
    "collapsed": false
   },
   "outputs": [
    {
     "data": {
      "text/html": [
       "<div>\n",
       "<style scoped>\n",
       "    .dataframe tbody tr th:only-of-type {\n",
       "        vertical-align: middle;\n",
       "    }\n",
       "\n",
       "    .dataframe tbody tr th {\n",
       "        vertical-align: top;\n",
       "    }\n",
       "\n",
       "    .dataframe thead th {\n",
       "        text-align: right;\n",
       "    }\n",
       "</style>\n",
       "<table border=\"1\" class=\"dataframe\">\n",
       "  <thead>\n",
       "    <tr style=\"text-align: right;\">\n",
       "      <th></th>\n",
       "      <th>HPCG[CUDA memcpy DtoD] DeviceDevice 97.81275</th>\n",
       "      <th>HPCG[CUDA memcpy DtoH] DevicePageable 8.030909</th>\n",
       "      <th>HPCG[CUDA memcpy DtoH] DevicePinned 12.210065</th>\n",
       "      <th>HPCG[CUDA memcpy HtoD] PageableDevice 6.859424</th>\n",
       "      <th>HPCG[CUDA memcpy HtoD] PinnedDevice 11.319035</th>\n",
       "      <th>HPCG[CUDA memset] Device 18084.490741</th>\n",
       "    </tr>\n",
       "    <tr>\n",
       "      <th>Start</th>\n",
       "      <th></th>\n",
       "      <th></th>\n",
       "      <th></th>\n",
       "      <th></th>\n",
       "      <th></th>\n",
       "      <th></th>\n",
       "    </tr>\n",
       "  </thead>\n",
       "  <tbody>\n",
       "    <tr>\n",
       "      <th>12.257619</th>\n",
       "      <td>0.0</td>\n",
       "      <td>0.000000</td>\n",
       "      <td>0.0</td>\n",
       "      <td>0.050148</td>\n",
       "      <td>0.0</td>\n",
       "      <td>0.000000</td>\n",
       "    </tr>\n",
       "    <tr>\n",
       "      <th>17.538188</th>\n",
       "      <td>0.0</td>\n",
       "      <td>0.000000</td>\n",
       "      <td>0.0</td>\n",
       "      <td>0.000000</td>\n",
       "      <td>0.0</td>\n",
       "      <td>0.001004</td>\n",
       "    </tr>\n",
       "    <tr>\n",
       "      <th>17.557663</th>\n",
       "      <td>0.0</td>\n",
       "      <td>0.001176</td>\n",
       "      <td>0.0</td>\n",
       "      <td>0.000000</td>\n",
       "      <td>0.0</td>\n",
       "      <td>0.000000</td>\n",
       "    </tr>\n",
       "    <tr>\n",
       "      <th>17.564471</th>\n",
       "      <td>0.0</td>\n",
       "      <td>0.000000</td>\n",
       "      <td>0.0</td>\n",
       "      <td>0.000000</td>\n",
       "      <td>0.0</td>\n",
       "      <td>0.023633</td>\n",
       "    </tr>\n",
       "    <tr>\n",
       "      <th>17.564478</th>\n",
       "      <td>0.0</td>\n",
       "      <td>0.000000</td>\n",
       "      <td>0.0</td>\n",
       "      <td>0.000000</td>\n",
       "      <td>0.0</td>\n",
       "      <td>0.041358</td>\n",
       "    </tr>\n",
       "  </tbody>\n",
       "</table>\n",
       "</div>"
      ],
      "text/plain": [
       "           HPCG[CUDA memcpy DtoD] DeviceDevice 97.81275  \\\n",
       "Start                                                     \n",
       "12.257619                                           0.0   \n",
       "17.538188                                           0.0   \n",
       "17.557663                                           0.0   \n",
       "17.564471                                           0.0   \n",
       "17.564478                                           0.0   \n",
       "\n",
       "           HPCG[CUDA memcpy DtoH] DevicePageable 8.030909  \\\n",
       "Start                                                       \n",
       "12.257619                                        0.000000   \n",
       "17.538188                                        0.000000   \n",
       "17.557663                                        0.001176   \n",
       "17.564471                                        0.000000   \n",
       "17.564478                                        0.000000   \n",
       "\n",
       "           HPCG[CUDA memcpy DtoH] DevicePinned 12.210065  \\\n",
       "Start                                                      \n",
       "12.257619                                            0.0   \n",
       "17.538188                                            0.0   \n",
       "17.557663                                            0.0   \n",
       "17.564471                                            0.0   \n",
       "17.564478                                            0.0   \n",
       "\n",
       "           HPCG[CUDA memcpy HtoD] PageableDevice 6.859424  \\\n",
       "Start                                                       \n",
       "12.257619                                        0.050148   \n",
       "17.538188                                        0.000000   \n",
       "17.557663                                        0.000000   \n",
       "17.564471                                        0.000000   \n",
       "17.564478                                        0.000000   \n",
       "\n",
       "           HPCG[CUDA memcpy HtoD] PinnedDevice 11.319035  \\\n",
       "Start                                                      \n",
       "12.257619                                            0.0   \n",
       "17.538188                                            0.0   \n",
       "17.557663                                            0.0   \n",
       "17.564471                                            0.0   \n",
       "17.564478                                            0.0   \n",
       "\n",
       "           HPCG[CUDA memset] Device 18084.490741  \n",
       "Start                                             \n",
       "12.257619                               0.000000  \n",
       "17.538188                               0.001004  \n",
       "17.557663                               0.000000  \n",
       "17.564471                               0.023633  \n",
       "17.564478                               0.041358  "
      ]
     },
     "execution_count": 60,
     "metadata": {},
     "output_type": "execute_result"
    }
   ],
   "source": [
    "df_hpcg_throughput.iloc[:5]"
   ]
  },
  {
   "cell_type": "code",
   "execution_count": 61,
   "metadata": {
    "collapsed": true
   },
   "outputs": [],
   "source": [
    "plt.rcParams['figure.figsize'] = 12,8"
   ]
  },
  {
   "cell_type": "code",
   "execution_count": 80,
   "metadata": {
    "collapsed": true
   },
   "outputs": [],
   "source": [
    "# Concatenate columns of two DFs into one DF\n",
    "df_full = pd.concat([df_tf_throughput,df_hpcg_throughput], axis = 1)"
   ]
  },
  {
   "cell_type": "code",
   "execution_count": 81,
   "metadata": {
    "collapsed": false
   },
   "outputs": [
    {
     "data": {
      "text/html": [
       "<div>\n",
       "<style scoped>\n",
       "    .dataframe tbody tr th:only-of-type {\n",
       "        vertical-align: middle;\n",
       "    }\n",
       "\n",
       "    .dataframe tbody tr th {\n",
       "        vertical-align: top;\n",
       "    }\n",
       "\n",
       "    .dataframe thead th {\n",
       "        text-align: right;\n",
       "    }\n",
       "</style>\n",
       "<table border=\"1\" class=\"dataframe\">\n",
       "  <thead>\n",
       "    <tr style=\"text-align: right;\">\n",
       "      <th></th>\n",
       "      <th>TF[CUDA memcpy DtoD] DeviceDevice 47.609326</th>\n",
       "      <th>TF[CUDA memcpy DtoH] DevicePinned 0.005725</th>\n",
       "      <th>TF[CUDA memcpy HtoD] PageableDevice 0.05174</th>\n",
       "      <th>TF[CUDA memcpy HtoD] PinnedDevice 2.457923</th>\n",
       "      <th>TF[CUDA memset] Device 9155.273438</th>\n",
       "      <th>HPCG[CUDA memcpy DtoD] DeviceDevice 97.81275</th>\n",
       "      <th>HPCG[CUDA memcpy DtoH] DevicePageable 8.030909</th>\n",
       "      <th>HPCG[CUDA memcpy DtoH] DevicePinned 12.210065</th>\n",
       "      <th>HPCG[CUDA memcpy HtoD] PageableDevice 6.859424</th>\n",
       "      <th>HPCG[CUDA memcpy HtoD] PinnedDevice 11.319035</th>\n",
       "      <th>HPCG[CUDA memset] Device 18084.490741</th>\n",
       "    </tr>\n",
       "    <tr>\n",
       "      <th>Start</th>\n",
       "      <th></th>\n",
       "      <th></th>\n",
       "      <th></th>\n",
       "      <th></th>\n",
       "      <th></th>\n",
       "      <th></th>\n",
       "      <th></th>\n",
       "      <th></th>\n",
       "      <th></th>\n",
       "      <th></th>\n",
       "      <th></th>\n",
       "    </tr>\n",
       "  </thead>\n",
       "  <tbody>\n",
       "    <tr>\n",
       "      <th>0.817201</th>\n",
       "      <td>0.0</td>\n",
       "      <td>0.0</td>\n",
       "      <td>0.0</td>\n",
       "      <td>0.000000</td>\n",
       "      <td>0.231928</td>\n",
       "      <td>NaN</td>\n",
       "      <td>NaN</td>\n",
       "      <td>NaN</td>\n",
       "      <td>NaN</td>\n",
       "      <td>NaN</td>\n",
       "      <td>NaN</td>\n",
       "    </tr>\n",
       "    <tr>\n",
       "      <th>1.201508</th>\n",
       "      <td>0.0</td>\n",
       "      <td>0.0</td>\n",
       "      <td>0.0</td>\n",
       "      <td>0.946105</td>\n",
       "      <td>0.000000</td>\n",
       "      <td>NaN</td>\n",
       "      <td>NaN</td>\n",
       "      <td>NaN</td>\n",
       "      <td>NaN</td>\n",
       "      <td>NaN</td>\n",
       "      <td>NaN</td>\n",
       "    </tr>\n",
       "    <tr>\n",
       "      <th>1.201676</th>\n",
       "      <td>0.0</td>\n",
       "      <td>0.0</td>\n",
       "      <td>0.0</td>\n",
       "      <td>0.002985</td>\n",
       "      <td>0.000000</td>\n",
       "      <td>NaN</td>\n",
       "      <td>NaN</td>\n",
       "      <td>NaN</td>\n",
       "      <td>NaN</td>\n",
       "      <td>NaN</td>\n",
       "      <td>NaN</td>\n",
       "    </tr>\n",
       "    <tr>\n",
       "      <th>1.201812</th>\n",
       "      <td>0.0</td>\n",
       "      <td>0.0</td>\n",
       "      <td>0.0</td>\n",
       "      <td>0.002985</td>\n",
       "      <td>0.000000</td>\n",
       "      <td>NaN</td>\n",
       "      <td>NaN</td>\n",
       "      <td>NaN</td>\n",
       "      <td>NaN</td>\n",
       "      <td>NaN</td>\n",
       "      <td>NaN</td>\n",
       "    </tr>\n",
       "    <tr>\n",
       "      <th>1.201944</th>\n",
       "      <td>0.0</td>\n",
       "      <td>0.0</td>\n",
       "      <td>0.0</td>\n",
       "      <td>0.186265</td>\n",
       "      <td>0.000000</td>\n",
       "      <td>NaN</td>\n",
       "      <td>NaN</td>\n",
       "      <td>NaN</td>\n",
       "      <td>NaN</td>\n",
       "      <td>NaN</td>\n",
       "      <td>NaN</td>\n",
       "    </tr>\n",
       "  </tbody>\n",
       "</table>\n",
       "</div>"
      ],
      "text/plain": [
       "          TF[CUDA memcpy DtoD] DeviceDevice 47.609326  \\\n",
       "Start                                                   \n",
       "0.817201                                          0.0   \n",
       "1.201508                                          0.0   \n",
       "1.201676                                          0.0   \n",
       "1.201812                                          0.0   \n",
       "1.201944                                          0.0   \n",
       "\n",
       "          TF[CUDA memcpy DtoH] DevicePinned 0.005725  \\\n",
       "Start                                                  \n",
       "0.817201                                         0.0   \n",
       "1.201508                                         0.0   \n",
       "1.201676                                         0.0   \n",
       "1.201812                                         0.0   \n",
       "1.201944                                         0.0   \n",
       "\n",
       "          TF[CUDA memcpy HtoD] PageableDevice 0.05174  \\\n",
       "Start                                                   \n",
       "0.817201                                          0.0   \n",
       "1.201508                                          0.0   \n",
       "1.201676                                          0.0   \n",
       "1.201812                                          0.0   \n",
       "1.201944                                          0.0   \n",
       "\n",
       "          TF[CUDA memcpy HtoD] PinnedDevice 2.457923  \\\n",
       "Start                                                  \n",
       "0.817201                                    0.000000   \n",
       "1.201508                                    0.946105   \n",
       "1.201676                                    0.002985   \n",
       "1.201812                                    0.002985   \n",
       "1.201944                                    0.186265   \n",
       "\n",
       "          TF[CUDA memset] Device 9155.273438  \\\n",
       "Start                                          \n",
       "0.817201                            0.231928   \n",
       "1.201508                            0.000000   \n",
       "1.201676                            0.000000   \n",
       "1.201812                            0.000000   \n",
       "1.201944                            0.000000   \n",
       "\n",
       "          HPCG[CUDA memcpy DtoD] DeviceDevice 97.81275  \\\n",
       "Start                                                    \n",
       "0.817201                                           NaN   \n",
       "1.201508                                           NaN   \n",
       "1.201676                                           NaN   \n",
       "1.201812                                           NaN   \n",
       "1.201944                                           NaN   \n",
       "\n",
       "          HPCG[CUDA memcpy DtoH] DevicePageable 8.030909  \\\n",
       "Start                                                      \n",
       "0.817201                                             NaN   \n",
       "1.201508                                             NaN   \n",
       "1.201676                                             NaN   \n",
       "1.201812                                             NaN   \n",
       "1.201944                                             NaN   \n",
       "\n",
       "          HPCG[CUDA memcpy DtoH] DevicePinned 12.210065  \\\n",
       "Start                                                     \n",
       "0.817201                                            NaN   \n",
       "1.201508                                            NaN   \n",
       "1.201676                                            NaN   \n",
       "1.201812                                            NaN   \n",
       "1.201944                                            NaN   \n",
       "\n",
       "          HPCG[CUDA memcpy HtoD] PageableDevice 6.859424  \\\n",
       "Start                                                      \n",
       "0.817201                                             NaN   \n",
       "1.201508                                             NaN   \n",
       "1.201676                                             NaN   \n",
       "1.201812                                             NaN   \n",
       "1.201944                                             NaN   \n",
       "\n",
       "          HPCG[CUDA memcpy HtoD] PinnedDevice 11.319035  \\\n",
       "Start                                                     \n",
       "0.817201                                            NaN   \n",
       "1.201508                                            NaN   \n",
       "1.201676                                            NaN   \n",
       "1.201812                                            NaN   \n",
       "1.201944                                            NaN   \n",
       "\n",
       "          HPCG[CUDA memset] Device 18084.490741  \n",
       "Start                                            \n",
       "0.817201                                    NaN  \n",
       "1.201508                                    NaN  \n",
       "1.201676                                    NaN  \n",
       "1.201812                                    NaN  \n",
       "1.201944                                    NaN  "
      ]
     },
     "execution_count": 81,
     "metadata": {},
     "output_type": "execute_result"
    }
   ],
   "source": [
    "df_full.iloc[:5]"
   ]
  },
  {
   "cell_type": "code",
   "execution_count": 82,
   "metadata": {
    "collapsed": false
   },
   "outputs": [
    {
     "data": {
      "text/plain": [
       "<matplotlib.axes._subplots.AxesSubplot at 0x125968490>"
      ]
     },
     "execution_count": 82,
     "metadata": {},
     "output_type": "execute_result"
    },
    {
     "data": {
      "image/png": "[encoded data removed]",
      "text/plain": [
       "<matplotlib.figure.Figure at 0x1115314d0>"
      ]
     },
     "metadata": {},
     "output_type": "display_data"
    }
   ],
   "source": [
    "df_full.plot.box(logy = True, grid = True, rot=90)"
   ]
  },
  {
   "cell_type": "markdown",
   "metadata": {},
   "source": [
    "#### Without memset"
   ]
  },
  {
   "cell_type": "code",
   "execution_count": 83,
   "metadata": {
    "collapsed": false
   },
   "outputs": [
    {
     "data": {
      "text/html": [
       "<div>\n",
       "<style scoped>\n",
       "    .dataframe tbody tr th:only-of-type {\n",
       "        vertical-align: middle;\n",
       "    }\n",
       "\n",
       "    .dataframe tbody tr th {\n",
       "        vertical-align: top;\n",
       "    }\n",
       "\n",
       "    .dataframe thead th {\n",
       "        text-align: right;\n",
       "    }\n",
       "</style>\n",
       "<table border=\"1\" class=\"dataframe\">\n",
       "  <thead>\n",
       "    <tr style=\"text-align: right;\">\n",
       "      <th></th>\n",
       "      <th>HPCG[CUDA memcpy DtoD] DeviceDevice 97.81275</th>\n",
       "      <th>HPCG[CUDA memcpy DtoH] DevicePageable 8.030909</th>\n",
       "      <th>HPCG[CUDA memcpy DtoH] DevicePinned 12.210065</th>\n",
       "      <th>HPCG[CUDA memcpy HtoD] PageableDevice 6.859424</th>\n",
       "      <th>HPCG[CUDA memcpy HtoD] PinnedDevice 11.319035</th>\n",
       "      <th>TF[CUDA memcpy DtoD] DeviceDevice 47.609326</th>\n",
       "      <th>TF[CUDA memcpy DtoH] DevicePinned 0.005725</th>\n",
       "      <th>TF[CUDA memcpy HtoD] PageableDevice 0.05174</th>\n",
       "      <th>TF[CUDA memcpy HtoD] PinnedDevice 2.457923</th>\n",
       "    </tr>\n",
       "    <tr>\n",
       "      <th>Start</th>\n",
       "      <th></th>\n",
       "      <th></th>\n",
       "      <th></th>\n",
       "      <th></th>\n",
       "      <th></th>\n",
       "      <th></th>\n",
       "      <th></th>\n",
       "      <th></th>\n",
       "      <th></th>\n",
       "    </tr>\n",
       "  </thead>\n",
       "  <tbody>\n",
       "    <tr>\n",
       "      <th>0.817201</th>\n",
       "      <td>0.0</td>\n",
       "      <td>0.0</td>\n",
       "      <td>0.0</td>\n",
       "      <td>0.0</td>\n",
       "      <td>0.0</td>\n",
       "      <td>0.0</td>\n",
       "      <td>0.0</td>\n",
       "      <td>0.0</td>\n",
       "      <td>0.000000</td>\n",
       "    </tr>\n",
       "    <tr>\n",
       "      <th>1.201508</th>\n",
       "      <td>0.0</td>\n",
       "      <td>0.0</td>\n",
       "      <td>0.0</td>\n",
       "      <td>0.0</td>\n",
       "      <td>0.0</td>\n",
       "      <td>0.0</td>\n",
       "      <td>0.0</td>\n",
       "      <td>0.0</td>\n",
       "      <td>0.946105</td>\n",
       "    </tr>\n",
       "    <tr>\n",
       "      <th>1.201676</th>\n",
       "      <td>0.0</td>\n",
       "      <td>0.0</td>\n",
       "      <td>0.0</td>\n",
       "      <td>0.0</td>\n",
       "      <td>0.0</td>\n",
       "      <td>0.0</td>\n",
       "      <td>0.0</td>\n",
       "      <td>0.0</td>\n",
       "      <td>0.002985</td>\n",
       "    </tr>\n",
       "  </tbody>\n",
       "</table>\n",
       "</div>"
      ],
      "text/plain": [
       "          HPCG[CUDA memcpy DtoD] DeviceDevice 97.81275  \\\n",
       "Start                                                    \n",
       "0.817201                                           0.0   \n",
       "1.201508                                           0.0   \n",
       "1.201676                                           0.0   \n",
       "\n",
       "          HPCG[CUDA memcpy DtoH] DevicePageable 8.030909  \\\n",
       "Start                                                      \n",
       "0.817201                                             0.0   \n",
       "1.201508                                             0.0   \n",
       "1.201676                                             0.0   \n",
       "\n",
       "          HPCG[CUDA memcpy DtoH] DevicePinned 12.210065  \\\n",
       "Start                                                     \n",
       "0.817201                                            0.0   \n",
       "1.201508                                            0.0   \n",
       "1.201676                                            0.0   \n",
       "\n",
       "          HPCG[CUDA memcpy HtoD] PageableDevice 6.859424  \\\n",
       "Start                                                      \n",
       "0.817201                                             0.0   \n",
       "1.201508                                             0.0   \n",
       "1.201676                                             0.0   \n",
       "\n",
       "          HPCG[CUDA memcpy HtoD] PinnedDevice 11.319035  \\\n",
       "Start                                                     \n",
       "0.817201                                            0.0   \n",
       "1.201508                                            0.0   \n",
       "1.201676                                            0.0   \n",
       "\n",
       "          TF[CUDA memcpy DtoD] DeviceDevice 47.609326  \\\n",
       "Start                                                   \n",
       "0.817201                                          0.0   \n",
       "1.201508                                          0.0   \n",
       "1.201676                                          0.0   \n",
       "\n",
       "          TF[CUDA memcpy DtoH] DevicePinned 0.005725  \\\n",
       "Start                                                  \n",
       "0.817201                                         0.0   \n",
       "1.201508                                         0.0   \n",
       "1.201676                                         0.0   \n",
       "\n",
       "          TF[CUDA memcpy HtoD] PageableDevice 0.05174  \\\n",
       "Start                                                   \n",
       "0.817201                                          0.0   \n",
       "1.201508                                          0.0   \n",
       "1.201676                                          0.0   \n",
       "\n",
       "          TF[CUDA memcpy HtoD] PinnedDevice 2.457923  \n",
       "Start                                                 \n",
       "0.817201                                    0.000000  \n",
       "1.201508                                    0.946105  \n",
       "1.201676                                    0.002985  "
      ]
     },
     "execution_count": 83,
     "metadata": {},
     "output_type": "execute_result"
    }
   ],
   "source": [
    "cols1 = df_full.columns[0:4]\n",
    "cols2 = df_full.columns[5:10]\n",
    "df_full = df_full[cols1 | cols2].fillna(0)\n",
    "df_full.iloc[:3]"
   ]
  },
  {
   "cell_type": "code",
   "execution_count": 128,
   "metadata": {
    "collapsed": false
   },
   "outputs": [
    {
     "name": "stdout",
     "output_type": "stream",
     "text": [
      "0    0.047241\n",
      "1    0.051740\n",
      "Name: TF[CUDA memcpy HtoD] PageableDevice 0.05174, dtype: float64\n",
      "0    0.946105\n",
      "1    0.002985\n",
      "2    0.002985\n",
      "Name: TF[CUDA memcpy HtoD] PinnedDevice 2.457923, dtype: float64\n"
     ]
    }
   ],
   "source": [
    "x1 = df_full[\"TF[CUDA memcpy HtoD] PageableDevice 0.05174\"]\n",
    "x1 = x1[x1 > 0]\n",
    "x1 = x1.reset_index(drop=True)\n",
    "\n",
    "x2 = df_full[\"TF[CUDA memcpy HtoD] PinnedDevice 2.457923\"]\n",
    "x2 = x2[x2 > 0]\n",
    "x2 = x2.reset_index(drop=True)\n",
    "\n",
    "print x1.head(3)\n",
    "print x2.head(3)"
   ]
  },
  {
   "cell_type": "code",
   "execution_count": 132,
   "metadata": {
    "collapsed": false
   },
   "outputs": [
    {
     "data": {
      "text/html": [
       "<div>\n",
       "<style scoped>\n",
       "    .dataframe tbody tr th:only-of-type {\n",
       "        vertical-align: middle;\n",
       "    }\n",
       "\n",
       "    .dataframe tbody tr th {\n",
       "        vertical-align: top;\n",
       "    }\n",
       "\n",
       "    .dataframe thead th {\n",
       "        text-align: right;\n",
       "    }\n",
       "</style>\n",
       "<table border=\"1\" class=\"dataframe\">\n",
       "  <thead>\n",
       "    <tr style=\"text-align: right;\">\n",
       "      <th></th>\n",
       "      <th>TF[CUDA memcpy HtoD] PageableDevice 0.05174</th>\n",
       "      <th>TF[CUDA memcpy HtoD] PinnedDevice 2.457923</th>\n",
       "    </tr>\n",
       "  </thead>\n",
       "  <tbody>\n",
       "    <tr>\n",
       "      <th>0</th>\n",
       "      <td>0.047241</td>\n",
       "      <td>0.946105</td>\n",
       "    </tr>\n",
       "    <tr>\n",
       "      <th>1</th>\n",
       "      <td>0.051740</td>\n",
       "      <td>0.002985</td>\n",
       "    </tr>\n",
       "    <tr>\n",
       "      <th>2</th>\n",
       "      <td>NaN</td>\n",
       "      <td>0.002985</td>\n",
       "    </tr>\n",
       "    <tr>\n",
       "      <th>3</th>\n",
       "      <td>NaN</td>\n",
       "      <td>0.186265</td>\n",
       "    </tr>\n",
       "    <tr>\n",
       "      <th>4</th>\n",
       "      <td>NaN</td>\n",
       "      <td>0.181721</td>\n",
       "    </tr>\n",
       "  </tbody>\n",
       "</table>\n",
       "</div>"
      ],
      "text/plain": [
       "   TF[CUDA memcpy HtoD] PageableDevice 0.05174  \\\n",
       "0                                     0.047241   \n",
       "1                                     0.051740   \n",
       "2                                          NaN   \n",
       "3                                          NaN   \n",
       "4                                          NaN   \n",
       "\n",
       "   TF[CUDA memcpy HtoD] PinnedDevice 2.457923  \n",
       "0                                    0.946105  \n",
       "1                                    0.002985  \n",
       "2                                    0.002985  \n",
       "3                                    0.186265  \n",
       "4                                    0.181721  "
      ]
     },
     "execution_count": 132,
     "metadata": {},
     "output_type": "execute_result"
    }
   ],
   "source": [
    "dfc = pd.concat([x1,x2],axis=1)\n",
    "dfc.iloc[:5]"
   ]
  },
  {
   "cell_type": "code",
   "execution_count": 151,
   "metadata": {
    "collapsed": false
   },
   "outputs": [
    {
     "name": "stdout",
     "output_type": "stream",
     "text": [
      "(6006,) 6006 1\n",
      "(5888,) 5888 2\n",
      "(59,) 59 3\n",
      "(4,) 4 4\n",
      "(5,) 5 5\n",
      "(598,) 598 6\n",
      "(660,) 660 7\n",
      "(2,) 2 8\n",
      "(519,) 519 9\n"
     ]
    }
   ],
   "source": [
    "x_arr = []\n",
    "names = []\n",
    "for column in df_full: \n",
    "    x = df_full[column]\n",
    "    x = x[x != 0]\n",
    "    print x.shape,\n",
    "    arr = x.values\n",
    "    print len(arr),\n",
    "    x_arr.append(arr)\n",
    "    names.append(column)\n",
    "    print len(x_arr)"
   ]
  },
  {
   "cell_type": "code",
   "execution_count": 157,
   "metadata": {
    "collapsed": false
   },
   "outputs": [
    {
     "data": {
      "image/png": "[encoded data removed]",
      "text/plain": [
       "<matplotlib.figure.Figure at 0x12f2fe7d0>"
      ]
     },
     "metadata": {},
     "output_type": "display_data"
    }
   ],
   "source": [
    "plt.figure()\n",
    "plt.boxplot(x_arr, 0, '', labels = names)\n",
    "plt.xticks(rotation=90)\n",
    "ax = plt.gca()\n",
    "ax.set_yscale(\"log\")\n",
    "ax.yaxis.grid(color=\"#e0e0e0\", linestyle=\":\",linewidth=0.5)\n",
    "plt.show()"
   ]
  },
  {
   "cell_type": "markdown",
   "metadata": {},
   "source": [
    "### Split df_throughput into several dataframes for plotting"
   ]
  },
  {
   "cell_type": "code",
   "execution_count": 88,
   "metadata": {
    "collapsed": false
   },
   "outputs": [
    {
     "data": {
      "text/html": [
       "<div>\n",
       "<style scoped>\n",
       "    .dataframe tbody tr th:only-of-type {\n",
       "        vertical-align: middle;\n",
       "    }\n",
       "\n",
       "    .dataframe tbody tr th {\n",
       "        vertical-align: top;\n",
       "    }\n",
       "\n",
       "    .dataframe thead th {\n",
       "        text-align: right;\n",
       "    }\n",
       "</style>\n",
       "<table border=\"1\" class=\"dataframe\">\n",
       "  <thead>\n",
       "    <tr style=\"text-align: right;\">\n",
       "      <th></th>\n",
       "      <th>TF[CUDA memcpy DtoD] DeviceDevice 47.609326</th>\n",
       "    </tr>\n",
       "    <tr>\n",
       "      <th>Start</th>\n",
       "      <th></th>\n",
       "    </tr>\n",
       "  </thead>\n",
       "  <tbody>\n",
       "    <tr>\n",
       "      <th>0.817201</th>\n",
       "      <td>0.0</td>\n",
       "    </tr>\n",
       "    <tr>\n",
       "      <th>1.201508</th>\n",
       "      <td>0.0</td>\n",
       "    </tr>\n",
       "    <tr>\n",
       "      <th>1.201676</th>\n",
       "      <td>0.0</td>\n",
       "    </tr>\n",
       "  </tbody>\n",
       "</table>\n",
       "</div>"
      ],
      "text/plain": [
       "          TF[CUDA memcpy DtoD] DeviceDevice 47.609326\n",
       "Start                                                \n",
       "0.817201                                          0.0\n",
       "1.201508                                          0.0\n",
       "1.201676                                          0.0"
      ]
     },
     "execution_count": 88,
     "metadata": {},
     "output_type": "execute_result"
    }
   ],
   "source": [
    "df_DD_TF = df_tf_throughput.filter(regex=(\".*DtoD.*\"))\n",
    "df_DD_TF.iloc[:3]"
   ]
  },
  {
   "cell_type": "code",
   "execution_count": 89,
   "metadata": {
    "collapsed": false
   },
   "outputs": [
    {
     "data": {
      "text/html": [
       "<div>\n",
       "<style scoped>\n",
       "    .dataframe tbody tr th:only-of-type {\n",
       "        vertical-align: middle;\n",
       "    }\n",
       "\n",
       "    .dataframe tbody tr th {\n",
       "        vertical-align: top;\n",
       "    }\n",
       "\n",
       "    .dataframe thead th {\n",
       "        text-align: right;\n",
       "    }\n",
       "</style>\n",
       "<table border=\"1\" class=\"dataframe\">\n",
       "  <thead>\n",
       "    <tr style=\"text-align: right;\">\n",
       "      <th></th>\n",
       "      <th>HPCG[CUDA memcpy DtoD] DeviceDevice 97.81275</th>\n",
       "    </tr>\n",
       "    <tr>\n",
       "      <th>Start</th>\n",
       "      <th></th>\n",
       "    </tr>\n",
       "  </thead>\n",
       "  <tbody>\n",
       "    <tr>\n",
       "      <th>12.257619</th>\n",
       "      <td>0.0</td>\n",
       "    </tr>\n",
       "    <tr>\n",
       "      <th>17.538188</th>\n",
       "      <td>0.0</td>\n",
       "    </tr>\n",
       "    <tr>\n",
       "      <th>17.557663</th>\n",
       "      <td>0.0</td>\n",
       "    </tr>\n",
       "  </tbody>\n",
       "</table>\n",
       "</div>"
      ],
      "text/plain": [
       "           HPCG[CUDA memcpy DtoD] DeviceDevice 97.81275\n",
       "Start                                                  \n",
       "12.257619                                           0.0\n",
       "17.538188                                           0.0\n",
       "17.557663                                           0.0"
      ]
     },
     "execution_count": 89,
     "metadata": {},
     "output_type": "execute_result"
    }
   ],
   "source": [
    "df_DD_HPCG = df_hpcg_throughput.filter(regex=(\".*DtoD.*\"))\n",
    "df_DD_HPCG.iloc[:3]"
   ]
  },
  {
   "cell_type": "markdown",
   "metadata": {},
   "source": [
    "## TF vs HPCG DtoD memcpy"
   ]
  },
  {
   "cell_type": "code",
   "execution_count": 90,
   "metadata": {
    "collapsed": false
   },
   "outputs": [
    {
     "name": "stderr",
     "output_type": "stream",
     "text": [
      "/usr/local/lib/python2.7/site-packages/matplotlib/figure.py:418: UserWarning: matplotlib is currently using a non-GUI backend, so cannot show the figure\n",
      "  \"matplotlib is currently using a non-GUI backend, \"\n"
     ]
    },
    {
     "data": {
      "image/png": "[encoded data removed]",
      "text/plain": [
       "<matplotlib.figure.Figure at 0x125b08450>"
      ]
     },
     "metadata": {},
     "output_type": "display_data"
    }
   ],
   "source": [
    "fig, axarr = plt.subplots(2)\n",
    "df_DD_TF.plot(drawstyle=\"steps-post\",ax = axarr[0])\n",
    "df_DD_HPCG.plot(drawstyle=\"steps-post\",ax = axarr[1])\n",
    "for axis in axarr:\n",
    "    axis.legend()\n",
    "    axis.xaxis.grid(color=\"#e0e0e0\", linestyle=\":\",linewidth=0.5)\n",
    "    axis.xaxis.set_major_locator(plt.MaxNLocator(24))\n",
    "fig.show()"
   ]
  },
  {
   "cell_type": "code",
   "execution_count": 87,
   "metadata": {
    "collapsed": false
   },
   "outputs": [
    {
     "data": {
      "text/html": [
       "<div>\n",
       "<style scoped>\n",
       "    .dataframe tbody tr th:only-of-type {\n",
       "        vertical-align: middle;\n",
       "    }\n",
       "\n",
       "    .dataframe tbody tr th {\n",
       "        vertical-align: top;\n",
       "    }\n",
       "\n",
       "    .dataframe thead th {\n",
       "        text-align: right;\n",
       "    }\n",
       "</style>\n",
       "<table border=\"1\" class=\"dataframe\">\n",
       "  <thead>\n",
       "    <tr style=\"text-align: right;\">\n",
       "      <th></th>\n",
       "      <th>HPCG[CUDA memcpy DtoH] DevicePageable 8.030909</th>\n",
       "      <th>HPCG[CUDA memcpy DtoH] DevicePinned 12.210065</th>\n",
       "      <th>HPCG[CUDA memcpy HtoD] PageableDevice 6.859424</th>\n",
       "      <th>HPCG[CUDA memcpy HtoD] PinnedDevice 11.319035</th>\n",
       "      <th>TF[CUDA memcpy DtoH] DevicePinned 0.005725</th>\n",
       "      <th>TF[CUDA memcpy HtoD] PageableDevice 0.05174</th>\n",
       "      <th>TF[CUDA memcpy HtoD] PinnedDevice 2.457923</th>\n",
       "    </tr>\n",
       "    <tr>\n",
       "      <th>Start</th>\n",
       "      <th></th>\n",
       "      <th></th>\n",
       "      <th></th>\n",
       "      <th></th>\n",
       "      <th></th>\n",
       "      <th></th>\n",
       "      <th></th>\n",
       "    </tr>\n",
       "  </thead>\n",
       "  <tbody>\n",
       "    <tr>\n",
       "      <th>0.817201</th>\n",
       "      <td>0.0</td>\n",
       "      <td>0.0</td>\n",
       "      <td>0.0</td>\n",
       "      <td>0.0</td>\n",
       "      <td>0.0</td>\n",
       "      <td>0.0</td>\n",
       "      <td>0.000000</td>\n",
       "    </tr>\n",
       "    <tr>\n",
       "      <th>1.201508</th>\n",
       "      <td>0.0</td>\n",
       "      <td>0.0</td>\n",
       "      <td>0.0</td>\n",
       "      <td>0.0</td>\n",
       "      <td>0.0</td>\n",
       "      <td>0.0</td>\n",
       "      <td>0.946105</td>\n",
       "    </tr>\n",
       "    <tr>\n",
       "      <th>1.201676</th>\n",
       "      <td>0.0</td>\n",
       "      <td>0.0</td>\n",
       "      <td>0.0</td>\n",
       "      <td>0.0</td>\n",
       "      <td>0.0</td>\n",
       "      <td>0.0</td>\n",
       "      <td>0.002985</td>\n",
       "    </tr>\n",
       "  </tbody>\n",
       "</table>\n",
       "</div>"
      ],
      "text/plain": [
       "          HPCG[CUDA memcpy DtoH] DevicePageable 8.030909  \\\n",
       "Start                                                      \n",
       "0.817201                                             0.0   \n",
       "1.201508                                             0.0   \n",
       "1.201676                                             0.0   \n",
       "\n",
       "          HPCG[CUDA memcpy DtoH] DevicePinned 12.210065  \\\n",
       "Start                                                     \n",
       "0.817201                                            0.0   \n",
       "1.201508                                            0.0   \n",
       "1.201676                                            0.0   \n",
       "\n",
       "          HPCG[CUDA memcpy HtoD] PageableDevice 6.859424  \\\n",
       "Start                                                      \n",
       "0.817201                                             0.0   \n",
       "1.201508                                             0.0   \n",
       "1.201676                                             0.0   \n",
       "\n",
       "          HPCG[CUDA memcpy HtoD] PinnedDevice 11.319035  \\\n",
       "Start                                                     \n",
       "0.817201                                            0.0   \n",
       "1.201508                                            0.0   \n",
       "1.201676                                            0.0   \n",
       "\n",
       "          TF[CUDA memcpy DtoH] DevicePinned 0.005725  \\\n",
       "Start                                                  \n",
       "0.817201                                         0.0   \n",
       "1.201508                                         0.0   \n",
       "1.201676                                         0.0   \n",
       "\n",
       "          TF[CUDA memcpy HtoD] PageableDevice 0.05174  \\\n",
       "Start                                                   \n",
       "0.817201                                          0.0   \n",
       "1.201508                                          0.0   \n",
       "1.201676                                          0.0   \n",
       "\n",
       "          TF[CUDA memcpy HtoD] PinnedDevice 2.457923  \n",
       "Start                                                 \n",
       "0.817201                                    0.000000  \n",
       "1.201508                                    0.946105  \n",
       "1.201676                                    0.002985  "
      ]
     },
     "execution_count": 87,
     "metadata": {},
     "output_type": "execute_result"
    }
   ],
   "source": [
    "df_DH = df_full.filter(regex=(\".*(HtoD|DtoH).*\"))\n",
    "df_DH.iloc[:3]"
   ]
  },
  {
   "cell_type": "code",
   "execution_count": null,
   "metadata": {
    "collapsed": true
   },
   "outputs": [],
   "source": []
  },
  {
   "cell_type": "code",
   "execution_count": 65,
   "metadata": {
    "collapsed": false
   },
   "outputs": [],
   "source": [
    "colD2D = [df_full.columns[0],df_full.columns[5]]\n",
    "colmemset = [df_full.columns[4],df_full.columns[10]]\n",
    "colHD1 = df_full.columns[1:4]\n",
    "colHD2 = df_full.columns[6:10]\n",
    "df_1 = df_full[colD2D].fillna(0)\n",
    "df_2 = df_full[colmemset].fillna(0)\n",
    "df_3 = df_full[colHD1 | colHD2].fillna(0)"
   ]
  },
  {
   "cell_type": "code",
   "execution_count": 66,
   "metadata": {
    "collapsed": false
   },
   "outputs": [
    {
     "data": {
      "text/html": [
       "<div>\n",
       "<style scoped>\n",
       "    .dataframe tbody tr th:only-of-type {\n",
       "        vertical-align: middle;\n",
       "    }\n",
       "\n",
       "    .dataframe tbody tr th {\n",
       "        vertical-align: top;\n",
       "    }\n",
       "\n",
       "    .dataframe thead th {\n",
       "        text-align: right;\n",
       "    }\n",
       "</style>\n",
       "<table border=\"1\" class=\"dataframe\">\n",
       "  <thead>\n",
       "    <tr style=\"text-align: right;\">\n",
       "      <th></th>\n",
       "      <th>TF[CUDA memcpy DtoD] DeviceDevice 47.609326</th>\n",
       "      <th>HPCG[CUDA memcpy DtoD] DeviceDevice 97.81275</th>\n",
       "    </tr>\n",
       "    <tr>\n",
       "      <th>Start</th>\n",
       "      <th></th>\n",
       "      <th></th>\n",
       "    </tr>\n",
       "  </thead>\n",
       "  <tbody>\n",
       "    <tr>\n",
       "      <th>0.817201</th>\n",
       "      <td>0.0</td>\n",
       "      <td>0.0</td>\n",
       "    </tr>\n",
       "    <tr>\n",
       "      <th>1.201508</th>\n",
       "      <td>0.0</td>\n",
       "      <td>0.0</td>\n",
       "    </tr>\n",
       "    <tr>\n",
       "      <th>1.201676</th>\n",
       "      <td>0.0</td>\n",
       "      <td>0.0</td>\n",
       "    </tr>\n",
       "  </tbody>\n",
       "</table>\n",
       "</div>"
      ],
      "text/plain": [
       "          TF[CUDA memcpy DtoD] DeviceDevice 47.609326  \\\n",
       "Start                                                   \n",
       "0.817201                                          0.0   \n",
       "1.201508                                          0.0   \n",
       "1.201676                                          0.0   \n",
       "\n",
       "          HPCG[CUDA memcpy DtoD] DeviceDevice 97.81275  \n",
       "Start                                                   \n",
       "0.817201                                           0.0  \n",
       "1.201508                                           0.0  \n",
       "1.201676                                           0.0  "
      ]
     },
     "execution_count": 66,
     "metadata": {},
     "output_type": "execute_result"
    }
   ],
   "source": [
    "df_1.iloc[:3]"
   ]
  },
  {
   "cell_type": "code",
   "execution_count": 67,
   "metadata": {
    "collapsed": false
   },
   "outputs": [
    {
     "data": {
      "text/html": [
       "<div>\n",
       "<style scoped>\n",
       "    .dataframe tbody tr th:only-of-type {\n",
       "        vertical-align: middle;\n",
       "    }\n",
       "\n",
       "    .dataframe tbody tr th {\n",
       "        vertical-align: top;\n",
       "    }\n",
       "\n",
       "    .dataframe thead th {\n",
       "        text-align: right;\n",
       "    }\n",
       "</style>\n",
       "<table border=\"1\" class=\"dataframe\">\n",
       "  <thead>\n",
       "    <tr style=\"text-align: right;\">\n",
       "      <th></th>\n",
       "      <th>TF[CUDA memset] Device 9155.273438</th>\n",
       "      <th>HPCG[CUDA memset] Device 18084.490741</th>\n",
       "    </tr>\n",
       "    <tr>\n",
       "      <th>Start</th>\n",
       "      <th></th>\n",
       "      <th></th>\n",
       "    </tr>\n",
       "  </thead>\n",
       "  <tbody>\n",
       "    <tr>\n",
       "      <th>0.817201</th>\n",
       "      <td>0.231928</td>\n",
       "      <td>0.0</td>\n",
       "    </tr>\n",
       "    <tr>\n",
       "      <th>1.201508</th>\n",
       "      <td>0.000000</td>\n",
       "      <td>0.0</td>\n",
       "    </tr>\n",
       "    <tr>\n",
       "      <th>1.201676</th>\n",
       "      <td>0.000000</td>\n",
       "      <td>0.0</td>\n",
       "    </tr>\n",
       "  </tbody>\n",
       "</table>\n",
       "</div>"
      ],
      "text/plain": [
       "          TF[CUDA memset] Device 9155.273438  \\\n",
       "Start                                          \n",
       "0.817201                            0.231928   \n",
       "1.201508                            0.000000   \n",
       "1.201676                            0.000000   \n",
       "\n",
       "          HPCG[CUDA memset] Device 18084.490741  \n",
       "Start                                            \n",
       "0.817201                                    0.0  \n",
       "1.201508                                    0.0  \n",
       "1.201676                                    0.0  "
      ]
     },
     "execution_count": 67,
     "metadata": {},
     "output_type": "execute_result"
    }
   ],
   "source": [
    "df_2.iloc[:3]"
   ]
  },
  {
   "cell_type": "code",
   "execution_count": 68,
   "metadata": {
    "collapsed": false
   },
   "outputs": [
    {
     "data": {
      "text/html": [
       "<div>\n",
       "<style scoped>\n",
       "    .dataframe tbody tr th:only-of-type {\n",
       "        vertical-align: middle;\n",
       "    }\n",
       "\n",
       "    .dataframe tbody tr th {\n",
       "        vertical-align: top;\n",
       "    }\n",
       "\n",
       "    .dataframe thead th {\n",
       "        text-align: right;\n",
       "    }\n",
       "</style>\n",
       "<table border=\"1\" class=\"dataframe\">\n",
       "  <thead>\n",
       "    <tr style=\"text-align: right;\">\n",
       "      <th></th>\n",
       "      <th>HPCG[CUDA memcpy DtoH] DevicePageable 8.030909</th>\n",
       "      <th>HPCG[CUDA memcpy DtoH] DevicePinned 12.210065</th>\n",
       "      <th>HPCG[CUDA memcpy HtoD] PageableDevice 6.859424</th>\n",
       "      <th>HPCG[CUDA memcpy HtoD] PinnedDevice 11.319035</th>\n",
       "      <th>TF[CUDA memcpy DtoH] DevicePinned 0.005725</th>\n",
       "      <th>TF[CUDA memcpy HtoD] PageableDevice 0.05174</th>\n",
       "      <th>TF[CUDA memcpy HtoD] PinnedDevice 2.457923</th>\n",
       "    </tr>\n",
       "    <tr>\n",
       "      <th>Start</th>\n",
       "      <th></th>\n",
       "      <th></th>\n",
       "      <th></th>\n",
       "      <th></th>\n",
       "      <th></th>\n",
       "      <th></th>\n",
       "      <th></th>\n",
       "    </tr>\n",
       "  </thead>\n",
       "  <tbody>\n",
       "    <tr>\n",
       "      <th>0.817201</th>\n",
       "      <td>0.0</td>\n",
       "      <td>0.0</td>\n",
       "      <td>0.0</td>\n",
       "      <td>0.0</td>\n",
       "      <td>0.0</td>\n",
       "      <td>0.0</td>\n",
       "      <td>0.000000</td>\n",
       "    </tr>\n",
       "    <tr>\n",
       "      <th>1.201508</th>\n",
       "      <td>0.0</td>\n",
       "      <td>0.0</td>\n",
       "      <td>0.0</td>\n",
       "      <td>0.0</td>\n",
       "      <td>0.0</td>\n",
       "      <td>0.0</td>\n",
       "      <td>0.946105</td>\n",
       "    </tr>\n",
       "    <tr>\n",
       "      <th>1.201676</th>\n",
       "      <td>0.0</td>\n",
       "      <td>0.0</td>\n",
       "      <td>0.0</td>\n",
       "      <td>0.0</td>\n",
       "      <td>0.0</td>\n",
       "      <td>0.0</td>\n",
       "      <td>0.002985</td>\n",
       "    </tr>\n",
       "  </tbody>\n",
       "</table>\n",
       "</div>"
      ],
      "text/plain": [
       "          HPCG[CUDA memcpy DtoH] DevicePageable 8.030909  \\\n",
       "Start                                                      \n",
       "0.817201                                             0.0   \n",
       "1.201508                                             0.0   \n",
       "1.201676                                             0.0   \n",
       "\n",
       "          HPCG[CUDA memcpy DtoH] DevicePinned 12.210065  \\\n",
       "Start                                                     \n",
       "0.817201                                            0.0   \n",
       "1.201508                                            0.0   \n",
       "1.201676                                            0.0   \n",
       "\n",
       "          HPCG[CUDA memcpy HtoD] PageableDevice 6.859424  \\\n",
       "Start                                                      \n",
       "0.817201                                             0.0   \n",
       "1.201508                                             0.0   \n",
       "1.201676                                             0.0   \n",
       "\n",
       "          HPCG[CUDA memcpy HtoD] PinnedDevice 11.319035  \\\n",
       "Start                                                     \n",
       "0.817201                                            0.0   \n",
       "1.201508                                            0.0   \n",
       "1.201676                                            0.0   \n",
       "\n",
       "          TF[CUDA memcpy DtoH] DevicePinned 0.005725  \\\n",
       "Start                                                  \n",
       "0.817201                                         0.0   \n",
       "1.201508                                         0.0   \n",
       "1.201676                                         0.0   \n",
       "\n",
       "          TF[CUDA memcpy HtoD] PageableDevice 0.05174  \\\n",
       "Start                                                   \n",
       "0.817201                                          0.0   \n",
       "1.201508                                          0.0   \n",
       "1.201676                                          0.0   \n",
       "\n",
       "          TF[CUDA memcpy HtoD] PinnedDevice 2.457923  \n",
       "Start                                                 \n",
       "0.817201                                    0.000000  \n",
       "1.201508                                    0.946105  \n",
       "1.201676                                    0.002985  "
      ]
     },
     "execution_count": 68,
     "metadata": {},
     "output_type": "execute_result"
    }
   ],
   "source": [
    "df_3.iloc[:3]"
   ]
  },
  {
   "cell_type": "code",
   "execution_count": 71,
   "metadata": {
    "collapsed": false
   },
   "outputs": [
    {
     "data": {
      "text/plain": [
       "<matplotlib.axes._subplots.AxesSubplot at 0x1119e6e90>"
      ]
     },
     "execution_count": 71,
     "metadata": {},
     "output_type": "execute_result"
    },
    {
     "data": {
      "image/png": "[encoded data removed]",
      "text/plain": [
       "<matplotlib.figure.Figure at 0x1119e0e50>"
      ]
     },
     "metadata": {},
     "output_type": "display_data"
    }
   ],
   "source": [
    "df_1.plot(drawstyle=\"steps-post\", alpha=0.7, grid = True)"
   ]
  },
  {
   "cell_type": "code",
   "execution_count": 72,
   "metadata": {
    "collapsed": false
   },
   "outputs": [
    {
     "data": {
      "text/plain": [
       "<matplotlib.axes._subplots.AxesSubplot at 0x1119e2f90>"
      ]
     },
     "execution_count": 72,
     "metadata": {},
     "output_type": "execute_result"
    },
    {
     "data": {
      "image/png": "[encoded data removed]",
      "text/plain": [
       "<matplotlib.figure.Figure at 0x11210a050>"
      ]
     },
     "metadata": {},
     "output_type": "display_data"
    }
   ],
   "source": [
    "df_2.plot(drawstyle=\"steps-post\", alpha=0.7, grid = True)"
   ]
  },
  {
   "cell_type": "code",
   "execution_count": 104,
   "metadata": {
    "collapsed": false
   },
   "outputs": [
    {
     "data": {
      "text/plain": [
       "<matplotlib.axes._subplots.AxesSubplot at 0x10c19a510>"
      ]
     },
     "execution_count": 104,
     "metadata": {},
     "output_type": "execute_result"
    },
    {
     "data": {
      "image/png": "[encoded data removed]",
      "text/plain": [
       "<matplotlib.figure.Figure at 0x10c1e6390>"
      ]
     },
     "metadata": {},
     "output_type": "display_data"
    }
   ],
   "source": [
    "df_3.plot(drawstyle=\"steps-post\", grid = True)"
   ]
  },
  {
   "cell_type": "code",
   "execution_count": null,
   "metadata": {
    "collapsed": true
   },
   "outputs": [],
   "source": []
  }
 ],
 "metadata": {
  "kernelspec": {
   "display_name": "Python 2",
   "language": "python",
   "name": "python2"
  },
  "language_info": {
   "codemirror_mode": {
    "name": "ipython",
    "version": 2
   },
   "file_extension": ".py",
   "mimetype": "text/x-python",
   "name": "python",
   "nbconvert_exporter": "python",
   "pygments_lexer": "ipython2",
   "version": "2.7.12"
  }
 },
 "nbformat": 4,
 "nbformat_minor": 1
}
